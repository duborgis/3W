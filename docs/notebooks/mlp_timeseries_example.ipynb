{
    "cells": [
        {
            "cell_type": "markdown",
            "id": "b6a99296",
            "metadata": {},
            "source": [
                "# Training an MLP on Time Series Data\n",
                "This notebook demonstrates how to train a Multi-Layer Perceptron (MLP) on synthetic time series data using the ThreeWToolkit."
            ]
        },
        {
            "cell_type": "code",
            "execution_count": null,
            "id": "96102e1d",
            "metadata": {},
            "outputs": [],
            "source": [
                "import sys\n",
                "import os\n",
                "import numpy as np\n",
                "import pandas as pd\n",
                "import matplotlib.pyplot as plt\n",
                "import torch\n",
                "from tqdm import tqdm\n",
                "from pathlib import Path\n",
                "\n",
                "# Adiciona o diretório raiz ao sys.path\n",
                "sys.path.append(os.path.abspath(os.path.join(os.getcwd(), '../../')))"
            ]
        },
        {
            "cell_type": "code",
            "execution_count": null,
            "id": "cf4c4af0",
            "metadata": {},
            "outputs": [],
            "source": [
                "from ThreeWToolkit.preprocessing import windowing\n",
                "from ThreeWToolkit.trainer.trainer import ModelTrainer, TrainerConfig\n",
                "from ThreeWToolkit.models.mlp import MLPConfig\n",
                "from ThreeWToolkit.dataset import ParquetDataset\n",
                "from ThreeWToolkit.core.base_dataset import ParquetDatasetConfig"
            ]
        },
        {
            "cell_type": "code",
            "execution_count": null,
            "id": "de2c1551",
            "metadata": {},
            "outputs": [
                {
                    "data": {
                        "text/plain": [
                            "{'signal':                      ABER-CKGL  ABER-CKP  ESTADO-DHSV  ESTADO-M1  ESTADO-M2  \\\n",
                            " timestamp                                                                     \n",
                            " 2018-05-13 04:49:38        0.0       0.0          0.0        0.0        0.0   \n",
                            " 2018-05-13 04:49:39        0.0       0.0          0.0        0.0        0.0   \n",
                            " 2018-05-13 04:49:40        0.0       0.0          0.0        0.0        0.0   \n",
                            " 2018-05-13 04:49:41        0.0       0.0          0.0        0.0        0.0   \n",
                            " 2018-05-13 04:49:42        0.0       0.0          0.0        0.0        0.0   \n",
                            " ...                        ...       ...          ...        ...        ...   \n",
                            " 2018-05-13 12:49:32        0.0       0.0          0.0        0.0        0.0   \n",
                            " 2018-05-13 12:49:33        0.0       0.0          0.0        0.0        0.0   \n",
                            " 2018-05-13 12:49:34        0.0       0.0          0.0        0.0        0.0   \n",
                            " 2018-05-13 12:49:35        0.0       0.0          0.0        0.0        0.0   \n",
                            " 2018-05-13 12:49:36        0.0       0.0          0.0        0.0        0.0   \n",
                            " \n",
                            "                      ESTADO-PXO  ESTADO-SDV-GL  ESTADO-SDV-P  ESTADO-W1  \\\n",
                            " timestamp                                                                 \n",
                            " 2018-05-13 04:49:38         0.0            0.0           0.0        0.0   \n",
                            " 2018-05-13 04:49:39         0.0            0.0           0.0        0.0   \n",
                            " 2018-05-13 04:49:40         0.0            0.0           0.0        0.0   \n",
                            " 2018-05-13 04:49:41         0.0            0.0           0.0        0.0   \n",
                            " 2018-05-13 04:49:42         0.0            0.0           0.0        0.0   \n",
                            " ...                         ...            ...           ...        ...   \n",
                            " 2018-05-13 12:49:32         0.0            0.0           0.0        0.0   \n",
                            " 2018-05-13 12:49:33         0.0            0.0           0.0        0.0   \n",
                            " 2018-05-13 12:49:34         0.0            0.0           0.0        0.0   \n",
                            " 2018-05-13 12:49:35         0.0            0.0           0.0        0.0   \n",
                            " 2018-05-13 12:49:36         0.0            0.0           0.0        0.0   \n",
                            " \n",
                            "                      ESTADO-W2  ...  P-JUS-CKGL  P-JUS-CKP  P-MON-CKP  \\\n",
                            " timestamp                       ...                                     \n",
                            " 2018-05-13 04:49:38        0.0  ...         0.0        0.0   1.470364   \n",
                            " 2018-05-13 04:49:39        0.0  ...         0.0        0.0   1.470364   \n",
                            " 2018-05-13 04:49:40        0.0  ...         0.0        0.0   1.470364   \n",
                            " 2018-05-13 04:49:41        0.0  ...         0.0        0.0   1.470364   \n",
                            " 2018-05-13 04:49:42        0.0  ...         0.0        0.0   1.470364   \n",
                            " ...                        ...  ...         ...        ...        ...   \n",
                            " 2018-05-13 12:49:32        0.0  ...         0.0        0.0   1.458644   \n",
                            " 2018-05-13 12:49:33        0.0  ...         0.0        0.0   1.458635   \n",
                            " 2018-05-13 12:49:34        0.0  ...         0.0        0.0   1.458628   \n",
                            " 2018-05-13 12:49:35        0.0  ...         0.0        0.0   1.458622   \n",
                            " 2018-05-13 12:49:36        0.0  ...         0.0        0.0   1.458950   \n",
                            " \n",
                            "                         P-PDG     P-TPT  QGL  T-JUS-CKP  T-MON-CKP  T-PDG  \\\n",
                            " timestamp                                                                   \n",
                            " 2018-05-13 04:49:38  0.893692  1.237871  0.0   1.471752        0.0    0.0   \n",
                            " 2018-05-13 04:49:39  0.893690  1.237871  0.0   1.471752        0.0    0.0   \n",
                            " 2018-05-13 04:49:40  0.893696  1.237871  0.0   1.471751        0.0    0.0   \n",
                            " 2018-05-13 04:49:41  0.893694  1.237871  0.0   1.471751        0.0    0.0   \n",
                            " 2018-05-13 04:49:42  0.893698  1.237867  0.0   1.471750        0.0    0.0   \n",
                            " ...                       ...       ...  ...        ...        ...    ...   \n",
                            " 2018-05-13 12:49:32  1.477815 -0.288102  0.0  -2.222541        0.0    0.0   \n",
                            " 2018-05-13 12:49:33  1.477814 -0.288140  0.0  -2.221380        0.0    0.0   \n",
                            " 2018-05-13 12:49:34  1.477814 -0.288182  0.0  -2.220672        0.0    0.0   \n",
                            " 2018-05-13 12:49:35  1.477816 -0.288198  0.0  -2.220618        0.0    0.0   \n",
                            " 2018-05-13 12:49:36  1.477816 -0.288158  0.0  -2.220701        0.0    0.0   \n",
                            " \n",
                            "                         T-TPT  \n",
                            " timestamp                      \n",
                            " 2018-05-13 04:49:38  0.940846  \n",
                            " 2018-05-13 04:49:39  0.940846  \n",
                            " 2018-05-13 04:49:40  0.940846  \n",
                            " 2018-05-13 04:49:41  0.940849  \n",
                            " 2018-05-13 04:49:42  0.940823  \n",
                            " ...                       ...  \n",
                            " 2018-05-13 12:49:32 -3.061789  \n",
                            " 2018-05-13 12:49:33 -3.061789  \n",
                            " 2018-05-13 12:49:34 -3.061789  \n",
                            " 2018-05-13 12:49:35 -3.061789  \n",
                            " 2018-05-13 12:49:36 -3.061789  \n",
                            " \n",
                            " [28799 rows x 22 columns],\n",
                            " 'label':                      class\n",
                            " timestamp                 \n",
                            " 2018-05-13 04:49:38      2\n",
                            " 2018-05-13 04:49:39      2\n",
                            " 2018-05-13 04:49:40      2\n",
                            " 2018-05-13 04:49:41      2\n",
                            " 2018-05-13 04:49:42      2\n",
                            " ...                    ...\n",
                            " 2018-05-13 12:49:32      2\n",
                            " 2018-05-13 12:49:33      2\n",
                            " 2018-05-13 12:49:34      2\n",
                            " 2018-05-13 12:49:35      2\n",
                            " 2018-05-13 12:49:36      2\n",
                            " \n",
                            " [28799 rows x 1 columns],\n",
                            " 'file_name': PosixPath('2/SIMULATED_00009.parquet')}"
                        ]
                    },
                    "execution_count": 6,
                    "metadata": {},
                    "output_type": "execute_result"
                }
            ],
            "source": [
                "dataset_path = Path(\"../../data/raw/\")\n",
                "ds_config = ParquetDatasetConfig(\n",
                "    path=dataset_path, clean_data=True, download=False, target_class=[0, 1, 2]\n",
                ")\n",
                "ds = ParquetDataset(ds_config)\n",
                "ds[19]\n"
            ]
        },
        {
            "cell_type": "code",
            "execution_count": 7,
            "id": "95d75890",
            "metadata": {},
            "outputs": [
                {
                    "name": "stdout",
                    "output_type": "stream",
                    "text": [
                        "MLP(\n",
                        "  (activation_func): ReLU()\n",
                        "  (model): Sequential(\n",
                        "    (0): Linear(in_features=1000, out_features=32, bias=True)\n",
                        "    (1): ReLU()\n",
                        "    (2): Linear(in_features=32, out_features=16, bias=True)\n",
                        "    (3): ReLU()\n",
                        "    (4): Linear(in_features=16, out_features=3, bias=True)\n",
                        "  )\n",
                        ")\n"
                    ]
                }
            ],
            "source": [
                "window_size = 1000\n",
                "mlp_config = MLPConfig(\n",
                "    input_size=window_size,\n",
                "    hidden_sizes=(32, 16),\n",
                "    output_size=3,\n",
                "    random_seed=11,\n",
                "    activation_function=\"relu\",\n",
                "    regularization=None,\n",
                ")\n",
                "\n",
                "trainer_config = TrainerConfig(\n",
                "    optimizer=\"adam\",\n",
                "    criterion=\"cross_entropy\",\n",
                "    batch_size=32,\n",
                "    epochs=20,\n",
                "    seed=11,\n",
                "    config_model=mlp_config,\n",
                "    learning_rate=0.001,\n",
                "    device=\"cuda\" if torch.cuda.is_available() else \"cpu\",\n",
                "    cross_validation=False,\n",
                "    shuffle_train=True\n",
                ")\n",
                "\n",
                "trainer = ModelTrainer(trainer_config)\n",
                "print(trainer.model)"
            ]
        },
        {
            "cell_type": "code",
            "execution_count": 8,
            "id": "ce4ec4d4",
            "metadata": {},
            "outputs": [
                {
                    "data": {
                        "text/plain": [
                            "Index(['ABER-CKGL', 'ABER-CKP', 'ESTADO-DHSV', 'ESTADO-M1', 'ESTADO-M2',\n",
                            "       'ESTADO-PXO', 'ESTADO-SDV-GL', 'ESTADO-SDV-P', 'ESTADO-W1', 'ESTADO-W2',\n",
                            "       'ESTADO-XO', 'P-ANULAR', 'P-JUS-CKGL', 'P-JUS-CKP', 'P-MON-CKP',\n",
                            "       'P-PDG', 'P-TPT', 'QGL', 'T-JUS-CKP', 'T-MON-CKP', 'T-PDG', 'T-TPT'],\n",
                            "      dtype='object')"
                        ]
                    },
                    "execution_count": 8,
                    "metadata": {},
                    "output_type": "execute_result"
                }
            ],
            "source": [
                "ds[0][\"signal\"].columns"
            ]
        },
        {
            "cell_type": "code",
            "execution_count": 9,
            "id": "df7aa074",
            "metadata": {},
            "outputs": [
                {
                    "name": "stderr",
                    "output_type": "stream",
                    "text": [
                        "100%|██████████| 760/760 [00:37<00:00, 20.01it/s]\n"
                    ]
                }
            ],
            "source": [
                "selected_col = \"T-TPT\"\n",
                "x_train = []\n",
                "y_train = []\n",
                "dfs = []\n",
                "\n",
                "for event in tqdm(ds):\n",
                "    #normalized_signal = normalize(event[\"signal\"][selected_col])\n",
                "    windowed_signal = windowing(\n",
                "        event[\"signal\"][selected_col],\n",
                "        window=\"hann\",\n",
                "        window_size=window_size,\n",
                "        overlap=0.5,\n",
                "        pad_last_window=True,\n",
                "    )\n",
                "    windowed_signal.drop(columns=[\"win\"], inplace=True)\n",
                "    windowed_signal[\"label\"] = np.unique(event[\"label\"][\"class\"])[0]\n",
                "    dfs.append(windowed_signal)"
            ]
        },
        {
            "cell_type": "code",
            "execution_count": 10,
            "id": "fa9580c7",
            "metadata": {},
            "outputs": [
                {
                    "data": {
                        "text/html": [
                            "<div>\n",
                            "<style scoped>\n",
                            "    .dataframe tbody tr th:only-of-type {\n",
                            "        vertical-align: middle;\n",
                            "    }\n",
                            "\n",
                            "    .dataframe tbody tr th {\n",
                            "        vertical-align: top;\n",
                            "    }\n",
                            "\n",
                            "    .dataframe thead th {\n",
                            "        text-align: right;\n",
                            "    }\n",
                            "</style>\n",
                            "<table border=\"1\" class=\"dataframe\">\n",
                            "  <thead>\n",
                            "    <tr style=\"text-align: right;\">\n",
                            "      <th></th>\n",
                            "      <th>val_1</th>\n",
                            "      <th>val_2</th>\n",
                            "      <th>val_3</th>\n",
                            "      <th>val_4</th>\n",
                            "      <th>val_5</th>\n",
                            "      <th>val_6</th>\n",
                            "      <th>val_7</th>\n",
                            "      <th>val_8</th>\n",
                            "      <th>val_9</th>\n",
                            "      <th>val_10</th>\n",
                            "      <th>...</th>\n",
                            "      <th>val_992</th>\n",
                            "      <th>val_993</th>\n",
                            "      <th>val_994</th>\n",
                            "      <th>val_995</th>\n",
                            "      <th>val_996</th>\n",
                            "      <th>val_997</th>\n",
                            "      <th>val_998</th>\n",
                            "      <th>val_999</th>\n",
                            "      <th>val_1000</th>\n",
                            "      <th>label</th>\n",
                            "    </tr>\n",
                            "  </thead>\n",
                            "  <tbody>\n",
                            "    <tr>\n",
                            "      <th>0</th>\n",
                            "      <td>0.0</td>\n",
                            "      <td>0.000009</td>\n",
                            "      <td>0.000037</td>\n",
                            "      <td>0.000084</td>\n",
                            "      <td>0.000149</td>\n",
                            "      <td>0.000233</td>\n",
                            "      <td>0.000335</td>\n",
                            "      <td>0.000456</td>\n",
                            "      <td>0.000596</td>\n",
                            "      <td>0.000754</td>\n",
                            "      <td>...</td>\n",
                            "      <td>0.000754</td>\n",
                            "      <td>0.000596</td>\n",
                            "      <td>0.000456</td>\n",
                            "      <td>0.000335</td>\n",
                            "      <td>0.000233</td>\n",
                            "      <td>0.000149</td>\n",
                            "      <td>0.000084</td>\n",
                            "      <td>0.000037</td>\n",
                            "      <td>0.000009</td>\n",
                            "      <td>2</td>\n",
                            "    </tr>\n",
                            "    <tr>\n",
                            "      <th>1</th>\n",
                            "      <td>0.0</td>\n",
                            "      <td>0.000009</td>\n",
                            "      <td>0.000037</td>\n",
                            "      <td>0.000084</td>\n",
                            "      <td>0.000149</td>\n",
                            "      <td>0.000233</td>\n",
                            "      <td>0.000335</td>\n",
                            "      <td>0.000456</td>\n",
                            "      <td>0.000596</td>\n",
                            "      <td>0.000754</td>\n",
                            "      <td>...</td>\n",
                            "      <td>0.000754</td>\n",
                            "      <td>0.000596</td>\n",
                            "      <td>0.000456</td>\n",
                            "      <td>0.000335</td>\n",
                            "      <td>0.000233</td>\n",
                            "      <td>0.000149</td>\n",
                            "      <td>0.000084</td>\n",
                            "      <td>0.000037</td>\n",
                            "      <td>0.000009</td>\n",
                            "      <td>2</td>\n",
                            "    </tr>\n",
                            "    <tr>\n",
                            "      <th>2</th>\n",
                            "      <td>0.0</td>\n",
                            "      <td>0.000009</td>\n",
                            "      <td>0.000037</td>\n",
                            "      <td>0.000084</td>\n",
                            "      <td>0.000149</td>\n",
                            "      <td>0.000233</td>\n",
                            "      <td>0.000335</td>\n",
                            "      <td>0.000456</td>\n",
                            "      <td>0.000596</td>\n",
                            "      <td>0.000754</td>\n",
                            "      <td>...</td>\n",
                            "      <td>0.000754</td>\n",
                            "      <td>0.000596</td>\n",
                            "      <td>0.000456</td>\n",
                            "      <td>0.000335</td>\n",
                            "      <td>0.000233</td>\n",
                            "      <td>0.000149</td>\n",
                            "      <td>0.000084</td>\n",
                            "      <td>0.000037</td>\n",
                            "      <td>0.000009</td>\n",
                            "      <td>2</td>\n",
                            "    </tr>\n",
                            "    <tr>\n",
                            "      <th>3</th>\n",
                            "      <td>0.0</td>\n",
                            "      <td>0.000009</td>\n",
                            "      <td>0.000037</td>\n",
                            "      <td>0.000084</td>\n",
                            "      <td>0.000149</td>\n",
                            "      <td>0.000233</td>\n",
                            "      <td>0.000335</td>\n",
                            "      <td>0.000456</td>\n",
                            "      <td>0.000596</td>\n",
                            "      <td>0.000754</td>\n",
                            "      <td>...</td>\n",
                            "      <td>0.000754</td>\n",
                            "      <td>0.000596</td>\n",
                            "      <td>0.000456</td>\n",
                            "      <td>0.000335</td>\n",
                            "      <td>0.000233</td>\n",
                            "      <td>0.000149</td>\n",
                            "      <td>0.000084</td>\n",
                            "      <td>0.000037</td>\n",
                            "      <td>0.000009</td>\n",
                            "      <td>2</td>\n",
                            "    </tr>\n",
                            "    <tr>\n",
                            "      <th>4</th>\n",
                            "      <td>0.0</td>\n",
                            "      <td>0.000009</td>\n",
                            "      <td>0.000037</td>\n",
                            "      <td>0.000084</td>\n",
                            "      <td>0.000149</td>\n",
                            "      <td>0.000233</td>\n",
                            "      <td>0.000335</td>\n",
                            "      <td>0.000456</td>\n",
                            "      <td>0.000596</td>\n",
                            "      <td>0.000754</td>\n",
                            "      <td>...</td>\n",
                            "      <td>0.000754</td>\n",
                            "      <td>0.000596</td>\n",
                            "      <td>0.000456</td>\n",
                            "      <td>0.000335</td>\n",
                            "      <td>0.000233</td>\n",
                            "      <td>0.000149</td>\n",
                            "      <td>0.000084</td>\n",
                            "      <td>0.000037</td>\n",
                            "      <td>0.000009</td>\n",
                            "      <td>2</td>\n",
                            "    </tr>\n",
                            "    <tr>\n",
                            "      <th>...</th>\n",
                            "      <td>...</td>\n",
                            "      <td>...</td>\n",
                            "      <td>...</td>\n",
                            "      <td>...</td>\n",
                            "      <td>...</td>\n",
                            "      <td>...</td>\n",
                            "      <td>...</td>\n",
                            "      <td>...</td>\n",
                            "      <td>...</td>\n",
                            "      <td>...</td>\n",
                            "      <td>...</td>\n",
                            "      <td>...</td>\n",
                            "      <td>...</td>\n",
                            "      <td>...</td>\n",
                            "      <td>...</td>\n",
                            "      <td>...</td>\n",
                            "      <td>...</td>\n",
                            "      <td>...</td>\n",
                            "      <td>...</td>\n",
                            "      <td>...</td>\n",
                            "      <td>...</td>\n",
                            "    </tr>\n",
                            "    <tr>\n",
                            "      <th>44390</th>\n",
                            "      <td>0.0</td>\n",
                            "      <td>0.000006</td>\n",
                            "      <td>0.000026</td>\n",
                            "      <td>0.000058</td>\n",
                            "      <td>0.000103</td>\n",
                            "      <td>0.000161</td>\n",
                            "      <td>0.000231</td>\n",
                            "      <td>0.000315</td>\n",
                            "      <td>0.000411</td>\n",
                            "      <td>0.000521</td>\n",
                            "      <td>...</td>\n",
                            "      <td>0.000521</td>\n",
                            "      <td>0.000411</td>\n",
                            "      <td>0.000315</td>\n",
                            "      <td>0.000231</td>\n",
                            "      <td>0.000161</td>\n",
                            "      <td>0.000103</td>\n",
                            "      <td>0.000058</td>\n",
                            "      <td>0.000026</td>\n",
                            "      <td>0.000006</td>\n",
                            "      <td>0</td>\n",
                            "    </tr>\n",
                            "    <tr>\n",
                            "      <th>44391</th>\n",
                            "      <td>0.0</td>\n",
                            "      <td>0.000006</td>\n",
                            "      <td>0.000026</td>\n",
                            "      <td>0.000058</td>\n",
                            "      <td>0.000103</td>\n",
                            "      <td>0.000161</td>\n",
                            "      <td>0.000231</td>\n",
                            "      <td>0.000315</td>\n",
                            "      <td>0.000411</td>\n",
                            "      <td>0.000521</td>\n",
                            "      <td>...</td>\n",
                            "      <td>0.000521</td>\n",
                            "      <td>0.000411</td>\n",
                            "      <td>0.000315</td>\n",
                            "      <td>0.000231</td>\n",
                            "      <td>0.000161</td>\n",
                            "      <td>0.000103</td>\n",
                            "      <td>0.000058</td>\n",
                            "      <td>0.000026</td>\n",
                            "      <td>0.000006</td>\n",
                            "      <td>0</td>\n",
                            "    </tr>\n",
                            "    <tr>\n",
                            "      <th>44392</th>\n",
                            "      <td>0.0</td>\n",
                            "      <td>0.000006</td>\n",
                            "      <td>0.000026</td>\n",
                            "      <td>0.000058</td>\n",
                            "      <td>0.000103</td>\n",
                            "      <td>0.000161</td>\n",
                            "      <td>0.000231</td>\n",
                            "      <td>0.000315</td>\n",
                            "      <td>0.000411</td>\n",
                            "      <td>0.000521</td>\n",
                            "      <td>...</td>\n",
                            "      <td>0.000521</td>\n",
                            "      <td>0.000411</td>\n",
                            "      <td>0.000315</td>\n",
                            "      <td>0.000231</td>\n",
                            "      <td>0.000161</td>\n",
                            "      <td>0.000103</td>\n",
                            "      <td>0.000058</td>\n",
                            "      <td>0.000026</td>\n",
                            "      <td>0.000006</td>\n",
                            "      <td>0</td>\n",
                            "    </tr>\n",
                            "    <tr>\n",
                            "      <th>44393</th>\n",
                            "      <td>0.0</td>\n",
                            "      <td>0.000006</td>\n",
                            "      <td>0.000026</td>\n",
                            "      <td>0.000058</td>\n",
                            "      <td>0.000103</td>\n",
                            "      <td>0.000161</td>\n",
                            "      <td>0.000231</td>\n",
                            "      <td>0.000315</td>\n",
                            "      <td>0.000411</td>\n",
                            "      <td>0.000521</td>\n",
                            "      <td>...</td>\n",
                            "      <td>0.000000</td>\n",
                            "      <td>0.000000</td>\n",
                            "      <td>0.000000</td>\n",
                            "      <td>0.000000</td>\n",
                            "      <td>0.000000</td>\n",
                            "      <td>0.000000</td>\n",
                            "      <td>0.000000</td>\n",
                            "      <td>0.000000</td>\n",
                            "      <td>0.000000</td>\n",
                            "      <td>0</td>\n",
                            "    </tr>\n",
                            "    <tr>\n",
                            "      <th>44394</th>\n",
                            "      <td>0.0</td>\n",
                            "      <td>0.000006</td>\n",
                            "      <td>0.000026</td>\n",
                            "      <td>0.000058</td>\n",
                            "      <td>0.000103</td>\n",
                            "      <td>0.000161</td>\n",
                            "      <td>0.000231</td>\n",
                            "      <td>0.000315</td>\n",
                            "      <td>0.000411</td>\n",
                            "      <td>0.000521</td>\n",
                            "      <td>...</td>\n",
                            "      <td>0.000000</td>\n",
                            "      <td>0.000000</td>\n",
                            "      <td>0.000000</td>\n",
                            "      <td>0.000000</td>\n",
                            "      <td>0.000000</td>\n",
                            "      <td>0.000000</td>\n",
                            "      <td>0.000000</td>\n",
                            "      <td>0.000000</td>\n",
                            "      <td>0.000000</td>\n",
                            "      <td>0</td>\n",
                            "    </tr>\n",
                            "  </tbody>\n",
                            "</table>\n",
                            "<p>44395 rows × 1001 columns</p>\n",
                            "</div>"
                        ],
                        "text/plain": [
                            "       val_1     val_2     val_3     val_4     val_5     val_6     val_7  \\\n",
                            "0        0.0  0.000009  0.000037  0.000084  0.000149  0.000233  0.000335   \n",
                            "1        0.0  0.000009  0.000037  0.000084  0.000149  0.000233  0.000335   \n",
                            "2        0.0  0.000009  0.000037  0.000084  0.000149  0.000233  0.000335   \n",
                            "3        0.0  0.000009  0.000037  0.000084  0.000149  0.000233  0.000335   \n",
                            "4        0.0  0.000009  0.000037  0.000084  0.000149  0.000233  0.000335   \n",
                            "...      ...       ...       ...       ...       ...       ...       ...   \n",
                            "44390    0.0  0.000006  0.000026  0.000058  0.000103  0.000161  0.000231   \n",
                            "44391    0.0  0.000006  0.000026  0.000058  0.000103  0.000161  0.000231   \n",
                            "44392    0.0  0.000006  0.000026  0.000058  0.000103  0.000161  0.000231   \n",
                            "44393    0.0  0.000006  0.000026  0.000058  0.000103  0.000161  0.000231   \n",
                            "44394    0.0  0.000006  0.000026  0.000058  0.000103  0.000161  0.000231   \n",
                            "\n",
                            "          val_8     val_9    val_10  ...   val_992   val_993   val_994  \\\n",
                            "0      0.000456  0.000596  0.000754  ...  0.000754  0.000596  0.000456   \n",
                            "1      0.000456  0.000596  0.000754  ...  0.000754  0.000596  0.000456   \n",
                            "2      0.000456  0.000596  0.000754  ...  0.000754  0.000596  0.000456   \n",
                            "3      0.000456  0.000596  0.000754  ...  0.000754  0.000596  0.000456   \n",
                            "4      0.000456  0.000596  0.000754  ...  0.000754  0.000596  0.000456   \n",
                            "...         ...       ...       ...  ...       ...       ...       ...   \n",
                            "44390  0.000315  0.000411  0.000521  ...  0.000521  0.000411  0.000315   \n",
                            "44391  0.000315  0.000411  0.000521  ...  0.000521  0.000411  0.000315   \n",
                            "44392  0.000315  0.000411  0.000521  ...  0.000521  0.000411  0.000315   \n",
                            "44393  0.000315  0.000411  0.000521  ...  0.000000  0.000000  0.000000   \n",
                            "44394  0.000315  0.000411  0.000521  ...  0.000000  0.000000  0.000000   \n",
                            "\n",
                            "        val_995   val_996   val_997   val_998   val_999  val_1000  label  \n",
                            "0      0.000335  0.000233  0.000149  0.000084  0.000037  0.000009      2  \n",
                            "1      0.000335  0.000233  0.000149  0.000084  0.000037  0.000009      2  \n",
                            "2      0.000335  0.000233  0.000149  0.000084  0.000037  0.000009      2  \n",
                            "3      0.000335  0.000233  0.000149  0.000084  0.000037  0.000009      2  \n",
                            "4      0.000335  0.000233  0.000149  0.000084  0.000037  0.000009      2  \n",
                            "...         ...       ...       ...       ...       ...       ...    ...  \n",
                            "44390  0.000231  0.000161  0.000103  0.000058  0.000026  0.000006      0  \n",
                            "44391  0.000231  0.000161  0.000103  0.000058  0.000026  0.000006      0  \n",
                            "44392  0.000231  0.000161  0.000103  0.000058  0.000026  0.000006      0  \n",
                            "44393  0.000000  0.000000  0.000000  0.000000  0.000000  0.000000      0  \n",
                            "44394  0.000000  0.000000  0.000000  0.000000  0.000000  0.000000      0  \n",
                            "\n",
                            "[44395 rows x 1001 columns]"
                        ]
                    },
                    "execution_count": 10,
                    "metadata": {},
                    "output_type": "execute_result"
                }
            ],
            "source": [
                "dfs_final = pd.concat(dfs, ignore_index=True, axis=0)\n",
                "dfs_final"
            ]
        },
        {
            "cell_type": "code",
            "execution_count": 11,
            "id": "e754f08c",
            "metadata": {},
            "outputs": [
                {
                    "data": {
                        "text/plain": [
                            "label\n",
                            "0    24633\n",
                            "1    18267\n",
                            "2     1495\n",
                            "Name: count, dtype: int64"
                        ]
                    },
                    "execution_count": 11,
                    "metadata": {},
                    "output_type": "execute_result"
                }
            ],
            "source": [
                "dfs_final[\"label\"].value_counts()"
            ]
        },
        {
            "cell_type": "code",
            "execution_count": 12,
            "id": "f905919c",
            "metadata": {},
            "outputs": [
                {
                    "name": "stderr",
                    "output_type": "stream",
                    "text": [
                        "                                                                                                   \r"
                    ]
                }
            ],
            "source": [
                "# Train the MLP model using the new ModelTrainer interface\n",
                "trainer.train(x_train=dfs_final.iloc[:, :-1], y_train=dfs_final[\"label\"].astype(int))"
            ]
        },
        {
            "cell_type": "code",
            "execution_count": 13,
            "id": "1f510c4d",
            "metadata": {},
            "outputs": [
                {
                    "name": "stdout",
                    "output_type": "stream",
                    "text": [
                        "Test Loss: 0.1845\n",
                        "Test Metrics: {'accuracy_score': 0.9528775763036378, '<lambda>': 0.9528775763036378}\n"
                    ]
                }
            ],
            "source": [
                "# Evaluate model performance on validation set using ModelTrainer's test method\n",
                "from ThreeWToolkit.metrics import accuracy_score, recall_score\n",
                "\n",
                "test_loss, test_metrics = trainer.test(\n",
                "    dfs_final.iloc[:, :-1], dfs_final[\"label\"].astype(int), metrics=[\n",
                "        accuracy_score,\n",
                "        lambda y_true, y_pred: recall_score(y_true, y_pred, average='weighted')\n",
                "    ]\n",
                ")\n",
                "print(f\"Test Loss: {test_loss:.4f}\")\n",
                "print(f\"Test Metrics: {test_metrics}\")"
            ]
        },
        {
            "cell_type": "code",
            "execution_count": 14,
            "id": "7561d2be",
            "metadata": {},
            "outputs": [
                {
                    "data": {
                        "image/png": "[encoded data removed]",
                        "text/plain": [
                            "<Figure size 1000x500 with 1 Axes>"
                        ]
                    },
                    "metadata": {},
                    "output_type": "display_data"
                }
            ],
            "source": [
                "# Visualize training history\n",
                "plt.figure(figsize=(10, 5))\n",
                "for i, fold_hist in enumerate(trainer.history):\n",
                "    if fold_hist is not None:\n",
                "        plt.plot(fold_hist[\"val_loss\"], label=\"Val Loss\")\n",
                "plt.title(\"Validation Loss\")\n",
                "plt.xlabel(\"Epoch\")\n",
                "plt.ylabel(\"Loss\")\n",
                "plt.legend()\n",
                "plt.show()"
            ]
        },
        {
            "cell_type": "markdown",
            "id": "6985e0ab",
            "metadata": {},
            "source": [
                "__________"
            ]
        },
        {
            "cell_type": "code",
            "execution_count": 15,
            "id": "1bbba0c6",
            "metadata": {},
            "outputs": [],
            "source": [
                "# Example: Setup TrainerConfig with Kfold for cross-validation\n",
                "trainer_config_cv = TrainerConfig(\n",
                "    optimizer=\"adam\",\n",
                "    criterion=\"cross_entropy\",\n",
                "    batch_size=32,\n",
                "    epochs=20,\n",
                "    seed=11,\n",
                "    config_model=mlp_config,\n",
                "    learning_rate=0.001,\n",
                "    device=\"cuda\" if torch.cuda.is_available() else \"cpu\",\n",
                "    cross_validation=True,\n",
                "    n_splits=5\n",
                ")\n",
                "\n",
                "trainer_cv = ModelTrainer(trainer_config_cv)"
            ]
        },
        {
            "cell_type": "code",
            "execution_count": 16,
            "id": "ac8d9264",
            "metadata": {},
            "outputs": [
                {
                    "name": "stdout",
                    "output_type": "stream",
                    "text": [
                        "Training fold 1/5\n"
                    ]
                },
                {
                    "name": "stderr",
                    "output_type": "stream",
                    "text": [
                        "                                                                                                   \r"
                    ]
                },
                {
                    "name": "stdout",
                    "output_type": "stream",
                    "text": [
                        "Training fold 2/5\n"
                    ]
                },
                {
                    "name": "stderr",
                    "output_type": "stream",
                    "text": [
                        "                                                                                                    \r"
                    ]
                },
                {
                    "name": "stdout",
                    "output_type": "stream",
                    "text": [
                        "Training fold 3/5\n"
                    ]
                },
                {
                    "name": "stderr",
                    "output_type": "stream",
                    "text": [
                        "                                                                                                   \r"
                    ]
                },
                {
                    "name": "stdout",
                    "output_type": "stream",
                    "text": [
                        "Training fold 4/5\n"
                    ]
                },
                {
                    "name": "stderr",
                    "output_type": "stream",
                    "text": [
                        "                                                                                                   \r"
                    ]
                },
                {
                    "name": "stdout",
                    "output_type": "stream",
                    "text": [
                        "Training fold 5/5\n"
                    ]
                },
                {
                    "name": "stderr",
                    "output_type": "stream",
                    "text": [
                        "                                                                                                   \r"
                    ]
                }
            ],
            "source": [
                "# Train the MLP model using cross-validation (StratifiedKFold)\n",
                "# This will run 5-fold cross-validation and store history for each fold in trainer_cv.history\n",
                "\n",
                "trainer_cv.train(x_train=dfs_final.iloc[:, :-1], y_train=dfs_final[\"label\"].astype(int))"
            ]
        },
        {
            "cell_type": "code",
            "execution_count": 18,
            "id": "8cb4508d",
            "metadata": {},
            "outputs": [
                {
                    "data": {
                        "image/png": "[encoded data removed]",
                        "text/plain": [
                            "<Figure size 1000x500 with 1 Axes>"
                        ]
                    },
                    "metadata": {},
                    "output_type": "display_data"
                }
            ],
            "source": [
                "# Visualize K-Fold training history for all folds\n",
                "plt.figure(figsize=(10, 5))\n",
                "for i, fold_hist in enumerate(trainer_cv.history):\n",
                "    if fold_hist is not None:\n",
                "        plt.plot(fold_hist[\"val_loss\"], label=f\"Fold {i + 1} Val Loss\")\n",
                "plt.title(\"Validation Loss per Fold (K-Fold)\")\n",
                "plt.xlabel(\"Epoch\")\n",
                "plt.ylabel(\"Loss\")\n",
                "plt.legend()\n",
                "plt.show()"
            ]
        }
    ],
    "metadata": {
        "kernelspec": {
            "display_name": "Python 3",
            "language": "python",
            "name": "python3"
        },
        "language_info": {
            "codemirror_mode": {
                "name": "ipython",
                "version": 3
            },
            "file_extension": ".py",
            "mimetype": "text/x-python",
            "name": "python",
            "nbconvert_exporter": "python",
            "pygments_lexer": "ipython3",
            "version": "3.10.11"
        }
    },
    "nbformat": 4,
    "nbformat_minor": 5
}
