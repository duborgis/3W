{
    "cells": [
        {
            "cell_type": "markdown",
            "id": "b6a99296",
            "metadata": {},
            "source": [
                "# Training an MLP on Time Series Data\n",
                "This notebook demonstrates how to train a Multi-Layer Perceptron (MLP) on synthetic time series data using the ThreeWToolkit, for the time series regression task."
            ]
        },
        {
            "cell_type": "code",
            "execution_count": 1,
            "id": "cf4c4af0",
            "metadata": {},
            "outputs": [],
            "source": [
                "import numpy as np\n",
                "import pandas as pd\n",
                "import matplotlib.pyplot as plt\n",
                "from pathlib import Path\n",
                "import torch\n",
                "from ThreeWToolkit.preprocessing import normalize, windowing\n",
                "from ThreeWToolkit.trainer.trainer import ModelTrainer, TrainerConfig\n",
                "from ThreeWToolkit.models.mlp import MLPConfig\n",
                "from ThreeWToolkit.dataset import ParquetDataset\n",
                "from ThreeWToolkit.core.base_dataset import ParquetDatasetConfig"
            ]
        },
        {
            "cell_type": "code",
            "execution_count": 2,
            "id": "de2c1551",
            "metadata": {},
            "outputs": [
                {
                    "data": {
                        "text/plain": [
                            "760"
                        ]
                    },
                    "execution_count": 2,
                    "metadata": {},
                    "output_type": "execute_result"
                }
            ],
            "source": [
                "dataset_path = Path(\"dataset\")\n",
                "\n",
                "# create and load\n",
                "ds_config = ParquetDatasetConfig(\n",
                "    path=dataset_path, clean_data=True, download=False, target_class=[0, 1, 2]\n",
                ")\n",
                "\n",
                "ds = ParquetDataset(ds_config)\n",
                "ds[19]\n",
                "len(ds)\n"
            ]
        },
        {
            "cell_type": "code",
            "execution_count": 3,
            "id": "95d75890",
            "metadata": {},
            "outputs": [
                {
                    "name": "stdout",
                    "output_type": "stream",
                    "text": [
                        "MLP(\n",
                        "  (activation_func): ReLU()\n",
                        "  (model): Sequential(\n",
                        "    (0): Linear(in_features=100, out_features=64, bias=True)\n",
                        "    (1): ReLU()\n",
                        "    (2): Linear(in_features=64, out_features=32, bias=True)\n",
                        "    (3): ReLU()\n",
                        "    (4): Linear(in_features=32, out_features=1, bias=True)\n",
                        "  )\n",
                        ")\n"
                    ]
                }
            ],
            "source": [
                "window_size = 100\n",
                "mlp_config = MLPConfig(\n",
                "    input_size=window_size,\n",
                "    hidden_sizes=(64, 32),\n",
                "    output_size=1,\n",
                "    random_seed=11,\n",
                "    activation_function=\"relu\",\n",
                "    regularization=None,\n",
                ")\n",
                "\n",
                "trainer_config = TrainerConfig(\n",
                "    optimizer=\"adam\",\n",
                "    criterion=\"cross_entropy\",\n",
                "    batch_size=16,\n",
                "    epochs=100,\n",
                "    seed=11,\n",
                "    config_model=mlp_config,\n",
                "    learning_rate=0.001,\n",
                "    device=\"cuda\" if torch.cuda.is_available() else \"cpu\",\n",
                "    cross_validation=False,\n",
                "    shuffle_train=True\n",
                ")\n",
                "\n",
                "trainer = ModelTrainer(trainer_config)\n",
                "print(trainer.model)"
            ]
        },
        {
            "cell_type": "code",
            "execution_count": 4,
            "id": "ce4ec4d4",
            "metadata": {},
            "outputs": [
                {
                    "data": {
                        "text/plain": [
                            "Index(['ABER-CKGL', 'ABER-CKP', 'ESTADO-DHSV', 'ESTADO-M1', 'ESTADO-M2',\n",
                            "       'ESTADO-PXO', 'ESTADO-SDV-GL', 'ESTADO-SDV-P', 'ESTADO-W1', 'ESTADO-W2',\n",
                            "       'ESTADO-XO', 'P-ANULAR', 'P-JUS-CKGL', 'P-JUS-CKP', 'P-MON-CKP',\n",
                            "       'P-PDG', 'P-TPT', 'QGL', 'T-JUS-CKP', 'T-MON-CKP', 'T-PDG', 'T-TPT'],\n",
                            "      dtype='object')"
                        ]
                    },
                    "execution_count": 4,
                    "metadata": {},
                    "output_type": "execute_result"
                }
            ],
            "source": [
                "ds[0][\"signal\"].columns"
            ]
        },
        {
            "cell_type": "code",
            "execution_count": 5,
            "id": "df7aa074",
            "metadata": {},
            "outputs": [],
            "source": [
                "selected_col = \"T-TPT\"\n",
                "n_events = 25\n",
                "x_train = []\n",
                "y_train = []\n",
                "dfs = []\n",
                "\n",
                "for event in ds:\n",
                "    #normalized_signal = normalize(event[\"signal\"][selected_col])\n",
                "    windowed_signal = windowing(\n",
                "        event[\"signal\"][selected_col],\n",
                "        window=\"hann\",\n",
                "        window_size=window_size,\n",
                "        overlap=0.5,\n",
                "        pad_last_window=True,\n",
                "    )\n",
                "    windowed_signal.drop(columns=[\"win\"], inplace=True)\n",
                "    windowed_signal[\"label\"] = np.unique(event[\"label\"][\"class\"])[0]\n",
                "    dfs.append(windowed_signal)\n",
                "    # windowed_label = np.repeat(\n",
                "    #     np.unique(event[\"label\"][\"class\"]), windowed_signal.shape[0]\n",
                "    # )\n",
                "    # y_train.extend(windowed_label)\n",
                "    # if len(dfs) >= n_events:\n",
                "    #     break\n",
                "    "
            ]
        },
        {
            "cell_type": "code",
            "execution_count": 6,
            "id": "fa9580c7",
            "metadata": {},
            "outputs": [],
            "source": [
                "dfs_final = pd.concat(dfs, ignore_index=True, axis=0)"
            ]
        },
        {
            "cell_type": "code",
            "execution_count": 7,
            "id": "b08e847a",
            "metadata": {},
            "outputs": [
                {
                    "data": {
                        "text/html": [
                            "<div>\n",
                            "<style scoped>\n",
                            "    .dataframe tbody tr th:only-of-type {\n",
                            "        vertical-align: middle;\n",
                            "    }\n",
                            "\n",
                            "    .dataframe tbody tr th {\n",
                            "        vertical-align: top;\n",
                            "    }\n",
                            "\n",
                            "    .dataframe thead th {\n",
                            "        text-align: right;\n",
                            "    }\n",
                            "</style>\n",
                            "<table border=\"1\" class=\"dataframe\">\n",
                            "  <thead>\n",
                            "    <tr style=\"text-align: right;\">\n",
                            "      <th></th>\n",
                            "      <th>val_1</th>\n",
                            "      <th>val_2</th>\n",
                            "      <th>val_3</th>\n",
                            "      <th>val_4</th>\n",
                            "      <th>val_5</th>\n",
                            "      <th>val_6</th>\n",
                            "      <th>val_7</th>\n",
                            "      <th>val_8</th>\n",
                            "      <th>val_9</th>\n",
                            "      <th>val_10</th>\n",
                            "      <th>...</th>\n",
                            "      <th>val_92</th>\n",
                            "      <th>val_93</th>\n",
                            "      <th>val_94</th>\n",
                            "      <th>val_95</th>\n",
                            "      <th>val_96</th>\n",
                            "      <th>val_97</th>\n",
                            "      <th>val_98</th>\n",
                            "      <th>val_99</th>\n",
                            "      <th>val_100</th>\n",
                            "      <th>label</th>\n",
                            "    </tr>\n",
                            "  </thead>\n",
                            "  <tbody>\n",
                            "    <tr>\n",
                            "      <th>0</th>\n",
                            "      <td>0.0</td>\n",
                            "      <td>0.000931</td>\n",
                            "      <td>0.003719</td>\n",
                            "      <td>0.008354</td>\n",
                            "      <td>0.014817</td>\n",
                            "      <td>0.023083</td>\n",
                            "      <td>0.033120</td>\n",
                            "      <td>0.044887</td>\n",
                            "      <td>0.058338</td>\n",
                            "      <td>0.073420</td>\n",
                            "      <td>...</td>\n",
                            "      <td>0.073420</td>\n",
                            "      <td>0.058338</td>\n",
                            "      <td>0.044887</td>\n",
                            "      <td>0.033120</td>\n",
                            "      <td>0.023083</td>\n",
                            "      <td>0.014817</td>\n",
                            "      <td>0.008354</td>\n",
                            "      <td>0.003719</td>\n",
                            "      <td>0.000931</td>\n",
                            "      <td>2</td>\n",
                            "    </tr>\n",
                            "    <tr>\n",
                            "      <th>1</th>\n",
                            "      <td>0.0</td>\n",
                            "      <td>0.000931</td>\n",
                            "      <td>0.003719</td>\n",
                            "      <td>0.008354</td>\n",
                            "      <td>0.014817</td>\n",
                            "      <td>0.023083</td>\n",
                            "      <td>0.033120</td>\n",
                            "      <td>0.044887</td>\n",
                            "      <td>0.058338</td>\n",
                            "      <td>0.073420</td>\n",
                            "      <td>...</td>\n",
                            "      <td>0.073420</td>\n",
                            "      <td>0.058338</td>\n",
                            "      <td>0.044887</td>\n",
                            "      <td>0.033120</td>\n",
                            "      <td>0.023083</td>\n",
                            "      <td>0.014817</td>\n",
                            "      <td>0.008354</td>\n",
                            "      <td>0.003719</td>\n",
                            "      <td>0.000931</td>\n",
                            "      <td>2</td>\n",
                            "    </tr>\n",
                            "    <tr>\n",
                            "      <th>2</th>\n",
                            "      <td>0.0</td>\n",
                            "      <td>0.000931</td>\n",
                            "      <td>0.003719</td>\n",
                            "      <td>0.008354</td>\n",
                            "      <td>0.014817</td>\n",
                            "      <td>0.023083</td>\n",
                            "      <td>0.033120</td>\n",
                            "      <td>0.044887</td>\n",
                            "      <td>0.058338</td>\n",
                            "      <td>0.073420</td>\n",
                            "      <td>...</td>\n",
                            "      <td>0.073420</td>\n",
                            "      <td>0.058338</td>\n",
                            "      <td>0.044887</td>\n",
                            "      <td>0.033120</td>\n",
                            "      <td>0.023083</td>\n",
                            "      <td>0.014817</td>\n",
                            "      <td>0.008354</td>\n",
                            "      <td>0.003719</td>\n",
                            "      <td>0.000931</td>\n",
                            "      <td>2</td>\n",
                            "    </tr>\n",
                            "    <tr>\n",
                            "      <th>3</th>\n",
                            "      <td>0.0</td>\n",
                            "      <td>0.000931</td>\n",
                            "      <td>0.003719</td>\n",
                            "      <td>0.008354</td>\n",
                            "      <td>0.014817</td>\n",
                            "      <td>0.023083</td>\n",
                            "      <td>0.033120</td>\n",
                            "      <td>0.044887</td>\n",
                            "      <td>0.058338</td>\n",
                            "      <td>0.073420</td>\n",
                            "      <td>...</td>\n",
                            "      <td>0.073420</td>\n",
                            "      <td>0.058338</td>\n",
                            "      <td>0.044887</td>\n",
                            "      <td>0.033120</td>\n",
                            "      <td>0.023083</td>\n",
                            "      <td>0.014817</td>\n",
                            "      <td>0.008354</td>\n",
                            "      <td>0.003719</td>\n",
                            "      <td>0.000931</td>\n",
                            "      <td>2</td>\n",
                            "    </tr>\n",
                            "    <tr>\n",
                            "      <th>4</th>\n",
                            "      <td>0.0</td>\n",
                            "      <td>0.000931</td>\n",
                            "      <td>0.003719</td>\n",
                            "      <td>0.008354</td>\n",
                            "      <td>0.014817</td>\n",
                            "      <td>0.023083</td>\n",
                            "      <td>0.033120</td>\n",
                            "      <td>0.044887</td>\n",
                            "      <td>0.058338</td>\n",
                            "      <td>0.073420</td>\n",
                            "      <td>...</td>\n",
                            "      <td>0.073420</td>\n",
                            "      <td>0.058338</td>\n",
                            "      <td>0.044887</td>\n",
                            "      <td>0.033120</td>\n",
                            "      <td>0.023083</td>\n",
                            "      <td>0.014817</td>\n",
                            "      <td>0.008354</td>\n",
                            "      <td>0.003719</td>\n",
                            "      <td>0.000931</td>\n",
                            "      <td>2</td>\n",
                            "    </tr>\n",
                            "    <tr>\n",
                            "      <th>...</th>\n",
                            "      <td>...</td>\n",
                            "      <td>...</td>\n",
                            "      <td>...</td>\n",
                            "      <td>...</td>\n",
                            "      <td>...</td>\n",
                            "      <td>...</td>\n",
                            "      <td>...</td>\n",
                            "      <td>...</td>\n",
                            "      <td>...</td>\n",
                            "      <td>...</td>\n",
                            "      <td>...</td>\n",
                            "      <td>...</td>\n",
                            "      <td>...</td>\n",
                            "      <td>...</td>\n",
                            "      <td>...</td>\n",
                            "      <td>...</td>\n",
                            "      <td>...</td>\n",
                            "      <td>...</td>\n",
                            "      <td>...</td>\n",
                            "      <td>...</td>\n",
                            "      <td>...</td>\n",
                            "    </tr>\n",
                            "    <tr>\n",
                            "      <th>440351</th>\n",
                            "      <td>0.0</td>\n",
                            "      <td>0.000643</td>\n",
                            "      <td>0.002568</td>\n",
                            "      <td>0.005769</td>\n",
                            "      <td>0.010233</td>\n",
                            "      <td>0.015942</td>\n",
                            "      <td>0.022873</td>\n",
                            "      <td>0.030999</td>\n",
                            "      <td>0.040289</td>\n",
                            "      <td>0.050704</td>\n",
                            "      <td>...</td>\n",
                            "      <td>0.050704</td>\n",
                            "      <td>0.040289</td>\n",
                            "      <td>0.030999</td>\n",
                            "      <td>0.022873</td>\n",
                            "      <td>0.015942</td>\n",
                            "      <td>0.010233</td>\n",
                            "      <td>0.005769</td>\n",
                            "      <td>0.002568</td>\n",
                            "      <td>0.000643</td>\n",
                            "      <td>0</td>\n",
                            "    </tr>\n",
                            "    <tr>\n",
                            "      <th>440352</th>\n",
                            "      <td>0.0</td>\n",
                            "      <td>0.000643</td>\n",
                            "      <td>0.002568</td>\n",
                            "      <td>0.005769</td>\n",
                            "      <td>0.010233</td>\n",
                            "      <td>0.015942</td>\n",
                            "      <td>0.022873</td>\n",
                            "      <td>0.030999</td>\n",
                            "      <td>0.040289</td>\n",
                            "      <td>0.050704</td>\n",
                            "      <td>...</td>\n",
                            "      <td>0.050704</td>\n",
                            "      <td>0.040289</td>\n",
                            "      <td>0.030999</td>\n",
                            "      <td>0.022873</td>\n",
                            "      <td>0.015942</td>\n",
                            "      <td>0.010233</td>\n",
                            "      <td>0.005769</td>\n",
                            "      <td>0.002568</td>\n",
                            "      <td>0.000643</td>\n",
                            "      <td>0</td>\n",
                            "    </tr>\n",
                            "    <tr>\n",
                            "      <th>440353</th>\n",
                            "      <td>0.0</td>\n",
                            "      <td>0.000643</td>\n",
                            "      <td>0.002568</td>\n",
                            "      <td>0.005769</td>\n",
                            "      <td>0.010233</td>\n",
                            "      <td>0.015942</td>\n",
                            "      <td>0.022873</td>\n",
                            "      <td>0.030999</td>\n",
                            "      <td>0.040289</td>\n",
                            "      <td>0.050704</td>\n",
                            "      <td>...</td>\n",
                            "      <td>0.050704</td>\n",
                            "      <td>0.040289</td>\n",
                            "      <td>0.030999</td>\n",
                            "      <td>0.022873</td>\n",
                            "      <td>0.015942</td>\n",
                            "      <td>0.010233</td>\n",
                            "      <td>0.005769</td>\n",
                            "      <td>0.002568</td>\n",
                            "      <td>0.000643</td>\n",
                            "      <td>0</td>\n",
                            "    </tr>\n",
                            "    <tr>\n",
                            "      <th>440354</th>\n",
                            "      <td>0.0</td>\n",
                            "      <td>0.000643</td>\n",
                            "      <td>0.002568</td>\n",
                            "      <td>0.005769</td>\n",
                            "      <td>0.010233</td>\n",
                            "      <td>0.015942</td>\n",
                            "      <td>0.022873</td>\n",
                            "      <td>0.030999</td>\n",
                            "      <td>0.040289</td>\n",
                            "      <td>0.050704</td>\n",
                            "      <td>...</td>\n",
                            "      <td>0.000000</td>\n",
                            "      <td>0.000000</td>\n",
                            "      <td>0.000000</td>\n",
                            "      <td>0.000000</td>\n",
                            "      <td>0.000000</td>\n",
                            "      <td>0.000000</td>\n",
                            "      <td>0.000000</td>\n",
                            "      <td>0.000000</td>\n",
                            "      <td>0.000000</td>\n",
                            "      <td>0</td>\n",
                            "    </tr>\n",
                            "    <tr>\n",
                            "      <th>440355</th>\n",
                            "      <td>0.0</td>\n",
                            "      <td>0.000643</td>\n",
                            "      <td>0.002568</td>\n",
                            "      <td>0.005769</td>\n",
                            "      <td>0.010233</td>\n",
                            "      <td>0.015942</td>\n",
                            "      <td>0.022873</td>\n",
                            "      <td>0.030999</td>\n",
                            "      <td>0.040289</td>\n",
                            "      <td>0.050704</td>\n",
                            "      <td>...</td>\n",
                            "      <td>0.000000</td>\n",
                            "      <td>0.000000</td>\n",
                            "      <td>0.000000</td>\n",
                            "      <td>0.000000</td>\n",
                            "      <td>0.000000</td>\n",
                            "      <td>0.000000</td>\n",
                            "      <td>0.000000</td>\n",
                            "      <td>0.000000</td>\n",
                            "      <td>0.000000</td>\n",
                            "      <td>0</td>\n",
                            "    </tr>\n",
                            "  </tbody>\n",
                            "</table>\n",
                            "<p>440356 rows × 101 columns</p>\n",
                            "</div>"
                        ],
                        "text/plain": [
                            "        val_1     val_2     val_3     val_4     val_5     val_6     val_7  \\\n",
                            "0         0.0  0.000931  0.003719  0.008354  0.014817  0.023083  0.033120   \n",
                            "1         0.0  0.000931  0.003719  0.008354  0.014817  0.023083  0.033120   \n",
                            "2         0.0  0.000931  0.003719  0.008354  0.014817  0.023083  0.033120   \n",
                            "3         0.0  0.000931  0.003719  0.008354  0.014817  0.023083  0.033120   \n",
                            "4         0.0  0.000931  0.003719  0.008354  0.014817  0.023083  0.033120   \n",
                            "...       ...       ...       ...       ...       ...       ...       ...   \n",
                            "440351    0.0  0.000643  0.002568  0.005769  0.010233  0.015942  0.022873   \n",
                            "440352    0.0  0.000643  0.002568  0.005769  0.010233  0.015942  0.022873   \n",
                            "440353    0.0  0.000643  0.002568  0.005769  0.010233  0.015942  0.022873   \n",
                            "440354    0.0  0.000643  0.002568  0.005769  0.010233  0.015942  0.022873   \n",
                            "440355    0.0  0.000643  0.002568  0.005769  0.010233  0.015942  0.022873   \n",
                            "\n",
                            "           val_8     val_9    val_10  ...    val_92    val_93    val_94  \\\n",
                            "0       0.044887  0.058338  0.073420  ...  0.073420  0.058338  0.044887   \n",
                            "1       0.044887  0.058338  0.073420  ...  0.073420  0.058338  0.044887   \n",
                            "2       0.044887  0.058338  0.073420  ...  0.073420  0.058338  0.044887   \n",
                            "3       0.044887  0.058338  0.073420  ...  0.073420  0.058338  0.044887   \n",
                            "4       0.044887  0.058338  0.073420  ...  0.073420  0.058338  0.044887   \n",
                            "...          ...       ...       ...  ...       ...       ...       ...   \n",
                            "440351  0.030999  0.040289  0.050704  ...  0.050704  0.040289  0.030999   \n",
                            "440352  0.030999  0.040289  0.050704  ...  0.050704  0.040289  0.030999   \n",
                            "440353  0.030999  0.040289  0.050704  ...  0.050704  0.040289  0.030999   \n",
                            "440354  0.030999  0.040289  0.050704  ...  0.000000  0.000000  0.000000   \n",
                            "440355  0.030999  0.040289  0.050704  ...  0.000000  0.000000  0.000000   \n",
                            "\n",
                            "          val_95    val_96    val_97    val_98    val_99   val_100  label  \n",
                            "0       0.033120  0.023083  0.014817  0.008354  0.003719  0.000931      2  \n",
                            "1       0.033120  0.023083  0.014817  0.008354  0.003719  0.000931      2  \n",
                            "2       0.033120  0.023083  0.014817  0.008354  0.003719  0.000931      2  \n",
                            "3       0.033120  0.023083  0.014817  0.008354  0.003719  0.000931      2  \n",
                            "4       0.033120  0.023083  0.014817  0.008354  0.003719  0.000931      2  \n",
                            "...          ...       ...       ...       ...       ...       ...    ...  \n",
                            "440351  0.022873  0.015942  0.010233  0.005769  0.002568  0.000643      0  \n",
                            "440352  0.022873  0.015942  0.010233  0.005769  0.002568  0.000643      0  \n",
                            "440353  0.022873  0.015942  0.010233  0.005769  0.002568  0.000643      0  \n",
                            "440354  0.000000  0.000000  0.000000  0.000000  0.000000  0.000000      0  \n",
                            "440355  0.000000  0.000000  0.000000  0.000000  0.000000  0.000000      0  \n",
                            "\n",
                            "[440356 rows x 101 columns]"
                        ]
                    },
                    "execution_count": 7,
                    "metadata": {},
                    "output_type": "execute_result"
                }
            ],
            "source": [
                "dfs_final\n"
            ]
        },
        {
            "cell_type": "code",
            "execution_count": 8,
            "id": "e754f08c",
            "metadata": {},
            "outputs": [
                {
                    "data": {
                        "text/plain": [
                            "label\n",
                            "0    243441\n",
                            "1    182146\n",
                            "2     14769\n",
                            "Name: count, dtype: int64"
                        ]
                    },
                    "execution_count": 8,
                    "metadata": {},
                    "output_type": "execute_result"
                }
            ],
            "source": [
                "dfs_final[\"label\"].value_counts()"
            ]
        },
        {
            "cell_type": "code",
            "execution_count": null,
            "id": "f905919c",
            "metadata": {},
            "outputs": [
                {
                    "name": "stderr",
                    "output_type": "stream",
                    "text": [
                        "Epoch 10/100:   9%|▉         | 9/100 [05:07<54:15, 35.77s/epoch, train_loss=17.5130, val_loss=17.8901]"
                    ]
                }
            ],
            "source": [
                "# Train the MLP model using the new ModelTrainer interface\n",
                "trainer.train(x_train=dfs_final.iloc[:, :-1], y_train=dfs_final[\"label\"])"
            ]
        },
        {
            "cell_type": "code",
            "execution_count": null,
            "id": "1f510c4d",
            "metadata": {},
            "outputs": [
                {
                    "ename": "NameError",
                    "evalue": "name 'X_val_tensor' is not defined",
                    "output_type": "error",
                    "traceback": [
                        "\u001b[0;31m---------------------------------------------------------------------------\u001b[0m",
                        "\u001b[0;31mNameError\u001b[0m                                 Traceback (most recent call last)",
                        "Cell \u001b[0;32mIn[9], line 5\u001b[0m\n\u001b[1;32m      1\u001b[0m \u001b[38;5;66;03m# Evaluate model performance on validation set using ModelTrainer's test method\u001b[39;00m\n\u001b[1;32m      2\u001b[0m \u001b[38;5;28;01mfrom\u001b[39;00m\u001b[38;5;250m \u001b[39m\u001b[38;5;21;01msklearn\u001b[39;00m\u001b[38;5;21;01m.\u001b[39;00m\u001b[38;5;21;01mmetrics\u001b[39;00m\u001b[38;5;250m \u001b[39m\u001b[38;5;28;01mimport\u001b[39;00m mean_squared_error, r2_score\n\u001b[1;32m      4\u001b[0m test_loss, test_metrics \u001b[38;5;241m=\u001b[39m trainer\u001b[38;5;241m.\u001b[39mtest(\n\u001b[0;32m----> 5\u001b[0m     \u001b[43mX_val_tensor\u001b[49m, y_val_tensor, metrics\u001b[38;5;241m=\u001b[39m[mean_squared_error, r2_score]\n\u001b[1;32m      6\u001b[0m )\n\u001b[1;32m      7\u001b[0m \u001b[38;5;28mprint\u001b[39m(\u001b[38;5;124mf\u001b[39m\u001b[38;5;124m\"\u001b[39m\u001b[38;5;124mTest Loss: \u001b[39m\u001b[38;5;132;01m{\u001b[39;00mtest_loss\u001b[38;5;132;01m:\u001b[39;00m\u001b[38;5;124m.4f\u001b[39m\u001b[38;5;132;01m}\u001b[39;00m\u001b[38;5;124m\"\u001b[39m)\n\u001b[1;32m      8\u001b[0m \u001b[38;5;28mprint\u001b[39m(\u001b[38;5;124mf\u001b[39m\u001b[38;5;124m\"\u001b[39m\u001b[38;5;124mTest Metrics: \u001b[39m\u001b[38;5;132;01m{\u001b[39;00mtest_metrics\u001b[38;5;132;01m}\u001b[39;00m\u001b[38;5;124m\"\u001b[39m)\n",
                        "\u001b[0;31mNameError\u001b[0m: name 'X_val_tensor' is not defined"
                    ]
                }
            ],
            "source": [
                "# Evaluate model performance on validation set using ModelTrainer's test method\n",
                "from sklearn.metrics import mean_squared_error, r2_score\n",
                "\n",
                "test_loss, test_metrics = trainer.test(\n",
                "    X_val_tensor, y_val_tensor, metrics=[mean_squared_error, r2_score]\n",
                ")\n",
                "print(f\"Test Loss: {test_loss:.4f}\")\n",
                "print(f\"Test Metrics: {test_metrics}\")"
            ]
        },
        {
            "cell_type": "code",
            "execution_count": null,
            "id": "7561d2be",
            "metadata": {},
            "outputs": [
                {
                    "data": {
                        "image/png": "[encoded data removed]",
                        "text/plain": [
                            "<Figure size 1000x500 with 1 Axes>"
                        ]
                    },
                    "metadata": {},
                    "output_type": "display_data"
                }
            ],
            "source": [
                "# Visualize training history\n",
                "plt.figure(figsize=(10, 5))\n",
                "for i, fold_hist in enumerate(trainer.history):\n",
                "    if fold_hist is not None:\n",
                "        plt.plot(fold_hist[\"val_loss\"], label=\"Val Loss\")\n",
                "plt.title(\"Validation Loss\")\n",
                "plt.xlabel(\"Epoch\")\n",
                "plt.ylabel(\"Loss\")\n",
                "plt.legend()\n",
                "plt.show()"
            ]
        },
        {
            "cell_type": "code",
            "execution_count": null,
            "id": "1bbba0c6",
            "metadata": {},
            "outputs": [],
            "source": [
                "# Example: Setup TrainerConfig with Kfold for cross-validation\n",
                "from sklearn.metrics import mean_squared_error, r2_score\n",
                "\n",
                "trainer_config_cv = TrainerConfig(\n",
                "    optimizer=\"adam\",\n",
                "    criterion=\"mse\",\n",
                "    batch_size=16,\n",
                "    epochs=100,\n",
                "    seed=11,\n",
                "    config_model=mlp_config,\n",
                "    learning_rate=0.001,\n",
                "    device=\"cuda\" if torch.cuda.is_available() else \"cpu\",\n",
                "    cross_validation=True,\n",
                "    n_splits=5,\n",
                "    metrics=[mean_squared_error, r2_score],\n",
                ")\n",
                "trainer_cv = ModelTrainer(trainer_config_cv)"
            ]
        },
        {
            "cell_type": "code",
            "execution_count": null,
            "id": "ac8d9264",
            "metadata": {},
            "outputs": [
                {
                    "name": "stdout",
                    "output_type": "stream",
                    "text": [
                        "Training fold 1/5\n"
                    ]
                },
                {
                    "name": "stderr",
                    "output_type": "stream",
                    "text": [
                        "                                                                                                      \r"
                    ]
                },
                {
                    "name": "stdout",
                    "output_type": "stream",
                    "text": [
                        "Training fold 2/5\n"
                    ]
                },
                {
                    "name": "stderr",
                    "output_type": "stream",
                    "text": [
                        "                                                                                                      \r"
                    ]
                },
                {
                    "name": "stdout",
                    "output_type": "stream",
                    "text": [
                        "Training fold 3/5\n"
                    ]
                },
                {
                    "name": "stderr",
                    "output_type": "stream",
                    "text": [
                        "                                                                                                      \r"
                    ]
                },
                {
                    "name": "stdout",
                    "output_type": "stream",
                    "text": [
                        "Training fold 4/5\n"
                    ]
                },
                {
                    "name": "stderr",
                    "output_type": "stream",
                    "text": [
                        "                                                                                                       \r"
                    ]
                },
                {
                    "name": "stdout",
                    "output_type": "stream",
                    "text": [
                        "Training fold 5/5\n"
                    ]
                },
                {
                    "name": "stderr",
                    "output_type": "stream",
                    "text": [
                        "                                                                                                      \r"
                    ]
                }
            ],
            "source": [
                "# Train the MLP model using cross-validation (StratifiedKFold)\n",
                "# This will run 5-fold cross-validation and store history for each fold in trainer_cv.history\n",
                "trainer_cv.train(X_train_tensor, y_train_tensor)"
            ]
        },
        {
            "cell_type": "code",
            "execution_count": null,
            "id": "8cb4508d",
            "metadata": {},
            "outputs": [
                {
                    "data": {
                        "image/png": "[encoded data removed]",
                        "text/plain": [
                            "<Figure size 1000x500 with 1 Axes>"
                        ]
                    },
                    "metadata": {},
                    "output_type": "display_data"
                }
            ],
            "source": [
                "# Visualize K-Fold training history for all folds\n",
                "plt.figure(figsize=(10, 5))\n",
                "for i, fold_hist in enumerate(trainer_cv.history):\n",
                "    if fold_hist is not None:\n",
                "        plt.plot(fold_hist[\"val_loss\"], label=f\"Fold {i + 1} Val Loss\")\n",
                "plt.title(\"Validation Loss per Fold (K-Fold)\")\n",
                "plt.xlabel(\"Epoch\")\n",
                "plt.ylabel(\"Loss\")\n",
                "plt.legend()\n",
                "plt.show()"
            ]
        }
    ],
    "metadata": {
        "kernelspec": {
            "display_name": "threewtoolkit-py3.10",
            "language": "python",
            "name": "python3"
        },
        "language_info": {
            "codemirror_mode": {
                "name": "ipython",
                "version": 3
            },
            "file_extension": ".py",
            "mimetype": "text/x-python",
            "name": "python",
            "nbconvert_exporter": "python",
            "pygments_lexer": "ipython3",
            "version": "3.10.11"
        }
    },
    "nbformat": 4,
    "nbformat_minor": 5
}
