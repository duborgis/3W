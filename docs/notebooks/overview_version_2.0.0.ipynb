{
 "cells": [
  {
   "cell_type": "markdown",
   "metadata": {},
   "source": [
    "# 3W Toolkit"
   ]
  },
  {
   "cell_type": "markdown",
   "metadata": {},
   "source": [
    "**Versão:** 2.0.0  \n",
    "**Autores:** Bruno Coelho Martins, Carla Pagliari, Eduardo A. B. Silva, Eduardo Henrique, Fernanda Duarte Vilela Reis de Oliveira, Gabriel Henrique Braga Lisboa, Luiza Helena de Andrade Leite, Marcello Campos, Matheus Ferreira Espirito Santo, Matheus Ramos Parracho, Natanael Moura Junior, Pedro Braga Lisboa, Rafael Padilla, Sergio Lima Netto, Thadeu Luiz Barbosa Dias, Umberto Augusto.  \n",
    "**Descrição:** Notebook demonstrativo com as principais funcionalidades do *3W Toolkit*.\n"
   ]
  },
  {
   "cell_type": "markdown",
   "metadata": {},
   "source": [
    "----"
   ]
  },
  {
   "cell_type": "markdown",
   "metadata": {},
   "source": [
    "\n",
    "## Sumário\n",
    "1. Introdução ao 3W Toolkit  \n",
    "   1.1 Como instalar  \n",
    "2. Dataset 3W  \n",
    "   2.1. Download do Dataset  \n",
    "   2.2. Limpeza e exploração  \n",
    "3. Pré-processamento  \n",
    "   3.1. Funcionalidades  \n",
    "4. Extração de características  \n",
    "   4.1. Funcionalidades  \n",
    "5. Análise exploratória  \n",
    "   5.1. Visualizando as séries temporais  \n",
    "6. Treinamento e avaliação de modelos  \n",
    "7. Gerando relatório  \n",
    "8. Utilizando o Pipeline automatizado  \n",
    "   8.1. Estrutura  \n",
    "   8.2. Configurando o Pipeline #Explicação das classes Config do tipo BaseStep.  \n",
    "   8.3. Executando e avaliando relatório  "
   ]
  },
  {
   "cell_type": "markdown",
   "metadata": {},
   "source": [
    "----"
   ]
  },
  {
   "cell_type": "markdown",
   "metadata": {},
   "source": [
    "## 1. Introdução ao 3W toolkit\n",
    "\n",
    "O **3W Toolkit** é um ambiente de código aberto desenvolvido em parceria entre a Petrobras e a UFRJ, voltado para o **monitoramento de poços de petróleo**. Seu objetivo é fornecer uma infraestrutura modular que permita desenvolver, treinar e avaliar algoritmos de detecção e classificação de falhas operacionais, garantindo **reprodutibilidade** e **comparabilidade** entre experimentos.\n",
    "\n",
    "O toolkit organiza-se em módulos independentes e combináveis:\n",
    "- **Dataset**: gestão e versionamento dos dados.  \n",
    "- **Pré-processamento**: normalização, imputação, balanceamento e janelas temporais.  \n",
    "- **Extração de atributos**: geração de *features* a partir de séries temporais.  \n",
    "- **Modelos**: diferentes classificadores e detectores configuráveis.  \n",
    "- **Avaliação & Métricas**: indicadores padronizados para comparação justa de resultados.  \n",
    "- **Visualização & Relatórios**: gráficos e documentos para análise clara dos experimentos.\n",
    "\n",
    "Assim, o 3W Toolkit funciona como um **ecossistema de pesquisa e inovação aplicada**, apoiando a Petrobras e a comunidade acadêmica no avanço de soluções de aprendizado de máquina para a indústria de óleo e gás.\n"
   ]
  },
  {
   "cell_type": "markdown",
   "metadata": {},
   "source": [
    "### 1.1 Como instalar o 3W toolkit"
   ]
  },
  {
   "cell_type": "markdown",
   "metadata": {},
   "source": [
    "O 3W toolkit v.2.0.0 pode ser baixado ou clonado atraves do repositório oficial [https://github.com/petrobras/3W](https://github.com/petrobras/3W) ou pode ser instalado via `pip install ThreeWtoolkit`"
   ]
  },
  {
   "cell_type": "code",
   "execution_count": 1,
   "metadata": {},
   "outputs": [],
   "source": [
    "### TODO: Quando disponível, mostrar como instalar o projeto via `pip install` ###"
   ]
  },
  {
   "cell_type": "markdown",
   "metadata": {},
   "source": [
    "-----"
   ]
  },
  {
   "cell_type": "markdown",
   "metadata": {},
   "source": [
    "## 2. Dataset 3W\n",
    "\n",
    "**Formato:** Tabular dividido em arquivos no formato [parquet](https://parquet.apache.org/)  \n",
    "**Hospedado em:** [3W Dataset 2.0.0 - Figshare](https://figshare.com/articles/dataset/3W_Dataset_2_0_0/29205836?file=55019255)  \n",
    "**Tamanho:** 1.67 GB  \n",
    "**Divisões:** 10 pastas com arquivos parquet, sendo 1 pasta para cada evento.  \n",
    "**Licença e uso:** [Apache 2.0](https://github.com/petrobras/3W/?tab=Apache-2.0-1-ov-file#readme)"
   ]
  },
  {
   "cell_type": "markdown",
   "metadata": {},
   "source": [
    "### 2.2 Baixar o dataset"
   ]
  },
  {
   "cell_type": "markdown",
   "metadata": {},
   "source": [
    "Vamos fazer o download do dataset utilizando a biblioteca 3W:"
   ]
  },
  {
   "cell_type": "code",
   "execution_count": 1,
   "metadata": {},
   "outputs": [],
   "source": [
    "# Importando a classe ParquetDataset para baixar e carregar o dataset\n",
    "from ThreeWToolkit.dataset import ParquetDataset, DatasetConfig\n",
    "from pathlib import Path\n",
    "\n",
    "# Definindo o caminho para o dataset\n",
    "dataset_path = Path(\"./dataset\")\n",
    "\n",
    "# Criando um objeto ParquetDataset para carregar o dataset\n",
    "ds_config = DatasetConfig(path=dataset_path, download=True)\n",
    "ds = ParquetDataset(ds_config)"
   ]
  },
  {
   "cell_type": "markdown",
   "metadata": {},
   "source": [
    "### 2.3 Limpeza e exploração"
   ]
  },
  {
   "cell_type": "code",
   "execution_count": 2,
   "metadata": {},
   "outputs": [
    {
     "data": {
      "text/plain": [
       "2228"
      ]
     },
     "execution_count": 2,
     "metadata": {},
     "output_type": "execute_result"
    }
   ],
   "source": [
    "\n",
    "# Visualizando o dataset\n",
    "total_events = len(ds)\n",
    "\n",
    "total_events"
   ]
  },
  {
   "cell_type": "markdown",
   "metadata": {},
   "source": [
    "Cada evento do dataset é um dicionário contendo 2 chaves: \"signal\" e \"label\""
   ]
  },
  {
   "cell_type": "code",
   "execution_count": 21,
   "metadata": {},
   "outputs": [
    {
     "data": {
      "text/plain": [
       "dict"
      ]
     },
     "execution_count": 21,
     "metadata": {},
     "output_type": "execute_result"
    }
   ],
   "source": [
    "event_id = 0\n",
    "type(ds[event_id])"
   ]
  },
  {
   "cell_type": "code",
   "execution_count": 22,
   "metadata": {},
   "outputs": [
    {
     "data": {
      "text/plain": [
       "dict_keys(['signal', 'label'])"
      ]
     },
     "execution_count": 22,
     "metadata": {},
     "output_type": "execute_result"
    }
   ],
   "source": [
    "ds[event_id].keys()"
   ]
  },
  {
   "cell_type": "markdown",
   "metadata": {},
   "source": [
    "Vamos dar uma olhada no \"signal\":"
   ]
  },
  {
   "cell_type": "code",
   "execution_count": 23,
   "metadata": {},
   "outputs": [
    {
     "data": {
      "text/html": [
       "<div>\n",
       "<style scoped>\n",
       "    .dataframe tbody tr th:only-of-type {\n",
       "        vertical-align: middle;\n",
       "    }\n",
       "\n",
       "    .dataframe tbody tr th {\n",
       "        vertical-align: top;\n",
       "    }\n",
       "\n",
       "    .dataframe thead th {\n",
       "        text-align: right;\n",
       "    }\n",
       "</style>\n",
       "<table border=\"1\" class=\"dataframe\">\n",
       "  <thead>\n",
       "    <tr style=\"text-align: right;\">\n",
       "      <th></th>\n",
       "      <th>ABER-CKGL</th>\n",
       "      <th>ABER-CKP</th>\n",
       "      <th>ESTADO-DHSV</th>\n",
       "      <th>ESTADO-M1</th>\n",
       "      <th>ESTADO-M2</th>\n",
       "      <th>ESTADO-PXO</th>\n",
       "      <th>ESTADO-SDV-GL</th>\n",
       "      <th>ESTADO-SDV-P</th>\n",
       "      <th>ESTADO-W1</th>\n",
       "      <th>ESTADO-W2</th>\n",
       "      <th>...</th>\n",
       "      <th>P-PDG</th>\n",
       "      <th>PT-P</th>\n",
       "      <th>P-TPT</th>\n",
       "      <th>QBS</th>\n",
       "      <th>QGL</th>\n",
       "      <th>T-JUS-CKP</th>\n",
       "      <th>T-MON-CKP</th>\n",
       "      <th>T-PDG</th>\n",
       "      <th>T-TPT</th>\n",
       "      <th>state</th>\n",
       "    </tr>\n",
       "    <tr>\n",
       "      <th>timestamp</th>\n",
       "      <th></th>\n",
       "      <th></th>\n",
       "      <th></th>\n",
       "      <th></th>\n",
       "      <th></th>\n",
       "      <th></th>\n",
       "      <th></th>\n",
       "      <th></th>\n",
       "      <th></th>\n",
       "      <th></th>\n",
       "      <th></th>\n",
       "      <th></th>\n",
       "      <th></th>\n",
       "      <th></th>\n",
       "      <th></th>\n",
       "      <th></th>\n",
       "      <th></th>\n",
       "      <th></th>\n",
       "      <th></th>\n",
       "      <th></th>\n",
       "      <th></th>\n",
       "    </tr>\n",
       "  </thead>\n",
       "  <tbody>\n",
       "    <tr>\n",
       "      <th>2016-07-04 18:00:00</th>\n",
       "      <td>NaN</td>\n",
       "      <td>NaN</td>\n",
       "      <td>NaN</td>\n",
       "      <td>NaN</td>\n",
       "      <td>NaN</td>\n",
       "      <td>NaN</td>\n",
       "      <td>1.0</td>\n",
       "      <td>1.0</td>\n",
       "      <td>NaN</td>\n",
       "      <td>NaN</td>\n",
       "      <td>...</td>\n",
       "      <td>0.0</td>\n",
       "      <td>NaN</td>\n",
       "      <td>-17129300.0</td>\n",
       "      <td>NaN</td>\n",
       "      <td>2.030010</td>\n",
       "      <td>55.14078</td>\n",
       "      <td>NaN</td>\n",
       "      <td>0.0</td>\n",
       "      <td>95.97056</td>\n",
       "      <td>&lt;NA&gt;</td>\n",
       "    </tr>\n",
       "    <tr>\n",
       "      <th>2016-07-04 18:00:01</th>\n",
       "      <td>NaN</td>\n",
       "      <td>NaN</td>\n",
       "      <td>NaN</td>\n",
       "      <td>NaN</td>\n",
       "      <td>NaN</td>\n",
       "      <td>NaN</td>\n",
       "      <td>1.0</td>\n",
       "      <td>1.0</td>\n",
       "      <td>NaN</td>\n",
       "      <td>NaN</td>\n",
       "      <td>...</td>\n",
       "      <td>0.0</td>\n",
       "      <td>NaN</td>\n",
       "      <td>-17129300.0</td>\n",
       "      <td>NaN</td>\n",
       "      <td>2.028295</td>\n",
       "      <td>55.14299</td>\n",
       "      <td>NaN</td>\n",
       "      <td>0.0</td>\n",
       "      <td>95.96629</td>\n",
       "      <td>&lt;NA&gt;</td>\n",
       "    </tr>\n",
       "    <tr>\n",
       "      <th>2016-07-04 18:00:02</th>\n",
       "      <td>NaN</td>\n",
       "      <td>NaN</td>\n",
       "      <td>NaN</td>\n",
       "      <td>NaN</td>\n",
       "      <td>NaN</td>\n",
       "      <td>NaN</td>\n",
       "      <td>1.0</td>\n",
       "      <td>1.0</td>\n",
       "      <td>NaN</td>\n",
       "      <td>NaN</td>\n",
       "      <td>...</td>\n",
       "      <td>0.0</td>\n",
       "      <td>NaN</td>\n",
       "      <td>-17129300.0</td>\n",
       "      <td>NaN</td>\n",
       "      <td>2.026579</td>\n",
       "      <td>55.14520</td>\n",
       "      <td>NaN</td>\n",
       "      <td>0.0</td>\n",
       "      <td>95.96203</td>\n",
       "      <td>&lt;NA&gt;</td>\n",
       "    </tr>\n",
       "    <tr>\n",
       "      <th>2016-07-04 18:00:03</th>\n",
       "      <td>NaN</td>\n",
       "      <td>NaN</td>\n",
       "      <td>NaN</td>\n",
       "      <td>NaN</td>\n",
       "      <td>NaN</td>\n",
       "      <td>NaN</td>\n",
       "      <td>1.0</td>\n",
       "      <td>1.0</td>\n",
       "      <td>NaN</td>\n",
       "      <td>NaN</td>\n",
       "      <td>...</td>\n",
       "      <td>0.0</td>\n",
       "      <td>NaN</td>\n",
       "      <td>-17129300.0</td>\n",
       "      <td>NaN</td>\n",
       "      <td>2.024863</td>\n",
       "      <td>55.14741</td>\n",
       "      <td>NaN</td>\n",
       "      <td>0.0</td>\n",
       "      <td>95.95777</td>\n",
       "      <td>&lt;NA&gt;</td>\n",
       "    </tr>\n",
       "    <tr>\n",
       "      <th>2016-07-04 18:00:04</th>\n",
       "      <td>NaN</td>\n",
       "      <td>NaN</td>\n",
       "      <td>NaN</td>\n",
       "      <td>NaN</td>\n",
       "      <td>NaN</td>\n",
       "      <td>NaN</td>\n",
       "      <td>1.0</td>\n",
       "      <td>1.0</td>\n",
       "      <td>NaN</td>\n",
       "      <td>NaN</td>\n",
       "      <td>...</td>\n",
       "      <td>0.0</td>\n",
       "      <td>NaN</td>\n",
       "      <td>-17129300.0</td>\n",
       "      <td>NaN</td>\n",
       "      <td>2.024550</td>\n",
       "      <td>55.14962</td>\n",
       "      <td>NaN</td>\n",
       "      <td>0.0</td>\n",
       "      <td>95.95351</td>\n",
       "      <td>&lt;NA&gt;</td>\n",
       "    </tr>\n",
       "    <tr>\n",
       "      <th>...</th>\n",
       "      <td>...</td>\n",
       "      <td>...</td>\n",
       "      <td>...</td>\n",
       "      <td>...</td>\n",
       "      <td>...</td>\n",
       "      <td>...</td>\n",
       "      <td>...</td>\n",
       "      <td>...</td>\n",
       "      <td>...</td>\n",
       "      <td>...</td>\n",
       "      <td>...</td>\n",
       "      <td>...</td>\n",
       "      <td>...</td>\n",
       "      <td>...</td>\n",
       "      <td>...</td>\n",
       "      <td>...</td>\n",
       "      <td>...</td>\n",
       "      <td>...</td>\n",
       "      <td>...</td>\n",
       "      <td>...</td>\n",
       "      <td>...</td>\n",
       "    </tr>\n",
       "    <tr>\n",
       "      <th>2016-07-06 12:59:56</th>\n",
       "      <td>NaN</td>\n",
       "      <td>NaN</td>\n",
       "      <td>NaN</td>\n",
       "      <td>NaN</td>\n",
       "      <td>NaN</td>\n",
       "      <td>NaN</td>\n",
       "      <td>1.0</td>\n",
       "      <td>1.0</td>\n",
       "      <td>NaN</td>\n",
       "      <td>NaN</td>\n",
       "      <td>...</td>\n",
       "      <td>0.0</td>\n",
       "      <td>NaN</td>\n",
       "      <td>-17129300.0</td>\n",
       "      <td>NaN</td>\n",
       "      <td>2.017727</td>\n",
       "      <td>52.31438</td>\n",
       "      <td>NaN</td>\n",
       "      <td>0.0</td>\n",
       "      <td>96.69060</td>\n",
       "      <td>0</td>\n",
       "    </tr>\n",
       "    <tr>\n",
       "      <th>2016-07-06 12:59:57</th>\n",
       "      <td>NaN</td>\n",
       "      <td>NaN</td>\n",
       "      <td>NaN</td>\n",
       "      <td>NaN</td>\n",
       "      <td>NaN</td>\n",
       "      <td>NaN</td>\n",
       "      <td>1.0</td>\n",
       "      <td>1.0</td>\n",
       "      <td>NaN</td>\n",
       "      <td>NaN</td>\n",
       "      <td>...</td>\n",
       "      <td>0.0</td>\n",
       "      <td>NaN</td>\n",
       "      <td>-17129300.0</td>\n",
       "      <td>NaN</td>\n",
       "      <td>2.017647</td>\n",
       "      <td>52.31354</td>\n",
       "      <td>NaN</td>\n",
       "      <td>0.0</td>\n",
       "      <td>96.68634</td>\n",
       "      <td>0</td>\n",
       "    </tr>\n",
       "    <tr>\n",
       "      <th>2016-07-06 12:59:58</th>\n",
       "      <td>NaN</td>\n",
       "      <td>NaN</td>\n",
       "      <td>NaN</td>\n",
       "      <td>NaN</td>\n",
       "      <td>NaN</td>\n",
       "      <td>NaN</td>\n",
       "      <td>1.0</td>\n",
       "      <td>1.0</td>\n",
       "      <td>NaN</td>\n",
       "      <td>NaN</td>\n",
       "      <td>...</td>\n",
       "      <td>0.0</td>\n",
       "      <td>NaN</td>\n",
       "      <td>-17129300.0</td>\n",
       "      <td>NaN</td>\n",
       "      <td>2.017568</td>\n",
       "      <td>52.31269</td>\n",
       "      <td>NaN</td>\n",
       "      <td>0.0</td>\n",
       "      <td>96.68634</td>\n",
       "      <td>0</td>\n",
       "    </tr>\n",
       "    <tr>\n",
       "      <th>2016-07-06 12:59:59</th>\n",
       "      <td>NaN</td>\n",
       "      <td>NaN</td>\n",
       "      <td>NaN</td>\n",
       "      <td>NaN</td>\n",
       "      <td>NaN</td>\n",
       "      <td>NaN</td>\n",
       "      <td>1.0</td>\n",
       "      <td>1.0</td>\n",
       "      <td>NaN</td>\n",
       "      <td>NaN</td>\n",
       "      <td>...</td>\n",
       "      <td>0.0</td>\n",
       "      <td>NaN</td>\n",
       "      <td>-17129300.0</td>\n",
       "      <td>NaN</td>\n",
       "      <td>2.017489</td>\n",
       "      <td>52.31185</td>\n",
       "      <td>NaN</td>\n",
       "      <td>0.0</td>\n",
       "      <td>96.68634</td>\n",
       "      <td>0</td>\n",
       "    </tr>\n",
       "    <tr>\n",
       "      <th>2016-07-06 13:00:00</th>\n",
       "      <td>NaN</td>\n",
       "      <td>NaN</td>\n",
       "      <td>NaN</td>\n",
       "      <td>NaN</td>\n",
       "      <td>NaN</td>\n",
       "      <td>NaN</td>\n",
       "      <td>1.0</td>\n",
       "      <td>1.0</td>\n",
       "      <td>NaN</td>\n",
       "      <td>NaN</td>\n",
       "      <td>...</td>\n",
       "      <td>0.0</td>\n",
       "      <td>NaN</td>\n",
       "      <td>-17129300.0</td>\n",
       "      <td>NaN</td>\n",
       "      <td>2.017409</td>\n",
       "      <td>52.31100</td>\n",
       "      <td>NaN</td>\n",
       "      <td>0.0</td>\n",
       "      <td>96.68634</td>\n",
       "      <td>0</td>\n",
       "    </tr>\n",
       "  </tbody>\n",
       "</table>\n",
       "<p>154801 rows × 28 columns</p>\n",
       "</div>"
      ],
      "text/plain": [
       "                     ABER-CKGL  ABER-CKP  ESTADO-DHSV  ESTADO-M1  ESTADO-M2  \\\n",
       "timestamp                                                                     \n",
       "2016-07-04 18:00:00        NaN       NaN          NaN        NaN        NaN   \n",
       "2016-07-04 18:00:01        NaN       NaN          NaN        NaN        NaN   \n",
       "2016-07-04 18:00:02        NaN       NaN          NaN        NaN        NaN   \n",
       "2016-07-04 18:00:03        NaN       NaN          NaN        NaN        NaN   \n",
       "2016-07-04 18:00:04        NaN       NaN          NaN        NaN        NaN   \n",
       "...                        ...       ...          ...        ...        ...   \n",
       "2016-07-06 12:59:56        NaN       NaN          NaN        NaN        NaN   \n",
       "2016-07-06 12:59:57        NaN       NaN          NaN        NaN        NaN   \n",
       "2016-07-06 12:59:58        NaN       NaN          NaN        NaN        NaN   \n",
       "2016-07-06 12:59:59        NaN       NaN          NaN        NaN        NaN   \n",
       "2016-07-06 13:00:00        NaN       NaN          NaN        NaN        NaN   \n",
       "\n",
       "                     ESTADO-PXO  ESTADO-SDV-GL  ESTADO-SDV-P  ESTADO-W1  \\\n",
       "timestamp                                                                 \n",
       "2016-07-04 18:00:00         NaN            1.0           1.0        NaN   \n",
       "2016-07-04 18:00:01         NaN            1.0           1.0        NaN   \n",
       "2016-07-04 18:00:02         NaN            1.0           1.0        NaN   \n",
       "2016-07-04 18:00:03         NaN            1.0           1.0        NaN   \n",
       "2016-07-04 18:00:04         NaN            1.0           1.0        NaN   \n",
       "...                         ...            ...           ...        ...   \n",
       "2016-07-06 12:59:56         NaN            1.0           1.0        NaN   \n",
       "2016-07-06 12:59:57         NaN            1.0           1.0        NaN   \n",
       "2016-07-06 12:59:58         NaN            1.0           1.0        NaN   \n",
       "2016-07-06 12:59:59         NaN            1.0           1.0        NaN   \n",
       "2016-07-06 13:00:00         NaN            1.0           1.0        NaN   \n",
       "\n",
       "                     ESTADO-W2  ...  P-PDG  PT-P       P-TPT  QBS       QGL  \\\n",
       "timestamp                       ...                                           \n",
       "2016-07-04 18:00:00        NaN  ...    0.0   NaN -17129300.0  NaN  2.030010   \n",
       "2016-07-04 18:00:01        NaN  ...    0.0   NaN -17129300.0  NaN  2.028295   \n",
       "2016-07-04 18:00:02        NaN  ...    0.0   NaN -17129300.0  NaN  2.026579   \n",
       "2016-07-04 18:00:03        NaN  ...    0.0   NaN -17129300.0  NaN  2.024863   \n",
       "2016-07-04 18:00:04        NaN  ...    0.0   NaN -17129300.0  NaN  2.024550   \n",
       "...                        ...  ...    ...   ...         ...  ...       ...   \n",
       "2016-07-06 12:59:56        NaN  ...    0.0   NaN -17129300.0  NaN  2.017727   \n",
       "2016-07-06 12:59:57        NaN  ...    0.0   NaN -17129300.0  NaN  2.017647   \n",
       "2016-07-06 12:59:58        NaN  ...    0.0   NaN -17129300.0  NaN  2.017568   \n",
       "2016-07-06 12:59:59        NaN  ...    0.0   NaN -17129300.0  NaN  2.017489   \n",
       "2016-07-06 13:00:00        NaN  ...    0.0   NaN -17129300.0  NaN  2.017409   \n",
       "\n",
       "                     T-JUS-CKP  T-MON-CKP  T-PDG     T-TPT  state  \n",
       "timestamp                                                          \n",
       "2016-07-04 18:00:00   55.14078        NaN    0.0  95.97056   <NA>  \n",
       "2016-07-04 18:00:01   55.14299        NaN    0.0  95.96629   <NA>  \n",
       "2016-07-04 18:00:02   55.14520        NaN    0.0  95.96203   <NA>  \n",
       "2016-07-04 18:00:03   55.14741        NaN    0.0  95.95777   <NA>  \n",
       "2016-07-04 18:00:04   55.14962        NaN    0.0  95.95351   <NA>  \n",
       "...                        ...        ...    ...       ...    ...  \n",
       "2016-07-06 12:59:56   52.31438        NaN    0.0  96.69060      0  \n",
       "2016-07-06 12:59:57   52.31354        NaN    0.0  96.68634      0  \n",
       "2016-07-06 12:59:58   52.31269        NaN    0.0  96.68634      0  \n",
       "2016-07-06 12:59:59   52.31185        NaN    0.0  96.68634      0  \n",
       "2016-07-06 13:00:00   52.31100        NaN    0.0  96.68634      0  \n",
       "\n",
       "[154801 rows x 28 columns]"
      ]
     },
     "execution_count": 23,
     "metadata": {},
     "output_type": "execute_result"
    }
   ],
   "source": [
    "ds[event_id][\"signal\"]"
   ]
  },
  {
   "cell_type": "markdown",
   "metadata": {},
   "source": [
    "Vamos dar uma olhada na \"label\""
   ]
  },
  {
   "cell_type": "code",
   "execution_count": 29,
   "metadata": {},
   "outputs": [
    {
     "data": {
      "text/plain": [
       "array([  0., 107.,  nan])"
      ]
     },
     "execution_count": 29,
     "metadata": {},
     "output_type": "execute_result"
    }
   ],
   "source": [
    "import numpy as np\n",
    "np.unique(ds[0][\"label\"])\n",
    "     "
   ]
  },
  {
   "cell_type": "code",
   "execution_count": 31,
   "metadata": {},
   "outputs": [
    {
     "data": {
      "text/html": [
       "<div>\n",
       "<style scoped>\n",
       "    .dataframe tbody tr th:only-of-type {\n",
       "        vertical-align: middle;\n",
       "    }\n",
       "\n",
       "    .dataframe tbody tr th {\n",
       "        vertical-align: top;\n",
       "    }\n",
       "\n",
       "    .dataframe thead th {\n",
       "        text-align: right;\n",
       "    }\n",
       "</style>\n",
       "<table border=\"1\" class=\"dataframe\">\n",
       "  <thead>\n",
       "    <tr style=\"text-align: right;\">\n",
       "      <th></th>\n",
       "      <th>class</th>\n",
       "    </tr>\n",
       "    <tr>\n",
       "      <th>timestamp</th>\n",
       "      <th></th>\n",
       "    </tr>\n",
       "  </thead>\n",
       "  <tbody>\n",
       "    <tr>\n",
       "      <th>2016-07-04 18:00:00</th>\n",
       "      <td>&lt;NA&gt;</td>\n",
       "    </tr>\n",
       "    <tr>\n",
       "      <th>2016-07-04 18:00:01</th>\n",
       "      <td>&lt;NA&gt;</td>\n",
       "    </tr>\n",
       "    <tr>\n",
       "      <th>2016-07-04 18:00:02</th>\n",
       "      <td>&lt;NA&gt;</td>\n",
       "    </tr>\n",
       "    <tr>\n",
       "      <th>2016-07-04 18:00:03</th>\n",
       "      <td>&lt;NA&gt;</td>\n",
       "    </tr>\n",
       "    <tr>\n",
       "      <th>2016-07-04 18:00:04</th>\n",
       "      <td>&lt;NA&gt;</td>\n",
       "    </tr>\n",
       "    <tr>\n",
       "      <th>...</th>\n",
       "      <td>...</td>\n",
       "    </tr>\n",
       "    <tr>\n",
       "      <th>2016-07-06 12:59:56</th>\n",
       "      <td>107</td>\n",
       "    </tr>\n",
       "    <tr>\n",
       "      <th>2016-07-06 12:59:57</th>\n",
       "      <td>107</td>\n",
       "    </tr>\n",
       "    <tr>\n",
       "      <th>2016-07-06 12:59:58</th>\n",
       "      <td>107</td>\n",
       "    </tr>\n",
       "    <tr>\n",
       "      <th>2016-07-06 12:59:59</th>\n",
       "      <td>107</td>\n",
       "    </tr>\n",
       "    <tr>\n",
       "      <th>2016-07-06 13:00:00</th>\n",
       "      <td>107</td>\n",
       "    </tr>\n",
       "  </tbody>\n",
       "</table>\n",
       "<p>154801 rows × 1 columns</p>\n",
       "</div>"
      ],
      "text/plain": [
       "                     class\n",
       "timestamp                 \n",
       "2016-07-04 18:00:00   <NA>\n",
       "2016-07-04 18:00:01   <NA>\n",
       "2016-07-04 18:00:02   <NA>\n",
       "2016-07-04 18:00:03   <NA>\n",
       "2016-07-04 18:00:04   <NA>\n",
       "...                    ...\n",
       "2016-07-06 12:59:56    107\n",
       "2016-07-06 12:59:57    107\n",
       "2016-07-06 12:59:58    107\n",
       "2016-07-06 12:59:59    107\n",
       "2016-07-06 13:00:00    107\n",
       "\n",
       "[154801 rows x 1 columns]"
      ]
     },
     "execution_count": 31,
     "metadata": {},
     "output_type": "execute_result"
    }
   ],
   "source": [
    "ds[0][\"label\"]"
   ]
  },
  {
   "cell_type": "markdown",
   "metadata": {},
   "source": [
    "Também é possível fazermos particionamentos (splits) do dataset utilizando diferentes abordagens."
   ]
  },
  {
   "cell_type": "markdown",
   "metadata": {},
   "source": [
    "#### Split por tipo de evento"
   ]
  },
  {
   "cell_type": "code",
   "execution_count": null,
   "metadata": {},
   "outputs": [],
   "source": [
    "# TODO:\n",
    "# event_types = [EventPrefixEnum.DRAWN, EventPrefixEnum.SIMULATED]\n",
    "# ds_config = DatasetConfig(path=dataset_path, split=None, file_type=\"parquet\", event_type=event_types) # get only drawn\n",
    "# ds = ParquetDataset(ds_config, download=False)\n",
    "# len(ds) # should be much smaller /"
   ]
  },
  {
   "cell_type": "code",
   "execution_count": null,
   "metadata": {},
   "outputs": [],
   "source": [
    "# TODO\n",
    "# event_types = [EventPrefixEnum.REAL,]\n",
    "# ds_config = DatasetConfig(path=dataset_path, split=None, file_type=\"parquet\", event_type=event_types) # get only drawn\n",
    "# ds = ParquetDataset(ds_config, download=False)\n",
    "# len(ds) # should be much smaller /"
   ]
  },
  {
   "cell_type": "markdown",
   "metadata": {},
   "source": [
    "#### Split por classe"
   ]
  },
  {
   "cell_type": "code",
   "execution_count": 32,
   "metadata": {},
   "outputs": [],
   "source": [
    "# TODO\n",
    "# target_class = [0]\n",
    "# ds_config = DatasetConfig(path=dataset_path, split=None, file_type=\"parquet\", target_class=target_class) # get only drawn\n",
    "# ds = ParquetDataset(ds_config, download=False)\n",
    "# len(ds)"
   ]
  },
  {
   "cell_type": "code",
   "execution_count": 34,
   "metadata": {},
   "outputs": [],
   "source": [
    "# TODO\n",
    "# target_class = [4]\n",
    "# ds_config = DatasetConfig(path=dataset_path, split=None, file_type=\"parquet\", target_class=target_class) # get only drawn\n",
    "# ds = ParquetDataset(ds_config, download=False)\n",
    "# len(ds)"
   ]
  },
  {
   "cell_type": "code",
   "execution_count": 35,
   "metadata": {},
   "outputs": [],
   "source": [
    "# TODO\n",
    "# target_class = [0, 4]\n",
    "# ds_config = DatasetConfig(path=dataset_path, split=None, file_type=\"parquet\", target_class=target_class) # get only drawn\n",
    "# ds = ParquetDataset(ds_config, download=False)\n",
    "# len(ds)"
   ]
  },
  {
   "cell_type": "markdown",
   "metadata": {},
   "source": [
    "### Split utilizando uma lista de arquivos"
   ]
  },
  {
   "cell_type": "code",
   "execution_count": null,
   "metadata": {},
   "outputs": [],
   "source": [
    "#TODO\n",
    "# with open(\"./dataset/my_split.txt\", \"r\") as f:\n",
    "#     split = [line.strip() for line in f]\n",
    "# split, len(split)"
   ]
  },
  {
   "cell_type": "code",
   "execution_count": 36,
   "metadata": {},
   "outputs": [],
   "source": [
    "# ds_config = DatasetConfig(path=dataset_path, split=\"list\", file_type=\"parquet\", file_list=split) # get only files in split\n",
    "# ds = ParquetDataset(ds_config)\n",
    "# len(ds)"
   ]
  },
  {
   "cell_type": "code",
   "execution_count": 37,
   "metadata": {},
   "outputs": [],
   "source": [
    "# ds[0]['signal']"
   ]
  },
  {
   "cell_type": "code",
   "execution_count": 38,
   "metadata": {},
   "outputs": [],
   "source": [
    "# ds[0]['label']"
   ]
  },
  {
   "cell_type": "markdown",
   "metadata": {},
   "source": [
    "--------"
   ]
  },
  {
   "cell_type": "markdown",
   "metadata": {},
   "source": [
    "## 3. Pré-processamento"
   ]
  },
  {
   "cell_type": "markdown",
   "metadata": {},
   "source": [
    "TODO"
   ]
  },
  {
   "cell_type": "markdown",
   "metadata": {},
   "source": [
    "### 3.1 Funcionalidades"
   ]
  },
  {
   "cell_type": "markdown",
   "metadata": {},
   "source": [
    "TODO"
   ]
  },
  {
   "cell_type": "markdown",
   "metadata": {},
   "source": [
    "------"
   ]
  },
  {
   "cell_type": "markdown",
   "metadata": {},
   "source": [
    "## 4. Extração de características\n"
   ]
  },
  {
   "cell_type": "markdown",
   "metadata": {},
   "source": [
    "TODO"
   ]
  },
  {
   "cell_type": "markdown",
   "metadata": {},
   "source": [
    "### 4.1 Funcionalidades"
   ]
  },
  {
   "cell_type": "markdown",
   "metadata": {},
   "source": [
    "TODO"
   ]
  },
  {
   "cell_type": "markdown",
   "metadata": {},
   "source": [
    "----"
   ]
  },
  {
   "cell_type": "markdown",
   "metadata": {},
   "source": [
    "## 5. Análise exploratória\n"
   ]
  },
  {
   "cell_type": "markdown",
   "metadata": {},
   "source": [
    "TODO"
   ]
  },
  {
   "cell_type": "markdown",
   "metadata": {},
   "source": [
    "## 5.1. Visualizando as séries temporais"
   ]
  },
  {
   "cell_type": "markdown",
   "metadata": {},
   "source": [
    "TODO"
   ]
  },
  {
   "cell_type": "markdown",
   "metadata": {},
   "source": [
    "------"
   ]
  },
  {
   "cell_type": "markdown",
   "metadata": {},
   "source": [
    "## 6. Treinamento e avaliação de modelos "
   ]
  },
  {
   "cell_type": "markdown",
   "metadata": {},
   "source": [
    "TODO"
   ]
  },
  {
   "cell_type": "markdown",
   "metadata": {},
   "source": [
    "-------"
   ]
  },
  {
   "cell_type": "markdown",
   "metadata": {},
   "source": [
    "## 7. Gerando relatório"
   ]
  },
  {
   "cell_type": "markdown",
   "metadata": {},
   "source": [
    "TODO"
   ]
  },
  {
   "cell_type": "markdown",
   "metadata": {},
   "source": [
    "-----"
   ]
  },
  {
   "cell_type": "markdown",
   "metadata": {},
   "source": [
    "## 8. Utilizando o Pipeline automatizado"
   ]
  },
  {
   "cell_type": "markdown",
   "metadata": {},
   "source": [
    "O 3W Toolkit possui uma estrutura de pipeline pronta para você usar.\n",
    "\n",
    "O `Pipeline` é formado por componentes prontos ou customizáveis, que você poderá usar para montar sua estrutura de dados."
   ]
  },
  {
   "cell_type": "markdown",
   "metadata": {},
   "source": [
    "### 8.1. Estrutura\n"
   ]
  },
  {
   "cell_type": "markdown",
   "metadata": {},
   "source": [
    "# TODO: Colocar figura exemplificando os blocos do pipeline"
   ]
  },
  {
   "cell_type": "markdown",
   "metadata": {},
   "source": [
    "### 8.2. Configurando o Pipeline\n"
   ]
  },
  {
   "cell_type": "markdown",
   "metadata": {},
   "source": [
    "Um pipeline é formado por blocos do tipo `BaseStep`. Alguns destes blocos ja estao prontos para serem usados:\n",
    "\n",
    "* DataLoader  \n",
    "`step_data_loader = DataLoader(...)`  \n",
    "\n",
    "* Data processing com ImputeMissingConfig  \n",
    "`step_imput_missing = ImputeMissingConfig(...)`  \n",
    "\n",
    "* Data processing com  NormalizeConfig  \n",
    "`step_normalization = NormalizeConfig(...)`  \n",
    "\n",
    "* Data processing com RenameColumnsConfig  \n",
    "`step_rename_columns = RenameColumnsConfig(...)`  \n",
    "\n",
    "* Data processing com WindowingConfig  \n",
    "`step_windowing = WindowingConfig(...)`  \n",
    "\n",
    "  \n",
    "* TODO: Falta colocar o Trainer + Metrics + Report"
   ]
  },
  {
   "cell_type": "markdown",
   "metadata": {},
   "source": [
    "TODO: Falta colocar exemplos dos steps e explicação das classes Config do tipo `BaseStep`.\n"
   ]
  },
  {
   "cell_type": "markdown",
   "metadata": {},
   "source": [
    "Vamos entao criar um pipeline completo:"
   ]
  },
  {
   "cell_type": "markdown",
   "metadata": {},
   "source": [
    "TODO: Colocar aqui um exemplo de pipeline completo!\n"
   ]
  },
  {
   "cell_type": "markdown",
   "metadata": {},
   "source": [
    "Vamos executar o pipeline:"
   ]
  },
  {
   "cell_type": "code",
   "execution_count": 41,
   "metadata": {},
   "outputs": [],
   "source": [
    "# TODO:\n",
    "# pipeline.run()"
   ]
  },
  {
   "cell_type": "markdown",
   "metadata": {},
   "source": [
    "### 8.3 Executando e avaliando relatório"
   ]
  },
  {
   "cell_type": "markdown",
   "metadata": {},
   "source": [
    "Agora vamos abrir o report com as métricas obtidas pelo nosso pipeline:"
   ]
  },
  {
   "cell_type": "code",
   "execution_count": 42,
   "metadata": {},
   "outputs": [],
   "source": [
    "# TODO\n",
    "# pipeline.report()"
   ]
  }
 ],
 "metadata": {
  "kernelspec": {
   "display_name": "3w",
   "language": "python",
   "name": "python3"
  },
  "language_info": {
   "codemirror_mode": {
    "name": "ipython",
    "version": 3
   },
   "file_extension": ".py",
   "mimetype": "text/x-python",
   "name": "python",
   "nbconvert_exporter": "python",
   "pygments_lexer": "ipython3",
   "version": "3.10.11"
  }
 },
 "nbformat": 4,
 "nbformat_minor": 2
}
