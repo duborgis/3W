{
 "cells": [
  {
   "cell_type": "markdown",
   "metadata": {},
   "source": [
    "# 3W Toolkit"
   ]
  },
  {
   "cell_type": "markdown",
   "metadata": {},
   "source": [
    "**Version:** 2.0.0  \n",
    "**Authors:** Bruno Coelho Martins, Carla Pagliari, Eduardo A. B. Silva, Eduardo Henrique, Fernanda Duarte Vilela Reis de Oliveira, Gabriel Henrique Braga Lisboa, Luiza Helena de Andrade Leite, Marcello Campos, Matheus Ferreira Espirito Santo, Matheus Ramos Parracho, Natanael Moura Junior, Pedro Braga Lisboa, Rafael Padilla, Sergio Lima Netto, Thadeu Luiz Barbosa Dias, Umberto Augusto.  \n",
    "**Description:** Demonstrative notebook with the main functions of *3W Toolkit*.\n"
   ]
  },
  {
   "cell_type": "markdown",
   "metadata": {},
   "source": [
    "----"
   ]
  },
  {
   "cell_type": "markdown",
   "metadata": {},
   "source": [
    "## Table of Contents 📑\n",
    "\n",
    "1. 🚀 Introduction to 3WToolkit v2.0.0  \n",
    "   1.1. Installing with `pip install`  \n",
    "   1.2. Cloning & Installing  \n",
    "   1.3. Forking & Installing  \n",
    "   1.4. Using Anaconda Navigator  \n",
    "   1.5. Using `conda`  \n",
    "   1.6. Installing with `poetry`  \n",
    "\n",
    "2. 📂 Dataset 3W   \n",
    "   2.1. Downloading the Dataset    \n",
    "   2.2. Filtering & Exploring the Data   \n",
    "   2.3 Cleaning the dataset   \n",
    "\n",
    "3. ⚙️ Preprocessing   \n",
    "   3.1 Handling missing values (Imputation)  \n",
    "   3.2 Normalization  \n",
    "   3.3 Windowing  \n",
    "   3.4 Renaming columns  \n",
    "\n",
    "4. 🔎 Feature Extraction  \n",
    "   4.1 Statistical Feature Extraction  \n",
    "   4.2 Wavelet Feature Extraction  \n",
    "   4.3 Exponentially Weighted Statistical Feature Extraction  \n",
    "\n",
    "5. 📊 Exploratory Analysis  \n",
    "   5.1. Visualizing Time Series  \n",
    "\n",
    "6. 🤖 Model Training and Evaluation\n",
    "7. 🔗 Pipeline Integration\n"
   ]
  },
  {
   "cell_type": "markdown",
   "metadata": {},
   "source": [
    "----"
   ]
  },
  {
   "cell_type": "markdown",
   "metadata": {},
   "source": [
    "## 🚀 1. Introduction to 3WToolkit Version 2.0.0\n",
    "\n",
    "The **3WToolkit version 2.0.0** is a **modular** and **open-source Artificial Intelligence (AI) toolkit** for **time series processing**, designed for **fault detection and classification** in the operation of **oil wells**.\n",
    "\n",
    "Based on the experience with the original **3W Toolkit** system and using the [**3W dataset from Petrobras**](https://github.com/petrobras/3W/), the 3W Toolkit version 2.0.0 offers enhanced features such as:\n",
    "\n",
    "- **Advanced data imputation**\n",
    "- **Deep feature extraction**\n",
    "- **Synthetic data augmentation**\n",
    "- **High-performance computing capabilities** for model training"
   ]
  },
  {
   "cell_type": "markdown",
   "metadata": {},
   "source": [
    "Please find bellow different ways to install the **3WToolkit** project hosted on GitHub: https://github.com/petrobras/3W."
   ]
  },
  {
   "cell_type": "markdown",
   "metadata": {},
   "source": [
    "------"
   ]
  },
  {
   "cell_type": "markdown",
   "metadata": {},
   "source": [
    "### 1.1 Installation with `pip install`\n",
    "\n",
    "```bash\n",
    "pip install git+https://github.com/petrobras/3W.git\n",
    "```"
   ]
  },
  {
   "cell_type": "markdown",
   "metadata": {},
   "source": [
    "------"
   ]
  },
  {
   "cell_type": "markdown",
   "metadata": {},
   "source": [
    "### 1.2. Cloning and installing\n",
    "\n",
    "\n",
    "```bash\n",
    "git clone https://github.com/petrobras/3W.git\n",
    "cd 3WToolkit\n",
    "pip install .\n",
    "```\n",
    "\n",
    "For editable/development install (`-e` installs it in editable/development mode, useful for contributing back to the original project via pull requests)"
   ]
  },
  {
   "cell_type": "markdown",
   "metadata": {},
   "source": [
    "The 3W toolkit v.2.0.0 can be downloaded or cloned from the official repository [https://github.com/petrobras/3W](https://github.com/petrobras/3W) or can be installed via `pip install ThreeWtoolkit`"
   ]
  },
  {
   "cell_type": "markdown",
   "metadata": {},
   "source": [
    "------"
   ]
  },
  {
   "cell_type": "markdown",
   "metadata": {},
   "source": [
    "### 1.3. Forking and installing \n",
    "\n",
    "\n",
    "1. Fork the repository on GitHub https://github.com/petrobras/3W (button **Fork**).\n",
    "\n",
    "![Forking the repo](../figures/forking_the_repo.jpg)\n",
    "\n",
    "\n",
    "2. Clone **your forked project**:\n",
    "\n",
    "After forking, your github account will have a copy of the 3W project.  \n",
    "\n",
    "Run the commands below, replacing `<YOUR-USERNAME>` with your github username:\n",
    "```bash\n",
    "git clone https://github.com/<YOUR-USERNAME>/3W.git\n",
    "cd 3WToolkit\n",
    "pip install -e .\n",
    "```\n"
   ]
  },
  {
   "cell_type": "markdown",
   "metadata": {},
   "source": [
    "------"
   ]
  },
  {
   "cell_type": "markdown",
   "metadata": {},
   "source": [
    "\n",
    "### 1.4 Using **Anaconda Navigator**\n",
    "\n",
    "1. Open **Anaconda Navigator**.  \n",
    "2. Go to **Environments → Create → New environment**.  \n",
    "3. Open a terminal inside that environment.  \n",
    "4. Install from GitHub with `pip`:\n",
    "\n",
    "```bash\n",
    "pip install git+https://github.com/petrobras/3W.git\n",
    "```"
   ]
  },
  {
   "cell_type": "markdown",
   "metadata": {},
   "source": [
    "------"
   ]
  },
  {
   "cell_type": "markdown",
   "metadata": {},
   "source": [
    "\n",
    "### 1.5. Using `conda`\n",
    "\n",
    "\n",
    "If there is an environment.yml file:\n",
    "\n",
    "```bash\n",
    "git clone https://github.com/petrobras/3W.git\n",
    "cd 3WToolkit\n",
    "conda env create -f environment.yml\n",
    "conda activate 3WToolkit\n",
    "```\n",
    "\n",
    "If not, you can still use `pip` inside a conda environment:\n",
    "\n",
    "```bash\n",
    "conda create -n myenv python=3.10\n",
    "conda activate myenv\n",
    "pip install git+https://github.com/petrobras/3W.git\n",
    "```"
   ]
  },
  {
   "cell_type": "markdown",
   "metadata": {},
   "source": [
    "------"
   ]
  },
  {
   "cell_type": "markdown",
   "metadata": {},
   "source": [
    "### 1.6 Installing with `poetry`\n",
    "\n",
    "Add directly from GitHub: demands file `pyproject.toml` and Poetry:\n",
    "```bash\n",
    "poetry add git+https://github.com/petrobras/3W.git\n",
    "```\n",
    "\n",
    "For local development:\n",
    "```bash\n",
    "poetry add ./local/path/to/3W\n",
    "```\n",
    "\n",
    "Using clone:\n",
    "```bash\n",
    "git clone https://github.com/petrobras/3W.git\n",
    "cd 3W\n",
    "poetry install\n",
    "```"
   ]
  },
  {
   "cell_type": "markdown",
   "metadata": {},
   "source": [
    "### Imports"
   ]
  },
  {
   "cell_type": "markdown",
   "metadata": {},
   "source": [
    "**Adaptation to recognize the project root. For demonstration purposes only.**"
   ]
  },
  {
   "cell_type": "code",
   "execution_count": 1,
   "metadata": {},
   "outputs": [],
   "source": [
    "import sys\n",
    "import os\n",
    "\n",
    "# Adds the root directory to sys.path\n",
    "sys.path.append(os.path.abspath(os.path.join(os.getcwd(), \"../../\")))"
   ]
  },
  {
   "cell_type": "markdown",
   "metadata": {},
   "source": [
    "**Required**"
   ]
  },
  {
   "cell_type": "code",
   "execution_count": 2,
   "metadata": {},
   "outputs": [],
   "source": [
    "import numpy as np\n",
    "import pandas as pd\n",
    "import matplotlib.pyplot as plt\n",
    "\n",
    "# Importing ParquetDataset to download and load dataset\n",
    "from ThreeWToolkit.core.base_dataset import ParquetDatasetConfig\n",
    "from ThreeWToolkit.dataset import ParquetDataset\n",
    "from ThreeWToolkit.core.enums import EventPrefixEnum\n",
    "\n",
    "# Apply mean imputation\n",
    "from ThreeWToolkit.core.base_preprocessing import (\n",
    "    ImputeMissingConfig,\n",
    "    NormalizeConfig,\n",
    "    WindowingConfig,\n",
    "    RenameColumnsConfig,\n",
    ")\n",
    "from ThreeWToolkit.preprocessing import (\n",
    "    ImputeMissing,\n",
    "    Normalize,\n",
    "    Windowing,\n",
    "    RenameColumns,\n",
    ")\n",
    "from ThreeWToolkit.core.base_feature_extractor import (\n",
    "    StatisticalConfig,\n",
    "    EWStatisticalConfig,\n",
    "    WaveletConfig,\n",
    ")\n",
    "from ThreeWToolkit.feature_extraction import (\n",
    "    ExtractStatisticalFeatures,\n",
    "    ExtractEWStatisticalFeatures,\n",
    "    ExtractWaveletFeatures,\n",
    ")\n",
    "from ThreeWToolkit.data_visualization import DataVisualization\n",
    "\n",
    "from pathlib import Path"
   ]
  },
  {
   "cell_type": "markdown",
   "metadata": {},
   "source": [
    "-----"
   ]
  },
  {
   "cell_type": "markdown",
   "metadata": {},
   "source": [
    "## 📂 2. Dataset 3W\n",
    "\n",
    "* **Format**: Tabular, split into files in parquet format\n",
    "* **Hosted** on: 3W Dataset 2.0.0 - Figshare\n",
    "* **Size**: 1.67 GB\n",
    "* **Splits**: 10 folders with parquet files, one folder for each event.\n",
    "* **License** & Usage: Apache 2.0"
   ]
  },
  {
   "cell_type": "markdown",
   "metadata": {},
   "source": [
    "**Define path**"
   ]
  },
  {
   "cell_type": "code",
   "execution_count": 3,
   "metadata": {},
   "outputs": [],
   "source": [
    "dataset_path = Path(\"./data/3w_dataset\")"
   ]
  },
  {
   "cell_type": "markdown",
   "metadata": {},
   "source": [
    "### 2.1 Downloading the Dataset"
   ]
  },
  {
   "cell_type": "markdown",
   "metadata": {},
   "source": [
    "Let’s download the dataset using the 3W library:"
   ]
  },
  {
   "cell_type": "code",
   "execution_count": 4,
   "metadata": {},
   "outputs": [
    {
     "name": "stdout",
     "output_type": "stream",
     "text": [
      "[ParquetDataset] Dataset found at data/3w_dataset\n",
      "[ParquetDataset] Validating dataset integrity...\n",
      "[ParquetDataset] Dataset integrity check passed!\n"
     ]
    },
    {
     "data": {
      "text/plain": [
       "2228"
      ]
     },
     "execution_count": 4,
     "metadata": {},
     "output_type": "execute_result"
    }
   ],
   "source": [
    "# Create and load\n",
    "ds_config = ParquetDatasetConfig(path=dataset_path, clean_data=False)\n",
    "ds = ParquetDataset(ds_config)\n",
    "len(ds)"
   ]
  },
  {
   "cell_type": "markdown",
   "metadata": {},
   "source": [
    "### 2.2 Filtering & Exploring the Data"
   ]
  },
  {
   "cell_type": "code",
   "execution_count": 5,
   "metadata": {},
   "outputs": [
    {
     "data": {
      "text/plain": [
       "2228"
      ]
     },
     "execution_count": 5,
     "metadata": {},
     "output_type": "execute_result"
    }
   ],
   "source": [
    "# Count events\n",
    "total_events = len(ds)\n",
    "total_events"
   ]
  },
  {
   "cell_type": "markdown",
   "metadata": {},
   "source": [
    "Each event is a dict containing: \"signal\" and \"label\""
   ]
  },
  {
   "cell_type": "code",
   "execution_count": 6,
   "metadata": {},
   "outputs": [
    {
     "data": {
      "text/plain": [
       "dict"
      ]
     },
     "execution_count": 6,
     "metadata": {},
     "output_type": "execute_result"
    }
   ],
   "source": [
    "event_id = 0\n",
    "type(ds[event_id])"
   ]
  },
  {
   "cell_type": "code",
   "execution_count": 7,
   "metadata": {},
   "outputs": [
    {
     "data": {
      "text/plain": [
       "dict_keys(['signal', 'label', 'file_name'])"
      ]
     },
     "execution_count": 7,
     "metadata": {},
     "output_type": "execute_result"
    }
   ],
   "source": [
    "ds[event_id].keys()"
   ]
  },
  {
   "cell_type": "markdown",
   "metadata": {},
   "source": [
    "Lets check the \"signal\":"
   ]
  },
  {
   "cell_type": "code",
   "execution_count": 8,
   "metadata": {},
   "outputs": [
    {
     "data": {
      "text/html": [
       "<div>\n",
       "<style scoped>\n",
       "    .dataframe tbody tr th:only-of-type {\n",
       "        vertical-align: middle;\n",
       "    }\n",
       "\n",
       "    .dataframe tbody tr th {\n",
       "        vertical-align: top;\n",
       "    }\n",
       "\n",
       "    .dataframe thead th {\n",
       "        text-align: right;\n",
       "    }\n",
       "</style>\n",
       "<table border=\"1\" class=\"dataframe\">\n",
       "  <thead>\n",
       "    <tr style=\"text-align: right;\">\n",
       "      <th></th>\n",
       "      <th>ABER-CKGL</th>\n",
       "      <th>ABER-CKP</th>\n",
       "      <th>ESTADO-DHSV</th>\n",
       "      <th>ESTADO-M1</th>\n",
       "      <th>ESTADO-M2</th>\n",
       "      <th>ESTADO-PXO</th>\n",
       "      <th>ESTADO-SDV-GL</th>\n",
       "      <th>ESTADO-SDV-P</th>\n",
       "      <th>ESTADO-W1</th>\n",
       "      <th>ESTADO-W2</th>\n",
       "      <th>...</th>\n",
       "      <th>P-PDG</th>\n",
       "      <th>PT-P</th>\n",
       "      <th>P-TPT</th>\n",
       "      <th>QBS</th>\n",
       "      <th>QGL</th>\n",
       "      <th>T-JUS-CKP</th>\n",
       "      <th>T-MON-CKP</th>\n",
       "      <th>T-PDG</th>\n",
       "      <th>T-TPT</th>\n",
       "      <th>state</th>\n",
       "    </tr>\n",
       "    <tr>\n",
       "      <th>timestamp</th>\n",
       "      <th></th>\n",
       "      <th></th>\n",
       "      <th></th>\n",
       "      <th></th>\n",
       "      <th></th>\n",
       "      <th></th>\n",
       "      <th></th>\n",
       "      <th></th>\n",
       "      <th></th>\n",
       "      <th></th>\n",
       "      <th></th>\n",
       "      <th></th>\n",
       "      <th></th>\n",
       "      <th></th>\n",
       "      <th></th>\n",
       "      <th></th>\n",
       "      <th></th>\n",
       "      <th></th>\n",
       "      <th></th>\n",
       "      <th></th>\n",
       "      <th></th>\n",
       "    </tr>\n",
       "  </thead>\n",
       "  <tbody>\n",
       "    <tr>\n",
       "      <th>2018-09-29 17:51:36</th>\n",
       "      <td>NaN</td>\n",
       "      <td>NaN</td>\n",
       "      <td>NaN</td>\n",
       "      <td>NaN</td>\n",
       "      <td>NaN</td>\n",
       "      <td>NaN</td>\n",
       "      <td>NaN</td>\n",
       "      <td>NaN</td>\n",
       "      <td>NaN</td>\n",
       "      <td>NaN</td>\n",
       "      <td>...</td>\n",
       "      <td>1.666460e+07</td>\n",
       "      <td>NaN</td>\n",
       "      <td>7.497886e+06</td>\n",
       "      <td>NaN</td>\n",
       "      <td>5.780679</td>\n",
       "      <td>67.036921</td>\n",
       "      <td>NaN</td>\n",
       "      <td>NaN</td>\n",
       "      <td>85.044746</td>\n",
       "      <td>0</td>\n",
       "    </tr>\n",
       "    <tr>\n",
       "      <th>2018-09-29 17:51:37</th>\n",
       "      <td>NaN</td>\n",
       "      <td>NaN</td>\n",
       "      <td>NaN</td>\n",
       "      <td>NaN</td>\n",
       "      <td>NaN</td>\n",
       "      <td>NaN</td>\n",
       "      <td>NaN</td>\n",
       "      <td>NaN</td>\n",
       "      <td>NaN</td>\n",
       "      <td>NaN</td>\n",
       "      <td>...</td>\n",
       "      <td>1.666459e+07</td>\n",
       "      <td>NaN</td>\n",
       "      <td>7.497896e+06</td>\n",
       "      <td>NaN</td>\n",
       "      <td>5.780628</td>\n",
       "      <td>67.036906</td>\n",
       "      <td>NaN</td>\n",
       "      <td>NaN</td>\n",
       "      <td>85.044731</td>\n",
       "      <td>0</td>\n",
       "    </tr>\n",
       "    <tr>\n",
       "      <th>2018-09-29 17:51:38</th>\n",
       "      <td>NaN</td>\n",
       "      <td>NaN</td>\n",
       "      <td>NaN</td>\n",
       "      <td>NaN</td>\n",
       "      <td>NaN</td>\n",
       "      <td>NaN</td>\n",
       "      <td>NaN</td>\n",
       "      <td>NaN</td>\n",
       "      <td>NaN</td>\n",
       "      <td>NaN</td>\n",
       "      <td>...</td>\n",
       "      <td>1.666459e+07</td>\n",
       "      <td>NaN</td>\n",
       "      <td>7.497905e+06</td>\n",
       "      <td>NaN</td>\n",
       "      <td>5.780577</td>\n",
       "      <td>67.036891</td>\n",
       "      <td>NaN</td>\n",
       "      <td>NaN</td>\n",
       "      <td>85.044707</td>\n",
       "      <td>0</td>\n",
       "    </tr>\n",
       "    <tr>\n",
       "      <th>2018-09-29 17:51:39</th>\n",
       "      <td>NaN</td>\n",
       "      <td>NaN</td>\n",
       "      <td>NaN</td>\n",
       "      <td>NaN</td>\n",
       "      <td>NaN</td>\n",
       "      <td>NaN</td>\n",
       "      <td>NaN</td>\n",
       "      <td>NaN</td>\n",
       "      <td>NaN</td>\n",
       "      <td>NaN</td>\n",
       "      <td>...</td>\n",
       "      <td>1.666459e+07</td>\n",
       "      <td>NaN</td>\n",
       "      <td>7.497912e+06</td>\n",
       "      <td>NaN</td>\n",
       "      <td>5.780526</td>\n",
       "      <td>67.036876</td>\n",
       "      <td>NaN</td>\n",
       "      <td>NaN</td>\n",
       "      <td>85.044681</td>\n",
       "      <td>0</td>\n",
       "    </tr>\n",
       "    <tr>\n",
       "      <th>2018-09-29 17:51:40</th>\n",
       "      <td>NaN</td>\n",
       "      <td>NaN</td>\n",
       "      <td>NaN</td>\n",
       "      <td>NaN</td>\n",
       "      <td>NaN</td>\n",
       "      <td>NaN</td>\n",
       "      <td>NaN</td>\n",
       "      <td>NaN</td>\n",
       "      <td>NaN</td>\n",
       "      <td>NaN</td>\n",
       "      <td>...</td>\n",
       "      <td>1.666459e+07</td>\n",
       "      <td>NaN</td>\n",
       "      <td>7.497921e+06</td>\n",
       "      <td>NaN</td>\n",
       "      <td>5.780475</td>\n",
       "      <td>67.036861</td>\n",
       "      <td>NaN</td>\n",
       "      <td>NaN</td>\n",
       "      <td>85.044661</td>\n",
       "      <td>0</td>\n",
       "    </tr>\n",
       "    <tr>\n",
       "      <th>...</th>\n",
       "      <td>...</td>\n",
       "      <td>...</td>\n",
       "      <td>...</td>\n",
       "      <td>...</td>\n",
       "      <td>...</td>\n",
       "      <td>...</td>\n",
       "      <td>...</td>\n",
       "      <td>...</td>\n",
       "      <td>...</td>\n",
       "      <td>...</td>\n",
       "      <td>...</td>\n",
       "      <td>...</td>\n",
       "      <td>...</td>\n",
       "      <td>...</td>\n",
       "      <td>...</td>\n",
       "      <td>...</td>\n",
       "      <td>...</td>\n",
       "      <td>...</td>\n",
       "      <td>...</td>\n",
       "      <td>...</td>\n",
       "      <td>...</td>\n",
       "    </tr>\n",
       "    <tr>\n",
       "      <th>2018-09-30 11:31:30</th>\n",
       "      <td>NaN</td>\n",
       "      <td>NaN</td>\n",
       "      <td>NaN</td>\n",
       "      <td>NaN</td>\n",
       "      <td>NaN</td>\n",
       "      <td>NaN</td>\n",
       "      <td>NaN</td>\n",
       "      <td>NaN</td>\n",
       "      <td>NaN</td>\n",
       "      <td>NaN</td>\n",
       "      <td>...</td>\n",
       "      <td>2.150768e+07</td>\n",
       "      <td>NaN</td>\n",
       "      <td>1.591467e+07</td>\n",
       "      <td>NaN</td>\n",
       "      <td>0.000992</td>\n",
       "      <td>24.967420</td>\n",
       "      <td>NaN</td>\n",
       "      <td>NaN</td>\n",
       "      <td>54.396610</td>\n",
       "      <td>0</td>\n",
       "    </tr>\n",
       "    <tr>\n",
       "      <th>2018-09-30 11:31:31</th>\n",
       "      <td>NaN</td>\n",
       "      <td>NaN</td>\n",
       "      <td>NaN</td>\n",
       "      <td>NaN</td>\n",
       "      <td>NaN</td>\n",
       "      <td>NaN</td>\n",
       "      <td>NaN</td>\n",
       "      <td>NaN</td>\n",
       "      <td>NaN</td>\n",
       "      <td>NaN</td>\n",
       "      <td>...</td>\n",
       "      <td>2.150757e+07</td>\n",
       "      <td>NaN</td>\n",
       "      <td>1.591454e+07</td>\n",
       "      <td>NaN</td>\n",
       "      <td>0.000992</td>\n",
       "      <td>24.967424</td>\n",
       "      <td>NaN</td>\n",
       "      <td>NaN</td>\n",
       "      <td>54.394674</td>\n",
       "      <td>0</td>\n",
       "    </tr>\n",
       "    <tr>\n",
       "      <th>2018-09-30 11:31:32</th>\n",
       "      <td>NaN</td>\n",
       "      <td>NaN</td>\n",
       "      <td>NaN</td>\n",
       "      <td>NaN</td>\n",
       "      <td>NaN</td>\n",
       "      <td>NaN</td>\n",
       "      <td>NaN</td>\n",
       "      <td>NaN</td>\n",
       "      <td>NaN</td>\n",
       "      <td>NaN</td>\n",
       "      <td>...</td>\n",
       "      <td>2.150740e+07</td>\n",
       "      <td>NaN</td>\n",
       "      <td>1.591440e+07</td>\n",
       "      <td>NaN</td>\n",
       "      <td>0.000992</td>\n",
       "      <td>24.967430</td>\n",
       "      <td>NaN</td>\n",
       "      <td>NaN</td>\n",
       "      <td>54.392764</td>\n",
       "      <td>0</td>\n",
       "    </tr>\n",
       "    <tr>\n",
       "      <th>2018-09-30 11:31:33</th>\n",
       "      <td>NaN</td>\n",
       "      <td>NaN</td>\n",
       "      <td>NaN</td>\n",
       "      <td>NaN</td>\n",
       "      <td>NaN</td>\n",
       "      <td>NaN</td>\n",
       "      <td>NaN</td>\n",
       "      <td>NaN</td>\n",
       "      <td>NaN</td>\n",
       "      <td>NaN</td>\n",
       "      <td>...</td>\n",
       "      <td>2.150725e+07</td>\n",
       "      <td>NaN</td>\n",
       "      <td>1.591433e+07</td>\n",
       "      <td>NaN</td>\n",
       "      <td>0.000992</td>\n",
       "      <td>24.967430</td>\n",
       "      <td>NaN</td>\n",
       "      <td>NaN</td>\n",
       "      <td>54.391094</td>\n",
       "      <td>0</td>\n",
       "    </tr>\n",
       "    <tr>\n",
       "      <th>2018-09-30 11:31:34</th>\n",
       "      <td>NaN</td>\n",
       "      <td>NaN</td>\n",
       "      <td>NaN</td>\n",
       "      <td>NaN</td>\n",
       "      <td>NaN</td>\n",
       "      <td>NaN</td>\n",
       "      <td>NaN</td>\n",
       "      <td>NaN</td>\n",
       "      <td>NaN</td>\n",
       "      <td>NaN</td>\n",
       "      <td>...</td>\n",
       "      <td>2.150718e+07</td>\n",
       "      <td>NaN</td>\n",
       "      <td>1.591432e+07</td>\n",
       "      <td>NaN</td>\n",
       "      <td>0.000992</td>\n",
       "      <td>24.967430</td>\n",
       "      <td>NaN</td>\n",
       "      <td>NaN</td>\n",
       "      <td>54.389680</td>\n",
       "      <td>0</td>\n",
       "    </tr>\n",
       "  </tbody>\n",
       "</table>\n",
       "<p>63599 rows × 28 columns</p>\n",
       "</div>"
      ],
      "text/plain": [
       "                     ABER-CKGL  ABER-CKP  ESTADO-DHSV  ESTADO-M1  ESTADO-M2  \\\n",
       "timestamp                                                                     \n",
       "2018-09-29 17:51:36        NaN       NaN          NaN        NaN        NaN   \n",
       "2018-09-29 17:51:37        NaN       NaN          NaN        NaN        NaN   \n",
       "2018-09-29 17:51:38        NaN       NaN          NaN        NaN        NaN   \n",
       "2018-09-29 17:51:39        NaN       NaN          NaN        NaN        NaN   \n",
       "2018-09-29 17:51:40        NaN       NaN          NaN        NaN        NaN   \n",
       "...                        ...       ...          ...        ...        ...   \n",
       "2018-09-30 11:31:30        NaN       NaN          NaN        NaN        NaN   \n",
       "2018-09-30 11:31:31        NaN       NaN          NaN        NaN        NaN   \n",
       "2018-09-30 11:31:32        NaN       NaN          NaN        NaN        NaN   \n",
       "2018-09-30 11:31:33        NaN       NaN          NaN        NaN        NaN   \n",
       "2018-09-30 11:31:34        NaN       NaN          NaN        NaN        NaN   \n",
       "\n",
       "                     ESTADO-PXO  ESTADO-SDV-GL  ESTADO-SDV-P  ESTADO-W1  \\\n",
       "timestamp                                                                 \n",
       "2018-09-29 17:51:36         NaN            NaN           NaN        NaN   \n",
       "2018-09-29 17:51:37         NaN            NaN           NaN        NaN   \n",
       "2018-09-29 17:51:38         NaN            NaN           NaN        NaN   \n",
       "2018-09-29 17:51:39         NaN            NaN           NaN        NaN   \n",
       "2018-09-29 17:51:40         NaN            NaN           NaN        NaN   \n",
       "...                         ...            ...           ...        ...   \n",
       "2018-09-30 11:31:30         NaN            NaN           NaN        NaN   \n",
       "2018-09-30 11:31:31         NaN            NaN           NaN        NaN   \n",
       "2018-09-30 11:31:32         NaN            NaN           NaN        NaN   \n",
       "2018-09-30 11:31:33         NaN            NaN           NaN        NaN   \n",
       "2018-09-30 11:31:34         NaN            NaN           NaN        NaN   \n",
       "\n",
       "                     ESTADO-W2  ...         P-PDG  PT-P         P-TPT  QBS  \\\n",
       "timestamp                       ...                                          \n",
       "2018-09-29 17:51:36        NaN  ...  1.666460e+07   NaN  7.497886e+06  NaN   \n",
       "2018-09-29 17:51:37        NaN  ...  1.666459e+07   NaN  7.497896e+06  NaN   \n",
       "2018-09-29 17:51:38        NaN  ...  1.666459e+07   NaN  7.497905e+06  NaN   \n",
       "2018-09-29 17:51:39        NaN  ...  1.666459e+07   NaN  7.497912e+06  NaN   \n",
       "2018-09-29 17:51:40        NaN  ...  1.666459e+07   NaN  7.497921e+06  NaN   \n",
       "...                        ...  ...           ...   ...           ...  ...   \n",
       "2018-09-30 11:31:30        NaN  ...  2.150768e+07   NaN  1.591467e+07  NaN   \n",
       "2018-09-30 11:31:31        NaN  ...  2.150757e+07   NaN  1.591454e+07  NaN   \n",
       "2018-09-30 11:31:32        NaN  ...  2.150740e+07   NaN  1.591440e+07  NaN   \n",
       "2018-09-30 11:31:33        NaN  ...  2.150725e+07   NaN  1.591433e+07  NaN   \n",
       "2018-09-30 11:31:34        NaN  ...  2.150718e+07   NaN  1.591432e+07  NaN   \n",
       "\n",
       "                          QGL  T-JUS-CKP  T-MON-CKP  T-PDG      T-TPT  state  \n",
       "timestamp                                                                     \n",
       "2018-09-29 17:51:36  5.780679  67.036921        NaN    NaN  85.044746      0  \n",
       "2018-09-29 17:51:37  5.780628  67.036906        NaN    NaN  85.044731      0  \n",
       "2018-09-29 17:51:38  5.780577  67.036891        NaN    NaN  85.044707      0  \n",
       "2018-09-29 17:51:39  5.780526  67.036876        NaN    NaN  85.044681      0  \n",
       "2018-09-29 17:51:40  5.780475  67.036861        NaN    NaN  85.044661      0  \n",
       "...                       ...        ...        ...    ...        ...    ...  \n",
       "2018-09-30 11:31:30  0.000992  24.967420        NaN    NaN  54.396610      0  \n",
       "2018-09-30 11:31:31  0.000992  24.967424        NaN    NaN  54.394674      0  \n",
       "2018-09-30 11:31:32  0.000992  24.967430        NaN    NaN  54.392764      0  \n",
       "2018-09-30 11:31:33  0.000992  24.967430        NaN    NaN  54.391094      0  \n",
       "2018-09-30 11:31:34  0.000992  24.967430        NaN    NaN  54.389680      0  \n",
       "\n",
       "[63599 rows x 28 columns]"
      ]
     },
     "execution_count": 8,
     "metadata": {},
     "output_type": "execute_result"
    }
   ],
   "source": [
    "ds[event_id][\"signal\"]"
   ]
  },
  {
   "cell_type": "markdown",
   "metadata": {},
   "source": [
    "Let's also check the unique values in \"label\" "
   ]
  },
  {
   "cell_type": "code",
   "execution_count": 9,
   "metadata": {},
   "outputs": [
    {
     "data": {
      "text/plain": [
       "array([  0,   9, 109], dtype=int16)"
      ]
     },
     "execution_count": 9,
     "metadata": {},
     "output_type": "execute_result"
    }
   ],
   "source": [
    "np.unique(ds[0][\"label\"])"
   ]
  },
  {
   "cell_type": "code",
   "execution_count": 10,
   "metadata": {},
   "outputs": [
    {
     "data": {
      "text/html": [
       "<div>\n",
       "<style scoped>\n",
       "    .dataframe tbody tr th:only-of-type {\n",
       "        vertical-align: middle;\n",
       "    }\n",
       "\n",
       "    .dataframe tbody tr th {\n",
       "        vertical-align: top;\n",
       "    }\n",
       "\n",
       "    .dataframe thead th {\n",
       "        text-align: right;\n",
       "    }\n",
       "</style>\n",
       "<table border=\"1\" class=\"dataframe\">\n",
       "  <thead>\n",
       "    <tr style=\"text-align: right;\">\n",
       "      <th></th>\n",
       "      <th>class</th>\n",
       "    </tr>\n",
       "    <tr>\n",
       "      <th>timestamp</th>\n",
       "      <th></th>\n",
       "    </tr>\n",
       "  </thead>\n",
       "  <tbody>\n",
       "    <tr>\n",
       "      <th>2018-09-29 17:51:36</th>\n",
       "      <td>0</td>\n",
       "    </tr>\n",
       "    <tr>\n",
       "      <th>2018-09-29 17:51:37</th>\n",
       "      <td>0</td>\n",
       "    </tr>\n",
       "    <tr>\n",
       "      <th>2018-09-29 17:51:38</th>\n",
       "      <td>0</td>\n",
       "    </tr>\n",
       "    <tr>\n",
       "      <th>2018-09-29 17:51:39</th>\n",
       "      <td>0</td>\n",
       "    </tr>\n",
       "    <tr>\n",
       "      <th>2018-09-29 17:51:40</th>\n",
       "      <td>0</td>\n",
       "    </tr>\n",
       "    <tr>\n",
       "      <th>...</th>\n",
       "      <td>...</td>\n",
       "    </tr>\n",
       "    <tr>\n",
       "      <th>2018-09-30 11:31:30</th>\n",
       "      <td>9</td>\n",
       "    </tr>\n",
       "    <tr>\n",
       "      <th>2018-09-30 11:31:31</th>\n",
       "      <td>9</td>\n",
       "    </tr>\n",
       "    <tr>\n",
       "      <th>2018-09-30 11:31:32</th>\n",
       "      <td>9</td>\n",
       "    </tr>\n",
       "    <tr>\n",
       "      <th>2018-09-30 11:31:33</th>\n",
       "      <td>9</td>\n",
       "    </tr>\n",
       "    <tr>\n",
       "      <th>2018-09-30 11:31:34</th>\n",
       "      <td>9</td>\n",
       "    </tr>\n",
       "  </tbody>\n",
       "</table>\n",
       "<p>63599 rows × 1 columns</p>\n",
       "</div>"
      ],
      "text/plain": [
       "                     class\n",
       "timestamp                 \n",
       "2018-09-29 17:51:36      0\n",
       "2018-09-29 17:51:37      0\n",
       "2018-09-29 17:51:38      0\n",
       "2018-09-29 17:51:39      0\n",
       "2018-09-29 17:51:40      0\n",
       "...                    ...\n",
       "2018-09-30 11:31:30      9\n",
       "2018-09-30 11:31:31      9\n",
       "2018-09-30 11:31:32      9\n",
       "2018-09-30 11:31:33      9\n",
       "2018-09-30 11:31:34      9\n",
       "\n",
       "[63599 rows x 1 columns]"
      ]
     },
     "execution_count": 10,
     "metadata": {},
     "output_type": "execute_result"
    }
   ],
   "source": [
    "ds[0][\"label\"]"
   ]
  },
  {
   "cell_type": "markdown",
   "metadata": {},
   "source": [
    "Its also possible to filter/split the dataset using different methods:"
   ]
  },
  {
   "cell_type": "markdown",
   "metadata": {},
   "source": [
    "#### Split by event type:"
   ]
  },
  {
   "cell_type": "markdown",
   "metadata": {},
   "source": [
    "Lets, as an example select only DRAWN and SIMULATED event types:"
   ]
  },
  {
   "cell_type": "code",
   "execution_count": 11,
   "metadata": {},
   "outputs": [
    {
     "name": "stdout",
     "output_type": "stream",
     "text": [
      "[ParquetDataset] Dataset found at data/3w_dataset\n",
      "[ParquetDataset] Validating dataset integrity...\n",
      "[ParquetDataset] Dataset integrity check passed!\n"
     ]
    },
    {
     "data": {
      "text/plain": [
       "1109"
      ]
     },
     "execution_count": 11,
     "metadata": {},
     "output_type": "execute_result"
    }
   ],
   "source": [
    "event_types = [EventPrefixEnum.DRAWN, EventPrefixEnum.SIMULATED]\n",
    "ds_config = ParquetDatasetConfig(\n",
    "    path=dataset_path, event_type=event_types\n",
    ")  # get drawn and simulated\n",
    "ds = ParquetDataset(\n",
    "    ds_config,\n",
    ")\n",
    "len(ds)  # should be much smaller"
   ]
  },
  {
   "cell_type": "markdown",
   "metadata": {},
   "source": [
    "And of REAL only:"
   ]
  },
  {
   "cell_type": "code",
   "execution_count": 12,
   "metadata": {},
   "outputs": [
    {
     "name": "stdout",
     "output_type": "stream",
     "text": [
      "[ParquetDataset] Dataset found at data/3w_dataset\n",
      "[ParquetDataset] Validating dataset integrity...\n",
      "[ParquetDataset] Dataset integrity check passed!\n"
     ]
    },
    {
     "data": {
      "text/plain": [
       "1119"
      ]
     },
     "execution_count": 12,
     "metadata": {},
     "output_type": "execute_result"
    }
   ],
   "source": [
    "event_types = [EventPrefixEnum.REAL]\n",
    "ds_config = ParquetDatasetConfig(path=dataset_path, event_type=event_types)\n",
    "ds = ParquetDataset(ds_config)\n",
    "len(ds)"
   ]
  },
  {
   "cell_type": "markdown",
   "metadata": {},
   "source": [
    "Any combination of REAL, DRAWN and SIMULATED is also supported."
   ]
  },
  {
   "cell_type": "markdown",
   "metadata": {},
   "source": [
    "#### Split by event class"
   ]
  },
  {
   "cell_type": "markdown",
   "metadata": {},
   "source": [
    "We may also filter by event classes. To select only events from class 0 we would do:"
   ]
  },
  {
   "cell_type": "code",
   "execution_count": 13,
   "metadata": {},
   "outputs": [
    {
     "name": "stdout",
     "output_type": "stream",
     "text": [
      "[ParquetDataset] Dataset found at data/3w_dataset\n",
      "[ParquetDataset] Validating dataset integrity...\n",
      "[ParquetDataset] Dataset integrity check passed!\n"
     ]
    },
    {
     "data": {
      "text/plain": [
       "594"
      ]
     },
     "execution_count": 13,
     "metadata": {},
     "output_type": "execute_result"
    }
   ],
   "source": [
    "target_class = [0]\n",
    "ds_config = ParquetDatasetConfig(path=dataset_path, target_class=target_class)\n",
    "ds = ParquetDataset(ds_config)\n",
    "len(ds)"
   ]
  },
  {
   "cell_type": "code",
   "execution_count": 14,
   "metadata": {},
   "outputs": [
    {
     "data": {
      "text/plain": [
       "array([0])"
      ]
     },
     "execution_count": 14,
     "metadata": {},
     "output_type": "execute_result"
    }
   ],
   "source": [
    "np.unique(ds[event_id][\"label\"])"
   ]
  },
  {
   "cell_type": "markdown",
   "metadata": {},
   "source": [
    "And only for class 2:"
   ]
  },
  {
   "cell_type": "code",
   "execution_count": 15,
   "metadata": {},
   "outputs": [
    {
     "name": "stdout",
     "output_type": "stream",
     "text": [
      "[ParquetDataset] Dataset found at data/3w_dataset\n",
      "[ParquetDataset] Validating dataset integrity...\n",
      "[ParquetDataset] Dataset integrity check passed!\n"
     ]
    },
    {
     "data": {
      "text/plain": [
       "38"
      ]
     },
     "execution_count": 15,
     "metadata": {},
     "output_type": "execute_result"
    }
   ],
   "source": [
    "target_class = [2]\n",
    "ds_config = ParquetDatasetConfig(path=dataset_path, target_class=target_class)\n",
    "ds = ParquetDataset(ds_config)\n",
    "len(ds)"
   ]
  },
  {
   "cell_type": "code",
   "execution_count": 16,
   "metadata": {},
   "outputs": [
    {
     "data": {
      "text/plain": [
       "array([2])"
      ]
     },
     "execution_count": 16,
     "metadata": {},
     "output_type": "execute_result"
    }
   ],
   "source": [
    "np.unique(ds[event_id][\"label\"])"
   ]
  },
  {
   "cell_type": "markdown",
   "metadata": {},
   "source": [
    "And we may select multiple classes:"
   ]
  },
  {
   "cell_type": "code",
   "execution_count": 17,
   "metadata": {},
   "outputs": [
    {
     "name": "stdout",
     "output_type": "stream",
     "text": [
      "[ParquetDataset] Dataset found at data/3w_dataset\n",
      "[ParquetDataset] Validating dataset integrity...\n",
      "[ParquetDataset] Dataset integrity check passed!\n"
     ]
    },
    {
     "data": {
      "text/plain": [
       "632"
      ]
     },
     "execution_count": 17,
     "metadata": {},
     "output_type": "execute_result"
    }
   ],
   "source": [
    "target_class = [0, 2]\n",
    "ds_config = ParquetDatasetConfig(path=dataset_path, target_class=target_class)\n",
    "ds = ParquetDataset(ds_config)\n",
    "len(ds)"
   ]
  },
  {
   "cell_type": "markdown",
   "metadata": {},
   "source": [
    "We may combine type and class filters as well. For REAL class 2 events:"
   ]
  },
  {
   "cell_type": "code",
   "execution_count": 18,
   "metadata": {},
   "outputs": [
    {
     "name": "stdout",
     "output_type": "stream",
     "text": [
      "[ParquetDataset] Dataset found at data/3w_dataset\n",
      "[ParquetDataset] Validating dataset integrity...\n",
      "[ParquetDataset] Dataset integrity check passed!\n"
     ]
    },
    {
     "data": {
      "text/plain": [
       "22"
      ]
     },
     "execution_count": 18,
     "metadata": {},
     "output_type": "execute_result"
    }
   ],
   "source": [
    "event_types = [EventPrefixEnum.REAL]\n",
    "target_class = [2]\n",
    "ds_config = ParquetDatasetConfig(path=dataset_path, event_type=event_types, target_class=target_class)\n",
    "ds = ParquetDataset(ds_config)\n",
    "len(ds)"
   ]
  },
  {
   "cell_type": "markdown",
   "metadata": {},
   "source": [
    "### Split through file list"
   ]
  },
  {
   "cell_type": "markdown",
   "metadata": {},
   "source": [
    "It is also possible to filter the desired events through a list of event names.\n",
    "\n",
    "This is particularly useful to define train/test splits as the user may desire.\n",
    "\n",
    "Given a list of event names (relative to the dataset root):"
   ]
  },
  {
   "cell_type": "code",
   "execution_count": 19,
   "metadata": {},
   "outputs": [
    {
     "data": {
      "text/plain": [
       "20"
      ]
     },
     "execution_count": 19,
     "metadata": {},
     "output_type": "execute_result"
    }
   ],
   "source": [
    "my_split = [\n",
    "    \"./0/WELL-00008_20170817140222.parquet\",\n",
    "    \"./3/SIMULATED_00061.parquet\",\n",
    "    \"./4/WELL-00004_20140806090103.parquet\",\n",
    "    \"./6/SIMULATED_00117.parquet\",\n",
    "    \"./0/WELL-00001_20170201110124.parquet\",\n",
    "    \"./5/SIMULATED_00138.parquet\",\n",
    "    \"./4/WELL-00005_20170624070158.parquet\",\n",
    "    \"./8/SIMULATED_00044.parquet\",\n",
    "    \"./5/SIMULATED_00303.parquet\",\n",
    "    \"./9/SIMULATED_00028.parquet\",\n",
    "    \"./8/SIMULATED_00072.parquet\",\n",
    "    \"./7/WELL-00022_20180802233838.parquet\",\n",
    "    \"./0/WELL-00003_20170812110000.parquet\",\n",
    "    \"./9/SIMULATED_00115.parquet\",\n",
    "    \"./1/SIMULATED_00025.parquet\",\n",
    "    \"./9/SIMULATED_00065.parquet\",\n",
    "    \"./6/SIMULATED_00041.parquet\",\n",
    "    \"./5/SIMULATED_00329.parquet\",\n",
    "    \"./4/WELL-00004_20141118160016.parquet\",\n",
    "    \"./6/SIMULATED_00095.parquet\",\n",
    "]  # can be stored in a my_split.txt file, for instance.\n",
    "\n",
    "len(my_split)"
   ]
  },
  {
   "cell_type": "code",
   "execution_count": 20,
   "metadata": {},
   "outputs": [
    {
     "name": "stdout",
     "output_type": "stream",
     "text": [
      "[ParquetDataset] Dataset found at data/3w_dataset\n",
      "[ParquetDataset] Validating dataset integrity...\n",
      "[ParquetDataset] Dataset integrity check passed!\n"
     ]
    },
    {
     "data": {
      "text/plain": [
       "20"
      ]
     },
     "execution_count": 20,
     "metadata": {},
     "output_type": "execute_result"
    }
   ],
   "source": [
    "# get only files in split\n",
    "ds_config = ParquetDatasetConfig(path=dataset_path, split=\"list\", file_list=my_split)\n",
    "ds = ParquetDataset(ds_config)\n",
    "len(ds)"
   ]
  },
  {
   "cell_type": "code",
   "execution_count": 21,
   "metadata": {},
   "outputs": [
    {
     "data": {
      "text/html": [
       "<div>\n",
       "<style scoped>\n",
       "    .dataframe tbody tr th:only-of-type {\n",
       "        vertical-align: middle;\n",
       "    }\n",
       "\n",
       "    .dataframe tbody tr th {\n",
       "        vertical-align: top;\n",
       "    }\n",
       "\n",
       "    .dataframe thead th {\n",
       "        text-align: right;\n",
       "    }\n",
       "</style>\n",
       "<table border=\"1\" class=\"dataframe\">\n",
       "  <thead>\n",
       "    <tr style=\"text-align: right;\">\n",
       "      <th></th>\n",
       "      <th>class</th>\n",
       "    </tr>\n",
       "    <tr>\n",
       "      <th>timestamp</th>\n",
       "      <th></th>\n",
       "    </tr>\n",
       "  </thead>\n",
       "  <tbody>\n",
       "    <tr>\n",
       "      <th>2014-08-06 09:01:03</th>\n",
       "      <td>4</td>\n",
       "    </tr>\n",
       "    <tr>\n",
       "      <th>2014-08-06 09:01:04</th>\n",
       "      <td>4</td>\n",
       "    </tr>\n",
       "    <tr>\n",
       "      <th>2014-08-06 09:01:05</th>\n",
       "      <td>4</td>\n",
       "    </tr>\n",
       "    <tr>\n",
       "      <th>2014-08-06 09:01:06</th>\n",
       "      <td>4</td>\n",
       "    </tr>\n",
       "    <tr>\n",
       "      <th>2014-08-06 09:01:07</th>\n",
       "      <td>4</td>\n",
       "    </tr>\n",
       "    <tr>\n",
       "      <th>...</th>\n",
       "      <td>...</td>\n",
       "    </tr>\n",
       "    <tr>\n",
       "      <th>2014-08-06 11:59:56</th>\n",
       "      <td>4</td>\n",
       "    </tr>\n",
       "    <tr>\n",
       "      <th>2014-08-06 11:59:57</th>\n",
       "      <td>4</td>\n",
       "    </tr>\n",
       "    <tr>\n",
       "      <th>2014-08-06 11:59:58</th>\n",
       "      <td>4</td>\n",
       "    </tr>\n",
       "    <tr>\n",
       "      <th>2014-08-06 11:59:59</th>\n",
       "      <td>4</td>\n",
       "    </tr>\n",
       "    <tr>\n",
       "      <th>2014-08-06 12:00:00</th>\n",
       "      <td>4</td>\n",
       "    </tr>\n",
       "  </tbody>\n",
       "</table>\n",
       "<p>10738 rows × 1 columns</p>\n",
       "</div>"
      ],
      "text/plain": [
       "                     class\n",
       "timestamp                 \n",
       "2014-08-06 09:01:03      4\n",
       "2014-08-06 09:01:04      4\n",
       "2014-08-06 09:01:05      4\n",
       "2014-08-06 09:01:06      4\n",
       "2014-08-06 09:01:07      4\n",
       "...                    ...\n",
       "2014-08-06 11:59:56      4\n",
       "2014-08-06 11:59:57      4\n",
       "2014-08-06 11:59:58      4\n",
       "2014-08-06 11:59:59      4\n",
       "2014-08-06 12:00:00      4\n",
       "\n",
       "[10738 rows x 1 columns]"
      ]
     },
     "execution_count": 21,
     "metadata": {},
     "output_type": "execute_result"
    }
   ],
   "source": [
    "ds[2][\"label\"]"
   ]
  },
  {
   "cell_type": "markdown",
   "metadata": {},
   "source": [
    "### 2.3 Cleaning the dataset"
   ]
  },
  {
   "cell_type": "markdown",
   "metadata": {},
   "source": [
    "Some dataset tags are mostly absent.\n",
    "\n",
    "We provide functions for data cleaning and normalization tailored to version 2.0.0.\n",
    "\n",
    "The parameter `clean_data` performs the following steps:\n",
    "\n",
    "* Removal of unused tags;\n",
    "* Identification and removal of invalid sensor readings (outside a predefined range);\n",
    "* Identification and removal of frozen sensor readings;\n",
    "* Replacement of faulty sensor readings with `<NA>`;\n",
    "* Normalization, which recenters and rescales valid data using pre-computed values, ensuring valid statistics can be computed afterward."
   ]
  },
  {
   "cell_type": "code",
   "execution_count": 22,
   "metadata": {},
   "outputs": [
    {
     "name": "stdout",
     "output_type": "stream",
     "text": [
      "[ParquetDataset] Dataset found at data/3w_dataset\n",
      "[ParquetDataset] Validating dataset integrity...\n",
      "[ParquetDataset] Dataset integrity check passed!\n",
      "[ParquetDataset] Dataset found at data/3w_dataset\n",
      "[ParquetDataset] Validating dataset integrity...\n",
      "[ParquetDataset] Dataset integrity check passed!\n"
     ]
    }
   ],
   "source": [
    "ds_config = ParquetDatasetConfig(path=dataset_path)\n",
    "raw_dataset = ParquetDataset(ds_config)\n",
    "\n",
    "ds_config = ParquetDatasetConfig(path=dataset_path, clean_data=True)\n",
    "cleaned_dataset = ParquetDataset(ds_config)"
   ]
  },
  {
   "cell_type": "code",
   "execution_count": 23,
   "metadata": {},
   "outputs": [
    {
     "data": {
      "text/plain": [
       "['ABER-CKGL',\n",
       " 'ABER-CKP',\n",
       " 'ESTADO-DHSV',\n",
       " 'ESTADO-M1',\n",
       " 'ESTADO-M2',\n",
       " 'ESTADO-PXO',\n",
       " 'ESTADO-SDV-GL',\n",
       " 'ESTADO-SDV-P',\n",
       " 'ESTADO-W1',\n",
       " 'ESTADO-W2',\n",
       " 'ESTADO-XO',\n",
       " 'P-ANULAR',\n",
       " 'P-JUS-CKGL',\n",
       " 'P-JUS-CKP',\n",
       " 'P-MON-CKP',\n",
       " 'P-PDG',\n",
       " 'P-TPT',\n",
       " 'QGL',\n",
       " 'T-JUS-CKP',\n",
       " 'T-MON-CKP',\n",
       " 'T-PDG',\n",
       " 'T-TPT']"
      ]
     },
     "execution_count": 23,
     "metadata": {},
     "output_type": "execute_result"
    }
   ],
   "source": [
    "list(raw_dataset[0][\"signal\"].columns)"
   ]
  },
  {
   "cell_type": "code",
   "execution_count": 24,
   "metadata": {},
   "outputs": [
    {
     "data": {
      "text/plain": [
       "['ABER-CKGL',\n",
       " 'ABER-CKP',\n",
       " 'ESTADO-DHSV',\n",
       " 'ESTADO-M1',\n",
       " 'ESTADO-M2',\n",
       " 'ESTADO-PXO',\n",
       " 'ESTADO-SDV-GL',\n",
       " 'ESTADO-SDV-P',\n",
       " 'ESTADO-W1',\n",
       " 'ESTADO-W2',\n",
       " 'ESTADO-XO',\n",
       " 'P-ANULAR',\n",
       " 'P-JUS-CKGL',\n",
       " 'P-JUS-CKP',\n",
       " 'P-MON-CKP',\n",
       " 'P-PDG',\n",
       " 'P-TPT',\n",
       " 'QGL',\n",
       " 'T-JUS-CKP',\n",
       " 'T-MON-CKP',\n",
       " 'T-PDG',\n",
       " 'T-TPT']"
      ]
     },
     "execution_count": 24,
     "metadata": {},
     "output_type": "execute_result"
    }
   ],
   "source": [
    "list(cleaned_dataset[0][\"signal\"].columns)"
   ]
  },
  {
   "cell_type": "code",
   "execution_count": 25,
   "metadata": {},
   "outputs": [
    {
     "data": {
      "text/plain": [
       "timestamp\n",
       "2018-09-29 17:51:36   -1.100783\n",
       "2018-09-29 17:51:37   -1.100781\n",
       "2018-09-29 17:51:38   -1.100780\n",
       "2018-09-29 17:51:39   -1.100779\n",
       "2018-09-29 17:51:40   -1.100777\n",
       "                         ...   \n",
       "2018-09-30 11:31:30    0.328700\n",
       "2018-09-30 11:31:31    0.328677\n",
       "2018-09-30 11:31:32    0.328653\n",
       "2018-09-30 11:31:33    0.328641\n",
       "2018-09-30 11:31:34    0.328640\n",
       "Name: P-TPT, Length: 63599, dtype: float64"
      ]
     },
     "execution_count": 25,
     "metadata": {},
     "output_type": "execute_result"
    }
   ],
   "source": [
    "cleaned_dataset[0][\"signal\"][\"P-TPT\"]  # normalized values"
   ]
  },
  {
   "cell_type": "code",
   "execution_count": 26,
   "metadata": {},
   "outputs": [
    {
     "data": {
      "text/html": [
       "<div>\n",
       "<style scoped>\n",
       "    .dataframe tbody tr th:only-of-type {\n",
       "        vertical-align: middle;\n",
       "    }\n",
       "\n",
       "    .dataframe tbody tr th {\n",
       "        vertical-align: top;\n",
       "    }\n",
       "\n",
       "    .dataframe thead th {\n",
       "        text-align: right;\n",
       "    }\n",
       "</style>\n",
       "<table border=\"1\" class=\"dataframe\">\n",
       "  <thead>\n",
       "    <tr style=\"text-align: right;\">\n",
       "      <th></th>\n",
       "      <th>ABER-CKGL</th>\n",
       "      <th>ABER-CKP</th>\n",
       "      <th>ESTADO-DHSV</th>\n",
       "      <th>ESTADO-M1</th>\n",
       "      <th>ESTADO-M2</th>\n",
       "      <th>ESTADO-PXO</th>\n",
       "      <th>ESTADO-SDV-GL</th>\n",
       "      <th>ESTADO-SDV-P</th>\n",
       "      <th>ESTADO-W1</th>\n",
       "      <th>ESTADO-W2</th>\n",
       "      <th>...</th>\n",
       "      <th>P-JUS-CKGL</th>\n",
       "      <th>P-JUS-CKP</th>\n",
       "      <th>P-MON-CKP</th>\n",
       "      <th>P-PDG</th>\n",
       "      <th>P-TPT</th>\n",
       "      <th>QGL</th>\n",
       "      <th>T-JUS-CKP</th>\n",
       "      <th>T-MON-CKP</th>\n",
       "      <th>T-PDG</th>\n",
       "      <th>T-TPT</th>\n",
       "    </tr>\n",
       "    <tr>\n",
       "      <th>timestamp</th>\n",
       "      <th></th>\n",
       "      <th></th>\n",
       "      <th></th>\n",
       "      <th></th>\n",
       "      <th></th>\n",
       "      <th></th>\n",
       "      <th></th>\n",
       "      <th></th>\n",
       "      <th></th>\n",
       "      <th></th>\n",
       "      <th></th>\n",
       "      <th></th>\n",
       "      <th></th>\n",
       "      <th></th>\n",
       "      <th></th>\n",
       "      <th></th>\n",
       "      <th></th>\n",
       "      <th></th>\n",
       "      <th></th>\n",
       "      <th></th>\n",
       "      <th></th>\n",
       "    </tr>\n",
       "  </thead>\n",
       "  <tbody>\n",
       "    <tr>\n",
       "      <th>2017-10-28 12:00:00</th>\n",
       "      <td>1.668842</td>\n",
       "      <td>-0.061243</td>\n",
       "      <td>0.0</td>\n",
       "      <td>0.0</td>\n",
       "      <td>0.0</td>\n",
       "      <td>0.0</td>\n",
       "      <td>0.914069</td>\n",
       "      <td>0.312558</td>\n",
       "      <td>0.650525</td>\n",
       "      <td>0.0</td>\n",
       "      <td>...</td>\n",
       "      <td>0.256638</td>\n",
       "      <td>0.0</td>\n",
       "      <td>-0.315529</td>\n",
       "      <td>0.208187</td>\n",
       "      <td>-0.007052</td>\n",
       "      <td>0.086049</td>\n",
       "      <td>-1.669639</td>\n",
       "      <td>0.0</td>\n",
       "      <td>-0.530447</td>\n",
       "      <td>-1.326813</td>\n",
       "    </tr>\n",
       "    <tr>\n",
       "      <th>2017-10-28 12:00:01</th>\n",
       "      <td>1.668340</td>\n",
       "      <td>-0.061243</td>\n",
       "      <td>0.0</td>\n",
       "      <td>0.0</td>\n",
       "      <td>0.0</td>\n",
       "      <td>0.0</td>\n",
       "      <td>0.914069</td>\n",
       "      <td>0.312558</td>\n",
       "      <td>0.650525</td>\n",
       "      <td>0.0</td>\n",
       "      <td>...</td>\n",
       "      <td>0.256588</td>\n",
       "      <td>0.0</td>\n",
       "      <td>-0.315768</td>\n",
       "      <td>0.208202</td>\n",
       "      <td>-0.007009</td>\n",
       "      <td>0.084196</td>\n",
       "      <td>-1.669622</td>\n",
       "      <td>0.0</td>\n",
       "      <td>-0.530446</td>\n",
       "      <td>-1.326805</td>\n",
       "    </tr>\n",
       "    <tr>\n",
       "      <th>2017-10-28 12:00:02</th>\n",
       "      <td>1.667838</td>\n",
       "      <td>-0.061243</td>\n",
       "      <td>0.0</td>\n",
       "      <td>0.0</td>\n",
       "      <td>0.0</td>\n",
       "      <td>0.0</td>\n",
       "      <td>0.914069</td>\n",
       "      <td>0.312558</td>\n",
       "      <td>0.650525</td>\n",
       "      <td>0.0</td>\n",
       "      <td>...</td>\n",
       "      <td>0.256540</td>\n",
       "      <td>0.0</td>\n",
       "      <td>-0.316006</td>\n",
       "      <td>0.208217</td>\n",
       "      <td>-0.006967</td>\n",
       "      <td>0.082342</td>\n",
       "      <td>-1.669606</td>\n",
       "      <td>0.0</td>\n",
       "      <td>-0.530445</td>\n",
       "      <td>-1.326798</td>\n",
       "    </tr>\n",
       "    <tr>\n",
       "      <th>2017-10-28 12:00:03</th>\n",
       "      <td>1.667337</td>\n",
       "      <td>-0.061244</td>\n",
       "      <td>0.0</td>\n",
       "      <td>0.0</td>\n",
       "      <td>0.0</td>\n",
       "      <td>0.0</td>\n",
       "      <td>0.914069</td>\n",
       "      <td>0.312558</td>\n",
       "      <td>0.650525</td>\n",
       "      <td>0.0</td>\n",
       "      <td>...</td>\n",
       "      <td>0.256490</td>\n",
       "      <td>0.0</td>\n",
       "      <td>-0.316245</td>\n",
       "      <td>0.208232</td>\n",
       "      <td>-0.006924</td>\n",
       "      <td>0.080489</td>\n",
       "      <td>-1.669589</td>\n",
       "      <td>0.0</td>\n",
       "      <td>-0.530444</td>\n",
       "      <td>-1.326790</td>\n",
       "    </tr>\n",
       "    <tr>\n",
       "      <th>2017-10-28 12:00:04</th>\n",
       "      <td>1.666835</td>\n",
       "      <td>-0.061244</td>\n",
       "      <td>0.0</td>\n",
       "      <td>0.0</td>\n",
       "      <td>0.0</td>\n",
       "      <td>0.0</td>\n",
       "      <td>0.914069</td>\n",
       "      <td>0.312558</td>\n",
       "      <td>0.650525</td>\n",
       "      <td>0.0</td>\n",
       "      <td>...</td>\n",
       "      <td>0.256440</td>\n",
       "      <td>0.0</td>\n",
       "      <td>-0.316483</td>\n",
       "      <td>0.208259</td>\n",
       "      <td>-0.006870</td>\n",
       "      <td>0.078636</td>\n",
       "      <td>-1.669572</td>\n",
       "      <td>0.0</td>\n",
       "      <td>-0.530443</td>\n",
       "      <td>-1.326783</td>\n",
       "    </tr>\n",
       "    <tr>\n",
       "      <th>...</th>\n",
       "      <td>...</td>\n",
       "      <td>...</td>\n",
       "      <td>...</td>\n",
       "      <td>...</td>\n",
       "      <td>...</td>\n",
       "      <td>...</td>\n",
       "      <td>...</td>\n",
       "      <td>...</td>\n",
       "      <td>...</td>\n",
       "      <td>...</td>\n",
       "      <td>...</td>\n",
       "      <td>...</td>\n",
       "      <td>...</td>\n",
       "      <td>...</td>\n",
       "      <td>...</td>\n",
       "      <td>...</td>\n",
       "      <td>...</td>\n",
       "      <td>...</td>\n",
       "      <td>...</td>\n",
       "      <td>...</td>\n",
       "      <td>...</td>\n",
       "    </tr>\n",
       "    <tr>\n",
       "      <th>2017-10-28 17:59:17</th>\n",
       "      <td>1.742948</td>\n",
       "      <td>-0.066062</td>\n",
       "      <td>0.0</td>\n",
       "      <td>0.0</td>\n",
       "      <td>0.0</td>\n",
       "      <td>0.0</td>\n",
       "      <td>0.914069</td>\n",
       "      <td>0.312558</td>\n",
       "      <td>0.650525</td>\n",
       "      <td>0.0</td>\n",
       "      <td>...</td>\n",
       "      <td>0.259599</td>\n",
       "      <td>0.0</td>\n",
       "      <td>-0.374985</td>\n",
       "      <td>0.207213</td>\n",
       "      <td>-0.011877</td>\n",
       "      <td>0.147680</td>\n",
       "      <td>-1.681162</td>\n",
       "      <td>0.0</td>\n",
       "      <td>-0.530346</td>\n",
       "      <td>-1.326135</td>\n",
       "    </tr>\n",
       "    <tr>\n",
       "      <th>2017-10-28 17:59:18</th>\n",
       "      <td>1.743056</td>\n",
       "      <td>-0.066063</td>\n",
       "      <td>0.0</td>\n",
       "      <td>0.0</td>\n",
       "      <td>0.0</td>\n",
       "      <td>0.0</td>\n",
       "      <td>0.914069</td>\n",
       "      <td>0.312558</td>\n",
       "      <td>0.650525</td>\n",
       "      <td>0.0</td>\n",
       "      <td>...</td>\n",
       "      <td>0.259540</td>\n",
       "      <td>0.0</td>\n",
       "      <td>-0.374889</td>\n",
       "      <td>0.207213</td>\n",
       "      <td>-0.011821</td>\n",
       "      <td>0.146884</td>\n",
       "      <td>-1.681071</td>\n",
       "      <td>0.0</td>\n",
       "      <td>-0.530347</td>\n",
       "      <td>-1.326135</td>\n",
       "    </tr>\n",
       "    <tr>\n",
       "      <th>2017-10-28 17:59:19</th>\n",
       "      <td>1.743164</td>\n",
       "      <td>-0.066063</td>\n",
       "      <td>0.0</td>\n",
       "      <td>0.0</td>\n",
       "      <td>0.0</td>\n",
       "      <td>0.0</td>\n",
       "      <td>0.914069</td>\n",
       "      <td>0.312558</td>\n",
       "      <td>0.650525</td>\n",
       "      <td>0.0</td>\n",
       "      <td>...</td>\n",
       "      <td>0.259481</td>\n",
       "      <td>0.0</td>\n",
       "      <td>-0.374794</td>\n",
       "      <td>0.207212</td>\n",
       "      <td>-0.011763</td>\n",
       "      <td>0.146089</td>\n",
       "      <td>-1.680979</td>\n",
       "      <td>0.0</td>\n",
       "      <td>-0.530347</td>\n",
       "      <td>-1.326136</td>\n",
       "    </tr>\n",
       "    <tr>\n",
       "      <th>2017-10-28 17:59:20</th>\n",
       "      <td>1.743272</td>\n",
       "      <td>-0.066063</td>\n",
       "      <td>0.0</td>\n",
       "      <td>0.0</td>\n",
       "      <td>0.0</td>\n",
       "      <td>0.0</td>\n",
       "      <td>0.914069</td>\n",
       "      <td>0.312558</td>\n",
       "      <td>0.650525</td>\n",
       "      <td>0.0</td>\n",
       "      <td>...</td>\n",
       "      <td>0.259422</td>\n",
       "      <td>0.0</td>\n",
       "      <td>-0.374698</td>\n",
       "      <td>0.207210</td>\n",
       "      <td>-0.011661</td>\n",
       "      <td>0.145293</td>\n",
       "      <td>-1.680888</td>\n",
       "      <td>0.0</td>\n",
       "      <td>-0.530348</td>\n",
       "      <td>-1.326138</td>\n",
       "    </tr>\n",
       "    <tr>\n",
       "      <th>2017-10-28 17:59:21</th>\n",
       "      <td>1.743381</td>\n",
       "      <td>-0.066063</td>\n",
       "      <td>0.0</td>\n",
       "      <td>0.0</td>\n",
       "      <td>0.0</td>\n",
       "      <td>0.0</td>\n",
       "      <td>0.914069</td>\n",
       "      <td>0.312558</td>\n",
       "      <td>0.650525</td>\n",
       "      <td>0.0</td>\n",
       "      <td>...</td>\n",
       "      <td>0.259362</td>\n",
       "      <td>0.0</td>\n",
       "      <td>-0.374603</td>\n",
       "      <td>0.207210</td>\n",
       "      <td>-0.011559</td>\n",
       "      <td>0.144497</td>\n",
       "      <td>-1.680797</td>\n",
       "      <td>0.0</td>\n",
       "      <td>-0.530349</td>\n",
       "      <td>-1.326139</td>\n",
       "    </tr>\n",
       "  </tbody>\n",
       "</table>\n",
       "<p>21562 rows × 22 columns</p>\n",
       "</div>"
      ],
      "text/plain": [
       "                     ABER-CKGL  ABER-CKP  ESTADO-DHSV  ESTADO-M1  ESTADO-M2  \\\n",
       "timestamp                                                                     \n",
       "2017-10-28 12:00:00   1.668842 -0.061243          0.0        0.0        0.0   \n",
       "2017-10-28 12:00:01   1.668340 -0.061243          0.0        0.0        0.0   \n",
       "2017-10-28 12:00:02   1.667838 -0.061243          0.0        0.0        0.0   \n",
       "2017-10-28 12:00:03   1.667337 -0.061244          0.0        0.0        0.0   \n",
       "2017-10-28 12:00:04   1.666835 -0.061244          0.0        0.0        0.0   \n",
       "...                        ...       ...          ...        ...        ...   \n",
       "2017-10-28 17:59:17   1.742948 -0.066062          0.0        0.0        0.0   \n",
       "2017-10-28 17:59:18   1.743056 -0.066063          0.0        0.0        0.0   \n",
       "2017-10-28 17:59:19   1.743164 -0.066063          0.0        0.0        0.0   \n",
       "2017-10-28 17:59:20   1.743272 -0.066063          0.0        0.0        0.0   \n",
       "2017-10-28 17:59:21   1.743381 -0.066063          0.0        0.0        0.0   \n",
       "\n",
       "                     ESTADO-PXO  ESTADO-SDV-GL  ESTADO-SDV-P  ESTADO-W1  \\\n",
       "timestamp                                                                 \n",
       "2017-10-28 12:00:00         0.0       0.914069      0.312558   0.650525   \n",
       "2017-10-28 12:00:01         0.0       0.914069      0.312558   0.650525   \n",
       "2017-10-28 12:00:02         0.0       0.914069      0.312558   0.650525   \n",
       "2017-10-28 12:00:03         0.0       0.914069      0.312558   0.650525   \n",
       "2017-10-28 12:00:04         0.0       0.914069      0.312558   0.650525   \n",
       "...                         ...            ...           ...        ...   \n",
       "2017-10-28 17:59:17         0.0       0.914069      0.312558   0.650525   \n",
       "2017-10-28 17:59:18         0.0       0.914069      0.312558   0.650525   \n",
       "2017-10-28 17:59:19         0.0       0.914069      0.312558   0.650525   \n",
       "2017-10-28 17:59:20         0.0       0.914069      0.312558   0.650525   \n",
       "2017-10-28 17:59:21         0.0       0.914069      0.312558   0.650525   \n",
       "\n",
       "                     ESTADO-W2  ...  P-JUS-CKGL  P-JUS-CKP  P-MON-CKP  \\\n",
       "timestamp                       ...                                     \n",
       "2017-10-28 12:00:00        0.0  ...    0.256638        0.0  -0.315529   \n",
       "2017-10-28 12:00:01        0.0  ...    0.256588        0.0  -0.315768   \n",
       "2017-10-28 12:00:02        0.0  ...    0.256540        0.0  -0.316006   \n",
       "2017-10-28 12:00:03        0.0  ...    0.256490        0.0  -0.316245   \n",
       "2017-10-28 12:00:04        0.0  ...    0.256440        0.0  -0.316483   \n",
       "...                        ...  ...         ...        ...        ...   \n",
       "2017-10-28 17:59:17        0.0  ...    0.259599        0.0  -0.374985   \n",
       "2017-10-28 17:59:18        0.0  ...    0.259540        0.0  -0.374889   \n",
       "2017-10-28 17:59:19        0.0  ...    0.259481        0.0  -0.374794   \n",
       "2017-10-28 17:59:20        0.0  ...    0.259422        0.0  -0.374698   \n",
       "2017-10-28 17:59:21        0.0  ...    0.259362        0.0  -0.374603   \n",
       "\n",
       "                        P-PDG     P-TPT       QGL  T-JUS-CKP  T-MON-CKP  \\\n",
       "timestamp                                                                 \n",
       "2017-10-28 12:00:00  0.208187 -0.007052  0.086049  -1.669639        0.0   \n",
       "2017-10-28 12:00:01  0.208202 -0.007009  0.084196  -1.669622        0.0   \n",
       "2017-10-28 12:00:02  0.208217 -0.006967  0.082342  -1.669606        0.0   \n",
       "2017-10-28 12:00:03  0.208232 -0.006924  0.080489  -1.669589        0.0   \n",
       "2017-10-28 12:00:04  0.208259 -0.006870  0.078636  -1.669572        0.0   \n",
       "...                       ...       ...       ...        ...        ...   \n",
       "2017-10-28 17:59:17  0.207213 -0.011877  0.147680  -1.681162        0.0   \n",
       "2017-10-28 17:59:18  0.207213 -0.011821  0.146884  -1.681071        0.0   \n",
       "2017-10-28 17:59:19  0.207212 -0.011763  0.146089  -1.680979        0.0   \n",
       "2017-10-28 17:59:20  0.207210 -0.011661  0.145293  -1.680888        0.0   \n",
       "2017-10-28 17:59:21  0.207210 -0.011559  0.144497  -1.680797        0.0   \n",
       "\n",
       "                        T-PDG     T-TPT  \n",
       "timestamp                                \n",
       "2017-10-28 12:00:00 -0.530447 -1.326813  \n",
       "2017-10-28 12:00:01 -0.530446 -1.326805  \n",
       "2017-10-28 12:00:02 -0.530445 -1.326798  \n",
       "2017-10-28 12:00:03 -0.530444 -1.326790  \n",
       "2017-10-28 12:00:04 -0.530443 -1.326783  \n",
       "...                       ...       ...  \n",
       "2017-10-28 17:59:17 -0.530346 -1.326135  \n",
       "2017-10-28 17:59:18 -0.530347 -1.326135  \n",
       "2017-10-28 17:59:19 -0.530347 -1.326136  \n",
       "2017-10-28 17:59:20 -0.530348 -1.326138  \n",
       "2017-10-28 17:59:21 -0.530349 -1.326139  \n",
       "\n",
       "[21562 rows x 22 columns]"
      ]
     },
     "execution_count": 26,
     "metadata": {},
     "output_type": "execute_result"
    }
   ],
   "source": [
    "cleaned_dataset[1000][\"signal\"]  # Cleaned, normalized and imputed."
   ]
  },
  {
   "cell_type": "markdown",
   "metadata": {},
   "source": [
    "--------"
   ]
  },
  {
   "cell_type": "markdown",
   "metadata": {},
   "source": [
    "## 3. ⚙️ Preprocessing"
   ]
  },
  {
   "cell_type": "markdown",
   "metadata": {},
   "source": [
    "Pre-processing is an essential step to prepare the dataset before training or evaluating models.\n",
    "The 3W Toolkit provides utility classes to handle missing values, normalize data, segment time series into windows, and rename columns.\n",
    "\n",
    "In this section, we demonstrate the usage of:\n",
    "\n",
    "- `ImputeMissing` → Fill missing values with mean, median, or constant.\n",
    "- `Normalize` → Apply L1, L2, or max normalization.\n",
    "- `Windowing` → Segment a time series into overlapping windows with a chosen window function.\n",
    "- `RenameColumns` → Rename DataFrame columns using a mapping dictionary.\n"
   ]
  },
  {
   "cell_type": "markdown",
   "metadata": {},
   "source": [
    "First, we select a single event from the dataset and convert its signal to a pandas DataFrame.  \n",
    "Any columns with `Period` dtype are converted to `datetime` to ensure compatibility with subsequent processing steps.  \n",
    "Finally, we display the first rows of the signal to inspect the data.\n",
    "\n"
   ]
  },
  {
   "cell_type": "code",
   "execution_count": 27,
   "metadata": {},
   "outputs": [
    {
     "data": {
      "text/html": [
       "<div>\n",
       "<style scoped>\n",
       "    .dataframe tbody tr th:only-of-type {\n",
       "        vertical-align: middle;\n",
       "    }\n",
       "\n",
       "    .dataframe tbody tr th {\n",
       "        vertical-align: top;\n",
       "    }\n",
       "\n",
       "    .dataframe thead th {\n",
       "        text-align: right;\n",
       "    }\n",
       "</style>\n",
       "<table border=\"1\" class=\"dataframe\">\n",
       "  <thead>\n",
       "    <tr style=\"text-align: right;\">\n",
       "      <th></th>\n",
       "      <th>ABER-CKGL</th>\n",
       "      <th>ABER-CKP</th>\n",
       "      <th>ESTADO-DHSV</th>\n",
       "      <th>ESTADO-M1</th>\n",
       "      <th>ESTADO-M2</th>\n",
       "      <th>ESTADO-PXO</th>\n",
       "      <th>ESTADO-SDV-GL</th>\n",
       "      <th>ESTADO-SDV-P</th>\n",
       "      <th>ESTADO-W1</th>\n",
       "      <th>ESTADO-W2</th>\n",
       "      <th>...</th>\n",
       "      <th>P-JUS-CKGL</th>\n",
       "      <th>P-JUS-CKP</th>\n",
       "      <th>P-MON-CKP</th>\n",
       "      <th>P-PDG</th>\n",
       "      <th>P-TPT</th>\n",
       "      <th>QGL</th>\n",
       "      <th>T-JUS-CKP</th>\n",
       "      <th>T-MON-CKP</th>\n",
       "      <th>T-PDG</th>\n",
       "      <th>T-TPT</th>\n",
       "    </tr>\n",
       "    <tr>\n",
       "      <th>timestamp</th>\n",
       "      <th></th>\n",
       "      <th></th>\n",
       "      <th></th>\n",
       "      <th></th>\n",
       "      <th></th>\n",
       "      <th></th>\n",
       "      <th></th>\n",
       "      <th></th>\n",
       "      <th></th>\n",
       "      <th></th>\n",
       "      <th></th>\n",
       "      <th></th>\n",
       "      <th></th>\n",
       "      <th></th>\n",
       "      <th></th>\n",
       "      <th></th>\n",
       "      <th></th>\n",
       "      <th></th>\n",
       "      <th></th>\n",
       "      <th></th>\n",
       "      <th></th>\n",
       "    </tr>\n",
       "  </thead>\n",
       "  <tbody>\n",
       "    <tr>\n",
       "      <th>2018-09-29 17:51:36</th>\n",
       "      <td>0.0</td>\n",
       "      <td>0.0</td>\n",
       "      <td>0.0</td>\n",
       "      <td>0.0</td>\n",
       "      <td>0.0</td>\n",
       "      <td>0.0</td>\n",
       "      <td>0.0</td>\n",
       "      <td>0.0</td>\n",
       "      <td>0.0</td>\n",
       "      <td>0.0</td>\n",
       "      <td>...</td>\n",
       "      <td>0.515089</td>\n",
       "      <td>0.0</td>\n",
       "      <td>-0.673075</td>\n",
       "      <td>-0.635145</td>\n",
       "      <td>-1.100783</td>\n",
       "      <td>2.903850</td>\n",
       "      <td>-0.117010</td>\n",
       "      <td>0.0</td>\n",
       "      <td>0.0</td>\n",
       "      <td>-0.388444</td>\n",
       "    </tr>\n",
       "    <tr>\n",
       "      <th>2018-09-29 17:51:37</th>\n",
       "      <td>0.0</td>\n",
       "      <td>0.0</td>\n",
       "      <td>0.0</td>\n",
       "      <td>0.0</td>\n",
       "      <td>0.0</td>\n",
       "      <td>0.0</td>\n",
       "      <td>0.0</td>\n",
       "      <td>0.0</td>\n",
       "      <td>0.0</td>\n",
       "      <td>0.0</td>\n",
       "      <td>...</td>\n",
       "      <td>0.515088</td>\n",
       "      <td>0.0</td>\n",
       "      <td>-0.673075</td>\n",
       "      <td>-0.635146</td>\n",
       "      <td>-1.100781</td>\n",
       "      <td>2.903817</td>\n",
       "      <td>-0.117011</td>\n",
       "      <td>0.0</td>\n",
       "      <td>0.0</td>\n",
       "      <td>-0.388444</td>\n",
       "    </tr>\n",
       "    <tr>\n",
       "      <th>2018-09-29 17:51:38</th>\n",
       "      <td>0.0</td>\n",
       "      <td>0.0</td>\n",
       "      <td>0.0</td>\n",
       "      <td>0.0</td>\n",
       "      <td>0.0</td>\n",
       "      <td>0.0</td>\n",
       "      <td>0.0</td>\n",
       "      <td>0.0</td>\n",
       "      <td>0.0</td>\n",
       "      <td>0.0</td>\n",
       "      <td>...</td>\n",
       "      <td>0.515087</td>\n",
       "      <td>0.0</td>\n",
       "      <td>-0.673075</td>\n",
       "      <td>-0.635146</td>\n",
       "      <td>-1.100780</td>\n",
       "      <td>2.903784</td>\n",
       "      <td>-0.117011</td>\n",
       "      <td>0.0</td>\n",
       "      <td>0.0</td>\n",
       "      <td>-0.388445</td>\n",
       "    </tr>\n",
       "    <tr>\n",
       "      <th>2018-09-29 17:51:39</th>\n",
       "      <td>0.0</td>\n",
       "      <td>0.0</td>\n",
       "      <td>0.0</td>\n",
       "      <td>0.0</td>\n",
       "      <td>0.0</td>\n",
       "      <td>0.0</td>\n",
       "      <td>0.0</td>\n",
       "      <td>0.0</td>\n",
       "      <td>0.0</td>\n",
       "      <td>0.0</td>\n",
       "      <td>...</td>\n",
       "      <td>0.515085</td>\n",
       "      <td>0.0</td>\n",
       "      <td>-0.673075</td>\n",
       "      <td>-0.635146</td>\n",
       "      <td>-1.100779</td>\n",
       "      <td>2.903751</td>\n",
       "      <td>-0.117012</td>\n",
       "      <td>0.0</td>\n",
       "      <td>0.0</td>\n",
       "      <td>-0.388446</td>\n",
       "    </tr>\n",
       "    <tr>\n",
       "      <th>2018-09-29 17:51:40</th>\n",
       "      <td>0.0</td>\n",
       "      <td>0.0</td>\n",
       "      <td>0.0</td>\n",
       "      <td>0.0</td>\n",
       "      <td>0.0</td>\n",
       "      <td>0.0</td>\n",
       "      <td>0.0</td>\n",
       "      <td>0.0</td>\n",
       "      <td>0.0</td>\n",
       "      <td>0.0</td>\n",
       "      <td>...</td>\n",
       "      <td>0.515084</td>\n",
       "      <td>0.0</td>\n",
       "      <td>-0.673075</td>\n",
       "      <td>-0.635146</td>\n",
       "      <td>-1.100777</td>\n",
       "      <td>2.903718</td>\n",
       "      <td>-0.117013</td>\n",
       "      <td>0.0</td>\n",
       "      <td>0.0</td>\n",
       "      <td>-0.388446</td>\n",
       "    </tr>\n",
       "  </tbody>\n",
       "</table>\n",
       "<p>5 rows × 22 columns</p>\n",
       "</div>"
      ],
      "text/plain": [
       "                     ABER-CKGL  ABER-CKP  ESTADO-DHSV  ESTADO-M1  ESTADO-M2  \\\n",
       "timestamp                                                                     \n",
       "2018-09-29 17:51:36        0.0       0.0          0.0        0.0        0.0   \n",
       "2018-09-29 17:51:37        0.0       0.0          0.0        0.0        0.0   \n",
       "2018-09-29 17:51:38        0.0       0.0          0.0        0.0        0.0   \n",
       "2018-09-29 17:51:39        0.0       0.0          0.0        0.0        0.0   \n",
       "2018-09-29 17:51:40        0.0       0.0          0.0        0.0        0.0   \n",
       "\n",
       "                     ESTADO-PXO  ESTADO-SDV-GL  ESTADO-SDV-P  ESTADO-W1  \\\n",
       "timestamp                                                                 \n",
       "2018-09-29 17:51:36         0.0            0.0           0.0        0.0   \n",
       "2018-09-29 17:51:37         0.0            0.0           0.0        0.0   \n",
       "2018-09-29 17:51:38         0.0            0.0           0.0        0.0   \n",
       "2018-09-29 17:51:39         0.0            0.0           0.0        0.0   \n",
       "2018-09-29 17:51:40         0.0            0.0           0.0        0.0   \n",
       "\n",
       "                     ESTADO-W2  ...  P-JUS-CKGL  P-JUS-CKP  P-MON-CKP  \\\n",
       "timestamp                       ...                                     \n",
       "2018-09-29 17:51:36        0.0  ...    0.515089        0.0  -0.673075   \n",
       "2018-09-29 17:51:37        0.0  ...    0.515088        0.0  -0.673075   \n",
       "2018-09-29 17:51:38        0.0  ...    0.515087        0.0  -0.673075   \n",
       "2018-09-29 17:51:39        0.0  ...    0.515085        0.0  -0.673075   \n",
       "2018-09-29 17:51:40        0.0  ...    0.515084        0.0  -0.673075   \n",
       "\n",
       "                        P-PDG     P-TPT       QGL  T-JUS-CKP  T-MON-CKP  \\\n",
       "timestamp                                                                 \n",
       "2018-09-29 17:51:36 -0.635145 -1.100783  2.903850  -0.117010        0.0   \n",
       "2018-09-29 17:51:37 -0.635146 -1.100781  2.903817  -0.117011        0.0   \n",
       "2018-09-29 17:51:38 -0.635146 -1.100780  2.903784  -0.117011        0.0   \n",
       "2018-09-29 17:51:39 -0.635146 -1.100779  2.903751  -0.117012        0.0   \n",
       "2018-09-29 17:51:40 -0.635146 -1.100777  2.903718  -0.117013        0.0   \n",
       "\n",
       "                     T-PDG     T-TPT  \n",
       "timestamp                             \n",
       "2018-09-29 17:51:36    0.0 -0.388444  \n",
       "2018-09-29 17:51:37    0.0 -0.388444  \n",
       "2018-09-29 17:51:38    0.0 -0.388445  \n",
       "2018-09-29 17:51:39    0.0 -0.388446  \n",
       "2018-09-29 17:51:40    0.0 -0.388446  \n",
       "\n",
       "[5 rows x 22 columns]"
      ]
     },
     "execution_count": 27,
     "metadata": {},
     "output_type": "execute_result"
    }
   ],
   "source": [
    "# Select a single event from the dataset\n",
    "event_id = 0\n",
    "event = raw_dataset[event_id]\n",
    "\n",
    "# Convert the 'signal' to a pandas DataFrame\n",
    "signal = pd.DataFrame(event[\"signal\"])\n",
    "\n",
    "# Convert Period columns to datetime for compatibility\n",
    "for col in signal.columns:\n",
    "    if isinstance(signal[col].dtype, pd.PeriodDtype):\n",
    "        signal[col] = signal[col].dt.to_timestamp()\n",
    "\n",
    "# Display the first rows to inspect the signal\n",
    "signal.head()"
   ]
  },
  {
   "cell_type": "markdown",
   "metadata": {},
   "source": [
    "### 3.1 Handling missing values (Imputation)"
   ]
  },
  {
   "cell_type": "markdown",
   "metadata": {},
   "source": [
    "The class `ImputeMissing` fills `NaN` values in numeric columns.\n",
    "It supports three strategies:\n",
    "\n",
    "- mean → Replace NaN with the column mean.\n",
    "- median → Replace NaN with the column median.\n",
    "- constant → Replace NaN with a fixed value (`fill_value`).\n",
    "\n",
    "The column \"T-TPT\" will be used to demonstrate this functionality.\n",
    "\n"
   ]
  },
  {
   "cell_type": "markdown",
   "metadata": {},
   "source": [
    "First, we'll select 5 index values:\n"
   ]
  },
  {
   "cell_type": "code",
   "execution_count": 28,
   "metadata": {},
   "outputs": [
    {
     "name": "stdout",
     "output_type": "stream",
     "text": [
      "Original values at selected indices:\n",
      "timestamp\n",
      "2018-09-29 17:51:36   -0.388444\n",
      "2018-09-29 17:51:37   -0.388444\n",
      "2018-09-29 17:51:38   -0.388445\n",
      "2018-09-29 17:51:39   -0.388446\n",
      "2018-09-29 17:51:40   -0.388446\n",
      "Name: T-TPT, dtype: float64\n"
     ]
    }
   ],
   "source": [
    "col = \"T-TPT\"\n",
    "indices_to_nan = signal.index[:5]\n",
    "print(\"Original values at selected indices:\")\n",
    "print(signal.loc[indices_to_nan, col])"
   ]
  },
  {
   "cell_type": "markdown",
   "metadata": {},
   "source": [
    "Overriding their values with `NaN`:"
   ]
  },
  {
   "cell_type": "code",
   "execution_count": 29,
   "metadata": {},
   "outputs": [
    {
     "name": "stdout",
     "output_type": "stream",
     "text": [
      "\n",
      "Values after introducing NaN:\n",
      "0   NaN\n",
      "1   NaN\n",
      "2   NaN\n",
      "3   NaN\n",
      "4   NaN\n",
      "5   NaN\n",
      "6   NaN\n",
      "7   NaN\n",
      "8   NaN\n",
      "9   NaN\n",
      "dtype: float64\n"
     ]
    }
   ],
   "source": [
    "s = pd.Series([np.nan] * 10)\n",
    "print(\"\\nValues after introducing NaN:\")\n",
    "print(s)"
   ]
  },
  {
   "cell_type": "markdown",
   "metadata": {},
   "source": [
    "Finally, applying mean imputation and verifying the results:\n"
   ]
  },
  {
   "cell_type": "code",
   "execution_count": 30,
   "metadata": {},
   "outputs": [
    {
     "name": "stdout",
     "output_type": "stream",
     "text": [
      "\n",
      "Values after mean imputation:\n",
      "0    10.0\n",
      "1    10.0\n",
      "2    10.0\n",
      "3    10.0\n",
      "4    10.0\n",
      "5    10.0\n",
      "6    10.0\n",
      "7    10.0\n",
      "8    10.0\n",
      "9    10.0\n",
      "Name: __temp__, dtype: float64\n"
     ]
    }
   ],
   "source": [
    "impute_missing = ImputeMissing(ImputeMissingConfig(strategy=\"constant\", fill_value=10))\n",
    "\n",
    "print(\"\\nValues after mean imputation:\")\n",
    "print(impute_missing(s))"
   ]
  },
  {
   "cell_type": "markdown",
   "metadata": {},
   "source": [
    "### 3.2 Normalization"
   ]
  },
  {
   "cell_type": "markdown",
   "metadata": {},
   "source": [
    "The class normalize rescales data using one of the following norms:\n",
    "\n",
    "- `l1` → Normalize by sum of absolute values.  \n",
    "- `l2` → Normalize by Euclidean norm.  \n",
    "- `max` → Normalize by maximum absolute value.  \n",
    "\n",
    "The column \"P-PDG\" will be used to demonstrate this functionality.  \n",
    "\n"
   ]
  },
  {
   "cell_type": "markdown",
   "metadata": {},
   "source": [
    "Checking column before normalization:"
   ]
  },
  {
   "cell_type": "code",
   "execution_count": 31,
   "metadata": {},
   "outputs": [
    {
     "data": {
      "text/plain": [
       "timestamp\n",
       "2018-09-29 17:51:36   -0.388444\n",
       "2018-09-29 17:51:37   -0.388444\n",
       "2018-09-29 17:51:38   -0.388445\n",
       "2018-09-29 17:51:39   -0.388446\n",
       "2018-09-29 17:51:40   -0.388446\n",
       "2018-09-29 17:51:41   -0.388447\n",
       "2018-09-29 17:51:42   -0.388447\n",
       "2018-09-29 17:51:43   -0.388448\n",
       "2018-09-29 17:51:44   -0.388448\n",
       "2018-09-29 17:51:45   -0.388450\n",
       "Name: T-TPT, dtype: float64"
      ]
     },
     "execution_count": 31,
     "metadata": {},
     "output_type": "execute_result"
    }
   ],
   "source": [
    "col = \"T-TPT\"\n",
    "signal[col].head(10)"
   ]
  },
  {
   "cell_type": "markdown",
   "metadata": {},
   "source": [
    "Applying the normalization and checking results:"
   ]
  },
  {
   "cell_type": "code",
   "execution_count": 32,
   "metadata": {},
   "outputs": [
    {
     "data": {
      "text/plain": [
       "timestamp\n",
       "2018-09-29 17:51:36   -0.002655\n",
       "2018-09-29 17:51:37   -0.002655\n",
       "2018-09-29 17:51:38   -0.002655\n",
       "2018-09-29 17:51:39   -0.002655\n",
       "2018-09-29 17:51:40   -0.002655\n",
       "2018-09-29 17:51:41   -0.002655\n",
       "2018-09-29 17:51:42   -0.002655\n",
       "2018-09-29 17:51:43   -0.002655\n",
       "2018-09-29 17:51:44   -0.002655\n",
       "2018-09-29 17:51:45   -0.002655\n",
       "Name: T-TPT, dtype: float64"
      ]
     },
     "execution_count": 32,
     "metadata": {},
     "output_type": "execute_result"
    }
   ],
   "source": [
    "# Apply L2 normalization row-wise\n",
    "normalize = Normalize(NormalizeConfig(norm=\"l2\", axis=0))\n",
    "signal[col] = normalize(signal[col])\n",
    "signal[col].head(10)"
   ]
  },
  {
   "cell_type": "markdown",
   "metadata": {},
   "source": [
    "### 3.3 Windowing"
   ]
  },
  {
   "cell_type": "markdown",
   "metadata": {},
   "source": [
    "The class `Windowing` divides a 1D time series into overlapping windows.\n",
    "Each window can be weighted with a function (e.g., Hann, Hamming) and optionally padded.\n",
    "\n",
    "The column \"P-TPT\" will be used to demonstrate this functionality."
   ]
  },
  {
   "cell_type": "markdown",
   "metadata": {},
   "source": [
    "Checking column before windowing:"
   ]
  },
  {
   "cell_type": "code",
   "execution_count": 33,
   "metadata": {},
   "outputs": [
    {
     "data": {
      "text/plain": [
       "timestamp\n",
       "2018-09-29 17:51:36   -1.100783\n",
       "2018-09-29 17:51:37   -1.100781\n",
       "2018-09-29 17:51:38   -1.100780\n",
       "2018-09-29 17:51:39   -1.100779\n",
       "2018-09-29 17:51:40   -1.100777\n",
       "2018-09-29 17:51:41   -1.100774\n",
       "2018-09-29 17:51:42   -1.100771\n",
       "2018-09-29 17:51:43   -1.100768\n",
       "2018-09-29 17:51:44   -1.100767\n",
       "2018-09-29 17:51:45   -1.100767\n",
       "Name: P-TPT, dtype: float64"
      ]
     },
     "execution_count": 33,
     "metadata": {},
     "output_type": "execute_result"
    }
   ],
   "source": [
    "col = \"P-TPT\"\n",
    "signal[col].head(10)"
   ]
  },
  {
   "cell_type": "markdown",
   "metadata": {},
   "source": [
    "Applying windowing (Hann window, window size 4, 50% overlap, and pad the last window) and checking results:\n"
   ]
  },
  {
   "cell_type": "code",
   "execution_count": 34,
   "metadata": {},
   "outputs": [
    {
     "name": "stdout",
     "output_type": "stream",
     "text": [
      "\n",
      "After windowing (first 5 windows):\n"
     ]
    },
    {
     "data": {
      "text/html": [
       "<div>\n",
       "<style scoped>\n",
       "    .dataframe tbody tr th:only-of-type {\n",
       "        vertical-align: middle;\n",
       "    }\n",
       "\n",
       "    .dataframe tbody tr th {\n",
       "        vertical-align: top;\n",
       "    }\n",
       "\n",
       "    .dataframe thead th {\n",
       "        text-align: right;\n",
       "    }\n",
       "</style>\n",
       "<table border=\"1\" class=\"dataframe\">\n",
       "  <thead>\n",
       "    <tr style=\"text-align: right;\">\n",
       "      <th></th>\n",
       "      <th>var1_t0</th>\n",
       "      <th>var1_t1</th>\n",
       "      <th>var1_t2</th>\n",
       "      <th>var1_t3</th>\n",
       "      <th>win</th>\n",
       "    </tr>\n",
       "  </thead>\n",
       "  <tbody>\n",
       "    <tr>\n",
       "      <th>0</th>\n",
       "      <td>-0.0</td>\n",
       "      <td>-0.550391</td>\n",
       "      <td>-1.100780</td>\n",
       "      <td>-0.550389</td>\n",
       "      <td>1</td>\n",
       "    </tr>\n",
       "    <tr>\n",
       "      <th>1</th>\n",
       "      <td>-0.0</td>\n",
       "      <td>-0.550389</td>\n",
       "      <td>-1.100777</td>\n",
       "      <td>-0.550387</td>\n",
       "      <td>2</td>\n",
       "    </tr>\n",
       "    <tr>\n",
       "      <th>2</th>\n",
       "      <td>-0.0</td>\n",
       "      <td>-0.550387</td>\n",
       "      <td>-1.100771</td>\n",
       "      <td>-0.550384</td>\n",
       "      <td>3</td>\n",
       "    </tr>\n",
       "    <tr>\n",
       "      <th>3</th>\n",
       "      <td>-0.0</td>\n",
       "      <td>-0.550384</td>\n",
       "      <td>-1.100767</td>\n",
       "      <td>-0.550383</td>\n",
       "      <td>4</td>\n",
       "    </tr>\n",
       "    <tr>\n",
       "      <th>4</th>\n",
       "      <td>-0.0</td>\n",
       "      <td>-0.550383</td>\n",
       "      <td>-1.100767</td>\n",
       "      <td>-0.550384</td>\n",
       "      <td>5</td>\n",
       "    </tr>\n",
       "  </tbody>\n",
       "</table>\n",
       "</div>"
      ],
      "text/plain": [
       "   var1_t0   var1_t1   var1_t2   var1_t3  win\n",
       "0     -0.0 -0.550391 -1.100780 -0.550389    1\n",
       "1     -0.0 -0.550389 -1.100777 -0.550387    2\n",
       "2     -0.0 -0.550387 -1.100771 -0.550384    3\n",
       "3     -0.0 -0.550384 -1.100767 -0.550383    4\n",
       "4     -0.0 -0.550383 -1.100767 -0.550384    5"
      ]
     },
     "metadata": {},
     "output_type": "display_data"
    }
   ],
   "source": [
    "wind = Windowing(\n",
    "    WindowingConfig(window=\"hann\", window_size=4, overlap=0.5, pad_last_window=True)\n",
    ")\n",
    "\n",
    "print(\"\\nAfter windowing (first 5 windows):\")\n",
    "display(wind(signal[col]).head())"
   ]
  },
  {
   "cell_type": "markdown",
   "metadata": {},
   "source": [
    "### 3.4 Renaming columns"
   ]
  },
  {
   "cell_type": "markdown",
   "metadata": {},
   "source": [
    "The class `RenameColumns` allows renaming DataFrame columns using a mapping dictionary.\n",
    "\n",
    "In this example, we rename the columns \"ABER-CKGL\" and \"ABER-CKP\" to \"sensor_A\" and \"sensor_B\", respectively.\n",
    "\n"
   ]
  },
  {
   "cell_type": "markdown",
   "metadata": {},
   "source": [
    "Checking row names before renaming:"
   ]
  },
  {
   "cell_type": "code",
   "execution_count": 35,
   "metadata": {},
   "outputs": [
    {
     "data": {
      "text/html": [
       "<div>\n",
       "<style scoped>\n",
       "    .dataframe tbody tr th:only-of-type {\n",
       "        vertical-align: middle;\n",
       "    }\n",
       "\n",
       "    .dataframe tbody tr th {\n",
       "        vertical-align: top;\n",
       "    }\n",
       "\n",
       "    .dataframe thead th {\n",
       "        text-align: right;\n",
       "    }\n",
       "</style>\n",
       "<table border=\"1\" class=\"dataframe\">\n",
       "  <thead>\n",
       "    <tr style=\"text-align: right;\">\n",
       "      <th></th>\n",
       "      <th>ABER-CKGL</th>\n",
       "      <th>ABER-CKP</th>\n",
       "      <th>ESTADO-DHSV</th>\n",
       "      <th>ESTADO-M1</th>\n",
       "      <th>ESTADO-M2</th>\n",
       "      <th>ESTADO-PXO</th>\n",
       "      <th>ESTADO-SDV-GL</th>\n",
       "      <th>ESTADO-SDV-P</th>\n",
       "      <th>ESTADO-W1</th>\n",
       "      <th>ESTADO-W2</th>\n",
       "      <th>...</th>\n",
       "      <th>P-JUS-CKGL</th>\n",
       "      <th>P-JUS-CKP</th>\n",
       "      <th>P-MON-CKP</th>\n",
       "      <th>P-PDG</th>\n",
       "      <th>P-TPT</th>\n",
       "      <th>QGL</th>\n",
       "      <th>T-JUS-CKP</th>\n",
       "      <th>T-MON-CKP</th>\n",
       "      <th>T-PDG</th>\n",
       "      <th>T-TPT</th>\n",
       "    </tr>\n",
       "    <tr>\n",
       "      <th>timestamp</th>\n",
       "      <th></th>\n",
       "      <th></th>\n",
       "      <th></th>\n",
       "      <th></th>\n",
       "      <th></th>\n",
       "      <th></th>\n",
       "      <th></th>\n",
       "      <th></th>\n",
       "      <th></th>\n",
       "      <th></th>\n",
       "      <th></th>\n",
       "      <th></th>\n",
       "      <th></th>\n",
       "      <th></th>\n",
       "      <th></th>\n",
       "      <th></th>\n",
       "      <th></th>\n",
       "      <th></th>\n",
       "      <th></th>\n",
       "      <th></th>\n",
       "      <th></th>\n",
       "    </tr>\n",
       "  </thead>\n",
       "  <tbody>\n",
       "    <tr>\n",
       "      <th>2018-09-29 17:51:36</th>\n",
       "      <td>0.0</td>\n",
       "      <td>0.0</td>\n",
       "      <td>0.0</td>\n",
       "      <td>0.0</td>\n",
       "      <td>0.0</td>\n",
       "      <td>0.0</td>\n",
       "      <td>0.0</td>\n",
       "      <td>0.0</td>\n",
       "      <td>0.0</td>\n",
       "      <td>0.0</td>\n",
       "      <td>...</td>\n",
       "      <td>0.515089</td>\n",
       "      <td>0.0</td>\n",
       "      <td>-0.673075</td>\n",
       "      <td>-0.635145</td>\n",
       "      <td>-1.100783</td>\n",
       "      <td>2.903850</td>\n",
       "      <td>-0.117010</td>\n",
       "      <td>0.0</td>\n",
       "      <td>0.0</td>\n",
       "      <td>-0.002655</td>\n",
       "    </tr>\n",
       "    <tr>\n",
       "      <th>2018-09-29 17:51:37</th>\n",
       "      <td>0.0</td>\n",
       "      <td>0.0</td>\n",
       "      <td>0.0</td>\n",
       "      <td>0.0</td>\n",
       "      <td>0.0</td>\n",
       "      <td>0.0</td>\n",
       "      <td>0.0</td>\n",
       "      <td>0.0</td>\n",
       "      <td>0.0</td>\n",
       "      <td>0.0</td>\n",
       "      <td>...</td>\n",
       "      <td>0.515088</td>\n",
       "      <td>0.0</td>\n",
       "      <td>-0.673075</td>\n",
       "      <td>-0.635146</td>\n",
       "      <td>-1.100781</td>\n",
       "      <td>2.903817</td>\n",
       "      <td>-0.117011</td>\n",
       "      <td>0.0</td>\n",
       "      <td>0.0</td>\n",
       "      <td>-0.002655</td>\n",
       "    </tr>\n",
       "    <tr>\n",
       "      <th>2018-09-29 17:51:38</th>\n",
       "      <td>0.0</td>\n",
       "      <td>0.0</td>\n",
       "      <td>0.0</td>\n",
       "      <td>0.0</td>\n",
       "      <td>0.0</td>\n",
       "      <td>0.0</td>\n",
       "      <td>0.0</td>\n",
       "      <td>0.0</td>\n",
       "      <td>0.0</td>\n",
       "      <td>0.0</td>\n",
       "      <td>...</td>\n",
       "      <td>0.515087</td>\n",
       "      <td>0.0</td>\n",
       "      <td>-0.673075</td>\n",
       "      <td>-0.635146</td>\n",
       "      <td>-1.100780</td>\n",
       "      <td>2.903784</td>\n",
       "      <td>-0.117011</td>\n",
       "      <td>0.0</td>\n",
       "      <td>0.0</td>\n",
       "      <td>-0.002655</td>\n",
       "    </tr>\n",
       "    <tr>\n",
       "      <th>2018-09-29 17:51:39</th>\n",
       "      <td>0.0</td>\n",
       "      <td>0.0</td>\n",
       "      <td>0.0</td>\n",
       "      <td>0.0</td>\n",
       "      <td>0.0</td>\n",
       "      <td>0.0</td>\n",
       "      <td>0.0</td>\n",
       "      <td>0.0</td>\n",
       "      <td>0.0</td>\n",
       "      <td>0.0</td>\n",
       "      <td>...</td>\n",
       "      <td>0.515085</td>\n",
       "      <td>0.0</td>\n",
       "      <td>-0.673075</td>\n",
       "      <td>-0.635146</td>\n",
       "      <td>-1.100779</td>\n",
       "      <td>2.903751</td>\n",
       "      <td>-0.117012</td>\n",
       "      <td>0.0</td>\n",
       "      <td>0.0</td>\n",
       "      <td>-0.002655</td>\n",
       "    </tr>\n",
       "    <tr>\n",
       "      <th>2018-09-29 17:51:40</th>\n",
       "      <td>0.0</td>\n",
       "      <td>0.0</td>\n",
       "      <td>0.0</td>\n",
       "      <td>0.0</td>\n",
       "      <td>0.0</td>\n",
       "      <td>0.0</td>\n",
       "      <td>0.0</td>\n",
       "      <td>0.0</td>\n",
       "      <td>0.0</td>\n",
       "      <td>0.0</td>\n",
       "      <td>...</td>\n",
       "      <td>0.515084</td>\n",
       "      <td>0.0</td>\n",
       "      <td>-0.673075</td>\n",
       "      <td>-0.635146</td>\n",
       "      <td>-1.100777</td>\n",
       "      <td>2.903718</td>\n",
       "      <td>-0.117013</td>\n",
       "      <td>0.0</td>\n",
       "      <td>0.0</td>\n",
       "      <td>-0.002655</td>\n",
       "    </tr>\n",
       "  </tbody>\n",
       "</table>\n",
       "<p>5 rows × 22 columns</p>\n",
       "</div>"
      ],
      "text/plain": [
       "                     ABER-CKGL  ABER-CKP  ESTADO-DHSV  ESTADO-M1  ESTADO-M2  \\\n",
       "timestamp                                                                     \n",
       "2018-09-29 17:51:36        0.0       0.0          0.0        0.0        0.0   \n",
       "2018-09-29 17:51:37        0.0       0.0          0.0        0.0        0.0   \n",
       "2018-09-29 17:51:38        0.0       0.0          0.0        0.0        0.0   \n",
       "2018-09-29 17:51:39        0.0       0.0          0.0        0.0        0.0   \n",
       "2018-09-29 17:51:40        0.0       0.0          0.0        0.0        0.0   \n",
       "\n",
       "                     ESTADO-PXO  ESTADO-SDV-GL  ESTADO-SDV-P  ESTADO-W1  \\\n",
       "timestamp                                                                 \n",
       "2018-09-29 17:51:36         0.0            0.0           0.0        0.0   \n",
       "2018-09-29 17:51:37         0.0            0.0           0.0        0.0   \n",
       "2018-09-29 17:51:38         0.0            0.0           0.0        0.0   \n",
       "2018-09-29 17:51:39         0.0            0.0           0.0        0.0   \n",
       "2018-09-29 17:51:40         0.0            0.0           0.0        0.0   \n",
       "\n",
       "                     ESTADO-W2  ...  P-JUS-CKGL  P-JUS-CKP  P-MON-CKP  \\\n",
       "timestamp                       ...                                     \n",
       "2018-09-29 17:51:36        0.0  ...    0.515089        0.0  -0.673075   \n",
       "2018-09-29 17:51:37        0.0  ...    0.515088        0.0  -0.673075   \n",
       "2018-09-29 17:51:38        0.0  ...    0.515087        0.0  -0.673075   \n",
       "2018-09-29 17:51:39        0.0  ...    0.515085        0.0  -0.673075   \n",
       "2018-09-29 17:51:40        0.0  ...    0.515084        0.0  -0.673075   \n",
       "\n",
       "                        P-PDG     P-TPT       QGL  T-JUS-CKP  T-MON-CKP  \\\n",
       "timestamp                                                                 \n",
       "2018-09-29 17:51:36 -0.635145 -1.100783  2.903850  -0.117010        0.0   \n",
       "2018-09-29 17:51:37 -0.635146 -1.100781  2.903817  -0.117011        0.0   \n",
       "2018-09-29 17:51:38 -0.635146 -1.100780  2.903784  -0.117011        0.0   \n",
       "2018-09-29 17:51:39 -0.635146 -1.100779  2.903751  -0.117012        0.0   \n",
       "2018-09-29 17:51:40 -0.635146 -1.100777  2.903718  -0.117013        0.0   \n",
       "\n",
       "                     T-PDG     T-TPT  \n",
       "timestamp                             \n",
       "2018-09-29 17:51:36    0.0 -0.002655  \n",
       "2018-09-29 17:51:37    0.0 -0.002655  \n",
       "2018-09-29 17:51:38    0.0 -0.002655  \n",
       "2018-09-29 17:51:39    0.0 -0.002655  \n",
       "2018-09-29 17:51:40    0.0 -0.002655  \n",
       "\n",
       "[5 rows x 22 columns]"
      ]
     },
     "execution_count": 35,
     "metadata": {},
     "output_type": "execute_result"
    }
   ],
   "source": [
    "signal.head()"
   ]
  },
  {
   "cell_type": "markdown",
   "metadata": {},
   "source": [
    "Now, renaming and checking the changes:"
   ]
  },
  {
   "cell_type": "code",
   "execution_count": 36,
   "metadata": {},
   "outputs": [
    {
     "data": {
      "text/html": [
       "<div>\n",
       "<style scoped>\n",
       "    .dataframe tbody tr th:only-of-type {\n",
       "        vertical-align: middle;\n",
       "    }\n",
       "\n",
       "    .dataframe tbody tr th {\n",
       "        vertical-align: top;\n",
       "    }\n",
       "\n",
       "    .dataframe thead th {\n",
       "        text-align: right;\n",
       "    }\n",
       "</style>\n",
       "<table border=\"1\" class=\"dataframe\">\n",
       "  <thead>\n",
       "    <tr style=\"text-align: right;\">\n",
       "      <th></th>\n",
       "      <th>sensor_A</th>\n",
       "      <th>sensor_B</th>\n",
       "      <th>ESTADO-DHSV</th>\n",
       "      <th>ESTADO-M1</th>\n",
       "      <th>ESTADO-M2</th>\n",
       "      <th>ESTADO-PXO</th>\n",
       "      <th>ESTADO-SDV-GL</th>\n",
       "      <th>ESTADO-SDV-P</th>\n",
       "      <th>ESTADO-W1</th>\n",
       "      <th>ESTADO-W2</th>\n",
       "      <th>...</th>\n",
       "      <th>P-JUS-CKGL</th>\n",
       "      <th>P-JUS-CKP</th>\n",
       "      <th>P-MON-CKP</th>\n",
       "      <th>P-PDG</th>\n",
       "      <th>P-TPT</th>\n",
       "      <th>QGL</th>\n",
       "      <th>T-JUS-CKP</th>\n",
       "      <th>T-MON-CKP</th>\n",
       "      <th>T-PDG</th>\n",
       "      <th>T-TPT</th>\n",
       "    </tr>\n",
       "    <tr>\n",
       "      <th>timestamp</th>\n",
       "      <th></th>\n",
       "      <th></th>\n",
       "      <th></th>\n",
       "      <th></th>\n",
       "      <th></th>\n",
       "      <th></th>\n",
       "      <th></th>\n",
       "      <th></th>\n",
       "      <th></th>\n",
       "      <th></th>\n",
       "      <th></th>\n",
       "      <th></th>\n",
       "      <th></th>\n",
       "      <th></th>\n",
       "      <th></th>\n",
       "      <th></th>\n",
       "      <th></th>\n",
       "      <th></th>\n",
       "      <th></th>\n",
       "      <th></th>\n",
       "      <th></th>\n",
       "    </tr>\n",
       "  </thead>\n",
       "  <tbody>\n",
       "    <tr>\n",
       "      <th>2018-09-29 17:51:36</th>\n",
       "      <td>0.0</td>\n",
       "      <td>0.0</td>\n",
       "      <td>0.0</td>\n",
       "      <td>0.0</td>\n",
       "      <td>0.0</td>\n",
       "      <td>0.0</td>\n",
       "      <td>0.0</td>\n",
       "      <td>0.0</td>\n",
       "      <td>0.0</td>\n",
       "      <td>0.0</td>\n",
       "      <td>...</td>\n",
       "      <td>0.515089</td>\n",
       "      <td>0.0</td>\n",
       "      <td>-0.673075</td>\n",
       "      <td>-0.635145</td>\n",
       "      <td>-1.100783</td>\n",
       "      <td>2.903850</td>\n",
       "      <td>-0.117010</td>\n",
       "      <td>0.0</td>\n",
       "      <td>0.0</td>\n",
       "      <td>-0.002655</td>\n",
       "    </tr>\n",
       "    <tr>\n",
       "      <th>2018-09-29 17:51:37</th>\n",
       "      <td>0.0</td>\n",
       "      <td>0.0</td>\n",
       "      <td>0.0</td>\n",
       "      <td>0.0</td>\n",
       "      <td>0.0</td>\n",
       "      <td>0.0</td>\n",
       "      <td>0.0</td>\n",
       "      <td>0.0</td>\n",
       "      <td>0.0</td>\n",
       "      <td>0.0</td>\n",
       "      <td>...</td>\n",
       "      <td>0.515088</td>\n",
       "      <td>0.0</td>\n",
       "      <td>-0.673075</td>\n",
       "      <td>-0.635146</td>\n",
       "      <td>-1.100781</td>\n",
       "      <td>2.903817</td>\n",
       "      <td>-0.117011</td>\n",
       "      <td>0.0</td>\n",
       "      <td>0.0</td>\n",
       "      <td>-0.002655</td>\n",
       "    </tr>\n",
       "    <tr>\n",
       "      <th>2018-09-29 17:51:38</th>\n",
       "      <td>0.0</td>\n",
       "      <td>0.0</td>\n",
       "      <td>0.0</td>\n",
       "      <td>0.0</td>\n",
       "      <td>0.0</td>\n",
       "      <td>0.0</td>\n",
       "      <td>0.0</td>\n",
       "      <td>0.0</td>\n",
       "      <td>0.0</td>\n",
       "      <td>0.0</td>\n",
       "      <td>...</td>\n",
       "      <td>0.515087</td>\n",
       "      <td>0.0</td>\n",
       "      <td>-0.673075</td>\n",
       "      <td>-0.635146</td>\n",
       "      <td>-1.100780</td>\n",
       "      <td>2.903784</td>\n",
       "      <td>-0.117011</td>\n",
       "      <td>0.0</td>\n",
       "      <td>0.0</td>\n",
       "      <td>-0.002655</td>\n",
       "    </tr>\n",
       "    <tr>\n",
       "      <th>2018-09-29 17:51:39</th>\n",
       "      <td>0.0</td>\n",
       "      <td>0.0</td>\n",
       "      <td>0.0</td>\n",
       "      <td>0.0</td>\n",
       "      <td>0.0</td>\n",
       "      <td>0.0</td>\n",
       "      <td>0.0</td>\n",
       "      <td>0.0</td>\n",
       "      <td>0.0</td>\n",
       "      <td>0.0</td>\n",
       "      <td>...</td>\n",
       "      <td>0.515085</td>\n",
       "      <td>0.0</td>\n",
       "      <td>-0.673075</td>\n",
       "      <td>-0.635146</td>\n",
       "      <td>-1.100779</td>\n",
       "      <td>2.903751</td>\n",
       "      <td>-0.117012</td>\n",
       "      <td>0.0</td>\n",
       "      <td>0.0</td>\n",
       "      <td>-0.002655</td>\n",
       "    </tr>\n",
       "    <tr>\n",
       "      <th>2018-09-29 17:51:40</th>\n",
       "      <td>0.0</td>\n",
       "      <td>0.0</td>\n",
       "      <td>0.0</td>\n",
       "      <td>0.0</td>\n",
       "      <td>0.0</td>\n",
       "      <td>0.0</td>\n",
       "      <td>0.0</td>\n",
       "      <td>0.0</td>\n",
       "      <td>0.0</td>\n",
       "      <td>0.0</td>\n",
       "      <td>...</td>\n",
       "      <td>0.515084</td>\n",
       "      <td>0.0</td>\n",
       "      <td>-0.673075</td>\n",
       "      <td>-0.635146</td>\n",
       "      <td>-1.100777</td>\n",
       "      <td>2.903718</td>\n",
       "      <td>-0.117013</td>\n",
       "      <td>0.0</td>\n",
       "      <td>0.0</td>\n",
       "      <td>-0.002655</td>\n",
       "    </tr>\n",
       "  </tbody>\n",
       "</table>\n",
       "<p>5 rows × 22 columns</p>\n",
       "</div>"
      ],
      "text/plain": [
       "                     sensor_A  sensor_B  ESTADO-DHSV  ESTADO-M1  ESTADO-M2  \\\n",
       "timestamp                                                                    \n",
       "2018-09-29 17:51:36       0.0       0.0          0.0        0.0        0.0   \n",
       "2018-09-29 17:51:37       0.0       0.0          0.0        0.0        0.0   \n",
       "2018-09-29 17:51:38       0.0       0.0          0.0        0.0        0.0   \n",
       "2018-09-29 17:51:39       0.0       0.0          0.0        0.0        0.0   \n",
       "2018-09-29 17:51:40       0.0       0.0          0.0        0.0        0.0   \n",
       "\n",
       "                     ESTADO-PXO  ESTADO-SDV-GL  ESTADO-SDV-P  ESTADO-W1  \\\n",
       "timestamp                                                                 \n",
       "2018-09-29 17:51:36         0.0            0.0           0.0        0.0   \n",
       "2018-09-29 17:51:37         0.0            0.0           0.0        0.0   \n",
       "2018-09-29 17:51:38         0.0            0.0           0.0        0.0   \n",
       "2018-09-29 17:51:39         0.0            0.0           0.0        0.0   \n",
       "2018-09-29 17:51:40         0.0            0.0           0.0        0.0   \n",
       "\n",
       "                     ESTADO-W2  ...  P-JUS-CKGL  P-JUS-CKP  P-MON-CKP  \\\n",
       "timestamp                       ...                                     \n",
       "2018-09-29 17:51:36        0.0  ...    0.515089        0.0  -0.673075   \n",
       "2018-09-29 17:51:37        0.0  ...    0.515088        0.0  -0.673075   \n",
       "2018-09-29 17:51:38        0.0  ...    0.515087        0.0  -0.673075   \n",
       "2018-09-29 17:51:39        0.0  ...    0.515085        0.0  -0.673075   \n",
       "2018-09-29 17:51:40        0.0  ...    0.515084        0.0  -0.673075   \n",
       "\n",
       "                        P-PDG     P-TPT       QGL  T-JUS-CKP  T-MON-CKP  \\\n",
       "timestamp                                                                 \n",
       "2018-09-29 17:51:36 -0.635145 -1.100783  2.903850  -0.117010        0.0   \n",
       "2018-09-29 17:51:37 -0.635146 -1.100781  2.903817  -0.117011        0.0   \n",
       "2018-09-29 17:51:38 -0.635146 -1.100780  2.903784  -0.117011        0.0   \n",
       "2018-09-29 17:51:39 -0.635146 -1.100779  2.903751  -0.117012        0.0   \n",
       "2018-09-29 17:51:40 -0.635146 -1.100777  2.903718  -0.117013        0.0   \n",
       "\n",
       "                     T-PDG     T-TPT  \n",
       "timestamp                             \n",
       "2018-09-29 17:51:36    0.0 -0.002655  \n",
       "2018-09-29 17:51:37    0.0 -0.002655  \n",
       "2018-09-29 17:51:38    0.0 -0.002655  \n",
       "2018-09-29 17:51:39    0.0 -0.002655  \n",
       "2018-09-29 17:51:40    0.0 -0.002655  \n",
       "\n",
       "[5 rows x 22 columns]"
      ]
     },
     "execution_count": 36,
     "metadata": {},
     "output_type": "execute_result"
    }
   ],
   "source": [
    "columns_map = {\"ABER-CKGL\": \"sensor_A\", \"ABER-CKP\": \"sensor_B\"}\n",
    "rename = RenameColumns(RenameColumnsConfig(columns_map=columns_map))\n",
    "signal_renamed = rename(signal)\n",
    "signal_renamed.head()"
   ]
  },
  {
   "cell_type": "markdown",
   "metadata": {},
   "source": [
    "------"
   ]
  },
  {
   "cell_type": "markdown",
   "metadata": {},
   "source": [
    "## 4.  🔎 Feature Extraction\n"
   ]
  },
  {
   "cell_type": "markdown",
   "metadata": {},
   "source": [
    "In most time-series machine learning tasks, raw signal data is not used directly to train models. Instead, we use feature extraction to transform segments, or windows, of the time-series into a set of features that better represent the underlying patterns. This process converts a sequence of data points into a single row of features that a model can learn from.\n",
    "\n",
    "An important part of this process is aligning the extracted features (X) with their corresponding labels (y). Each of our feature extractors is designed to take both X and y as input and return the transformed features and their corectly aligned labels, ready for the modeling stage.\n",
    "\n",
    "In this section, we will demonstrate the three primary feature extraction methods available in the toolkit:\n",
    "\n",
    "* `ExtractStatisticalFeatures`: Captures the statistical properties of the data within each window (e.g. mean, std, skewness, kurtosis).\n",
    "* `ExtractWaveletFeatures`: Decomposes the signal within each window into it's frequency components. It generates approximation (low-frequency representation) and detail coefficients (high-frequency representation).\n",
    "* `ExtractEWStatisticalFeatures`: Exponentially Weighted statistical features. Similar to the standard statistical features, but give progressively more weight to more recent data points within a window. This is particularly useful when the most recent behavior in a window is more important than older behavior.\n"
   ]
  },
  {
   "cell_type": "markdown",
   "metadata": {},
   "source": [
    "First, we select the data for feature extraction using the functionalities presented in section 2"
   ]
  },
  {
   "cell_type": "code",
   "execution_count": 37,
   "metadata": {},
   "outputs": [],
   "source": [
    "X = raw_dataset[0][\"signal\"]\n",
    "y = raw_dataset[0][\"label\"]\n",
    "\n",
    "# Filling NaN values with 0 for demonstration purposes\n",
    "X = X.fillna(0)\n",
    "y = y.fillna(0)"
   ]
  },
  {
   "cell_type": "markdown",
   "metadata": {},
   "source": [
    "### 4.1 Statistical Feature Extraction\n"
   ]
  },
  {
   "cell_type": "markdown",
   "metadata": {},
   "source": [
    "In class `9`, the following statistical features are extracted:\n",
    "\n",
    "* `Mean`, `Standard Deviation`: Describe the central tendency and dispersion (volatility) of the signal in the window.\n",
    "* `Skewness`, `Kurtosis`: Describe the shape of the distribution. Skewness measures its asymmetry, while kurtosis measures how much the data is concentrated on the tail versus the center of the distribution.\n",
    "* `Minimum`, `1st Quartile`, `Median`, `3rd Quartile`, `Maximum`: Provide a summary of the statistical distribution through quartiles.\n",
    "\n"
   ]
  },
  {
   "cell_type": "code",
   "execution_count": 38,
   "metadata": {},
   "outputs": [
    {
     "data": {
      "text/html": [
       "<div>\n",
       "<style scoped>\n",
       "    .dataframe tbody tr th:only-of-type {\n",
       "        vertical-align: middle;\n",
       "    }\n",
       "\n",
       "    .dataframe tbody tr th {\n",
       "        vertical-align: top;\n",
       "    }\n",
       "\n",
       "    .dataframe thead th {\n",
       "        text-align: right;\n",
       "    }\n",
       "</style>\n",
       "<table border=\"1\" class=\"dataframe\">\n",
       "  <thead>\n",
       "    <tr style=\"text-align: right;\">\n",
       "      <th></th>\n",
       "      <th>var1_mean</th>\n",
       "      <th>var1_std</th>\n",
       "      <th>var1_skew</th>\n",
       "      <th>var1_kurt</th>\n",
       "      <th>var1_min</th>\n",
       "      <th>var1_1qrt</th>\n",
       "      <th>var1_med</th>\n",
       "      <th>var1_3qrt</th>\n",
       "      <th>var1_max</th>\n",
       "    </tr>\n",
       "  </thead>\n",
       "  <tbody>\n",
       "    <tr>\n",
       "      <th>0</th>\n",
       "      <td>-0.550390</td>\n",
       "      <td>0.389184</td>\n",
       "      <td>3.502049e-07</td>\n",
       "      <td>-1.000000</td>\n",
       "      <td>-1.100780</td>\n",
       "      <td>-0.687988</td>\n",
       "      <td>-0.550390</td>\n",
       "      <td>-0.412792</td>\n",
       "      <td>-0.000000</td>\n",
       "    </tr>\n",
       "    <tr>\n",
       "      <th>1</th>\n",
       "      <td>-0.550388</td>\n",
       "      <td>0.389183</td>\n",
       "      <td>-1.004796e-06</td>\n",
       "      <td>-1.000000</td>\n",
       "      <td>-1.100777</td>\n",
       "      <td>-0.687986</td>\n",
       "      <td>-0.550388</td>\n",
       "      <td>-0.412790</td>\n",
       "      <td>-0.000000</td>\n",
       "    </tr>\n",
       "    <tr>\n",
       "      <th>2</th>\n",
       "      <td>-0.550386</td>\n",
       "      <td>0.389181</td>\n",
       "      <td>2.356539e-07</td>\n",
       "      <td>-1.000000</td>\n",
       "      <td>-1.100771</td>\n",
       "      <td>-0.687983</td>\n",
       "      <td>-0.550386</td>\n",
       "      <td>-0.412788</td>\n",
       "      <td>-0.000000</td>\n",
       "    </tr>\n",
       "    <tr>\n",
       "      <th>3</th>\n",
       "      <td>-0.550384</td>\n",
       "      <td>0.389180</td>\n",
       "      <td>1.377925e-06</td>\n",
       "      <td>-1.000000</td>\n",
       "      <td>-1.100767</td>\n",
       "      <td>-0.687980</td>\n",
       "      <td>-0.550384</td>\n",
       "      <td>-0.412787</td>\n",
       "      <td>-0.000000</td>\n",
       "    </tr>\n",
       "    <tr>\n",
       "      <th>4</th>\n",
       "      <td>-0.550383</td>\n",
       "      <td>0.389180</td>\n",
       "      <td>1.178274e-07</td>\n",
       "      <td>-1.000000</td>\n",
       "      <td>-1.100767</td>\n",
       "      <td>-0.687979</td>\n",
       "      <td>-0.550383</td>\n",
       "      <td>-0.412787</td>\n",
       "      <td>-0.000000</td>\n",
       "    </tr>\n",
       "    <tr>\n",
       "      <th>...</th>\n",
       "      <td>...</td>\n",
       "      <td>...</td>\n",
       "      <td>...</td>\n",
       "      <td>...</td>\n",
       "      <td>...</td>\n",
       "      <td>...</td>\n",
       "      <td>...</td>\n",
       "      <td>...</td>\n",
       "      <td>...</td>\n",
       "    </tr>\n",
       "    <tr>\n",
       "      <th>31795</th>\n",
       "      <td>0.164353</td>\n",
       "      <td>0.116217</td>\n",
       "      <td>4.932171e-05</td>\n",
       "      <td>-1.000000</td>\n",
       "      <td>0.000000</td>\n",
       "      <td>0.123261</td>\n",
       "      <td>0.164351</td>\n",
       "      <td>0.205444</td>\n",
       "      <td>0.328710</td>\n",
       "    </tr>\n",
       "    <tr>\n",
       "      <th>31796</th>\n",
       "      <td>0.164348</td>\n",
       "      <td>0.116213</td>\n",
       "      <td>4.165078e-05</td>\n",
       "      <td>-1.000000</td>\n",
       "      <td>0.000000</td>\n",
       "      <td>0.123254</td>\n",
       "      <td>0.164347</td>\n",
       "      <td>0.205441</td>\n",
       "      <td>0.328700</td>\n",
       "    </tr>\n",
       "    <tr>\n",
       "      <th>31797</th>\n",
       "      <td>0.164328</td>\n",
       "      <td>0.116197</td>\n",
       "      <td>-3.507927e-05</td>\n",
       "      <td>-1.000000</td>\n",
       "      <td>0.000000</td>\n",
       "      <td>0.123240</td>\n",
       "      <td>0.164329</td>\n",
       "      <td>0.205417</td>\n",
       "      <td>0.328653</td>\n",
       "    </tr>\n",
       "    <tr>\n",
       "      <th>31798</th>\n",
       "      <td>0.123240</td>\n",
       "      <td>0.136247</td>\n",
       "      <td>4.933792e-01</td>\n",
       "      <td>-1.371904</td>\n",
       "      <td>0.000000</td>\n",
       "      <td>0.000000</td>\n",
       "      <td>0.082160</td>\n",
       "      <td>0.205401</td>\n",
       "      <td>0.328640</td>\n",
       "    </tr>\n",
       "    <tr>\n",
       "      <th>31799</th>\n",
       "      <td>0.000000</td>\n",
       "      <td>0.000000</td>\n",
       "      <td>0.000000e+00</td>\n",
       "      <td>0.000000</td>\n",
       "      <td>0.000000</td>\n",
       "      <td>0.000000</td>\n",
       "      <td>0.000000</td>\n",
       "      <td>0.000000</td>\n",
       "      <td>0.000000</td>\n",
       "    </tr>\n",
       "  </tbody>\n",
       "</table>\n",
       "<p>31800 rows × 9 columns</p>\n",
       "</div>"
      ],
      "text/plain": [
       "       var1_mean  var1_std     var1_skew  var1_kurt  var1_min  var1_1qrt  \\\n",
       "0      -0.550390  0.389184  3.502049e-07  -1.000000 -1.100780  -0.687988   \n",
       "1      -0.550388  0.389183 -1.004796e-06  -1.000000 -1.100777  -0.687986   \n",
       "2      -0.550386  0.389181  2.356539e-07  -1.000000 -1.100771  -0.687983   \n",
       "3      -0.550384  0.389180  1.377925e-06  -1.000000 -1.100767  -0.687980   \n",
       "4      -0.550383  0.389180  1.178274e-07  -1.000000 -1.100767  -0.687979   \n",
       "...          ...       ...           ...        ...       ...        ...   \n",
       "31795   0.164353  0.116217  4.932171e-05  -1.000000  0.000000   0.123261   \n",
       "31796   0.164348  0.116213  4.165078e-05  -1.000000  0.000000   0.123254   \n",
       "31797   0.164328  0.116197 -3.507927e-05  -1.000000  0.000000   0.123240   \n",
       "31798   0.123240  0.136247  4.933792e-01  -1.371904  0.000000   0.000000   \n",
       "31799   0.000000  0.000000  0.000000e+00   0.000000  0.000000   0.000000   \n",
       "\n",
       "       var1_med  var1_3qrt  var1_max  \n",
       "0     -0.550390  -0.412792 -0.000000  \n",
       "1     -0.550388  -0.412790 -0.000000  \n",
       "2     -0.550386  -0.412788 -0.000000  \n",
       "3     -0.550384  -0.412787 -0.000000  \n",
       "4     -0.550383  -0.412787 -0.000000  \n",
       "...         ...        ...       ...  \n",
       "31795  0.164351   0.205444  0.328710  \n",
       "31796  0.164347   0.205441  0.328700  \n",
       "31797  0.164329   0.205417  0.328653  \n",
       "31798  0.082160   0.205401  0.328640  \n",
       "31799  0.000000   0.000000  0.000000  \n",
       "\n",
       "[31800 rows x 9 columns]"
      ]
     },
     "execution_count": 38,
     "metadata": {},
     "output_type": "execute_result"
    }
   ],
   "source": [
    "# Configure the statistical extractor\n",
    "config_stats = StatisticalConfig(window_size=20, overlap=0.75)\n",
    "\n",
    "# Instantiate the extractor\n",
    "statistical_extractor = ExtractStatisticalFeatures(config_stats)\n",
    "\n",
    "statistical_extractor.is_windowed = True\n",
    "\n",
    "# Apply it to the same sample data\n",
    "df = statistical_extractor(wind(signal[col]))\n",
    "df"
   ]
  },
  {
   "cell_type": "markdown",
   "metadata": {},
   "source": [
    "### 4.2 Wavelet Feature Extraction"
   ]
  },
  {
   "cell_type": "markdown",
   "metadata": {},
   "source": [
    "The Wavelet Feature Extractor uses the Stationary Wavelet Transform (SWT). This method decomposes the signal within each window into different frequency components, which can often capture patterns that are invisible to standard statistical measures.\n",
    "\n",
    "For each level of decomposition, two sets of coefficients are generated:\n",
    "\n",
    "* `Approximation Coefficients (A)`: These capture the low-frequency, underlying trend of the signal. Think of it as a smoothed or downsampled version of the signal within the window.\n",
    "* `Detail Coefficients (D)`: These capture the high-frequency components, representing noise, spikes, and other abrupt changes.\n",
    "\n"
   ]
  },
  {
   "cell_type": "code",
   "execution_count": 39,
   "metadata": {},
   "outputs": [
    {
     "data": {
      "text/html": [
       "<div>\n",
       "<style scoped>\n",
       "    .dataframe tbody tr th:only-of-type {\n",
       "        vertical-align: middle;\n",
       "    }\n",
       "\n",
       "    .dataframe tbody tr th {\n",
       "        vertical-align: top;\n",
       "    }\n",
       "\n",
       "    .dataframe thead th {\n",
       "        text-align: right;\n",
       "    }\n",
       "</style>\n",
       "<table border=\"1\" class=\"dataframe\">\n",
       "  <thead>\n",
       "    <tr style=\"text-align: right;\">\n",
       "      <th></th>\n",
       "      <th>var1_A3</th>\n",
       "      <th>var1_D3</th>\n",
       "      <th>var1_A2</th>\n",
       "      <th>var1_D2</th>\n",
       "      <th>var1_A1</th>\n",
       "      <th>var1_D1</th>\n",
       "      <th>var1_A0</th>\n",
       "    </tr>\n",
       "  </thead>\n",
       "  <tbody>\n",
       "    <tr>\n",
       "      <th>0</th>\n",
       "      <td>-0.778369</td>\n",
       "      <td>0.778369</td>\n",
       "      <td>0.0</td>\n",
       "      <td>0.0</td>\n",
       "      <td>0.0</td>\n",
       "      <td>0.0</td>\n",
       "      <td>0.0</td>\n",
       "    </tr>\n",
       "    <tr>\n",
       "      <th>1</th>\n",
       "      <td>-0.778367</td>\n",
       "      <td>0.778367</td>\n",
       "      <td>0.0</td>\n",
       "      <td>0.0</td>\n",
       "      <td>0.0</td>\n",
       "      <td>0.0</td>\n",
       "      <td>0.0</td>\n",
       "    </tr>\n",
       "    <tr>\n",
       "      <th>2</th>\n",
       "      <td>-0.778363</td>\n",
       "      <td>0.778363</td>\n",
       "      <td>0.0</td>\n",
       "      <td>0.0</td>\n",
       "      <td>0.0</td>\n",
       "      <td>0.0</td>\n",
       "      <td>0.0</td>\n",
       "    </tr>\n",
       "    <tr>\n",
       "      <th>3</th>\n",
       "      <td>-0.778360</td>\n",
       "      <td>0.778360</td>\n",
       "      <td>0.0</td>\n",
       "      <td>0.0</td>\n",
       "      <td>0.0</td>\n",
       "      <td>0.0</td>\n",
       "      <td>0.0</td>\n",
       "    </tr>\n",
       "    <tr>\n",
       "      <th>4</th>\n",
       "      <td>-0.778360</td>\n",
       "      <td>0.778360</td>\n",
       "      <td>0.0</td>\n",
       "      <td>0.0</td>\n",
       "      <td>0.0</td>\n",
       "      <td>0.0</td>\n",
       "      <td>0.0</td>\n",
       "    </tr>\n",
       "    <tr>\n",
       "      <th>...</th>\n",
       "      <td>...</td>\n",
       "      <td>...</td>\n",
       "      <td>...</td>\n",
       "      <td>...</td>\n",
       "      <td>...</td>\n",
       "      <td>...</td>\n",
       "      <td>...</td>\n",
       "    </tr>\n",
       "    <tr>\n",
       "      <th>31795</th>\n",
       "      <td>0.232431</td>\n",
       "      <td>-0.232431</td>\n",
       "      <td>0.0</td>\n",
       "      <td>0.0</td>\n",
       "      <td>0.0</td>\n",
       "      <td>0.0</td>\n",
       "      <td>0.0</td>\n",
       "    </tr>\n",
       "    <tr>\n",
       "      <th>31796</th>\n",
       "      <td>0.232423</td>\n",
       "      <td>-0.232423</td>\n",
       "      <td>0.0</td>\n",
       "      <td>0.0</td>\n",
       "      <td>0.0</td>\n",
       "      <td>0.0</td>\n",
       "      <td>0.0</td>\n",
       "    </tr>\n",
       "    <tr>\n",
       "      <th>31797</th>\n",
       "      <td>0.232395</td>\n",
       "      <td>-0.232395</td>\n",
       "      <td>0.0</td>\n",
       "      <td>0.0</td>\n",
       "      <td>0.0</td>\n",
       "      <td>0.0</td>\n",
       "      <td>0.0</td>\n",
       "    </tr>\n",
       "    <tr>\n",
       "      <th>31798</th>\n",
       "      <td>0.174288</td>\n",
       "      <td>-0.174288</td>\n",
       "      <td>0.0</td>\n",
       "      <td>0.0</td>\n",
       "      <td>0.0</td>\n",
       "      <td>0.0</td>\n",
       "      <td>0.0</td>\n",
       "    </tr>\n",
       "    <tr>\n",
       "      <th>31799</th>\n",
       "      <td>0.000000</td>\n",
       "      <td>0.000000</td>\n",
       "      <td>0.0</td>\n",
       "      <td>0.0</td>\n",
       "      <td>0.0</td>\n",
       "      <td>0.0</td>\n",
       "      <td>0.0</td>\n",
       "    </tr>\n",
       "  </tbody>\n",
       "</table>\n",
       "<p>31800 rows × 7 columns</p>\n",
       "</div>"
      ],
      "text/plain": [
       "        var1_A3   var1_D3  var1_A2  var1_D2  var1_A1  var1_D1  var1_A0\n",
       "0     -0.778369  0.778369      0.0      0.0      0.0      0.0      0.0\n",
       "1     -0.778367  0.778367      0.0      0.0      0.0      0.0      0.0\n",
       "2     -0.778363  0.778363      0.0      0.0      0.0      0.0      0.0\n",
       "3     -0.778360  0.778360      0.0      0.0      0.0      0.0      0.0\n",
       "4     -0.778360  0.778360      0.0      0.0      0.0      0.0      0.0\n",
       "...         ...       ...      ...      ...      ...      ...      ...\n",
       "31795  0.232431 -0.232431      0.0      0.0      0.0      0.0      0.0\n",
       "31796  0.232423 -0.232423      0.0      0.0      0.0      0.0      0.0\n",
       "31797  0.232395 -0.232395      0.0      0.0      0.0      0.0      0.0\n",
       "31798  0.174288 -0.174288      0.0      0.0      0.0      0.0      0.0\n",
       "31799  0.000000  0.000000      0.0      0.0      0.0      0.0      0.0\n",
       "\n",
       "[31800 rows x 7 columns]"
      ]
     },
     "execution_count": 39,
     "metadata": {},
     "output_type": "execute_result"
    }
   ],
   "source": [
    "# Configure the extractor\n",
    "config_wavelets = WaveletConfig(level=3, overlap=0.875, offset=0)\n",
    "\n",
    "# Instantiate the extractor\n",
    "wavelet_extractor = ExtractWaveletFeatures(config_wavelets)\n",
    "\n",
    "wavelet_extractor.is_windowed = True\n",
    "\n",
    "# Apply it to our data\n",
    "df = wavelet_extractor(wind(signal[col]))\n",
    "df"
   ]
  },
  {
   "cell_type": "code",
   "execution_count": 40,
   "metadata": {},
   "outputs": [
    {
     "data": {
      "text/html": [
       "<div>\n",
       "<style scoped>\n",
       "    .dataframe tbody tr th:only-of-type {\n",
       "        vertical-align: middle;\n",
       "    }\n",
       "\n",
       "    .dataframe tbody tr th {\n",
       "        vertical-align: top;\n",
       "    }\n",
       "\n",
       "    .dataframe thead th {\n",
       "        text-align: right;\n",
       "    }\n",
       "</style>\n",
       "<table border=\"1\" class=\"dataframe\">\n",
       "  <thead>\n",
       "    <tr style=\"text-align: right;\">\n",
       "      <th></th>\n",
       "      <th>var1_A3</th>\n",
       "      <th>var1_D3</th>\n",
       "      <th>var1_A2</th>\n",
       "      <th>var1_D2</th>\n",
       "      <th>var1_A1</th>\n",
       "      <th>var1_D1</th>\n",
       "      <th>var1_A0</th>\n",
       "    </tr>\n",
       "  </thead>\n",
       "  <tbody>\n",
       "    <tr>\n",
       "      <th>0</th>\n",
       "      <td>-0.778367</td>\n",
       "      <td>0.778367</td>\n",
       "      <td>0.0</td>\n",
       "      <td>0.0</td>\n",
       "      <td>0.0</td>\n",
       "      <td>0.0</td>\n",
       "      <td>0.0</td>\n",
       "    </tr>\n",
       "    <tr>\n",
       "      <th>1</th>\n",
       "      <td>-0.778367</td>\n",
       "      <td>0.778367</td>\n",
       "      <td>0.0</td>\n",
       "      <td>0.0</td>\n",
       "      <td>0.0</td>\n",
       "      <td>0.0</td>\n",
       "      <td>0.0</td>\n",
       "    </tr>\n",
       "    <tr>\n",
       "      <th>2</th>\n",
       "      <td>-0.778367</td>\n",
       "      <td>0.778367</td>\n",
       "      <td>0.0</td>\n",
       "      <td>0.0</td>\n",
       "      <td>0.0</td>\n",
       "      <td>0.0</td>\n",
       "      <td>0.0</td>\n",
       "    </tr>\n",
       "    <tr>\n",
       "      <th>3</th>\n",
       "      <td>-0.778365</td>\n",
       "      <td>0.778365</td>\n",
       "      <td>0.0</td>\n",
       "      <td>0.0</td>\n",
       "      <td>0.0</td>\n",
       "      <td>0.0</td>\n",
       "      <td>0.0</td>\n",
       "    </tr>\n",
       "    <tr>\n",
       "      <th>4</th>\n",
       "      <td>-0.778367</td>\n",
       "      <td>0.778367</td>\n",
       "      <td>0.0</td>\n",
       "      <td>0.0</td>\n",
       "      <td>0.0</td>\n",
       "      <td>0.0</td>\n",
       "      <td>0.0</td>\n",
       "    </tr>\n",
       "    <tr>\n",
       "      <th>...</th>\n",
       "      <td>...</td>\n",
       "      <td>...</td>\n",
       "      <td>...</td>\n",
       "      <td>...</td>\n",
       "      <td>...</td>\n",
       "      <td>...</td>\n",
       "      <td>...</td>\n",
       "    </tr>\n",
       "    <tr>\n",
       "      <th>31775</th>\n",
       "      <td>0.232431</td>\n",
       "      <td>-0.232431</td>\n",
       "      <td>0.0</td>\n",
       "      <td>0.0</td>\n",
       "      <td>0.0</td>\n",
       "      <td>0.0</td>\n",
       "      <td>0.0</td>\n",
       "    </tr>\n",
       "    <tr>\n",
       "      <th>31776</th>\n",
       "      <td>0.232423</td>\n",
       "      <td>-0.232423</td>\n",
       "      <td>0.0</td>\n",
       "      <td>0.0</td>\n",
       "      <td>0.0</td>\n",
       "      <td>0.0</td>\n",
       "      <td>0.0</td>\n",
       "    </tr>\n",
       "    <tr>\n",
       "      <th>31777</th>\n",
       "      <td>0.232395</td>\n",
       "      <td>-0.232395</td>\n",
       "      <td>0.0</td>\n",
       "      <td>0.0</td>\n",
       "      <td>0.0</td>\n",
       "      <td>0.0</td>\n",
       "      <td>0.0</td>\n",
       "    </tr>\n",
       "    <tr>\n",
       "      <th>31778</th>\n",
       "      <td>0.174288</td>\n",
       "      <td>-0.174288</td>\n",
       "      <td>0.0</td>\n",
       "      <td>0.0</td>\n",
       "      <td>0.0</td>\n",
       "      <td>0.0</td>\n",
       "      <td>0.0</td>\n",
       "    </tr>\n",
       "    <tr>\n",
       "      <th>31779</th>\n",
       "      <td>0.000000</td>\n",
       "      <td>0.000000</td>\n",
       "      <td>0.0</td>\n",
       "      <td>0.0</td>\n",
       "      <td>0.0</td>\n",
       "      <td>0.0</td>\n",
       "      <td>0.0</td>\n",
       "    </tr>\n",
       "  </tbody>\n",
       "</table>\n",
       "<p>31780 rows × 7 columns</p>\n",
       "</div>"
      ],
      "text/plain": [
       "        var1_A3   var1_D3  var1_A2  var1_D2  var1_A1  var1_D1  var1_A0\n",
       "0     -0.778367  0.778367      0.0      0.0      0.0      0.0      0.0\n",
       "1     -0.778367  0.778367      0.0      0.0      0.0      0.0      0.0\n",
       "2     -0.778367  0.778367      0.0      0.0      0.0      0.0      0.0\n",
       "3     -0.778365  0.778365      0.0      0.0      0.0      0.0      0.0\n",
       "4     -0.778367  0.778367      0.0      0.0      0.0      0.0      0.0\n",
       "...         ...       ...      ...      ...      ...      ...      ...\n",
       "31775  0.232431 -0.232431      0.0      0.0      0.0      0.0      0.0\n",
       "31776  0.232423 -0.232423      0.0      0.0      0.0      0.0      0.0\n",
       "31777  0.232395 -0.232395      0.0      0.0      0.0      0.0      0.0\n",
       "31778  0.174288 -0.174288      0.0      0.0      0.0      0.0      0.0\n",
       "31779  0.000000  0.000000      0.0      0.0      0.0      0.0      0.0\n",
       "\n",
       "[31780 rows x 7 columns]"
      ]
     },
     "execution_count": 40,
     "metadata": {},
     "output_type": "execute_result"
    }
   ],
   "source": [
    "# Configure with an offset\n",
    "config_wavelets = WaveletConfig(level=3, overlap=0.875, offset=20)\n",
    "\n",
    "# Instantiate the extractor\n",
    "wavelet_extractor = ExtractWaveletFeatures(config_wavelets)\n",
    "\n",
    "wavelet_extractor.is_windowed = True\n",
    "\n",
    "# Apply it to our data\n",
    "df_offset = wavelet_extractor(wind(signal[col]))\n",
    "df_offset"
   ]
  },
  {
   "cell_type": "code",
   "execution_count": 41,
   "metadata": {},
   "outputs": [
    {
     "name": "stdout",
     "output_type": "stream",
     "text": [
      "--- No offset ---\n",
      "Start index: 0\n",
      "\n",
      "--- Using offset=20 ---\n",
      "Start index with offset: 0\n",
      "Extraction began 20 points later, so the first timestamp is delayed.\n"
     ]
    }
   ],
   "source": [
    "print(\"--- No offset ---\")\n",
    "print(\"Start index:\", df.index[0])\n",
    "\n",
    "print(\"\\n--- Using offset=20 ---\")\n",
    "print(\"Start index with offset:\", df_offset.index[0])\n",
    "print(\"Extraction began 20 points later, so the first timestamp is delayed.\")"
   ]
  },
  {
   "cell_type": "markdown",
   "metadata": {},
   "source": [
    "### 4.3 Exponentially Weighted Statistical Feature Extraction"
   ]
  },
  {
   "cell_type": "markdown",
   "metadata": {},
   "source": [
    "Provides a specialized version of the standard statistical features. The \"EW\" stands for **Exponentially Weighted**.\n",
    "\n",
    "In this method, not all data points in a window are treated equally. Instead, more recent data points are given progressively higher weight than older points. The rate at which the importance of older data decays is controlled by the decay parameter.\n",
    "\n",
    "This is particularly useful in scenarios where the most recent behavior within a window is more predictive of the outcome than the behavior at the beginning of the window. It creates features that are more sensitive to the latest changes in the signal.\n",
    "\n"
   ]
  },
  {
   "cell_type": "code",
   "execution_count": 42,
   "metadata": {},
   "outputs": [
    {
     "data": {
      "text/html": [
       "<div>\n",
       "<style scoped>\n",
       "    .dataframe tbody tr th:only-of-type {\n",
       "        vertical-align: middle;\n",
       "    }\n",
       "\n",
       "    .dataframe tbody tr th {\n",
       "        vertical-align: top;\n",
       "    }\n",
       "\n",
       "    .dataframe thead th {\n",
       "        text-align: right;\n",
       "    }\n",
       "</style>\n",
       "<table border=\"1\" class=\"dataframe\">\n",
       "  <thead>\n",
       "    <tr style=\"text-align: right;\">\n",
       "      <th></th>\n",
       "      <th>var1_ew_mean</th>\n",
       "      <th>var1_ew_std</th>\n",
       "      <th>var1_ew_skew</th>\n",
       "      <th>var1_ew_kurt</th>\n",
       "      <th>var1_ew_min</th>\n",
       "      <th>var1_ew_1qrt</th>\n",
       "      <th>var1_ew_med</th>\n",
       "      <th>var1_ew_3qrt</th>\n",
       "      <th>var1_ew_max</th>\n",
       "    </tr>\n",
       "  </thead>\n",
       "  <tbody>\n",
       "    <tr>\n",
       "      <th>0</th>\n",
       "      <td>-0.577757</td>\n",
       "      <td>0.377814</td>\n",
       "      <td>0.063964</td>\n",
       "      <td>2.120325</td>\n",
       "      <td>-1.384334</td>\n",
       "      <td>-0.291758</td>\n",
       "      <td>0.072435</td>\n",
       "      <td>0.436629</td>\n",
       "      <td>1.529205</td>\n",
       "    </tr>\n",
       "    <tr>\n",
       "      <th>1</th>\n",
       "      <td>-0.577755</td>\n",
       "      <td>0.377813</td>\n",
       "      <td>0.063962</td>\n",
       "      <td>2.120325</td>\n",
       "      <td>-1.384334</td>\n",
       "      <td>-0.291759</td>\n",
       "      <td>0.072436</td>\n",
       "      <td>0.436630</td>\n",
       "      <td>1.529205</td>\n",
       "    </tr>\n",
       "    <tr>\n",
       "      <th>2</th>\n",
       "      <td>-0.577753</td>\n",
       "      <td>0.377811</td>\n",
       "      <td>0.063963</td>\n",
       "      <td>2.120325</td>\n",
       "      <td>-1.384334</td>\n",
       "      <td>-0.291760</td>\n",
       "      <td>0.072435</td>\n",
       "      <td>0.436631</td>\n",
       "      <td>1.529205</td>\n",
       "    </tr>\n",
       "    <tr>\n",
       "      <th>3</th>\n",
       "      <td>-0.577750</td>\n",
       "      <td>0.377810</td>\n",
       "      <td>0.063965</td>\n",
       "      <td>2.120326</td>\n",
       "      <td>-1.384334</td>\n",
       "      <td>-0.291758</td>\n",
       "      <td>0.072435</td>\n",
       "      <td>0.436629</td>\n",
       "      <td>1.529206</td>\n",
       "    </tr>\n",
       "    <tr>\n",
       "      <th>4</th>\n",
       "      <td>-0.577750</td>\n",
       "      <td>0.377810</td>\n",
       "      <td>0.063964</td>\n",
       "      <td>2.120326</td>\n",
       "      <td>-1.384334</td>\n",
       "      <td>-0.291757</td>\n",
       "      <td>0.072436</td>\n",
       "      <td>0.436628</td>\n",
       "      <td>1.529205</td>\n",
       "    </tr>\n",
       "    <tr>\n",
       "      <th>...</th>\n",
       "      <td>...</td>\n",
       "      <td>...</td>\n",
       "      <td>...</td>\n",
       "      <td>...</td>\n",
       "      <td>...</td>\n",
       "      <td>...</td>\n",
       "      <td>...</td>\n",
       "      <td>...</td>\n",
       "      <td>...</td>\n",
       "    </tr>\n",
       "    <tr>\n",
       "      <th>31795</th>\n",
       "      <td>0.172526</td>\n",
       "      <td>0.112821</td>\n",
       "      <td>-0.063914</td>\n",
       "      <td>2.120259</td>\n",
       "      <td>-1.529178</td>\n",
       "      <td>-0.436658</td>\n",
       "      <td>-0.072453</td>\n",
       "      <td>0.291770</td>\n",
       "      <td>1.384340</td>\n",
       "    </tr>\n",
       "    <tr>\n",
       "      <th>31796</th>\n",
       "      <td>0.172520</td>\n",
       "      <td>0.112818</td>\n",
       "      <td>-0.063905</td>\n",
       "      <td>2.120256</td>\n",
       "      <td>-1.529174</td>\n",
       "      <td>-0.436682</td>\n",
       "      <td>-0.072444</td>\n",
       "      <td>0.291808</td>\n",
       "      <td>1.384343</td>\n",
       "    </tr>\n",
       "    <tr>\n",
       "      <th>31797</th>\n",
       "      <td>0.172499</td>\n",
       "      <td>0.112802</td>\n",
       "      <td>-0.063987</td>\n",
       "      <td>2.120280</td>\n",
       "      <td>-1.529205</td>\n",
       "      <td>-0.436675</td>\n",
       "      <td>-0.072419</td>\n",
       "      <td>0.291824</td>\n",
       "      <td>1.384318</td>\n",
       "    </tr>\n",
       "    <tr>\n",
       "      <th>31798</th>\n",
       "      <td>0.124709</td>\n",
       "      <td>0.138103</td>\n",
       "      <td>0.477989</td>\n",
       "      <td>1.580170</td>\n",
       "      <td>-0.903011</td>\n",
       "      <td>-0.903011</td>\n",
       "      <td>-0.308095</td>\n",
       "      <td>0.584278</td>\n",
       "      <td>1.476647</td>\n",
       "    </tr>\n",
       "    <tr>\n",
       "      <th>31799</th>\n",
       "      <td>0.000000</td>\n",
       "      <td>0.000000</td>\n",
       "      <td>0.000000</td>\n",
       "      <td>0.000000</td>\n",
       "      <td>0.000000</td>\n",
       "      <td>0.000000</td>\n",
       "      <td>0.000000</td>\n",
       "      <td>0.000000</td>\n",
       "      <td>0.000000</td>\n",
       "    </tr>\n",
       "  </tbody>\n",
       "</table>\n",
       "<p>31800 rows × 9 columns</p>\n",
       "</div>"
      ],
      "text/plain": [
       "       var1_ew_mean  var1_ew_std  var1_ew_skew  var1_ew_kurt  var1_ew_min  \\\n",
       "0         -0.577757     0.377814      0.063964      2.120325    -1.384334   \n",
       "1         -0.577755     0.377813      0.063962      2.120325    -1.384334   \n",
       "2         -0.577753     0.377811      0.063963      2.120325    -1.384334   \n",
       "3         -0.577750     0.377810      0.063965      2.120326    -1.384334   \n",
       "4         -0.577750     0.377810      0.063964      2.120326    -1.384334   \n",
       "...             ...          ...           ...           ...          ...   \n",
       "31795      0.172526     0.112821     -0.063914      2.120259    -1.529178   \n",
       "31796      0.172520     0.112818     -0.063905      2.120256    -1.529174   \n",
       "31797      0.172499     0.112802     -0.063987      2.120280    -1.529205   \n",
       "31798      0.124709     0.138103      0.477989      1.580170    -0.903011   \n",
       "31799      0.000000     0.000000      0.000000      0.000000     0.000000   \n",
       "\n",
       "       var1_ew_1qrt  var1_ew_med  var1_ew_3qrt  var1_ew_max  \n",
       "0         -0.291758     0.072435      0.436629     1.529205  \n",
       "1         -0.291759     0.072436      0.436630     1.529205  \n",
       "2         -0.291760     0.072435      0.436631     1.529205  \n",
       "3         -0.291758     0.072435      0.436629     1.529206  \n",
       "4         -0.291757     0.072436      0.436628     1.529205  \n",
       "...             ...          ...           ...          ...  \n",
       "31795     -0.436658    -0.072453      0.291770     1.384340  \n",
       "31796     -0.436682    -0.072444      0.291808     1.384343  \n",
       "31797     -0.436675    -0.072419      0.291824     1.384318  \n",
       "31798     -0.903011    -0.308095      0.584278     1.476647  \n",
       "31799      0.000000     0.000000      0.000000     0.000000  \n",
       "\n",
       "[31800 rows x 9 columns]"
      ]
     },
     "execution_count": 42,
     "metadata": {},
     "output_type": "execute_result"
    }
   ],
   "source": [
    "# Configuring the EW statistical extractor\n",
    "# decay: A value between 0 and 1. A higher value gives more weight to more recent points.\n",
    "# A decay of 0.9 means each data point has 90% of the weight of the next point in the window.\n",
    "config_ew = EWStatisticalConfig(\n",
    "    window_size=wind.config.window_size, overlap=0.5, decay=0.9\n",
    ")\n",
    "\n",
    "ew_extractor = ExtractEWStatisticalFeatures(config_ew)\n",
    "\n",
    "ew_extractor.is_windowed = True\n",
    "\n",
    "df = ew_extractor(wind(signal[col]))\n",
    "df"
   ]
  },
  {
   "cell_type": "markdown",
   "metadata": {},
   "source": [
    "----"
   ]
  },
  {
   "cell_type": "markdown",
   "metadata": {},
   "source": [
    "## 5.  📊 Exploratory Analysis\n"
   ]
  },
  {
   "cell_type": "markdown",
   "metadata": {},
   "source": [
    "In this section we will explore and visualize some signals from the dataset."
   ]
  },
  {
   "cell_type": "markdown",
   "metadata": {},
   "source": [
    "### 5.1. Visualization Tools Overview"
   ]
  },
  {
   "cell_type": "markdown",
   "metadata": {},
   "source": [
    "The 3WToolkit provides three ready-to-use visualization modules that make it easy to explore time series data:\n",
    "\n",
    "- **`DataVisualization`**: plots a single time series in a clear and straightforward way.  \n",
    "- **`PlotMultipleSeries`**: allows plotting several series together for comparison.  \n",
    "- **`PlotCorrelationHeatmap`**: generates a correlation heatmap, helping to identify relationships between multiple features.\n",
    "\n",
    "In the next sections we will show quick examples of how to use each of these modules.\n"
   ]
  },
  {
   "cell_type": "markdown",
   "metadata": {},
   "source": [
    "#### Selecting an event to plot"
   ]
  },
  {
   "cell_type": "code",
   "execution_count": 43,
   "metadata": {},
   "outputs": [],
   "source": [
    "sig = raw_dataset[123][\"signal\"].copy()"
   ]
  },
  {
   "cell_type": "markdown",
   "metadata": {},
   "source": [
    "#### Single Series Example\n",
    "\n",
    "With `DataVisualization.plot_series` you can quickly visualize one feature over time.  \n",
    "This is useful to understand the overall trend, variation, and gaps (missing values) in a single signal.\n"
   ]
  },
  {
   "cell_type": "code",
   "execution_count": 44,
   "metadata": {},
   "outputs": [
    {
     "name": "stdout",
     "output_type": "stream",
     "text": [
      "DataVisualization: Chart saved to '/home/pedro/Workspace/UFRJ/3W/3WToolkit/output/3w_plots/p-tpt.png'\n"
     ]
    },
    {
     "data": {
      "image/png": "[encoded data removed]",
      "text/plain": [
       "<Figure size 1200x600 with 1 Axes>"
      ]
     },
     "metadata": {},
     "output_type": "display_data"
    }
   ],
   "source": [
    "series = sig[\"P-TPT\"]\n",
    "fig, path = DataVisualization.plot_series(\n",
    "    series=series,\n",
    "    title=\"P-TPT\",\n",
    "    xlabel=\"Timestamp\",\n",
    "    ylabel=\"P-TPT\",\n",
    "    overlay_events=False,\n",
    "    color=\"green\",\n",
    ")\n",
    "\n",
    "plt.show()"
   ]
  },
  {
   "cell_type": "markdown",
   "metadata": {},
   "source": [
    "#### Multiple Series Example\n",
    "\n",
    "With `PlotMultipleSeries.plot_multiple_series` you can display several features on the same plot.  \n",
    "This is helpful when you want to compare signals directly and observe how they evolve together.\n"
   ]
  },
  {
   "cell_type": "code",
   "execution_count": 45,
   "metadata": {},
   "outputs": [
    {
     "name": "stdout",
     "output_type": "stream",
     "text": [
      "DataVisualization: Chart saved to '/home/pedro/Workspace/UFRJ/3W/3WToolkit/output/3w_plots/p-mon-ckp_p-tpt.png'\n"
     ]
    },
    {
     "data": {
      "image/png": "[encoded data removed]",
      "text/plain": [
       "<Figure size 1200x600 with 1 Axes>"
      ]
     },
     "metadata": {},
     "output_type": "display_data"
    }
   ],
   "source": [
    "features = [\"P-MON-CKP\", \"P-TPT\"]\n",
    "series_list = [sig[features[0]], sig[features[1]]]\n",
    "\n",
    "fig = DataVisualization.plot_multiple_series(\n",
    "    series_list=series_list,\n",
    "    labels=features,\n",
    "    title=\"'P-MON-CKP', 'P-TPT'\",\n",
    "    xlabel=\"Timestamp\",\n",
    "    ylabel=\"Value\",\n",
    ")\n",
    "\n",
    "plt.show()"
   ]
  },
  {
   "cell_type": "markdown",
   "metadata": {},
   "source": [
    "#### Correlation Heatmap Example\n",
    "\n",
    "Finally, `PlotCorrelationHeatmap.correlation_heatmap` creates a heatmap of pairwise correlations.  \n",
    "This is a quick way to check which features are strongly related to each other.\n"
   ]
  },
  {
   "cell_type": "code",
   "execution_count": 46,
   "metadata": {},
   "outputs": [
    {
     "name": "stdout",
     "output_type": "stream",
     "text": [
      "DataVisualization: Chart saved to '/home/pedro/Workspace/UFRJ/3W/3WToolkit/output/3w_plots/correlation_heatmap_of_selected_features.png'\n"
     ]
    },
    {
     "data": {
      "image/png": "[encoded data removed]",
      "text/plain": [
       "<Figure size 1000x800 with 2 Axes>"
      ]
     },
     "metadata": {},
     "output_type": "display_data"
    }
   ],
   "source": [
    "features = [\"P-ANULAR\", \"P-JUS-CKGL\", \"P-MON-CKP\", \"P-TPT\", \"T-JUS-CKP\", \"T-TPT\"]\n",
    "subset = sig[features]\n",
    "\n",
    "fig = DataVisualization.correlation_heatmap(\n",
    "    df_of_series=subset, title=\"Correlation Heatmap of Selected Features\"\n",
    ")\n",
    "\n",
    "plt.show()"
   ]
  },
  {
   "cell_type": "markdown",
   "metadata": {},
   "source": [
    "------"
   ]
  },
  {
   "cell_type": "markdown",
   "metadata": {},
   "source": [
    "## 6.  🤖 Model Training and Evaluation"
   ]
  },
  {
   "cell_type": "markdown",
   "metadata": {},
   "source": [
    "## Introduction to Model Training with 3WToolkit\n",
    "\n",
    "In this section, we introduce the process of training models using 3WToolkit, with the 3W dataset. \n",
    "\n",
    "The goal is to demonstrate how to transform raw time series into datasets suitable for supervised trainining, leveraging the toolkit's automation and reproducibility features.\n",
    "\n",
    "The pipeline includes the following main steps:\n",
    "- Loading the 3W dataset.\n",
    "- Segmenting the signals into windows, allowing each window to be treated as an independent sample for the model.\n",
    "- Training the model, using the windows as inputs and the corresponding labels as target.\n",
    "- Evaluating the model performance, by computing quantitative metrics (e.g., Accuracy, Recall, F1-score, etc.) and generating visualizations of predictions versus ground truth."
   ]
  },
  {
   "cell_type": "markdown",
   "metadata": {},
   "source": [
    "First we import the relevant modules and initialize a ParquetDataset instance, defining the target classes 0, 1 and 2. "
   ]
  },
  {
   "cell_type": "code",
   "execution_count": 47,
   "metadata": {},
   "outputs": [],
   "source": [
    "import numpy as np\n",
    "import pandas as pd\n",
    "import matplotlib.pyplot as plt\n",
    "import torch\n",
    "\n",
    "from tqdm import tqdm\n",
    "from pathlib import Path\n",
    "\n",
    "from ThreeWToolkit.preprocessing import Windowing\n",
    "from ThreeWToolkit.trainer.trainer import ModelTrainer, TrainerConfig\n",
    "from ThreeWToolkit.models.mlp import MLPConfig\n",
    "from ThreeWToolkit.dataset import ParquetDataset\n",
    "from ThreeWToolkit.core.base_dataset import ParquetDatasetConfig\n",
    "from ThreeWToolkit.core.base_assessment import ModelAssessmentConfig\n",
    "from ThreeWToolkit.assessment.model_assess import ModelAssessment\n",
    "from ThreeWToolkit.core.enums import TaskType"
   ]
  },
  {
   "cell_type": "markdown",
   "metadata": {},
   "source": [
    "**I. Create a ParquetDataset that loads cleaned data with target classes 0, 1, and 2**"
   ]
  },
  {
   "cell_type": "code",
   "execution_count": 48,
   "metadata": {},
   "outputs": [
    {
     "name": "stdout",
     "output_type": "stream",
     "text": [
      "[ParquetDataset] Dataset found at data/3w_dataset\n",
      "[ParquetDataset] Validating dataset integrity...\n",
      "[ParquetDataset] Dataset integrity check passed!\n"
     ]
    },
    {
     "data": {
      "text/plain": [
       "{'signal':                      ABER-CKGL  ABER-CKP  ESTADO-DHSV  ESTADO-M1  ESTADO-M2  \\\n",
       " timestamp                                                                     \n",
       " 2017-05-25 13:00:00        0.0       0.0     0.867921   0.414652  -0.681653   \n",
       " 2017-05-25 13:00:01        0.0       0.0     0.867921   0.414652  -0.681653   \n",
       " 2017-05-25 13:00:02        0.0       0.0     0.867921   0.414652  -0.681653   \n",
       " 2017-05-25 13:00:03        0.0       0.0     0.867921   0.414652  -0.681653   \n",
       " 2017-05-25 13:00:04        0.0       0.0     0.867921   0.414652  -0.681653   \n",
       " ...                        ...       ...          ...        ...        ...   \n",
       " 2017-05-25 18:59:04        0.0       0.0     0.867921   0.414652  -0.681653   \n",
       " 2017-05-25 18:59:05        0.0       0.0     0.867921   0.414652  -0.681653   \n",
       " 2017-05-25 18:59:06        0.0       0.0     0.867921   0.414652  -0.681653   \n",
       " 2017-05-25 18:59:07        0.0       0.0     0.867921   0.414652  -0.681653   \n",
       " 2017-05-25 18:59:08        0.0       0.0     0.867921   0.414652  -0.681653   \n",
       " \n",
       "                      ESTADO-PXO  ESTADO-SDV-GL  ESTADO-SDV-P  ESTADO-W1  \\\n",
       " timestamp                                                                 \n",
       " 2017-05-25 13:00:00   -0.094347      -1.094009      0.312558   0.650525   \n",
       " 2017-05-25 13:00:01   -0.094347      -1.094009      0.312558   0.650525   \n",
       " 2017-05-25 13:00:02   -0.094347      -1.094009      0.312558   0.650525   \n",
       " 2017-05-25 13:00:03   -0.094347      -1.094009      0.312558   0.650525   \n",
       " 2017-05-25 13:00:04   -0.094347      -1.094009      0.312558   0.650525   \n",
       " ...                         ...            ...           ...        ...   \n",
       " 2017-05-25 18:59:04   -0.094347      -1.094009      0.312558   0.650525   \n",
       " 2017-05-25 18:59:05   -0.094347      -1.094009      0.312558   0.650525   \n",
       " 2017-05-25 18:59:06   -0.094347      -1.094009      0.312558   0.650525   \n",
       " 2017-05-25 18:59:07   -0.094347      -1.094009      0.312558   0.650525   \n",
       " 2017-05-25 18:59:08   -0.094347      -1.094009      0.312558   0.650525   \n",
       " \n",
       "                      ESTADO-W2  ...  P-JUS-CKGL  P-JUS-CKP  P-MON-CKP  P-PDG  \\\n",
       " timestamp                       ...                                            \n",
       " 2017-05-25 13:00:00  -0.563169  ...   -1.080958        0.0   0.837468    0.0   \n",
       " 2017-05-25 13:00:01  -0.563169  ...   -1.080958        0.0   0.837528    0.0   \n",
       " 2017-05-25 13:00:02  -0.563169  ...   -1.080958        0.0   0.837588    0.0   \n",
       " 2017-05-25 13:00:03  -0.563169  ...   -1.080958        0.0   0.837647    0.0   \n",
       " 2017-05-25 13:00:04  -0.563169  ...   -1.080958        0.0   0.837707    0.0   \n",
       " ...                        ...  ...         ...        ...        ...    ...   \n",
       " 2017-05-25 18:59:04  -0.563169  ...   -1.081649        0.0   0.867735    0.0   \n",
       " 2017-05-25 18:59:05  -0.563169  ...   -1.081649        0.0   0.867843    0.0   \n",
       " 2017-05-25 18:59:06  -0.563169  ...   -1.081649        0.0   0.867952    0.0   \n",
       " 2017-05-25 18:59:07  -0.563169  ...   -1.081649        0.0   0.868060    0.0   \n",
       " 2017-05-25 18:59:08  -0.563169  ...   -1.081649        0.0   0.868168    0.0   \n",
       " \n",
       "                         P-TPT       QGL  T-JUS-CKP  T-MON-CKP  T-PDG     T-TPT  \n",
       " timestamp                                                                       \n",
       " 2017-05-25 13:00:00  0.005239 -0.846093  -0.020130        0.0    0.0  0.651517  \n",
       " 2017-05-25 13:00:01  0.005248 -0.846093  -0.020070        0.0    0.0  0.651521  \n",
       " 2017-05-25 13:00:02  0.005258 -0.846093  -0.020010        0.0    0.0  0.651527  \n",
       " 2017-05-25 13:00:03  0.005267 -0.846093  -0.019951        0.0    0.0  0.651530  \n",
       " 2017-05-25 13:00:04  0.005277 -0.846093  -0.019890        0.0    0.0  0.651534  \n",
       " ...                       ...       ...        ...        ...    ...       ...  \n",
       " 2017-05-25 18:59:04  0.042529 -0.846093   0.013888        0.0    0.0  0.651426  \n",
       " 2017-05-25 18:59:05  0.042585 -0.846093   0.013861        0.0    0.0  0.651426  \n",
       " 2017-05-25 18:59:06  0.042641 -0.846093   0.013835        0.0    0.0  0.651426  \n",
       " 2017-05-25 18:59:07  0.042699 -0.846093   0.013808        0.0    0.0  0.651426  \n",
       " 2017-05-25 18:59:08  0.042755 -0.846093   0.013782        0.0    0.0  0.651426  \n",
       " \n",
       " [21549 rows x 22 columns],\n",
       " 'label':                      class\n",
       " timestamp                 \n",
       " 2017-05-25 13:00:00      0\n",
       " 2017-05-25 13:00:01      0\n",
       " 2017-05-25 13:00:02      0\n",
       " 2017-05-25 13:00:03      0\n",
       " 2017-05-25 13:00:04      0\n",
       " ...                    ...\n",
       " 2017-05-25 18:59:04      0\n",
       " 2017-05-25 18:59:05      0\n",
       " 2017-05-25 18:59:06      0\n",
       " 2017-05-25 18:59:07      0\n",
       " 2017-05-25 18:59:08      0\n",
       " \n",
       " [21549 rows x 1 columns],\n",
       " 'file_name': PosixPath('0/WELL-00001_20170525130000.parquet')}"
      ]
     },
     "execution_count": 48,
     "metadata": {},
     "output_type": "execute_result"
    }
   ],
   "source": [
    "ds_config = ParquetDatasetConfig(\n",
    "    path=dataset_path, clean_data=True, download=False, target_class=[0, 1, 2]\n",
    ")\n",
    "ds = ParquetDataset(ds_config)\n",
    "ds[19]"
   ]
  },
  {
   "cell_type": "markdown",
   "metadata": {},
   "source": [
    "**II. Instantiating configuration classes for the MLP model, Training parameters, and Evaluation parameters.**"
   ]
  },
  {
   "cell_type": "markdown",
   "metadata": {},
   "source": [
    "With the ParquetDataset instance defined, we can set the parameters for the MLP model using the MLPConfig object. These parameters will be combined with the TrainerConfig and managed through the ModelTrainer, which encapsulates the training workflow.\n",
    "\n",
    "The defined worflow control most relevant parameters that will be used for training of a model. \n",
    "\n",
    "Finally, the ModelTrainer is instantiated with the training configuration, while the ModelAssessment object prepares the evaluation pipeline. The model architecture can be visualized by printing the `trainer.model`."
   ]
  },
  {
   "cell_type": "code",
   "execution_count": 49,
   "metadata": {},
   "outputs": [
    {
     "name": "stdout",
     "output_type": "stream",
     "text": [
      "MLP(\n",
      "  (activation_func): ReLU()\n",
      "  (model): Sequential(\n",
      "    (0): Linear(in_features=100, out_features=32, bias=True)\n",
      "    (1): ReLU()\n",
      "    (2): Linear(in_features=32, out_features=16, bias=True)\n",
      "    (3): ReLU()\n",
      "    (4): Linear(in_features=16, out_features=3, bias=True)\n",
      "  )\n",
      ")\n"
     ]
    }
   ],
   "source": [
    "window_size = 100\n",
    "mlp_config = MLPConfig(\n",
    "    input_size=window_size,\n",
    "    hidden_sizes=(32, 16),\n",
    "    output_size=3,\n",
    "    random_seed=11,\n",
    "    activation_function=\"relu\",\n",
    "    regularization=None,\n",
    ")\n",
    "\n",
    "trainer_config = TrainerConfig(\n",
    "    optimizer=\"adam\",\n",
    "    criterion=\"cross_entropy\",\n",
    "    batch_size=32,\n",
    "    epochs=20,\n",
    "    seed=11,\n",
    "    config_model=mlp_config,\n",
    "    learning_rate=0.001,\n",
    "    device=\"cuda\" if torch.cuda.is_available() else \"cpu\",\n",
    "    cross_validation=False,\n",
    "    shuffle_train=True,\n",
    ")\n",
    "\n",
    "assessment_config = ModelAssessmentConfig(\n",
    "    metrics=[\"balanced_accuracy\", \"precision\", \"recall\", \"f1\"],\n",
    "    task_type=TaskType.CLASSIFICATION,\n",
    "    class_names=[\"Class_A\", \"Class_B\", \"Class_C\"],\n",
    "    export_results=True,\n",
    "    generate_report=False,\n",
    ")\n",
    "\n",
    "trainer = ModelTrainer(trainer_config)\n",
    "assessor = ModelAssessment(assessment_config)\n",
    "print(trainer.model)\n"
   ]
  },
  {
   "cell_type": "markdown",
   "metadata": {},
   "source": [
    "**III. Preprocessing the data**"
   ]
  },
  {
   "cell_type": "markdown",
   "metadata": {},
   "source": [
    "The next step is to iterate over a dataset of time series events, applying a windowing function to a selected signal column, in this case \"T-TPT\".\n",
    "\n",
    " All windowed segments from all events are then concatenated into a single DataFrame (dfs_final). This prepares the data for supervised training, where each row represents a windowed segment with its corresponding class label."
   ]
  },
  {
   "cell_type": "code",
   "execution_count": 50,
   "metadata": {},
   "outputs": [
    {
     "name": "stderr",
     "output_type": "stream",
     "text": [
      "100%|██████████| 760/760 [00:22<00:00, 33.41it/s]\n"
     ]
    }
   ],
   "source": [
    "# Select target columns and prepare training data with windowing\n",
    "selected_col = \"T-TPT\"\n",
    "x_train = []\n",
    "y_train = []\n",
    "dfs = []\n",
    "\n",
    "wind = Windowing(WindowingConfig(window=\"hann\",\n",
    "        window_size=window_size,\n",
    "        overlap=0.5,\n",
    "        pad_last_window=True))\n",
    "\n",
    "for event in tqdm(ds):\n",
    "    windowed_signal = wind(\n",
    "        event[\"signal\"][selected_col]\n",
    "    )\n",
    "    windowed_signal.drop(columns=[\"win\"], inplace=True)\n",
    "    windowed_signal[\"label\"] = np.unique(event[\"label\"][\"class\"])[0]\n",
    "    dfs.append(windowed_signal)\n",
    "dfs_final = pd.concat(dfs, ignore_index=True, axis=0)"
   ]
  },
  {
   "cell_type": "markdown",
   "metadata": {},
   "source": [
    "**IV. Training**"
   ]
  },
  {
   "cell_type": "markdown",
   "metadata": {},
   "source": [
    "Finally we can call the train function using the trainer object. "
   ]
  },
  {
   "cell_type": "code",
   "execution_count": 51,
   "metadata": {},
   "outputs": [
    {
     "data": {
      "application/vnd.jupyter.widget-view+json": {
       "model_id": "06fc74a49bcc4438961ecc396d8f7820",
       "version_major": 2,
       "version_minor": 0
      },
      "text/plain": [
       "[Pipeline] Training:   0%|          | 0/20 [00:00<?, ?epoch/s]"
      ]
     },
     "metadata": {},
     "output_type": "display_data"
    }
   ],
   "source": [
    "# Train the MLP model using the ModelTrainer interface\n",
    "trainer.train(x_train=dfs_final.iloc[:, :-1], y_train=dfs_final[\"label\"].astype(int))"
   ]
  },
  {
   "cell_type": "markdown",
   "metadata": {},
   "source": [
    "**V. Assessment**"
   ]
  },
  {
   "cell_type": "markdown",
   "metadata": {},
   "source": [
    "The trainer class allows direct evaluation of the trained model using the `assess` method, which returns a dictionary containing performance metrics and evaluation parameters."
   ]
  },
  {
   "cell_type": "code",
   "execution_count": 52,
   "metadata": {},
   "outputs": [
    {
     "name": "stdout",
     "output_type": "stream",
     "text": [
      "Results exported to /home/pedro/Workspace/UFRJ/3W/3WToolkit/output\n",
      "Model Assessment Summary\n",
      "========================\n",
      "Model: MLP\n",
      "Task Type: classification\n",
      "Timestamp: 2025-10-08T18:04:45.175926\n",
      "\n",
      "Metrics:\n",
      "  balanced_accuracy: 0.9440\n",
      "  precision: 0.9681\n",
      "  recall: 0.9672\n",
      "  f1: 0.9670\n"
     ]
    },
    {
     "data": {
      "text/plain": [
       "{'model_name': 'MLP',\n",
       " 'task_type': <TaskType.CLASSIFICATION: 'classification'>,\n",
       " 'predictions': array([0, 0, 0, ..., 1, 1, 1]),\n",
       " 'true_values': array([0, 0, 0, ..., 1, 1, 1]),\n",
       " 'X_test': array([[ 0.        ,  0.00066905,  0.00267353, ...,  0.00600304,\n",
       "          0.0026724 ,  0.00066876],\n",
       "        [ 0.        ,  0.0006689 ,  0.00267294, ...,  0.00600173,\n",
       "          0.00267182,  0.00066861],\n",
       "        [ 0.        ,  0.00066875,  0.00267236, ...,  0.00600043,\n",
       "          0.00267124,  0.00066847],\n",
       "        ...,\n",
       "        [-0.        , -0.00076684, -0.00306438, ..., -0.00690824,\n",
       "         -0.00307545, -0.00076963],\n",
       "        [-0.        , -0.00076819, -0.00306989, ..., -0.00692049,\n",
       "         -0.00308092,  0.        ],\n",
       "        [-0.        , -0.00076966, -0.00307564, ...,  0.        ,\n",
       "          0.        ,  0.        ]]),\n",
       " 'metrics': {'balanced_accuracy': 0.9439530769917317,\n",
       "  'precision': 0.9681383555569334,\n",
       "  'recall': 0.9671583900298849,\n",
       "  'f1': 0.966958783649292},\n",
       " 'config': {'metrics': ['balanced_accuracy', 'precision', 'recall', 'f1'],\n",
       "  'output_dir': PosixPath('/home/pedro/Workspace/UFRJ/3W/3WToolkit/output'),\n",
       "  'export_results': True,\n",
       "  'generate_report': False,\n",
       "  'task_type': <TaskType.CLASSIFICATION: 'classification'>,\n",
       "  'batch_size': 64,\n",
       "  'device': 'cuda',\n",
       "  'report_title': None,\n",
       "  'report_author': '3W Toolkit Report'},\n",
       " 'timestamp': '2025-10-08T18:04:45.175926'}"
      ]
     },
     "execution_count": 52,
     "metadata": {},
     "output_type": "execute_result"
    }
   ],
   "source": [
    "trainer.assess(\n",
    "    dfs_final.iloc[:, :-1], dfs_final[\"label\"].astype(int), assessment_config\n",
    ")"
   ]
  },
  {
   "cell_type": "markdown",
   "metadata": {},
   "source": [
    "**Another option, and the most recommended one, is to use the `ModelAssessment` class to perform the evaluation of the results.**"
   ]
  },
  {
   "cell_type": "code",
   "execution_count": 53,
   "metadata": {},
   "outputs": [
    {
     "name": "stdout",
     "output_type": "stream",
     "text": [
      "Results exported to /home/pedro/Workspace/UFRJ/3W/3WToolkit/output\n",
      "Model Assessment Summary\n",
      "========================\n",
      "Model: MLP\n",
      "Task Type: classification\n",
      "Timestamp: 2025-10-08T18:04:50.093638\n",
      "\n",
      "Metrics:\n",
      "  balanced_accuracy: 0.9440\n",
      "  precision: 0.9681\n",
      "  recall: 0.9672\n",
      "  f1: 0.9670\n"
     ]
    },
    {
     "data": {
      "text/plain": [
       "{'model_name': 'MLP',\n",
       " 'task_type': <TaskType.CLASSIFICATION: 'classification'>,\n",
       " 'predictions': array([0, 0, 0, ..., 1, 1, 1]),\n",
       " 'true_values': array([0, 0, 0, ..., 1, 1, 1]),\n",
       " 'X_test': array([[ 0.        ,  0.00066905,  0.00267353, ...,  0.00600304,\n",
       "          0.0026724 ,  0.00066876],\n",
       "        [ 0.        ,  0.0006689 ,  0.00267294, ...,  0.00600173,\n",
       "          0.00267182,  0.00066861],\n",
       "        [ 0.        ,  0.00066875,  0.00267236, ...,  0.00600043,\n",
       "          0.00267124,  0.00066847],\n",
       "        ...,\n",
       "        [-0.        , -0.00076684, -0.00306438, ..., -0.00690824,\n",
       "         -0.00307545, -0.00076963],\n",
       "        [-0.        , -0.00076819, -0.00306989, ..., -0.00692049,\n",
       "         -0.00308092,  0.        ],\n",
       "        [-0.        , -0.00076966, -0.00307564, ...,  0.        ,\n",
       "          0.        ,  0.        ]]),\n",
       " 'metrics': {'balanced_accuracy': 0.9439530769917317,\n",
       "  'precision': 0.9681383555569334,\n",
       "  'recall': 0.9671583900298849,\n",
       "  'f1': 0.966958783649292},\n",
       " 'config': {'metrics': ['balanced_accuracy', 'precision', 'recall', 'f1'],\n",
       "  'output_dir': PosixPath('/home/pedro/Workspace/UFRJ/3W/3WToolkit/output'),\n",
       "  'export_results': True,\n",
       "  'generate_report': False,\n",
       "  'task_type': <TaskType.CLASSIFICATION: 'classification'>,\n",
       "  'batch_size': 64,\n",
       "  'device': 'cuda',\n",
       "  'report_title': None,\n",
       "  'report_author': '3W Toolkit Report'},\n",
       " 'timestamp': '2025-10-08T18:04:50.093638'}"
      ]
     },
     "execution_count": 53,
     "metadata": {},
     "output_type": "execute_result"
    }
   ],
   "source": [
    "results = assessor.evaluate(trainer.model, dfs_final.iloc[:, :-1], dfs_final[\"label\"].astype(int))\n",
    "results"
   ]
  },
  {
   "cell_type": "markdown",
   "metadata": {},
   "source": [
    "Retrieving aggregated metrics"
   ]
  },
  {
   "cell_type": "code",
   "execution_count": 54,
   "metadata": {},
   "outputs": [
    {
     "name": "stdout",
     "output_type": "stream",
     "text": [
      "Model Assessment Summary\n",
      "========================\n",
      "Model: MLP\n",
      "Task Type: classification\n",
      "Timestamp: 2025-10-08T18:04:50.093638\n",
      "\n",
      "Metrics:\n",
      "  balanced_accuracy: 0.9440\n",
      "  precision: 0.9681\n",
      "  recall: 0.9672\n",
      "  f1: 0.9670\n"
     ]
    }
   ],
   "source": [
    "print(assessor.summary())"
   ]
  },
  {
   "cell_type": "markdown",
   "metadata": {},
   "source": [
    "The trainer object also collects a history of validation and training loss that can be visualized after the training is completed. "
   ]
  },
  {
   "cell_type": "code",
   "execution_count": 55,
   "metadata": {},
   "outputs": [
    {
     "data": {
      "image/png": "[encoded data removed]",
      "text/plain": [
       "<Figure size 1000x500 with 1 Axes>"
      ]
     },
     "metadata": {},
     "output_type": "display_data"
    }
   ],
   "source": [
    "# Visualize training history\n",
    "plt.figure(figsize=(10, 5))\n",
    "plt.plot(trainer.history[0][\"val_loss\"], label=\"Val Loss\")\n",
    "plt.plot(trainer.history[0][\"train_loss\"], label=\"Train Loss\")\n",
    "\n",
    "plt.title(\"Training and Validation Loss\")\n",
    "plt.xlabel(\"Epoch\")\n",
    "plt.ylabel(\"Loss\")\n",
    "plt.legend()\n",
    "\n",
    "plt.show()"
   ]
  },
  {
   "cell_type": "markdown",
   "metadata": {},
   "source": [
    "## 7. 🔗 Pipeline Integration"
   ]
  },
  {
   "cell_type": "markdown",
   "metadata": {},
   "source": [
    "The ``Pipeline`` class provides a powerful way to chain together all the steps of your machine learning workflow in a single, cohesive structure. This approach ensures reproducibility, reduces boilerplate code, and makes it easier to experiment with different configurations.\n",
    "\n",
    "The Pipeline in 3WToolkit v2.0.0 follows a sequential execution model where each step processes the data and passes it to the next stage. The pipeline automatically handles data transformations between steps, ensuring compatibility and proper data flow."
   ]
  },
  {
   "cell_type": "markdown",
   "metadata": {},
   "source": [
    "________"
   ]
  },
  {
   "cell_type": "markdown",
   "metadata": {},
   "source": [
    "**Pipeline Execution Flow:**"
   ]
  },
  {
   "cell_type": "markdown",
   "metadata": {},
   "source": [
    "```markdown\n",
    "Dataset Loading → Preprocessing → Feature Extraction → Model Training → Model Assessment\n",
    "```"
   ]
  },
  {
   "cell_type": "markdown",
   "metadata": {},
   "source": [
    "Each component in the pipeline is configured using its respective configuration class, which encapsulates all the parameters needed for that specific step."
   ]
  },
  {
   "cell_type": "markdown",
   "metadata": {},
   "source": [
    "______"
   ]
  },
  {
   "cell_type": "markdown",
   "metadata": {},
   "source": [
    "### 7.1. Creating a Basic Pipeline"
   ]
  },
  {
   "cell_type": "markdown",
   "metadata": {},
   "source": [
    "To create a pipeline, you'll need to import the necessary configuration classes and the `Pipeline` class itself:"
   ]
  },
  {
   "cell_type": "code",
   "execution_count": 56,
   "metadata": {},
   "outputs": [],
   "source": [
    "import matplotlib.pyplot as plt\n",
    "\n",
    "from ThreeWToolkit.pipeline import Pipeline\n",
    "from ThreeWToolkit.core.base_dataset import ParquetDatasetConfig\n",
    "from ThreeWToolkit.core.base_preprocessing import (\n",
    "    ImputeMissingConfig,\n",
    "    NormalizeConfig,\n",
    "    WindowingConfig,\n",
    ")\n",
    "from ThreeWToolkit.core.base_feature_extractor import (\n",
    "    StatisticalConfig,\n",
    "    WaveletConfig,\n",
    "    EWStatisticalConfig,\n",
    ")\n",
    "from ThreeWToolkit.core.base_assessment import ModelAssessmentConfig\n",
    "from ThreeWToolkit.core.enums import TaskType\n",
    "from ThreeWToolkit.models.mlp import MLPConfig\n",
    "from ThreeWToolkit.trainer.trainer import TrainerConfig"
   ]
  },
  {
   "cell_type": "markdown",
   "metadata": {},
   "source": [
    "Now let's create a simple pipeline:"
   ]
  },
  {
   "cell_type": "code",
   "execution_count": null,
   "metadata": {},
   "outputs": [
    {
     "name": "stdout",
     "output_type": "stream",
     "text": [
      "[ParquetDataset] Dataset found at ./data/raw\n",
      "[ParquetDataset] Validating dataset integrity...\n",
      "[ParquetDataset] Dataset integrity check passed!\n",
      ">> ['T-JUS-CKP', 'T-MON-CKP']\n"
     ]
    },
    {
     "data": {
      "application/vnd.jupyter.widget-view+json": {
       "model_id": "cc2ee5519d4948b5b86197d23924996f",
       "version_major": 2,
       "version_minor": 0
      },
      "text/plain": [
       "[Pipeline] Processing batches:   0%|          | 0/722 [00:00<?, ?file/s]"
      ]
     },
     "metadata": {},
     "output_type": "display_data"
    },
    {
     "data": {
      "application/vnd.jupyter.widget-view+json": {
       "model_id": "bd7d345314fb406da5a3477de94487f0",
       "version_major": 2,
       "version_minor": 0
      },
      "text/plain": [
       "[Pipeline] Preprocessing steps:   0%|          | 0/3 [00:00<?, ?step/s]"
      ]
     },
     "metadata": {},
     "output_type": "display_data"
    },
    {
     "data": {
      "application/vnd.jupyter.widget-view+json": {
       "model_id": "d7732fefed8246e6946c7e1fa4cae599",
       "version_major": 2,
       "version_minor": 0
      },
      "text/plain": [
       "[Pipeline] Preprocessing steps:   0%|          | 0/3 [00:00<?, ?step/s]"
      ]
     },
     "metadata": {},
     "output_type": "display_data"
    },
    {
     "data": {
      "application/vnd.jupyter.widget-view+json": {
       "model_id": "5b1def7b786e49ef8d50ce27848fcaaa",
       "version_major": 2,
       "version_minor": 0
      },
      "text/plain": [
       "[Pipeline] Preprocessing steps:   0%|          | 0/3 [00:00<?, ?step/s]"
      ]
     },
     "metadata": {},
     "output_type": "display_data"
    },
    {
     "data": {
      "application/vnd.jupyter.widget-view+json": {
       "model_id": "6232e6f469d846d9b07c2cb595ae3202",
       "version_major": 2,
       "version_minor": 0
      },
      "text/plain": [
       "[Pipeline] Preprocessing steps:   0%|          | 0/3 [00:00<?, ?step/s]"
      ]
     },
     "metadata": {},
     "output_type": "display_data"
    },
    {
     "data": {
      "application/vnd.jupyter.widget-view+json": {
       "model_id": "a7c76d2e47534b9f9f78010e93c44da6",
       "version_major": 2,
       "version_minor": 0
      },
      "text/plain": [
       "[Pipeline] Preprocessing steps:   0%|          | 0/3 [00:00<?, ?step/s]"
      ]
     },
     "metadata": {},
     "output_type": "display_data"
    },
    {
     "data": {
      "application/vnd.jupyter.widget-view+json": {
       "model_id": "3c956bd119834e4eb770427d458f69b9",
       "version_major": 2,
       "version_minor": 0
      },
      "text/plain": [
       "[Pipeline] Preprocessing steps:   0%|          | 0/3 [00:00<?, ?step/s]"
      ]
     },
     "metadata": {},
     "output_type": "display_data"
    },
    {
     "data": {
      "application/vnd.jupyter.widget-view+json": {
       "model_id": "617e9451f86d45669315eee631131a12",
       "version_major": 2,
       "version_minor": 0
      },
      "text/plain": [
       "[Pipeline] Preprocessing steps:   0%|          | 0/3 [00:00<?, ?step/s]"
      ]
     },
     "metadata": {},
     "output_type": "display_data"
    },
    {
     "data": {
      "application/vnd.jupyter.widget-view+json": {
       "model_id": "e29f45e39ebf4dad8a83171f318c25b3",
       "version_major": 2,
       "version_minor": 0
      },
      "text/plain": [
       "[Pipeline] Preprocessing steps:   0%|          | 0/3 [00:00<?, ?step/s]"
      ]
     },
     "metadata": {},
     "output_type": "display_data"
    },
    {
     "data": {
      "application/vnd.jupyter.widget-view+json": {
       "model_id": "235d853aef1d44108fe7d07fa46f7789",
       "version_major": 2,
       "version_minor": 0
      },
      "text/plain": [
       "[Pipeline] Preprocessing steps:   0%|          | 0/3 [00:00<?, ?step/s]"
      ]
     },
     "metadata": {},
     "output_type": "display_data"
    },
    {
     "data": {
      "application/vnd.jupyter.widget-view+json": {
       "model_id": "fe147c6c023e45b9b58530059ab8ce8b",
       "version_major": 2,
       "version_minor": 0
      },
      "text/plain": [
       "[Pipeline] Preprocessing steps:   0%|          | 0/3 [00:00<?, ?step/s]"
      ]
     },
     "metadata": {},
     "output_type": "display_data"
    },
    {
     "data": {
      "application/vnd.jupyter.widget-view+json": {
       "model_id": "86b675c3c9f446589ff55761d49100f1",
       "version_major": 2,
       "version_minor": 0
      },
      "text/plain": [
       "[Pipeline] Preprocessing steps:   0%|          | 0/3 [00:00<?, ?step/s]"
      ]
     },
     "metadata": {},
     "output_type": "display_data"
    },
    {
     "data": {
      "application/vnd.jupyter.widget-view+json": {
       "model_id": "927df99626d349c7bddd5f8705e23cd6",
       "version_major": 2,
       "version_minor": 0
      },
      "text/plain": [
       "[Pipeline] Preprocessing steps:   0%|          | 0/3 [00:00<?, ?step/s]"
      ]
     },
     "metadata": {},
     "output_type": "display_data"
    },
    {
     "data": {
      "application/vnd.jupyter.widget-view+json": {
       "model_id": "e28e9bf44c29432d8c26826ef1e65dbf",
       "version_major": 2,
       "version_minor": 0
      },
      "text/plain": [
       "[Pipeline] Preprocessing steps:   0%|          | 0/3 [00:00<?, ?step/s]"
      ]
     },
     "metadata": {},
     "output_type": "display_data"
    },
    {
     "data": {
      "application/vnd.jupyter.widget-view+json": {
       "model_id": "af2dd32e98024f86b4f2ff4fafee9979",
       "version_major": 2,
       "version_minor": 0
      },
      "text/plain": [
       "[Pipeline] Preprocessing steps:   0%|          | 0/3 [00:00<?, ?step/s]"
      ]
     },
     "metadata": {},
     "output_type": "display_data"
    },
    {
     "data": {
      "application/vnd.jupyter.widget-view+json": {
       "model_id": "88eef9a21d184cf790cc5f178b820059",
       "version_major": 2,
       "version_minor": 0
      },
      "text/plain": [
       "[Pipeline] Preprocessing steps:   0%|          | 0/3 [00:00<?, ?step/s]"
      ]
     },
     "metadata": {},
     "output_type": "display_data"
    },
    {
     "data": {
      "application/vnd.jupyter.widget-view+json": {
       "model_id": "e95c056909b54cc58fa9c12dfd96c831",
       "version_major": 2,
       "version_minor": 0
      },
      "text/plain": [
       "[Pipeline] Preprocessing steps:   0%|          | 0/3 [00:00<?, ?step/s]"
      ]
     },
     "metadata": {},
     "output_type": "display_data"
    },
    {
     "data": {
      "application/vnd.jupyter.widget-view+json": {
       "model_id": "bbb61b73c96f4a8486eda1d03ac58e6f",
       "version_major": 2,
       "version_minor": 0
      },
      "text/plain": [
       "[Pipeline] Preprocessing steps:   0%|          | 0/3 [00:00<?, ?step/s]"
      ]
     },
     "metadata": {},
     "output_type": "display_data"
    },
    {
     "data": {
      "application/vnd.jupyter.widget-view+json": {
       "model_id": "b6d4eb5d56f2427ca4fc251fd94ed6a7",
       "version_major": 2,
       "version_minor": 0
      },
      "text/plain": [
       "[Pipeline] Preprocessing steps:   0%|          | 0/3 [00:00<?, ?step/s]"
      ]
     },
     "metadata": {},
     "output_type": "display_data"
    },
    {
     "data": {
      "application/vnd.jupyter.widget-view+json": {
       "model_id": "6d1d1d2553a84fee8867b7566fd8c924",
       "version_major": 2,
       "version_minor": 0
      },
      "text/plain": [
       "[Pipeline] Preprocessing steps:   0%|          | 0/3 [00:00<?, ?step/s]"
      ]
     },
     "metadata": {},
     "output_type": "display_data"
    },
    {
     "data": {
      "application/vnd.jupyter.widget-view+json": {
       "model_id": "e2a01bb3e9714d09976f1c37a14ac654",
       "version_major": 2,
       "version_minor": 0
      },
      "text/plain": [
       "[Pipeline] Preprocessing steps:   0%|          | 0/3 [00:00<?, ?step/s]"
      ]
     },
     "metadata": {},
     "output_type": "display_data"
    },
    {
     "data": {
      "application/vnd.jupyter.widget-view+json": {
       "model_id": "f02fdeb337f34de5b19b9a00d7fff2e2",
       "version_major": 2,
       "version_minor": 0
      },
      "text/plain": [
       "[Pipeline] Preprocessing steps:   0%|          | 0/3 [00:00<?, ?step/s]"
      ]
     },
     "metadata": {},
     "output_type": "display_data"
    },
    {
     "data": {
      "application/vnd.jupyter.widget-view+json": {
       "model_id": "1fae3e7f175f4bbd8379ae2553f9cc18",
       "version_major": 2,
       "version_minor": 0
      },
      "text/plain": [
       "[Pipeline] Preprocessing steps:   0%|          | 0/3 [00:00<?, ?step/s]"
      ]
     },
     "metadata": {},
     "output_type": "display_data"
    },
    {
     "data": {
      "application/vnd.jupyter.widget-view+json": {
       "model_id": "34379d86da5244ea90a7680b25ae184a",
       "version_major": 2,
       "version_minor": 0
      },
      "text/plain": [
       "[Pipeline] Preprocessing steps:   0%|          | 0/3 [00:00<?, ?step/s]"
      ]
     },
     "metadata": {},
     "output_type": "display_data"
    },
    {
     "data": {
      "application/vnd.jupyter.widget-view+json": {
       "model_id": "71e420d8ba144de582732a65739b964c",
       "version_major": 2,
       "version_minor": 0
      },
      "text/plain": [
       "[Pipeline] Preprocessing steps:   0%|          | 0/3 [00:00<?, ?step/s]"
      ]
     },
     "metadata": {},
     "output_type": "display_data"
    },
    {
     "data": {
      "application/vnd.jupyter.widget-view+json": {
       "model_id": "22e4d1445e9541f3ace7442bcc4469b8",
       "version_major": 2,
       "version_minor": 0
      },
      "text/plain": [
       "[Pipeline] Preprocessing steps:   0%|          | 0/3 [00:00<?, ?step/s]"
      ]
     },
     "metadata": {},
     "output_type": "display_data"
    },
    {
     "data": {
      "application/vnd.jupyter.widget-view+json": {
       "model_id": "1cf3a62c41e844eeb6c55f40b55fc09b",
       "version_major": 2,
       "version_minor": 0
      },
      "text/plain": [
       "[Pipeline] Preprocessing steps:   0%|          | 0/3 [00:00<?, ?step/s]"
      ]
     },
     "metadata": {},
     "output_type": "display_data"
    },
    {
     "data": {
      "application/vnd.jupyter.widget-view+json": {
       "model_id": "1e7743278fff4d2085b57211d3239e58",
       "version_major": 2,
       "version_minor": 0
      },
      "text/plain": [
       "[Pipeline] Preprocessing steps:   0%|          | 0/3 [00:00<?, ?step/s]"
      ]
     },
     "metadata": {},
     "output_type": "display_data"
    },
    {
     "data": {
      "application/vnd.jupyter.widget-view+json": {
       "model_id": "e3f0f221c8674c8c8bb61d2a508e0372",
       "version_major": 2,
       "version_minor": 0
      },
      "text/plain": [
       "[Pipeline] Preprocessing steps:   0%|          | 0/3 [00:00<?, ?step/s]"
      ]
     },
     "metadata": {},
     "output_type": "display_data"
    },
    {
     "data": {
      "application/vnd.jupyter.widget-view+json": {
       "model_id": "d5cf86cbbfb341f784c63137b6c8d145",
       "version_major": 2,
       "version_minor": 0
      },
      "text/plain": [
       "[Pipeline] Preprocessing steps:   0%|          | 0/3 [00:00<?, ?step/s]"
      ]
     },
     "metadata": {},
     "output_type": "display_data"
    },
    {
     "data": {
      "application/vnd.jupyter.widget-view+json": {
       "model_id": "abb40cd355d0489badaf2a92dc809cc7",
       "version_major": 2,
       "version_minor": 0
      },
      "text/plain": [
       "[Pipeline] Preprocessing steps:   0%|          | 0/3 [00:00<?, ?step/s]"
      ]
     },
     "metadata": {},
     "output_type": "display_data"
    },
    {
     "data": {
      "application/vnd.jupyter.widget-view+json": {
       "model_id": "d9b703ed9d984ef7b63d742a7300a6a6",
       "version_major": 2,
       "version_minor": 0
      },
      "text/plain": [
       "[Pipeline] Preprocessing steps:   0%|          | 0/3 [00:00<?, ?step/s]"
      ]
     },
     "metadata": {},
     "output_type": "display_data"
    },
    {
     "data": {
      "application/vnd.jupyter.widget-view+json": {
       "model_id": "63102e271fb949c49347ccbc40721b8a",
       "version_major": 2,
       "version_minor": 0
      },
      "text/plain": [
       "[Pipeline] Preprocessing steps:   0%|          | 0/3 [00:00<?, ?step/s]"
      ]
     },
     "metadata": {},
     "output_type": "display_data"
    },
    {
     "data": {
      "application/vnd.jupyter.widget-view+json": {
       "model_id": "becdf49f53994df4a9aa781d599179c5",
       "version_major": 2,
       "version_minor": 0
      },
      "text/plain": [
       "[Pipeline] Preprocessing steps:   0%|          | 0/3 [00:00<?, ?step/s]"
      ]
     },
     "metadata": {},
     "output_type": "display_data"
    },
    {
     "data": {
      "application/vnd.jupyter.widget-view+json": {
       "model_id": "643a7d7eada24d868a59563d4da972a4",
       "version_major": 2,
       "version_minor": 0
      },
      "text/plain": [
       "[Pipeline] Preprocessing steps:   0%|          | 0/3 [00:00<?, ?step/s]"
      ]
     },
     "metadata": {},
     "output_type": "display_data"
    },
    {
     "data": {
      "application/vnd.jupyter.widget-view+json": {
       "model_id": "d97ab242e43a4d65a0417af57f24f247",
       "version_major": 2,
       "version_minor": 0
      },
      "text/plain": [
       "[Pipeline] Preprocessing steps:   0%|          | 0/3 [00:00<?, ?step/s]"
      ]
     },
     "metadata": {},
     "output_type": "display_data"
    },
    {
     "data": {
      "application/vnd.jupyter.widget-view+json": {
       "model_id": "da7dc43b10014899a61879bbf23f337c",
       "version_major": 2,
       "version_minor": 0
      },
      "text/plain": [
       "[Pipeline] Preprocessing steps:   0%|          | 0/3 [00:00<?, ?step/s]"
      ]
     },
     "metadata": {},
     "output_type": "display_data"
    },
    {
     "data": {
      "application/vnd.jupyter.widget-view+json": {
       "model_id": "cce8f855033648ddb929d15ba62b0865",
       "version_major": 2,
       "version_minor": 0
      },
      "text/plain": [
       "[Pipeline] Preprocessing steps:   0%|          | 0/3 [00:00<?, ?step/s]"
      ]
     },
     "metadata": {},
     "output_type": "display_data"
    },
    {
     "data": {
      "application/vnd.jupyter.widget-view+json": {
       "model_id": "bb767263d1194589a83a17b5dedb23af",
       "version_major": 2,
       "version_minor": 0
      },
      "text/plain": [
       "[Pipeline] Preprocessing steps:   0%|          | 0/3 [00:00<?, ?step/s]"
      ]
     },
     "metadata": {},
     "output_type": "display_data"
    },
    {
     "data": {
      "application/vnd.jupyter.widget-view+json": {
       "model_id": "81c58527917e40a0982f69cfb3f09075",
       "version_major": 2,
       "version_minor": 0
      },
      "text/plain": [
       "[Pipeline] Preprocessing steps:   0%|          | 0/3 [00:00<?, ?step/s]"
      ]
     },
     "metadata": {},
     "output_type": "display_data"
    },
    {
     "data": {
      "application/vnd.jupyter.widget-view+json": {
       "model_id": "3a43048c75fa4f62ac2a668ef5e1459a",
       "version_major": 2,
       "version_minor": 0
      },
      "text/plain": [
       "[Pipeline] Preprocessing steps:   0%|          | 0/3 [00:00<?, ?step/s]"
      ]
     },
     "metadata": {},
     "output_type": "display_data"
    },
    {
     "data": {
      "application/vnd.jupyter.widget-view+json": {
       "model_id": "3c5d167e9b324fb68cfd2f22a5122846",
       "version_major": 2,
       "version_minor": 0
      },
      "text/plain": [
       "[Pipeline] Preprocessing steps:   0%|          | 0/3 [00:00<?, ?step/s]"
      ]
     },
     "metadata": {},
     "output_type": "display_data"
    },
    {
     "data": {
      "application/vnd.jupyter.widget-view+json": {
       "model_id": "f9631eec3b66441ab273db9950ff75d7",
       "version_major": 2,
       "version_minor": 0
      },
      "text/plain": [
       "[Pipeline] Preprocessing steps:   0%|          | 0/3 [00:00<?, ?step/s]"
      ]
     },
     "metadata": {},
     "output_type": "display_data"
    },
    {
     "data": {
      "application/vnd.jupyter.widget-view+json": {
       "model_id": "65e7cd4545f7424792e75d24aad7542d",
       "version_major": 2,
       "version_minor": 0
      },
      "text/plain": [
       "[Pipeline] Preprocessing steps:   0%|          | 0/3 [00:00<?, ?step/s]"
      ]
     },
     "metadata": {},
     "output_type": "display_data"
    },
    {
     "data": {
      "application/vnd.jupyter.widget-view+json": {
       "model_id": "cb33fc5cd7174a4c852f8a8a37f2cfe8",
       "version_major": 2,
       "version_minor": 0
      },
      "text/plain": [
       "[Pipeline] Preprocessing steps:   0%|          | 0/3 [00:00<?, ?step/s]"
      ]
     },
     "metadata": {},
     "output_type": "display_data"
    },
    {
     "data": {
      "application/vnd.jupyter.widget-view+json": {
       "model_id": "f3c17ad26a564ea396c5a45a4a01a671",
       "version_major": 2,
       "version_minor": 0
      },
      "text/plain": [
       "[Pipeline] Preprocessing steps:   0%|          | 0/3 [00:00<?, ?step/s]"
      ]
     },
     "metadata": {},
     "output_type": "display_data"
    },
    {
     "data": {
      "application/vnd.jupyter.widget-view+json": {
       "model_id": "ff551eb3d2bf492a93b376d76fbdaf83",
       "version_major": 2,
       "version_minor": 0
      },
      "text/plain": [
       "[Pipeline] Preprocessing steps:   0%|          | 0/3 [00:00<?, ?step/s]"
      ]
     },
     "metadata": {},
     "output_type": "display_data"
    },
    {
     "data": {
      "application/vnd.jupyter.widget-view+json": {
       "model_id": "2d2dcedd89184417b80f436f4a5a2a81",
       "version_major": 2,
       "version_minor": 0
      },
      "text/plain": [
       "[Pipeline] Preprocessing steps:   0%|          | 0/3 [00:00<?, ?step/s]"
      ]
     },
     "metadata": {},
     "output_type": "display_data"
    },
    {
     "data": {
      "application/vnd.jupyter.widget-view+json": {
       "model_id": "ab6938fe977d42fca610e7cdedcd48c6",
       "version_major": 2,
       "version_minor": 0
      },
      "text/plain": [
       "[Pipeline] Preprocessing steps:   0%|          | 0/3 [00:00<?, ?step/s]"
      ]
     },
     "metadata": {},
     "output_type": "display_data"
    },
    {
     "data": {
      "application/vnd.jupyter.widget-view+json": {
       "model_id": "34cc9a21770b4db89da924affb490df4",
       "version_major": 2,
       "version_minor": 0
      },
      "text/plain": [
       "[Pipeline] Preprocessing steps:   0%|          | 0/3 [00:00<?, ?step/s]"
      ]
     },
     "metadata": {},
     "output_type": "display_data"
    },
    {
     "data": {
      "application/vnd.jupyter.widget-view+json": {
       "model_id": "4d3db24d258147abbfdfb2979ee1596f",
       "version_major": 2,
       "version_minor": 0
      },
      "text/plain": [
       "[Pipeline] Preprocessing steps:   0%|          | 0/3 [00:00<?, ?step/s]"
      ]
     },
     "metadata": {},
     "output_type": "display_data"
    },
    {
     "data": {
      "application/vnd.jupyter.widget-view+json": {
       "model_id": "90da99784b7b49f0804043b73c37e632",
       "version_major": 2,
       "version_minor": 0
      },
      "text/plain": [
       "[Pipeline] Preprocessing steps:   0%|          | 0/3 [00:00<?, ?step/s]"
      ]
     },
     "metadata": {},
     "output_type": "display_data"
    },
    {
     "data": {
      "application/vnd.jupyter.widget-view+json": {
       "model_id": "055c5d3395e14664a47916f10cb92bdd",
       "version_major": 2,
       "version_minor": 0
      },
      "text/plain": [
       "[Pipeline] Preprocessing steps:   0%|          | 0/3 [00:00<?, ?step/s]"
      ]
     },
     "metadata": {},
     "output_type": "display_data"
    },
    {
     "data": {
      "application/vnd.jupyter.widget-view+json": {
       "model_id": "284503380fde460b983c8bfbffff7064",
       "version_major": 2,
       "version_minor": 0
      },
      "text/plain": [
       "[Pipeline] Preprocessing steps:   0%|          | 0/3 [00:00<?, ?step/s]"
      ]
     },
     "metadata": {},
     "output_type": "display_data"
    },
    {
     "data": {
      "application/vnd.jupyter.widget-view+json": {
       "model_id": "9f8d407051d04eadbfc8bee76bdf602c",
       "version_major": 2,
       "version_minor": 0
      },
      "text/plain": [
       "[Pipeline] Preprocessing steps:   0%|          | 0/3 [00:00<?, ?step/s]"
      ]
     },
     "metadata": {},
     "output_type": "display_data"
    },
    {
     "data": {
      "application/vnd.jupyter.widget-view+json": {
       "model_id": "d8ac65649707433e8db913f15cc5cc39",
       "version_major": 2,
       "version_minor": 0
      },
      "text/plain": [
       "[Pipeline] Preprocessing steps:   0%|          | 0/3 [00:00<?, ?step/s]"
      ]
     },
     "metadata": {},
     "output_type": "display_data"
    },
    {
     "data": {
      "application/vnd.jupyter.widget-view+json": {
       "model_id": "d263985eda7f4a67a3ab69635b22606b",
       "version_major": 2,
       "version_minor": 0
      },
      "text/plain": [
       "[Pipeline] Preprocessing steps:   0%|          | 0/3 [00:00<?, ?step/s]"
      ]
     },
     "metadata": {},
     "output_type": "display_data"
    },
    {
     "data": {
      "application/vnd.jupyter.widget-view+json": {
       "model_id": "28518e2c86f142c5b2e9503641497371",
       "version_major": 2,
       "version_minor": 0
      },
      "text/plain": [
       "[Pipeline] Preprocessing steps:   0%|          | 0/3 [00:00<?, ?step/s]"
      ]
     },
     "metadata": {},
     "output_type": "display_data"
    },
    {
     "data": {
      "application/vnd.jupyter.widget-view+json": {
       "model_id": "76474ef9066749f2aeff84a736f7fff6",
       "version_major": 2,
       "version_minor": 0
      },
      "text/plain": [
       "[Pipeline] Preprocessing steps:   0%|          | 0/3 [00:00<?, ?step/s]"
      ]
     },
     "metadata": {},
     "output_type": "display_data"
    },
    {
     "data": {
      "application/vnd.jupyter.widget-view+json": {
       "model_id": "b4907d0e0aa342d2a9179a62b695bb6a",
       "version_major": 2,
       "version_minor": 0
      },
      "text/plain": [
       "[Pipeline] Preprocessing steps:   0%|          | 0/3 [00:00<?, ?step/s]"
      ]
     },
     "metadata": {},
     "output_type": "display_data"
    },
    {
     "data": {
      "application/vnd.jupyter.widget-view+json": {
       "model_id": "cd4b8e6348694627ba1143da45db2f0a",
       "version_major": 2,
       "version_minor": 0
      },
      "text/plain": [
       "[Pipeline] Preprocessing steps:   0%|          | 0/3 [00:00<?, ?step/s]"
      ]
     },
     "metadata": {},
     "output_type": "display_data"
    },
    {
     "data": {
      "application/vnd.jupyter.widget-view+json": {
       "model_id": "9be0b6e6f31d4bb1aee5bf91fdd2edc5",
       "version_major": 2,
       "version_minor": 0
      },
      "text/plain": [
       "[Pipeline] Preprocessing steps:   0%|          | 0/3 [00:00<?, ?step/s]"
      ]
     },
     "metadata": {},
     "output_type": "display_data"
    },
    {
     "data": {
      "application/vnd.jupyter.widget-view+json": {
       "model_id": "40fc6a69b80c49468fb3f315efd9a5e3",
       "version_major": 2,
       "version_minor": 0
      },
      "text/plain": [
       "[Pipeline] Preprocessing steps:   0%|          | 0/3 [00:00<?, ?step/s]"
      ]
     },
     "metadata": {},
     "output_type": "display_data"
    },
    {
     "data": {
      "application/vnd.jupyter.widget-view+json": {
       "model_id": "468b5142ccf64f2aad18ec4c2b88e144",
       "version_major": 2,
       "version_minor": 0
      },
      "text/plain": [
       "[Pipeline] Preprocessing steps:   0%|          | 0/3 [00:00<?, ?step/s]"
      ]
     },
     "metadata": {},
     "output_type": "display_data"
    },
    {
     "data": {
      "application/vnd.jupyter.widget-view+json": {
       "model_id": "1693cff67e1049508e3548d7d9896123",
       "version_major": 2,
       "version_minor": 0
      },
      "text/plain": [
       "[Pipeline] Preprocessing steps:   0%|          | 0/3 [00:00<?, ?step/s]"
      ]
     },
     "metadata": {},
     "output_type": "display_data"
    },
    {
     "data": {
      "application/vnd.jupyter.widget-view+json": {
       "model_id": "78a6c9a6485543b49bad6cf41d44c2cb",
       "version_major": 2,
       "version_minor": 0
      },
      "text/plain": [
       "[Pipeline] Preprocessing steps:   0%|          | 0/3 [00:00<?, ?step/s]"
      ]
     },
     "metadata": {},
     "output_type": "display_data"
    },
    {
     "data": {
      "application/vnd.jupyter.widget-view+json": {
       "model_id": "a9b5caa8af8042ada6f786a3fc472df6",
       "version_major": 2,
       "version_minor": 0
      },
      "text/plain": [
       "[Pipeline] Preprocessing steps:   0%|          | 0/3 [00:00<?, ?step/s]"
      ]
     },
     "metadata": {},
     "output_type": "display_data"
    },
    {
     "data": {
      "application/vnd.jupyter.widget-view+json": {
       "model_id": "d9e7392471684e6593b1dc8f9ee2964c",
       "version_major": 2,
       "version_minor": 0
      },
      "text/plain": [
       "[Pipeline] Preprocessing steps:   0%|          | 0/3 [00:00<?, ?step/s]"
      ]
     },
     "metadata": {},
     "output_type": "display_data"
    },
    {
     "data": {
      "application/vnd.jupyter.widget-view+json": {
       "model_id": "b7d80ba45ad14d18bbbcd254012f3b22",
       "version_major": 2,
       "version_minor": 0
      },
      "text/plain": [
       "[Pipeline] Preprocessing steps:   0%|          | 0/3 [00:00<?, ?step/s]"
      ]
     },
     "metadata": {},
     "output_type": "display_data"
    },
    {
     "data": {
      "application/vnd.jupyter.widget-view+json": {
       "model_id": "7a32a218a2b24fffb428f8fef6529766",
       "version_major": 2,
       "version_minor": 0
      },
      "text/plain": [
       "[Pipeline] Preprocessing steps:   0%|          | 0/3 [00:00<?, ?step/s]"
      ]
     },
     "metadata": {},
     "output_type": "display_data"
    },
    {
     "data": {
      "application/vnd.jupyter.widget-view+json": {
       "model_id": "d1a5f24743df4d81b6eb5fe76bb2af47",
       "version_major": 2,
       "version_minor": 0
      },
      "text/plain": [
       "[Pipeline] Preprocessing steps:   0%|          | 0/3 [00:00<?, ?step/s]"
      ]
     },
     "metadata": {},
     "output_type": "display_data"
    },
    {
     "data": {
      "application/vnd.jupyter.widget-view+json": {
       "model_id": "e4959ce105e9443a9dd51897654fe1f0",
       "version_major": 2,
       "version_minor": 0
      },
      "text/plain": [
       "[Pipeline] Preprocessing steps:   0%|          | 0/3 [00:00<?, ?step/s]"
      ]
     },
     "metadata": {},
     "output_type": "display_data"
    },
    {
     "data": {
      "application/vnd.jupyter.widget-view+json": {
       "model_id": "ca2b061983914a5aa9db69005bf64d24",
       "version_major": 2,
       "version_minor": 0
      },
      "text/plain": [
       "[Pipeline] Preprocessing steps:   0%|          | 0/3 [00:00<?, ?step/s]"
      ]
     },
     "metadata": {},
     "output_type": "display_data"
    },
    {
     "data": {
      "application/vnd.jupyter.widget-view+json": {
       "model_id": "a469858a116e4a2c9292b277337dbd27",
       "version_major": 2,
       "version_minor": 0
      },
      "text/plain": [
       "[Pipeline] Preprocessing steps:   0%|          | 0/3 [00:00<?, ?step/s]"
      ]
     },
     "metadata": {},
     "output_type": "display_data"
    },
    {
     "data": {
      "application/vnd.jupyter.widget-view+json": {
       "model_id": "31644d0bfe8f4926917ee45b351b9626",
       "version_major": 2,
       "version_minor": 0
      },
      "text/plain": [
       "[Pipeline] Training:   0%|          | 0/20 [00:00<?, ?epoch/s]"
      ]
     },
     "metadata": {},
     "output_type": "display_data"
    },
    {
     "name": "stdout",
     "output_type": "stream",
     "text": [
      "Results exported to /home/pedro/Workspace/UFRJ/3W/3WToolkit/output\n",
      "Model Assessment Summary\n",
      "========================\n",
      "Model: MLP\n",
      "Task Type: classification\n",
      "Timestamp: 2025-10-08T18:07:49.020261\n",
      "\n",
      "Metrics:\n",
      "  balanced_accuracy: 0.8766\n",
      "  precision: 0.8788\n",
      "  recall: 0.8688\n",
      "  f1: 0.8696\n"
     ]
    }
   ],
   "source": [
    "# Define the model configuration\n",
    "config_model = MLPConfig(\n",
    "    hidden_sizes=(64, 32),\n",
    "    output_size=2,\n",
    "    random_seed=42,\n",
    "    activation_function=\"relu\",\n",
    "    regularization=None,\n",
    ")\n",
    "\n",
    "# Create the pipeline with sequential steps\n",
    "pipeline = Pipeline(\n",
    "    [\n",
    "        # Step 1: Load Dataset\n",
    "        ParquetDatasetConfig(\n",
    "            path=\"../../data/raw\",\n",
    "            split=None,\n",
    "            download=False,\n",
    "            columns=[\"T-JUS-CKP\", \"T-MON-CKP\"],\n",
    "            target_column=\"class\",\n",
    "            target_class=[0, 1],\n",
    "        ),\n",
    "        # Step 2: Preprocessing\n",
    "        ImputeMissingConfig(strategy=\"median\", columns=[\"T-JUS-CKP\"]),\n",
    "        NormalizeConfig(norm=\"l2\"),\n",
    "        WindowingConfig(window_size=100),\n",
    "        # Step 3: Model Training\n",
    "        TrainerConfig(\n",
    "            optimizer=\"adam\",\n",
    "            criterion=\"cross_entropy\",\n",
    "            batch_size=32,\n",
    "            epochs=20,\n",
    "            seed=42,\n",
    "            config_model=config_model,\n",
    "            learning_rate=0.001,\n",
    "            cross_validation=False,\n",
    "            shuffle_train=True,\n",
    "        ),\n",
    "        # Step 4: Model Assessment\n",
    "        ModelAssessmentConfig(\n",
    "            metrics=[\"balanced_accuracy\", \"precision\", \"recall\", \"f1\"],\n",
    "            task_type=TaskType.CLASSIFICATION,\n",
    "            export_results=True,\n",
    "            generate_report=False,\n",
    "        ),\n",
    "    ]\n",
    ")\n",
    "\n",
    "# Execute the entire pipeline\n",
    "pipeline.run()"
   ]
  },
  {
   "cell_type": "code",
   "execution_count": 58,
   "metadata": {},
   "outputs": [
    {
     "data": {
      "text/plain": [
       "<matplotlib.legend.Legend at 0x7e55a7a1e6e0>"
      ]
     },
     "execution_count": 58,
     "metadata": {},
     "output_type": "execute_result"
    },
    {
     "data": {
      "image/png": "[encoded data removed]",
      "text/plain": [
       "<Figure size 1000x500 with 1 Axes>"
      ]
     },
     "metadata": {},
     "output_type": "display_data"
    }
   ],
   "source": [
    "hist = pipeline.step_model_training.history[0]\n",
    "\n",
    "plt.figure(figsize=(10, 5))\n",
    "plt.plot(hist[\"val_loss\"], label=\"Val Loss\")\n",
    "plt.plot(hist[\"train_loss\"], label=\"Train Loss\")\n",
    "plt.title(\"Training and Validation Loss\")\n",
    "plt.xlabel(\"Epoch\")\n",
    "plt.ylabel(\"Loss\")\n",
    "plt.legend()"
   ]
  },
  {
   "cell_type": "markdown",
   "metadata": {},
   "source": [
    "### 7.2. Pipeline Components in Detail"
   ]
  },
  {
   "cell_type": "markdown",
   "metadata": {},
   "source": [
    "**Dataset Configuration**"
   ]
  },
  {
   "cell_type": "markdown",
   "metadata": {},
   "source": [
    "The `ParquetDatasetConfig` is always the first step in your pipeline. It defines how to load and filter your data:"
   ]
  },
  {
   "cell_type": "markdown",
   "metadata": {},
   "source": [
    "<div style=\"font-size:15px\">\n",
    "\n",
    "```python\n",
    "ParquetDatasetConfig(\n",
    "    path=\"./data/raw\",                      # Path to your parquet files\n",
    "    split=None,                             # Train/test split ratio (e.g., 0.8 for 80/20)\n",
    "    download=False,                         # Whether to download the dataset\n",
    "    columns=[\"T-JUS-CKP\", \"T-MON-CKP\"],     # Features to use\n",
    "    target_column=\"class\",                  # Target variable column name\n",
    "    target_class=[0, 1],                    # Classes to include (for binary classification)\n",
    ")"
   ]
  },
  {
   "cell_type": "markdown",
   "metadata": {},
   "source": [
    "**Preprocessing Steps**"
   ]
  },
  {
   "cell_type": "markdown",
   "metadata": {},
   "source": [
    "You can chain multiple preprocessing steps. They will be executed in the order they appear:"
   ]
  },
  {
   "cell_type": "markdown",
   "metadata": {},
   "source": [
    "<div style=\"font-size:15px\">\n",
    "\n",
    "```python\n",
    "# Handle missing values\n",
    "(\n",
    "    ImputeMissingConfig(\n",
    "        strategy=\"median\",  # Options: \"mean\", \"median\", \"forward\", \"backward\"\n",
    "        columns=[\"T-JUS-CKP\"],  # Specific columns to impute\n",
    "    ),\n",
    ")\n",
    "\n",
    "# Normalize the data\n",
    "(\n",
    "    NormalizeConfig(\n",
    "        norm=\"l2\"  # Options: \"l1\", \"l2\", \"max\", \"standard\"\n",
    "    ),\n",
    ")\n",
    "\n",
    "# Create time windows\n",
    "(\n",
    "    WindowingConfig(\n",
    "        window_size=100  # Number of time steps per window\n",
    "    ),\n",
    ")"
   ]
  },
  {
   "cell_type": "markdown",
   "metadata": {},
   "source": [
    "**Feature Extraction (Optional)**"
   ]
  },
  {
   "cell_type": "markdown",
   "metadata": {},
   "source": [
    "**Important:** Only one feature extraction method can be used at a time. Choose the one that best fits your problem:"
   ]
  },
  {
   "cell_type": "markdown",
   "metadata": {},
   "source": [
    "**Option A: Statistical Features**"
   ]
  },
  {
   "cell_type": "markdown",
   "metadata": {},
   "source": [
    "Extracts basic statistical features like mean, standard deviation, min, max, etc.:"
   ]
  },
  {
   "cell_type": "markdown",
   "metadata": {
    "vscode": {
     "languageId": "html"
    }
   },
   "source": [
    "<div style=\"font-size:15px\">\n",
    "\n",
    "```python\n",
    "StatisticalConfig()"
   ]
  },
  {
   "cell_type": "markdown",
   "metadata": {},
   "source": [
    "**Option B: Exponentially Weighted Statistical Features**"
   ]
  },
  {
   "cell_type": "markdown",
   "metadata": {},
   "source": [
    "Extracts statistical features with exponential weighting, giving more importance to recent values:"
   ]
  },
  {
   "cell_type": "markdown",
   "metadata": {},
   "source": [
    "<div style=\"font-size:15px\">\n",
    "\n",
    "```python\n",
    "EWStatisticalConfig(\n",
    "    selected_features=[\"ew_mean\", \"ew_std\", \"ew_skew\"],         # Features to extract\n",
    "    overlap=0.5,                                                # Window overlap (0.5 = 50% overlap)\n",
    "    offset=0,                                                   # Starting offset\n",
    "    decay=0.9,                                                  # Exponential decay factor (higher = more weight on recent values)\n",
    "eps=1e-8,                                                       # Small constant for numerical stability\n",
    ")\n"
   ]
  },
  {
   "cell_type": "markdown",
   "metadata": {},
   "source": [
    "**Option C: Wavelet Features**"
   ]
  },
  {
   "cell_type": "markdown",
   "metadata": {},
   "source": [
    "Extracts features using wavelet decomposition:"
   ]
  },
  {
   "cell_type": "markdown",
   "metadata": {},
   "source": [
    "<div style=\"font-size:15px\">\n",
    "\n",
    "```python\n",
    "WaveletConfig(\n",
    "    level=3,                # Decomposition level\n",
    "    overlap=0.5,            # Window overlap\n",
    "    offset=0,               # Starting offset\n",
    "    wavelet=\"haar\",         # Wavelet type: \"haar\", \"db4\", \"sym4\", etc.\n",
    ")"
   ]
  },
  {
   "cell_type": "markdown",
   "metadata": {},
   "source": [
    "**Model Training**"
   ]
  },
  {
   "cell_type": "markdown",
   "metadata": {},
   "source": [
    "Configure how your model will be trained:"
   ]
  },
  {
   "cell_type": "markdown",
   "metadata": {},
   "source": [
    "<div style=\"font-size:15px\">\n",
    "\n",
    "```python\n",
    "TrainerConfig(\n",
    "    optimizer=\"adam\",                       # Options: \"adam\", \"sgd\", \"rmsprop\"\n",
    "    criterion=\"cross_entropy\",              # Loss function\n",
    "    batch_size=32,                          # Number of samples per batch\n",
    "    epochs=20,                              # Number of training epochs\n",
    "    seed=42,                                # Random seed for reproducibility\n",
    "    config_model=config_model,              # Model architecture configuration\n",
    "    learning_rate=0.001,                    # Learning rate\n",
    "    cross_validation=False,                 # Whether to use cross-validation\n",
    "    shuffle_train=True,                     # Whether to shuffle training data\n",
    ")"
   ]
  },
  {
   "cell_type": "markdown",
   "metadata": {},
   "source": [
    "**Model Assessment**"
   ]
  },
  {
   "cell_type": "markdown",
   "metadata": {},
   "source": [
    "Define how to evaluate your model:"
   ]
  },
  {
   "cell_type": "markdown",
   "metadata": {},
   "source": [
    "<div style=\"font-size:15px\">\n",
    "\n",
    "```python\n",
    "ModelAssessmentConfig(\n",
    "    metrics=[\"balanced_accuracy\", \"precision\", \"recall\", \"f1\"],\n",
    "    task_type=TaskType.CLASSIFICATION,                                  # Or TaskType.REGRESSION\n",
    "    export_results=True,                                                # Save results to file\n",
    "    generate_report=False,                                              # Generate detailed HTML report\n",
    ")"
   ]
  },
  {
   "cell_type": "markdown",
   "metadata": {},
   "source": [
    "### 7.3. Complete Pipeline Examples"
   ]
  },
  {
   "cell_type": "markdown",
   "metadata": {},
   "source": [
    "**Example 1: Pipeline with Statistical Features**"
   ]
  },
  {
   "cell_type": "markdown",
   "metadata": {},
   "source": [
    "<div style=\"font-size:15px\">\n",
    "\n",
    "```python\n",
    "config_model = MLPConfig(\n",
    "    hidden_sizes=(128, 64, 32),\n",
    "    output_size=3,\n",
    "    random_seed=42,\n",
    "    activation_function=\"relu\",\n",
    "    regularization=None,\n",
    ")\n",
    "\n",
    "pipeline = Pipeline(\n",
    "    [\n",
    "        ParquetDatasetConfig(\n",
    "            path=\"./data/raw\",\n",
    "            split=0.8,\n",
    "            download=False,\n",
    "            columns=[\"T-JUS-CKP\", \"T-MON-CKP\", \"P-PDG\"],\n",
    "            target_column=\"class\",\n",
    "            target_class=[0, 1, 2],\n",
    "        ),\n",
    "        ImputeMissingConfig(strategy=\"mean\", columns=None),  # Impute all columns\n",
    "        NormalizeConfig(norm=\"standard\"),\n",
    "        WindowingConfig(window_size=150),\n",
    "        StatisticalConfig(),  # Extract statistical features\n",
    "        TrainerConfig(\n",
    "            optimizer=\"adam\",\n",
    "            criterion=\"cross_entropy\",\n",
    "            batch_size=64,\n",
    "            epochs=50,\n",
    "            seed=42,\n",
    "            config_model=config_model,\n",
    "            learning_rate=0.0005,\n",
    "            cross_validation=True,\n",
    "            shuffle_train=True,\n",
    "        ),\n",
    "        ModelAssessmentConfig(\n",
    "            metrics=[\"balanced_accuracy\", \"precision\", \"recall\", \"f1\"],\n",
    "            task_type=TaskType.CLASSIFICATION,\n",
    "            export_results=True,\n",
    "            generate_report=True,\n",
    "        ),\n",
    "    ]\n",
    ")\n",
    "\n",
    "pipeline.run()"
   ]
  },
  {
   "cell_type": "markdown",
   "metadata": {},
   "source": [
    "**Example 2: Pipeline with Wavelet Features**"
   ]
  },
  {
   "cell_type": "markdown",
   "metadata": {},
   "source": [
    "<div style=\"font-size:15px\">\n",
    "\n",
    "```python\n",
    "config_model = MLPConfig(\n",
    "    hidden_sizes=(64, 32),\n",
    "    output_size=2,\n",
    "    random_seed=11,\n",
    "    activation_function=\"tanh\",\n",
    "    regularization=\"l2\",\n",
    ")\n",
    "\n",
    "pipeline = Pipeline(\n",
    "    [\n",
    "        ParquetDatasetConfig(\n",
    "            path=\"../../data/raw\",\n",
    "            split=0.7,\n",
    "            download=False,\n",
    "            columns=[\"T-JUS-CKP\", \"T-MON-CKP\"],\n",
    "            target_column=\"class\",\n",
    "            target_class=[0, 1],\n",
    "        ),\n",
    "        ImputeMissingConfig(strategy=\"forward\", columns=[\"T-JUS-CKP\", \"T-MON-CKP\"]),\n",
    "        NormalizeConfig(norm=\"l2\"),\n",
    "        WindowingConfig(window_size=200),\n",
    "        WaveletConfig(\n",
    "            level=4,\n",
    "            overlap=0.5,\n",
    "            offset=0,\n",
    "            wavelet=\"db4\",  # Daubechies wavelet\n",
    "        ),\n",
    "        TrainerConfig(\n",
    "            optimizer=\"sgd\",\n",
    "            criterion=\"cross_entropy\",\n",
    "            batch_size=16,\n",
    "            epochs=30,\n",
    "            seed=11,\n",
    "            config_model=config_model,\n",
    "            learning_rate=0.01,\n",
    "            cross_validation=False,\n",
    "            shuffle_train=True,\n",
    "        ),\n",
    "        ModelAssessmentConfig(\n",
    "            metrics=[\"balanced_accuracy\", \"f1\"],\n",
    "            task_type=TaskType.CLASSIFICATION,\n",
    "            export_results=True,\n",
    "            generate_report=False,\n",
    "        ),\n",
    "    ]\n",
    ")\n",
    "\n",
    "pipeline.run()"
   ]
  },
  {
   "cell_type": "markdown",
   "metadata": {},
   "source": [
    "**Example 3: Minimal Pipeline**"
   ]
  },
  {
   "cell_type": "markdown",
   "metadata": {},
   "source": [
    "<div style=\"font-size:15px\">\n",
    "\n",
    "```python\n",
    "config_model = MLPConfig(\n",
    "    hidden_sizes=(32, 16),\n",
    "    output_size=3,\n",
    "    random_seed=42,\n",
    "    activation_function=\"relu\",\n",
    "    regularization=None,\n",
    ")\n",
    "\n",
    "pipeline = Pipeline(\n",
    "    [\n",
    "        ParquetDatasetConfig(\n",
    "            path=\"./data/raw\",\n",
    "            split=None,\n",
    "            download=False,\n",
    "            columns=[\"T-JUS-CKP\", \"T-MON-CKP\"],\n",
    "            target_column=\"class\",\n",
    "            target_class=[0, 1, 2],\n",
    "        ),\n",
    "        TrainerConfig(\n",
    "            optimizer=\"adam\",\n",
    "            criterion=\"cross_entropy\",\n",
    "            batch_size=32,\n",
    "            epochs=20,\n",
    "            seed=42,\n",
    "            config_model=config_model,\n",
    "            learning_rate=0.001,\n",
    "            cross_validation=False,\n",
    "            shuffle_train=True,\n",
    "        ),\n",
    "        ModelAssessmentConfig(\n",
    "            metrics=[\"balanced_accuracy\", \"precision\", \"recall\", \"f1\"],\n",
    "            task_type=TaskType.CLASSIFICATION,\n",
    "            export_results=True,\n",
    "            generate_report=False,\n",
    "        ),\n",
    "    ]\n",
    ")\n",
    "\n",
    "pipeline.run()"
   ]
  },
  {
   "cell_type": "markdown",
   "metadata": {},
   "source": [
    "### 7.4. Best Practices"
   ]
  },
  {
   "cell_type": "markdown",
   "metadata": {},
   "source": [
    "**Choosing Feature Extraction Methods**\n",
    "\n",
    "- **No Feature Extraction:** Use raw windowed data when you have enough data and computational resources. Best for deep learning models.\n",
    "- **Statistical Features:** Fast and interpretable. Good baseline for most problems.\n",
    "- **Exponentially Weighted Statistical Features:** When recent observations are more important than older ones (e.g., trending patterns).\n",
    "- **Wavelet Features:** When you need to capture both time and frequency domain information. Good for signal processing tasks."
   ]
  },
  {
   "cell_type": "markdown",
   "metadata": {},
   "source": [
    "**Reproducibility**\n",
    "\n",
    "Always set random seeds for reproducibility:"
   ]
  },
  {
   "cell_type": "markdown",
   "metadata": {},
   "source": [
    "<div style=\"font-size:15px\">\n",
    "\n",
    "```python\n",
    "config_model = MLPConfig(random_seed=42, ...)\n",
    "TrainerConfig(seed=42, ...)"
   ]
  },
  {
   "cell_type": "markdown",
   "metadata": {},
   "source": [
    "**Experiment Tracking**\n",
    "\n",
    "Enable result export to keep track of your experiments:"
   ]
  },
  {
   "cell_type": "markdown",
   "metadata": {},
   "source": [
    "<div style=\"font-size:15px\">\n",
    "\n",
    "```python\n",
    "ModelAssessmentConfig(\n",
    "    export_results=True,\n",
    "    generate_report=True  # For detailed analysis\n",
    ")"
   ]
  },
  {
   "cell_type": "markdown",
   "metadata": {},
   "source": [
    "**Pipeline Debugging**"
   ]
  },
  {
   "cell_type": "markdown",
   "metadata": {},
   "source": [
    "If your pipeline fails, check each component individually. You can comment out steps to isolate issues:"
   ]
  },
  {
   "cell_type": "markdown",
   "metadata": {},
   "source": [
    "<div style=\"font-size:15px\">\n",
    "\n",
    "```python\n",
    "pipeline = Pipeline([\n",
    "    ParquetDatasetConfig(...),\n",
    "    ImputeMissingConfig(...),\n",
    "    # NormalizeConfig(...),  # Temporarily disabled for debugging\n",
    "    WindowingConfig(...),\n",
    "    # ... rest of the pipeline\n",
    "])"
   ]
  },
  {
   "cell_type": "markdown",
   "metadata": {},
   "source": [
    "After running your pipeline, proceed to analyze the results and iterate on your configuration to improve model performance. Consider experimenting with different feature extraction methods, hyperparameters, and preprocessing strategies."
   ]
  },
  {
   "cell_type": "markdown",
   "metadata": {},
   "source": [
    "__________"
   ]
  },
  {
   "cell_type": "markdown",
   "metadata": {},
   "source": [
    "END"
   ]
  },
  {
   "cell_type": "markdown",
   "metadata": {},
   "source": [
    "## 7. Report Generation\n",
    "The `3WToolkit` provides a `ReportGeneration` module to automatically create comprehensive HTML or LaTeX reports from model evaluation results. This feature simplifies the process of documenting, sharing, and communicating model performance in a standardized format.\n",
    "\n",
    "The `ReportGeneration` class takes the results from the `ModelAssessment` step and compiles them into a structured report that includes:\n",
    "\n",
    "- **Model and Dataset Information**: Details about the model, its configuration, and the dataset used.\n",
    "- **Performance Metrics**: A summary of key metrics like accuracy, precision, recall, and F1-score.\n",
    "- **Confusion Matrix**: A visualization of the model's performance for each class.\n",
    "- **Classification Report**: A detailed breakdown of metrics per class.\n",
    "- **Custom Plots**: The ability to include additional plots, such as feature importance or prediction visualizations.\n",
    "\n",
    "In this section, we will demonstrate how to generate a report using the evaluation results obtained in the previous step."
   ]
  },
  {
   "cell_type": "code",
   "execution_count": 63,
   "metadata": {},
   "outputs": [
    {
     "name": "stdout",
     "output_type": "stream",
     "text": [
      "Generating Markdown report from template: 'report_template.html'...\n",
      "DataVisualization: Chart saved to '/home/pedro/Workspace/UFRJ/3W/3WToolkit/output/3w_plots/p-tpt.png'\n",
      "DataVisualization: Chart saved to '/home/pedro/Workspace/UFRJ/3W/3WToolkit/output/3w_plots/p-mon-ckp_and_p-tpt.png'\n",
      "DataVisualization: Chart saved to '/home/pedro/Workspace/UFRJ/3W/3WToolkit/output/3w_plots/correlation_heatmap_of_selected_features.png'\n",
      "Markdown report generated successfully.\n",
      "Generating Beamer report: '3WToolkit Signal Analysis Report'...\n",
      "DataVisualization: Chart saved to '/home/pedro/Workspace/UFRJ/3W/3WToolkit/output/3w_plots/p-tpt.png'\n",
      "DataVisualization: Chart saved to '/home/pedro/Workspace/UFRJ/3W/3WToolkit/output/3w_plots/p-mon-ckp_and_p-tpt.png'\n",
      "DataVisualization: Chart saved to '/home/pedro/Workspace/UFRJ/3W/3WToolkit/output/3w_plots/correlation_heatmap_of_selected_features.png'\n",
      "Beamer document generated successfully.\n",
      "Saving markdown report to '/home/pedro/Workspace/UFRJ/3W/3WToolkit/output/reports/report-3WToolkit Signal Analysis Report/html/signal_analysis_report.html'...\n",
      "Markdown report saved successfully to '/home/pedro/Workspace/UFRJ/3W/3WToolkit/output/reports/report-3WToolkit Signal Analysis Report/html/signal_analysis_report.html'\n",
      "HTML report saved successfully\n",
      "Saving report to '/home/pedro/Workspace/UFRJ/3W/3WToolkit/output/reports/report-3WToolkit Signal Analysis Report' folder'...\n",
      "Report saved successfully to 'signal_analysis_report.tex'\n",
      "Copied .sty files and assets to the report directory to facilitate user compilation.\n",
      "LaTeX report saved successfully\n"
     ]
    }
   ],
   "source": [
    "from ThreeWToolkit.reports.report_generation import ReportGeneration\n",
    "\n",
    "model = trainer.model\n",
    "\n",
    "X_train, y_train = dfs_final.iloc[:, :-1], dfs_final[\"label\"].astype(int)\n",
    "X_test, y_test = results['X_test'], results['true_values']\n",
    "predictions = results['predictions']\n",
    "\n",
    "calculated_metrics = results['metrics']\n",
    "title = results['config']['report_title']\n",
    "author = results['config']['report_author']\n",
    "\n",
    "plots_config = {\n",
    "    \"PlotSeries\": {\n",
    "        \"series\": sig[\"P-TPT\"],\n",
    "        \"title\": \"P-TPT\",\n",
    "        \"xlabel\": \"Timestamp\",\n",
    "        \"ylabel\": \"P-TPT\",\n",
    "        \"overlay_events\": False,\n",
    "        'color': \"green\"\n",
    "    }, #['P-TPT', 'T-TPT'],\n",
    "    \"PlotMultipleSeries\": {\n",
    "        \"series_list\": [sig[['P-MON-CKP']], sig[['P-TPT']]],\n",
    "        \"labels\": ['P-MON-CKP', 'P-TPT'],\n",
    "        \"title\": \"P-MON-CKP' and 'P-TPT\",\n",
    "        \"xlabel\": \"Timestamp\",\n",
    "        \"ylabel\": \"Value\"\n",
    "    },\n",
    "    \"PlotCorrelationHeatmap\": {\n",
    "        \"df_of_series\": sig[['P-ANULAR', 'P-JUS-CKGL', 'P-MON-CKP', 'P-TPT', 'T-JUS-CKP', 'T-TPT']],\n",
    "        \"title\": \"Correlation Heatmap of Selected Features\"\n",
    "    }\n",
    "}\n",
    "\n",
    "title = \"3WToolkit Signal Analysis Report\"\n",
    "\n",
    "report_generation = ReportGeneration(\n",
    "    model=model,\n",
    "    X_train=X_train, y_train=y_train,\n",
    "    X_test=X_test, y_test=y_test,\n",
    "    predictions=predictions,\n",
    "    calculated_metrics=calculated_metrics,\n",
    "    plot_config=plots_config,\n",
    "    title=title,\n",
    "    author=author,\n",
    "    export_report_after_generate=False\n",
    ")\n",
    "\n",
    "html_report = report_generation.generate_summary_report(template_name=\"report_template.html\", format=\"html\")\n",
    "latex_report = report_generation.generate_summary_report(format=\"latex\")\n",
    "\n",
    "report_generation.save_report(html_report, \"signal_analysis_report\", format=\"html\")\n",
    "report_generation.save_report(latex_report, \"signal_analysis_report\", format=\"latex\")"
   ]
  },
  {
   "cell_type": "markdown",
   "metadata": {},
   "source": [
    "### Export to CSV\n",
    "\n",
    "The 3WToolkit also allows for easy exporting of data, such as model predictions and evaluation results, to CSV format. This is useful for external analysis, sharing, or integration with other data processing pipelines. In this section, we will demonstrate how to save the evaluation results to a CSV file."
   ]
  },
  {
   "cell_type": "code",
   "execution_count": 60,
   "metadata": {},
   "outputs": [
    {
     "name": "stdout",
     "output_type": "stream",
     "text": [
      "Exporting results to 'model_results.csv'...\n",
      "Successfully exported results to '/home/pedro/Workspace/UFRJ/3W/3WToolkit/output/reports/report-3WToolkit Signal Analysis Report/model_results.csv'.\n"
     ]
    },
    {
     "data": {
      "text/html": [
       "<div>\n",
       "<style scoped>\n",
       "    .dataframe tbody tr th:only-of-type {\n",
       "        vertical-align: middle;\n",
       "    }\n",
       "\n",
       "    .dataframe tbody tr th {\n",
       "        vertical-align: top;\n",
       "    }\n",
       "\n",
       "    .dataframe thead th {\n",
       "        text-align: right;\n",
       "    }\n",
       "</style>\n",
       "<table border=\"1\" class=\"dataframe\">\n",
       "  <thead>\n",
       "    <tr style=\"text-align: right;\">\n",
       "      <th></th>\n",
       "      <th>feature_1</th>\n",
       "      <th>feature_2</th>\n",
       "      <th>feature_3</th>\n",
       "      <th>feature_4</th>\n",
       "      <th>feature_5</th>\n",
       "      <th>feature_6</th>\n",
       "      <th>feature_7</th>\n",
       "      <th>feature_8</th>\n",
       "      <th>feature_9</th>\n",
       "      <th>feature_10</th>\n",
       "      <th>...</th>\n",
       "      <th>feature_98</th>\n",
       "      <th>feature_99</th>\n",
       "      <th>feature_100</th>\n",
       "      <th>true_values</th>\n",
       "      <th>predictions</th>\n",
       "      <th>model_name</th>\n",
       "      <th>balanced_accuracy</th>\n",
       "      <th>precision</th>\n",
       "      <th>recall</th>\n",
       "      <th>f1</th>\n",
       "    </tr>\n",
       "  </thead>\n",
       "  <tbody>\n",
       "    <tr>\n",
       "      <th>0</th>\n",
       "      <td>0.0</td>\n",
       "      <td>0.000669</td>\n",
       "      <td>0.002674</td>\n",
       "      <td>0.006006</td>\n",
       "      <td>0.010652</td>\n",
       "      <td>0.016594</td>\n",
       "      <td>0.023809</td>\n",
       "      <td>0.032268</td>\n",
       "      <td>0.041937</td>\n",
       "      <td>0.052779</td>\n",
       "      <td>...</td>\n",
       "      <td>0.006003</td>\n",
       "      <td>0.002672</td>\n",
       "      <td>0.000669</td>\n",
       "      <td>0</td>\n",
       "      <td>0</td>\n",
       "      <td>MLP</td>\n",
       "      <td>0.943953</td>\n",
       "      <td>0.968138</td>\n",
       "      <td>0.967158</td>\n",
       "      <td>0.966959</td>\n",
       "    </tr>\n",
       "    <tr>\n",
       "      <th>1</th>\n",
       "      <td>0.0</td>\n",
       "      <td>0.000669</td>\n",
       "      <td>0.002673</td>\n",
       "      <td>0.006004</td>\n",
       "      <td>0.010650</td>\n",
       "      <td>0.016591</td>\n",
       "      <td>0.023804</td>\n",
       "      <td>0.032261</td>\n",
       "      <td>0.041928</td>\n",
       "      <td>0.052768</td>\n",
       "      <td>...</td>\n",
       "      <td>0.006002</td>\n",
       "      <td>0.002672</td>\n",
       "      <td>0.000669</td>\n",
       "      <td>0</td>\n",
       "      <td>0</td>\n",
       "      <td>MLP</td>\n",
       "      <td>0.943953</td>\n",
       "      <td>0.968138</td>\n",
       "      <td>0.967158</td>\n",
       "      <td>0.966959</td>\n",
       "    </tr>\n",
       "    <tr>\n",
       "      <th>2</th>\n",
       "      <td>0.0</td>\n",
       "      <td>0.000669</td>\n",
       "      <td>0.002672</td>\n",
       "      <td>0.006003</td>\n",
       "      <td>0.010647</td>\n",
       "      <td>0.016587</td>\n",
       "      <td>0.023799</td>\n",
       "      <td>0.032254</td>\n",
       "      <td>0.041919</td>\n",
       "      <td>0.052756</td>\n",
       "      <td>...</td>\n",
       "      <td>0.006000</td>\n",
       "      <td>0.002671</td>\n",
       "      <td>0.000668</td>\n",
       "      <td>0</td>\n",
       "      <td>0</td>\n",
       "      <td>MLP</td>\n",
       "      <td>0.943953</td>\n",
       "      <td>0.968138</td>\n",
       "      <td>0.967158</td>\n",
       "      <td>0.966959</td>\n",
       "    </tr>\n",
       "    <tr>\n",
       "      <th>3</th>\n",
       "      <td>0.0</td>\n",
       "      <td>0.000669</td>\n",
       "      <td>0.002672</td>\n",
       "      <td>0.006002</td>\n",
       "      <td>0.010645</td>\n",
       "      <td>0.016583</td>\n",
       "      <td>0.023793</td>\n",
       "      <td>0.032247</td>\n",
       "      <td>0.041910</td>\n",
       "      <td>0.052745</td>\n",
       "      <td>...</td>\n",
       "      <td>0.005999</td>\n",
       "      <td>0.002671</td>\n",
       "      <td>0.000668</td>\n",
       "      <td>0</td>\n",
       "      <td>0</td>\n",
       "      <td>MLP</td>\n",
       "      <td>0.943953</td>\n",
       "      <td>0.968138</td>\n",
       "      <td>0.967158</td>\n",
       "      <td>0.966959</td>\n",
       "    </tr>\n",
       "    <tr>\n",
       "      <th>4</th>\n",
       "      <td>0.0</td>\n",
       "      <td>0.000668</td>\n",
       "      <td>0.002671</td>\n",
       "      <td>0.006000</td>\n",
       "      <td>0.010643</td>\n",
       "      <td>0.016580</td>\n",
       "      <td>0.023788</td>\n",
       "      <td>0.032240</td>\n",
       "      <td>0.041901</td>\n",
       "      <td>0.052733</td>\n",
       "      <td>...</td>\n",
       "      <td>0.005998</td>\n",
       "      <td>0.002670</td>\n",
       "      <td>0.000668</td>\n",
       "      <td>0</td>\n",
       "      <td>0</td>\n",
       "      <td>MLP</td>\n",
       "      <td>0.943953</td>\n",
       "      <td>0.968138</td>\n",
       "      <td>0.967158</td>\n",
       "      <td>0.966959</td>\n",
       "    </tr>\n",
       "  </tbody>\n",
       "</table>\n",
       "<p>5 rows × 107 columns</p>\n",
       "</div>"
      ],
      "text/plain": [
       "   feature_1  feature_2  feature_3  feature_4  feature_5  feature_6  \\\n",
       "0        0.0   0.000669   0.002674   0.006006   0.010652   0.016594   \n",
       "1        0.0   0.000669   0.002673   0.006004   0.010650   0.016591   \n",
       "2        0.0   0.000669   0.002672   0.006003   0.010647   0.016587   \n",
       "3        0.0   0.000669   0.002672   0.006002   0.010645   0.016583   \n",
       "4        0.0   0.000668   0.002671   0.006000   0.010643   0.016580   \n",
       "\n",
       "   feature_7  feature_8  feature_9  feature_10  ...  feature_98  feature_99  \\\n",
       "0   0.023809   0.032268   0.041937    0.052779  ...    0.006003    0.002672   \n",
       "1   0.023804   0.032261   0.041928    0.052768  ...    0.006002    0.002672   \n",
       "2   0.023799   0.032254   0.041919    0.052756  ...    0.006000    0.002671   \n",
       "3   0.023793   0.032247   0.041910    0.052745  ...    0.005999    0.002671   \n",
       "4   0.023788   0.032240   0.041901    0.052733  ...    0.005998    0.002670   \n",
       "\n",
       "   feature_100  true_values  predictions  model_name  balanced_accuracy  \\\n",
       "0     0.000669            0            0         MLP           0.943953   \n",
       "1     0.000669            0            0         MLP           0.943953   \n",
       "2     0.000668            0            0         MLP           0.943953   \n",
       "3     0.000668            0            0         MLP           0.943953   \n",
       "4     0.000668            0            0         MLP           0.943953   \n",
       "\n",
       "   precision    recall        f1  \n",
       "0   0.968138  0.967158  0.966959  \n",
       "1   0.968138  0.967158  0.966959  \n",
       "2   0.968138  0.967158  0.966959  \n",
       "3   0.968138  0.967158  0.966959  \n",
       "4   0.968138  0.967158  0.966959  \n",
       "\n",
       "[5 rows x 107 columns]"
      ]
     },
     "execution_count": 60,
     "metadata": {},
     "output_type": "execute_result"
    }
   ],
   "source": [
    "df_results = report_generation.export_results_to_csv(results, filename=\"model_results.csv\")\n",
    "df_results.head()"
   ]
  }
 ],
 "metadata": {
  "kernelspec": {
   "display_name": "three_w",
   "language": "python",
   "name": "python3"
  },
  "language_info": {
   "codemirror_mode": {
    "name": "ipython",
    "version": 3
   },
   "file_extension": ".py",
   "mimetype": "text/x-python",
   "name": "python",
   "nbconvert_exporter": "python",
   "pygments_lexer": "ipython3",
   "version": "3.10.11"
  }
 },
 "nbformat": 4,
 "nbformat_minor": 2
}
