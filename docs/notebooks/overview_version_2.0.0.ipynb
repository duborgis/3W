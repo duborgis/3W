{
 "cells": [
  {
   "cell_type": "markdown",
   "metadata": {},
   "source": [
    "# 3W Toolkit"
   ]
  },
  {
   "cell_type": "markdown",
   "metadata": {},
   "source": [
    "**Version:** 2.0.0  \n",
    "**Authors:** Bruno Coelho Martins, Carla Pagliari, Eduardo A. B. Silva, Eduardo Henrique, Fernanda Duarte Vilela Reis de Oliveira, Gabriel Henrique Braga Lisboa, Luiza Helena de Andrade Leite, Marcello Campos, Matheus Ferreira Espirito Santo, Matheus Ramos Parracho, Natanael Moura Junior, Pedro Braga Lisboa, Rafael Padilla, Sergio Lima Netto, Thadeu Luiz Barbosa Dias, Umberto Augusto.  \n",
    "**Description:** Demonstrative notebook with the main functions of *3W Toolkit*.\n"
   ]
  },
  {
   "cell_type": "markdown",
   "metadata": {},
   "source": [
    "----"
   ]
  },
  {
   "cell_type": "markdown",
   "metadata": {},
   "source": [
    "## Table of Contents 📑\n",
    "\n",
    "1. 🚀 Introduction to 3WToolkit v2.0.0  \n",
    "   1.1. Installing with `pip install`  \n",
    "   1.2. Cloning & Installing  \n",
    "   1.3. Forking & Installing  \n",
    "   1.4. Using Anaconda Navigator  \n",
    "   1.5. Using `conda`  \n",
    "   1.6. Installing with `poetry`  \n",
    "\n",
    "2. 📂 Dataset 3W   \n",
    "   2.1. Downloading the Dataset    \n",
    "   2.2. Filtering & Exploring the Data   \n",
    "   2.3 Cleaning the dataset   \n",
    "\n",
    "3. ⚙️ Preprocessing   \n",
    "   3.1 Handling missing values (Imputation)  \n",
    "   3.2 Normalization  \n",
    "   3.3 Windowing  \n",
    "   3.4 Renaming columns  \n",
    "\n",
    "4. 🔎 Feature Extraction  \n",
    "   4.1 Statistical Feature Extraction  \n",
    "   4.2 Wavelet Feature Extraction  \n",
    "   4.3 Exponentially Weighted Statistical Feature Extraction  \n",
    "\n",
    "5. 📊 Exploratory Analysis  \n",
    "   5.1. Visualizing Time Series  \n",
    "\n",
    "6. 🤖 Model Training and Evaluation\n",
    "\n"
   ]
  },
  {
   "cell_type": "markdown",
   "metadata": {},
   "source": [
    "----"
   ]
  },
  {
   "cell_type": "markdown",
   "metadata": {},
   "source": [
    "## 🚀 1. Introduction to 3WToolkit Version 2.0.0\n",
    "\n",
    "The **3WToolkit version 2.0.0** is a **modular** and **open-source Artificial Intelligence (AI) toolkit** for **time series processing**, designed for **fault detection and classification** in the operation of **oil wells**.\n",
    "\n",
    "Based on the experience with the original **3W Toolkit** system and using the [**3W dataset from Petrobras**](https://github.com/petrobras/3W/), the 3W Toolkit version 2.0.0 offers enhanced features such as:\n",
    "\n",
    "- **Advanced data imputation**\n",
    "- **Deep feature extraction**\n",
    "- **Synthetic data augmentation**\n",
    "- **High-performance computing capabilities** for model training"
   ]
  },
  {
   "cell_type": "markdown",
   "metadata": {},
   "source": [
    "Please find bellow different ways to install the **3WToolkit** project hosted on GitHub: https://github.com/petrobras/3W."
   ]
  },
  {
   "cell_type": "markdown",
   "metadata": {},
   "source": [
    "------"
   ]
  },
  {
   "cell_type": "markdown",
   "metadata": {},
   "source": [
    "### 1.1 Installation with `pip install`\n",
    "\n",
    "```bash\n",
    "pip install git+https://github.com/petrobras/3W.git\n",
    "```"
   ]
  },
  {
   "cell_type": "markdown",
   "metadata": {},
   "source": [
    "------"
   ]
  },
  {
   "cell_type": "markdown",
   "metadata": {},
   "source": [
    "### 1.2. Cloning and installing\n",
    "\n",
    "\n",
    "```bash\n",
    "git clone https://github.com/petrobras/3W.git\n",
    "cd 3WToolkit\n",
    "pip install .\n",
    "```\n",
    "\n",
    "For editable/development install (`-e` installs it in editable/development mode, useful for contributing back to the original project via pull requests)"
   ]
  },
  {
   "cell_type": "markdown",
   "metadata": {},
   "source": [
    "The 3W toolkit v.2.0.0 can be downloaded or cloned from the official repository [https://github.com/petrobras/3W](https://github.com/petrobras/3W) or can be installed via `pip install ThreeWtoolkit`"
   ]
  },
  {
   "cell_type": "markdown",
   "metadata": {},
   "source": [
    "------"
   ]
  },
  {
   "cell_type": "markdown",
   "metadata": {},
   "source": [
    "### 1.3. Forking and installing \n",
    "\n",
    "\n",
    "1. Fork the repository on GitHub https://github.com/petrobras/3W (button **Fork**).\n",
    "2. Clone **your fork**:\n",
    "\n",
    "```bash\n",
    "git clone https://github.com/your-username/3W.git\n",
    "cd 3WToolkit\n",
    "pip install -e .\n",
    "```\n"
   ]
  },
  {
   "cell_type": "markdown",
   "metadata": {},
   "source": [
    "------"
   ]
  },
  {
   "cell_type": "markdown",
   "metadata": {},
   "source": [
    "\n",
    "### 1.4 Using **Anaconda Navigator**\n",
    "\n",
    "1. Open **Anaconda Navigator**.  \n",
    "2. Go to **Environments → Create → New environment**.  \n",
    "3. Open a terminal inside that environment.  \n",
    "4. Install from GitHub with `pip`:\n",
    "\n",
    "```bash\n",
    "pip install git+https://github.com/petrobras/3W.git\n",
    "```"
   ]
  },
  {
   "cell_type": "markdown",
   "metadata": {},
   "source": [
    "------"
   ]
  },
  {
   "cell_type": "markdown",
   "metadata": {},
   "source": [
    "\n",
    "### 1.5. Using `conda`\n",
    "\n",
    "\n",
    "If there is an environment.yml file:\n",
    "\n",
    "```bash\n",
    "git clone https://github.com/petrobras/3W.git\n",
    "cd 3WToolkit\n",
    "conda env create -f environment.yml\n",
    "conda activate 3WToolkit\n",
    "```\n",
    "\n",
    "If not, you can still use `pip` inside a conda environment:\n",
    "\n",
    "```bash\n",
    "conda create -n myenv python=3.10\n",
    "conda activate myenv\n",
    "pip install git+https://github.com/petrobras/3W.git\n",
    "```"
   ]
  },
  {
   "cell_type": "markdown",
   "metadata": {},
   "source": [
    "------"
   ]
  },
  {
   "cell_type": "markdown",
   "metadata": {},
   "source": [
    "### 1.6 Installing with `poetry`\n",
    "\n",
    "Add directly from GitHub: demands file `pyproject.toml` and Poetry:\n",
    "```bash\n",
    "poetry add git+https://github.com/petrobras/3W.git\n",
    "```\n",
    "\n",
    "For local development:\n",
    "```bash\n",
    "poetry add ./local/path/to/3W\n",
    "```\n",
    "\n",
    "Using clone:\n",
    "```bash\n",
    "git clone https://github.com/petrobras/3W.git\n",
    "cd 3W\n",
    "poetry install\n",
    "```"
   ]
  },
  {
   "cell_type": "markdown",
   "metadata": {},
   "source": [
    "### Imports"
   ]
  },
  {
   "cell_type": "markdown",
   "metadata": {},
   "source": [
    "**Adaptation to recognize the project root. For demonstration purposes only.**"
   ]
  },
  {
   "cell_type": "code",
   "execution_count": 1,
   "metadata": {},
   "outputs": [],
   "source": [
    "import sys\n",
    "import os\n",
    "\n",
    "# Adds the root directory to sys.path\n",
    "sys.path.append(os.path.abspath(os.path.join(os.getcwd(), '../../')))"
   ]
  },
  {
   "cell_type": "markdown",
   "metadata": {},
   "source": [
    "**Required**"
   ]
  },
  {
   "cell_type": "code",
   "execution_count": 2,
   "metadata": {},
   "outputs": [],
   "source": [
    "import numpy as np\n",
    "import pandas as pd\n",
    "\n",
    "# Importing ParquetDataset to download and load dataset\n",
    "from ThreeWToolkit.core.base_dataset import ParquetDatasetConfig\n",
    "from ThreeWToolkit.dataset import ParquetDataset\n",
    "from ThreeWToolkit.core.enums import EventPrefixEnum\n",
    "# Apply mean imputation\n",
    "from ThreeWToolkit.preprocessing import (\n",
    "    impute_missing_data, \n",
    "    normalize, \n",
    "    windowing,\n",
    "    rename_columns\n",
    ")\n",
    "from ThreeWToolkit.feature_extraction import (\n",
    "    extract_wavelet_features,\n",
    "    extract_statistical_features,\n",
    "    extract_exponential_statistics_features\n",
    ")\n",
    "from ThreeWToolkit.data_visualization import (\n",
    "    DataVisualization, \n",
    "    PlotMultipleSeries, \n",
    "    PlotCorrelationHeatmap\n",
    ")\n",
    "\n",
    "from pathlib import Path"
   ]
  },
  {
   "cell_type": "markdown",
   "metadata": {},
   "source": [
    "-----"
   ]
  },
  {
   "cell_type": "markdown",
   "metadata": {},
   "source": [
    "## 📂 2. Dataset 3W\n",
    "\n",
    "* **Format**: Tabular, split into files in parquet format\n",
    "* **Hosted** on: 3W Dataset 2.0.0 - Figshare\n",
    "* **Size**: 1.67 GB\n",
    "* **Splits**: 10 folders with parquet files, one folder for each event.\n",
    "* **License** & Usage: Apache 2.0"
   ]
  },
  {
   "cell_type": "markdown",
   "metadata": {},
   "source": [
    "### 2.1 Downloading the Dataset"
   ]
  },
  {
   "cell_type": "markdown",
   "metadata": {},
   "source": [
    "Let’s download the dataset using the 3W library:"
   ]
  },
  {
   "cell_type": "code",
   "execution_count": 3,
   "metadata": {},
   "outputs": [
    {
     "name": "stdout",
     "output_type": "stream",
     "text": [
      "[ParquetDataset] Found existing dataset at /data/3w_dataset/download.\n",
      "[ParquetDataset] Dataset already extracted at /data/3w_dataset.\n"
     ]
    },
    {
     "data": {
      "text/plain": [
       "2228"
      ]
     },
     "execution_count": 3,
     "metadata": {},
     "output_type": "execute_result"
    }
   ],
   "source": [
    "# define path\n",
    "dataset_path = Path(\"/data/3w_dataset/\")\n",
    "\n",
    "# create and load\n",
    "ds_config = ParquetDatasetConfig(path=dataset_path, clean_data=False, download=True)\n",
    "ds = ParquetDataset(ds_config)\n",
    "len(ds)"
   ]
  },
  {
   "cell_type": "markdown",
   "metadata": {},
   "source": [
    "### 2.2 Filtering & Exploring the Data"
   ]
  },
  {
   "cell_type": "code",
   "execution_count": 4,
   "metadata": {},
   "outputs": [
    {
     "data": {
      "text/plain": [
       "2228"
      ]
     },
     "execution_count": 4,
     "metadata": {},
     "output_type": "execute_result"
    }
   ],
   "source": [
    "# Count events\n",
    "total_events = len(ds)\n",
    "total_events"
   ]
  },
  {
   "cell_type": "markdown",
   "metadata": {},
   "source": [
    "Each event is a dict containing: \"signal\" and \"label\""
   ]
  },
  {
   "cell_type": "code",
   "execution_count": 5,
   "metadata": {},
   "outputs": [
    {
     "data": {
      "text/plain": [
       "dict"
      ]
     },
     "execution_count": 5,
     "metadata": {},
     "output_type": "execute_result"
    }
   ],
   "source": [
    "event_id = 0\n",
    "type(ds[event_id])"
   ]
  },
  {
   "cell_type": "code",
   "execution_count": 6,
   "metadata": {},
   "outputs": [
    {
     "data": {
      "text/plain": [
       "dict_keys(['signal', 'label', 'file_name'])"
      ]
     },
     "execution_count": 6,
     "metadata": {},
     "output_type": "execute_result"
    }
   ],
   "source": [
    "ds[event_id].keys()"
   ]
  },
  {
   "cell_type": "markdown",
   "metadata": {},
   "source": [
    "Lets check the \"signal\":"
   ]
  },
  {
   "cell_type": "code",
   "execution_count": 7,
   "metadata": {},
   "outputs": [
    {
     "data": {
      "text/html": [
       "<div>\n",
       "<style scoped>\n",
       "    .dataframe tbody tr th:only-of-type {\n",
       "        vertical-align: middle;\n",
       "    }\n",
       "\n",
       "    .dataframe tbody tr th {\n",
       "        vertical-align: top;\n",
       "    }\n",
       "\n",
       "    .dataframe thead th {\n",
       "        text-align: right;\n",
       "    }\n",
       "</style>\n",
       "<table border=\"1\" class=\"dataframe\">\n",
       "  <thead>\n",
       "    <tr style=\"text-align: right;\">\n",
       "      <th></th>\n",
       "      <th>ABER-CKGL</th>\n",
       "      <th>ABER-CKP</th>\n",
       "      <th>ESTADO-DHSV</th>\n",
       "      <th>ESTADO-M1</th>\n",
       "      <th>ESTADO-M2</th>\n",
       "      <th>ESTADO-PXO</th>\n",
       "      <th>ESTADO-SDV-GL</th>\n",
       "      <th>ESTADO-SDV-P</th>\n",
       "      <th>ESTADO-W1</th>\n",
       "      <th>ESTADO-W2</th>\n",
       "      <th>...</th>\n",
       "      <th>P-PDG</th>\n",
       "      <th>PT-P</th>\n",
       "      <th>P-TPT</th>\n",
       "      <th>QBS</th>\n",
       "      <th>QGL</th>\n",
       "      <th>T-JUS-CKP</th>\n",
       "      <th>T-MON-CKP</th>\n",
       "      <th>T-PDG</th>\n",
       "      <th>T-TPT</th>\n",
       "      <th>state</th>\n",
       "    </tr>\n",
       "    <tr>\n",
       "      <th>timestamp</th>\n",
       "      <th></th>\n",
       "      <th></th>\n",
       "      <th></th>\n",
       "      <th></th>\n",
       "      <th></th>\n",
       "      <th></th>\n",
       "      <th></th>\n",
       "      <th></th>\n",
       "      <th></th>\n",
       "      <th></th>\n",
       "      <th></th>\n",
       "      <th></th>\n",
       "      <th></th>\n",
       "      <th></th>\n",
       "      <th></th>\n",
       "      <th></th>\n",
       "      <th></th>\n",
       "      <th></th>\n",
       "      <th></th>\n",
       "      <th></th>\n",
       "      <th></th>\n",
       "    </tr>\n",
       "  </thead>\n",
       "  <tbody>\n",
       "    <tr>\n",
       "      <th>2018-09-05 20:44:36</th>\n",
       "      <td>NaN</td>\n",
       "      <td>NaN</td>\n",
       "      <td>NaN</td>\n",
       "      <td>NaN</td>\n",
       "      <td>NaN</td>\n",
       "      <td>NaN</td>\n",
       "      <td>NaN</td>\n",
       "      <td>NaN</td>\n",
       "      <td>NaN</td>\n",
       "      <td>NaN</td>\n",
       "      <td>...</td>\n",
       "      <td>420.2314</td>\n",
       "      <td>NaN</td>\n",
       "      <td>175.340600</td>\n",
       "      <td>NaN</td>\n",
       "      <td>NaN</td>\n",
       "      <td>66.75450</td>\n",
       "      <td>NaN</td>\n",
       "      <td>NaN</td>\n",
       "      <td>114.890700</td>\n",
       "      <td>0</td>\n",
       "    </tr>\n",
       "    <tr>\n",
       "      <th>2018-09-05 20:44:37</th>\n",
       "      <td>NaN</td>\n",
       "      <td>NaN</td>\n",
       "      <td>NaN</td>\n",
       "      <td>NaN</td>\n",
       "      <td>NaN</td>\n",
       "      <td>NaN</td>\n",
       "      <td>NaN</td>\n",
       "      <td>NaN</td>\n",
       "      <td>NaN</td>\n",
       "      <td>NaN</td>\n",
       "      <td>...</td>\n",
       "      <td>420.2314</td>\n",
       "      <td>NaN</td>\n",
       "      <td>175.340600</td>\n",
       "      <td>NaN</td>\n",
       "      <td>NaN</td>\n",
       "      <td>66.75450</td>\n",
       "      <td>NaN</td>\n",
       "      <td>NaN</td>\n",
       "      <td>114.890700</td>\n",
       "      <td>0</td>\n",
       "    </tr>\n",
       "    <tr>\n",
       "      <th>2018-09-05 20:44:38</th>\n",
       "      <td>NaN</td>\n",
       "      <td>NaN</td>\n",
       "      <td>NaN</td>\n",
       "      <td>NaN</td>\n",
       "      <td>NaN</td>\n",
       "      <td>NaN</td>\n",
       "      <td>NaN</td>\n",
       "      <td>NaN</td>\n",
       "      <td>NaN</td>\n",
       "      <td>NaN</td>\n",
       "      <td>...</td>\n",
       "      <td>420.2314</td>\n",
       "      <td>NaN</td>\n",
       "      <td>175.340600</td>\n",
       "      <td>NaN</td>\n",
       "      <td>NaN</td>\n",
       "      <td>66.75450</td>\n",
       "      <td>NaN</td>\n",
       "      <td>NaN</td>\n",
       "      <td>114.890700</td>\n",
       "      <td>0</td>\n",
       "    </tr>\n",
       "    <tr>\n",
       "      <th>2018-09-05 20:44:39</th>\n",
       "      <td>NaN</td>\n",
       "      <td>NaN</td>\n",
       "      <td>NaN</td>\n",
       "      <td>NaN</td>\n",
       "      <td>NaN</td>\n",
       "      <td>NaN</td>\n",
       "      <td>NaN</td>\n",
       "      <td>NaN</td>\n",
       "      <td>NaN</td>\n",
       "      <td>NaN</td>\n",
       "      <td>...</td>\n",
       "      <td>420.2314</td>\n",
       "      <td>NaN</td>\n",
       "      <td>175.340600</td>\n",
       "      <td>NaN</td>\n",
       "      <td>NaN</td>\n",
       "      <td>66.75450</td>\n",
       "      <td>NaN</td>\n",
       "      <td>NaN</td>\n",
       "      <td>114.890700</td>\n",
       "      <td>0</td>\n",
       "    </tr>\n",
       "    <tr>\n",
       "      <th>2018-09-05 20:44:40</th>\n",
       "      <td>NaN</td>\n",
       "      <td>NaN</td>\n",
       "      <td>NaN</td>\n",
       "      <td>NaN</td>\n",
       "      <td>NaN</td>\n",
       "      <td>NaN</td>\n",
       "      <td>NaN</td>\n",
       "      <td>NaN</td>\n",
       "      <td>NaN</td>\n",
       "      <td>NaN</td>\n",
       "      <td>...</td>\n",
       "      <td>420.2314</td>\n",
       "      <td>NaN</td>\n",
       "      <td>175.340600</td>\n",
       "      <td>NaN</td>\n",
       "      <td>NaN</td>\n",
       "      <td>66.75450</td>\n",
       "      <td>NaN</td>\n",
       "      <td>NaN</td>\n",
       "      <td>114.890700</td>\n",
       "      <td>0</td>\n",
       "    </tr>\n",
       "    <tr>\n",
       "      <th>...</th>\n",
       "      <td>...</td>\n",
       "      <td>...</td>\n",
       "      <td>...</td>\n",
       "      <td>...</td>\n",
       "      <td>...</td>\n",
       "      <td>...</td>\n",
       "      <td>...</td>\n",
       "      <td>...</td>\n",
       "      <td>...</td>\n",
       "      <td>...</td>\n",
       "      <td>...</td>\n",
       "      <td>...</td>\n",
       "      <td>...</td>\n",
       "      <td>...</td>\n",
       "      <td>...</td>\n",
       "      <td>...</td>\n",
       "      <td>...</td>\n",
       "      <td>...</td>\n",
       "      <td>...</td>\n",
       "      <td>...</td>\n",
       "      <td>...</td>\n",
       "    </tr>\n",
       "    <tr>\n",
       "      <th>2018-09-07 20:44:31</th>\n",
       "      <td>NaN</td>\n",
       "      <td>NaN</td>\n",
       "      <td>NaN</td>\n",
       "      <td>NaN</td>\n",
       "      <td>NaN</td>\n",
       "      <td>NaN</td>\n",
       "      <td>NaN</td>\n",
       "      <td>NaN</td>\n",
       "      <td>NaN</td>\n",
       "      <td>NaN</td>\n",
       "      <td>...</td>\n",
       "      <td>429.8329</td>\n",
       "      <td>NaN</td>\n",
       "      <td>60.136751</td>\n",
       "      <td>NaN</td>\n",
       "      <td>NaN</td>\n",
       "      <td>31.27121</td>\n",
       "      <td>NaN</td>\n",
       "      <td>NaN</td>\n",
       "      <td>8.354756</td>\n",
       "      <td>0</td>\n",
       "    </tr>\n",
       "    <tr>\n",
       "      <th>2018-09-07 20:44:32</th>\n",
       "      <td>NaN</td>\n",
       "      <td>NaN</td>\n",
       "      <td>NaN</td>\n",
       "      <td>NaN</td>\n",
       "      <td>NaN</td>\n",
       "      <td>NaN</td>\n",
       "      <td>NaN</td>\n",
       "      <td>NaN</td>\n",
       "      <td>NaN</td>\n",
       "      <td>NaN</td>\n",
       "      <td>...</td>\n",
       "      <td>429.8329</td>\n",
       "      <td>NaN</td>\n",
       "      <td>60.137893</td>\n",
       "      <td>NaN</td>\n",
       "      <td>NaN</td>\n",
       "      <td>31.27121</td>\n",
       "      <td>NaN</td>\n",
       "      <td>NaN</td>\n",
       "      <td>8.354756</td>\n",
       "      <td>0</td>\n",
       "    </tr>\n",
       "    <tr>\n",
       "      <th>2018-09-07 20:44:33</th>\n",
       "      <td>NaN</td>\n",
       "      <td>NaN</td>\n",
       "      <td>NaN</td>\n",
       "      <td>NaN</td>\n",
       "      <td>NaN</td>\n",
       "      <td>NaN</td>\n",
       "      <td>NaN</td>\n",
       "      <td>NaN</td>\n",
       "      <td>NaN</td>\n",
       "      <td>NaN</td>\n",
       "      <td>...</td>\n",
       "      <td>429.8329</td>\n",
       "      <td>NaN</td>\n",
       "      <td>60.139036</td>\n",
       "      <td>NaN</td>\n",
       "      <td>NaN</td>\n",
       "      <td>31.27121</td>\n",
       "      <td>NaN</td>\n",
       "      <td>NaN</td>\n",
       "      <td>8.354756</td>\n",
       "      <td>0</td>\n",
       "    </tr>\n",
       "    <tr>\n",
       "      <th>2018-09-07 20:44:34</th>\n",
       "      <td>NaN</td>\n",
       "      <td>NaN</td>\n",
       "      <td>NaN</td>\n",
       "      <td>NaN</td>\n",
       "      <td>NaN</td>\n",
       "      <td>NaN</td>\n",
       "      <td>NaN</td>\n",
       "      <td>NaN</td>\n",
       "      <td>NaN</td>\n",
       "      <td>NaN</td>\n",
       "      <td>...</td>\n",
       "      <td>429.8329</td>\n",
       "      <td>NaN</td>\n",
       "      <td>60.140179</td>\n",
       "      <td>NaN</td>\n",
       "      <td>NaN</td>\n",
       "      <td>31.27121</td>\n",
       "      <td>NaN</td>\n",
       "      <td>NaN</td>\n",
       "      <td>8.354756</td>\n",
       "      <td>0</td>\n",
       "    </tr>\n",
       "    <tr>\n",
       "      <th>2018-09-07 20:44:35</th>\n",
       "      <td>NaN</td>\n",
       "      <td>NaN</td>\n",
       "      <td>NaN</td>\n",
       "      <td>NaN</td>\n",
       "      <td>NaN</td>\n",
       "      <td>NaN</td>\n",
       "      <td>NaN</td>\n",
       "      <td>NaN</td>\n",
       "      <td>NaN</td>\n",
       "      <td>NaN</td>\n",
       "      <td>...</td>\n",
       "      <td>429.8329</td>\n",
       "      <td>NaN</td>\n",
       "      <td>60.141321</td>\n",
       "      <td>NaN</td>\n",
       "      <td>NaN</td>\n",
       "      <td>31.27121</td>\n",
       "      <td>NaN</td>\n",
       "      <td>NaN</td>\n",
       "      <td>8.354756</td>\n",
       "      <td>0</td>\n",
       "    </tr>\n",
       "  </tbody>\n",
       "</table>\n",
       "<p>172800 rows × 28 columns</p>\n",
       "</div>"
      ],
      "text/plain": [
       "                     ABER-CKGL  ABER-CKP  ESTADO-DHSV  ESTADO-M1  ESTADO-M2  \\\n",
       "timestamp                                                                     \n",
       "2018-09-05 20:44:36        NaN       NaN          NaN        NaN        NaN   \n",
       "2018-09-05 20:44:37        NaN       NaN          NaN        NaN        NaN   \n",
       "2018-09-05 20:44:38        NaN       NaN          NaN        NaN        NaN   \n",
       "2018-09-05 20:44:39        NaN       NaN          NaN        NaN        NaN   \n",
       "2018-09-05 20:44:40        NaN       NaN          NaN        NaN        NaN   \n",
       "...                        ...       ...          ...        ...        ...   \n",
       "2018-09-07 20:44:31        NaN       NaN          NaN        NaN        NaN   \n",
       "2018-09-07 20:44:32        NaN       NaN          NaN        NaN        NaN   \n",
       "2018-09-07 20:44:33        NaN       NaN          NaN        NaN        NaN   \n",
       "2018-09-07 20:44:34        NaN       NaN          NaN        NaN        NaN   \n",
       "2018-09-07 20:44:35        NaN       NaN          NaN        NaN        NaN   \n",
       "\n",
       "                     ESTADO-PXO  ESTADO-SDV-GL  ESTADO-SDV-P  ESTADO-W1  \\\n",
       "timestamp                                                                 \n",
       "2018-09-05 20:44:36         NaN            NaN           NaN        NaN   \n",
       "2018-09-05 20:44:37         NaN            NaN           NaN        NaN   \n",
       "2018-09-05 20:44:38         NaN            NaN           NaN        NaN   \n",
       "2018-09-05 20:44:39         NaN            NaN           NaN        NaN   \n",
       "2018-09-05 20:44:40         NaN            NaN           NaN        NaN   \n",
       "...                         ...            ...           ...        ...   \n",
       "2018-09-07 20:44:31         NaN            NaN           NaN        NaN   \n",
       "2018-09-07 20:44:32         NaN            NaN           NaN        NaN   \n",
       "2018-09-07 20:44:33         NaN            NaN           NaN        NaN   \n",
       "2018-09-07 20:44:34         NaN            NaN           NaN        NaN   \n",
       "2018-09-07 20:44:35         NaN            NaN           NaN        NaN   \n",
       "\n",
       "                     ESTADO-W2  ...     P-PDG  PT-P       P-TPT  QBS  QGL  \\\n",
       "timestamp                       ...                                         \n",
       "2018-09-05 20:44:36        NaN  ...  420.2314   NaN  175.340600  NaN  NaN   \n",
       "2018-09-05 20:44:37        NaN  ...  420.2314   NaN  175.340600  NaN  NaN   \n",
       "2018-09-05 20:44:38        NaN  ...  420.2314   NaN  175.340600  NaN  NaN   \n",
       "2018-09-05 20:44:39        NaN  ...  420.2314   NaN  175.340600  NaN  NaN   \n",
       "2018-09-05 20:44:40        NaN  ...  420.2314   NaN  175.340600  NaN  NaN   \n",
       "...                        ...  ...       ...   ...         ...  ...  ...   \n",
       "2018-09-07 20:44:31        NaN  ...  429.8329   NaN   60.136751  NaN  NaN   \n",
       "2018-09-07 20:44:32        NaN  ...  429.8329   NaN   60.137893  NaN  NaN   \n",
       "2018-09-07 20:44:33        NaN  ...  429.8329   NaN   60.139036  NaN  NaN   \n",
       "2018-09-07 20:44:34        NaN  ...  429.8329   NaN   60.140179  NaN  NaN   \n",
       "2018-09-07 20:44:35        NaN  ...  429.8329   NaN   60.141321  NaN  NaN   \n",
       "\n",
       "                     T-JUS-CKP  T-MON-CKP  T-PDG       T-TPT  state  \n",
       "timestamp                                                            \n",
       "2018-09-05 20:44:36   66.75450        NaN    NaN  114.890700      0  \n",
       "2018-09-05 20:44:37   66.75450        NaN    NaN  114.890700      0  \n",
       "2018-09-05 20:44:38   66.75450        NaN    NaN  114.890700      0  \n",
       "2018-09-05 20:44:39   66.75450        NaN    NaN  114.890700      0  \n",
       "2018-09-05 20:44:40   66.75450        NaN    NaN  114.890700      0  \n",
       "...                        ...        ...    ...         ...    ...  \n",
       "2018-09-07 20:44:31   31.27121        NaN    NaN    8.354756      0  \n",
       "2018-09-07 20:44:32   31.27121        NaN    NaN    8.354756      0  \n",
       "2018-09-07 20:44:33   31.27121        NaN    NaN    8.354756      0  \n",
       "2018-09-07 20:44:34   31.27121        NaN    NaN    8.354756      0  \n",
       "2018-09-07 20:44:35   31.27121        NaN    NaN    8.354756      0  \n",
       "\n",
       "[172800 rows x 28 columns]"
      ]
     },
     "execution_count": 7,
     "metadata": {},
     "output_type": "execute_result"
    }
   ],
   "source": [
    "ds[event_id][\"signal\"]"
   ]
  },
  {
   "cell_type": "markdown",
   "metadata": {},
   "source": [
    "Let's also check the unique values in \"label\" "
   ]
  },
  {
   "cell_type": "code",
   "execution_count": 8,
   "metadata": {},
   "outputs": [
    {
     "data": {
      "text/plain": [
       "array([  0,   1, 101], dtype=int16)"
      ]
     },
     "execution_count": 8,
     "metadata": {},
     "output_type": "execute_result"
    }
   ],
   "source": [
    "np.unique(ds[0][\"label\"])"
   ]
  },
  {
   "cell_type": "code",
   "execution_count": 9,
   "metadata": {},
   "outputs": [
    {
     "data": {
      "text/html": [
       "<div>\n",
       "<style scoped>\n",
       "    .dataframe tbody tr th:only-of-type {\n",
       "        vertical-align: middle;\n",
       "    }\n",
       "\n",
       "    .dataframe tbody tr th {\n",
       "        vertical-align: top;\n",
       "    }\n",
       "\n",
       "    .dataframe thead th {\n",
       "        text-align: right;\n",
       "    }\n",
       "</style>\n",
       "<table border=\"1\" class=\"dataframe\">\n",
       "  <thead>\n",
       "    <tr style=\"text-align: right;\">\n",
       "      <th></th>\n",
       "      <th>class</th>\n",
       "    </tr>\n",
       "    <tr>\n",
       "      <th>timestamp</th>\n",
       "      <th></th>\n",
       "    </tr>\n",
       "  </thead>\n",
       "  <tbody>\n",
       "    <tr>\n",
       "      <th>2018-09-05 20:44:36</th>\n",
       "      <td>0</td>\n",
       "    </tr>\n",
       "    <tr>\n",
       "      <th>2018-09-05 20:44:37</th>\n",
       "      <td>0</td>\n",
       "    </tr>\n",
       "    <tr>\n",
       "      <th>2018-09-05 20:44:38</th>\n",
       "      <td>0</td>\n",
       "    </tr>\n",
       "    <tr>\n",
       "      <th>2018-09-05 20:44:39</th>\n",
       "      <td>0</td>\n",
       "    </tr>\n",
       "    <tr>\n",
       "      <th>2018-09-05 20:44:40</th>\n",
       "      <td>0</td>\n",
       "    </tr>\n",
       "    <tr>\n",
       "      <th>...</th>\n",
       "      <td>...</td>\n",
       "    </tr>\n",
       "    <tr>\n",
       "      <th>2018-09-07 20:44:31</th>\n",
       "      <td>1</td>\n",
       "    </tr>\n",
       "    <tr>\n",
       "      <th>2018-09-07 20:44:32</th>\n",
       "      <td>1</td>\n",
       "    </tr>\n",
       "    <tr>\n",
       "      <th>2018-09-07 20:44:33</th>\n",
       "      <td>1</td>\n",
       "    </tr>\n",
       "    <tr>\n",
       "      <th>2018-09-07 20:44:34</th>\n",
       "      <td>1</td>\n",
       "    </tr>\n",
       "    <tr>\n",
       "      <th>2018-09-07 20:44:35</th>\n",
       "      <td>1</td>\n",
       "    </tr>\n",
       "  </tbody>\n",
       "</table>\n",
       "<p>172800 rows × 1 columns</p>\n",
       "</div>"
      ],
      "text/plain": [
       "                     class\n",
       "timestamp                 \n",
       "2018-09-05 20:44:36      0\n",
       "2018-09-05 20:44:37      0\n",
       "2018-09-05 20:44:38      0\n",
       "2018-09-05 20:44:39      0\n",
       "2018-09-05 20:44:40      0\n",
       "...                    ...\n",
       "2018-09-07 20:44:31      1\n",
       "2018-09-07 20:44:32      1\n",
       "2018-09-07 20:44:33      1\n",
       "2018-09-07 20:44:34      1\n",
       "2018-09-07 20:44:35      1\n",
       "\n",
       "[172800 rows x 1 columns]"
      ]
     },
     "execution_count": 9,
     "metadata": {},
     "output_type": "execute_result"
    }
   ],
   "source": [
    "ds[0][\"label\"]"
   ]
  },
  {
   "cell_type": "markdown",
   "metadata": {},
   "source": [
    "Its also possible to filter/split the dataset using different methods:"
   ]
  },
  {
   "cell_type": "markdown",
   "metadata": {},
   "source": [
    "#### Split by event type:"
   ]
  },
  {
   "cell_type": "markdown",
   "metadata": {},
   "source": [
    "Lets, as an example select only DRAWN and SIMULATED event types:"
   ]
  },
  {
   "cell_type": "code",
   "execution_count": 10,
   "metadata": {},
   "outputs": [
    {
     "data": {
      "text/plain": [
       "1109"
      ]
     },
     "execution_count": 10,
     "metadata": {},
     "output_type": "execute_result"
    }
   ],
   "source": [
    "event_types = [EventPrefixEnum.DRAWN, EventPrefixEnum.SIMULATED]\n",
    "ds_config = ParquetDatasetConfig(path=dataset_path, event_type=event_types) # get drawn and simulated\n",
    "ds = ParquetDataset(ds_config,)\n",
    "len(ds) # should be much smaller"
   ]
  },
  {
   "cell_type": "markdown",
   "metadata": {},
   "source": [
    "And of REAL only:"
   ]
  },
  {
   "cell_type": "code",
   "execution_count": 11,
   "metadata": {},
   "outputs": [
    {
     "data": {
      "text/plain": [
       "1119"
      ]
     },
     "execution_count": 11,
     "metadata": {},
     "output_type": "execute_result"
    }
   ],
   "source": [
    "event_types = [EventPrefixEnum.REAL,]\n",
    "ds_config = ParquetDatasetConfig(path=dataset_path, event_type=event_types) # get only real\n",
    "ds = ParquetDataset(ds_config,)\n",
    "len(ds)"
   ]
  },
  {
   "cell_type": "markdown",
   "metadata": {},
   "source": [
    "Any combination of REAL, DRAWN and SIMULATED is also supported."
   ]
  },
  {
   "cell_type": "markdown",
   "metadata": {},
   "source": [
    "#### Split by event class"
   ]
  },
  {
   "cell_type": "markdown",
   "metadata": {},
   "source": [
    "We may also filter by event classes. To select only events from class 0 we would do:"
   ]
  },
  {
   "cell_type": "code",
   "execution_count": 12,
   "metadata": {},
   "outputs": [
    {
     "data": {
      "text/plain": [
       "594"
      ]
     },
     "execution_count": 12,
     "metadata": {},
     "output_type": "execute_result"
    }
   ],
   "source": [
    "target_class = [0]\n",
    "ds_config = ParquetDatasetConfig(path=dataset_path, target_class=target_class)\n",
    "ds = ParquetDataset(ds_config,)\n",
    "len(ds)"
   ]
  },
  {
   "cell_type": "code",
   "execution_count": 13,
   "metadata": {},
   "outputs": [
    {
     "data": {
      "text/plain": [
       "array([0])"
      ]
     },
     "execution_count": 13,
     "metadata": {},
     "output_type": "execute_result"
    }
   ],
   "source": [
    "np.unique(ds[event_id][\"label\"])"
   ]
  },
  {
   "cell_type": "markdown",
   "metadata": {},
   "source": [
    "And only for class 2:"
   ]
  },
  {
   "cell_type": "code",
   "execution_count": 14,
   "metadata": {},
   "outputs": [
    {
     "data": {
      "text/plain": [
       "38"
      ]
     },
     "execution_count": 14,
     "metadata": {},
     "output_type": "execute_result"
    }
   ],
   "source": [
    "target_class = [2]\n",
    "ds_config = ParquetDatasetConfig(path=dataset_path, target_class=target_class)\n",
    "ds = ParquetDataset(ds_config,)\n",
    "len(ds)"
   ]
  },
  {
   "cell_type": "code",
   "execution_count": 15,
   "metadata": {},
   "outputs": [
    {
     "data": {
      "text/plain": [
       "array([2])"
      ]
     },
     "execution_count": 15,
     "metadata": {},
     "output_type": "execute_result"
    }
   ],
   "source": [
    "np.unique(ds[event_id][\"label\"])"
   ]
  },
  {
   "cell_type": "markdown",
   "metadata": {},
   "source": [
    "And we may select multiple classes:"
   ]
  },
  {
   "cell_type": "code",
   "execution_count": 16,
   "metadata": {},
   "outputs": [
    {
     "data": {
      "text/plain": [
       "632"
      ]
     },
     "execution_count": 16,
     "metadata": {},
     "output_type": "execute_result"
    }
   ],
   "source": [
    "target_class = [0, 2]\n",
    "ds_config = ParquetDatasetConfig(path=dataset_path, target_class=target_class)\n",
    "ds = ParquetDataset(ds_config)\n",
    "len(ds)"
   ]
  },
  {
   "cell_type": "markdown",
   "metadata": {},
   "source": [
    "We may combine type and class filters as well. For REAL class 2 events:"
   ]
  },
  {
   "cell_type": "code",
   "execution_count": 17,
   "metadata": {},
   "outputs": [
    {
     "data": {
      "text/plain": [
       "22"
      ]
     },
     "execution_count": 17,
     "metadata": {},
     "output_type": "execute_result"
    }
   ],
   "source": [
    "event_types = [EventPrefixEnum.REAL,]\n",
    "target_class = [2,]\n",
    "ds_config = ParquetDatasetConfig(path=dataset_path, event_type=event_types, target_class=target_class)\n",
    "ds = ParquetDataset(ds_config)\n",
    "len(ds)"
   ]
  },
  {
   "cell_type": "markdown",
   "metadata": {},
   "source": [
    "### Split through file list"
   ]
  },
  {
   "cell_type": "markdown",
   "metadata": {},
   "source": [
    "It is also possible to filter the desired events through a list of event names.\n",
    "\n",
    "This is particularly useful to define train/test splits as the user may desire.\n",
    "\n",
    "Given a list of event names (relative to the dataset root):"
   ]
  },
  {
   "cell_type": "code",
   "execution_count": 18,
   "metadata": {},
   "outputs": [
    {
     "data": {
      "text/plain": [
       "20"
      ]
     },
     "execution_count": 18,
     "metadata": {},
     "output_type": "execute_result"
    }
   ],
   "source": [
    "my_split = [\n",
    "    \"./0/WELL-00008_20170817140222.parquet\",\n",
    "    \"./3/SIMULATED_00061.parquet\",\n",
    "    \"./4/WELL-00004_20140806090103.parquet\",\n",
    "    \"./6/SIMULATED_00117.parquet\",\n",
    "    \"./0/WELL-00001_20170201110124.parquet\",\n",
    "    \"./5/SIMULATED_00138.parquet\",\n",
    "    \"./4/WELL-00005_20170624070158.parquet\",\n",
    "    \"./8/SIMULATED_00044.parquet\",\n",
    "    \"./5/SIMULATED_00303.parquet\",\n",
    "    \"./9/SIMULATED_00028.parquet\",\n",
    "    \"./8/SIMULATED_00072.parquet\",\n",
    "    \"./7/WELL-00022_20180802233838.parquet\",\n",
    "    \"./0/WELL-00003_20170812110000.parquet\",\n",
    "    \"./9/SIMULATED_00115.parquet\",\n",
    "    \"./1/SIMULATED_00025.parquet\",\n",
    "    \"./9/SIMULATED_00065.parquet\",\n",
    "    \"./6/SIMULATED_00041.parquet\",\n",
    "    \"./5/SIMULATED_00329.parquet\",\n",
    "    \"./4/WELL-00004_20141118160016.parquet\",\n",
    "    \"./6/SIMULATED_00095.parquet\"] # can be stored in a my_split.txt file, for instance.\n",
    "\n",
    "len(my_split)"
   ]
  },
  {
   "cell_type": "code",
   "execution_count": 19,
   "metadata": {},
   "outputs": [
    {
     "data": {
      "text/plain": [
       "20"
      ]
     },
     "execution_count": 19,
     "metadata": {},
     "output_type": "execute_result"
    }
   ],
   "source": [
    "ds_config = ParquetDatasetConfig(path=dataset_path, split=\"list\", file_list=my_split) # get only files in split\n",
    "ds = ParquetDataset(ds_config)\n",
    "len(ds)"
   ]
  },
  {
   "cell_type": "code",
   "execution_count": 20,
   "metadata": {},
   "outputs": [
    {
     "data": {
      "text/html": [
       "<div>\n",
       "<style scoped>\n",
       "    .dataframe tbody tr th:only-of-type {\n",
       "        vertical-align: middle;\n",
       "    }\n",
       "\n",
       "    .dataframe tbody tr th {\n",
       "        vertical-align: top;\n",
       "    }\n",
       "\n",
       "    .dataframe thead th {\n",
       "        text-align: right;\n",
       "    }\n",
       "</style>\n",
       "<table border=\"1\" class=\"dataframe\">\n",
       "  <thead>\n",
       "    <tr style=\"text-align: right;\">\n",
       "      <th></th>\n",
       "      <th>class</th>\n",
       "    </tr>\n",
       "    <tr>\n",
       "      <th>timestamp</th>\n",
       "      <th></th>\n",
       "    </tr>\n",
       "  </thead>\n",
       "  <tbody>\n",
       "    <tr>\n",
       "      <th>2014-08-06 09:01:03</th>\n",
       "      <td>4</td>\n",
       "    </tr>\n",
       "    <tr>\n",
       "      <th>2014-08-06 09:01:04</th>\n",
       "      <td>4</td>\n",
       "    </tr>\n",
       "    <tr>\n",
       "      <th>2014-08-06 09:01:05</th>\n",
       "      <td>4</td>\n",
       "    </tr>\n",
       "    <tr>\n",
       "      <th>2014-08-06 09:01:06</th>\n",
       "      <td>4</td>\n",
       "    </tr>\n",
       "    <tr>\n",
       "      <th>2014-08-06 09:01:07</th>\n",
       "      <td>4</td>\n",
       "    </tr>\n",
       "    <tr>\n",
       "      <th>...</th>\n",
       "      <td>...</td>\n",
       "    </tr>\n",
       "    <tr>\n",
       "      <th>2014-08-06 11:59:56</th>\n",
       "      <td>4</td>\n",
       "    </tr>\n",
       "    <tr>\n",
       "      <th>2014-08-06 11:59:57</th>\n",
       "      <td>4</td>\n",
       "    </tr>\n",
       "    <tr>\n",
       "      <th>2014-08-06 11:59:58</th>\n",
       "      <td>4</td>\n",
       "    </tr>\n",
       "    <tr>\n",
       "      <th>2014-08-06 11:59:59</th>\n",
       "      <td>4</td>\n",
       "    </tr>\n",
       "    <tr>\n",
       "      <th>2014-08-06 12:00:00</th>\n",
       "      <td>4</td>\n",
       "    </tr>\n",
       "  </tbody>\n",
       "</table>\n",
       "<p>10738 rows × 1 columns</p>\n",
       "</div>"
      ],
      "text/plain": [
       "                     class\n",
       "timestamp                 \n",
       "2014-08-06 09:01:03      4\n",
       "2014-08-06 09:01:04      4\n",
       "2014-08-06 09:01:05      4\n",
       "2014-08-06 09:01:06      4\n",
       "2014-08-06 09:01:07      4\n",
       "...                    ...\n",
       "2014-08-06 11:59:56      4\n",
       "2014-08-06 11:59:57      4\n",
       "2014-08-06 11:59:58      4\n",
       "2014-08-06 11:59:59      4\n",
       "2014-08-06 12:00:00      4\n",
       "\n",
       "[10738 rows x 1 columns]"
      ]
     },
     "execution_count": 20,
     "metadata": {},
     "output_type": "execute_result"
    }
   ],
   "source": [
    "ds[2]['label']"
   ]
  },
  {
   "cell_type": "markdown",
   "metadata": {},
   "source": [
    "### 2.3 Cleaning the dataset"
   ]
  },
  {
   "cell_type": "markdown",
   "metadata": {},
   "source": [
    "Some dataset tags are mostly absent.\n",
    "\n",
    "We provide functions for data cleaning and normalization tailored to version 2.0.0.\n",
    "\n",
    "The parameter `clean_data` performs the following steps:\n",
    "\n",
    "* Removal of unused tags;\n",
    "* Identification and removal of invalid sensor readings (outside a predefined range);\n",
    "* Identification and removal of frozen sensor readings;\n",
    "* Replacement of faulty sensor readings with `<NA>`;\n",
    "* Normalization, which recenters and rescales valid data using pre-computed values, ensuring valid statistics can be computed afterward."
   ]
  },
  {
   "cell_type": "code",
   "execution_count": 21,
   "metadata": {},
   "outputs": [],
   "source": [
    "ds_config = ParquetDatasetConfig(path=dataset_path)\n",
    "raw_dataset = ParquetDataset(ds_config)\n",
    "\n",
    "ds_config = ParquetDatasetConfig(path=dataset_path, clean_data=True)\n",
    "cleaned_dataset = ParquetDataset(ds_config)"
   ]
  },
  {
   "cell_type": "code",
   "execution_count": 22,
   "metadata": {},
   "outputs": [
    {
     "data": {
      "text/plain": [
       "['ABER-CKGL',\n",
       " 'ABER-CKP',\n",
       " 'ESTADO-DHSV',\n",
       " 'ESTADO-M1',\n",
       " 'ESTADO-M2',\n",
       " 'ESTADO-PXO',\n",
       " 'ESTADO-SDV-GL',\n",
       " 'ESTADO-SDV-P',\n",
       " 'ESTADO-W1',\n",
       " 'ESTADO-W2',\n",
       " 'ESTADO-XO',\n",
       " 'P-ANULAR',\n",
       " 'P-JUS-CKGL',\n",
       " 'P-JUS-CKP',\n",
       " 'P-MON-CKP',\n",
       " 'P-PDG',\n",
       " 'P-TPT',\n",
       " 'QGL',\n",
       " 'T-JUS-CKP',\n",
       " 'T-MON-CKP',\n",
       " 'T-PDG',\n",
       " 'T-TPT']"
      ]
     },
     "execution_count": 22,
     "metadata": {},
     "output_type": "execute_result"
    }
   ],
   "source": [
    "list(raw_dataset[0][\"signal\"].columns)"
   ]
  },
  {
   "cell_type": "code",
   "execution_count": 23,
   "metadata": {},
   "outputs": [
    {
     "data": {
      "text/plain": [
       "['ABER-CKGL',\n",
       " 'ABER-CKP',\n",
       " 'ESTADO-DHSV',\n",
       " 'ESTADO-M1',\n",
       " 'ESTADO-M2',\n",
       " 'ESTADO-PXO',\n",
       " 'ESTADO-SDV-GL',\n",
       " 'ESTADO-SDV-P',\n",
       " 'ESTADO-W1',\n",
       " 'ESTADO-W2',\n",
       " 'ESTADO-XO',\n",
       " 'P-ANULAR',\n",
       " 'P-JUS-CKGL',\n",
       " 'P-JUS-CKP',\n",
       " 'P-MON-CKP',\n",
       " 'P-PDG',\n",
       " 'P-TPT',\n",
       " 'QGL',\n",
       " 'T-JUS-CKP',\n",
       " 'T-MON-CKP',\n",
       " 'T-PDG',\n",
       " 'T-TPT']"
      ]
     },
     "execution_count": 23,
     "metadata": {},
     "output_type": "execute_result"
    }
   ],
   "source": [
    "list(cleaned_dataset[0][\"signal\"].columns)"
   ]
  },
  {
   "cell_type": "code",
   "execution_count": 24,
   "metadata": {},
   "outputs": [
    {
     "data": {
      "text/plain": [
       "timestamp\n",
       "2018-09-05 20:44:36   -2.374172\n",
       "2018-09-05 20:44:37   -2.374172\n",
       "2018-09-05 20:44:38   -2.374172\n",
       "2018-09-05 20:44:39   -2.374172\n",
       "2018-09-05 20:44:40   -2.374172\n",
       "                         ...   \n",
       "2018-09-07 20:44:31   -2.374192\n",
       "2018-09-07 20:44:32   -2.374192\n",
       "2018-09-07 20:44:33   -2.374192\n",
       "2018-09-07 20:44:34   -2.374192\n",
       "2018-09-07 20:44:35   -2.374192\n",
       "Name: P-TPT, Length: 172800, dtype: float64"
      ]
     },
     "execution_count": 24,
     "metadata": {},
     "output_type": "execute_result"
    }
   ],
   "source": [
    "cleaned_dataset[0][\"signal\"][\"P-TPT\"] # normalized values"
   ]
  },
  {
   "cell_type": "code",
   "execution_count": 25,
   "metadata": {},
   "outputs": [
    {
     "data": {
      "text/html": [
       "<div>\n",
       "<style scoped>\n",
       "    .dataframe tbody tr th:only-of-type {\n",
       "        vertical-align: middle;\n",
       "    }\n",
       "\n",
       "    .dataframe tbody tr th {\n",
       "        vertical-align: top;\n",
       "    }\n",
       "\n",
       "    .dataframe thead th {\n",
       "        text-align: right;\n",
       "    }\n",
       "</style>\n",
       "<table border=\"1\" class=\"dataframe\">\n",
       "  <thead>\n",
       "    <tr style=\"text-align: right;\">\n",
       "      <th></th>\n",
       "      <th>ABER-CKGL</th>\n",
       "      <th>ABER-CKP</th>\n",
       "      <th>ESTADO-DHSV</th>\n",
       "      <th>ESTADO-M1</th>\n",
       "      <th>ESTADO-M2</th>\n",
       "      <th>ESTADO-PXO</th>\n",
       "      <th>ESTADO-SDV-GL</th>\n",
       "      <th>ESTADO-SDV-P</th>\n",
       "      <th>ESTADO-W1</th>\n",
       "      <th>ESTADO-W2</th>\n",
       "      <th>...</th>\n",
       "      <th>P-JUS-CKGL</th>\n",
       "      <th>P-JUS-CKP</th>\n",
       "      <th>P-MON-CKP</th>\n",
       "      <th>P-PDG</th>\n",
       "      <th>P-TPT</th>\n",
       "      <th>QGL</th>\n",
       "      <th>T-JUS-CKP</th>\n",
       "      <th>T-MON-CKP</th>\n",
       "      <th>T-PDG</th>\n",
       "      <th>T-TPT</th>\n",
       "    </tr>\n",
       "    <tr>\n",
       "      <th>timestamp</th>\n",
       "      <th></th>\n",
       "      <th></th>\n",
       "      <th></th>\n",
       "      <th></th>\n",
       "      <th></th>\n",
       "      <th></th>\n",
       "      <th></th>\n",
       "      <th></th>\n",
       "      <th></th>\n",
       "      <th></th>\n",
       "      <th></th>\n",
       "      <th></th>\n",
       "      <th></th>\n",
       "      <th></th>\n",
       "      <th></th>\n",
       "      <th></th>\n",
       "      <th></th>\n",
       "      <th></th>\n",
       "      <th></th>\n",
       "      <th></th>\n",
       "      <th></th>\n",
       "    </tr>\n",
       "  </thead>\n",
       "  <tbody>\n",
       "    <tr>\n",
       "      <th>2018-04-26 00:47:08</th>\n",
       "      <td>0.0</td>\n",
       "      <td>0.0</td>\n",
       "      <td>0.0</td>\n",
       "      <td>0.0</td>\n",
       "      <td>0.0</td>\n",
       "      <td>0.0</td>\n",
       "      <td>0.0</td>\n",
       "      <td>0.0</td>\n",
       "      <td>0.0</td>\n",
       "      <td>0.0</td>\n",
       "      <td>...</td>\n",
       "      <td>0.0</td>\n",
       "      <td>2.752359</td>\n",
       "      <td>1.344988</td>\n",
       "      <td>0.874989</td>\n",
       "      <td>1.196503</td>\n",
       "      <td>0.0</td>\n",
       "      <td>1.421639</td>\n",
       "      <td>0.853484</td>\n",
       "      <td>0.0</td>\n",
       "      <td>0.899378</td>\n",
       "    </tr>\n",
       "    <tr>\n",
       "      <th>2018-04-26 00:47:09</th>\n",
       "      <td>0.0</td>\n",
       "      <td>0.0</td>\n",
       "      <td>0.0</td>\n",
       "      <td>0.0</td>\n",
       "      <td>0.0</td>\n",
       "      <td>0.0</td>\n",
       "      <td>0.0</td>\n",
       "      <td>0.0</td>\n",
       "      <td>0.0</td>\n",
       "      <td>0.0</td>\n",
       "      <td>...</td>\n",
       "      <td>0.0</td>\n",
       "      <td>2.752359</td>\n",
       "      <td>1.344988</td>\n",
       "      <td>0.874989</td>\n",
       "      <td>1.196505</td>\n",
       "      <td>0.0</td>\n",
       "      <td>1.421638</td>\n",
       "      <td>0.853484</td>\n",
       "      <td>0.0</td>\n",
       "      <td>0.899369</td>\n",
       "    </tr>\n",
       "    <tr>\n",
       "      <th>2018-04-26 00:47:10</th>\n",
       "      <td>0.0</td>\n",
       "      <td>0.0</td>\n",
       "      <td>0.0</td>\n",
       "      <td>0.0</td>\n",
       "      <td>0.0</td>\n",
       "      <td>0.0</td>\n",
       "      <td>0.0</td>\n",
       "      <td>0.0</td>\n",
       "      <td>0.0</td>\n",
       "      <td>0.0</td>\n",
       "      <td>...</td>\n",
       "      <td>0.0</td>\n",
       "      <td>2.752359</td>\n",
       "      <td>1.344988</td>\n",
       "      <td>0.874989</td>\n",
       "      <td>1.196509</td>\n",
       "      <td>0.0</td>\n",
       "      <td>1.421638</td>\n",
       "      <td>0.853483</td>\n",
       "      <td>0.0</td>\n",
       "      <td>0.899415</td>\n",
       "    </tr>\n",
       "    <tr>\n",
       "      <th>2018-04-26 00:47:11</th>\n",
       "      <td>0.0</td>\n",
       "      <td>0.0</td>\n",
       "      <td>0.0</td>\n",
       "      <td>0.0</td>\n",
       "      <td>0.0</td>\n",
       "      <td>0.0</td>\n",
       "      <td>0.0</td>\n",
       "      <td>0.0</td>\n",
       "      <td>0.0</td>\n",
       "      <td>0.0</td>\n",
       "      <td>...</td>\n",
       "      <td>0.0</td>\n",
       "      <td>2.752359</td>\n",
       "      <td>1.344988</td>\n",
       "      <td>0.874989</td>\n",
       "      <td>1.196502</td>\n",
       "      <td>0.0</td>\n",
       "      <td>1.421637</td>\n",
       "      <td>0.853483</td>\n",
       "      <td>0.0</td>\n",
       "      <td>0.899383</td>\n",
       "    </tr>\n",
       "    <tr>\n",
       "      <th>2018-04-26 00:47:12</th>\n",
       "      <td>0.0</td>\n",
       "      <td>0.0</td>\n",
       "      <td>0.0</td>\n",
       "      <td>0.0</td>\n",
       "      <td>0.0</td>\n",
       "      <td>0.0</td>\n",
       "      <td>0.0</td>\n",
       "      <td>0.0</td>\n",
       "      <td>0.0</td>\n",
       "      <td>0.0</td>\n",
       "      <td>...</td>\n",
       "      <td>0.0</td>\n",
       "      <td>2.752359</td>\n",
       "      <td>1.344987</td>\n",
       "      <td>0.874989</td>\n",
       "      <td>1.196503</td>\n",
       "      <td>0.0</td>\n",
       "      <td>1.421636</td>\n",
       "      <td>0.853482</td>\n",
       "      <td>0.0</td>\n",
       "      <td>0.899372</td>\n",
       "    </tr>\n",
       "    <tr>\n",
       "      <th>...</th>\n",
       "      <td>...</td>\n",
       "      <td>...</td>\n",
       "      <td>...</td>\n",
       "      <td>...</td>\n",
       "      <td>...</td>\n",
       "      <td>...</td>\n",
       "      <td>...</td>\n",
       "      <td>...</td>\n",
       "      <td>...</td>\n",
       "      <td>...</td>\n",
       "      <td>...</td>\n",
       "      <td>...</td>\n",
       "      <td>...</td>\n",
       "      <td>...</td>\n",
       "      <td>...</td>\n",
       "      <td>...</td>\n",
       "      <td>...</td>\n",
       "      <td>...</td>\n",
       "      <td>...</td>\n",
       "      <td>...</td>\n",
       "      <td>...</td>\n",
       "    </tr>\n",
       "    <tr>\n",
       "      <th>2018-04-26 08:55:22</th>\n",
       "      <td>0.0</td>\n",
       "      <td>0.0</td>\n",
       "      <td>0.0</td>\n",
       "      <td>0.0</td>\n",
       "      <td>0.0</td>\n",
       "      <td>0.0</td>\n",
       "      <td>0.0</td>\n",
       "      <td>0.0</td>\n",
       "      <td>0.0</td>\n",
       "      <td>0.0</td>\n",
       "      <td>...</td>\n",
       "      <td>0.0</td>\n",
       "      <td>2.749988</td>\n",
       "      <td>1.339810</td>\n",
       "      <td>0.600030</td>\n",
       "      <td>0.907716</td>\n",
       "      <td>0.0</td>\n",
       "      <td>1.233091</td>\n",
       "      <td>0.729552</td>\n",
       "      <td>0.0</td>\n",
       "      <td>0.876680</td>\n",
       "    </tr>\n",
       "    <tr>\n",
       "      <th>2018-04-26 08:55:23</th>\n",
       "      <td>0.0</td>\n",
       "      <td>0.0</td>\n",
       "      <td>0.0</td>\n",
       "      <td>0.0</td>\n",
       "      <td>0.0</td>\n",
       "      <td>0.0</td>\n",
       "      <td>0.0</td>\n",
       "      <td>0.0</td>\n",
       "      <td>0.0</td>\n",
       "      <td>0.0</td>\n",
       "      <td>...</td>\n",
       "      <td>0.0</td>\n",
       "      <td>2.749988</td>\n",
       "      <td>1.339810</td>\n",
       "      <td>0.600044</td>\n",
       "      <td>0.907716</td>\n",
       "      <td>0.0</td>\n",
       "      <td>1.233091</td>\n",
       "      <td>0.729552</td>\n",
       "      <td>0.0</td>\n",
       "      <td>0.876674</td>\n",
       "    </tr>\n",
       "    <tr>\n",
       "      <th>2018-04-26 08:55:24</th>\n",
       "      <td>0.0</td>\n",
       "      <td>0.0</td>\n",
       "      <td>0.0</td>\n",
       "      <td>0.0</td>\n",
       "      <td>0.0</td>\n",
       "      <td>0.0</td>\n",
       "      <td>0.0</td>\n",
       "      <td>0.0</td>\n",
       "      <td>0.0</td>\n",
       "      <td>0.0</td>\n",
       "      <td>...</td>\n",
       "      <td>0.0</td>\n",
       "      <td>2.749988</td>\n",
       "      <td>1.339810</td>\n",
       "      <td>0.600021</td>\n",
       "      <td>0.907710</td>\n",
       "      <td>0.0</td>\n",
       "      <td>1.233091</td>\n",
       "      <td>0.729552</td>\n",
       "      <td>0.0</td>\n",
       "      <td>0.876655</td>\n",
       "    </tr>\n",
       "    <tr>\n",
       "      <th>2018-04-26 08:55:25</th>\n",
       "      <td>0.0</td>\n",
       "      <td>0.0</td>\n",
       "      <td>0.0</td>\n",
       "      <td>0.0</td>\n",
       "      <td>0.0</td>\n",
       "      <td>0.0</td>\n",
       "      <td>0.0</td>\n",
       "      <td>0.0</td>\n",
       "      <td>0.0</td>\n",
       "      <td>0.0</td>\n",
       "      <td>...</td>\n",
       "      <td>0.0</td>\n",
       "      <td>2.749988</td>\n",
       "      <td>1.339810</td>\n",
       "      <td>0.600010</td>\n",
       "      <td>0.907700</td>\n",
       "      <td>0.0</td>\n",
       "      <td>1.233091</td>\n",
       "      <td>0.729552</td>\n",
       "      <td>0.0</td>\n",
       "      <td>0.876682</td>\n",
       "    </tr>\n",
       "    <tr>\n",
       "      <th>2018-04-26 08:55:26</th>\n",
       "      <td>0.0</td>\n",
       "      <td>0.0</td>\n",
       "      <td>0.0</td>\n",
       "      <td>0.0</td>\n",
       "      <td>0.0</td>\n",
       "      <td>0.0</td>\n",
       "      <td>0.0</td>\n",
       "      <td>0.0</td>\n",
       "      <td>0.0</td>\n",
       "      <td>0.0</td>\n",
       "      <td>...</td>\n",
       "      <td>0.0</td>\n",
       "      <td>2.749988</td>\n",
       "      <td>1.339810</td>\n",
       "      <td>0.600030</td>\n",
       "      <td>0.907691</td>\n",
       "      <td>0.0</td>\n",
       "      <td>1.233091</td>\n",
       "      <td>0.729552</td>\n",
       "      <td>0.0</td>\n",
       "      <td>0.876730</td>\n",
       "    </tr>\n",
       "  </tbody>\n",
       "</table>\n",
       "<p>29299 rows × 22 columns</p>\n",
       "</div>"
      ],
      "text/plain": [
       "                     ABER-CKGL  ABER-CKP  ESTADO-DHSV  ESTADO-M1  ESTADO-M2  \\\n",
       "timestamp                                                                     \n",
       "2018-04-26 00:47:08        0.0       0.0          0.0        0.0        0.0   \n",
       "2018-04-26 00:47:09        0.0       0.0          0.0        0.0        0.0   \n",
       "2018-04-26 00:47:10        0.0       0.0          0.0        0.0        0.0   \n",
       "2018-04-26 00:47:11        0.0       0.0          0.0        0.0        0.0   \n",
       "2018-04-26 00:47:12        0.0       0.0          0.0        0.0        0.0   \n",
       "...                        ...       ...          ...        ...        ...   \n",
       "2018-04-26 08:55:22        0.0       0.0          0.0        0.0        0.0   \n",
       "2018-04-26 08:55:23        0.0       0.0          0.0        0.0        0.0   \n",
       "2018-04-26 08:55:24        0.0       0.0          0.0        0.0        0.0   \n",
       "2018-04-26 08:55:25        0.0       0.0          0.0        0.0        0.0   \n",
       "2018-04-26 08:55:26        0.0       0.0          0.0        0.0        0.0   \n",
       "\n",
       "                     ESTADO-PXO  ESTADO-SDV-GL  ESTADO-SDV-P  ESTADO-W1  \\\n",
       "timestamp                                                                 \n",
       "2018-04-26 00:47:08         0.0            0.0           0.0        0.0   \n",
       "2018-04-26 00:47:09         0.0            0.0           0.0        0.0   \n",
       "2018-04-26 00:47:10         0.0            0.0           0.0        0.0   \n",
       "2018-04-26 00:47:11         0.0            0.0           0.0        0.0   \n",
       "2018-04-26 00:47:12         0.0            0.0           0.0        0.0   \n",
       "...                         ...            ...           ...        ...   \n",
       "2018-04-26 08:55:22         0.0            0.0           0.0        0.0   \n",
       "2018-04-26 08:55:23         0.0            0.0           0.0        0.0   \n",
       "2018-04-26 08:55:24         0.0            0.0           0.0        0.0   \n",
       "2018-04-26 08:55:25         0.0            0.0           0.0        0.0   \n",
       "2018-04-26 08:55:26         0.0            0.0           0.0        0.0   \n",
       "\n",
       "                     ESTADO-W2  ...  P-JUS-CKGL  P-JUS-CKP  P-MON-CKP  \\\n",
       "timestamp                       ...                                     \n",
       "2018-04-26 00:47:08        0.0  ...         0.0   2.752359   1.344988   \n",
       "2018-04-26 00:47:09        0.0  ...         0.0   2.752359   1.344988   \n",
       "2018-04-26 00:47:10        0.0  ...         0.0   2.752359   1.344988   \n",
       "2018-04-26 00:47:11        0.0  ...         0.0   2.752359   1.344988   \n",
       "2018-04-26 00:47:12        0.0  ...         0.0   2.752359   1.344987   \n",
       "...                        ...  ...         ...        ...        ...   \n",
       "2018-04-26 08:55:22        0.0  ...         0.0   2.749988   1.339810   \n",
       "2018-04-26 08:55:23        0.0  ...         0.0   2.749988   1.339810   \n",
       "2018-04-26 08:55:24        0.0  ...         0.0   2.749988   1.339810   \n",
       "2018-04-26 08:55:25        0.0  ...         0.0   2.749988   1.339810   \n",
       "2018-04-26 08:55:26        0.0  ...         0.0   2.749988   1.339810   \n",
       "\n",
       "                        P-PDG     P-TPT  QGL  T-JUS-CKP  T-MON-CKP  T-PDG  \\\n",
       "timestamp                                                                   \n",
       "2018-04-26 00:47:08  0.874989  1.196503  0.0   1.421639   0.853484    0.0   \n",
       "2018-04-26 00:47:09  0.874989  1.196505  0.0   1.421638   0.853484    0.0   \n",
       "2018-04-26 00:47:10  0.874989  1.196509  0.0   1.421638   0.853483    0.0   \n",
       "2018-04-26 00:47:11  0.874989  1.196502  0.0   1.421637   0.853483    0.0   \n",
       "2018-04-26 00:47:12  0.874989  1.196503  0.0   1.421636   0.853482    0.0   \n",
       "...                       ...       ...  ...        ...        ...    ...   \n",
       "2018-04-26 08:55:22  0.600030  0.907716  0.0   1.233091   0.729552    0.0   \n",
       "2018-04-26 08:55:23  0.600044  0.907716  0.0   1.233091   0.729552    0.0   \n",
       "2018-04-26 08:55:24  0.600021  0.907710  0.0   1.233091   0.729552    0.0   \n",
       "2018-04-26 08:55:25  0.600010  0.907700  0.0   1.233091   0.729552    0.0   \n",
       "2018-04-26 08:55:26  0.600030  0.907691  0.0   1.233091   0.729552    0.0   \n",
       "\n",
       "                        T-TPT  \n",
       "timestamp                      \n",
       "2018-04-26 00:47:08  0.899378  \n",
       "2018-04-26 00:47:09  0.899369  \n",
       "2018-04-26 00:47:10  0.899415  \n",
       "2018-04-26 00:47:11  0.899383  \n",
       "2018-04-26 00:47:12  0.899372  \n",
       "...                       ...  \n",
       "2018-04-26 08:55:22  0.876680  \n",
       "2018-04-26 08:55:23  0.876674  \n",
       "2018-04-26 08:55:24  0.876655  \n",
       "2018-04-26 08:55:25  0.876682  \n",
       "2018-04-26 08:55:26  0.876730  \n",
       "\n",
       "[29299 rows x 22 columns]"
      ]
     },
     "execution_count": 25,
     "metadata": {},
     "output_type": "execute_result"
    }
   ],
   "source": [
    "cleaned_dataset[1000][\"signal\"] # Cleaned, normalized and imputed."
   ]
  },
  {
   "cell_type": "markdown",
   "metadata": {},
   "source": [
    "--------"
   ]
  },
  {
   "cell_type": "markdown",
   "metadata": {},
   "source": [
    "## 3. ⚙️ Preprocessing"
   ]
  },
  {
   "cell_type": "markdown",
   "metadata": {},
   "source": [
    "Pre-processing is an essential step to prepare the dataset before training or evaluating models.\n",
    "The 3W Toolkit provides utility functions to handle missing values, normalize data, segment time series into windows, and rename columns.\n",
    "\n",
    "In this section, we demonstrate the usage of:\n",
    "\n",
    "- `impute_missing_data` → Fill missing values with mean, median, or constant.\n",
    "- `normalize` → Apply L1, L2, or max normalization.\n",
    "- `windowing` → Segment a time series into overlapping windows with a chosen window function.\n",
    "- `rename_columns` → Rename DataFrame columns using a mapping dictionary.\n"
   ]
  },
  {
   "cell_type": "markdown",
   "metadata": {},
   "source": [
    "First, we select a single event from the dataset and convert its signal to a pandas DataFrame.  \n",
    "Any columns with `Period` dtype are converted to `datetime` to ensure compatibility with subsequent processing steps.  \n",
    "Finally, we display the first rows of the signal to inspect the data.\n",
    "\n"
   ]
  },
  {
   "cell_type": "code",
   "execution_count": 26,
   "metadata": {},
   "outputs": [
    {
     "data": {
      "text/html": [
       "<div>\n",
       "<style scoped>\n",
       "    .dataframe tbody tr th:only-of-type {\n",
       "        vertical-align: middle;\n",
       "    }\n",
       "\n",
       "    .dataframe tbody tr th {\n",
       "        vertical-align: top;\n",
       "    }\n",
       "\n",
       "    .dataframe thead th {\n",
       "        text-align: right;\n",
       "    }\n",
       "</style>\n",
       "<table border=\"1\" class=\"dataframe\">\n",
       "  <thead>\n",
       "    <tr style=\"text-align: right;\">\n",
       "      <th></th>\n",
       "      <th>ABER-CKGL</th>\n",
       "      <th>ABER-CKP</th>\n",
       "      <th>ESTADO-DHSV</th>\n",
       "      <th>ESTADO-M1</th>\n",
       "      <th>ESTADO-M2</th>\n",
       "      <th>ESTADO-PXO</th>\n",
       "      <th>ESTADO-SDV-GL</th>\n",
       "      <th>ESTADO-SDV-P</th>\n",
       "      <th>ESTADO-W1</th>\n",
       "      <th>ESTADO-W2</th>\n",
       "      <th>...</th>\n",
       "      <th>P-JUS-CKGL</th>\n",
       "      <th>P-JUS-CKP</th>\n",
       "      <th>P-MON-CKP</th>\n",
       "      <th>P-PDG</th>\n",
       "      <th>P-TPT</th>\n",
       "      <th>QGL</th>\n",
       "      <th>T-JUS-CKP</th>\n",
       "      <th>T-MON-CKP</th>\n",
       "      <th>T-PDG</th>\n",
       "      <th>T-TPT</th>\n",
       "    </tr>\n",
       "    <tr>\n",
       "      <th>timestamp</th>\n",
       "      <th></th>\n",
       "      <th></th>\n",
       "      <th></th>\n",
       "      <th></th>\n",
       "      <th></th>\n",
       "      <th></th>\n",
       "      <th></th>\n",
       "      <th></th>\n",
       "      <th></th>\n",
       "      <th></th>\n",
       "      <th></th>\n",
       "      <th></th>\n",
       "      <th></th>\n",
       "      <th></th>\n",
       "      <th></th>\n",
       "      <th></th>\n",
       "      <th></th>\n",
       "      <th></th>\n",
       "      <th></th>\n",
       "      <th></th>\n",
       "      <th></th>\n",
       "    </tr>\n",
       "  </thead>\n",
       "  <tbody>\n",
       "    <tr>\n",
       "      <th>2018-09-05 20:44:36</th>\n",
       "      <td>0.0</td>\n",
       "      <td>0.0</td>\n",
       "      <td>0.0</td>\n",
       "      <td>0.0</td>\n",
       "      <td>0.0</td>\n",
       "      <td>0.0</td>\n",
       "      <td>0.0</td>\n",
       "      <td>0.0</td>\n",
       "      <td>0.0</td>\n",
       "      <td>0.0</td>\n",
       "      <td>...</td>\n",
       "      <td>0.0</td>\n",
       "      <td>0.0</td>\n",
       "      <td>-1.062317</td>\n",
       "      <td>-2.703362</td>\n",
       "      <td>-2.374172</td>\n",
       "      <td>0.0</td>\n",
       "      <td>-0.131847</td>\n",
       "      <td>0.0</td>\n",
       "      <td>0.0</td>\n",
       "      <td>0.589097</td>\n",
       "    </tr>\n",
       "    <tr>\n",
       "      <th>2018-09-05 20:44:37</th>\n",
       "      <td>0.0</td>\n",
       "      <td>0.0</td>\n",
       "      <td>0.0</td>\n",
       "      <td>0.0</td>\n",
       "      <td>0.0</td>\n",
       "      <td>0.0</td>\n",
       "      <td>0.0</td>\n",
       "      <td>0.0</td>\n",
       "      <td>0.0</td>\n",
       "      <td>0.0</td>\n",
       "      <td>...</td>\n",
       "      <td>0.0</td>\n",
       "      <td>0.0</td>\n",
       "      <td>-1.062317</td>\n",
       "      <td>-2.703362</td>\n",
       "      <td>-2.374172</td>\n",
       "      <td>0.0</td>\n",
       "      <td>-0.131847</td>\n",
       "      <td>0.0</td>\n",
       "      <td>0.0</td>\n",
       "      <td>0.589097</td>\n",
       "    </tr>\n",
       "    <tr>\n",
       "      <th>2018-09-05 20:44:38</th>\n",
       "      <td>0.0</td>\n",
       "      <td>0.0</td>\n",
       "      <td>0.0</td>\n",
       "      <td>0.0</td>\n",
       "      <td>0.0</td>\n",
       "      <td>0.0</td>\n",
       "      <td>0.0</td>\n",
       "      <td>0.0</td>\n",
       "      <td>0.0</td>\n",
       "      <td>0.0</td>\n",
       "      <td>...</td>\n",
       "      <td>0.0</td>\n",
       "      <td>0.0</td>\n",
       "      <td>-1.062317</td>\n",
       "      <td>-2.703362</td>\n",
       "      <td>-2.374172</td>\n",
       "      <td>0.0</td>\n",
       "      <td>-0.131847</td>\n",
       "      <td>0.0</td>\n",
       "      <td>0.0</td>\n",
       "      <td>0.589097</td>\n",
       "    </tr>\n",
       "    <tr>\n",
       "      <th>2018-09-05 20:44:39</th>\n",
       "      <td>0.0</td>\n",
       "      <td>0.0</td>\n",
       "      <td>0.0</td>\n",
       "      <td>0.0</td>\n",
       "      <td>0.0</td>\n",
       "      <td>0.0</td>\n",
       "      <td>0.0</td>\n",
       "      <td>0.0</td>\n",
       "      <td>0.0</td>\n",
       "      <td>0.0</td>\n",
       "      <td>...</td>\n",
       "      <td>0.0</td>\n",
       "      <td>0.0</td>\n",
       "      <td>-1.062317</td>\n",
       "      <td>-2.703362</td>\n",
       "      <td>-2.374172</td>\n",
       "      <td>0.0</td>\n",
       "      <td>-0.131847</td>\n",
       "      <td>0.0</td>\n",
       "      <td>0.0</td>\n",
       "      <td>0.589097</td>\n",
       "    </tr>\n",
       "    <tr>\n",
       "      <th>2018-09-05 20:44:40</th>\n",
       "      <td>0.0</td>\n",
       "      <td>0.0</td>\n",
       "      <td>0.0</td>\n",
       "      <td>0.0</td>\n",
       "      <td>0.0</td>\n",
       "      <td>0.0</td>\n",
       "      <td>0.0</td>\n",
       "      <td>0.0</td>\n",
       "      <td>0.0</td>\n",
       "      <td>0.0</td>\n",
       "      <td>...</td>\n",
       "      <td>0.0</td>\n",
       "      <td>0.0</td>\n",
       "      <td>-1.062317</td>\n",
       "      <td>-2.703362</td>\n",
       "      <td>-2.374172</td>\n",
       "      <td>0.0</td>\n",
       "      <td>-0.131847</td>\n",
       "      <td>0.0</td>\n",
       "      <td>0.0</td>\n",
       "      <td>0.589097</td>\n",
       "    </tr>\n",
       "  </tbody>\n",
       "</table>\n",
       "<p>5 rows × 22 columns</p>\n",
       "</div>"
      ],
      "text/plain": [
       "                     ABER-CKGL  ABER-CKP  ESTADO-DHSV  ESTADO-M1  ESTADO-M2  \\\n",
       "timestamp                                                                     \n",
       "2018-09-05 20:44:36        0.0       0.0          0.0        0.0        0.0   \n",
       "2018-09-05 20:44:37        0.0       0.0          0.0        0.0        0.0   \n",
       "2018-09-05 20:44:38        0.0       0.0          0.0        0.0        0.0   \n",
       "2018-09-05 20:44:39        0.0       0.0          0.0        0.0        0.0   \n",
       "2018-09-05 20:44:40        0.0       0.0          0.0        0.0        0.0   \n",
       "\n",
       "                     ESTADO-PXO  ESTADO-SDV-GL  ESTADO-SDV-P  ESTADO-W1  \\\n",
       "timestamp                                                                 \n",
       "2018-09-05 20:44:36         0.0            0.0           0.0        0.0   \n",
       "2018-09-05 20:44:37         0.0            0.0           0.0        0.0   \n",
       "2018-09-05 20:44:38         0.0            0.0           0.0        0.0   \n",
       "2018-09-05 20:44:39         0.0            0.0           0.0        0.0   \n",
       "2018-09-05 20:44:40         0.0            0.0           0.0        0.0   \n",
       "\n",
       "                     ESTADO-W2  ...  P-JUS-CKGL  P-JUS-CKP  P-MON-CKP  \\\n",
       "timestamp                       ...                                     \n",
       "2018-09-05 20:44:36        0.0  ...         0.0        0.0  -1.062317   \n",
       "2018-09-05 20:44:37        0.0  ...         0.0        0.0  -1.062317   \n",
       "2018-09-05 20:44:38        0.0  ...         0.0        0.0  -1.062317   \n",
       "2018-09-05 20:44:39        0.0  ...         0.0        0.0  -1.062317   \n",
       "2018-09-05 20:44:40        0.0  ...         0.0        0.0  -1.062317   \n",
       "\n",
       "                        P-PDG     P-TPT  QGL  T-JUS-CKP  T-MON-CKP  T-PDG  \\\n",
       "timestamp                                                                   \n",
       "2018-09-05 20:44:36 -2.703362 -2.374172  0.0  -0.131847        0.0    0.0   \n",
       "2018-09-05 20:44:37 -2.703362 -2.374172  0.0  -0.131847        0.0    0.0   \n",
       "2018-09-05 20:44:38 -2.703362 -2.374172  0.0  -0.131847        0.0    0.0   \n",
       "2018-09-05 20:44:39 -2.703362 -2.374172  0.0  -0.131847        0.0    0.0   \n",
       "2018-09-05 20:44:40 -2.703362 -2.374172  0.0  -0.131847        0.0    0.0   \n",
       "\n",
       "                        T-TPT  \n",
       "timestamp                      \n",
       "2018-09-05 20:44:36  0.589097  \n",
       "2018-09-05 20:44:37  0.589097  \n",
       "2018-09-05 20:44:38  0.589097  \n",
       "2018-09-05 20:44:39  0.589097  \n",
       "2018-09-05 20:44:40  0.589097  \n",
       "\n",
       "[5 rows x 22 columns]"
      ]
     },
     "execution_count": 26,
     "metadata": {},
     "output_type": "execute_result"
    }
   ],
   "source": [
    "# Select a single event from the dataset\n",
    "event_id = 0\n",
    "event = raw_dataset[event_id]\n",
    "\n",
    "# Convert the 'signal' to a pandas DataFrame\n",
    "signal = pd.DataFrame(event[\"signal\"])\n",
    "\n",
    "# Convert Period columns to datetime for compatibility\n",
    "for col in signal.columns:\n",
    "    if isinstance(signal[col].dtype, pd.PeriodDtype):\n",
    "        signal[col] = signal[col].dt.to_timestamp()\n",
    "\n",
    "# Display the first rows to inspect the signal\n",
    "signal.head()\n"
   ]
  },
  {
   "cell_type": "markdown",
   "metadata": {},
   "source": [
    "### 3.1 Handling missing values (Imputation)"
   ]
  },
  {
   "cell_type": "markdown",
   "metadata": {},
   "source": [
    "The function `impute_missing_data` fills `NaN` values in numeric columns.\n",
    "It supports three strategies:\n",
    "\n",
    "- mean → Replace NaN with the column mean.\n",
    "- median → Replace NaN with the column median.\n",
    "- constant → Replace NaN with a fixed value (`fill_value`).\n",
    "\n",
    "The column \"T-TPT\" will be used to demonstrate this functionality.\n",
    "\n"
   ]
  },
  {
   "cell_type": "markdown",
   "metadata": {},
   "source": [
    "First, we'll select 5 index values:\n"
   ]
  },
  {
   "cell_type": "code",
   "execution_count": 27,
   "metadata": {},
   "outputs": [
    {
     "name": "stdout",
     "output_type": "stream",
     "text": [
      "Original values at selected indices:\n",
      "timestamp\n",
      "2018-09-05 20:44:36    0.589097\n",
      "2018-09-05 20:44:37    0.589097\n",
      "2018-09-05 20:44:38    0.589097\n",
      "2018-09-05 20:44:39    0.589097\n",
      "2018-09-05 20:44:40    0.589097\n",
      "Name: T-TPT, dtype: float64\n"
     ]
    }
   ],
   "source": [
    "col = \"T-TPT\"\n",
    "indices_to_nan = signal.index[:5]\n",
    "print(\"Original values at selected indices:\")\n",
    "print(signal.loc[indices_to_nan, col])\n"
   ]
  },
  {
   "cell_type": "markdown",
   "metadata": {},
   "source": [
    "Overriding their values with `NaN`:"
   ]
  },
  {
   "cell_type": "code",
   "execution_count": 28,
   "metadata": {},
   "outputs": [
    {
     "name": "stdout",
     "output_type": "stream",
     "text": [
      "\n",
      "Values after introducing NaN:\n",
      "timestamp\n",
      "2018-09-05 20:44:36   NaN\n",
      "2018-09-05 20:44:37   NaN\n",
      "2018-09-05 20:44:38   NaN\n",
      "2018-09-05 20:44:39   NaN\n",
      "2018-09-05 20:44:40   NaN\n",
      "Name: T-TPT, dtype: float64\n"
     ]
    }
   ],
   "source": [
    "# Introduce NaN\n",
    "signal.loc[indices_to_nan, col] = pd.NA\n",
    "\n",
    "print(\"\\nValues after introducing NaN:\")\n",
    "print(signal.loc[indices_to_nan, col])\n"
   ]
  },
  {
   "cell_type": "markdown",
   "metadata": {},
   "source": [
    "Finally, applying mean imputation and verifying the results:\n"
   ]
  },
  {
   "cell_type": "code",
   "execution_count": 29,
   "metadata": {},
   "outputs": [
    {
     "name": "stdout",
     "output_type": "stream",
     "text": [
      "\n",
      "Values after mean imputation:\n",
      "timestamp\n",
      "2018-09-05 20:44:36    0.492552\n",
      "2018-09-05 20:44:37    0.492552\n",
      "2018-09-05 20:44:38    0.492552\n",
      "2018-09-05 20:44:39    0.492552\n",
      "2018-09-05 20:44:40    0.492552\n",
      "Name: T-TPT, dtype: float64\n"
     ]
    }
   ],
   "source": [
    "signal = impute_missing_data(signal, strategy=\"mean\")\n",
    "\n",
    "print(\"\\nValues after mean imputation:\")\n",
    "print(signal.loc[indices_to_nan, col])"
   ]
  },
  {
   "cell_type": "markdown",
   "metadata": {},
   "source": [
    "### 3.2 Normalization"
   ]
  },
  {
   "cell_type": "markdown",
   "metadata": {},
   "source": [
    "The function normalize rescales data using one of the following norms:\n",
    "\n",
    "- `l1` → Normalize by sum of absolute values.  \n",
    "- `l2` → Normalize by Euclidean norm.  \n",
    "- `max` → Normalize by maximum absolute value.  \n",
    "\n",
    "The column \"P-PDG\" will be used to demonstrate this functionality.  \n",
    "\n"
   ]
  },
  {
   "cell_type": "markdown",
   "metadata": {},
   "source": [
    "Checking column before normalization:"
   ]
  },
  {
   "cell_type": "code",
   "execution_count": 30,
   "metadata": {},
   "outputs": [
    {
     "data": {
      "text/plain": [
       "timestamp\n",
       "2018-09-05 20:44:36    0.492552\n",
       "2018-09-05 20:44:37    0.492552\n",
       "2018-09-05 20:44:38    0.492552\n",
       "2018-09-05 20:44:39    0.492552\n",
       "2018-09-05 20:44:40    0.492552\n",
       "2018-09-05 20:44:41    0.589097\n",
       "2018-09-05 20:44:42    0.589097\n",
       "2018-09-05 20:44:43    0.589097\n",
       "2018-09-05 20:44:44    0.589097\n",
       "2018-09-05 20:44:45    0.589097\n",
       "Name: T-TPT, dtype: float64"
      ]
     },
     "execution_count": 30,
     "metadata": {},
     "output_type": "execute_result"
    }
   ],
   "source": [
    "col = \"T-TPT\"\n",
    "signal[col].head(10)"
   ]
  },
  {
   "cell_type": "markdown",
   "metadata": {},
   "source": [
    "Applying the normalization and checking results:"
   ]
  },
  {
   "cell_type": "code",
   "execution_count": 31,
   "metadata": {},
   "outputs": [
    {
     "data": {
      "text/plain": [
       "timestamp\n",
       "2018-09-05 20:44:36    0.001414\n",
       "2018-09-05 20:44:37    0.001414\n",
       "2018-09-05 20:44:38    0.001414\n",
       "2018-09-05 20:44:39    0.001414\n",
       "2018-09-05 20:44:40    0.001414\n",
       "2018-09-05 20:44:41    0.001691\n",
       "2018-09-05 20:44:42    0.001691\n",
       "2018-09-05 20:44:43    0.001691\n",
       "2018-09-05 20:44:44    0.001691\n",
       "2018-09-05 20:44:45    0.001691\n",
       "Name: T-TPT, dtype: float64"
      ]
     },
     "execution_count": 31,
     "metadata": {},
     "output_type": "execute_result"
    }
   ],
   "source": [
    "# Apply L2 normalization row-wise\n",
    "signal[col] = normalize(signal[col], norm=\"l2\", axis=0)\n",
    "signal[col].head(10)"
   ]
  },
  {
   "cell_type": "markdown",
   "metadata": {},
   "source": [
    "### 3.3 Windowing"
   ]
  },
  {
   "cell_type": "markdown",
   "metadata": {},
   "source": [
    "The function `windowing` divides a 1D time series into overlapping windows.\n",
    "Each window can be weighted with a function (e.g., Hann, Hamming) and optionally padded.\n",
    "\n",
    "The column \"P-TPT\" will be used to demonstrate this functionality.\n",
    "\n"
   ]
  },
  {
   "cell_type": "markdown",
   "metadata": {},
   "source": [
    "Checking column before windowing:"
   ]
  },
  {
   "cell_type": "code",
   "execution_count": 32,
   "metadata": {},
   "outputs": [
    {
     "data": {
      "text/plain": [
       "timestamp\n",
       "2018-09-05 20:44:36   -2.374172\n",
       "2018-09-05 20:44:37   -2.374172\n",
       "2018-09-05 20:44:38   -2.374172\n",
       "2018-09-05 20:44:39   -2.374172\n",
       "2018-09-05 20:44:40   -2.374172\n",
       "2018-09-05 20:44:41   -2.374172\n",
       "2018-09-05 20:44:42   -2.374172\n",
       "2018-09-05 20:44:43   -2.374172\n",
       "2018-09-05 20:44:44   -2.374172\n",
       "2018-09-05 20:44:45   -2.374172\n",
       "Name: P-TPT, dtype: float64"
      ]
     },
     "execution_count": 32,
     "metadata": {},
     "output_type": "execute_result"
    }
   ],
   "source": [
    "col = \"P-TPT\"\n",
    "signal[col].head(10)"
   ]
  },
  {
   "cell_type": "markdown",
   "metadata": {},
   "source": [
    "Applying windowing (Hann window, window size 4, 50% overlap, and pad the last window) and checking results:\n"
   ]
  },
  {
   "cell_type": "code",
   "execution_count": 33,
   "metadata": {},
   "outputs": [
    {
     "name": "stdout",
     "output_type": "stream",
     "text": [
      "\n",
      "After windowing (first 5 windows):\n"
     ]
    },
    {
     "data": {
      "text/html": [
       "<div>\n",
       "<style scoped>\n",
       "    .dataframe tbody tr th:only-of-type {\n",
       "        vertical-align: middle;\n",
       "    }\n",
       "\n",
       "    .dataframe tbody tr th {\n",
       "        vertical-align: top;\n",
       "    }\n",
       "\n",
       "    .dataframe thead th {\n",
       "        text-align: right;\n",
       "    }\n",
       "</style>\n",
       "<table border=\"1\" class=\"dataframe\">\n",
       "  <thead>\n",
       "    <tr style=\"text-align: right;\">\n",
       "      <th></th>\n",
       "      <th>val_1</th>\n",
       "      <th>val_2</th>\n",
       "      <th>val_3</th>\n",
       "      <th>val_4</th>\n",
       "      <th>win</th>\n",
       "    </tr>\n",
       "  </thead>\n",
       "  <tbody>\n",
       "    <tr>\n",
       "      <th>0</th>\n",
       "      <td>-0.0</td>\n",
       "      <td>-1.187086</td>\n",
       "      <td>-2.374172</td>\n",
       "      <td>-1.187086</td>\n",
       "      <td>1</td>\n",
       "    </tr>\n",
       "    <tr>\n",
       "      <th>1</th>\n",
       "      <td>-0.0</td>\n",
       "      <td>-1.187086</td>\n",
       "      <td>-2.374172</td>\n",
       "      <td>-1.187086</td>\n",
       "      <td>2</td>\n",
       "    </tr>\n",
       "    <tr>\n",
       "      <th>2</th>\n",
       "      <td>-0.0</td>\n",
       "      <td>-1.187086</td>\n",
       "      <td>-2.374172</td>\n",
       "      <td>-1.187086</td>\n",
       "      <td>3</td>\n",
       "    </tr>\n",
       "    <tr>\n",
       "      <th>3</th>\n",
       "      <td>-0.0</td>\n",
       "      <td>-1.187086</td>\n",
       "      <td>-2.374172</td>\n",
       "      <td>-1.187086</td>\n",
       "      <td>4</td>\n",
       "    </tr>\n",
       "    <tr>\n",
       "      <th>4</th>\n",
       "      <td>-0.0</td>\n",
       "      <td>-1.187086</td>\n",
       "      <td>-2.374172</td>\n",
       "      <td>-1.187086</td>\n",
       "      <td>5</td>\n",
       "    </tr>\n",
       "  </tbody>\n",
       "</table>\n",
       "</div>"
      ],
      "text/plain": [
       "   val_1     val_2     val_3     val_4  win\n",
       "0   -0.0 -1.187086 -2.374172 -1.187086    1\n",
       "1   -0.0 -1.187086 -2.374172 -1.187086    2\n",
       "2   -0.0 -1.187086 -2.374172 -1.187086    3\n",
       "3   -0.0 -1.187086 -2.374172 -1.187086    4\n",
       "4   -0.0 -1.187086 -2.374172 -1.187086    5"
      ]
     },
     "metadata": {},
     "output_type": "display_data"
    }
   ],
   "source": [
    "windowed_df = windowing(\n",
    "    signal[col],\n",
    "    window=\"hann\",\n",
    "    window_size=4,\n",
    "    overlap=0.5,\n",
    "    pad_last_window=True\n",
    ")\n",
    "\n",
    "print(\"\\nAfter windowing (first 5 windows):\")\n",
    "display(windowed_df.head())"
   ]
  },
  {
   "cell_type": "markdown",
   "metadata": {},
   "source": [
    "### 3.4 Renaming columns"
   ]
  },
  {
   "cell_type": "markdown",
   "metadata": {},
   "source": [
    "The function `rename_columns` allows renaming DataFrame columns using a mapping dictionary.\n",
    "\n",
    "In this example, we rename the columns \"ABER-CKGL\" and \"ABER-CKP\" to \"sensor_A\" and \"sensor_B\", respectively.\n",
    "\n"
   ]
  },
  {
   "cell_type": "markdown",
   "metadata": {},
   "source": [
    "Checking row names before renaming:"
   ]
  },
  {
   "cell_type": "code",
   "execution_count": 34,
   "metadata": {},
   "outputs": [
    {
     "data": {
      "text/html": [
       "<div>\n",
       "<style scoped>\n",
       "    .dataframe tbody tr th:only-of-type {\n",
       "        vertical-align: middle;\n",
       "    }\n",
       "\n",
       "    .dataframe tbody tr th {\n",
       "        vertical-align: top;\n",
       "    }\n",
       "\n",
       "    .dataframe thead th {\n",
       "        text-align: right;\n",
       "    }\n",
       "</style>\n",
       "<table border=\"1\" class=\"dataframe\">\n",
       "  <thead>\n",
       "    <tr style=\"text-align: right;\">\n",
       "      <th></th>\n",
       "      <th>ABER-CKGL</th>\n",
       "      <th>ABER-CKP</th>\n",
       "      <th>ESTADO-DHSV</th>\n",
       "      <th>ESTADO-M1</th>\n",
       "      <th>ESTADO-M2</th>\n",
       "      <th>ESTADO-PXO</th>\n",
       "      <th>ESTADO-SDV-GL</th>\n",
       "      <th>ESTADO-SDV-P</th>\n",
       "      <th>ESTADO-W1</th>\n",
       "      <th>ESTADO-W2</th>\n",
       "      <th>...</th>\n",
       "      <th>P-JUS-CKGL</th>\n",
       "      <th>P-JUS-CKP</th>\n",
       "      <th>P-MON-CKP</th>\n",
       "      <th>P-PDG</th>\n",
       "      <th>P-TPT</th>\n",
       "      <th>QGL</th>\n",
       "      <th>T-JUS-CKP</th>\n",
       "      <th>T-MON-CKP</th>\n",
       "      <th>T-PDG</th>\n",
       "      <th>T-TPT</th>\n",
       "    </tr>\n",
       "    <tr>\n",
       "      <th>timestamp</th>\n",
       "      <th></th>\n",
       "      <th></th>\n",
       "      <th></th>\n",
       "      <th></th>\n",
       "      <th></th>\n",
       "      <th></th>\n",
       "      <th></th>\n",
       "      <th></th>\n",
       "      <th></th>\n",
       "      <th></th>\n",
       "      <th></th>\n",
       "      <th></th>\n",
       "      <th></th>\n",
       "      <th></th>\n",
       "      <th></th>\n",
       "      <th></th>\n",
       "      <th></th>\n",
       "      <th></th>\n",
       "      <th></th>\n",
       "      <th></th>\n",
       "      <th></th>\n",
       "    </tr>\n",
       "  </thead>\n",
       "  <tbody>\n",
       "    <tr>\n",
       "      <th>2018-09-05 20:44:36</th>\n",
       "      <td>0.0</td>\n",
       "      <td>0.0</td>\n",
       "      <td>0.0</td>\n",
       "      <td>0.0</td>\n",
       "      <td>0.0</td>\n",
       "      <td>0.0</td>\n",
       "      <td>0.0</td>\n",
       "      <td>0.0</td>\n",
       "      <td>0.0</td>\n",
       "      <td>0.0</td>\n",
       "      <td>...</td>\n",
       "      <td>0.0</td>\n",
       "      <td>0.0</td>\n",
       "      <td>-1.062317</td>\n",
       "      <td>-2.703362</td>\n",
       "      <td>-2.374172</td>\n",
       "      <td>0.0</td>\n",
       "      <td>-0.131847</td>\n",
       "      <td>0.0</td>\n",
       "      <td>0.0</td>\n",
       "      <td>0.001414</td>\n",
       "    </tr>\n",
       "    <tr>\n",
       "      <th>2018-09-05 20:44:37</th>\n",
       "      <td>0.0</td>\n",
       "      <td>0.0</td>\n",
       "      <td>0.0</td>\n",
       "      <td>0.0</td>\n",
       "      <td>0.0</td>\n",
       "      <td>0.0</td>\n",
       "      <td>0.0</td>\n",
       "      <td>0.0</td>\n",
       "      <td>0.0</td>\n",
       "      <td>0.0</td>\n",
       "      <td>...</td>\n",
       "      <td>0.0</td>\n",
       "      <td>0.0</td>\n",
       "      <td>-1.062317</td>\n",
       "      <td>-2.703362</td>\n",
       "      <td>-2.374172</td>\n",
       "      <td>0.0</td>\n",
       "      <td>-0.131847</td>\n",
       "      <td>0.0</td>\n",
       "      <td>0.0</td>\n",
       "      <td>0.001414</td>\n",
       "    </tr>\n",
       "    <tr>\n",
       "      <th>2018-09-05 20:44:38</th>\n",
       "      <td>0.0</td>\n",
       "      <td>0.0</td>\n",
       "      <td>0.0</td>\n",
       "      <td>0.0</td>\n",
       "      <td>0.0</td>\n",
       "      <td>0.0</td>\n",
       "      <td>0.0</td>\n",
       "      <td>0.0</td>\n",
       "      <td>0.0</td>\n",
       "      <td>0.0</td>\n",
       "      <td>...</td>\n",
       "      <td>0.0</td>\n",
       "      <td>0.0</td>\n",
       "      <td>-1.062317</td>\n",
       "      <td>-2.703362</td>\n",
       "      <td>-2.374172</td>\n",
       "      <td>0.0</td>\n",
       "      <td>-0.131847</td>\n",
       "      <td>0.0</td>\n",
       "      <td>0.0</td>\n",
       "      <td>0.001414</td>\n",
       "    </tr>\n",
       "    <tr>\n",
       "      <th>2018-09-05 20:44:39</th>\n",
       "      <td>0.0</td>\n",
       "      <td>0.0</td>\n",
       "      <td>0.0</td>\n",
       "      <td>0.0</td>\n",
       "      <td>0.0</td>\n",
       "      <td>0.0</td>\n",
       "      <td>0.0</td>\n",
       "      <td>0.0</td>\n",
       "      <td>0.0</td>\n",
       "      <td>0.0</td>\n",
       "      <td>...</td>\n",
       "      <td>0.0</td>\n",
       "      <td>0.0</td>\n",
       "      <td>-1.062317</td>\n",
       "      <td>-2.703362</td>\n",
       "      <td>-2.374172</td>\n",
       "      <td>0.0</td>\n",
       "      <td>-0.131847</td>\n",
       "      <td>0.0</td>\n",
       "      <td>0.0</td>\n",
       "      <td>0.001414</td>\n",
       "    </tr>\n",
       "    <tr>\n",
       "      <th>2018-09-05 20:44:40</th>\n",
       "      <td>0.0</td>\n",
       "      <td>0.0</td>\n",
       "      <td>0.0</td>\n",
       "      <td>0.0</td>\n",
       "      <td>0.0</td>\n",
       "      <td>0.0</td>\n",
       "      <td>0.0</td>\n",
       "      <td>0.0</td>\n",
       "      <td>0.0</td>\n",
       "      <td>0.0</td>\n",
       "      <td>...</td>\n",
       "      <td>0.0</td>\n",
       "      <td>0.0</td>\n",
       "      <td>-1.062317</td>\n",
       "      <td>-2.703362</td>\n",
       "      <td>-2.374172</td>\n",
       "      <td>0.0</td>\n",
       "      <td>-0.131847</td>\n",
       "      <td>0.0</td>\n",
       "      <td>0.0</td>\n",
       "      <td>0.001414</td>\n",
       "    </tr>\n",
       "  </tbody>\n",
       "</table>\n",
       "<p>5 rows × 22 columns</p>\n",
       "</div>"
      ],
      "text/plain": [
       "                     ABER-CKGL  ABER-CKP  ESTADO-DHSV  ESTADO-M1  ESTADO-M2  \\\n",
       "timestamp                                                                     \n",
       "2018-09-05 20:44:36        0.0       0.0          0.0        0.0        0.0   \n",
       "2018-09-05 20:44:37        0.0       0.0          0.0        0.0        0.0   \n",
       "2018-09-05 20:44:38        0.0       0.0          0.0        0.0        0.0   \n",
       "2018-09-05 20:44:39        0.0       0.0          0.0        0.0        0.0   \n",
       "2018-09-05 20:44:40        0.0       0.0          0.0        0.0        0.0   \n",
       "\n",
       "                     ESTADO-PXO  ESTADO-SDV-GL  ESTADO-SDV-P  ESTADO-W1  \\\n",
       "timestamp                                                                 \n",
       "2018-09-05 20:44:36         0.0            0.0           0.0        0.0   \n",
       "2018-09-05 20:44:37         0.0            0.0           0.0        0.0   \n",
       "2018-09-05 20:44:38         0.0            0.0           0.0        0.0   \n",
       "2018-09-05 20:44:39         0.0            0.0           0.0        0.0   \n",
       "2018-09-05 20:44:40         0.0            0.0           0.0        0.0   \n",
       "\n",
       "                     ESTADO-W2  ...  P-JUS-CKGL  P-JUS-CKP  P-MON-CKP  \\\n",
       "timestamp                       ...                                     \n",
       "2018-09-05 20:44:36        0.0  ...         0.0        0.0  -1.062317   \n",
       "2018-09-05 20:44:37        0.0  ...         0.0        0.0  -1.062317   \n",
       "2018-09-05 20:44:38        0.0  ...         0.0        0.0  -1.062317   \n",
       "2018-09-05 20:44:39        0.0  ...         0.0        0.0  -1.062317   \n",
       "2018-09-05 20:44:40        0.0  ...         0.0        0.0  -1.062317   \n",
       "\n",
       "                        P-PDG     P-TPT  QGL  T-JUS-CKP  T-MON-CKP  T-PDG  \\\n",
       "timestamp                                                                   \n",
       "2018-09-05 20:44:36 -2.703362 -2.374172  0.0  -0.131847        0.0    0.0   \n",
       "2018-09-05 20:44:37 -2.703362 -2.374172  0.0  -0.131847        0.0    0.0   \n",
       "2018-09-05 20:44:38 -2.703362 -2.374172  0.0  -0.131847        0.0    0.0   \n",
       "2018-09-05 20:44:39 -2.703362 -2.374172  0.0  -0.131847        0.0    0.0   \n",
       "2018-09-05 20:44:40 -2.703362 -2.374172  0.0  -0.131847        0.0    0.0   \n",
       "\n",
       "                        T-TPT  \n",
       "timestamp                      \n",
       "2018-09-05 20:44:36  0.001414  \n",
       "2018-09-05 20:44:37  0.001414  \n",
       "2018-09-05 20:44:38  0.001414  \n",
       "2018-09-05 20:44:39  0.001414  \n",
       "2018-09-05 20:44:40  0.001414  \n",
       "\n",
       "[5 rows x 22 columns]"
      ]
     },
     "execution_count": 34,
     "metadata": {},
     "output_type": "execute_result"
    }
   ],
   "source": [
    "signal.head()"
   ]
  },
  {
   "cell_type": "markdown",
   "metadata": {},
   "source": [
    "Now, renaming and checking the changes:"
   ]
  },
  {
   "cell_type": "code",
   "execution_count": 35,
   "metadata": {},
   "outputs": [
    {
     "data": {
      "text/html": [
       "<div>\n",
       "<style scoped>\n",
       "    .dataframe tbody tr th:only-of-type {\n",
       "        vertical-align: middle;\n",
       "    }\n",
       "\n",
       "    .dataframe tbody tr th {\n",
       "        vertical-align: top;\n",
       "    }\n",
       "\n",
       "    .dataframe thead th {\n",
       "        text-align: right;\n",
       "    }\n",
       "</style>\n",
       "<table border=\"1\" class=\"dataframe\">\n",
       "  <thead>\n",
       "    <tr style=\"text-align: right;\">\n",
       "      <th></th>\n",
       "      <th>sensor_A</th>\n",
       "      <th>sensor_B</th>\n",
       "      <th>ESTADO-DHSV</th>\n",
       "      <th>ESTADO-M1</th>\n",
       "      <th>ESTADO-M2</th>\n",
       "      <th>ESTADO-PXO</th>\n",
       "      <th>ESTADO-SDV-GL</th>\n",
       "      <th>ESTADO-SDV-P</th>\n",
       "      <th>ESTADO-W1</th>\n",
       "      <th>ESTADO-W2</th>\n",
       "      <th>...</th>\n",
       "      <th>P-JUS-CKGL</th>\n",
       "      <th>P-JUS-CKP</th>\n",
       "      <th>P-MON-CKP</th>\n",
       "      <th>P-PDG</th>\n",
       "      <th>P-TPT</th>\n",
       "      <th>QGL</th>\n",
       "      <th>T-JUS-CKP</th>\n",
       "      <th>T-MON-CKP</th>\n",
       "      <th>T-PDG</th>\n",
       "      <th>T-TPT</th>\n",
       "    </tr>\n",
       "    <tr>\n",
       "      <th>timestamp</th>\n",
       "      <th></th>\n",
       "      <th></th>\n",
       "      <th></th>\n",
       "      <th></th>\n",
       "      <th></th>\n",
       "      <th></th>\n",
       "      <th></th>\n",
       "      <th></th>\n",
       "      <th></th>\n",
       "      <th></th>\n",
       "      <th></th>\n",
       "      <th></th>\n",
       "      <th></th>\n",
       "      <th></th>\n",
       "      <th></th>\n",
       "      <th></th>\n",
       "      <th></th>\n",
       "      <th></th>\n",
       "      <th></th>\n",
       "      <th></th>\n",
       "      <th></th>\n",
       "    </tr>\n",
       "  </thead>\n",
       "  <tbody>\n",
       "    <tr>\n",
       "      <th>2018-09-05 20:44:36</th>\n",
       "      <td>0.0</td>\n",
       "      <td>0.0</td>\n",
       "      <td>0.0</td>\n",
       "      <td>0.0</td>\n",
       "      <td>0.0</td>\n",
       "      <td>0.0</td>\n",
       "      <td>0.0</td>\n",
       "      <td>0.0</td>\n",
       "      <td>0.0</td>\n",
       "      <td>0.0</td>\n",
       "      <td>...</td>\n",
       "      <td>0.0</td>\n",
       "      <td>0.0</td>\n",
       "      <td>-1.062317</td>\n",
       "      <td>-2.703362</td>\n",
       "      <td>-2.374172</td>\n",
       "      <td>0.0</td>\n",
       "      <td>-0.131847</td>\n",
       "      <td>0.0</td>\n",
       "      <td>0.0</td>\n",
       "      <td>0.001414</td>\n",
       "    </tr>\n",
       "    <tr>\n",
       "      <th>2018-09-05 20:44:37</th>\n",
       "      <td>0.0</td>\n",
       "      <td>0.0</td>\n",
       "      <td>0.0</td>\n",
       "      <td>0.0</td>\n",
       "      <td>0.0</td>\n",
       "      <td>0.0</td>\n",
       "      <td>0.0</td>\n",
       "      <td>0.0</td>\n",
       "      <td>0.0</td>\n",
       "      <td>0.0</td>\n",
       "      <td>...</td>\n",
       "      <td>0.0</td>\n",
       "      <td>0.0</td>\n",
       "      <td>-1.062317</td>\n",
       "      <td>-2.703362</td>\n",
       "      <td>-2.374172</td>\n",
       "      <td>0.0</td>\n",
       "      <td>-0.131847</td>\n",
       "      <td>0.0</td>\n",
       "      <td>0.0</td>\n",
       "      <td>0.001414</td>\n",
       "    </tr>\n",
       "    <tr>\n",
       "      <th>2018-09-05 20:44:38</th>\n",
       "      <td>0.0</td>\n",
       "      <td>0.0</td>\n",
       "      <td>0.0</td>\n",
       "      <td>0.0</td>\n",
       "      <td>0.0</td>\n",
       "      <td>0.0</td>\n",
       "      <td>0.0</td>\n",
       "      <td>0.0</td>\n",
       "      <td>0.0</td>\n",
       "      <td>0.0</td>\n",
       "      <td>...</td>\n",
       "      <td>0.0</td>\n",
       "      <td>0.0</td>\n",
       "      <td>-1.062317</td>\n",
       "      <td>-2.703362</td>\n",
       "      <td>-2.374172</td>\n",
       "      <td>0.0</td>\n",
       "      <td>-0.131847</td>\n",
       "      <td>0.0</td>\n",
       "      <td>0.0</td>\n",
       "      <td>0.001414</td>\n",
       "    </tr>\n",
       "    <tr>\n",
       "      <th>2018-09-05 20:44:39</th>\n",
       "      <td>0.0</td>\n",
       "      <td>0.0</td>\n",
       "      <td>0.0</td>\n",
       "      <td>0.0</td>\n",
       "      <td>0.0</td>\n",
       "      <td>0.0</td>\n",
       "      <td>0.0</td>\n",
       "      <td>0.0</td>\n",
       "      <td>0.0</td>\n",
       "      <td>0.0</td>\n",
       "      <td>...</td>\n",
       "      <td>0.0</td>\n",
       "      <td>0.0</td>\n",
       "      <td>-1.062317</td>\n",
       "      <td>-2.703362</td>\n",
       "      <td>-2.374172</td>\n",
       "      <td>0.0</td>\n",
       "      <td>-0.131847</td>\n",
       "      <td>0.0</td>\n",
       "      <td>0.0</td>\n",
       "      <td>0.001414</td>\n",
       "    </tr>\n",
       "    <tr>\n",
       "      <th>2018-09-05 20:44:40</th>\n",
       "      <td>0.0</td>\n",
       "      <td>0.0</td>\n",
       "      <td>0.0</td>\n",
       "      <td>0.0</td>\n",
       "      <td>0.0</td>\n",
       "      <td>0.0</td>\n",
       "      <td>0.0</td>\n",
       "      <td>0.0</td>\n",
       "      <td>0.0</td>\n",
       "      <td>0.0</td>\n",
       "      <td>...</td>\n",
       "      <td>0.0</td>\n",
       "      <td>0.0</td>\n",
       "      <td>-1.062317</td>\n",
       "      <td>-2.703362</td>\n",
       "      <td>-2.374172</td>\n",
       "      <td>0.0</td>\n",
       "      <td>-0.131847</td>\n",
       "      <td>0.0</td>\n",
       "      <td>0.0</td>\n",
       "      <td>0.001414</td>\n",
       "    </tr>\n",
       "  </tbody>\n",
       "</table>\n",
       "<p>5 rows × 22 columns</p>\n",
       "</div>"
      ],
      "text/plain": [
       "                     sensor_A  sensor_B  ESTADO-DHSV  ESTADO-M1  ESTADO-M2  \\\n",
       "timestamp                                                                    \n",
       "2018-09-05 20:44:36       0.0       0.0          0.0        0.0        0.0   \n",
       "2018-09-05 20:44:37       0.0       0.0          0.0        0.0        0.0   \n",
       "2018-09-05 20:44:38       0.0       0.0          0.0        0.0        0.0   \n",
       "2018-09-05 20:44:39       0.0       0.0          0.0        0.0        0.0   \n",
       "2018-09-05 20:44:40       0.0       0.0          0.0        0.0        0.0   \n",
       "\n",
       "                     ESTADO-PXO  ESTADO-SDV-GL  ESTADO-SDV-P  ESTADO-W1  \\\n",
       "timestamp                                                                 \n",
       "2018-09-05 20:44:36         0.0            0.0           0.0        0.0   \n",
       "2018-09-05 20:44:37         0.0            0.0           0.0        0.0   \n",
       "2018-09-05 20:44:38         0.0            0.0           0.0        0.0   \n",
       "2018-09-05 20:44:39         0.0            0.0           0.0        0.0   \n",
       "2018-09-05 20:44:40         0.0            0.0           0.0        0.0   \n",
       "\n",
       "                     ESTADO-W2  ...  P-JUS-CKGL  P-JUS-CKP  P-MON-CKP  \\\n",
       "timestamp                       ...                                     \n",
       "2018-09-05 20:44:36        0.0  ...         0.0        0.0  -1.062317   \n",
       "2018-09-05 20:44:37        0.0  ...         0.0        0.0  -1.062317   \n",
       "2018-09-05 20:44:38        0.0  ...         0.0        0.0  -1.062317   \n",
       "2018-09-05 20:44:39        0.0  ...         0.0        0.0  -1.062317   \n",
       "2018-09-05 20:44:40        0.0  ...         0.0        0.0  -1.062317   \n",
       "\n",
       "                        P-PDG     P-TPT  QGL  T-JUS-CKP  T-MON-CKP  T-PDG  \\\n",
       "timestamp                                                                   \n",
       "2018-09-05 20:44:36 -2.703362 -2.374172  0.0  -0.131847        0.0    0.0   \n",
       "2018-09-05 20:44:37 -2.703362 -2.374172  0.0  -0.131847        0.0    0.0   \n",
       "2018-09-05 20:44:38 -2.703362 -2.374172  0.0  -0.131847        0.0    0.0   \n",
       "2018-09-05 20:44:39 -2.703362 -2.374172  0.0  -0.131847        0.0    0.0   \n",
       "2018-09-05 20:44:40 -2.703362 -2.374172  0.0  -0.131847        0.0    0.0   \n",
       "\n",
       "                        T-TPT  \n",
       "timestamp                      \n",
       "2018-09-05 20:44:36  0.001414  \n",
       "2018-09-05 20:44:37  0.001414  \n",
       "2018-09-05 20:44:38  0.001414  \n",
       "2018-09-05 20:44:39  0.001414  \n",
       "2018-09-05 20:44:40  0.001414  \n",
       "\n",
       "[5 rows x 22 columns]"
      ]
     },
     "execution_count": 35,
     "metadata": {},
     "output_type": "execute_result"
    }
   ],
   "source": [
    "columns_map = {\n",
    "    \"ABER-CKGL\": \"sensor_A\",\n",
    "    \"ABER-CKP\": \"sensor_B\"\n",
    "}\n",
    "signal_renamed = rename_columns(signal, columns_map)\n",
    "signal_renamed.head()"
   ]
  },
  {
   "cell_type": "markdown",
   "metadata": {},
   "source": [
    "------"
   ]
  },
  {
   "cell_type": "markdown",
   "metadata": {},
   "source": [
    "## 4.  🔎 Feature Extraction\n"
   ]
  },
  {
   "cell_type": "markdown",
   "metadata": {},
   "source": [
    "In most time-series machine learning tasks, raw signal data is not used directly to train models. Instead, we use feature extraction to transform segments, or windows, of the time-series into a set of features that better represent the underlying patterns. This process converts a sequence of data points into a single row of features that a model can learn from.\n",
    "\n",
    "An important part of this process is aligning the extracted features (X) with their corresponding labels (y). Each of our feature extractors is designed to take both X and y as input and return the transformed features and their corectly aligned labels, ready for the modeling stage.\n",
    "\n",
    "In this section, we will demonstrate the three primary feature extraction methods available in the toolkit:\n",
    "\n",
    "* `ExtractStatisticalFeatures`: Captures the statistical properties of the data within each window (e.g. mean, std, skewness, kurtosis).\n",
    "* `ExtractWaveletFeatures`: Decomposes the signal within each window into it's frequency components. It generates approximation (low-frequency representation) and detail coefficients (high-frequency representation).\n",
    "* `ExtractEWStatisticalFeatures`: Exponentially Weighted statistical features. Similar to the standard statistical features, but give progressively more weight to more recent data points within a window. This is particularly useful when the most recent behavior in a window is more important than older behavior.\n"
   ]
  },
  {
   "cell_type": "markdown",
   "metadata": {},
   "source": [
    "First, we select the data for feature extraction using the functionalities presented in section 2"
   ]
  },
  {
   "cell_type": "code",
   "execution_count": 36,
   "metadata": {},
   "outputs": [],
   "source": [
    "X = raw_dataset[0]['signal']\n",
    "y = raw_dataset[0]['label']\n",
    "\n",
    "# Filling NaN values with 0 for demonstration purposes \n",
    "X = X.fillna(0)\n",
    "y = y.fillna(0)"
   ]
  },
  {
   "cell_type": "markdown",
   "metadata": {},
   "source": [
    "### 4.1 Statistical Feature Extraction\n"
   ]
  },
  {
   "cell_type": "markdown",
   "metadata": {},
   "source": [
    "In class `9`, the following statistical features are extracted:\n",
    "\n",
    "* `Mean`, `Standard Deviation`: Describe the central tendency and dispersion (volatility) of the signal in the window.\n",
    "* `Skewness`, `Kurtosis`: Describe the shape of the distribution. Skewness measures its asymmetry, while kurtosis measures how much the data is concentrated on the tail versus the center of the distribution.\n",
    "* `Minimum`, `1st Quartile`, `Median`, `3rd Quartile`, `Maximum`: Provide a summary of the statistical distribution through quartiles.\n",
    "\n"
   ]
  },
  {
   "cell_type": "code",
   "execution_count": 37,
   "metadata": {},
   "outputs": [],
   "source": [
    "# Configure the statistical extractor\n",
    "config_stats = extract_statistical_features.StatisticalConfig(window_size=20, overlap=0.75)\n",
    "\n",
    "# Instantiate the extractor\n",
    "statistical_extractor = extract_statistical_features.ExtractStatisticalFeatures(config_stats)\n",
    "\n",
    "# Apply it to the same sample data\n",
    "X_stats, y_stats = statistical_extractor(X, y)"
   ]
  },
  {
   "cell_type": "code",
   "execution_count": 38,
   "metadata": {},
   "outputs": [
    {
     "name": "stdout",
     "output_type": "stream",
     "text": [
      "Shape of the extracted statistical features: (34557, 198)\n",
      "Shape of the corresponding labels: (34557, 1)\n",
      "\n",
      "The columns contain the 9 statistical features extracted for each sensor.\n"
     ]
    },
    {
     "data": {
      "text/html": [
       "<div>\n",
       "<style scoped>\n",
       "    .dataframe tbody tr th:only-of-type {\n",
       "        vertical-align: middle;\n",
       "    }\n",
       "\n",
       "    .dataframe tbody tr th {\n",
       "        vertical-align: top;\n",
       "    }\n",
       "\n",
       "    .dataframe thead th {\n",
       "        text-align: right;\n",
       "    }\n",
       "</style>\n",
       "<table border=\"1\" class=\"dataframe\">\n",
       "  <thead>\n",
       "    <tr style=\"text-align: right;\">\n",
       "      <th></th>\n",
       "      <th>ABER-CKGL_mean</th>\n",
       "      <th>ABER-CKP_mean</th>\n",
       "      <th>ESTADO-DHSV_mean</th>\n",
       "      <th>ESTADO-M1_mean</th>\n",
       "      <th>ESTADO-M2_mean</th>\n",
       "      <th>ESTADO-PXO_mean</th>\n",
       "      <th>ESTADO-SDV-GL_mean</th>\n",
       "      <th>ESTADO-SDV-P_mean</th>\n",
       "      <th>ESTADO-W1_mean</th>\n",
       "      <th>ESTADO-W2_mean</th>\n",
       "      <th>...</th>\n",
       "      <th>P-JUS-CKGL_max</th>\n",
       "      <th>P-JUS-CKP_max</th>\n",
       "      <th>P-MON-CKP_max</th>\n",
       "      <th>P-PDG_max</th>\n",
       "      <th>P-TPT_max</th>\n",
       "      <th>QGL_max</th>\n",
       "      <th>T-JUS-CKP_max</th>\n",
       "      <th>T-MON-CKP_max</th>\n",
       "      <th>T-PDG_max</th>\n",
       "      <th>T-TPT_max</th>\n",
       "    </tr>\n",
       "    <tr>\n",
       "      <th>timestamp</th>\n",
       "      <th></th>\n",
       "      <th></th>\n",
       "      <th></th>\n",
       "      <th></th>\n",
       "      <th></th>\n",
       "      <th></th>\n",
       "      <th></th>\n",
       "      <th></th>\n",
       "      <th></th>\n",
       "      <th></th>\n",
       "      <th></th>\n",
       "      <th></th>\n",
       "      <th></th>\n",
       "      <th></th>\n",
       "      <th></th>\n",
       "      <th></th>\n",
       "      <th></th>\n",
       "      <th></th>\n",
       "      <th></th>\n",
       "      <th></th>\n",
       "      <th></th>\n",
       "    </tr>\n",
       "  </thead>\n",
       "  <tbody>\n",
       "    <tr>\n",
       "      <th>2018-09-05 20:44:55</th>\n",
       "      <td>0.0</td>\n",
       "      <td>0.0</td>\n",
       "      <td>0.0</td>\n",
       "      <td>0.0</td>\n",
       "      <td>0.0</td>\n",
       "      <td>0.0</td>\n",
       "      <td>0.0</td>\n",
       "      <td>0.0</td>\n",
       "      <td>0.0</td>\n",
       "      <td>0.0</td>\n",
       "      <td>...</td>\n",
       "      <td>0.0</td>\n",
       "      <td>0.0</td>\n",
       "      <td>-1.062317</td>\n",
       "      <td>-2.703362</td>\n",
       "      <td>-2.374172</td>\n",
       "      <td>0.0</td>\n",
       "      <td>-0.131847</td>\n",
       "      <td>0.0</td>\n",
       "      <td>0.0</td>\n",
       "      <td>0.589097</td>\n",
       "    </tr>\n",
       "    <tr>\n",
       "      <th>2018-09-05 20:45:00</th>\n",
       "      <td>0.0</td>\n",
       "      <td>0.0</td>\n",
       "      <td>0.0</td>\n",
       "      <td>0.0</td>\n",
       "      <td>0.0</td>\n",
       "      <td>0.0</td>\n",
       "      <td>0.0</td>\n",
       "      <td>0.0</td>\n",
       "      <td>0.0</td>\n",
       "      <td>0.0</td>\n",
       "      <td>...</td>\n",
       "      <td>0.0</td>\n",
       "      <td>0.0</td>\n",
       "      <td>-1.062317</td>\n",
       "      <td>-2.703362</td>\n",
       "      <td>-2.374172</td>\n",
       "      <td>0.0</td>\n",
       "      <td>-0.131847</td>\n",
       "      <td>0.0</td>\n",
       "      <td>0.0</td>\n",
       "      <td>0.589097</td>\n",
       "    </tr>\n",
       "    <tr>\n",
       "      <th>2018-09-05 20:45:05</th>\n",
       "      <td>0.0</td>\n",
       "      <td>0.0</td>\n",
       "      <td>0.0</td>\n",
       "      <td>0.0</td>\n",
       "      <td>0.0</td>\n",
       "      <td>0.0</td>\n",
       "      <td>0.0</td>\n",
       "      <td>0.0</td>\n",
       "      <td>0.0</td>\n",
       "      <td>0.0</td>\n",
       "      <td>...</td>\n",
       "      <td>0.0</td>\n",
       "      <td>0.0</td>\n",
       "      <td>-1.062317</td>\n",
       "      <td>-2.703362</td>\n",
       "      <td>-2.374172</td>\n",
       "      <td>0.0</td>\n",
       "      <td>-0.131847</td>\n",
       "      <td>0.0</td>\n",
       "      <td>0.0</td>\n",
       "      <td>0.589097</td>\n",
       "    </tr>\n",
       "    <tr>\n",
       "      <th>2018-09-05 20:45:10</th>\n",
       "      <td>0.0</td>\n",
       "      <td>0.0</td>\n",
       "      <td>0.0</td>\n",
       "      <td>0.0</td>\n",
       "      <td>0.0</td>\n",
       "      <td>0.0</td>\n",
       "      <td>0.0</td>\n",
       "      <td>0.0</td>\n",
       "      <td>0.0</td>\n",
       "      <td>0.0</td>\n",
       "      <td>...</td>\n",
       "      <td>0.0</td>\n",
       "      <td>0.0</td>\n",
       "      <td>-1.062317</td>\n",
       "      <td>-2.703362</td>\n",
       "      <td>-2.374172</td>\n",
       "      <td>0.0</td>\n",
       "      <td>-0.131847</td>\n",
       "      <td>0.0</td>\n",
       "      <td>0.0</td>\n",
       "      <td>0.589097</td>\n",
       "    </tr>\n",
       "    <tr>\n",
       "      <th>2018-09-05 20:45:15</th>\n",
       "      <td>0.0</td>\n",
       "      <td>0.0</td>\n",
       "      <td>0.0</td>\n",
       "      <td>0.0</td>\n",
       "      <td>0.0</td>\n",
       "      <td>0.0</td>\n",
       "      <td>0.0</td>\n",
       "      <td>0.0</td>\n",
       "      <td>0.0</td>\n",
       "      <td>0.0</td>\n",
       "      <td>...</td>\n",
       "      <td>0.0</td>\n",
       "      <td>0.0</td>\n",
       "      <td>-1.062317</td>\n",
       "      <td>-2.703362</td>\n",
       "      <td>-2.374172</td>\n",
       "      <td>0.0</td>\n",
       "      <td>-0.131847</td>\n",
       "      <td>0.0</td>\n",
       "      <td>0.0</td>\n",
       "      <td>0.589097</td>\n",
       "    </tr>\n",
       "  </tbody>\n",
       "</table>\n",
       "<p>5 rows × 198 columns</p>\n",
       "</div>"
      ],
      "text/plain": [
       "                     ABER-CKGL_mean  ABER-CKP_mean  ESTADO-DHSV_mean  \\\n",
       "timestamp                                                              \n",
       "2018-09-05 20:44:55             0.0            0.0               0.0   \n",
       "2018-09-05 20:45:00             0.0            0.0               0.0   \n",
       "2018-09-05 20:45:05             0.0            0.0               0.0   \n",
       "2018-09-05 20:45:10             0.0            0.0               0.0   \n",
       "2018-09-05 20:45:15             0.0            0.0               0.0   \n",
       "\n",
       "                     ESTADO-M1_mean  ESTADO-M2_mean  ESTADO-PXO_mean  \\\n",
       "timestamp                                                              \n",
       "2018-09-05 20:44:55             0.0             0.0              0.0   \n",
       "2018-09-05 20:45:00             0.0             0.0              0.0   \n",
       "2018-09-05 20:45:05             0.0             0.0              0.0   \n",
       "2018-09-05 20:45:10             0.0             0.0              0.0   \n",
       "2018-09-05 20:45:15             0.0             0.0              0.0   \n",
       "\n",
       "                     ESTADO-SDV-GL_mean  ESTADO-SDV-P_mean  ESTADO-W1_mean  \\\n",
       "timestamp                                                                    \n",
       "2018-09-05 20:44:55                 0.0                0.0             0.0   \n",
       "2018-09-05 20:45:00                 0.0                0.0             0.0   \n",
       "2018-09-05 20:45:05                 0.0                0.0             0.0   \n",
       "2018-09-05 20:45:10                 0.0                0.0             0.0   \n",
       "2018-09-05 20:45:15                 0.0                0.0             0.0   \n",
       "\n",
       "                     ESTADO-W2_mean  ...  P-JUS-CKGL_max  P-JUS-CKP_max  \\\n",
       "timestamp                            ...                                  \n",
       "2018-09-05 20:44:55             0.0  ...             0.0            0.0   \n",
       "2018-09-05 20:45:00             0.0  ...             0.0            0.0   \n",
       "2018-09-05 20:45:05             0.0  ...             0.0            0.0   \n",
       "2018-09-05 20:45:10             0.0  ...             0.0            0.0   \n",
       "2018-09-05 20:45:15             0.0  ...             0.0            0.0   \n",
       "\n",
       "                     P-MON-CKP_max  P-PDG_max  P-TPT_max  QGL_max  \\\n",
       "timestamp                                                           \n",
       "2018-09-05 20:44:55      -1.062317  -2.703362  -2.374172      0.0   \n",
       "2018-09-05 20:45:00      -1.062317  -2.703362  -2.374172      0.0   \n",
       "2018-09-05 20:45:05      -1.062317  -2.703362  -2.374172      0.0   \n",
       "2018-09-05 20:45:10      -1.062317  -2.703362  -2.374172      0.0   \n",
       "2018-09-05 20:45:15      -1.062317  -2.703362  -2.374172      0.0   \n",
       "\n",
       "                     T-JUS-CKP_max  T-MON-CKP_max  T-PDG_max  T-TPT_max  \n",
       "timestamp                                                                \n",
       "2018-09-05 20:44:55      -0.131847            0.0        0.0   0.589097  \n",
       "2018-09-05 20:45:00      -0.131847            0.0        0.0   0.589097  \n",
       "2018-09-05 20:45:05      -0.131847            0.0        0.0   0.589097  \n",
       "2018-09-05 20:45:10      -0.131847            0.0        0.0   0.589097  \n",
       "2018-09-05 20:45:15      -0.131847            0.0        0.0   0.589097  \n",
       "\n",
       "[5 rows x 198 columns]"
      ]
     },
     "execution_count": 38,
     "metadata": {},
     "output_type": "execute_result"
    }
   ],
   "source": [
    "# Display the first few rows of the result\n",
    "print(f\"Shape of the extracted statistical features: {X_stats.shape}\")\n",
    "print(f\"Shape of the corresponding labels: {y_stats.shape}\")\n",
    "print(\"\\nThe columns contain the 9 statistical features extracted for each sensor.\")\n",
    "\n",
    "X_stats.head()"
   ]
  },
  {
   "cell_type": "markdown",
   "metadata": {},
   "source": [
    "### 4.2 Wavelet Feature Extraction"
   ]
  },
  {
   "cell_type": "markdown",
   "metadata": {},
   "source": [
    "The Wavelet Feature Extractor uses the Stationary Wavelet Transform (SWT). This method decomposes the signal within each window into different frequency components, which can often capture patterns that are invisible to standard statistical measures.\n",
    "\n",
    "For each level of decomposition, two sets of coefficients are generated:\n",
    "\n",
    "* `Approximation Coefficients (A)`: These capture the low-frequency, underlying trend of the signal. Think of it as a smoothed or downsampled version of the signal within the window.\n",
    "* `Detail Coefficients (D)`: These capture the high-frequency components, representing noise, spikes, and other abrupt changes.\n",
    "\n"
   ]
  },
  {
   "cell_type": "code",
   "execution_count": 39,
   "metadata": {},
   "outputs": [],
   "source": [
    "# Configure the extractor\n",
    "config_wavelets = extract_wavelet_features.WaveletConfig(level=3, overlap=0.875, offset=0)\n",
    "\n",
    "# Instantiate the extractor\n",
    "wavelet_extractor = extract_wavelet_features.ExtractWaveletFeatures(config_wavelets)\n",
    "\n",
    "# Apply it to our data\n",
    "X_wav, y_wav = wavelet_extractor(X, y)"
   ]
  },
  {
   "cell_type": "code",
   "execution_count": 40,
   "metadata": {},
   "outputs": [
    {
     "name": "stdout",
     "output_type": "stream",
     "text": [
      "Shape of the extracted features: (172793, 154)\n",
      "Shape of the corresponding labels: (172793, 1)\n",
      "\n",
      "Columns are named as <sensor_name>_<feature>_<level>.\n",
      "Ex: sensor_1_A3 is the level 3 approximation coefficient for sensor 1.\n"
     ]
    },
    {
     "data": {
      "text/html": [
       "<div>\n",
       "<style scoped>\n",
       "    .dataframe tbody tr th:only-of-type {\n",
       "        vertical-align: middle;\n",
       "    }\n",
       "\n",
       "    .dataframe tbody tr th {\n",
       "        vertical-align: top;\n",
       "    }\n",
       "\n",
       "    .dataframe thead th {\n",
       "        text-align: right;\n",
       "    }\n",
       "</style>\n",
       "<table border=\"1\" class=\"dataframe\">\n",
       "  <thead>\n",
       "    <tr style=\"text-align: right;\">\n",
       "      <th></th>\n",
       "      <th>ABER-CKGL_A3</th>\n",
       "      <th>ABER-CKP_A3</th>\n",
       "      <th>ESTADO-DHSV_A3</th>\n",
       "      <th>ESTADO-M1_A3</th>\n",
       "      <th>ESTADO-M2_A3</th>\n",
       "      <th>ESTADO-PXO_A3</th>\n",
       "      <th>ESTADO-SDV-GL_A3</th>\n",
       "      <th>ESTADO-SDV-P_A3</th>\n",
       "      <th>ESTADO-W1_A3</th>\n",
       "      <th>ESTADO-W2_A3</th>\n",
       "      <th>...</th>\n",
       "      <th>P-JUS-CKGL_A0</th>\n",
       "      <th>P-JUS-CKP_A0</th>\n",
       "      <th>P-MON-CKP_A0</th>\n",
       "      <th>P-PDG_A0</th>\n",
       "      <th>P-TPT_A0</th>\n",
       "      <th>QGL_A0</th>\n",
       "      <th>T-JUS-CKP_A0</th>\n",
       "      <th>T-MON-CKP_A0</th>\n",
       "      <th>T-PDG_A0</th>\n",
       "      <th>T-TPT_A0</th>\n",
       "    </tr>\n",
       "    <tr>\n",
       "      <th>timestamp</th>\n",
       "      <th></th>\n",
       "      <th></th>\n",
       "      <th></th>\n",
       "      <th></th>\n",
       "      <th></th>\n",
       "      <th></th>\n",
       "      <th></th>\n",
       "      <th></th>\n",
       "      <th></th>\n",
       "      <th></th>\n",
       "      <th></th>\n",
       "      <th></th>\n",
       "      <th></th>\n",
       "      <th></th>\n",
       "      <th></th>\n",
       "      <th></th>\n",
       "      <th></th>\n",
       "      <th></th>\n",
       "      <th></th>\n",
       "      <th></th>\n",
       "      <th></th>\n",
       "    </tr>\n",
       "  </thead>\n",
       "  <tbody>\n",
       "    <tr>\n",
       "      <th>2018-09-05 20:44:43</th>\n",
       "      <td>0.0</td>\n",
       "      <td>0.0</td>\n",
       "      <td>0.0</td>\n",
       "      <td>0.0</td>\n",
       "      <td>0.0</td>\n",
       "      <td>0.0</td>\n",
       "      <td>0.0</td>\n",
       "      <td>0.0</td>\n",
       "      <td>0.0</td>\n",
       "      <td>0.0</td>\n",
       "      <td>...</td>\n",
       "      <td>0.0</td>\n",
       "      <td>0.0</td>\n",
       "      <td>-1.062317</td>\n",
       "      <td>-2.703362</td>\n",
       "      <td>-2.374172</td>\n",
       "      <td>0.0</td>\n",
       "      <td>-0.131847</td>\n",
       "      <td>0.0</td>\n",
       "      <td>0.0</td>\n",
       "      <td>0.589097</td>\n",
       "    </tr>\n",
       "    <tr>\n",
       "      <th>2018-09-05 20:44:44</th>\n",
       "      <td>0.0</td>\n",
       "      <td>0.0</td>\n",
       "      <td>0.0</td>\n",
       "      <td>0.0</td>\n",
       "      <td>0.0</td>\n",
       "      <td>0.0</td>\n",
       "      <td>0.0</td>\n",
       "      <td>0.0</td>\n",
       "      <td>0.0</td>\n",
       "      <td>0.0</td>\n",
       "      <td>...</td>\n",
       "      <td>0.0</td>\n",
       "      <td>0.0</td>\n",
       "      <td>-1.062317</td>\n",
       "      <td>-2.703362</td>\n",
       "      <td>-2.374172</td>\n",
       "      <td>0.0</td>\n",
       "      <td>-0.131847</td>\n",
       "      <td>0.0</td>\n",
       "      <td>0.0</td>\n",
       "      <td>0.589097</td>\n",
       "    </tr>\n",
       "    <tr>\n",
       "      <th>2018-09-05 20:44:45</th>\n",
       "      <td>0.0</td>\n",
       "      <td>0.0</td>\n",
       "      <td>0.0</td>\n",
       "      <td>0.0</td>\n",
       "      <td>0.0</td>\n",
       "      <td>0.0</td>\n",
       "      <td>0.0</td>\n",
       "      <td>0.0</td>\n",
       "      <td>0.0</td>\n",
       "      <td>0.0</td>\n",
       "      <td>...</td>\n",
       "      <td>0.0</td>\n",
       "      <td>0.0</td>\n",
       "      <td>-1.062317</td>\n",
       "      <td>-2.703362</td>\n",
       "      <td>-2.374172</td>\n",
       "      <td>0.0</td>\n",
       "      <td>-0.131847</td>\n",
       "      <td>0.0</td>\n",
       "      <td>0.0</td>\n",
       "      <td>0.589097</td>\n",
       "    </tr>\n",
       "    <tr>\n",
       "      <th>2018-09-05 20:44:46</th>\n",
       "      <td>0.0</td>\n",
       "      <td>0.0</td>\n",
       "      <td>0.0</td>\n",
       "      <td>0.0</td>\n",
       "      <td>0.0</td>\n",
       "      <td>0.0</td>\n",
       "      <td>0.0</td>\n",
       "      <td>0.0</td>\n",
       "      <td>0.0</td>\n",
       "      <td>0.0</td>\n",
       "      <td>...</td>\n",
       "      <td>0.0</td>\n",
       "      <td>0.0</td>\n",
       "      <td>-1.062317</td>\n",
       "      <td>-2.703362</td>\n",
       "      <td>-2.374172</td>\n",
       "      <td>0.0</td>\n",
       "      <td>-0.131847</td>\n",
       "      <td>0.0</td>\n",
       "      <td>0.0</td>\n",
       "      <td>0.589097</td>\n",
       "    </tr>\n",
       "    <tr>\n",
       "      <th>2018-09-05 20:44:47</th>\n",
       "      <td>0.0</td>\n",
       "      <td>0.0</td>\n",
       "      <td>0.0</td>\n",
       "      <td>0.0</td>\n",
       "      <td>0.0</td>\n",
       "      <td>0.0</td>\n",
       "      <td>0.0</td>\n",
       "      <td>0.0</td>\n",
       "      <td>0.0</td>\n",
       "      <td>0.0</td>\n",
       "      <td>...</td>\n",
       "      <td>0.0</td>\n",
       "      <td>0.0</td>\n",
       "      <td>-1.062317</td>\n",
       "      <td>-2.703362</td>\n",
       "      <td>-2.374172</td>\n",
       "      <td>0.0</td>\n",
       "      <td>-0.131847</td>\n",
       "      <td>0.0</td>\n",
       "      <td>0.0</td>\n",
       "      <td>0.589097</td>\n",
       "    </tr>\n",
       "  </tbody>\n",
       "</table>\n",
       "<p>5 rows × 154 columns</p>\n",
       "</div>"
      ],
      "text/plain": [
       "                     ABER-CKGL_A3  ABER-CKP_A3  ESTADO-DHSV_A3  ESTADO-M1_A3  \\\n",
       "timestamp                                                                      \n",
       "2018-09-05 20:44:43           0.0          0.0             0.0           0.0   \n",
       "2018-09-05 20:44:44           0.0          0.0             0.0           0.0   \n",
       "2018-09-05 20:44:45           0.0          0.0             0.0           0.0   \n",
       "2018-09-05 20:44:46           0.0          0.0             0.0           0.0   \n",
       "2018-09-05 20:44:47           0.0          0.0             0.0           0.0   \n",
       "\n",
       "                     ESTADO-M2_A3  ESTADO-PXO_A3  ESTADO-SDV-GL_A3  \\\n",
       "timestamp                                                            \n",
       "2018-09-05 20:44:43           0.0            0.0               0.0   \n",
       "2018-09-05 20:44:44           0.0            0.0               0.0   \n",
       "2018-09-05 20:44:45           0.0            0.0               0.0   \n",
       "2018-09-05 20:44:46           0.0            0.0               0.0   \n",
       "2018-09-05 20:44:47           0.0            0.0               0.0   \n",
       "\n",
       "                     ESTADO-SDV-P_A3  ESTADO-W1_A3  ESTADO-W2_A3  ...  \\\n",
       "timestamp                                                         ...   \n",
       "2018-09-05 20:44:43              0.0           0.0           0.0  ...   \n",
       "2018-09-05 20:44:44              0.0           0.0           0.0  ...   \n",
       "2018-09-05 20:44:45              0.0           0.0           0.0  ...   \n",
       "2018-09-05 20:44:46              0.0           0.0           0.0  ...   \n",
       "2018-09-05 20:44:47              0.0           0.0           0.0  ...   \n",
       "\n",
       "                     P-JUS-CKGL_A0  P-JUS-CKP_A0  P-MON-CKP_A0  P-PDG_A0  \\\n",
       "timestamp                                                                  \n",
       "2018-09-05 20:44:43            0.0           0.0     -1.062317 -2.703362   \n",
       "2018-09-05 20:44:44            0.0           0.0     -1.062317 -2.703362   \n",
       "2018-09-05 20:44:45            0.0           0.0     -1.062317 -2.703362   \n",
       "2018-09-05 20:44:46            0.0           0.0     -1.062317 -2.703362   \n",
       "2018-09-05 20:44:47            0.0           0.0     -1.062317 -2.703362   \n",
       "\n",
       "                     P-TPT_A0  QGL_A0  T-JUS-CKP_A0  T-MON-CKP_A0  T-PDG_A0  \\\n",
       "timestamp                                                                     \n",
       "2018-09-05 20:44:43 -2.374172     0.0     -0.131847           0.0       0.0   \n",
       "2018-09-05 20:44:44 -2.374172     0.0     -0.131847           0.0       0.0   \n",
       "2018-09-05 20:44:45 -2.374172     0.0     -0.131847           0.0       0.0   \n",
       "2018-09-05 20:44:46 -2.374172     0.0     -0.131847           0.0       0.0   \n",
       "2018-09-05 20:44:47 -2.374172     0.0     -0.131847           0.0       0.0   \n",
       "\n",
       "                     T-TPT_A0  \n",
       "timestamp                      \n",
       "2018-09-05 20:44:43  0.589097  \n",
       "2018-09-05 20:44:44  0.589097  \n",
       "2018-09-05 20:44:45  0.589097  \n",
       "2018-09-05 20:44:46  0.589097  \n",
       "2018-09-05 20:44:47  0.589097  \n",
       "\n",
       "[5 rows x 154 columns]"
      ]
     },
     "execution_count": 40,
     "metadata": {},
     "output_type": "execute_result"
    }
   ],
   "source": [
    "# Display the first few rows of the result\n",
    "print(f\"Shape of the extracted features: {X_wav.shape}\")\n",
    "print(f\"Shape of the corresponding labels: {y_wav.shape}\")\n",
    "print(\"\\nColumns are named as <sensor_name>_<feature>_<level>.\")\n",
    "print(\"Ex: sensor_1_A3 is the level 3 approximation coefficient for sensor 1.\")\n",
    "\n",
    "X_wav.head()"
   ]
  },
  {
   "cell_type": "code",
   "execution_count": 41,
   "metadata": {},
   "outputs": [],
   "source": [
    "# Configure with an offset\n",
    "config_offset = extract_wavelet_features.WaveletConfig(level=3, overlap=0.875, offset=20)\n",
    "extractor_offset = extract_wavelet_features.ExtractWaveletFeatures(config_offset)\n",
    "X_off, y_off = extractor_offset(X, y)"
   ]
  },
  {
   "cell_type": "code",
   "execution_count": 42,
   "metadata": {},
   "outputs": [
    {
     "name": "stdout",
     "output_type": "stream",
     "text": [
      "--- No offset ---\n",
      "Start index: 2018-09-05 20:44:43\n",
      "\n",
      "--- Using offset=20 ---\n",
      "Start index with offset: 2018-09-05 20:45:03\n",
      "Extraction began 20 points later, so the first timestamp is delayed.\n"
     ]
    },
    {
     "data": {
      "text/html": [
       "<div>\n",
       "<style scoped>\n",
       "    .dataframe tbody tr th:only-of-type {\n",
       "        vertical-align: middle;\n",
       "    }\n",
       "\n",
       "    .dataframe tbody tr th {\n",
       "        vertical-align: top;\n",
       "    }\n",
       "\n",
       "    .dataframe thead th {\n",
       "        text-align: right;\n",
       "    }\n",
       "</style>\n",
       "<table border=\"1\" class=\"dataframe\">\n",
       "  <thead>\n",
       "    <tr style=\"text-align: right;\">\n",
       "      <th></th>\n",
       "      <th>ABER-CKGL_A3</th>\n",
       "      <th>ABER-CKP_A3</th>\n",
       "      <th>ESTADO-DHSV_A3</th>\n",
       "      <th>ESTADO-M1_A3</th>\n",
       "      <th>ESTADO-M2_A3</th>\n",
       "      <th>ESTADO-PXO_A3</th>\n",
       "      <th>ESTADO-SDV-GL_A3</th>\n",
       "      <th>ESTADO-SDV-P_A3</th>\n",
       "      <th>ESTADO-W1_A3</th>\n",
       "      <th>ESTADO-W2_A3</th>\n",
       "      <th>...</th>\n",
       "      <th>P-JUS-CKGL_A0</th>\n",
       "      <th>P-JUS-CKP_A0</th>\n",
       "      <th>P-MON-CKP_A0</th>\n",
       "      <th>P-PDG_A0</th>\n",
       "      <th>P-TPT_A0</th>\n",
       "      <th>QGL_A0</th>\n",
       "      <th>T-JUS-CKP_A0</th>\n",
       "      <th>T-MON-CKP_A0</th>\n",
       "      <th>T-PDG_A0</th>\n",
       "      <th>T-TPT_A0</th>\n",
       "    </tr>\n",
       "    <tr>\n",
       "      <th>timestamp</th>\n",
       "      <th></th>\n",
       "      <th></th>\n",
       "      <th></th>\n",
       "      <th></th>\n",
       "      <th></th>\n",
       "      <th></th>\n",
       "      <th></th>\n",
       "      <th></th>\n",
       "      <th></th>\n",
       "      <th></th>\n",
       "      <th></th>\n",
       "      <th></th>\n",
       "      <th></th>\n",
       "      <th></th>\n",
       "      <th></th>\n",
       "      <th></th>\n",
       "      <th></th>\n",
       "      <th></th>\n",
       "      <th></th>\n",
       "      <th></th>\n",
       "      <th></th>\n",
       "    </tr>\n",
       "  </thead>\n",
       "  <tbody>\n",
       "    <tr>\n",
       "      <th>2018-09-05 20:45:03</th>\n",
       "      <td>0.0</td>\n",
       "      <td>0.0</td>\n",
       "      <td>0.0</td>\n",
       "      <td>0.0</td>\n",
       "      <td>0.0</td>\n",
       "      <td>0.0</td>\n",
       "      <td>0.0</td>\n",
       "      <td>0.0</td>\n",
       "      <td>0.0</td>\n",
       "      <td>0.0</td>\n",
       "      <td>...</td>\n",
       "      <td>0.0</td>\n",
       "      <td>0.0</td>\n",
       "      <td>-1.062317</td>\n",
       "      <td>-2.703362</td>\n",
       "      <td>-2.374172</td>\n",
       "      <td>0.0</td>\n",
       "      <td>-0.131847</td>\n",
       "      <td>0.0</td>\n",
       "      <td>0.0</td>\n",
       "      <td>0.589097</td>\n",
       "    </tr>\n",
       "    <tr>\n",
       "      <th>2018-09-05 20:45:04</th>\n",
       "      <td>0.0</td>\n",
       "      <td>0.0</td>\n",
       "      <td>0.0</td>\n",
       "      <td>0.0</td>\n",
       "      <td>0.0</td>\n",
       "      <td>0.0</td>\n",
       "      <td>0.0</td>\n",
       "      <td>0.0</td>\n",
       "      <td>0.0</td>\n",
       "      <td>0.0</td>\n",
       "      <td>...</td>\n",
       "      <td>0.0</td>\n",
       "      <td>0.0</td>\n",
       "      <td>-1.062317</td>\n",
       "      <td>-2.703362</td>\n",
       "      <td>-2.374172</td>\n",
       "      <td>0.0</td>\n",
       "      <td>-0.131847</td>\n",
       "      <td>0.0</td>\n",
       "      <td>0.0</td>\n",
       "      <td>0.589097</td>\n",
       "    </tr>\n",
       "    <tr>\n",
       "      <th>2018-09-05 20:45:05</th>\n",
       "      <td>0.0</td>\n",
       "      <td>0.0</td>\n",
       "      <td>0.0</td>\n",
       "      <td>0.0</td>\n",
       "      <td>0.0</td>\n",
       "      <td>0.0</td>\n",
       "      <td>0.0</td>\n",
       "      <td>0.0</td>\n",
       "      <td>0.0</td>\n",
       "      <td>0.0</td>\n",
       "      <td>...</td>\n",
       "      <td>0.0</td>\n",
       "      <td>0.0</td>\n",
       "      <td>-1.062317</td>\n",
       "      <td>-2.703362</td>\n",
       "      <td>-2.374172</td>\n",
       "      <td>0.0</td>\n",
       "      <td>-0.131847</td>\n",
       "      <td>0.0</td>\n",
       "      <td>0.0</td>\n",
       "      <td>0.589097</td>\n",
       "    </tr>\n",
       "    <tr>\n",
       "      <th>2018-09-05 20:45:06</th>\n",
       "      <td>0.0</td>\n",
       "      <td>0.0</td>\n",
       "      <td>0.0</td>\n",
       "      <td>0.0</td>\n",
       "      <td>0.0</td>\n",
       "      <td>0.0</td>\n",
       "      <td>0.0</td>\n",
       "      <td>0.0</td>\n",
       "      <td>0.0</td>\n",
       "      <td>0.0</td>\n",
       "      <td>...</td>\n",
       "      <td>0.0</td>\n",
       "      <td>0.0</td>\n",
       "      <td>-1.062317</td>\n",
       "      <td>-2.703362</td>\n",
       "      <td>-2.374172</td>\n",
       "      <td>0.0</td>\n",
       "      <td>-0.131847</td>\n",
       "      <td>0.0</td>\n",
       "      <td>0.0</td>\n",
       "      <td>0.589097</td>\n",
       "    </tr>\n",
       "    <tr>\n",
       "      <th>2018-09-05 20:45:07</th>\n",
       "      <td>0.0</td>\n",
       "      <td>0.0</td>\n",
       "      <td>0.0</td>\n",
       "      <td>0.0</td>\n",
       "      <td>0.0</td>\n",
       "      <td>0.0</td>\n",
       "      <td>0.0</td>\n",
       "      <td>0.0</td>\n",
       "      <td>0.0</td>\n",
       "      <td>0.0</td>\n",
       "      <td>...</td>\n",
       "      <td>0.0</td>\n",
       "      <td>0.0</td>\n",
       "      <td>-1.062317</td>\n",
       "      <td>-2.703362</td>\n",
       "      <td>-2.374172</td>\n",
       "      <td>0.0</td>\n",
       "      <td>-0.131847</td>\n",
       "      <td>0.0</td>\n",
       "      <td>0.0</td>\n",
       "      <td>0.589097</td>\n",
       "    </tr>\n",
       "  </tbody>\n",
       "</table>\n",
       "<p>5 rows × 154 columns</p>\n",
       "</div>"
      ],
      "text/plain": [
       "                     ABER-CKGL_A3  ABER-CKP_A3  ESTADO-DHSV_A3  ESTADO-M1_A3  \\\n",
       "timestamp                                                                      \n",
       "2018-09-05 20:45:03           0.0          0.0             0.0           0.0   \n",
       "2018-09-05 20:45:04           0.0          0.0             0.0           0.0   \n",
       "2018-09-05 20:45:05           0.0          0.0             0.0           0.0   \n",
       "2018-09-05 20:45:06           0.0          0.0             0.0           0.0   \n",
       "2018-09-05 20:45:07           0.0          0.0             0.0           0.0   \n",
       "\n",
       "                     ESTADO-M2_A3  ESTADO-PXO_A3  ESTADO-SDV-GL_A3  \\\n",
       "timestamp                                                            \n",
       "2018-09-05 20:45:03           0.0            0.0               0.0   \n",
       "2018-09-05 20:45:04           0.0            0.0               0.0   \n",
       "2018-09-05 20:45:05           0.0            0.0               0.0   \n",
       "2018-09-05 20:45:06           0.0            0.0               0.0   \n",
       "2018-09-05 20:45:07           0.0            0.0               0.0   \n",
       "\n",
       "                     ESTADO-SDV-P_A3  ESTADO-W1_A3  ESTADO-W2_A3  ...  \\\n",
       "timestamp                                                         ...   \n",
       "2018-09-05 20:45:03              0.0           0.0           0.0  ...   \n",
       "2018-09-05 20:45:04              0.0           0.0           0.0  ...   \n",
       "2018-09-05 20:45:05              0.0           0.0           0.0  ...   \n",
       "2018-09-05 20:45:06              0.0           0.0           0.0  ...   \n",
       "2018-09-05 20:45:07              0.0           0.0           0.0  ...   \n",
       "\n",
       "                     P-JUS-CKGL_A0  P-JUS-CKP_A0  P-MON-CKP_A0  P-PDG_A0  \\\n",
       "timestamp                                                                  \n",
       "2018-09-05 20:45:03            0.0           0.0     -1.062317 -2.703362   \n",
       "2018-09-05 20:45:04            0.0           0.0     -1.062317 -2.703362   \n",
       "2018-09-05 20:45:05            0.0           0.0     -1.062317 -2.703362   \n",
       "2018-09-05 20:45:06            0.0           0.0     -1.062317 -2.703362   \n",
       "2018-09-05 20:45:07            0.0           0.0     -1.062317 -2.703362   \n",
       "\n",
       "                     P-TPT_A0  QGL_A0  T-JUS-CKP_A0  T-MON-CKP_A0  T-PDG_A0  \\\n",
       "timestamp                                                                     \n",
       "2018-09-05 20:45:03 -2.374172     0.0     -0.131847           0.0       0.0   \n",
       "2018-09-05 20:45:04 -2.374172     0.0     -0.131847           0.0       0.0   \n",
       "2018-09-05 20:45:05 -2.374172     0.0     -0.131847           0.0       0.0   \n",
       "2018-09-05 20:45:06 -2.374172     0.0     -0.131847           0.0       0.0   \n",
       "2018-09-05 20:45:07 -2.374172     0.0     -0.131847           0.0       0.0   \n",
       "\n",
       "                     T-TPT_A0  \n",
       "timestamp                      \n",
       "2018-09-05 20:45:03  0.589097  \n",
       "2018-09-05 20:45:04  0.589097  \n",
       "2018-09-05 20:45:05  0.589097  \n",
       "2018-09-05 20:45:06  0.589097  \n",
       "2018-09-05 20:45:07  0.589097  \n",
       "\n",
       "[5 rows x 154 columns]"
      ]
     },
     "execution_count": 42,
     "metadata": {},
     "output_type": "execute_result"
    }
   ],
   "source": [
    "print(\"--- No offset ---\")\n",
    "print(\"Start index:\", X_wav.index[0])\n",
    "\n",
    "print(\"\\n--- Using offset=20 ---\")\n",
    "print(\"Start index with offset:\", X_off.index[0])\n",
    "print(\"Extraction began 20 points later, so the first timestamp is delayed.\")\n",
    "\n",
    "X_off.head()"
   ]
  },
  {
   "cell_type": "markdown",
   "metadata": {},
   "source": [
    "### 4.3 Exponentially Weighted Statistical Feature Extraction"
   ]
  },
  {
   "cell_type": "markdown",
   "metadata": {},
   "source": [
    "Provides a specialized version of the standard statistical features. The \"EW\" stands for **Exponentially Weighted**.\n",
    "\n",
    "In this method, not all data points in a window are treated equally. Instead, more recent data points are given progressively higher weight than older points. The rate at which the importance of older data decays is controlled by the decay parameter.\n",
    "\n",
    "This is particularly useful in scenarios where the most recent behavior within a window is more predictive of the outcome than the behavior at the beginning of the window. It creates features that are more sensitive to the latest changes in the signal.\n",
    "\n"
   ]
  },
  {
   "cell_type": "code",
   "execution_count": 43,
   "metadata": {},
   "outputs": [],
   "source": [
    "# Configuring the EW statistical extractor\n",
    "# decay: A value between 0 and 1. A higher value gives more weight to more recent points.\n",
    "# A decay of 0.9 means each data point has 90% of the weight of the next point in the window.\n",
    "config_ew = extract_exponential_statistics_features.EWStatisticalConfig(window_size=20, overlap=0.75, decay=0.9)\n",
    "\n",
    "ew_extractor = extract_exponential_statistics_features.ExtractEWStatisticalFeatures(config_ew)\n",
    "\n",
    "X_ew, y_ew = ew_extractor(X, y)"
   ]
  },
  {
   "cell_type": "code",
   "execution_count": 44,
   "metadata": {},
   "outputs": [
    {
     "name": "stdout",
     "output_type": "stream",
     "text": [
      "Shape of the extracted EW Statistical features: (34557, 198)\n",
      "Shape of the corresponding labels: (34557, 1)\n"
     ]
    },
    {
     "data": {
      "text/html": [
       "<div>\n",
       "<style scoped>\n",
       "    .dataframe tbody tr th:only-of-type {\n",
       "        vertical-align: middle;\n",
       "    }\n",
       "\n",
       "    .dataframe tbody tr th {\n",
       "        vertical-align: top;\n",
       "    }\n",
       "\n",
       "    .dataframe thead th {\n",
       "        text-align: right;\n",
       "    }\n",
       "</style>\n",
       "<table border=\"1\" class=\"dataframe\">\n",
       "  <thead>\n",
       "    <tr style=\"text-align: right;\">\n",
       "      <th></th>\n",
       "      <th>ABER-CKGL_ew_mean</th>\n",
       "      <th>ABER-CKP_ew_mean</th>\n",
       "      <th>ESTADO-DHSV_ew_mean</th>\n",
       "      <th>ESTADO-M1_ew_mean</th>\n",
       "      <th>ESTADO-M2_ew_mean</th>\n",
       "      <th>ESTADO-PXO_ew_mean</th>\n",
       "      <th>ESTADO-SDV-GL_ew_mean</th>\n",
       "      <th>ESTADO-SDV-P_ew_mean</th>\n",
       "      <th>ESTADO-W1_ew_mean</th>\n",
       "      <th>ESTADO-W2_ew_mean</th>\n",
       "      <th>...</th>\n",
       "      <th>P-JUS-CKGL_ew_max</th>\n",
       "      <th>P-JUS-CKP_ew_max</th>\n",
       "      <th>P-MON-CKP_ew_max</th>\n",
       "      <th>P-PDG_ew_max</th>\n",
       "      <th>P-TPT_ew_max</th>\n",
       "      <th>QGL_ew_max</th>\n",
       "      <th>T-JUS-CKP_ew_max</th>\n",
       "      <th>T-MON-CKP_ew_max</th>\n",
       "      <th>T-PDG_ew_max</th>\n",
       "      <th>T-TPT_ew_max</th>\n",
       "    </tr>\n",
       "    <tr>\n",
       "      <th>timestamp</th>\n",
       "      <th></th>\n",
       "      <th></th>\n",
       "      <th></th>\n",
       "      <th></th>\n",
       "      <th></th>\n",
       "      <th></th>\n",
       "      <th></th>\n",
       "      <th></th>\n",
       "      <th></th>\n",
       "      <th></th>\n",
       "      <th></th>\n",
       "      <th></th>\n",
       "      <th></th>\n",
       "      <th></th>\n",
       "      <th></th>\n",
       "      <th></th>\n",
       "      <th></th>\n",
       "      <th></th>\n",
       "      <th></th>\n",
       "      <th></th>\n",
       "      <th></th>\n",
       "    </tr>\n",
       "  </thead>\n",
       "  <tbody>\n",
       "    <tr>\n",
       "      <th>2018-09-05 20:44:55</th>\n",
       "      <td>0.0</td>\n",
       "      <td>0.0</td>\n",
       "      <td>0.0</td>\n",
       "      <td>0.0</td>\n",
       "      <td>0.0</td>\n",
       "      <td>0.0</td>\n",
       "      <td>0.0</td>\n",
       "      <td>0.0</td>\n",
       "      <td>0.0</td>\n",
       "      <td>0.0</td>\n",
       "      <td>...</td>\n",
       "      <td>0.0</td>\n",
       "      <td>0.0</td>\n",
       "      <td>-0.118455</td>\n",
       "      <td>-0.254814</td>\n",
       "      <td>-0.230951</td>\n",
       "      <td>0.0</td>\n",
       "      <td>-0.016404</td>\n",
       "      <td>0.0</td>\n",
       "      <td>0.0</td>\n",
       "      <td>0.069347</td>\n",
       "    </tr>\n",
       "    <tr>\n",
       "      <th>2018-09-05 20:45:00</th>\n",
       "      <td>0.0</td>\n",
       "      <td>0.0</td>\n",
       "      <td>0.0</td>\n",
       "      <td>0.0</td>\n",
       "      <td>0.0</td>\n",
       "      <td>0.0</td>\n",
       "      <td>0.0</td>\n",
       "      <td>0.0</td>\n",
       "      <td>0.0</td>\n",
       "      <td>0.0</td>\n",
       "      <td>...</td>\n",
       "      <td>0.0</td>\n",
       "      <td>0.0</td>\n",
       "      <td>-0.118455</td>\n",
       "      <td>-0.254814</td>\n",
       "      <td>-0.230951</td>\n",
       "      <td>0.0</td>\n",
       "      <td>-0.016404</td>\n",
       "      <td>0.0</td>\n",
       "      <td>0.0</td>\n",
       "      <td>0.069347</td>\n",
       "    </tr>\n",
       "    <tr>\n",
       "      <th>2018-09-05 20:45:05</th>\n",
       "      <td>0.0</td>\n",
       "      <td>0.0</td>\n",
       "      <td>0.0</td>\n",
       "      <td>0.0</td>\n",
       "      <td>0.0</td>\n",
       "      <td>0.0</td>\n",
       "      <td>0.0</td>\n",
       "      <td>0.0</td>\n",
       "      <td>0.0</td>\n",
       "      <td>0.0</td>\n",
       "      <td>...</td>\n",
       "      <td>0.0</td>\n",
       "      <td>0.0</td>\n",
       "      <td>-0.118455</td>\n",
       "      <td>-0.254814</td>\n",
       "      <td>-0.230951</td>\n",
       "      <td>0.0</td>\n",
       "      <td>-0.016404</td>\n",
       "      <td>0.0</td>\n",
       "      <td>0.0</td>\n",
       "      <td>0.069347</td>\n",
       "    </tr>\n",
       "    <tr>\n",
       "      <th>2018-09-05 20:45:10</th>\n",
       "      <td>0.0</td>\n",
       "      <td>0.0</td>\n",
       "      <td>0.0</td>\n",
       "      <td>0.0</td>\n",
       "      <td>0.0</td>\n",
       "      <td>0.0</td>\n",
       "      <td>0.0</td>\n",
       "      <td>0.0</td>\n",
       "      <td>0.0</td>\n",
       "      <td>0.0</td>\n",
       "      <td>...</td>\n",
       "      <td>0.0</td>\n",
       "      <td>0.0</td>\n",
       "      <td>-0.118455</td>\n",
       "      <td>-0.254814</td>\n",
       "      <td>-0.230951</td>\n",
       "      <td>0.0</td>\n",
       "      <td>-0.016404</td>\n",
       "      <td>0.0</td>\n",
       "      <td>0.0</td>\n",
       "      <td>0.069347</td>\n",
       "    </tr>\n",
       "    <tr>\n",
       "      <th>2018-09-05 20:45:15</th>\n",
       "      <td>0.0</td>\n",
       "      <td>0.0</td>\n",
       "      <td>0.0</td>\n",
       "      <td>0.0</td>\n",
       "      <td>0.0</td>\n",
       "      <td>0.0</td>\n",
       "      <td>0.0</td>\n",
       "      <td>0.0</td>\n",
       "      <td>0.0</td>\n",
       "      <td>0.0</td>\n",
       "      <td>...</td>\n",
       "      <td>0.0</td>\n",
       "      <td>0.0</td>\n",
       "      <td>-0.118455</td>\n",
       "      <td>-0.254814</td>\n",
       "      <td>-0.230951</td>\n",
       "      <td>0.0</td>\n",
       "      <td>-0.016404</td>\n",
       "      <td>0.0</td>\n",
       "      <td>0.0</td>\n",
       "      <td>0.069347</td>\n",
       "    </tr>\n",
       "  </tbody>\n",
       "</table>\n",
       "<p>5 rows × 198 columns</p>\n",
       "</div>"
      ],
      "text/plain": [
       "                     ABER-CKGL_ew_mean  ABER-CKP_ew_mean  ESTADO-DHSV_ew_mean  \\\n",
       "timestamp                                                                       \n",
       "2018-09-05 20:44:55                0.0               0.0                  0.0   \n",
       "2018-09-05 20:45:00                0.0               0.0                  0.0   \n",
       "2018-09-05 20:45:05                0.0               0.0                  0.0   \n",
       "2018-09-05 20:45:10                0.0               0.0                  0.0   \n",
       "2018-09-05 20:45:15                0.0               0.0                  0.0   \n",
       "\n",
       "                     ESTADO-M1_ew_mean  ESTADO-M2_ew_mean  ESTADO-PXO_ew_mean  \\\n",
       "timestamp                                                                       \n",
       "2018-09-05 20:44:55                0.0                0.0                 0.0   \n",
       "2018-09-05 20:45:00                0.0                0.0                 0.0   \n",
       "2018-09-05 20:45:05                0.0                0.0                 0.0   \n",
       "2018-09-05 20:45:10                0.0                0.0                 0.0   \n",
       "2018-09-05 20:45:15                0.0                0.0                 0.0   \n",
       "\n",
       "                     ESTADO-SDV-GL_ew_mean  ESTADO-SDV-P_ew_mean  \\\n",
       "timestamp                                                          \n",
       "2018-09-05 20:44:55                    0.0                   0.0   \n",
       "2018-09-05 20:45:00                    0.0                   0.0   \n",
       "2018-09-05 20:45:05                    0.0                   0.0   \n",
       "2018-09-05 20:45:10                    0.0                   0.0   \n",
       "2018-09-05 20:45:15                    0.0                   0.0   \n",
       "\n",
       "                     ESTADO-W1_ew_mean  ESTADO-W2_ew_mean  ...  \\\n",
       "timestamp                                                  ...   \n",
       "2018-09-05 20:44:55                0.0                0.0  ...   \n",
       "2018-09-05 20:45:00                0.0                0.0  ...   \n",
       "2018-09-05 20:45:05                0.0                0.0  ...   \n",
       "2018-09-05 20:45:10                0.0                0.0  ...   \n",
       "2018-09-05 20:45:15                0.0                0.0  ...   \n",
       "\n",
       "                     P-JUS-CKGL_ew_max  P-JUS-CKP_ew_max  P-MON-CKP_ew_max  \\\n",
       "timestamp                                                                    \n",
       "2018-09-05 20:44:55                0.0               0.0         -0.118455   \n",
       "2018-09-05 20:45:00                0.0               0.0         -0.118455   \n",
       "2018-09-05 20:45:05                0.0               0.0         -0.118455   \n",
       "2018-09-05 20:45:10                0.0               0.0         -0.118455   \n",
       "2018-09-05 20:45:15                0.0               0.0         -0.118455   \n",
       "\n",
       "                     P-PDG_ew_max  P-TPT_ew_max  QGL_ew_max  T-JUS-CKP_ew_max  \\\n",
       "timestamp                                                                       \n",
       "2018-09-05 20:44:55     -0.254814     -0.230951         0.0         -0.016404   \n",
       "2018-09-05 20:45:00     -0.254814     -0.230951         0.0         -0.016404   \n",
       "2018-09-05 20:45:05     -0.254814     -0.230951         0.0         -0.016404   \n",
       "2018-09-05 20:45:10     -0.254814     -0.230951         0.0         -0.016404   \n",
       "2018-09-05 20:45:15     -0.254814     -0.230951         0.0         -0.016404   \n",
       "\n",
       "                     T-MON-CKP_ew_max  T-PDG_ew_max  T-TPT_ew_max  \n",
       "timestamp                                                          \n",
       "2018-09-05 20:44:55               0.0           0.0      0.069347  \n",
       "2018-09-05 20:45:00               0.0           0.0      0.069347  \n",
       "2018-09-05 20:45:05               0.0           0.0      0.069347  \n",
       "2018-09-05 20:45:10               0.0           0.0      0.069347  \n",
       "2018-09-05 20:45:15               0.0           0.0      0.069347  \n",
       "\n",
       "[5 rows x 198 columns]"
      ]
     },
     "execution_count": 44,
     "metadata": {},
     "output_type": "execute_result"
    }
   ],
   "source": [
    "# Display the first few rows of the result\n",
    "print(f\"Shape of the extracted EW Statistical features: {X_ew.shape}\")\n",
    "print(f\"Shape of the corresponding labels: {y_ew.shape}\")\n",
    "X_ew.head()"
   ]
  },
  {
   "cell_type": "markdown",
   "metadata": {},
   "source": [
    "----"
   ]
  },
  {
   "cell_type": "markdown",
   "metadata": {},
   "source": [
    "## 5.  📊 Exploratory Analysis\n"
   ]
  },
  {
   "cell_type": "markdown",
   "metadata": {},
   "source": [
    "In this section we will explore and visualize some signals from the dataset."
   ]
  },
  {
   "cell_type": "markdown",
   "metadata": {},
   "source": [
    "### 5.1. Visualization Tools Overview"
   ]
  },
  {
   "cell_type": "markdown",
   "metadata": {},
   "source": [
    "The 3WToolkit provides three ready-to-use visualization modules that make it easy to explore time series data:\n",
    "\n",
    "- **`DataVisualization`**: plots a single time series in a clear and straightforward way.  \n",
    "- **`PlotMultipleSeries`**: allows plotting several series together for comparison.  \n",
    "- **`PlotCorrelationHeatmap`**: generates a correlation heatmap, helping to identify relationships between multiple features.\n",
    "\n",
    "In the next sections we will show quick examples of how to use each of these modules.\n"
   ]
  },
  {
   "cell_type": "markdown",
   "metadata": {},
   "source": [
    "#### Selecting an event to plot"
   ]
  },
  {
   "cell_type": "code",
   "execution_count": 45,
   "metadata": {},
   "outputs": [],
   "source": [
    "sig = raw_dataset[123][\"signal\"].copy()"
   ]
  },
  {
   "cell_type": "markdown",
   "metadata": {},
   "source": [
    "#### Single Series Example\n",
    "\n",
    "With `DataVisualization.plot_series` you can quickly visualize one feature over time.  \n",
    "This is useful to understand the overall trend, variation, and gaps (missing values) in a single signal.\n"
   ]
  },
  {
   "cell_type": "code",
   "execution_count": 46,
   "metadata": {},
   "outputs": [
    {
     "name": "stderr",
     "output_type": "stream",
     "text": [
      "/tmp/ipykernel_172495/3637753279.py:10: UserWarning: FigureCanvasAgg is non-interactive, and thus cannot be shown\n",
      "  fig.show()\n"
     ]
    },
    {
     "data": {
      "image/png": "[encoded data removed]",
      "text/plain": [
       "<Figure size 1200x600 with 1 Axes>"
      ]
     },
     "metadata": {},
     "output_type": "display_data"
    }
   ],
   "source": [
    "series = sig[\"P-TPT\"]\n",
    "fig = DataVisualization.plot_series(\n",
    "    series=series,\n",
    "    title=\"P-TPT\",\n",
    "    xlabel=\"Timestamp\",\n",
    "    ylabel=\"P-TPT\",\n",
    "    overlay_events=False,\n",
    "    color=\"green\"\n",
    ")\n",
    "fig.show()\n"
   ]
  },
  {
   "cell_type": "markdown",
   "metadata": {},
   "source": [
    "#### Multiple Series Example\n",
    "\n",
    "With `PlotMultipleSeries.plot_multiple_series` you can display several features on the same plot.  \n",
    "This is helpful when you want to compare signals directly and observe how they evolve together.\n"
   ]
  },
  {
   "cell_type": "code",
   "execution_count": 47,
   "metadata": {},
   "outputs": [
    {
     "name": "stderr",
     "output_type": "stream",
     "text": [
      "/tmp/ipykernel_172495/613254614.py:11: UserWarning: FigureCanvasAgg is non-interactive, and thus cannot be shown\n",
      "  fig.show()\n"
     ]
    },
    {
     "data": {
      "image/png": "[encoded data removed]",
      "text/plain": [
       "<Figure size 1200x600 with 1 Axes>"
      ]
     },
     "metadata": {},
     "output_type": "display_data"
    }
   ],
   "source": [
    "features = ['P-MON-CKP', 'P-TPT']\n",
    "series_list = [sig[features]]\n",
    "\n",
    "fig = PlotMultipleSeries.plot_multiple_series(\n",
    "    series_list=series_list,\n",
    "    labels=features,\n",
    "    title=\"'P-MON-CKP', 'P-TPT'\",\n",
    "    xlabel=\"Timestamp\",\n",
    "    ylabel=\"Value\"\n",
    ")\n",
    "fig.show()\n"
   ]
  },
  {
   "cell_type": "markdown",
   "metadata": {},
   "source": [
    "#### Correlation Heatmap Example\n",
    "\n",
    "Finally, `PlotCorrelationHeatmap.correlation_heatmap` creates a heatmap of pairwise correlations.  \n",
    "This is a quick way to check which features are strongly related to each other.\n"
   ]
  },
  {
   "cell_type": "code",
   "execution_count": 48,
   "metadata": {},
   "outputs": [
    {
     "name": "stderr",
     "output_type": "stream",
     "text": [
      "/tmp/ipykernel_172495/3210434829.py:8: UserWarning: FigureCanvasAgg is non-interactive, and thus cannot be shown\n",
      "  fig.show()\n"
     ]
    },
    {
     "data": {
      "image/png": "[encoded data removed]",
      "text/plain": [
       "<Figure size 1000x800 with 2 Axes>"
      ]
     },
     "metadata": {},
     "output_type": "display_data"
    }
   ],
   "source": [
    "features = ['P-ANULAR', 'P-JUS-CKGL', 'P-MON-CKP', 'P-TPT', 'T-JUS-CKP', 'T-TPT']\n",
    "subset = sig[features]\n",
    "\n",
    "fig = PlotCorrelationHeatmap.correlation_heatmap(\n",
    "    df_of_series=subset,\n",
    "    title=\"Correlation Heatmap of Selected Features\"\n",
    ")\n",
    "fig.show()\n"
   ]
  },
  {
   "cell_type": "markdown",
   "metadata": {},
   "source": [
    "------"
   ]
  },
  {
   "cell_type": "markdown",
   "metadata": {},
   "source": [
    "## 6.  🤖 Model Training and Evaluation"
   ]
  },
  {
   "cell_type": "markdown",
   "metadata": {},
   "source": [
    "## Introduction to Model Training with 3WToolkit\n",
    "\n",
    "In this section, we introduce the process of training models using 3WToolkit, with the 3W dataset. \n",
    "\n",
    "The goal is to demonstrate how to transform raw time series into datasets suitable for supervised trainining, leveraging the toolkit's automation and reproducibility features.\n",
    "\n",
    "The pipeline includes the following main steps:\n",
    "- Loading the 3W dataset.\n",
    "- Segmenting the signals into windows, allowing each window to be treated as an independent sample for the model.\n",
    "- Training the model, using the windows as inputs and the corresponding labels as target.\n",
    "- Evaluating the model performance, by computing quantitative metrics (e.g., Accuracy, Recall, F1-score, etc.) and generating visualizations of predictions versus ground truth."
   ]
  },
  {
   "cell_type": "markdown",
   "metadata": {},
   "source": [
    "First we import the relevant modules and initialize a ParquetDataset instance, defining the target classes 0, 1 and 2. "
   ]
  },
  {
   "cell_type": "code",
   "execution_count": 49,
   "metadata": {},
   "outputs": [],
   "source": [
    "import numpy as np\n",
    "import pandas as pd\n",
    "import matplotlib.pyplot as plt\n",
    "import torch\n",
    "\n",
    "from tqdm import tqdm\n",
    "from pathlib import Path\n",
    "\n",
    "from ThreeWToolkit.preprocessing import windowing\n",
    "from ThreeWToolkit.trainer.trainer import ModelTrainer, TrainerConfig\n",
    "from ThreeWToolkit.models.mlp import MLPConfig\n",
    "from ThreeWToolkit.dataset import ParquetDataset\n",
    "from ThreeWToolkit.core.base_dataset import ParquetDatasetConfig\n",
    "from ThreeWToolkit.core.base_assessment import ModelAssessmentConfig\n",
    "from ThreeWToolkit.assessment.model_assess import ModelAssessment\n",
    "from ThreeWToolkit.core.enums import TaskType"
   ]
  },
  {
   "cell_type": "markdown",
   "metadata": {},
   "source": [
    "**I. Create a ParquetDataset that loads cleaned data with target classes 0, 1, and 2**"
   ]
  },
  {
   "cell_type": "code",
   "execution_count": 50,
   "metadata": {},
   "outputs": [
    {
     "data": {
      "text/plain": [
       "{'signal':                      ABER-CKGL  ABER-CKP  ESTADO-DHSV  ESTADO-M1  ESTADO-M2  \\\n",
       " timestamp                                                                     \n",
       " 2018-10-06 06:48:24        0.0       0.0          0.0        0.0        0.0   \n",
       " 2018-10-06 06:48:25        0.0       0.0          0.0        0.0        0.0   \n",
       " 2018-10-06 06:48:26        0.0       0.0          0.0        0.0        0.0   \n",
       " 2018-10-06 06:48:27        0.0       0.0          0.0        0.0        0.0   \n",
       " 2018-10-06 06:48:28        0.0       0.0          0.0        0.0        0.0   \n",
       " ...                        ...       ...          ...        ...        ...   \n",
       " 2018-10-07 07:28:18        0.0       0.0          0.0        0.0        0.0   \n",
       " 2018-10-07 07:28:19        0.0       0.0          0.0        0.0        0.0   \n",
       " 2018-10-07 07:28:20        0.0       0.0          0.0        0.0        0.0   \n",
       " 2018-10-07 07:28:21        0.0       0.0          0.0        0.0        0.0   \n",
       " 2018-10-07 07:28:22        0.0       0.0          0.0        0.0        0.0   \n",
       " \n",
       "                      ESTADO-PXO  ESTADO-SDV-GL  ESTADO-SDV-P  ESTADO-W1  \\\n",
       " timestamp                                                                 \n",
       " 2018-10-06 06:48:24         0.0            0.0           0.0        0.0   \n",
       " 2018-10-06 06:48:25         0.0            0.0           0.0        0.0   \n",
       " 2018-10-06 06:48:26         0.0            0.0           0.0        0.0   \n",
       " 2018-10-06 06:48:27         0.0            0.0           0.0        0.0   \n",
       " 2018-10-06 06:48:28         0.0            0.0           0.0        0.0   \n",
       " ...                         ...            ...           ...        ...   \n",
       " 2018-10-07 07:28:18         0.0            0.0           0.0        0.0   \n",
       " 2018-10-07 07:28:19         0.0            0.0           0.0        0.0   \n",
       " 2018-10-07 07:28:20         0.0            0.0           0.0        0.0   \n",
       " 2018-10-07 07:28:21         0.0            0.0           0.0        0.0   \n",
       " 2018-10-07 07:28:22         0.0            0.0           0.0        0.0   \n",
       " \n",
       "                      ESTADO-W2  ...  P-JUS-CKGL  P-JUS-CKP  P-MON-CKP  \\\n",
       " timestamp                       ...                                     \n",
       " 2018-10-06 06:48:24        0.0  ...         0.0        0.0  -0.850689   \n",
       " 2018-10-06 06:48:25        0.0  ...         0.0        0.0  -0.850689   \n",
       " 2018-10-06 06:48:26        0.0  ...         0.0        0.0  -0.850689   \n",
       " 2018-10-06 06:48:27        0.0  ...         0.0        0.0  -0.850689   \n",
       " 2018-10-06 06:48:28        0.0  ...         0.0        0.0  -0.850689   \n",
       " ...                        ...  ...         ...        ...        ...   \n",
       " 2018-10-07 07:28:18        0.0  ...         0.0        0.0  -0.866733   \n",
       " 2018-10-07 07:28:19        0.0  ...         0.0        0.0  -0.866733   \n",
       " 2018-10-07 07:28:20        0.0  ...         0.0        0.0  -0.866733   \n",
       " 2018-10-07 07:28:21        0.0  ...         0.0        0.0  -0.866733   \n",
       " 2018-10-07 07:28:22        0.0  ...         0.0        0.0  -0.866733   \n",
       " \n",
       "                         P-PDG     P-TPT  QGL  T-JUS-CKP  T-MON-CKP  T-PDG  \\\n",
       " timestamp                                                                   \n",
       " 2018-10-06 06:48:24 -0.273057 -0.409961  0.0   0.181837        0.0    0.0   \n",
       " 2018-10-06 06:48:25 -0.273057 -0.409961  0.0   0.181838        0.0    0.0   \n",
       " 2018-10-06 06:48:26 -0.273057 -0.409961  0.0   0.181839        0.0    0.0   \n",
       " 2018-10-06 06:48:27 -0.273057 -0.409961  0.0   0.181840        0.0    0.0   \n",
       " 2018-10-06 06:48:28 -0.273057 -0.409961  0.0   0.181841        0.0    0.0   \n",
       " ...                       ...       ...  ...        ...        ...    ...   \n",
       " 2018-10-07 07:28:18 -0.157372 -0.429026  0.0   0.553333        0.0    0.0   \n",
       " 2018-10-07 07:28:19 -0.157372 -0.429026  0.0   0.553333        0.0    0.0   \n",
       " 2018-10-07 07:28:20 -0.157372 -0.429026  0.0   0.553333        0.0    0.0   \n",
       " 2018-10-07 07:28:21 -0.157372 -0.429026  0.0   0.553333        0.0    0.0   \n",
       " 2018-10-07 07:28:22 -0.157372 -0.429026  0.0   0.553333        0.0    0.0   \n",
       " \n",
       "                         T-TPT  \n",
       " timestamp                      \n",
       " 2018-10-06 06:48:24 -0.067059  \n",
       " 2018-10-06 06:48:25 -0.067059  \n",
       " 2018-10-06 06:48:26 -0.067059  \n",
       " 2018-10-06 06:48:27 -0.067059  \n",
       " 2018-10-06 06:48:28 -0.067058  \n",
       " ...                       ...  \n",
       " 2018-10-07 07:28:18 -0.010801  \n",
       " 2018-10-07 07:28:19 -0.010801  \n",
       " 2018-10-07 07:28:20 -0.010801  \n",
       " 2018-10-07 07:28:21 -0.010801  \n",
       " 2018-10-07 07:28:22 -0.010801  \n",
       " \n",
       " [88799 rows x 22 columns],\n",
       " 'label':                      class\n",
       " timestamp                 \n",
       " 2018-10-06 06:48:24      1\n",
       " 2018-10-06 06:48:25      1\n",
       " 2018-10-06 06:48:26      1\n",
       " 2018-10-06 06:48:27      1\n",
       " 2018-10-06 06:48:28      1\n",
       " ...                    ...\n",
       " 2018-10-07 07:28:18      1\n",
       " 2018-10-07 07:28:19      1\n",
       " 2018-10-07 07:28:20      1\n",
       " 2018-10-07 07:28:21      1\n",
       " 2018-10-07 07:28:22      1\n",
       " \n",
       " [88799 rows x 1 columns],\n",
       " 'file_name': PosixPath('1/SIMULATED_00010.parquet')}"
      ]
     },
     "execution_count": 50,
     "metadata": {},
     "output_type": "execute_result"
    }
   ],
   "source": [
    "dataset_path = Path(\"/data/3w_dataset/\")\n",
    "ds_config = ParquetDatasetConfig(\n",
    "    path=dataset_path, clean_data=True, download=False, target_class=[0, 1, 2]\n",
    ")\n",
    "ds = ParquetDataset(ds_config)\n",
    "ds[19]"
   ]
  },
  {
   "cell_type": "markdown",
   "metadata": {},
   "source": [
    "**II. Instantiating configuration classes for the MLP model, Training parameters, and Evaluation parameters.**"
   ]
  },
  {
   "cell_type": "markdown",
   "metadata": {},
   "source": [
    "With the ParquetDataset instance defined, we can set the parameters for the MLP model using the MLPConfig object. These parameters will be combined with the TrainerConfig and managed through the ModelTrainer, which encapsulates the training workflow.\n",
    "\n",
    "The defined worflow control most relevant parameters that will be used for training of a model. \n",
    "\n",
    "Finally, the ModelTrainer is instantiated with the training configuration, while the ModelAssessment object prepares the evaluation pipeline. The model architecture can be visualized by printing the `trainer.model`."
   ]
  },
  {
   "cell_type": "code",
   "execution_count": 51,
   "metadata": {},
   "outputs": [
    {
     "name": "stdout",
     "output_type": "stream",
     "text": [
      "MLP(\n",
      "  (activation_func): ReLU()\n",
      "  (model): Sequential(\n",
      "    (0): Linear(in_features=1000, out_features=32, bias=True)\n",
      "    (1): ReLU()\n",
      "    (2): Linear(in_features=32, out_features=16, bias=True)\n",
      "    (3): ReLU()\n",
      "    (4): Linear(in_features=16, out_features=3, bias=True)\n",
      "  )\n",
      ")\n"
     ]
    }
   ],
   "source": [
    "window_size = 1000\n",
    "mlp_config = MLPConfig(\n",
    "    input_size=window_size,\n",
    "    hidden_sizes=(32, 16),\n",
    "    output_size=3,\n",
    "    random_seed=11,\n",
    "    activation_function=\"relu\",\n",
    "    regularization=None,\n",
    ")\n",
    "\n",
    "trainer_config = TrainerConfig(\n",
    "    optimizer=\"adam\",\n",
    "    criterion=\"cross_entropy\",\n",
    "    batch_size=32,\n",
    "    epochs=20,\n",
    "    seed=11,\n",
    "    config_model=mlp_config,\n",
    "    learning_rate=0.001,\n",
    "    device=\"cuda\" if torch.cuda.is_available() else \"cpu\",\n",
    "    cross_validation=False,\n",
    "    shuffle_train=True,\n",
    ")\n",
    "\n",
    "assessment_config = ModelAssessmentConfig(\n",
    "    metrics=[\"balanced_accuracy\", \"precision\", \"recall\", \"f1\"],\n",
    "    task_type=TaskType.CLASSIFICATION,\n",
    "    class_names=[\"Class_A\", \"Class_B\", \"Class_C\"],\n",
    "    export_results=True,\n",
    "    generate_report=False\n",
    ")\n",
    "\n",
    "trainer = ModelTrainer(trainer_config)\n",
    "assessor = ModelAssessment(assessment_config)\n",
    "print(trainer.model)\n"
   ]
  },
  {
   "cell_type": "markdown",
   "metadata": {},
   "source": [
    "**III. Preprocessing the data**"
   ]
  },
  {
   "cell_type": "markdown",
   "metadata": {},
   "source": [
    "The next step is to iterate over a dataset of time series events, applying a windowing function to a selected signal column, in this case \"T-TPT\".\n",
    "\n",
    " All windowed segments from all events are then concatenated into a single DataFrame (dfs_final). This prepares the data for supervised training, where each row represents a windowed segment with its corresponding class label."
   ]
  },
  {
   "cell_type": "code",
   "execution_count": 52,
   "metadata": {},
   "outputs": [
    {
     "name": "stderr",
     "output_type": "stream",
     "text": [
      "100%|██████████| 760/760 [00:29<00:00, 26.16it/s]\n"
     ]
    }
   ],
   "source": [
    "# Select target columns and prepare training data with windowing\n",
    "selected_col = \"T-TPT\"\n",
    "x_train = []\n",
    "y_train = []\n",
    "dfs = []\n",
    "\n",
    "for event in tqdm(ds):\n",
    "    windowed_signal = windowing(\n",
    "        event[\"signal\"][selected_col],\n",
    "        window=\"hann\",\n",
    "        window_size=window_size,\n",
    "        overlap=0.5,\n",
    "        pad_last_window=True,\n",
    "    )\n",
    "    windowed_signal.drop(columns=[\"win\"], inplace=True)\n",
    "    windowed_signal[\"label\"] = np.unique(event[\"label\"][\"class\"])[0]\n",
    "    dfs.append(windowed_signal)\n",
    "dfs_final = pd.concat(dfs, ignore_index=True, axis=0)"
   ]
  },
  {
   "cell_type": "markdown",
   "metadata": {},
   "source": [
    "**IV. Training**"
   ]
  },
  {
   "cell_type": "markdown",
   "metadata": {},
   "source": [
    "Finally we can call the train function using the trainer object. "
   ]
  },
  {
   "cell_type": "code",
   "execution_count": 53,
   "metadata": {},
   "outputs": [
    {
     "name": "stderr",
     "output_type": "stream",
     "text": [
      "                                                                                                   \r"
     ]
    }
   ],
   "source": [
    "# Train the MLP model using the ModelTrainer interface\n",
    "trainer.train(x_train=dfs_final.iloc[:, :-1], y_train=dfs_final[\"label\"].astype(int))"
   ]
  },
  {
   "cell_type": "markdown",
   "metadata": {},
   "source": [
    "**V. Assessment**"
   ]
  },
  {
   "cell_type": "markdown",
   "metadata": {},
   "source": [
    "The trainer class allows direct evaluation of the trained model using the `assess` method, which returns a dictionary containing performance metrics and evaluation parameters."
   ]
  },
  {
   "cell_type": "code",
   "execution_count": 54,
   "metadata": {},
   "outputs": [
    {
     "name": "stdout",
     "output_type": "stream",
     "text": [
      "Results exported to /home/rafael/pos-doc/repos/3WToolkit/output\n"
     ]
    },
    {
     "data": {
      "text/plain": [
       "{'model_name': 'MLP',\n",
       " 'task_type': <TaskType.CLASSIFICATION: 'classification'>,\n",
       " 'predictions': array([0, 0, 0, ..., 0, 0, 0]),\n",
       " 'true_values': array([1, 1, 1, ..., 0, 0, 0]),\n",
       " 'X_test': array([[0.00000000e+00, 5.81413486e-06, 2.32563099e-05, ...,\n",
       "         5.23258366e-05, 2.32563099e-05, 5.81413486e-06],\n",
       "        [0.00000000e+00, 5.81413486e-06, 2.32563099e-05, ...,\n",
       "         5.27785134e-05, 2.34575029e-05, 5.86443361e-06],\n",
       "        [0.00000000e+00, 5.81413486e-06, 2.32563099e-05, ...,\n",
       "         5.27785134e-05, 2.34575029e-05, 5.86443361e-06],\n",
       "        ...,\n",
       "        [0.00000000e+00, 0.00000000e+00, 0.00000000e+00, ...,\n",
       "         0.00000000e+00, 0.00000000e+00, 0.00000000e+00],\n",
       "        [0.00000000e+00, 0.00000000e+00, 0.00000000e+00, ...,\n",
       "         0.00000000e+00, 0.00000000e+00, 0.00000000e+00],\n",
       "        [0.00000000e+00, 0.00000000e+00, 0.00000000e+00, ...,\n",
       "         0.00000000e+00, 0.00000000e+00, 0.00000000e+00]]),\n",
       " 'metrics': {'balanced_accuracy': 0.6616873265129586,\n",
       "  'precision': 0.9333463395112219,\n",
       "  'recall': 0.9316139204865412,\n",
       "  'f1': 0.9186364917599162},\n",
       " 'config': {'metrics': ['balanced_accuracy', 'precision', 'recall', 'f1'],\n",
       "  'output_dir': PosixPath('/home/rafael/pos-doc/repos/3WToolkit/output'),\n",
       "  'export_results': True,\n",
       "  'generate_report': False,\n",
       "  'task_type': <TaskType.CLASSIFICATION: 'classification'>,\n",
       "  'batch_size': 64,\n",
       "  'device': 'cuda',\n",
       "  'report_title': None,\n",
       "  'report_author': '3W Toolkit Report'},\n",
       " 'timestamp': '2025-09-15T22:10:31.476609'}"
      ]
     },
     "execution_count": 54,
     "metadata": {},
     "output_type": "execute_result"
    }
   ],
   "source": [
    "trainer.assess(dfs_final.iloc[:, :-1], dfs_final[\"label\"].astype(int), assessment_config)"
   ]
  },
  {
   "cell_type": "markdown",
   "metadata": {},
   "source": [
    "**Another option, and the most recommended one, is to use the `ModelAssessment` class to perform the evaluation of the results.**"
   ]
  },
  {
   "cell_type": "code",
   "execution_count": 55,
   "metadata": {},
   "outputs": [
    {
     "name": "stdout",
     "output_type": "stream",
     "text": [
      "Results exported to /home/rafael/pos-doc/repos/3WToolkit/output\n"
     ]
    },
    {
     "data": {
      "text/plain": [
       "{'model_name': 'MLP',\n",
       " 'task_type': <TaskType.CLASSIFICATION: 'classification'>,\n",
       " 'predictions': array([0, 0, 0, ..., 0, 0, 0]),\n",
       " 'true_values': array([1, 1, 1, ..., 0, 0, 0]),\n",
       " 'X_test': array([[0.00000000e+00, 5.81413486e-06, 2.32563099e-05, ...,\n",
       "         5.23258366e-05, 2.32563099e-05, 5.81413486e-06],\n",
       "        [0.00000000e+00, 5.81413486e-06, 2.32563099e-05, ...,\n",
       "         5.27785134e-05, 2.34575029e-05, 5.86443361e-06],\n",
       "        [0.00000000e+00, 5.81413486e-06, 2.32563099e-05, ...,\n",
       "         5.27785134e-05, 2.34575029e-05, 5.86443361e-06],\n",
       "        ...,\n",
       "        [0.00000000e+00, 0.00000000e+00, 0.00000000e+00, ...,\n",
       "         0.00000000e+00, 0.00000000e+00, 0.00000000e+00],\n",
       "        [0.00000000e+00, 0.00000000e+00, 0.00000000e+00, ...,\n",
       "         0.00000000e+00, 0.00000000e+00, 0.00000000e+00],\n",
       "        [0.00000000e+00, 0.00000000e+00, 0.00000000e+00, ...,\n",
       "         0.00000000e+00, 0.00000000e+00, 0.00000000e+00]]),\n",
       " 'metrics': {'balanced_accuracy': 0.6616873265129586,\n",
       "  'precision': 0.9333463395112219,\n",
       "  'recall': 0.9316139204865412,\n",
       "  'f1': 0.9186364917599162},\n",
       " 'config': {'metrics': ['balanced_accuracy', 'precision', 'recall', 'f1'],\n",
       "  'output_dir': PosixPath('/home/rafael/pos-doc/repos/3WToolkit/output'),\n",
       "  'export_results': True,\n",
       "  'generate_report': False,\n",
       "  'task_type': <TaskType.CLASSIFICATION: 'classification'>,\n",
       "  'batch_size': 64,\n",
       "  'device': 'cuda',\n",
       "  'report_title': None,\n",
       "  'report_author': '3W Toolkit Report'},\n",
       " 'timestamp': '2025-09-15T22:10:32.030993'}"
      ]
     },
     "execution_count": 55,
     "metadata": {},
     "output_type": "execute_result"
    }
   ],
   "source": [
    "assessor.evaluate(trainer.model, dfs_final.iloc[:, :-1], dfs_final[\"label\"].astype(int))"
   ]
  },
  {
   "cell_type": "markdown",
   "metadata": {},
   "source": [
    "Retrieving aggregated metrics"
   ]
  },
  {
   "cell_type": "code",
   "execution_count": 56,
   "metadata": {},
   "outputs": [
    {
     "name": "stdout",
     "output_type": "stream",
     "text": [
      "Model Assessment Summary\n",
      "========================\n",
      "Model: MLP\n",
      "Task Type: TaskType.CLASSIFICATION\n",
      "Timestamp: 2025-09-15T22:10:32.030993\n",
      "\n",
      "Metrics:\n",
      "  balanced_accuracy: 0.6617\n",
      "  precision: 0.9333\n",
      "  recall: 0.9316\n",
      "  f1: 0.9186\n"
     ]
    }
   ],
   "source": [
    "print(assessor.summary())"
   ]
  },
  {
   "cell_type": "markdown",
   "metadata": {},
   "source": [
    "The trainer object also collects a history of validation and training loss that can be visualized after the training is completed. "
   ]
  },
  {
   "cell_type": "code",
   "execution_count": 57,
   "metadata": {},
   "outputs": [
    {
     "data": {
      "image/png": "[encoded data removed]",
      "text/plain": [
       "<Figure size 1000x500 with 1 Axes>"
      ]
     },
     "metadata": {},
     "output_type": "display_data"
    }
   ],
   "source": [
    "# Visualize training history\n",
    "plt.figure(figsize=(10, 5))\n",
    "for i, fold_hist in enumerate(trainer.history):\n",
    "    if fold_hist is not None:\n",
    "        plt.plot(fold_hist[\"val_loss\"], label=\"Val Loss\")\n",
    "        plt.plot(fold_hist[\"train_loss\"], label=\"Train Loss\")\n",
    "plt.title(\"Training and Validation Loss\")\n",
    "plt.xlabel(\"Epoch\")\n",
    "plt.ylabel(\"Loss\")\n",
    "plt.legend()\n",
    "plt.show()\n"
   ]
  }
 ],
 "metadata": {
  "kernelspec": {
   "display_name": "3w",
   "language": "python",
   "name": "python3"
  },
  "language_info": {
   "codemirror_mode": {
    "name": "ipython",
    "version": 3
   },
   "file_extension": ".py",
   "mimetype": "text/x-python",
   "name": "python",
   "nbconvert_exporter": "python",
   "pygments_lexer": "ipython3",
   "version": "3.10.11"
  }
 },
 "nbformat": 4,
 "nbformat_minor": 2
}
