{
 "cells": [
  {
   "cell_type": "markdown",
   "metadata": {},
   "source": [
    "# 3W Toolkit"
   ]
  },
  {
   "cell_type": "markdown",
   "metadata": {},
   "source": [
    "**Version:** 2.0.0  \n",
    "**Authors:** Bruno Coelho Martins, Carla Pagliari, Eduardo A. B. Silva, Eduardo Henrique, Fernanda Duarte Vilela Reis de Oliveira, Gabriel Henrique Braga Lisboa, Luiza Helena de Andrade Leite, Marcello Campos, Matheus Ferreira Espirito Santo, Matheus Ramos Parracho, Natanael Moura Junior, Pedro Braga Lisboa, Rafael Padilla, Sergio Lima Netto, Thadeu Luiz Barbosa Dias, Umberto Augusto.  \n",
    "**Description:** Demonstrative notebook with the main functions of *3W Toolkit*.\n"
   ]
  },
  {
   "cell_type": "markdown",
   "metadata": {},
   "source": [
    "----"
   ]
  },
  {
   "cell_type": "markdown",
   "metadata": {},
   "source": [
    "## Table of Contents 📑\n",
    "\n",
    "1. 🚀 Introduction to 3WToolkit v2.0.0  \n",
    "   1.1. Installing with `pip install`  \n",
    "   1.2. Cloning & Installing  \n",
    "   1.3. Forking & Installing  \n",
    "   1.4. Using Anaconda Navigator  \n",
    "   1.5. Using `conda`  \n",
    "   1.6. Installing with `poetry`  \n",
    "\n",
    "2. 📂 Dataset 3W   \n",
    "   2.1. Downloading the Dataset    \n",
    "   2.2. Filtering & Exploring the Data   \n",
    "   2.3 Cleaning the dataset   \n",
    "\n",
    "3. ⚙️ Preprocessing   \n",
    "   3.1 Handling missing values (Imputation)  \n",
    "   3.2 Normalization  \n",
    "   3.3 Windowing  \n",
    "   3.4 Renaming columns  \n",
    "\n",
    "4. 🔎 Feature Extraction  \n",
    "   4.1 Statistical Feature Extraction  \n",
    "   4.2 Wavelet Feature Extraction  \n",
    "   4.3 Exponentially Weighted Statistical Feature Extraction  \n",
    "\n",
    "5. 📊 Exploratory Analysis  \n",
    "   5.1. Visualizing Time Series  \n",
    "\n",
    "6. 🤖 Model Training and Evaluation\n",
    "7. 🔗 Pipeline Integration\n"
   ]
  },
  {
   "cell_type": "markdown",
   "metadata": {},
   "source": [
    "----"
   ]
  },
  {
   "cell_type": "markdown",
   "metadata": {},
   "source": [
    "## 🚀 1. Introduction to 3WToolkit Version 2.0.0\n",
    "\n",
    "The **3WToolkit version 2.0.0** is a **modular** and **open-source Artificial Intelligence (AI) toolkit** for **time series processing**, designed for **fault detection and classification** in the operation of **oil wells**.\n",
    "\n",
    "Based on the experience with the original **3W Toolkit** system and using the [**3W dataset from Petrobras**](https://github.com/petrobras/3W/), the 3W Toolkit version 2.0.0 offers enhanced features such as:\n",
    "\n",
    "- **Advanced data imputation**\n",
    "- **Deep feature extraction**\n",
    "- **Synthetic data augmentation**\n",
    "- **High-performance computing capabilities** for model training"
   ]
  },
  {
   "cell_type": "markdown",
   "metadata": {},
   "source": [
    "Please find bellow different ways to install the **3WToolkit** project hosted on GitHub: https://github.com/petrobras/3W."
   ]
  },
  {
   "cell_type": "markdown",
   "metadata": {},
   "source": [
    "------"
   ]
  },
  {
   "cell_type": "markdown",
   "metadata": {},
   "source": [
    "### 1.1 Installation with `pip install`\n",
    "\n",
    "```bash\n",
    "pip install git+https://github.com/petrobras/3W.git\n",
    "```"
   ]
  },
  {
   "cell_type": "markdown",
   "metadata": {},
   "source": [
    "------"
   ]
  },
  {
   "cell_type": "markdown",
   "metadata": {},
   "source": [
    "### 1.2. Cloning and installing\n",
    "\n",
    "\n",
    "```bash\n",
    "git clone https://github.com/petrobras/3W.git\n",
    "cd 3WToolkit\n",
    "pip install .\n",
    "```\n",
    "\n",
    "For editable/development install (`-e` installs it in editable/development mode, useful for contributing back to the original project via pull requests)"
   ]
  },
  {
   "cell_type": "markdown",
   "metadata": {},
   "source": [
    "The 3W toolkit v.2.0.0 can be downloaded or cloned from the official repository [https://github.com/petrobras/3W](https://github.com/petrobras/3W) or can be installed via `pip install ThreeWtoolkit`"
   ]
  },
  {
   "cell_type": "markdown",
   "metadata": {},
   "source": [
    "------"
   ]
  },
  {
   "cell_type": "markdown",
   "metadata": {},
   "source": [
    "### 1.3. Forking and installing \n",
    "\n",
    "\n",
    "1. Fork the repository on GitHub https://github.com/petrobras/3W (button **Fork**).\n",
    "\n",
    "![Forking the repo](../figures/forking_the_repo.jpg)\n",
    "\n",
    "\n",
    "2. Clone **your forked project**:\n",
    "\n",
    "After forking, your github account will have a copy of the 3W project.  \n",
    "\n",
    "Run the commands below, replacing `<YOUR-USERNAME>` with your github username:\n",
    "```bash\n",
    "git clone https://github.com/<YOUR-USERNAME>/3W.git\n",
    "cd 3WToolkit\n",
    "pip install -e .\n",
    "```\n"
   ]
  },
  {
   "cell_type": "markdown",
   "metadata": {},
   "source": [
    "------"
   ]
  },
  {
   "cell_type": "markdown",
   "metadata": {},
   "source": [
    "\n",
    "### 1.4 Using **Anaconda Navigator**\n",
    "\n",
    "1. Open **Anaconda Navigator**.  \n",
    "2. Go to **Environments → Create → New environment**.  \n",
    "3. Open a terminal inside that environment.  \n",
    "4. Install from GitHub with `pip`:\n",
    "\n",
    "```bash\n",
    "pip install git+https://github.com/petrobras/3W.git\n",
    "```"
   ]
  },
  {
   "cell_type": "markdown",
   "metadata": {},
   "source": [
    "------"
   ]
  },
  {
   "cell_type": "markdown",
   "metadata": {},
   "source": [
    "\n",
    "### 1.5. Using `conda`\n",
    "\n",
    "\n",
    "If there is an environment.yml file:\n",
    "\n",
    "```bash\n",
    "git clone https://github.com/petrobras/3W.git\n",
    "cd 3WToolkit\n",
    "conda env create -f environment.yml\n",
    "conda activate 3WToolkit\n",
    "```\n",
    "\n",
    "If not, you can still use `pip` inside a conda environment:\n",
    "\n",
    "```bash\n",
    "conda create -n myenv python=3.10\n",
    "conda activate myenv\n",
    "pip install git+https://github.com/petrobras/3W.git\n",
    "```"
   ]
  },
  {
   "cell_type": "markdown",
   "metadata": {},
   "source": [
    "------"
   ]
  },
  {
   "cell_type": "markdown",
   "metadata": {},
   "source": [
    "### 1.6 Installing with `poetry`\n",
    "\n",
    "Add directly from GitHub: demands file `pyproject.toml` and Poetry:\n",
    "```bash\n",
    "poetry add git+https://github.com/petrobras/3W.git\n",
    "```\n",
    "\n",
    "For local development:\n",
    "```bash\n",
    "poetry add ./local/path/to/3W\n",
    "```\n",
    "\n",
    "Using clone:\n",
    "```bash\n",
    "git clone https://github.com/petrobras/3W.git\n",
    "cd 3W\n",
    "poetry install\n",
    "```"
   ]
  },
  {
   "cell_type": "markdown",
   "metadata": {},
   "source": [
    "### Imports"
   ]
  },
  {
   "cell_type": "markdown",
   "metadata": {},
   "source": [
    "**Adaptation to recognize the project root. For demonstration purposes only.**"
   ]
  },
  {
   "cell_type": "code",
   "execution_count": 1,
   "metadata": {},
   "outputs": [],
   "source": [
    "import sys\n",
    "import os\n",
    "\n",
    "# Adds the root directory to sys.path\n",
    "sys.path.append(os.path.abspath(os.path.join(os.getcwd(), \"../../\")))"
   ]
  },
  {
   "cell_type": "markdown",
   "metadata": {},
   "source": [
    "**Required**"
   ]
  },
  {
   "cell_type": "code",
   "execution_count": 2,
   "metadata": {},
   "outputs": [],
   "source": [
    "import numpy as np\n",
    "import pandas as pd\n",
    "import matplotlib.pyplot as plt\n",
    "\n",
    "# Importing ParquetDataset to download and load dataset\n",
    "from ThreeWToolkit.core.base_dataset import ParquetDatasetConfig\n",
    "from ThreeWToolkit.dataset import ParquetDataset\n",
    "from ThreeWToolkit.core.enums import EventPrefixEnum\n",
    "\n",
    "# Apply mean imputation\n",
    "from ThreeWToolkit.core.base_preprocessing import (\n",
    "    ImputeMissingConfig,\n",
    "    NormalizeConfig,\n",
    "    WindowingConfig,\n",
    "    RenameColumnsConfig,\n",
    ")\n",
    "from ThreeWToolkit.preprocessing import (\n",
    "    ImputeMissing,\n",
    "    Normalize,\n",
    "    Windowing,\n",
    "    RenameColumns,\n",
    ")\n",
    "from ThreeWToolkit.core.base_feature_extractor import (\n",
    "    StatisticalConfig,\n",
    "    EWStatisticalConfig,\n",
    "    WaveletConfig,\n",
    ")\n",
    "from ThreeWToolkit.feature_extraction import (\n",
    "    ExtractStatisticalFeatures,\n",
    "    ExtractEWStatisticalFeatures,\n",
    "    ExtractWaveletFeatures,\n",
    ")\n",
    "from ThreeWToolkit.data_visualization import DataVisualization\n",
    "\n",
    "from pathlib import Path"
   ]
  },
  {
   "cell_type": "markdown",
   "metadata": {},
   "source": [
    "-----"
   ]
  },
  {
   "cell_type": "markdown",
   "metadata": {},
   "source": [
    "## 📂 2. Dataset 3W\n",
    "\n",
    "* **Format**: Tabular, split into files in parquet format\n",
    "* **Hosted** on: 3W Dataset 2.0.0 - Figshare\n",
    "* **Size**: 1.67 GB\n",
    "* **Splits**: 10 folders with parquet files, one folder for each event.\n",
    "* **License** & Usage: Apache 2.0"
   ]
  },
  {
   "cell_type": "markdown",
   "metadata": {},
   "source": [
    "**Define path**"
   ]
  },
  {
   "cell_type": "code",
   "execution_count": 3,
   "metadata": {},
   "outputs": [],
   "source": [
    "dataset_path = Path(\"/data/3w_dataset\")"
   ]
  },
  {
   "cell_type": "markdown",
   "metadata": {},
   "source": [
    "### 2.1 Downloading the Dataset"
   ]
  },
  {
   "cell_type": "markdown",
   "metadata": {},
   "source": [
    "Let’s download the dataset using the 3W library:"
   ]
  },
  {
   "cell_type": "code",
   "execution_count": 4,
   "metadata": {},
   "outputs": [
    {
     "name": "stdout",
     "output_type": "stream",
     "text": [
      "[ParquetDataset] Dataset found at /data/3w_dataset\n",
      "[ParquetDataset] Validating dataset integrity...\n",
      "[ParquetDataset] Dataset integrity check passed!\n"
     ]
    },
    {
     "data": {
      "text/plain": [
       "2228"
      ]
     },
     "execution_count": 4,
     "metadata": {},
     "output_type": "execute_result"
    }
   ],
   "source": [
    "# Create and load\n",
    "ds_config = ParquetDatasetConfig(path=dataset_path, clean_data=False)\n",
    "ds = ParquetDataset(ds_config)\n",
    "len(ds)"
   ]
  },
  {
   "cell_type": "markdown",
   "metadata": {},
   "source": [
    "### 2.2 Filtering & Exploring the Data"
   ]
  },
  {
   "cell_type": "code",
   "execution_count": 5,
   "metadata": {},
   "outputs": [
    {
     "data": {
      "text/plain": [
       "2228"
      ]
     },
     "execution_count": 5,
     "metadata": {},
     "output_type": "execute_result"
    }
   ],
   "source": [
    "# Count events\n",
    "total_events = len(ds)\n",
    "total_events"
   ]
  },
  {
   "cell_type": "markdown",
   "metadata": {},
   "source": [
    "Each event is a dict containing: \"signal\" and \"label\""
   ]
  },
  {
   "cell_type": "code",
   "execution_count": 6,
   "metadata": {},
   "outputs": [
    {
     "data": {
      "text/plain": [
       "dict"
      ]
     },
     "execution_count": 6,
     "metadata": {},
     "output_type": "execute_result"
    }
   ],
   "source": [
    "event_id = 0\n",
    "type(ds[event_id])"
   ]
  },
  {
   "cell_type": "code",
   "execution_count": 7,
   "metadata": {},
   "outputs": [
    {
     "data": {
      "text/plain": [
       "dict_keys(['signal', 'label', 'file_name'])"
      ]
     },
     "execution_count": 7,
     "metadata": {},
     "output_type": "execute_result"
    }
   ],
   "source": [
    "ds[event_id].keys()"
   ]
  },
  {
   "cell_type": "markdown",
   "metadata": {},
   "source": [
    "Lets check the \"signal\":"
   ]
  },
  {
   "cell_type": "code",
   "execution_count": 8,
   "metadata": {},
   "outputs": [
    {
     "data": {
      "text/html": [
       "<div>\n",
       "<style scoped>\n",
       "    .dataframe tbody tr th:only-of-type {\n",
       "        vertical-align: middle;\n",
       "    }\n",
       "\n",
       "    .dataframe tbody tr th {\n",
       "        vertical-align: top;\n",
       "    }\n",
       "\n",
       "    .dataframe thead th {\n",
       "        text-align: right;\n",
       "    }\n",
       "</style>\n",
       "<table border=\"1\" class=\"dataframe\">\n",
       "  <thead>\n",
       "    <tr style=\"text-align: right;\">\n",
       "      <th></th>\n",
       "      <th>ABER-CKGL</th>\n",
       "      <th>ABER-CKP</th>\n",
       "      <th>ESTADO-DHSV</th>\n",
       "      <th>ESTADO-M1</th>\n",
       "      <th>ESTADO-M2</th>\n",
       "      <th>ESTADO-PXO</th>\n",
       "      <th>ESTADO-SDV-GL</th>\n",
       "      <th>ESTADO-SDV-P</th>\n",
       "      <th>ESTADO-W1</th>\n",
       "      <th>ESTADO-W2</th>\n",
       "      <th>...</th>\n",
       "      <th>P-PDG</th>\n",
       "      <th>PT-P</th>\n",
       "      <th>P-TPT</th>\n",
       "      <th>QBS</th>\n",
       "      <th>QGL</th>\n",
       "      <th>T-JUS-CKP</th>\n",
       "      <th>T-MON-CKP</th>\n",
       "      <th>T-PDG</th>\n",
       "      <th>T-TPT</th>\n",
       "      <th>state</th>\n",
       "    </tr>\n",
       "    <tr>\n",
       "      <th>timestamp</th>\n",
       "      <th></th>\n",
       "      <th></th>\n",
       "      <th></th>\n",
       "      <th></th>\n",
       "      <th></th>\n",
       "      <th></th>\n",
       "      <th></th>\n",
       "      <th></th>\n",
       "      <th></th>\n",
       "      <th></th>\n",
       "      <th></th>\n",
       "      <th></th>\n",
       "      <th></th>\n",
       "      <th></th>\n",
       "      <th></th>\n",
       "      <th></th>\n",
       "      <th></th>\n",
       "      <th></th>\n",
       "      <th></th>\n",
       "      <th></th>\n",
       "      <th></th>\n",
       "    </tr>\n",
       "  </thead>\n",
       "  <tbody>\n",
       "    <tr>\n",
       "      <th>2018-09-05 20:44:36</th>\n",
       "      <td>NaN</td>\n",
       "      <td>NaN</td>\n",
       "      <td>NaN</td>\n",
       "      <td>NaN</td>\n",
       "      <td>NaN</td>\n",
       "      <td>NaN</td>\n",
       "      <td>NaN</td>\n",
       "      <td>NaN</td>\n",
       "      <td>NaN</td>\n",
       "      <td>NaN</td>\n",
       "      <td>...</td>\n",
       "      <td>420.2314</td>\n",
       "      <td>NaN</td>\n",
       "      <td>175.340600</td>\n",
       "      <td>NaN</td>\n",
       "      <td>NaN</td>\n",
       "      <td>66.75450</td>\n",
       "      <td>NaN</td>\n",
       "      <td>NaN</td>\n",
       "      <td>114.890700</td>\n",
       "      <td>0</td>\n",
       "    </tr>\n",
       "    <tr>\n",
       "      <th>2018-09-05 20:44:37</th>\n",
       "      <td>NaN</td>\n",
       "      <td>NaN</td>\n",
       "      <td>NaN</td>\n",
       "      <td>NaN</td>\n",
       "      <td>NaN</td>\n",
       "      <td>NaN</td>\n",
       "      <td>NaN</td>\n",
       "      <td>NaN</td>\n",
       "      <td>NaN</td>\n",
       "      <td>NaN</td>\n",
       "      <td>...</td>\n",
       "      <td>420.2314</td>\n",
       "      <td>NaN</td>\n",
       "      <td>175.340600</td>\n",
       "      <td>NaN</td>\n",
       "      <td>NaN</td>\n",
       "      <td>66.75450</td>\n",
       "      <td>NaN</td>\n",
       "      <td>NaN</td>\n",
       "      <td>114.890700</td>\n",
       "      <td>0</td>\n",
       "    </tr>\n",
       "    <tr>\n",
       "      <th>2018-09-05 20:44:38</th>\n",
       "      <td>NaN</td>\n",
       "      <td>NaN</td>\n",
       "      <td>NaN</td>\n",
       "      <td>NaN</td>\n",
       "      <td>NaN</td>\n",
       "      <td>NaN</td>\n",
       "      <td>NaN</td>\n",
       "      <td>NaN</td>\n",
       "      <td>NaN</td>\n",
       "      <td>NaN</td>\n",
       "      <td>...</td>\n",
       "      <td>420.2314</td>\n",
       "      <td>NaN</td>\n",
       "      <td>175.340600</td>\n",
       "      <td>NaN</td>\n",
       "      <td>NaN</td>\n",
       "      <td>66.75450</td>\n",
       "      <td>NaN</td>\n",
       "      <td>NaN</td>\n",
       "      <td>114.890700</td>\n",
       "      <td>0</td>\n",
       "    </tr>\n",
       "    <tr>\n",
       "      <th>2018-09-05 20:44:39</th>\n",
       "      <td>NaN</td>\n",
       "      <td>NaN</td>\n",
       "      <td>NaN</td>\n",
       "      <td>NaN</td>\n",
       "      <td>NaN</td>\n",
       "      <td>NaN</td>\n",
       "      <td>NaN</td>\n",
       "      <td>NaN</td>\n",
       "      <td>NaN</td>\n",
       "      <td>NaN</td>\n",
       "      <td>...</td>\n",
       "      <td>420.2314</td>\n",
       "      <td>NaN</td>\n",
       "      <td>175.340600</td>\n",
       "      <td>NaN</td>\n",
       "      <td>NaN</td>\n",
       "      <td>66.75450</td>\n",
       "      <td>NaN</td>\n",
       "      <td>NaN</td>\n",
       "      <td>114.890700</td>\n",
       "      <td>0</td>\n",
       "    </tr>\n",
       "    <tr>\n",
       "      <th>2018-09-05 20:44:40</th>\n",
       "      <td>NaN</td>\n",
       "      <td>NaN</td>\n",
       "      <td>NaN</td>\n",
       "      <td>NaN</td>\n",
       "      <td>NaN</td>\n",
       "      <td>NaN</td>\n",
       "      <td>NaN</td>\n",
       "      <td>NaN</td>\n",
       "      <td>NaN</td>\n",
       "      <td>NaN</td>\n",
       "      <td>...</td>\n",
       "      <td>420.2314</td>\n",
       "      <td>NaN</td>\n",
       "      <td>175.340600</td>\n",
       "      <td>NaN</td>\n",
       "      <td>NaN</td>\n",
       "      <td>66.75450</td>\n",
       "      <td>NaN</td>\n",
       "      <td>NaN</td>\n",
       "      <td>114.890700</td>\n",
       "      <td>0</td>\n",
       "    </tr>\n",
       "    <tr>\n",
       "      <th>...</th>\n",
       "      <td>...</td>\n",
       "      <td>...</td>\n",
       "      <td>...</td>\n",
       "      <td>...</td>\n",
       "      <td>...</td>\n",
       "      <td>...</td>\n",
       "      <td>...</td>\n",
       "      <td>...</td>\n",
       "      <td>...</td>\n",
       "      <td>...</td>\n",
       "      <td>...</td>\n",
       "      <td>...</td>\n",
       "      <td>...</td>\n",
       "      <td>...</td>\n",
       "      <td>...</td>\n",
       "      <td>...</td>\n",
       "      <td>...</td>\n",
       "      <td>...</td>\n",
       "      <td>...</td>\n",
       "      <td>...</td>\n",
       "      <td>...</td>\n",
       "    </tr>\n",
       "    <tr>\n",
       "      <th>2018-09-07 20:44:31</th>\n",
       "      <td>NaN</td>\n",
       "      <td>NaN</td>\n",
       "      <td>NaN</td>\n",
       "      <td>NaN</td>\n",
       "      <td>NaN</td>\n",
       "      <td>NaN</td>\n",
       "      <td>NaN</td>\n",
       "      <td>NaN</td>\n",
       "      <td>NaN</td>\n",
       "      <td>NaN</td>\n",
       "      <td>...</td>\n",
       "      <td>429.8329</td>\n",
       "      <td>NaN</td>\n",
       "      <td>60.136751</td>\n",
       "      <td>NaN</td>\n",
       "      <td>NaN</td>\n",
       "      <td>31.27121</td>\n",
       "      <td>NaN</td>\n",
       "      <td>NaN</td>\n",
       "      <td>8.354756</td>\n",
       "      <td>0</td>\n",
       "    </tr>\n",
       "    <tr>\n",
       "      <th>2018-09-07 20:44:32</th>\n",
       "      <td>NaN</td>\n",
       "      <td>NaN</td>\n",
       "      <td>NaN</td>\n",
       "      <td>NaN</td>\n",
       "      <td>NaN</td>\n",
       "      <td>NaN</td>\n",
       "      <td>NaN</td>\n",
       "      <td>NaN</td>\n",
       "      <td>NaN</td>\n",
       "      <td>NaN</td>\n",
       "      <td>...</td>\n",
       "      <td>429.8329</td>\n",
       "      <td>NaN</td>\n",
       "      <td>60.137893</td>\n",
       "      <td>NaN</td>\n",
       "      <td>NaN</td>\n",
       "      <td>31.27121</td>\n",
       "      <td>NaN</td>\n",
       "      <td>NaN</td>\n",
       "      <td>8.354756</td>\n",
       "      <td>0</td>\n",
       "    </tr>\n",
       "    <tr>\n",
       "      <th>2018-09-07 20:44:33</th>\n",
       "      <td>NaN</td>\n",
       "      <td>NaN</td>\n",
       "      <td>NaN</td>\n",
       "      <td>NaN</td>\n",
       "      <td>NaN</td>\n",
       "      <td>NaN</td>\n",
       "      <td>NaN</td>\n",
       "      <td>NaN</td>\n",
       "      <td>NaN</td>\n",
       "      <td>NaN</td>\n",
       "      <td>...</td>\n",
       "      <td>429.8329</td>\n",
       "      <td>NaN</td>\n",
       "      <td>60.139036</td>\n",
       "      <td>NaN</td>\n",
       "      <td>NaN</td>\n",
       "      <td>31.27121</td>\n",
       "      <td>NaN</td>\n",
       "      <td>NaN</td>\n",
       "      <td>8.354756</td>\n",
       "      <td>0</td>\n",
       "    </tr>\n",
       "    <tr>\n",
       "      <th>2018-09-07 20:44:34</th>\n",
       "      <td>NaN</td>\n",
       "      <td>NaN</td>\n",
       "      <td>NaN</td>\n",
       "      <td>NaN</td>\n",
       "      <td>NaN</td>\n",
       "      <td>NaN</td>\n",
       "      <td>NaN</td>\n",
       "      <td>NaN</td>\n",
       "      <td>NaN</td>\n",
       "      <td>NaN</td>\n",
       "      <td>...</td>\n",
       "      <td>429.8329</td>\n",
       "      <td>NaN</td>\n",
       "      <td>60.140179</td>\n",
       "      <td>NaN</td>\n",
       "      <td>NaN</td>\n",
       "      <td>31.27121</td>\n",
       "      <td>NaN</td>\n",
       "      <td>NaN</td>\n",
       "      <td>8.354756</td>\n",
       "      <td>0</td>\n",
       "    </tr>\n",
       "    <tr>\n",
       "      <th>2018-09-07 20:44:35</th>\n",
       "      <td>NaN</td>\n",
       "      <td>NaN</td>\n",
       "      <td>NaN</td>\n",
       "      <td>NaN</td>\n",
       "      <td>NaN</td>\n",
       "      <td>NaN</td>\n",
       "      <td>NaN</td>\n",
       "      <td>NaN</td>\n",
       "      <td>NaN</td>\n",
       "      <td>NaN</td>\n",
       "      <td>...</td>\n",
       "      <td>429.8329</td>\n",
       "      <td>NaN</td>\n",
       "      <td>60.141321</td>\n",
       "      <td>NaN</td>\n",
       "      <td>NaN</td>\n",
       "      <td>31.27121</td>\n",
       "      <td>NaN</td>\n",
       "      <td>NaN</td>\n",
       "      <td>8.354756</td>\n",
       "      <td>0</td>\n",
       "    </tr>\n",
       "  </tbody>\n",
       "</table>\n",
       "<p>172800 rows × 28 columns</p>\n",
       "</div>"
      ],
      "text/plain": [
       "                     ABER-CKGL  ABER-CKP  ESTADO-DHSV  ESTADO-M1  ESTADO-M2  \\\n",
       "timestamp                                                                     \n",
       "2018-09-05 20:44:36        NaN       NaN          NaN        NaN        NaN   \n",
       "2018-09-05 20:44:37        NaN       NaN          NaN        NaN        NaN   \n",
       "2018-09-05 20:44:38        NaN       NaN          NaN        NaN        NaN   \n",
       "2018-09-05 20:44:39        NaN       NaN          NaN        NaN        NaN   \n",
       "2018-09-05 20:44:40        NaN       NaN          NaN        NaN        NaN   \n",
       "...                        ...       ...          ...        ...        ...   \n",
       "2018-09-07 20:44:31        NaN       NaN          NaN        NaN        NaN   \n",
       "2018-09-07 20:44:32        NaN       NaN          NaN        NaN        NaN   \n",
       "2018-09-07 20:44:33        NaN       NaN          NaN        NaN        NaN   \n",
       "2018-09-07 20:44:34        NaN       NaN          NaN        NaN        NaN   \n",
       "2018-09-07 20:44:35        NaN       NaN          NaN        NaN        NaN   \n",
       "\n",
       "                     ESTADO-PXO  ESTADO-SDV-GL  ESTADO-SDV-P  ESTADO-W1  \\\n",
       "timestamp                                                                 \n",
       "2018-09-05 20:44:36         NaN            NaN           NaN        NaN   \n",
       "2018-09-05 20:44:37         NaN            NaN           NaN        NaN   \n",
       "2018-09-05 20:44:38         NaN            NaN           NaN        NaN   \n",
       "2018-09-05 20:44:39         NaN            NaN           NaN        NaN   \n",
       "2018-09-05 20:44:40         NaN            NaN           NaN        NaN   \n",
       "...                         ...            ...           ...        ...   \n",
       "2018-09-07 20:44:31         NaN            NaN           NaN        NaN   \n",
       "2018-09-07 20:44:32         NaN            NaN           NaN        NaN   \n",
       "2018-09-07 20:44:33         NaN            NaN           NaN        NaN   \n",
       "2018-09-07 20:44:34         NaN            NaN           NaN        NaN   \n",
       "2018-09-07 20:44:35         NaN            NaN           NaN        NaN   \n",
       "\n",
       "                     ESTADO-W2  ...     P-PDG  PT-P       P-TPT  QBS  QGL  \\\n",
       "timestamp                       ...                                         \n",
       "2018-09-05 20:44:36        NaN  ...  420.2314   NaN  175.340600  NaN  NaN   \n",
       "2018-09-05 20:44:37        NaN  ...  420.2314   NaN  175.340600  NaN  NaN   \n",
       "2018-09-05 20:44:38        NaN  ...  420.2314   NaN  175.340600  NaN  NaN   \n",
       "2018-09-05 20:44:39        NaN  ...  420.2314   NaN  175.340600  NaN  NaN   \n",
       "2018-09-05 20:44:40        NaN  ...  420.2314   NaN  175.340600  NaN  NaN   \n",
       "...                        ...  ...       ...   ...         ...  ...  ...   \n",
       "2018-09-07 20:44:31        NaN  ...  429.8329   NaN   60.136751  NaN  NaN   \n",
       "2018-09-07 20:44:32        NaN  ...  429.8329   NaN   60.137893  NaN  NaN   \n",
       "2018-09-07 20:44:33        NaN  ...  429.8329   NaN   60.139036  NaN  NaN   \n",
       "2018-09-07 20:44:34        NaN  ...  429.8329   NaN   60.140179  NaN  NaN   \n",
       "2018-09-07 20:44:35        NaN  ...  429.8329   NaN   60.141321  NaN  NaN   \n",
       "\n",
       "                     T-JUS-CKP  T-MON-CKP  T-PDG       T-TPT  state  \n",
       "timestamp                                                            \n",
       "2018-09-05 20:44:36   66.75450        NaN    NaN  114.890700      0  \n",
       "2018-09-05 20:44:37   66.75450        NaN    NaN  114.890700      0  \n",
       "2018-09-05 20:44:38   66.75450        NaN    NaN  114.890700      0  \n",
       "2018-09-05 20:44:39   66.75450        NaN    NaN  114.890700      0  \n",
       "2018-09-05 20:44:40   66.75450        NaN    NaN  114.890700      0  \n",
       "...                        ...        ...    ...         ...    ...  \n",
       "2018-09-07 20:44:31   31.27121        NaN    NaN    8.354756      0  \n",
       "2018-09-07 20:44:32   31.27121        NaN    NaN    8.354756      0  \n",
       "2018-09-07 20:44:33   31.27121        NaN    NaN    8.354756      0  \n",
       "2018-09-07 20:44:34   31.27121        NaN    NaN    8.354756      0  \n",
       "2018-09-07 20:44:35   31.27121        NaN    NaN    8.354756      0  \n",
       "\n",
       "[172800 rows x 28 columns]"
      ]
     },
     "execution_count": 8,
     "metadata": {},
     "output_type": "execute_result"
    }
   ],
   "source": [
    "ds[event_id][\"signal\"]"
   ]
  },
  {
   "cell_type": "markdown",
   "metadata": {},
   "source": [
    "Let's also check the unique values in \"label\" "
   ]
  },
  {
   "cell_type": "code",
   "execution_count": 9,
   "metadata": {},
   "outputs": [
    {
     "data": {
      "text/plain": [
       "array([  0,   1, 101], dtype=int16)"
      ]
     },
     "execution_count": 9,
     "metadata": {},
     "output_type": "execute_result"
    }
   ],
   "source": [
    "np.unique(ds[0][\"label\"])"
   ]
  },
  {
   "cell_type": "code",
   "execution_count": 10,
   "metadata": {},
   "outputs": [
    {
     "data": {
      "text/html": [
       "<div>\n",
       "<style scoped>\n",
       "    .dataframe tbody tr th:only-of-type {\n",
       "        vertical-align: middle;\n",
       "    }\n",
       "\n",
       "    .dataframe tbody tr th {\n",
       "        vertical-align: top;\n",
       "    }\n",
       "\n",
       "    .dataframe thead th {\n",
       "        text-align: right;\n",
       "    }\n",
       "</style>\n",
       "<table border=\"1\" class=\"dataframe\">\n",
       "  <thead>\n",
       "    <tr style=\"text-align: right;\">\n",
       "      <th></th>\n",
       "      <th>class</th>\n",
       "    </tr>\n",
       "    <tr>\n",
       "      <th>timestamp</th>\n",
       "      <th></th>\n",
       "    </tr>\n",
       "  </thead>\n",
       "  <tbody>\n",
       "    <tr>\n",
       "      <th>2018-09-05 20:44:36</th>\n",
       "      <td>0</td>\n",
       "    </tr>\n",
       "    <tr>\n",
       "      <th>2018-09-05 20:44:37</th>\n",
       "      <td>0</td>\n",
       "    </tr>\n",
       "    <tr>\n",
       "      <th>2018-09-05 20:44:38</th>\n",
       "      <td>0</td>\n",
       "    </tr>\n",
       "    <tr>\n",
       "      <th>2018-09-05 20:44:39</th>\n",
       "      <td>0</td>\n",
       "    </tr>\n",
       "    <tr>\n",
       "      <th>2018-09-05 20:44:40</th>\n",
       "      <td>0</td>\n",
       "    </tr>\n",
       "    <tr>\n",
       "      <th>...</th>\n",
       "      <td>...</td>\n",
       "    </tr>\n",
       "    <tr>\n",
       "      <th>2018-09-07 20:44:31</th>\n",
       "      <td>1</td>\n",
       "    </tr>\n",
       "    <tr>\n",
       "      <th>2018-09-07 20:44:32</th>\n",
       "      <td>1</td>\n",
       "    </tr>\n",
       "    <tr>\n",
       "      <th>2018-09-07 20:44:33</th>\n",
       "      <td>1</td>\n",
       "    </tr>\n",
       "    <tr>\n",
       "      <th>2018-09-07 20:44:34</th>\n",
       "      <td>1</td>\n",
       "    </tr>\n",
       "    <tr>\n",
       "      <th>2018-09-07 20:44:35</th>\n",
       "      <td>1</td>\n",
       "    </tr>\n",
       "  </tbody>\n",
       "</table>\n",
       "<p>172800 rows × 1 columns</p>\n",
       "</div>"
      ],
      "text/plain": [
       "                     class\n",
       "timestamp                 \n",
       "2018-09-05 20:44:36      0\n",
       "2018-09-05 20:44:37      0\n",
       "2018-09-05 20:44:38      0\n",
       "2018-09-05 20:44:39      0\n",
       "2018-09-05 20:44:40      0\n",
       "...                    ...\n",
       "2018-09-07 20:44:31      1\n",
       "2018-09-07 20:44:32      1\n",
       "2018-09-07 20:44:33      1\n",
       "2018-09-07 20:44:34      1\n",
       "2018-09-07 20:44:35      1\n",
       "\n",
       "[172800 rows x 1 columns]"
      ]
     },
     "execution_count": 10,
     "metadata": {},
     "output_type": "execute_result"
    }
   ],
   "source": [
    "ds[0][\"label\"]"
   ]
  },
  {
   "cell_type": "markdown",
   "metadata": {},
   "source": [
    "Its also possible to filter/split the dataset using different methods:"
   ]
  },
  {
   "cell_type": "markdown",
   "metadata": {},
   "source": [
    "#### Split by event type:"
   ]
  },
  {
   "cell_type": "markdown",
   "metadata": {},
   "source": [
    "Lets, as an example select only DRAWN and SIMULATED event types:"
   ]
  },
  {
   "cell_type": "code",
   "execution_count": 11,
   "metadata": {},
   "outputs": [
    {
     "name": "stdout",
     "output_type": "stream",
     "text": [
      "[ParquetDataset] Dataset found at /data/3w_dataset\n",
      "[ParquetDataset] Validating dataset integrity...\n",
      "[ParquetDataset] Dataset integrity check passed!\n"
     ]
    },
    {
     "data": {
      "text/plain": [
       "1109"
      ]
     },
     "execution_count": 11,
     "metadata": {},
     "output_type": "execute_result"
    }
   ],
   "source": [
    "event_types = [EventPrefixEnum.DRAWN, EventPrefixEnum.SIMULATED]\n",
    "ds_config = ParquetDatasetConfig(\n",
    "    path=dataset_path, event_type=event_types\n",
    ")  # get drawn and simulated\n",
    "ds = ParquetDataset(\n",
    "    ds_config,\n",
    ")\n",
    "len(ds)  # should be much smaller"
   ]
  },
  {
   "cell_type": "markdown",
   "metadata": {},
   "source": [
    "And of REAL only:"
   ]
  },
  {
   "cell_type": "code",
   "execution_count": 12,
   "metadata": {},
   "outputs": [
    {
     "name": "stdout",
     "output_type": "stream",
     "text": [
      "[ParquetDataset] Dataset found at /data/3w_dataset\n",
      "[ParquetDataset] Validating dataset integrity...\n",
      "[ParquetDataset] Dataset integrity check passed!\n"
     ]
    },
    {
     "data": {
      "text/plain": [
       "1119"
      ]
     },
     "execution_count": 12,
     "metadata": {},
     "output_type": "execute_result"
    }
   ],
   "source": [
    "event_types = [EventPrefixEnum.REAL]\n",
    "ds_config = ParquetDatasetConfig(path=dataset_path, event_type=event_types)\n",
    "ds = ParquetDataset(ds_config)\n",
    "len(ds)"
   ]
  },
  {
   "cell_type": "markdown",
   "metadata": {},
   "source": [
    "Any combination of REAL, DRAWN and SIMULATED is also supported."
   ]
  },
  {
   "cell_type": "markdown",
   "metadata": {},
   "source": [
    "#### Split by event class"
   ]
  },
  {
   "cell_type": "markdown",
   "metadata": {},
   "source": [
    "We may also filter by event classes. To select only events from class 0 we would do:"
   ]
  },
  {
   "cell_type": "code",
   "execution_count": 13,
   "metadata": {},
   "outputs": [
    {
     "name": "stdout",
     "output_type": "stream",
     "text": [
      "[ParquetDataset] Dataset found at /data/3w_dataset\n",
      "[ParquetDataset] Validating dataset integrity...\n",
      "[ParquetDataset] Dataset integrity check passed!\n"
     ]
    },
    {
     "data": {
      "text/plain": [
       "594"
      ]
     },
     "execution_count": 13,
     "metadata": {},
     "output_type": "execute_result"
    }
   ],
   "source": [
    "target_class = [0]\n",
    "ds_config = ParquetDatasetConfig(path=dataset_path, target_class=target_class)\n",
    "ds = ParquetDataset(ds_config)\n",
    "len(ds)"
   ]
  },
  {
   "cell_type": "code",
   "execution_count": 14,
   "metadata": {},
   "outputs": [
    {
     "data": {
      "text/plain": [
       "array([0])"
      ]
     },
     "execution_count": 14,
     "metadata": {},
     "output_type": "execute_result"
    }
   ],
   "source": [
    "np.unique(ds[event_id][\"label\"])"
   ]
  },
  {
   "cell_type": "markdown",
   "metadata": {},
   "source": [
    "And only for class 2:"
   ]
  },
  {
   "cell_type": "code",
   "execution_count": 15,
   "metadata": {},
   "outputs": [
    {
     "name": "stdout",
     "output_type": "stream",
     "text": [
      "[ParquetDataset] Dataset found at /data/3w_dataset\n",
      "[ParquetDataset] Validating dataset integrity...\n",
      "[ParquetDataset] Dataset integrity check passed!\n"
     ]
    },
    {
     "data": {
      "text/plain": [
       "38"
      ]
     },
     "execution_count": 15,
     "metadata": {},
     "output_type": "execute_result"
    }
   ],
   "source": [
    "target_class = [2]\n",
    "ds_config = ParquetDatasetConfig(path=dataset_path, target_class=target_class)\n",
    "ds = ParquetDataset(ds_config)\n",
    "len(ds)"
   ]
  },
  {
   "cell_type": "code",
   "execution_count": 16,
   "metadata": {},
   "outputs": [
    {
     "data": {
      "text/plain": [
       "array([2])"
      ]
     },
     "execution_count": 16,
     "metadata": {},
     "output_type": "execute_result"
    }
   ],
   "source": [
    "np.unique(ds[event_id][\"label\"])"
   ]
  },
  {
   "cell_type": "markdown",
   "metadata": {},
   "source": [
    "And we may select multiple classes:"
   ]
  },
  {
   "cell_type": "code",
   "execution_count": 17,
   "metadata": {},
   "outputs": [
    {
     "name": "stdout",
     "output_type": "stream",
     "text": [
      "[ParquetDataset] Dataset found at /data/3w_dataset\n",
      "[ParquetDataset] Validating dataset integrity...\n",
      "[ParquetDataset] Dataset integrity check passed!\n"
     ]
    },
    {
     "data": {
      "text/plain": [
       "632"
      ]
     },
     "execution_count": 17,
     "metadata": {},
     "output_type": "execute_result"
    }
   ],
   "source": [
    "target_class = [0, 2]\n",
    "ds_config = ParquetDatasetConfig(path=dataset_path, target_class=target_class)\n",
    "ds = ParquetDataset(ds_config)\n",
    "len(ds)"
   ]
  },
  {
   "cell_type": "markdown",
   "metadata": {},
   "source": [
    "We may combine type and class filters as well. For REAL class 2 events:"
   ]
  },
  {
   "cell_type": "code",
   "execution_count": 18,
   "metadata": {},
   "outputs": [
    {
     "name": "stdout",
     "output_type": "stream",
     "text": [
      "[ParquetDataset] Dataset found at /data/3w_dataset\n",
      "[ParquetDataset] Validating dataset integrity...\n",
      "[ParquetDataset] Dataset integrity check passed!\n"
     ]
    },
    {
     "data": {
      "text/plain": [
       "22"
      ]
     },
     "execution_count": 18,
     "metadata": {},
     "output_type": "execute_result"
    }
   ],
   "source": [
    "event_types = [EventPrefixEnum.REAL]\n",
    "target_class = [2]\n",
    "ds_config = ParquetDatasetConfig(path=dataset_path, event_type=event_types, target_class=target_class)\n",
    "ds = ParquetDataset(ds_config)\n",
    "len(ds)"
   ]
  },
  {
   "cell_type": "markdown",
   "metadata": {},
   "source": [
    "### Split through file list"
   ]
  },
  {
   "cell_type": "markdown",
   "metadata": {},
   "source": [
    "It is also possible to filter the desired events through a list of event names.\n",
    "\n",
    "This is particularly useful to define train/test splits as the user may desire.\n",
    "\n",
    "Given a list of event names (relative to the dataset root):"
   ]
  },
  {
   "cell_type": "code",
   "execution_count": 20,
   "metadata": {},
   "outputs": [
    {
     "data": {
      "text/plain": [
       "20"
      ]
     },
     "execution_count": 20,
     "metadata": {},
     "output_type": "execute_result"
    }
   ],
   "source": [
    "my_split = [\n",
    "    \"./0/WELL-00008_20170817140222.parquet\",\n",
    "    \"./3/SIMULATED_00061.parquet\",\n",
    "    \"./4/WELL-00004_20140806090103.parquet\",\n",
    "    \"./6/SIMULATED_00117.parquet\",\n",
    "    \"./0/WELL-00001_20170201110124.parquet\",\n",
    "    \"./5/SIMULATED_00138.parquet\",\n",
    "    \"./4/WELL-00005_20170624070158.parquet\",\n",
    "    \"./8/SIMULATED_00044.parquet\",\n",
    "    \"./5/SIMULATED_00303.parquet\",\n",
    "    \"./9/SIMULATED_00028.parquet\",\n",
    "    \"./8/SIMULATED_00072.parquet\",\n",
    "    \"./7/WELL-00022_20180802233838.parquet\",\n",
    "    \"./0/WELL-00003_20170812110000.parquet\",\n",
    "    \"./9/SIMULATED_00115.parquet\",\n",
    "    \"./1/SIMULATED_00025.parquet\",\n",
    "    \"./9/SIMULATED_00065.parquet\",\n",
    "    \"./6/SIMULATED_00041.parquet\",\n",
    "    \"./5/SIMULATED_00329.parquet\",\n",
    "    \"./4/WELL-00004_20141118160016.parquet\",\n",
    "    \"./6/SIMULATED_00095.parquet\",\n",
    "]  # can be stored in a my_split.txt file, for instance.\n",
    "\n",
    "len(my_split)"
   ]
  },
  {
   "cell_type": "code",
   "execution_count": 21,
   "metadata": {},
   "outputs": [
    {
     "name": "stdout",
     "output_type": "stream",
     "text": [
      "[ParquetDataset] Dataset found at /data/3w_dataset\n",
      "[ParquetDataset] Validating dataset integrity...\n",
      "[ParquetDataset] Dataset integrity check passed!\n"
     ]
    },
    {
     "data": {
      "text/plain": [
       "20"
      ]
     },
     "execution_count": 21,
     "metadata": {},
     "output_type": "execute_result"
    }
   ],
   "source": [
    "# get only files in split\n",
    "ds_config = ParquetDatasetConfig(path=dataset_path, split=\"list\", file_list=my_split)\n",
    "ds = ParquetDataset(ds_config)\n",
    "len(ds)"
   ]
  },
  {
   "cell_type": "code",
   "execution_count": 21,
   "metadata": {},
   "outputs": [
    {
     "data": {
      "text/html": [
       "<div>\n",
       "<style scoped>\n",
       "    .dataframe tbody tr th:only-of-type {\n",
       "        vertical-align: middle;\n",
       "    }\n",
       "\n",
       "    .dataframe tbody tr th {\n",
       "        vertical-align: top;\n",
       "    }\n",
       "\n",
       "    .dataframe thead th {\n",
       "        text-align: right;\n",
       "    }\n",
       "</style>\n",
       "<table border=\"1\" class=\"dataframe\">\n",
       "  <thead>\n",
       "    <tr style=\"text-align: right;\">\n",
       "      <th></th>\n",
       "      <th>class</th>\n",
       "    </tr>\n",
       "    <tr>\n",
       "      <th>timestamp</th>\n",
       "      <th></th>\n",
       "    </tr>\n",
       "  </thead>\n",
       "  <tbody>\n",
       "    <tr>\n",
       "      <th>2014-08-06 09:01:03</th>\n",
       "      <td>4</td>\n",
       "    </tr>\n",
       "    <tr>\n",
       "      <th>2014-08-06 09:01:04</th>\n",
       "      <td>4</td>\n",
       "    </tr>\n",
       "    <tr>\n",
       "      <th>2014-08-06 09:01:05</th>\n",
       "      <td>4</td>\n",
       "    </tr>\n",
       "    <tr>\n",
       "      <th>2014-08-06 09:01:06</th>\n",
       "      <td>4</td>\n",
       "    </tr>\n",
       "    <tr>\n",
       "      <th>2014-08-06 09:01:07</th>\n",
       "      <td>4</td>\n",
       "    </tr>\n",
       "    <tr>\n",
       "      <th>...</th>\n",
       "      <td>...</td>\n",
       "    </tr>\n",
       "    <tr>\n",
       "      <th>2014-08-06 11:59:56</th>\n",
       "      <td>4</td>\n",
       "    </tr>\n",
       "    <tr>\n",
       "      <th>2014-08-06 11:59:57</th>\n",
       "      <td>4</td>\n",
       "    </tr>\n",
       "    <tr>\n",
       "      <th>2014-08-06 11:59:58</th>\n",
       "      <td>4</td>\n",
       "    </tr>\n",
       "    <tr>\n",
       "      <th>2014-08-06 11:59:59</th>\n",
       "      <td>4</td>\n",
       "    </tr>\n",
       "    <tr>\n",
       "      <th>2014-08-06 12:00:00</th>\n",
       "      <td>4</td>\n",
       "    </tr>\n",
       "  </tbody>\n",
       "</table>\n",
       "<p>10738 rows × 1 columns</p>\n",
       "</div>"
      ],
      "text/plain": [
       "                     class\n",
       "timestamp                 \n",
       "2014-08-06 09:01:03      4\n",
       "2014-08-06 09:01:04      4\n",
       "2014-08-06 09:01:05      4\n",
       "2014-08-06 09:01:06      4\n",
       "2014-08-06 09:01:07      4\n",
       "...                    ...\n",
       "2014-08-06 11:59:56      4\n",
       "2014-08-06 11:59:57      4\n",
       "2014-08-06 11:59:58      4\n",
       "2014-08-06 11:59:59      4\n",
       "2014-08-06 12:00:00      4\n",
       "\n",
       "[10738 rows x 1 columns]"
      ]
     },
     "execution_count": 21,
     "metadata": {},
     "output_type": "execute_result"
    }
   ],
   "source": [
    "ds[2][\"label\"]"
   ]
  },
  {
   "cell_type": "markdown",
   "metadata": {},
   "source": [
    "### 2.3 Cleaning the dataset"
   ]
  },
  {
   "cell_type": "markdown",
   "metadata": {},
   "source": [
    "Some dataset tags are mostly absent.\n",
    "\n",
    "We provide functions for data cleaning and normalization tailored to version 2.0.0.\n",
    "\n",
    "The parameter `clean_data` performs the following steps:\n",
    "\n",
    "* Removal of unused tags;\n",
    "* Identification and removal of invalid sensor readings (outside a predefined range);\n",
    "* Identification and removal of frozen sensor readings;\n",
    "* Replacement of faulty sensor readings with `<NA>`;\n",
    "* Normalization, which recenters and rescales valid data using pre-computed values, ensuring valid statistics can be computed afterward."
   ]
  },
  {
   "cell_type": "code",
   "execution_count": 22,
   "metadata": {},
   "outputs": [
    {
     "name": "stdout",
     "output_type": "stream",
     "text": [
      "[ParquetDataset] Dataset found at /data/3w_dataset\n",
      "[ParquetDataset] Validating dataset integrity...\n",
      "[ParquetDataset] Dataset integrity check passed!\n",
      "[ParquetDataset] Dataset found at /data/3w_dataset\n",
      "[ParquetDataset] Validating dataset integrity...\n",
      "[ParquetDataset] Dataset integrity check passed!\n"
     ]
    }
   ],
   "source": [
    "ds_config = ParquetDatasetConfig(path=dataset_path)\n",
    "raw_dataset = ParquetDataset(ds_config)\n",
    "\n",
    "ds_config = ParquetDatasetConfig(path=dataset_path, clean_data=True)\n",
    "cleaned_dataset = ParquetDataset(ds_config)"
   ]
  },
  {
   "cell_type": "code",
   "execution_count": 23,
   "metadata": {},
   "outputs": [
    {
     "data": {
      "text/plain": [
       "['ABER-CKGL',\n",
       " 'ABER-CKP',\n",
       " 'ESTADO-DHSV',\n",
       " 'ESTADO-M1',\n",
       " 'ESTADO-M2',\n",
       " 'ESTADO-PXO',\n",
       " 'ESTADO-SDV-GL',\n",
       " 'ESTADO-SDV-P',\n",
       " 'ESTADO-W1',\n",
       " 'ESTADO-W2',\n",
       " 'ESTADO-XO',\n",
       " 'P-ANULAR',\n",
       " 'P-JUS-CKGL',\n",
       " 'P-JUS-CKP',\n",
       " 'P-MON-CKP',\n",
       " 'P-PDG',\n",
       " 'P-TPT',\n",
       " 'QGL',\n",
       " 'T-JUS-CKP',\n",
       " 'T-MON-CKP',\n",
       " 'T-PDG',\n",
       " 'T-TPT']"
      ]
     },
     "execution_count": 23,
     "metadata": {},
     "output_type": "execute_result"
    }
   ],
   "source": [
    "list(raw_dataset[0][\"signal\"].columns)"
   ]
  },
  {
   "cell_type": "code",
   "execution_count": 24,
   "metadata": {},
   "outputs": [
    {
     "data": {
      "text/plain": [
       "['ABER-CKGL',\n",
       " 'ABER-CKP',\n",
       " 'ESTADO-DHSV',\n",
       " 'ESTADO-M1',\n",
       " 'ESTADO-M2',\n",
       " 'ESTADO-PXO',\n",
       " 'ESTADO-SDV-GL',\n",
       " 'ESTADO-SDV-P',\n",
       " 'ESTADO-W1',\n",
       " 'ESTADO-W2',\n",
       " 'ESTADO-XO',\n",
       " 'P-ANULAR',\n",
       " 'P-JUS-CKGL',\n",
       " 'P-JUS-CKP',\n",
       " 'P-MON-CKP',\n",
       " 'P-PDG',\n",
       " 'P-TPT',\n",
       " 'QGL',\n",
       " 'T-JUS-CKP',\n",
       " 'T-MON-CKP',\n",
       " 'T-PDG',\n",
       " 'T-TPT']"
      ]
     },
     "execution_count": 24,
     "metadata": {},
     "output_type": "execute_result"
    }
   ],
   "source": [
    "list(cleaned_dataset[0][\"signal\"].columns)"
   ]
  },
  {
   "cell_type": "code",
   "execution_count": 24,
   "metadata": {},
   "outputs": [
    {
     "data": {
      "text/plain": [
       "timestamp\n",
       "2018-09-05 20:44:36   -2.374172\n",
       "2018-09-05 20:44:37   -2.374172\n",
       "2018-09-05 20:44:38   -2.374172\n",
       "2018-09-05 20:44:39   -2.374172\n",
       "2018-09-05 20:44:40   -2.374172\n",
       "                         ...   \n",
       "2018-09-07 20:44:31   -2.374192\n",
       "2018-09-07 20:44:32   -2.374192\n",
       "2018-09-07 20:44:33   -2.374192\n",
       "2018-09-07 20:44:34   -2.374192\n",
       "2018-09-07 20:44:35   -2.374192\n",
       "Name: P-TPT, Length: 172800, dtype: float64"
      ]
     },
     "execution_count": 24,
     "metadata": {},
     "output_type": "execute_result"
    }
   ],
   "source": [
    "cleaned_dataset[0][\"signal\"][\"P-TPT\"]  # normalized values"
   ]
  },
  {
   "cell_type": "code",
   "execution_count": 26,
   "metadata": {},
   "outputs": [
    {
     "data": {
      "text/html": [
       "<div>\n",
       "<style scoped>\n",
       "    .dataframe tbody tr th:only-of-type {\n",
       "        vertical-align: middle;\n",
       "    }\n",
       "\n",
       "    .dataframe tbody tr th {\n",
       "        vertical-align: top;\n",
       "    }\n",
       "\n",
       "    .dataframe thead th {\n",
       "        text-align: right;\n",
       "    }\n",
       "</style>\n",
       "<table border=\"1\" class=\"dataframe\">\n",
       "  <thead>\n",
       "    <tr style=\"text-align: right;\">\n",
       "      <th></th>\n",
       "      <th>ABER-CKGL</th>\n",
       "      <th>ABER-CKP</th>\n",
       "      <th>ESTADO-DHSV</th>\n",
       "      <th>ESTADO-M1</th>\n",
       "      <th>ESTADO-M2</th>\n",
       "      <th>ESTADO-PXO</th>\n",
       "      <th>ESTADO-SDV-GL</th>\n",
       "      <th>ESTADO-SDV-P</th>\n",
       "      <th>ESTADO-W1</th>\n",
       "      <th>ESTADO-W2</th>\n",
       "      <th>...</th>\n",
       "      <th>P-JUS-CKGL</th>\n",
       "      <th>P-JUS-CKP</th>\n",
       "      <th>P-MON-CKP</th>\n",
       "      <th>P-PDG</th>\n",
       "      <th>P-TPT</th>\n",
       "      <th>QGL</th>\n",
       "      <th>T-JUS-CKP</th>\n",
       "      <th>T-MON-CKP</th>\n",
       "      <th>T-PDG</th>\n",
       "      <th>T-TPT</th>\n",
       "    </tr>\n",
       "    <tr>\n",
       "      <th>timestamp</th>\n",
       "      <th></th>\n",
       "      <th></th>\n",
       "      <th></th>\n",
       "      <th></th>\n",
       "      <th></th>\n",
       "      <th></th>\n",
       "      <th></th>\n",
       "      <th></th>\n",
       "      <th></th>\n",
       "      <th></th>\n",
       "      <th></th>\n",
       "      <th></th>\n",
       "      <th></th>\n",
       "      <th></th>\n",
       "      <th></th>\n",
       "      <th></th>\n",
       "      <th></th>\n",
       "      <th></th>\n",
       "      <th></th>\n",
       "      <th></th>\n",
       "      <th></th>\n",
       "    </tr>\n",
       "  </thead>\n",
       "  <tbody>\n",
       "    <tr>\n",
       "      <th>2014-01-25 11:00:16</th>\n",
       "      <td>0.0</td>\n",
       "      <td>0.0</td>\n",
       "      <td>0.0</td>\n",
       "      <td>0.0</td>\n",
       "      <td>0.0</td>\n",
       "      <td>0.0</td>\n",
       "      <td>0.0</td>\n",
       "      <td>0.0</td>\n",
       "      <td>0.0</td>\n",
       "      <td>0.0</td>\n",
       "      <td>...</td>\n",
       "      <td>0.0</td>\n",
       "      <td>0.0</td>\n",
       "      <td>0.0</td>\n",
       "      <td>0.0</td>\n",
       "      <td>0.364462</td>\n",
       "      <td>0.0</td>\n",
       "      <td>0.0</td>\n",
       "      <td>0.0</td>\n",
       "      <td>0.0</td>\n",
       "      <td>0.688528</td>\n",
       "    </tr>\n",
       "    <tr>\n",
       "      <th>2014-01-25 11:00:17</th>\n",
       "      <td>0.0</td>\n",
       "      <td>0.0</td>\n",
       "      <td>0.0</td>\n",
       "      <td>0.0</td>\n",
       "      <td>0.0</td>\n",
       "      <td>0.0</td>\n",
       "      <td>0.0</td>\n",
       "      <td>0.0</td>\n",
       "      <td>0.0</td>\n",
       "      <td>0.0</td>\n",
       "      <td>...</td>\n",
       "      <td>0.0</td>\n",
       "      <td>0.0</td>\n",
       "      <td>0.0</td>\n",
       "      <td>0.0</td>\n",
       "      <td>0.364518</td>\n",
       "      <td>0.0</td>\n",
       "      <td>0.0</td>\n",
       "      <td>0.0</td>\n",
       "      <td>0.0</td>\n",
       "      <td>0.688528</td>\n",
       "    </tr>\n",
       "    <tr>\n",
       "      <th>2014-01-25 11:00:18</th>\n",
       "      <td>0.0</td>\n",
       "      <td>0.0</td>\n",
       "      <td>0.0</td>\n",
       "      <td>0.0</td>\n",
       "      <td>0.0</td>\n",
       "      <td>0.0</td>\n",
       "      <td>0.0</td>\n",
       "      <td>0.0</td>\n",
       "      <td>0.0</td>\n",
       "      <td>0.0</td>\n",
       "      <td>...</td>\n",
       "      <td>0.0</td>\n",
       "      <td>0.0</td>\n",
       "      <td>0.0</td>\n",
       "      <td>0.0</td>\n",
       "      <td>0.364576</td>\n",
       "      <td>0.0</td>\n",
       "      <td>0.0</td>\n",
       "      <td>0.0</td>\n",
       "      <td>0.0</td>\n",
       "      <td>0.688528</td>\n",
       "    </tr>\n",
       "    <tr>\n",
       "      <th>2014-01-25 11:00:19</th>\n",
       "      <td>0.0</td>\n",
       "      <td>0.0</td>\n",
       "      <td>0.0</td>\n",
       "      <td>0.0</td>\n",
       "      <td>0.0</td>\n",
       "      <td>0.0</td>\n",
       "      <td>0.0</td>\n",
       "      <td>0.0</td>\n",
       "      <td>0.0</td>\n",
       "      <td>0.0</td>\n",
       "      <td>...</td>\n",
       "      <td>0.0</td>\n",
       "      <td>0.0</td>\n",
       "      <td>0.0</td>\n",
       "      <td>0.0</td>\n",
       "      <td>0.364632</td>\n",
       "      <td>0.0</td>\n",
       "      <td>0.0</td>\n",
       "      <td>0.0</td>\n",
       "      <td>0.0</td>\n",
       "      <td>0.688528</td>\n",
       "    </tr>\n",
       "    <tr>\n",
       "      <th>2014-01-25 11:00:20</th>\n",
       "      <td>0.0</td>\n",
       "      <td>0.0</td>\n",
       "      <td>0.0</td>\n",
       "      <td>0.0</td>\n",
       "      <td>0.0</td>\n",
       "      <td>0.0</td>\n",
       "      <td>0.0</td>\n",
       "      <td>0.0</td>\n",
       "      <td>0.0</td>\n",
       "      <td>0.0</td>\n",
       "      <td>...</td>\n",
       "      <td>0.0</td>\n",
       "      <td>0.0</td>\n",
       "      <td>0.0</td>\n",
       "      <td>0.0</td>\n",
       "      <td>0.364688</td>\n",
       "      <td>0.0</td>\n",
       "      <td>0.0</td>\n",
       "      <td>0.0</td>\n",
       "      <td>0.0</td>\n",
       "      <td>0.688528</td>\n",
       "    </tr>\n",
       "    <tr>\n",
       "      <th>...</th>\n",
       "      <td>...</td>\n",
       "      <td>...</td>\n",
       "      <td>...</td>\n",
       "      <td>...</td>\n",
       "      <td>...</td>\n",
       "      <td>...</td>\n",
       "      <td>...</td>\n",
       "      <td>...</td>\n",
       "      <td>...</td>\n",
       "      <td>...</td>\n",
       "      <td>...</td>\n",
       "      <td>...</td>\n",
       "      <td>...</td>\n",
       "      <td>...</td>\n",
       "      <td>...</td>\n",
       "      <td>...</td>\n",
       "      <td>...</td>\n",
       "      <td>...</td>\n",
       "      <td>...</td>\n",
       "      <td>...</td>\n",
       "      <td>...</td>\n",
       "    </tr>\n",
       "    <tr>\n",
       "      <th>2014-01-25 13:59:56</th>\n",
       "      <td>0.0</td>\n",
       "      <td>0.0</td>\n",
       "      <td>0.0</td>\n",
       "      <td>0.0</td>\n",
       "      <td>0.0</td>\n",
       "      <td>0.0</td>\n",
       "      <td>0.0</td>\n",
       "      <td>0.0</td>\n",
       "      <td>0.0</td>\n",
       "      <td>0.0</td>\n",
       "      <td>...</td>\n",
       "      <td>0.0</td>\n",
       "      <td>0.0</td>\n",
       "      <td>0.0</td>\n",
       "      <td>0.0</td>\n",
       "      <td>0.371238</td>\n",
       "      <td>0.0</td>\n",
       "      <td>0.0</td>\n",
       "      <td>0.0</td>\n",
       "      <td>0.0</td>\n",
       "      <td>0.684886</td>\n",
       "    </tr>\n",
       "    <tr>\n",
       "      <th>2014-01-25 13:59:57</th>\n",
       "      <td>0.0</td>\n",
       "      <td>0.0</td>\n",
       "      <td>0.0</td>\n",
       "      <td>0.0</td>\n",
       "      <td>0.0</td>\n",
       "      <td>0.0</td>\n",
       "      <td>0.0</td>\n",
       "      <td>0.0</td>\n",
       "      <td>0.0</td>\n",
       "      <td>0.0</td>\n",
       "      <td>...</td>\n",
       "      <td>0.0</td>\n",
       "      <td>0.0</td>\n",
       "      <td>0.0</td>\n",
       "      <td>0.0</td>\n",
       "      <td>0.371294</td>\n",
       "      <td>0.0</td>\n",
       "      <td>0.0</td>\n",
       "      <td>0.0</td>\n",
       "      <td>0.0</td>\n",
       "      <td>0.684893</td>\n",
       "    </tr>\n",
       "    <tr>\n",
       "      <th>2014-01-25 13:59:58</th>\n",
       "      <td>0.0</td>\n",
       "      <td>0.0</td>\n",
       "      <td>0.0</td>\n",
       "      <td>0.0</td>\n",
       "      <td>0.0</td>\n",
       "      <td>0.0</td>\n",
       "      <td>0.0</td>\n",
       "      <td>0.0</td>\n",
       "      <td>0.0</td>\n",
       "      <td>0.0</td>\n",
       "      <td>...</td>\n",
       "      <td>0.0</td>\n",
       "      <td>0.0</td>\n",
       "      <td>0.0</td>\n",
       "      <td>0.0</td>\n",
       "      <td>0.371352</td>\n",
       "      <td>0.0</td>\n",
       "      <td>0.0</td>\n",
       "      <td>0.0</td>\n",
       "      <td>0.0</td>\n",
       "      <td>0.684896</td>\n",
       "    </tr>\n",
       "    <tr>\n",
       "      <th>2014-01-25 13:59:59</th>\n",
       "      <td>0.0</td>\n",
       "      <td>0.0</td>\n",
       "      <td>0.0</td>\n",
       "      <td>0.0</td>\n",
       "      <td>0.0</td>\n",
       "      <td>0.0</td>\n",
       "      <td>0.0</td>\n",
       "      <td>0.0</td>\n",
       "      <td>0.0</td>\n",
       "      <td>0.0</td>\n",
       "      <td>...</td>\n",
       "      <td>0.0</td>\n",
       "      <td>0.0</td>\n",
       "      <td>0.0</td>\n",
       "      <td>0.0</td>\n",
       "      <td>0.371408</td>\n",
       "      <td>0.0</td>\n",
       "      <td>0.0</td>\n",
       "      <td>0.0</td>\n",
       "      <td>0.0</td>\n",
       "      <td>0.684899</td>\n",
       "    </tr>\n",
       "    <tr>\n",
       "      <th>2014-01-25 14:00:00</th>\n",
       "      <td>0.0</td>\n",
       "      <td>0.0</td>\n",
       "      <td>0.0</td>\n",
       "      <td>0.0</td>\n",
       "      <td>0.0</td>\n",
       "      <td>0.0</td>\n",
       "      <td>0.0</td>\n",
       "      <td>0.0</td>\n",
       "      <td>0.0</td>\n",
       "      <td>0.0</td>\n",
       "      <td>...</td>\n",
       "      <td>0.0</td>\n",
       "      <td>0.0</td>\n",
       "      <td>0.0</td>\n",
       "      <td>0.0</td>\n",
       "      <td>0.371464</td>\n",
       "      <td>0.0</td>\n",
       "      <td>0.0</td>\n",
       "      <td>0.0</td>\n",
       "      <td>0.0</td>\n",
       "      <td>0.684902</td>\n",
       "    </tr>\n",
       "  </tbody>\n",
       "</table>\n",
       "<p>10785 rows × 22 columns</p>\n",
       "</div>"
      ],
      "text/plain": [
       "                     ABER-CKGL  ABER-CKP  ESTADO-DHSV  ESTADO-M1  ESTADO-M2  \\\n",
       "timestamp                                                                     \n",
       "2014-01-25 11:00:16        0.0       0.0          0.0        0.0        0.0   \n",
       "2014-01-25 11:00:17        0.0       0.0          0.0        0.0        0.0   \n",
       "2014-01-25 11:00:18        0.0       0.0          0.0        0.0        0.0   \n",
       "2014-01-25 11:00:19        0.0       0.0          0.0        0.0        0.0   \n",
       "2014-01-25 11:00:20        0.0       0.0          0.0        0.0        0.0   \n",
       "...                        ...       ...          ...        ...        ...   \n",
       "2014-01-25 13:59:56        0.0       0.0          0.0        0.0        0.0   \n",
       "2014-01-25 13:59:57        0.0       0.0          0.0        0.0        0.0   \n",
       "2014-01-25 13:59:58        0.0       0.0          0.0        0.0        0.0   \n",
       "2014-01-25 13:59:59        0.0       0.0          0.0        0.0        0.0   \n",
       "2014-01-25 14:00:00        0.0       0.0          0.0        0.0        0.0   \n",
       "\n",
       "                     ESTADO-PXO  ESTADO-SDV-GL  ESTADO-SDV-P  ESTADO-W1  \\\n",
       "timestamp                                                                 \n",
       "2014-01-25 11:00:16         0.0            0.0           0.0        0.0   \n",
       "2014-01-25 11:00:17         0.0            0.0           0.0        0.0   \n",
       "2014-01-25 11:00:18         0.0            0.0           0.0        0.0   \n",
       "2014-01-25 11:00:19         0.0            0.0           0.0        0.0   \n",
       "2014-01-25 11:00:20         0.0            0.0           0.0        0.0   \n",
       "...                         ...            ...           ...        ...   \n",
       "2014-01-25 13:59:56         0.0            0.0           0.0        0.0   \n",
       "2014-01-25 13:59:57         0.0            0.0           0.0        0.0   \n",
       "2014-01-25 13:59:58         0.0            0.0           0.0        0.0   \n",
       "2014-01-25 13:59:59         0.0            0.0           0.0        0.0   \n",
       "2014-01-25 14:00:00         0.0            0.0           0.0        0.0   \n",
       "\n",
       "                     ESTADO-W2  ...  P-JUS-CKGL  P-JUS-CKP  P-MON-CKP  P-PDG  \\\n",
       "timestamp                       ...                                            \n",
       "2014-01-25 11:00:16        0.0  ...         0.0        0.0        0.0    0.0   \n",
       "2014-01-25 11:00:17        0.0  ...         0.0        0.0        0.0    0.0   \n",
       "2014-01-25 11:00:18        0.0  ...         0.0        0.0        0.0    0.0   \n",
       "2014-01-25 11:00:19        0.0  ...         0.0        0.0        0.0    0.0   \n",
       "2014-01-25 11:00:20        0.0  ...         0.0        0.0        0.0    0.0   \n",
       "...                        ...  ...         ...        ...        ...    ...   \n",
       "2014-01-25 13:59:56        0.0  ...         0.0        0.0        0.0    0.0   \n",
       "2014-01-25 13:59:57        0.0  ...         0.0        0.0        0.0    0.0   \n",
       "2014-01-25 13:59:58        0.0  ...         0.0        0.0        0.0    0.0   \n",
       "2014-01-25 13:59:59        0.0  ...         0.0        0.0        0.0    0.0   \n",
       "2014-01-25 14:00:00        0.0  ...         0.0        0.0        0.0    0.0   \n",
       "\n",
       "                        P-TPT  QGL  T-JUS-CKP  T-MON-CKP  T-PDG     T-TPT  \n",
       "timestamp                                                                  \n",
       "2014-01-25 11:00:16  0.364462  0.0        0.0        0.0    0.0  0.688528  \n",
       "2014-01-25 11:00:17  0.364518  0.0        0.0        0.0    0.0  0.688528  \n",
       "2014-01-25 11:00:18  0.364576  0.0        0.0        0.0    0.0  0.688528  \n",
       "2014-01-25 11:00:19  0.364632  0.0        0.0        0.0    0.0  0.688528  \n",
       "2014-01-25 11:00:20  0.364688  0.0        0.0        0.0    0.0  0.688528  \n",
       "...                       ...  ...        ...        ...    ...       ...  \n",
       "2014-01-25 13:59:56  0.371238  0.0        0.0        0.0    0.0  0.684886  \n",
       "2014-01-25 13:59:57  0.371294  0.0        0.0        0.0    0.0  0.684893  \n",
       "2014-01-25 13:59:58  0.371352  0.0        0.0        0.0    0.0  0.684896  \n",
       "2014-01-25 13:59:59  0.371408  0.0        0.0        0.0    0.0  0.684899  \n",
       "2014-01-25 14:00:00  0.371464  0.0        0.0        0.0    0.0  0.684902  \n",
       "\n",
       "[10785 rows x 22 columns]"
      ]
     },
     "execution_count": 26,
     "metadata": {},
     "output_type": "execute_result"
    }
   ],
   "source": [
    "cleaned_dataset[1000][\"signal\"]  # Cleaned, normalized and imputed."
   ]
  },
  {
   "cell_type": "markdown",
   "metadata": {},
   "source": [
    "--------"
   ]
  },
  {
   "cell_type": "markdown",
   "metadata": {},
   "source": [
    "## 3. ⚙️ Preprocessing"
   ]
  },
  {
   "cell_type": "markdown",
   "metadata": {},
   "source": [
    "Pre-processing is an essential step to prepare the dataset before training or evaluating models.\n",
    "The 3W Toolkit provides utility classes to handle missing values, normalize data, segment time series into windows, and rename columns.\n",
    "\n",
    "In this section, we demonstrate the usage of:\n",
    "\n",
    "- `ImputeMissing` → Fill missing values with mean, median, or constant.\n",
    "- `Normalize` → Apply L1, L2, or max normalization.\n",
    "- `Windowing` → Segment a time series into overlapping windows with a chosen window function.\n",
    "- `RenameColumns` → Rename DataFrame columns using a mapping dictionary.\n"
   ]
  },
  {
   "cell_type": "markdown",
   "metadata": {},
   "source": [
    "First, we select a single event from the dataset and convert its signal to a pandas DataFrame.  \n",
    "Any columns with `Period` dtype are converted to `datetime` to ensure compatibility with subsequent processing steps.  \n",
    "Finally, we display the first rows of the signal to inspect the data.\n",
    "\n"
   ]
  },
  {
   "cell_type": "code",
   "execution_count": 25,
   "metadata": {},
   "outputs": [
    {
     "data": {
      "text/html": [
       "<div>\n",
       "<style scoped>\n",
       "    .dataframe tbody tr th:only-of-type {\n",
       "        vertical-align: middle;\n",
       "    }\n",
       "\n",
       "    .dataframe tbody tr th {\n",
       "        vertical-align: top;\n",
       "    }\n",
       "\n",
       "    .dataframe thead th {\n",
       "        text-align: right;\n",
       "    }\n",
       "</style>\n",
       "<table border=\"1\" class=\"dataframe\">\n",
       "  <thead>\n",
       "    <tr style=\"text-align: right;\">\n",
       "      <th></th>\n",
       "      <th>ABER-CKGL</th>\n",
       "      <th>ABER-CKP</th>\n",
       "      <th>ESTADO-DHSV</th>\n",
       "      <th>ESTADO-M1</th>\n",
       "      <th>ESTADO-M2</th>\n",
       "      <th>ESTADO-PXO</th>\n",
       "      <th>ESTADO-SDV-GL</th>\n",
       "      <th>ESTADO-SDV-P</th>\n",
       "      <th>ESTADO-W1</th>\n",
       "      <th>ESTADO-W2</th>\n",
       "      <th>...</th>\n",
       "      <th>P-JUS-CKGL</th>\n",
       "      <th>P-JUS-CKP</th>\n",
       "      <th>P-MON-CKP</th>\n",
       "      <th>P-PDG</th>\n",
       "      <th>P-TPT</th>\n",
       "      <th>QGL</th>\n",
       "      <th>T-JUS-CKP</th>\n",
       "      <th>T-MON-CKP</th>\n",
       "      <th>T-PDG</th>\n",
       "      <th>T-TPT</th>\n",
       "    </tr>\n",
       "    <tr>\n",
       "      <th>timestamp</th>\n",
       "      <th></th>\n",
       "      <th></th>\n",
       "      <th></th>\n",
       "      <th></th>\n",
       "      <th></th>\n",
       "      <th></th>\n",
       "      <th></th>\n",
       "      <th></th>\n",
       "      <th></th>\n",
       "      <th></th>\n",
       "      <th></th>\n",
       "      <th></th>\n",
       "      <th></th>\n",
       "      <th></th>\n",
       "      <th></th>\n",
       "      <th></th>\n",
       "      <th></th>\n",
       "      <th></th>\n",
       "      <th></th>\n",
       "      <th></th>\n",
       "      <th></th>\n",
       "    </tr>\n",
       "  </thead>\n",
       "  <tbody>\n",
       "    <tr>\n",
       "      <th>2018-09-05 20:44:36</th>\n",
       "      <td>0.0</td>\n",
       "      <td>0.0</td>\n",
       "      <td>0.0</td>\n",
       "      <td>0.0</td>\n",
       "      <td>0.0</td>\n",
       "      <td>0.0</td>\n",
       "      <td>0.0</td>\n",
       "      <td>0.0</td>\n",
       "      <td>0.0</td>\n",
       "      <td>0.0</td>\n",
       "      <td>...</td>\n",
       "      <td>0.0</td>\n",
       "      <td>0.0</td>\n",
       "      <td>-1.062317</td>\n",
       "      <td>-2.703362</td>\n",
       "      <td>-2.374172</td>\n",
       "      <td>0.0</td>\n",
       "      <td>-0.131847</td>\n",
       "      <td>0.0</td>\n",
       "      <td>0.0</td>\n",
       "      <td>0.589097</td>\n",
       "    </tr>\n",
       "    <tr>\n",
       "      <th>2018-09-05 20:44:37</th>\n",
       "      <td>0.0</td>\n",
       "      <td>0.0</td>\n",
       "      <td>0.0</td>\n",
       "      <td>0.0</td>\n",
       "      <td>0.0</td>\n",
       "      <td>0.0</td>\n",
       "      <td>0.0</td>\n",
       "      <td>0.0</td>\n",
       "      <td>0.0</td>\n",
       "      <td>0.0</td>\n",
       "      <td>...</td>\n",
       "      <td>0.0</td>\n",
       "      <td>0.0</td>\n",
       "      <td>-1.062317</td>\n",
       "      <td>-2.703362</td>\n",
       "      <td>-2.374172</td>\n",
       "      <td>0.0</td>\n",
       "      <td>-0.131847</td>\n",
       "      <td>0.0</td>\n",
       "      <td>0.0</td>\n",
       "      <td>0.589097</td>\n",
       "    </tr>\n",
       "    <tr>\n",
       "      <th>2018-09-05 20:44:38</th>\n",
       "      <td>0.0</td>\n",
       "      <td>0.0</td>\n",
       "      <td>0.0</td>\n",
       "      <td>0.0</td>\n",
       "      <td>0.0</td>\n",
       "      <td>0.0</td>\n",
       "      <td>0.0</td>\n",
       "      <td>0.0</td>\n",
       "      <td>0.0</td>\n",
       "      <td>0.0</td>\n",
       "      <td>...</td>\n",
       "      <td>0.0</td>\n",
       "      <td>0.0</td>\n",
       "      <td>-1.062317</td>\n",
       "      <td>-2.703362</td>\n",
       "      <td>-2.374172</td>\n",
       "      <td>0.0</td>\n",
       "      <td>-0.131847</td>\n",
       "      <td>0.0</td>\n",
       "      <td>0.0</td>\n",
       "      <td>0.589097</td>\n",
       "    </tr>\n",
       "    <tr>\n",
       "      <th>2018-09-05 20:44:39</th>\n",
       "      <td>0.0</td>\n",
       "      <td>0.0</td>\n",
       "      <td>0.0</td>\n",
       "      <td>0.0</td>\n",
       "      <td>0.0</td>\n",
       "      <td>0.0</td>\n",
       "      <td>0.0</td>\n",
       "      <td>0.0</td>\n",
       "      <td>0.0</td>\n",
       "      <td>0.0</td>\n",
       "      <td>...</td>\n",
       "      <td>0.0</td>\n",
       "      <td>0.0</td>\n",
       "      <td>-1.062317</td>\n",
       "      <td>-2.703362</td>\n",
       "      <td>-2.374172</td>\n",
       "      <td>0.0</td>\n",
       "      <td>-0.131847</td>\n",
       "      <td>0.0</td>\n",
       "      <td>0.0</td>\n",
       "      <td>0.589097</td>\n",
       "    </tr>\n",
       "    <tr>\n",
       "      <th>2018-09-05 20:44:40</th>\n",
       "      <td>0.0</td>\n",
       "      <td>0.0</td>\n",
       "      <td>0.0</td>\n",
       "      <td>0.0</td>\n",
       "      <td>0.0</td>\n",
       "      <td>0.0</td>\n",
       "      <td>0.0</td>\n",
       "      <td>0.0</td>\n",
       "      <td>0.0</td>\n",
       "      <td>0.0</td>\n",
       "      <td>...</td>\n",
       "      <td>0.0</td>\n",
       "      <td>0.0</td>\n",
       "      <td>-1.062317</td>\n",
       "      <td>-2.703362</td>\n",
       "      <td>-2.374172</td>\n",
       "      <td>0.0</td>\n",
       "      <td>-0.131847</td>\n",
       "      <td>0.0</td>\n",
       "      <td>0.0</td>\n",
       "      <td>0.589097</td>\n",
       "    </tr>\n",
       "  </tbody>\n",
       "</table>\n",
       "<p>5 rows × 22 columns</p>\n",
       "</div>"
      ],
      "text/plain": [
       "                     ABER-CKGL  ABER-CKP  ESTADO-DHSV  ESTADO-M1  ESTADO-M2  \\\n",
       "timestamp                                                                     \n",
       "2018-09-05 20:44:36        0.0       0.0          0.0        0.0        0.0   \n",
       "2018-09-05 20:44:37        0.0       0.0          0.0        0.0        0.0   \n",
       "2018-09-05 20:44:38        0.0       0.0          0.0        0.0        0.0   \n",
       "2018-09-05 20:44:39        0.0       0.0          0.0        0.0        0.0   \n",
       "2018-09-05 20:44:40        0.0       0.0          0.0        0.0        0.0   \n",
       "\n",
       "                     ESTADO-PXO  ESTADO-SDV-GL  ESTADO-SDV-P  ESTADO-W1  \\\n",
       "timestamp                                                                 \n",
       "2018-09-05 20:44:36         0.0            0.0           0.0        0.0   \n",
       "2018-09-05 20:44:37         0.0            0.0           0.0        0.0   \n",
       "2018-09-05 20:44:38         0.0            0.0           0.0        0.0   \n",
       "2018-09-05 20:44:39         0.0            0.0           0.0        0.0   \n",
       "2018-09-05 20:44:40         0.0            0.0           0.0        0.0   \n",
       "\n",
       "                     ESTADO-W2  ...  P-JUS-CKGL  P-JUS-CKP  P-MON-CKP  \\\n",
       "timestamp                       ...                                     \n",
       "2018-09-05 20:44:36        0.0  ...         0.0        0.0  -1.062317   \n",
       "2018-09-05 20:44:37        0.0  ...         0.0        0.0  -1.062317   \n",
       "2018-09-05 20:44:38        0.0  ...         0.0        0.0  -1.062317   \n",
       "2018-09-05 20:44:39        0.0  ...         0.0        0.0  -1.062317   \n",
       "2018-09-05 20:44:40        0.0  ...         0.0        0.0  -1.062317   \n",
       "\n",
       "                        P-PDG     P-TPT  QGL  T-JUS-CKP  T-MON-CKP  T-PDG  \\\n",
       "timestamp                                                                   \n",
       "2018-09-05 20:44:36 -2.703362 -2.374172  0.0  -0.131847        0.0    0.0   \n",
       "2018-09-05 20:44:37 -2.703362 -2.374172  0.0  -0.131847        0.0    0.0   \n",
       "2018-09-05 20:44:38 -2.703362 -2.374172  0.0  -0.131847        0.0    0.0   \n",
       "2018-09-05 20:44:39 -2.703362 -2.374172  0.0  -0.131847        0.0    0.0   \n",
       "2018-09-05 20:44:40 -2.703362 -2.374172  0.0  -0.131847        0.0    0.0   \n",
       "\n",
       "                        T-TPT  \n",
       "timestamp                      \n",
       "2018-09-05 20:44:36  0.589097  \n",
       "2018-09-05 20:44:37  0.589097  \n",
       "2018-09-05 20:44:38  0.589097  \n",
       "2018-09-05 20:44:39  0.589097  \n",
       "2018-09-05 20:44:40  0.589097  \n",
       "\n",
       "[5 rows x 22 columns]"
      ]
     },
     "execution_count": 25,
     "metadata": {},
     "output_type": "execute_result"
    }
   ],
   "source": [
    "# Select a single event from the dataset\n",
    "event_id = 0\n",
    "event = raw_dataset[event_id]\n",
    "\n",
    "# Convert the 'signal' to a pandas DataFrame\n",
    "signal = pd.DataFrame(event[\"signal\"])\n",
    "\n",
    "# Convert Period columns to datetime for compatibility\n",
    "for col in signal.columns:\n",
    "    if isinstance(signal[col].dtype, pd.PeriodDtype):\n",
    "        signal[col] = signal[col].dt.to_timestamp()\n",
    "\n",
    "# Display the first rows to inspect the signal\n",
    "signal.head()"
   ]
  },
  {
   "cell_type": "markdown",
   "metadata": {},
   "source": [
    "### 3.1 Handling missing values (Imputation)"
   ]
  },
  {
   "cell_type": "markdown",
   "metadata": {},
   "source": [
    "The class `ImputeMissing` fills `NaN` values in numeric columns.\n",
    "It supports three strategies:\n",
    "\n",
    "- mean → Replace NaN with the column mean.\n",
    "- median → Replace NaN with the column median.\n",
    "- constant → Replace NaN with a fixed value (`fill_value`).\n",
    "\n",
    "The column \"T-TPT\" will be used to demonstrate this functionality.\n",
    "\n"
   ]
  },
  {
   "cell_type": "markdown",
   "metadata": {},
   "source": [
    "First, we'll select 5 index values:\n"
   ]
  },
  {
   "cell_type": "code",
   "execution_count": 28,
   "metadata": {},
   "outputs": [
    {
     "name": "stdout",
     "output_type": "stream",
     "text": [
      "Original values at selected indices:\n",
      "timestamp\n",
      "2017-02-01 01:02:07    0.726246\n",
      "2017-02-01 01:02:08    0.726246\n",
      "2017-02-01 01:02:09    0.726246\n",
      "2017-02-01 01:02:10    0.726246\n",
      "2017-02-01 01:02:11    0.726246\n",
      "Name: T-TPT, dtype: float64\n"
     ]
    }
   ],
   "source": [
    "col = \"T-TPT\"\n",
    "indices_to_nan = signal.index[:5]\n",
    "print(\"Original values at selected indices:\")\n",
    "print(signal.loc[indices_to_nan, col])"
   ]
  },
  {
   "cell_type": "markdown",
   "metadata": {},
   "source": [
    "Overriding their values with `NaN`:"
   ]
  },
  {
   "cell_type": "code",
   "execution_count": 29,
   "metadata": {},
   "outputs": [
    {
     "name": "stdout",
     "output_type": "stream",
     "text": [
      "\n",
      "Values after introducing NaN:\n",
      "0   NaN\n",
      "1   NaN\n",
      "2   NaN\n",
      "3   NaN\n",
      "4   NaN\n",
      "5   NaN\n",
      "6   NaN\n",
      "7   NaN\n",
      "8   NaN\n",
      "9   NaN\n",
      "dtype: float64\n"
     ]
    }
   ],
   "source": [
    "s = pd.Series([np.nan] * 10)\n",
    "print(\"\\nValues after introducing NaN:\")\n",
    "print(s)"
   ]
  },
  {
   "cell_type": "markdown",
   "metadata": {},
   "source": [
    "Finally, applying mean imputation and verifying the results:\n"
   ]
  },
  {
   "cell_type": "code",
   "execution_count": 30,
   "metadata": {},
   "outputs": [
    {
     "name": "stdout",
     "output_type": "stream",
     "text": [
      "\n",
      "Values after mean imputation:\n",
      "0    10.0\n",
      "1    10.0\n",
      "2    10.0\n",
      "3    10.0\n",
      "4    10.0\n",
      "5    10.0\n",
      "6    10.0\n",
      "7    10.0\n",
      "8    10.0\n",
      "9    10.0\n",
      "Name: __temp__, dtype: float64\n"
     ]
    }
   ],
   "source": [
    "impute_missing = ImputeMissing(ImputeMissingConfig(strategy=\"constant\", fill_value=10))\n",
    "\n",
    "print(\"\\nValues after mean imputation:\")\n",
    "print(impute_missing(s))"
   ]
  },
  {
   "cell_type": "markdown",
   "metadata": {},
   "source": [
    "### 3.2 Normalization"
   ]
  },
  {
   "cell_type": "markdown",
   "metadata": {},
   "source": [
    "The class normalize rescales data using one of the following norms:\n",
    "\n",
    "- `l1` → Normalize by sum of absolute values.  \n",
    "- `l2` → Normalize by Euclidean norm.  \n",
    "- `max` → Normalize by maximum absolute value.  \n",
    "\n",
    "The column \"P-PDG\" will be used to demonstrate this functionality.  \n",
    "\n"
   ]
  },
  {
   "cell_type": "markdown",
   "metadata": {},
   "source": [
    "Checking column before normalization:"
   ]
  },
  {
   "cell_type": "code",
   "execution_count": 31,
   "metadata": {},
   "outputs": [
    {
     "data": {
      "text/plain": [
       "timestamp\n",
       "2017-02-01 01:02:07    0.726246\n",
       "2017-02-01 01:02:08    0.726246\n",
       "2017-02-01 01:02:09    0.726246\n",
       "2017-02-01 01:02:10    0.726246\n",
       "2017-02-01 01:02:11    0.726246\n",
       "2017-02-01 01:02:12    0.726246\n",
       "2017-02-01 01:02:13    0.726246\n",
       "2017-02-01 01:02:14    0.726246\n",
       "2017-02-01 01:02:15    0.726246\n",
       "2017-02-01 01:02:16    0.726246\n",
       "Name: T-TPT, dtype: float64"
      ]
     },
     "execution_count": 31,
     "metadata": {},
     "output_type": "execute_result"
    }
   ],
   "source": [
    "col = \"T-TPT\"\n",
    "signal[col].head(10)"
   ]
  },
  {
   "cell_type": "markdown",
   "metadata": {},
   "source": [
    "Applying the normalization and checking results:"
   ]
  },
  {
   "cell_type": "code",
   "execution_count": 32,
   "metadata": {},
   "outputs": [
    {
     "data": {
      "text/plain": [
       "timestamp\n",
       "2017-02-01 01:02:07    0.006835\n",
       "2017-02-01 01:02:08    0.006835\n",
       "2017-02-01 01:02:09    0.006835\n",
       "2017-02-01 01:02:10    0.006835\n",
       "2017-02-01 01:02:11    0.006835\n",
       "2017-02-01 01:02:12    0.006835\n",
       "2017-02-01 01:02:13    0.006835\n",
       "2017-02-01 01:02:14    0.006835\n",
       "2017-02-01 01:02:15    0.006835\n",
       "2017-02-01 01:02:16    0.006835\n",
       "Name: T-TPT, dtype: float64"
      ]
     },
     "execution_count": 32,
     "metadata": {},
     "output_type": "execute_result"
    }
   ],
   "source": [
    "# Apply L2 normalization row-wise\n",
    "normalize = Normalize(NormalizeConfig(norm=\"l2\", axis=0))\n",
    "signal[col] = normalize(signal[col])\n",
    "signal[col].head(10)"
   ]
  },
  {
   "cell_type": "markdown",
   "metadata": {},
   "source": [
    "### 3.3 Windowing"
   ]
  },
  {
   "cell_type": "markdown",
   "metadata": {},
   "source": [
    "The class `Windowing` divides a 1D time series into overlapping windows.\n",
    "Each window can be weighted with a function (e.g., Hann, Hamming) and optionally padded.\n",
    "\n",
    "The column \"P-TPT\" will be used to demonstrate this functionality."
   ]
  },
  {
   "cell_type": "markdown",
   "metadata": {},
   "source": [
    "Checking column before windowing:"
   ]
  },
  {
   "cell_type": "code",
   "execution_count": 33,
   "metadata": {},
   "outputs": [
    {
     "data": {
      "text/plain": [
       "timestamp\n",
       "2017-02-01 01:02:07   -0.663171\n",
       "2017-02-01 01:02:08   -0.663171\n",
       "2017-02-01 01:02:09   -0.663171\n",
       "2017-02-01 01:02:10   -0.663171\n",
       "2017-02-01 01:02:11   -0.663171\n",
       "2017-02-01 01:02:12   -0.663171\n",
       "2017-02-01 01:02:13   -0.663171\n",
       "2017-02-01 01:02:14   -0.663171\n",
       "2017-02-01 01:02:15   -0.663171\n",
       "2017-02-01 01:02:16   -0.663171\n",
       "Name: P-TPT, dtype: float64"
      ]
     },
     "execution_count": 33,
     "metadata": {},
     "output_type": "execute_result"
    }
   ],
   "source": [
    "col = \"P-TPT\"\n",
    "signal[col].head(10)"
   ]
  },
  {
   "cell_type": "markdown",
   "metadata": {},
   "source": [
    "Applying windowing (Hann window, window size 4, 50% overlap, and pad the last window) and checking results:\n"
   ]
  },
  {
   "cell_type": "code",
   "execution_count": 34,
   "metadata": {},
   "outputs": [
    {
     "name": "stdout",
     "output_type": "stream",
     "text": [
      "\n",
      "After windowing (first 5 windows):\n"
     ]
    },
    {
     "data": {
      "text/html": [
       "<div>\n",
       "<style scoped>\n",
       "    .dataframe tbody tr th:only-of-type {\n",
       "        vertical-align: middle;\n",
       "    }\n",
       "\n",
       "    .dataframe tbody tr th {\n",
       "        vertical-align: top;\n",
       "    }\n",
       "\n",
       "    .dataframe thead th {\n",
       "        text-align: right;\n",
       "    }\n",
       "</style>\n",
       "<table border=\"1\" class=\"dataframe\">\n",
       "  <thead>\n",
       "    <tr style=\"text-align: right;\">\n",
       "      <th></th>\n",
       "      <th>var1_t0</th>\n",
       "      <th>var1_t1</th>\n",
       "      <th>var1_t2</th>\n",
       "      <th>var1_t3</th>\n",
       "      <th>win</th>\n",
       "    </tr>\n",
       "  </thead>\n",
       "  <tbody>\n",
       "    <tr>\n",
       "      <th>0</th>\n",
       "      <td>-0.0</td>\n",
       "      <td>-0.331586</td>\n",
       "      <td>-0.663171</td>\n",
       "      <td>-0.331586</td>\n",
       "      <td>1</td>\n",
       "    </tr>\n",
       "    <tr>\n",
       "      <th>1</th>\n",
       "      <td>-0.0</td>\n",
       "      <td>-0.331586</td>\n",
       "      <td>-0.663171</td>\n",
       "      <td>-0.331586</td>\n",
       "      <td>2</td>\n",
       "    </tr>\n",
       "    <tr>\n",
       "      <th>2</th>\n",
       "      <td>-0.0</td>\n",
       "      <td>-0.331586</td>\n",
       "      <td>-0.663171</td>\n",
       "      <td>-0.331586</td>\n",
       "      <td>3</td>\n",
       "    </tr>\n",
       "    <tr>\n",
       "      <th>3</th>\n",
       "      <td>-0.0</td>\n",
       "      <td>-0.331586</td>\n",
       "      <td>-0.663171</td>\n",
       "      <td>-0.331586</td>\n",
       "      <td>4</td>\n",
       "    </tr>\n",
       "    <tr>\n",
       "      <th>4</th>\n",
       "      <td>-0.0</td>\n",
       "      <td>-0.331586</td>\n",
       "      <td>-0.663171</td>\n",
       "      <td>-0.331586</td>\n",
       "      <td>5</td>\n",
       "    </tr>\n",
       "  </tbody>\n",
       "</table>\n",
       "</div>"
      ],
      "text/plain": [
       "   var1_t0   var1_t1   var1_t2   var1_t3  win\n",
       "0     -0.0 -0.331586 -0.663171 -0.331586    1\n",
       "1     -0.0 -0.331586 -0.663171 -0.331586    2\n",
       "2     -0.0 -0.331586 -0.663171 -0.331586    3\n",
       "3     -0.0 -0.331586 -0.663171 -0.331586    4\n",
       "4     -0.0 -0.331586 -0.663171 -0.331586    5"
      ]
     },
     "metadata": {},
     "output_type": "display_data"
    }
   ],
   "source": [
    "wind = Windowing(\n",
    "    WindowingConfig(window=\"hann\", window_size=4, overlap=0.5, pad_last_window=True)\n",
    ")\n",
    "\n",
    "print(\"\\nAfter windowing (first 5 windows):\")\n",
    "display(wind(signal[col]).head())"
   ]
  },
  {
   "cell_type": "markdown",
   "metadata": {},
   "source": [
    "### 3.4 Renaming columns"
   ]
  },
  {
   "cell_type": "markdown",
   "metadata": {},
   "source": [
    "The class `RenameColumns` allows renaming DataFrame columns using a mapping dictionary.\n",
    "\n",
    "In this example, we rename the columns \"ABER-CKGL\" and \"ABER-CKP\" to \"sensor_A\" and \"sensor_B\", respectively.\n",
    "\n"
   ]
  },
  {
   "cell_type": "markdown",
   "metadata": {},
   "source": [
    "Checking row names before renaming:"
   ]
  },
  {
   "cell_type": "code",
   "execution_count": 35,
   "metadata": {},
   "outputs": [
    {
     "data": {
      "text/html": [
       "<div>\n",
       "<style scoped>\n",
       "    .dataframe tbody tr th:only-of-type {\n",
       "        vertical-align: middle;\n",
       "    }\n",
       "\n",
       "    .dataframe tbody tr th {\n",
       "        vertical-align: top;\n",
       "    }\n",
       "\n",
       "    .dataframe thead th {\n",
       "        text-align: right;\n",
       "    }\n",
       "</style>\n",
       "<table border=\"1\" class=\"dataframe\">\n",
       "  <thead>\n",
       "    <tr style=\"text-align: right;\">\n",
       "      <th></th>\n",
       "      <th>ABER-CKGL</th>\n",
       "      <th>ABER-CKP</th>\n",
       "      <th>ESTADO-DHSV</th>\n",
       "      <th>ESTADO-M1</th>\n",
       "      <th>ESTADO-M2</th>\n",
       "      <th>ESTADO-PXO</th>\n",
       "      <th>ESTADO-SDV-GL</th>\n",
       "      <th>ESTADO-SDV-P</th>\n",
       "      <th>ESTADO-W1</th>\n",
       "      <th>ESTADO-W2</th>\n",
       "      <th>...</th>\n",
       "      <th>P-JUS-CKGL</th>\n",
       "      <th>P-JUS-CKP</th>\n",
       "      <th>P-MON-CKP</th>\n",
       "      <th>P-PDG</th>\n",
       "      <th>P-TPT</th>\n",
       "      <th>QGL</th>\n",
       "      <th>T-JUS-CKP</th>\n",
       "      <th>T-MON-CKP</th>\n",
       "      <th>T-PDG</th>\n",
       "      <th>T-TPT</th>\n",
       "    </tr>\n",
       "    <tr>\n",
       "      <th>timestamp</th>\n",
       "      <th></th>\n",
       "      <th></th>\n",
       "      <th></th>\n",
       "      <th></th>\n",
       "      <th></th>\n",
       "      <th></th>\n",
       "      <th></th>\n",
       "      <th></th>\n",
       "      <th></th>\n",
       "      <th></th>\n",
       "      <th></th>\n",
       "      <th></th>\n",
       "      <th></th>\n",
       "      <th></th>\n",
       "      <th></th>\n",
       "      <th></th>\n",
       "      <th></th>\n",
       "      <th></th>\n",
       "      <th></th>\n",
       "      <th></th>\n",
       "      <th></th>\n",
       "    </tr>\n",
       "  </thead>\n",
       "  <tbody>\n",
       "    <tr>\n",
       "      <th>2017-02-01 01:02:07</th>\n",
       "      <td>0.0</td>\n",
       "      <td>0.0</td>\n",
       "      <td>0.867921</td>\n",
       "      <td>0.414652</td>\n",
       "      <td>-0.681653</td>\n",
       "      <td>-0.094347</td>\n",
       "      <td>-1.094009</td>\n",
       "      <td>0.312558</td>\n",
       "      <td>0.650525</td>\n",
       "      <td>-0.563169</td>\n",
       "      <td>...</td>\n",
       "      <td>-1.202593</td>\n",
       "      <td>0.0</td>\n",
       "      <td>-0.549673</td>\n",
       "      <td>0.0</td>\n",
       "      <td>-0.663171</td>\n",
       "      <td>-0.846093</td>\n",
       "      <td>0.808054</td>\n",
       "      <td>0.0</td>\n",
       "      <td>0.0</td>\n",
       "      <td>0.006835</td>\n",
       "    </tr>\n",
       "    <tr>\n",
       "      <th>2017-02-01 01:02:08</th>\n",
       "      <td>0.0</td>\n",
       "      <td>0.0</td>\n",
       "      <td>0.867921</td>\n",
       "      <td>0.414652</td>\n",
       "      <td>-0.681653</td>\n",
       "      <td>-0.094347</td>\n",
       "      <td>-1.094009</td>\n",
       "      <td>0.312558</td>\n",
       "      <td>0.650525</td>\n",
       "      <td>-0.563169</td>\n",
       "      <td>...</td>\n",
       "      <td>-1.202593</td>\n",
       "      <td>0.0</td>\n",
       "      <td>-0.547936</td>\n",
       "      <td>0.0</td>\n",
       "      <td>-0.663171</td>\n",
       "      <td>-0.846093</td>\n",
       "      <td>0.807721</td>\n",
       "      <td>0.0</td>\n",
       "      <td>0.0</td>\n",
       "      <td>0.006835</td>\n",
       "    </tr>\n",
       "    <tr>\n",
       "      <th>2017-02-01 01:02:09</th>\n",
       "      <td>0.0</td>\n",
       "      <td>0.0</td>\n",
       "      <td>0.867921</td>\n",
       "      <td>0.414652</td>\n",
       "      <td>-0.681653</td>\n",
       "      <td>-0.094347</td>\n",
       "      <td>-1.094009</td>\n",
       "      <td>0.312558</td>\n",
       "      <td>0.650525</td>\n",
       "      <td>-0.563169</td>\n",
       "      <td>...</td>\n",
       "      <td>-1.202593</td>\n",
       "      <td>0.0</td>\n",
       "      <td>-0.546201</td>\n",
       "      <td>0.0</td>\n",
       "      <td>-0.663171</td>\n",
       "      <td>-0.846093</td>\n",
       "      <td>0.807388</td>\n",
       "      <td>0.0</td>\n",
       "      <td>0.0</td>\n",
       "      <td>0.006835</td>\n",
       "    </tr>\n",
       "    <tr>\n",
       "      <th>2017-02-01 01:02:10</th>\n",
       "      <td>0.0</td>\n",
       "      <td>0.0</td>\n",
       "      <td>0.867921</td>\n",
       "      <td>0.414652</td>\n",
       "      <td>-0.681653</td>\n",
       "      <td>-0.094347</td>\n",
       "      <td>-1.094009</td>\n",
       "      <td>0.312558</td>\n",
       "      <td>0.650525</td>\n",
       "      <td>-0.563169</td>\n",
       "      <td>...</td>\n",
       "      <td>-1.202593</td>\n",
       "      <td>0.0</td>\n",
       "      <td>-0.544464</td>\n",
       "      <td>0.0</td>\n",
       "      <td>-0.663171</td>\n",
       "      <td>-0.846093</td>\n",
       "      <td>0.807054</td>\n",
       "      <td>0.0</td>\n",
       "      <td>0.0</td>\n",
       "      <td>0.006835</td>\n",
       "    </tr>\n",
       "    <tr>\n",
       "      <th>2017-02-01 01:02:11</th>\n",
       "      <td>0.0</td>\n",
       "      <td>0.0</td>\n",
       "      <td>0.867921</td>\n",
       "      <td>0.414652</td>\n",
       "      <td>-0.681653</td>\n",
       "      <td>-0.094347</td>\n",
       "      <td>-1.094009</td>\n",
       "      <td>0.312558</td>\n",
       "      <td>0.650525</td>\n",
       "      <td>-0.563169</td>\n",
       "      <td>...</td>\n",
       "      <td>-1.202593</td>\n",
       "      <td>0.0</td>\n",
       "      <td>-0.542728</td>\n",
       "      <td>0.0</td>\n",
       "      <td>-0.663171</td>\n",
       "      <td>-0.846093</td>\n",
       "      <td>0.806720</td>\n",
       "      <td>0.0</td>\n",
       "      <td>0.0</td>\n",
       "      <td>0.006835</td>\n",
       "    </tr>\n",
       "  </tbody>\n",
       "</table>\n",
       "<p>5 rows × 22 columns</p>\n",
       "</div>"
      ],
      "text/plain": [
       "                     ABER-CKGL  ABER-CKP  ESTADO-DHSV  ESTADO-M1  ESTADO-M2  \\\n",
       "timestamp                                                                     \n",
       "2017-02-01 01:02:07        0.0       0.0     0.867921   0.414652  -0.681653   \n",
       "2017-02-01 01:02:08        0.0       0.0     0.867921   0.414652  -0.681653   \n",
       "2017-02-01 01:02:09        0.0       0.0     0.867921   0.414652  -0.681653   \n",
       "2017-02-01 01:02:10        0.0       0.0     0.867921   0.414652  -0.681653   \n",
       "2017-02-01 01:02:11        0.0       0.0     0.867921   0.414652  -0.681653   \n",
       "\n",
       "                     ESTADO-PXO  ESTADO-SDV-GL  ESTADO-SDV-P  ESTADO-W1  \\\n",
       "timestamp                                                                 \n",
       "2017-02-01 01:02:07   -0.094347      -1.094009      0.312558   0.650525   \n",
       "2017-02-01 01:02:08   -0.094347      -1.094009      0.312558   0.650525   \n",
       "2017-02-01 01:02:09   -0.094347      -1.094009      0.312558   0.650525   \n",
       "2017-02-01 01:02:10   -0.094347      -1.094009      0.312558   0.650525   \n",
       "2017-02-01 01:02:11   -0.094347      -1.094009      0.312558   0.650525   \n",
       "\n",
       "                     ESTADO-W2  ...  P-JUS-CKGL  P-JUS-CKP  P-MON-CKP  P-PDG  \\\n",
       "timestamp                       ...                                            \n",
       "2017-02-01 01:02:07  -0.563169  ...   -1.202593        0.0  -0.549673    0.0   \n",
       "2017-02-01 01:02:08  -0.563169  ...   -1.202593        0.0  -0.547936    0.0   \n",
       "2017-02-01 01:02:09  -0.563169  ...   -1.202593        0.0  -0.546201    0.0   \n",
       "2017-02-01 01:02:10  -0.563169  ...   -1.202593        0.0  -0.544464    0.0   \n",
       "2017-02-01 01:02:11  -0.563169  ...   -1.202593        0.0  -0.542728    0.0   \n",
       "\n",
       "                        P-TPT       QGL  T-JUS-CKP  T-MON-CKP  T-PDG     T-TPT  \n",
       "timestamp                                                                       \n",
       "2017-02-01 01:02:07 -0.663171 -0.846093   0.808054        0.0    0.0  0.006835  \n",
       "2017-02-01 01:02:08 -0.663171 -0.846093   0.807721        0.0    0.0  0.006835  \n",
       "2017-02-01 01:02:09 -0.663171 -0.846093   0.807388        0.0    0.0  0.006835  \n",
       "2017-02-01 01:02:10 -0.663171 -0.846093   0.807054        0.0    0.0  0.006835  \n",
       "2017-02-01 01:02:11 -0.663171 -0.846093   0.806720        0.0    0.0  0.006835  \n",
       "\n",
       "[5 rows x 22 columns]"
      ]
     },
     "execution_count": 35,
     "metadata": {},
     "output_type": "execute_result"
    }
   ],
   "source": [
    "signal.head()"
   ]
  },
  {
   "cell_type": "markdown",
   "metadata": {},
   "source": [
    "Now, renaming and checking the changes:"
   ]
  },
  {
   "cell_type": "code",
   "execution_count": 36,
   "metadata": {},
   "outputs": [
    {
     "data": {
      "text/html": [
       "<div>\n",
       "<style scoped>\n",
       "    .dataframe tbody tr th:only-of-type {\n",
       "        vertical-align: middle;\n",
       "    }\n",
       "\n",
       "    .dataframe tbody tr th {\n",
       "        vertical-align: top;\n",
       "    }\n",
       "\n",
       "    .dataframe thead th {\n",
       "        text-align: right;\n",
       "    }\n",
       "</style>\n",
       "<table border=\"1\" class=\"dataframe\">\n",
       "  <thead>\n",
       "    <tr style=\"text-align: right;\">\n",
       "      <th></th>\n",
       "      <th>sensor_A</th>\n",
       "      <th>sensor_B</th>\n",
       "      <th>ESTADO-DHSV</th>\n",
       "      <th>ESTADO-M1</th>\n",
       "      <th>ESTADO-M2</th>\n",
       "      <th>ESTADO-PXO</th>\n",
       "      <th>ESTADO-SDV-GL</th>\n",
       "      <th>ESTADO-SDV-P</th>\n",
       "      <th>ESTADO-W1</th>\n",
       "      <th>ESTADO-W2</th>\n",
       "      <th>...</th>\n",
       "      <th>P-JUS-CKGL</th>\n",
       "      <th>P-JUS-CKP</th>\n",
       "      <th>P-MON-CKP</th>\n",
       "      <th>P-PDG</th>\n",
       "      <th>P-TPT</th>\n",
       "      <th>QGL</th>\n",
       "      <th>T-JUS-CKP</th>\n",
       "      <th>T-MON-CKP</th>\n",
       "      <th>T-PDG</th>\n",
       "      <th>T-TPT</th>\n",
       "    </tr>\n",
       "    <tr>\n",
       "      <th>timestamp</th>\n",
       "      <th></th>\n",
       "      <th></th>\n",
       "      <th></th>\n",
       "      <th></th>\n",
       "      <th></th>\n",
       "      <th></th>\n",
       "      <th></th>\n",
       "      <th></th>\n",
       "      <th></th>\n",
       "      <th></th>\n",
       "      <th></th>\n",
       "      <th></th>\n",
       "      <th></th>\n",
       "      <th></th>\n",
       "      <th></th>\n",
       "      <th></th>\n",
       "      <th></th>\n",
       "      <th></th>\n",
       "      <th></th>\n",
       "      <th></th>\n",
       "      <th></th>\n",
       "    </tr>\n",
       "  </thead>\n",
       "  <tbody>\n",
       "    <tr>\n",
       "      <th>2017-02-01 01:02:07</th>\n",
       "      <td>0.0</td>\n",
       "      <td>0.0</td>\n",
       "      <td>0.867921</td>\n",
       "      <td>0.414652</td>\n",
       "      <td>-0.681653</td>\n",
       "      <td>-0.094347</td>\n",
       "      <td>-1.094009</td>\n",
       "      <td>0.312558</td>\n",
       "      <td>0.650525</td>\n",
       "      <td>-0.563169</td>\n",
       "      <td>...</td>\n",
       "      <td>-1.202593</td>\n",
       "      <td>0.0</td>\n",
       "      <td>-0.549673</td>\n",
       "      <td>0.0</td>\n",
       "      <td>-0.663171</td>\n",
       "      <td>-0.846093</td>\n",
       "      <td>0.808054</td>\n",
       "      <td>0.0</td>\n",
       "      <td>0.0</td>\n",
       "      <td>0.006835</td>\n",
       "    </tr>\n",
       "    <tr>\n",
       "      <th>2017-02-01 01:02:08</th>\n",
       "      <td>0.0</td>\n",
       "      <td>0.0</td>\n",
       "      <td>0.867921</td>\n",
       "      <td>0.414652</td>\n",
       "      <td>-0.681653</td>\n",
       "      <td>-0.094347</td>\n",
       "      <td>-1.094009</td>\n",
       "      <td>0.312558</td>\n",
       "      <td>0.650525</td>\n",
       "      <td>-0.563169</td>\n",
       "      <td>...</td>\n",
       "      <td>-1.202593</td>\n",
       "      <td>0.0</td>\n",
       "      <td>-0.547936</td>\n",
       "      <td>0.0</td>\n",
       "      <td>-0.663171</td>\n",
       "      <td>-0.846093</td>\n",
       "      <td>0.807721</td>\n",
       "      <td>0.0</td>\n",
       "      <td>0.0</td>\n",
       "      <td>0.006835</td>\n",
       "    </tr>\n",
       "    <tr>\n",
       "      <th>2017-02-01 01:02:09</th>\n",
       "      <td>0.0</td>\n",
       "      <td>0.0</td>\n",
       "      <td>0.867921</td>\n",
       "      <td>0.414652</td>\n",
       "      <td>-0.681653</td>\n",
       "      <td>-0.094347</td>\n",
       "      <td>-1.094009</td>\n",
       "      <td>0.312558</td>\n",
       "      <td>0.650525</td>\n",
       "      <td>-0.563169</td>\n",
       "      <td>...</td>\n",
       "      <td>-1.202593</td>\n",
       "      <td>0.0</td>\n",
       "      <td>-0.546201</td>\n",
       "      <td>0.0</td>\n",
       "      <td>-0.663171</td>\n",
       "      <td>-0.846093</td>\n",
       "      <td>0.807388</td>\n",
       "      <td>0.0</td>\n",
       "      <td>0.0</td>\n",
       "      <td>0.006835</td>\n",
       "    </tr>\n",
       "    <tr>\n",
       "      <th>2017-02-01 01:02:10</th>\n",
       "      <td>0.0</td>\n",
       "      <td>0.0</td>\n",
       "      <td>0.867921</td>\n",
       "      <td>0.414652</td>\n",
       "      <td>-0.681653</td>\n",
       "      <td>-0.094347</td>\n",
       "      <td>-1.094009</td>\n",
       "      <td>0.312558</td>\n",
       "      <td>0.650525</td>\n",
       "      <td>-0.563169</td>\n",
       "      <td>...</td>\n",
       "      <td>-1.202593</td>\n",
       "      <td>0.0</td>\n",
       "      <td>-0.544464</td>\n",
       "      <td>0.0</td>\n",
       "      <td>-0.663171</td>\n",
       "      <td>-0.846093</td>\n",
       "      <td>0.807054</td>\n",
       "      <td>0.0</td>\n",
       "      <td>0.0</td>\n",
       "      <td>0.006835</td>\n",
       "    </tr>\n",
       "    <tr>\n",
       "      <th>2017-02-01 01:02:11</th>\n",
       "      <td>0.0</td>\n",
       "      <td>0.0</td>\n",
       "      <td>0.867921</td>\n",
       "      <td>0.414652</td>\n",
       "      <td>-0.681653</td>\n",
       "      <td>-0.094347</td>\n",
       "      <td>-1.094009</td>\n",
       "      <td>0.312558</td>\n",
       "      <td>0.650525</td>\n",
       "      <td>-0.563169</td>\n",
       "      <td>...</td>\n",
       "      <td>-1.202593</td>\n",
       "      <td>0.0</td>\n",
       "      <td>-0.542728</td>\n",
       "      <td>0.0</td>\n",
       "      <td>-0.663171</td>\n",
       "      <td>-0.846093</td>\n",
       "      <td>0.806720</td>\n",
       "      <td>0.0</td>\n",
       "      <td>0.0</td>\n",
       "      <td>0.006835</td>\n",
       "    </tr>\n",
       "  </tbody>\n",
       "</table>\n",
       "<p>5 rows × 22 columns</p>\n",
       "</div>"
      ],
      "text/plain": [
       "                     sensor_A  sensor_B  ESTADO-DHSV  ESTADO-M1  ESTADO-M2  \\\n",
       "timestamp                                                                    \n",
       "2017-02-01 01:02:07       0.0       0.0     0.867921   0.414652  -0.681653   \n",
       "2017-02-01 01:02:08       0.0       0.0     0.867921   0.414652  -0.681653   \n",
       "2017-02-01 01:02:09       0.0       0.0     0.867921   0.414652  -0.681653   \n",
       "2017-02-01 01:02:10       0.0       0.0     0.867921   0.414652  -0.681653   \n",
       "2017-02-01 01:02:11       0.0       0.0     0.867921   0.414652  -0.681653   \n",
       "\n",
       "                     ESTADO-PXO  ESTADO-SDV-GL  ESTADO-SDV-P  ESTADO-W1  \\\n",
       "timestamp                                                                 \n",
       "2017-02-01 01:02:07   -0.094347      -1.094009      0.312558   0.650525   \n",
       "2017-02-01 01:02:08   -0.094347      -1.094009      0.312558   0.650525   \n",
       "2017-02-01 01:02:09   -0.094347      -1.094009      0.312558   0.650525   \n",
       "2017-02-01 01:02:10   -0.094347      -1.094009      0.312558   0.650525   \n",
       "2017-02-01 01:02:11   -0.094347      -1.094009      0.312558   0.650525   \n",
       "\n",
       "                     ESTADO-W2  ...  P-JUS-CKGL  P-JUS-CKP  P-MON-CKP  P-PDG  \\\n",
       "timestamp                       ...                                            \n",
       "2017-02-01 01:02:07  -0.563169  ...   -1.202593        0.0  -0.549673    0.0   \n",
       "2017-02-01 01:02:08  -0.563169  ...   -1.202593        0.0  -0.547936    0.0   \n",
       "2017-02-01 01:02:09  -0.563169  ...   -1.202593        0.0  -0.546201    0.0   \n",
       "2017-02-01 01:02:10  -0.563169  ...   -1.202593        0.0  -0.544464    0.0   \n",
       "2017-02-01 01:02:11  -0.563169  ...   -1.202593        0.0  -0.542728    0.0   \n",
       "\n",
       "                        P-TPT       QGL  T-JUS-CKP  T-MON-CKP  T-PDG     T-TPT  \n",
       "timestamp                                                                       \n",
       "2017-02-01 01:02:07 -0.663171 -0.846093   0.808054        0.0    0.0  0.006835  \n",
       "2017-02-01 01:02:08 -0.663171 -0.846093   0.807721        0.0    0.0  0.006835  \n",
       "2017-02-01 01:02:09 -0.663171 -0.846093   0.807388        0.0    0.0  0.006835  \n",
       "2017-02-01 01:02:10 -0.663171 -0.846093   0.807054        0.0    0.0  0.006835  \n",
       "2017-02-01 01:02:11 -0.663171 -0.846093   0.806720        0.0    0.0  0.006835  \n",
       "\n",
       "[5 rows x 22 columns]"
      ]
     },
     "execution_count": 36,
     "metadata": {},
     "output_type": "execute_result"
    }
   ],
   "source": [
    "columns_map = {\"ABER-CKGL\": \"sensor_A\", \"ABER-CKP\": \"sensor_B\"}\n",
    "rename = RenameColumns(RenameColumnsConfig(columns_map=columns_map))\n",
    "signal_renamed = rename(signal)\n",
    "signal_renamed.head()"
   ]
  },
  {
   "cell_type": "markdown",
   "metadata": {},
   "source": [
    "------"
   ]
  },
  {
   "cell_type": "markdown",
   "metadata": {},
   "source": [
    "## 4.  🔎 Feature Extraction\n"
   ]
  },
  {
   "cell_type": "markdown",
   "metadata": {},
   "source": [
    "In most time-series machine learning tasks, raw signal data is not used directly to train models. Instead, we use feature extraction to transform segments, or windows, of the time-series into a set of features that better represent the underlying patterns. This process converts a sequence of data points into a single row of features that a model can learn from.\n",
    "\n",
    "An important part of this process is aligning the extracted features (X) with their corresponding labels (y). Each of our feature extractors is designed to take both X and y as input and return the transformed features and their corectly aligned labels, ready for the modeling stage.\n",
    "\n",
    "In this section, we will demonstrate the three primary feature extraction methods available in the toolkit:\n",
    "\n",
    "* `ExtractStatisticalFeatures`: Captures the statistical properties of the data within each window (e.g. mean, std, skewness, kurtosis).\n",
    "* `ExtractWaveletFeatures`: Decomposes the signal within each window into it's frequency components. It generates approximation (low-frequency representation) and detail coefficients (high-frequency representation).\n",
    "* `ExtractEWStatisticalFeatures`: Exponentially Weighted statistical features. Similar to the standard statistical features, but give progressively more weight to more recent data points within a window. This is particularly useful when the most recent behavior in a window is more important than older behavior.\n"
   ]
  },
  {
   "cell_type": "markdown",
   "metadata": {},
   "source": [
    "First, we select the data for feature extraction using the functionalities presented in section 2"
   ]
  },
  {
   "cell_type": "code",
   "execution_count": 37,
   "metadata": {},
   "outputs": [],
   "source": [
    "X = raw_dataset[0][\"signal\"]\n",
    "y = raw_dataset[0][\"label\"]\n",
    "\n",
    "# Filling NaN values with 0 for demonstration purposes\n",
    "X = X.fillna(0)\n",
    "y = y.fillna(0)"
   ]
  },
  {
   "cell_type": "markdown",
   "metadata": {},
   "source": [
    "### 4.1 Statistical Feature Extraction\n"
   ]
  },
  {
   "cell_type": "markdown",
   "metadata": {},
   "source": [
    "In class `9`, the following statistical features are extracted:\n",
    "\n",
    "* `Mean`, `Standard Deviation`: Describe the central tendency and dispersion (volatility) of the signal in the window.\n",
    "* `Skewness`, `Kurtosis`: Describe the shape of the distribution. Skewness measures its asymmetry, while kurtosis measures how much the data is concentrated on the tail versus the center of the distribution.\n",
    "* `Minimum`, `1st Quartile`, `Median`, `3rd Quartile`, `Maximum`: Provide a summary of the statistical distribution through quartiles.\n",
    "\n"
   ]
  },
  {
   "cell_type": "code",
   "execution_count": 38,
   "metadata": {},
   "outputs": [
    {
     "data": {
      "text/html": [
       "<div>\n",
       "<style scoped>\n",
       "    .dataframe tbody tr th:only-of-type {\n",
       "        vertical-align: middle;\n",
       "    }\n",
       "\n",
       "    .dataframe tbody tr th {\n",
       "        vertical-align: top;\n",
       "    }\n",
       "\n",
       "    .dataframe thead th {\n",
       "        text-align: right;\n",
       "    }\n",
       "</style>\n",
       "<table border=\"1\" class=\"dataframe\">\n",
       "  <thead>\n",
       "    <tr style=\"text-align: right;\">\n",
       "      <th></th>\n",
       "      <th>var1_mean</th>\n",
       "      <th>var1_std</th>\n",
       "      <th>var1_skew</th>\n",
       "      <th>var1_kurt</th>\n",
       "      <th>var1_min</th>\n",
       "      <th>var1_1qrt</th>\n",
       "      <th>var1_med</th>\n",
       "      <th>var1_3qrt</th>\n",
       "      <th>var1_max</th>\n",
       "    </tr>\n",
       "  </thead>\n",
       "  <tbody>\n",
       "    <tr>\n",
       "      <th>0</th>\n",
       "      <td>-0.331586</td>\n",
       "      <td>0.234467</td>\n",
       "      <td>0.000000</td>\n",
       "      <td>-1.000000</td>\n",
       "      <td>-0.663171</td>\n",
       "      <td>-0.414482</td>\n",
       "      <td>-0.331586</td>\n",
       "      <td>-0.248689</td>\n",
       "      <td>-0.0</td>\n",
       "    </tr>\n",
       "    <tr>\n",
       "      <th>1</th>\n",
       "      <td>-0.331586</td>\n",
       "      <td>0.234467</td>\n",
       "      <td>0.000000</td>\n",
       "      <td>-1.000000</td>\n",
       "      <td>-0.663171</td>\n",
       "      <td>-0.414482</td>\n",
       "      <td>-0.331586</td>\n",
       "      <td>-0.248689</td>\n",
       "      <td>-0.0</td>\n",
       "    </tr>\n",
       "    <tr>\n",
       "      <th>2</th>\n",
       "      <td>-0.331586</td>\n",
       "      <td>0.234467</td>\n",
       "      <td>0.000000</td>\n",
       "      <td>-1.000000</td>\n",
       "      <td>-0.663171</td>\n",
       "      <td>-0.414482</td>\n",
       "      <td>-0.331586</td>\n",
       "      <td>-0.248689</td>\n",
       "      <td>-0.0</td>\n",
       "    </tr>\n",
       "    <tr>\n",
       "      <th>3</th>\n",
       "      <td>-0.331586</td>\n",
       "      <td>0.234467</td>\n",
       "      <td>0.000000</td>\n",
       "      <td>-1.000000</td>\n",
       "      <td>-0.663171</td>\n",
       "      <td>-0.414482</td>\n",
       "      <td>-0.331586</td>\n",
       "      <td>-0.248689</td>\n",
       "      <td>-0.0</td>\n",
       "    </tr>\n",
       "    <tr>\n",
       "      <th>4</th>\n",
       "      <td>-0.331586</td>\n",
       "      <td>0.234467</td>\n",
       "      <td>0.000000</td>\n",
       "      <td>-1.000000</td>\n",
       "      <td>-0.663171</td>\n",
       "      <td>-0.414482</td>\n",
       "      <td>-0.331586</td>\n",
       "      <td>-0.248689</td>\n",
       "      <td>-0.0</td>\n",
       "    </tr>\n",
       "    <tr>\n",
       "      <th>...</th>\n",
       "      <td>...</td>\n",
       "      <td>...</td>\n",
       "      <td>...</td>\n",
       "      <td>...</td>\n",
       "      <td>...</td>\n",
       "      <td>...</td>\n",
       "      <td>...</td>\n",
       "      <td>...</td>\n",
       "      <td>...</td>\n",
       "    </tr>\n",
       "    <tr>\n",
       "      <th>10732</th>\n",
       "      <td>-0.336668</td>\n",
       "      <td>0.238060</td>\n",
       "      <td>0.000000</td>\n",
       "      <td>-1.000000</td>\n",
       "      <td>-0.673336</td>\n",
       "      <td>-0.420835</td>\n",
       "      <td>-0.336668</td>\n",
       "      <td>-0.252501</td>\n",
       "      <td>-0.0</td>\n",
       "    </tr>\n",
       "    <tr>\n",
       "      <th>10733</th>\n",
       "      <td>-0.336668</td>\n",
       "      <td>0.238060</td>\n",
       "      <td>0.000000</td>\n",
       "      <td>-1.000000</td>\n",
       "      <td>-0.673336</td>\n",
       "      <td>-0.420835</td>\n",
       "      <td>-0.336668</td>\n",
       "      <td>-0.252501</td>\n",
       "      <td>-0.0</td>\n",
       "    </tr>\n",
       "    <tr>\n",
       "      <th>10734</th>\n",
       "      <td>-0.336668</td>\n",
       "      <td>0.238060</td>\n",
       "      <td>0.000000</td>\n",
       "      <td>-1.000000</td>\n",
       "      <td>-0.673336</td>\n",
       "      <td>-0.420835</td>\n",
       "      <td>-0.336668</td>\n",
       "      <td>-0.252501</td>\n",
       "      <td>-0.0</td>\n",
       "    </tr>\n",
       "    <tr>\n",
       "      <th>10735</th>\n",
       "      <td>-0.336668</td>\n",
       "      <td>0.238060</td>\n",
       "      <td>0.000000</td>\n",
       "      <td>-1.000000</td>\n",
       "      <td>-0.673336</td>\n",
       "      <td>-0.420835</td>\n",
       "      <td>-0.336668</td>\n",
       "      <td>-0.252501</td>\n",
       "      <td>-0.0</td>\n",
       "    </tr>\n",
       "    <tr>\n",
       "      <th>10736</th>\n",
       "      <td>-0.084167</td>\n",
       "      <td>0.145782</td>\n",
       "      <td>-1.154701</td>\n",
       "      <td>-0.666667</td>\n",
       "      <td>-0.336668</td>\n",
       "      <td>-0.084167</td>\n",
       "      <td>0.000000</td>\n",
       "      <td>0.000000</td>\n",
       "      <td>0.0</td>\n",
       "    </tr>\n",
       "  </tbody>\n",
       "</table>\n",
       "<p>10737 rows × 9 columns</p>\n",
       "</div>"
      ],
      "text/plain": [
       "       var1_mean  var1_std  var1_skew  var1_kurt  var1_min  var1_1qrt  \\\n",
       "0      -0.331586  0.234467   0.000000  -1.000000 -0.663171  -0.414482   \n",
       "1      -0.331586  0.234467   0.000000  -1.000000 -0.663171  -0.414482   \n",
       "2      -0.331586  0.234467   0.000000  -1.000000 -0.663171  -0.414482   \n",
       "3      -0.331586  0.234467   0.000000  -1.000000 -0.663171  -0.414482   \n",
       "4      -0.331586  0.234467   0.000000  -1.000000 -0.663171  -0.414482   \n",
       "...          ...       ...        ...        ...       ...        ...   \n",
       "10732  -0.336668  0.238060   0.000000  -1.000000 -0.673336  -0.420835   \n",
       "10733  -0.336668  0.238060   0.000000  -1.000000 -0.673336  -0.420835   \n",
       "10734  -0.336668  0.238060   0.000000  -1.000000 -0.673336  -0.420835   \n",
       "10735  -0.336668  0.238060   0.000000  -1.000000 -0.673336  -0.420835   \n",
       "10736  -0.084167  0.145782  -1.154701  -0.666667 -0.336668  -0.084167   \n",
       "\n",
       "       var1_med  var1_3qrt  var1_max  \n",
       "0     -0.331586  -0.248689      -0.0  \n",
       "1     -0.331586  -0.248689      -0.0  \n",
       "2     -0.331586  -0.248689      -0.0  \n",
       "3     -0.331586  -0.248689      -0.0  \n",
       "4     -0.331586  -0.248689      -0.0  \n",
       "...         ...        ...       ...  \n",
       "10732 -0.336668  -0.252501      -0.0  \n",
       "10733 -0.336668  -0.252501      -0.0  \n",
       "10734 -0.336668  -0.252501      -0.0  \n",
       "10735 -0.336668  -0.252501      -0.0  \n",
       "10736  0.000000   0.000000       0.0  \n",
       "\n",
       "[10737 rows x 9 columns]"
      ]
     },
     "execution_count": 38,
     "metadata": {},
     "output_type": "execute_result"
    }
   ],
   "source": [
    "# Configure the statistical extractor\n",
    "config_stats = StatisticalConfig(window_size=20, overlap=0.75)\n",
    "\n",
    "# Instantiate the extractor\n",
    "statistical_extractor = ExtractStatisticalFeatures(config_stats)\n",
    "\n",
    "statistical_extractor.is_windowed = True\n",
    "\n",
    "# Apply it to the same sample data\n",
    "df = statistical_extractor(wind(signal[col]))\n",
    "df"
   ]
  },
  {
   "cell_type": "markdown",
   "metadata": {},
   "source": [
    "### 4.2 Wavelet Feature Extraction"
   ]
  },
  {
   "cell_type": "markdown",
   "metadata": {},
   "source": [
    "The Wavelet Feature Extractor uses the Stationary Wavelet Transform (SWT). This method decomposes the signal within each window into different frequency components, which can often capture patterns that are invisible to standard statistical measures.\n",
    "\n",
    "For each level of decomposition, two sets of coefficients are generated:\n",
    "\n",
    "* `Approximation Coefficients (A)`: These capture the low-frequency, underlying trend of the signal. Think of it as a smoothed or downsampled version of the signal within the window.\n",
    "* `Detail Coefficients (D)`: These capture the high-frequency components, representing noise, spikes, and other abrupt changes.\n",
    "\n"
   ]
  },
  {
   "cell_type": "code",
   "execution_count": 39,
   "metadata": {},
   "outputs": [
    {
     "data": {
      "text/html": [
       "<div>\n",
       "<style scoped>\n",
       "    .dataframe tbody tr th:only-of-type {\n",
       "        vertical-align: middle;\n",
       "    }\n",
       "\n",
       "    .dataframe tbody tr th {\n",
       "        vertical-align: top;\n",
       "    }\n",
       "\n",
       "    .dataframe thead th {\n",
       "        text-align: right;\n",
       "    }\n",
       "</style>\n",
       "<table border=\"1\" class=\"dataframe\">\n",
       "  <thead>\n",
       "    <tr style=\"text-align: right;\">\n",
       "      <th></th>\n",
       "      <th>var1_A3</th>\n",
       "      <th>var1_D3</th>\n",
       "      <th>var1_A2</th>\n",
       "      <th>var1_D2</th>\n",
       "      <th>var1_A1</th>\n",
       "      <th>var1_D1</th>\n",
       "      <th>var1_A0</th>\n",
       "    </tr>\n",
       "  </thead>\n",
       "  <tbody>\n",
       "    <tr>\n",
       "      <th>0</th>\n",
       "      <td>-0.468933</td>\n",
       "      <td>0.468933</td>\n",
       "      <td>0.0</td>\n",
       "      <td>0.0</td>\n",
       "      <td>0.0</td>\n",
       "      <td>0.0</td>\n",
       "      <td>0.0</td>\n",
       "    </tr>\n",
       "    <tr>\n",
       "      <th>1</th>\n",
       "      <td>-0.468933</td>\n",
       "      <td>0.468933</td>\n",
       "      <td>0.0</td>\n",
       "      <td>0.0</td>\n",
       "      <td>0.0</td>\n",
       "      <td>0.0</td>\n",
       "      <td>0.0</td>\n",
       "    </tr>\n",
       "    <tr>\n",
       "      <th>2</th>\n",
       "      <td>-0.468933</td>\n",
       "      <td>0.468933</td>\n",
       "      <td>0.0</td>\n",
       "      <td>0.0</td>\n",
       "      <td>0.0</td>\n",
       "      <td>0.0</td>\n",
       "      <td>0.0</td>\n",
       "    </tr>\n",
       "    <tr>\n",
       "      <th>3</th>\n",
       "      <td>-0.468933</td>\n",
       "      <td>0.468933</td>\n",
       "      <td>0.0</td>\n",
       "      <td>0.0</td>\n",
       "      <td>0.0</td>\n",
       "      <td>0.0</td>\n",
       "      <td>0.0</td>\n",
       "    </tr>\n",
       "    <tr>\n",
       "      <th>4</th>\n",
       "      <td>-0.468933</td>\n",
       "      <td>0.468933</td>\n",
       "      <td>0.0</td>\n",
       "      <td>0.0</td>\n",
       "      <td>0.0</td>\n",
       "      <td>0.0</td>\n",
       "      <td>0.0</td>\n",
       "    </tr>\n",
       "    <tr>\n",
       "      <th>...</th>\n",
       "      <td>...</td>\n",
       "      <td>...</td>\n",
       "      <td>...</td>\n",
       "      <td>...</td>\n",
       "      <td>...</td>\n",
       "      <td>...</td>\n",
       "      <td>...</td>\n",
       "    </tr>\n",
       "    <tr>\n",
       "      <th>10732</th>\n",
       "      <td>-0.476121</td>\n",
       "      <td>0.476121</td>\n",
       "      <td>0.0</td>\n",
       "      <td>0.0</td>\n",
       "      <td>0.0</td>\n",
       "      <td>0.0</td>\n",
       "      <td>0.0</td>\n",
       "    </tr>\n",
       "    <tr>\n",
       "      <th>10733</th>\n",
       "      <td>-0.476121</td>\n",
       "      <td>0.476121</td>\n",
       "      <td>0.0</td>\n",
       "      <td>0.0</td>\n",
       "      <td>0.0</td>\n",
       "      <td>0.0</td>\n",
       "      <td>0.0</td>\n",
       "    </tr>\n",
       "    <tr>\n",
       "      <th>10734</th>\n",
       "      <td>-0.476121</td>\n",
       "      <td>0.476121</td>\n",
       "      <td>0.0</td>\n",
       "      <td>0.0</td>\n",
       "      <td>0.0</td>\n",
       "      <td>0.0</td>\n",
       "      <td>0.0</td>\n",
       "    </tr>\n",
       "    <tr>\n",
       "      <th>10735</th>\n",
       "      <td>-0.476121</td>\n",
       "      <td>0.476121</td>\n",
       "      <td>0.0</td>\n",
       "      <td>0.0</td>\n",
       "      <td>0.0</td>\n",
       "      <td>0.0</td>\n",
       "      <td>0.0</td>\n",
       "    </tr>\n",
       "    <tr>\n",
       "      <th>10736</th>\n",
       "      <td>-0.119030</td>\n",
       "      <td>0.119030</td>\n",
       "      <td>0.0</td>\n",
       "      <td>0.0</td>\n",
       "      <td>0.0</td>\n",
       "      <td>0.0</td>\n",
       "      <td>0.0</td>\n",
       "    </tr>\n",
       "  </tbody>\n",
       "</table>\n",
       "<p>10737 rows × 7 columns</p>\n",
       "</div>"
      ],
      "text/plain": [
       "        var1_A3   var1_D3  var1_A2  var1_D2  var1_A1  var1_D1  var1_A0\n",
       "0     -0.468933  0.468933      0.0      0.0      0.0      0.0      0.0\n",
       "1     -0.468933  0.468933      0.0      0.0      0.0      0.0      0.0\n",
       "2     -0.468933  0.468933      0.0      0.0      0.0      0.0      0.0\n",
       "3     -0.468933  0.468933      0.0      0.0      0.0      0.0      0.0\n",
       "4     -0.468933  0.468933      0.0      0.0      0.0      0.0      0.0\n",
       "...         ...       ...      ...      ...      ...      ...      ...\n",
       "10732 -0.476121  0.476121      0.0      0.0      0.0      0.0      0.0\n",
       "10733 -0.476121  0.476121      0.0      0.0      0.0      0.0      0.0\n",
       "10734 -0.476121  0.476121      0.0      0.0      0.0      0.0      0.0\n",
       "10735 -0.476121  0.476121      0.0      0.0      0.0      0.0      0.0\n",
       "10736 -0.119030  0.119030      0.0      0.0      0.0      0.0      0.0\n",
       "\n",
       "[10737 rows x 7 columns]"
      ]
     },
     "execution_count": 39,
     "metadata": {},
     "output_type": "execute_result"
    }
   ],
   "source": [
    "# Configure the extractor\n",
    "config_wavelets = WaveletConfig(level=3, overlap=0.875, offset=0)\n",
    "\n",
    "# Instantiate the extractor\n",
    "wavelet_extractor = ExtractWaveletFeatures(config_wavelets)\n",
    "\n",
    "wavelet_extractor.is_windowed = True\n",
    "\n",
    "# Apply it to our data\n",
    "df = wavelet_extractor(wind(signal[col]))\n",
    "df"
   ]
  },
  {
   "cell_type": "code",
   "execution_count": 40,
   "metadata": {},
   "outputs": [
    {
     "data": {
      "text/html": [
       "<div>\n",
       "<style scoped>\n",
       "    .dataframe tbody tr th:only-of-type {\n",
       "        vertical-align: middle;\n",
       "    }\n",
       "\n",
       "    .dataframe tbody tr th {\n",
       "        vertical-align: top;\n",
       "    }\n",
       "\n",
       "    .dataframe thead th {\n",
       "        text-align: right;\n",
       "    }\n",
       "</style>\n",
       "<table border=\"1\" class=\"dataframe\">\n",
       "  <thead>\n",
       "    <tr style=\"text-align: right;\">\n",
       "      <th></th>\n",
       "      <th>var1_A3</th>\n",
       "      <th>var1_D3</th>\n",
       "      <th>var1_A2</th>\n",
       "      <th>var1_D2</th>\n",
       "      <th>var1_A1</th>\n",
       "      <th>var1_D1</th>\n",
       "      <th>var1_A0</th>\n",
       "    </tr>\n",
       "  </thead>\n",
       "  <tbody>\n",
       "    <tr>\n",
       "      <th>0</th>\n",
       "      <td>-0.468933</td>\n",
       "      <td>0.468933</td>\n",
       "      <td>0.0</td>\n",
       "      <td>0.0</td>\n",
       "      <td>0.0</td>\n",
       "      <td>0.0</td>\n",
       "      <td>0.0</td>\n",
       "    </tr>\n",
       "    <tr>\n",
       "      <th>1</th>\n",
       "      <td>-0.468933</td>\n",
       "      <td>0.468933</td>\n",
       "      <td>0.0</td>\n",
       "      <td>0.0</td>\n",
       "      <td>0.0</td>\n",
       "      <td>0.0</td>\n",
       "      <td>0.0</td>\n",
       "    </tr>\n",
       "    <tr>\n",
       "      <th>2</th>\n",
       "      <td>-0.468933</td>\n",
       "      <td>0.468933</td>\n",
       "      <td>0.0</td>\n",
       "      <td>0.0</td>\n",
       "      <td>0.0</td>\n",
       "      <td>0.0</td>\n",
       "      <td>0.0</td>\n",
       "    </tr>\n",
       "    <tr>\n",
       "      <th>3</th>\n",
       "      <td>-0.468933</td>\n",
       "      <td>0.468933</td>\n",
       "      <td>0.0</td>\n",
       "      <td>0.0</td>\n",
       "      <td>0.0</td>\n",
       "      <td>0.0</td>\n",
       "      <td>0.0</td>\n",
       "    </tr>\n",
       "    <tr>\n",
       "      <th>4</th>\n",
       "      <td>-0.468933</td>\n",
       "      <td>0.468933</td>\n",
       "      <td>0.0</td>\n",
       "      <td>0.0</td>\n",
       "      <td>0.0</td>\n",
       "      <td>0.0</td>\n",
       "      <td>0.0</td>\n",
       "    </tr>\n",
       "    <tr>\n",
       "      <th>...</th>\n",
       "      <td>...</td>\n",
       "      <td>...</td>\n",
       "      <td>...</td>\n",
       "      <td>...</td>\n",
       "      <td>...</td>\n",
       "      <td>...</td>\n",
       "      <td>...</td>\n",
       "    </tr>\n",
       "    <tr>\n",
       "      <th>10712</th>\n",
       "      <td>-0.476121</td>\n",
       "      <td>0.476121</td>\n",
       "      <td>0.0</td>\n",
       "      <td>0.0</td>\n",
       "      <td>0.0</td>\n",
       "      <td>0.0</td>\n",
       "      <td>0.0</td>\n",
       "    </tr>\n",
       "    <tr>\n",
       "      <th>10713</th>\n",
       "      <td>-0.476121</td>\n",
       "      <td>0.476121</td>\n",
       "      <td>0.0</td>\n",
       "      <td>0.0</td>\n",
       "      <td>0.0</td>\n",
       "      <td>0.0</td>\n",
       "      <td>0.0</td>\n",
       "    </tr>\n",
       "    <tr>\n",
       "      <th>10714</th>\n",
       "      <td>-0.476121</td>\n",
       "      <td>0.476121</td>\n",
       "      <td>0.0</td>\n",
       "      <td>0.0</td>\n",
       "      <td>0.0</td>\n",
       "      <td>0.0</td>\n",
       "      <td>0.0</td>\n",
       "    </tr>\n",
       "    <tr>\n",
       "      <th>10715</th>\n",
       "      <td>-0.476121</td>\n",
       "      <td>0.476121</td>\n",
       "      <td>0.0</td>\n",
       "      <td>0.0</td>\n",
       "      <td>0.0</td>\n",
       "      <td>0.0</td>\n",
       "      <td>0.0</td>\n",
       "    </tr>\n",
       "    <tr>\n",
       "      <th>10716</th>\n",
       "      <td>-0.119030</td>\n",
       "      <td>0.119030</td>\n",
       "      <td>0.0</td>\n",
       "      <td>0.0</td>\n",
       "      <td>0.0</td>\n",
       "      <td>0.0</td>\n",
       "      <td>0.0</td>\n",
       "    </tr>\n",
       "  </tbody>\n",
       "</table>\n",
       "<p>10717 rows × 7 columns</p>\n",
       "</div>"
      ],
      "text/plain": [
       "        var1_A3   var1_D3  var1_A2  var1_D2  var1_A1  var1_D1  var1_A0\n",
       "0     -0.468933  0.468933      0.0      0.0      0.0      0.0      0.0\n",
       "1     -0.468933  0.468933      0.0      0.0      0.0      0.0      0.0\n",
       "2     -0.468933  0.468933      0.0      0.0      0.0      0.0      0.0\n",
       "3     -0.468933  0.468933      0.0      0.0      0.0      0.0      0.0\n",
       "4     -0.468933  0.468933      0.0      0.0      0.0      0.0      0.0\n",
       "...         ...       ...      ...      ...      ...      ...      ...\n",
       "10712 -0.476121  0.476121      0.0      0.0      0.0      0.0      0.0\n",
       "10713 -0.476121  0.476121      0.0      0.0      0.0      0.0      0.0\n",
       "10714 -0.476121  0.476121      0.0      0.0      0.0      0.0      0.0\n",
       "10715 -0.476121  0.476121      0.0      0.0      0.0      0.0      0.0\n",
       "10716 -0.119030  0.119030      0.0      0.0      0.0      0.0      0.0\n",
       "\n",
       "[10717 rows x 7 columns]"
      ]
     },
     "execution_count": 40,
     "metadata": {},
     "output_type": "execute_result"
    }
   ],
   "source": [
    "# Configure with an offset\n",
    "config_wavelets = WaveletConfig(level=3, overlap=0.875, offset=20)\n",
    "\n",
    "# Instantiate the extractor\n",
    "wavelet_extractor = ExtractWaveletFeatures(config_wavelets)\n",
    "\n",
    "wavelet_extractor.is_windowed = True\n",
    "\n",
    "# Apply it to our data\n",
    "df_offset = wavelet_extractor(wind(signal[col]))\n",
    "df_offset"
   ]
  },
  {
   "cell_type": "code",
   "execution_count": 41,
   "metadata": {},
   "outputs": [
    {
     "name": "stdout",
     "output_type": "stream",
     "text": [
      "--- No offset ---\n",
      "Start index: 0\n",
      "\n",
      "--- Using offset=20 ---\n",
      "Start index with offset: 0\n",
      "Extraction began 20 points later, so the first timestamp is delayed.\n"
     ]
    }
   ],
   "source": [
    "print(\"--- No offset ---\")\n",
    "print(\"Start index:\", df.index[0])\n",
    "\n",
    "print(\"\\n--- Using offset=20 ---\")\n",
    "print(\"Start index with offset:\", df_offset.index[0])\n",
    "print(\"Extraction began 20 points later, so the first timestamp is delayed.\")"
   ]
  },
  {
   "cell_type": "markdown",
   "metadata": {},
   "source": [
    "### 4.3 Exponentially Weighted Statistical Feature Extraction"
   ]
  },
  {
   "cell_type": "markdown",
   "metadata": {},
   "source": [
    "Provides a specialized version of the standard statistical features. The \"EW\" stands for **Exponentially Weighted**.\n",
    "\n",
    "In this method, not all data points in a window are treated equally. Instead, more recent data points are given progressively higher weight than older points. The rate at which the importance of older data decays is controlled by the decay parameter.\n",
    "\n",
    "This is particularly useful in scenarios where the most recent behavior within a window is more predictive of the outcome than the behavior at the beginning of the window. It creates features that are more sensitive to the latest changes in the signal.\n",
    "\n"
   ]
  },
  {
   "cell_type": "code",
   "execution_count": 42,
   "metadata": {},
   "outputs": [
    {
     "data": {
      "text/html": [
       "<div>\n",
       "<style scoped>\n",
       "    .dataframe tbody tr th:only-of-type {\n",
       "        vertical-align: middle;\n",
       "    }\n",
       "\n",
       "    .dataframe tbody tr th {\n",
       "        vertical-align: top;\n",
       "    }\n",
       "\n",
       "    .dataframe thead th {\n",
       "        text-align: right;\n",
       "    }\n",
       "</style>\n",
       "<table border=\"1\" class=\"dataframe\">\n",
       "  <thead>\n",
       "    <tr style=\"text-align: right;\">\n",
       "      <th></th>\n",
       "      <th>var1_ew_mean</th>\n",
       "      <th>var1_ew_std</th>\n",
       "      <th>var1_ew_skew</th>\n",
       "      <th>var1_ew_kurt</th>\n",
       "      <th>var1_ew_min</th>\n",
       "      <th>var1_ew_1qrt</th>\n",
       "      <th>var1_ew_med</th>\n",
       "      <th>var1_ew_3qrt</th>\n",
       "      <th>var1_ew_max</th>\n",
       "    </tr>\n",
       "  </thead>\n",
       "  <tbody>\n",
       "    <tr>\n",
       "      <th>0</th>\n",
       "      <td>-0.348073</td>\n",
       "      <td>0.227617</td>\n",
       "      <td>0.063963</td>\n",
       "      <td>2.120311</td>\n",
       "      <td>-1.384332</td>\n",
       "      <td>-0.291756</td>\n",
       "      <td>0.072435</td>\n",
       "      <td>0.436627</td>\n",
       "      <td>1.529202</td>\n",
       "    </tr>\n",
       "    <tr>\n",
       "      <th>1</th>\n",
       "      <td>-0.348073</td>\n",
       "      <td>0.227617</td>\n",
       "      <td>0.063963</td>\n",
       "      <td>2.120311</td>\n",
       "      <td>-1.384332</td>\n",
       "      <td>-0.291756</td>\n",
       "      <td>0.072435</td>\n",
       "      <td>0.436627</td>\n",
       "      <td>1.529202</td>\n",
       "    </tr>\n",
       "    <tr>\n",
       "      <th>2</th>\n",
       "      <td>-0.348073</td>\n",
       "      <td>0.227617</td>\n",
       "      <td>0.063963</td>\n",
       "      <td>2.120311</td>\n",
       "      <td>-1.384332</td>\n",
       "      <td>-0.291756</td>\n",
       "      <td>0.072435</td>\n",
       "      <td>0.436627</td>\n",
       "      <td>1.529202</td>\n",
       "    </tr>\n",
       "    <tr>\n",
       "      <th>3</th>\n",
       "      <td>-0.348073</td>\n",
       "      <td>0.227617</td>\n",
       "      <td>0.063963</td>\n",
       "      <td>2.120311</td>\n",
       "      <td>-1.384332</td>\n",
       "      <td>-0.291756</td>\n",
       "      <td>0.072435</td>\n",
       "      <td>0.436627</td>\n",
       "      <td>1.529202</td>\n",
       "    </tr>\n",
       "    <tr>\n",
       "      <th>4</th>\n",
       "      <td>-0.348073</td>\n",
       "      <td>0.227617</td>\n",
       "      <td>0.063963</td>\n",
       "      <td>2.120311</td>\n",
       "      <td>-1.384332</td>\n",
       "      <td>-0.291756</td>\n",
       "      <td>0.072435</td>\n",
       "      <td>0.436627</td>\n",
       "      <td>1.529202</td>\n",
       "    </tr>\n",
       "    <tr>\n",
       "      <th>...</th>\n",
       "      <td>...</td>\n",
       "      <td>...</td>\n",
       "      <td>...</td>\n",
       "      <td>...</td>\n",
       "      <td>...</td>\n",
       "      <td>...</td>\n",
       "      <td>...</td>\n",
       "      <td>...</td>\n",
       "      <td>...</td>\n",
       "    </tr>\n",
       "    <tr>\n",
       "      <th>10732</th>\n",
       "      <td>-0.353408</td>\n",
       "      <td>0.231105</td>\n",
       "      <td>0.063963</td>\n",
       "      <td>2.120311</td>\n",
       "      <td>-1.384332</td>\n",
       "      <td>-0.291756</td>\n",
       "      <td>0.072435</td>\n",
       "      <td>0.436627</td>\n",
       "      <td>1.529203</td>\n",
       "    </tr>\n",
       "    <tr>\n",
       "      <th>10733</th>\n",
       "      <td>-0.353408</td>\n",
       "      <td>0.231105</td>\n",
       "      <td>0.063963</td>\n",
       "      <td>2.120311</td>\n",
       "      <td>-1.384332</td>\n",
       "      <td>-0.291756</td>\n",
       "      <td>0.072435</td>\n",
       "      <td>0.436627</td>\n",
       "      <td>1.529203</td>\n",
       "    </tr>\n",
       "    <tr>\n",
       "      <th>10734</th>\n",
       "      <td>-0.353408</td>\n",
       "      <td>0.231105</td>\n",
       "      <td>0.063963</td>\n",
       "      <td>2.120311</td>\n",
       "      <td>-1.384332</td>\n",
       "      <td>-0.291756</td>\n",
       "      <td>0.072435</td>\n",
       "      <td>0.436627</td>\n",
       "      <td>1.529203</td>\n",
       "    </tr>\n",
       "    <tr>\n",
       "      <th>10735</th>\n",
       "      <td>-0.353408</td>\n",
       "      <td>0.231105</td>\n",
       "      <td>0.063963</td>\n",
       "      <td>2.120311</td>\n",
       "      <td>-1.384332</td>\n",
       "      <td>-0.291756</td>\n",
       "      <td>0.072435</td>\n",
       "      <td>0.436627</td>\n",
       "      <td>1.529203</td>\n",
       "    </tr>\n",
       "    <tr>\n",
       "      <th>10736</th>\n",
       "      <td>-0.079297</td>\n",
       "      <td>0.142859</td>\n",
       "      <td>-1.246482</td>\n",
       "      <td>2.553711</td>\n",
       "      <td>-1.801565</td>\n",
       "      <td>-0.034092</td>\n",
       "      <td>0.555065</td>\n",
       "      <td>0.555065</td>\n",
       "      <td>0.555065</td>\n",
       "    </tr>\n",
       "  </tbody>\n",
       "</table>\n",
       "<p>10737 rows × 9 columns</p>\n",
       "</div>"
      ],
      "text/plain": [
       "       var1_ew_mean  var1_ew_std  var1_ew_skew  var1_ew_kurt  var1_ew_min  \\\n",
       "0         -0.348073     0.227617      0.063963      2.120311    -1.384332   \n",
       "1         -0.348073     0.227617      0.063963      2.120311    -1.384332   \n",
       "2         -0.348073     0.227617      0.063963      2.120311    -1.384332   \n",
       "3         -0.348073     0.227617      0.063963      2.120311    -1.384332   \n",
       "4         -0.348073     0.227617      0.063963      2.120311    -1.384332   \n",
       "...             ...          ...           ...           ...          ...   \n",
       "10732     -0.353408     0.231105      0.063963      2.120311    -1.384332   \n",
       "10733     -0.353408     0.231105      0.063963      2.120311    -1.384332   \n",
       "10734     -0.353408     0.231105      0.063963      2.120311    -1.384332   \n",
       "10735     -0.353408     0.231105      0.063963      2.120311    -1.384332   \n",
       "10736     -0.079297     0.142859     -1.246482      2.553711    -1.801565   \n",
       "\n",
       "       var1_ew_1qrt  var1_ew_med  var1_ew_3qrt  var1_ew_max  \n",
       "0         -0.291756     0.072435      0.436627     1.529202  \n",
       "1         -0.291756     0.072435      0.436627     1.529202  \n",
       "2         -0.291756     0.072435      0.436627     1.529202  \n",
       "3         -0.291756     0.072435      0.436627     1.529202  \n",
       "4         -0.291756     0.072435      0.436627     1.529202  \n",
       "...             ...          ...           ...          ...  \n",
       "10732     -0.291756     0.072435      0.436627     1.529203  \n",
       "10733     -0.291756     0.072435      0.436627     1.529203  \n",
       "10734     -0.291756     0.072435      0.436627     1.529203  \n",
       "10735     -0.291756     0.072435      0.436627     1.529203  \n",
       "10736     -0.034092     0.555065      0.555065     0.555065  \n",
       "\n",
       "[10737 rows x 9 columns]"
      ]
     },
     "execution_count": 42,
     "metadata": {},
     "output_type": "execute_result"
    }
   ],
   "source": [
    "# Configuring the EW statistical extractor\n",
    "# decay: A value between 0 and 1. A higher value gives more weight to more recent points.\n",
    "# A decay of 0.9 means each data point has 90% of the weight of the next point in the window.\n",
    "config_ew = EWStatisticalConfig(\n",
    "    window_size=wind.config.window_size, overlap=0.5, decay=0.9\n",
    ")\n",
    "\n",
    "ew_extractor = ExtractEWStatisticalFeatures(config_ew)\n",
    "\n",
    "ew_extractor.is_windowed = True\n",
    "\n",
    "df = ew_extractor(wind(signal[col]))\n",
    "df"
   ]
  },
  {
   "cell_type": "markdown",
   "metadata": {},
   "source": [
    "----"
   ]
  },
  {
   "cell_type": "markdown",
   "metadata": {},
   "source": [
    "## 5.  📊 Exploratory Analysis\n"
   ]
  },
  {
   "cell_type": "markdown",
   "metadata": {},
   "source": [
    "In this section we will explore and visualize some signals from the dataset."
   ]
  },
  {
   "cell_type": "markdown",
   "metadata": {},
   "source": [
    "### 5.1. Visualization Tools Overview"
   ]
  },
  {
   "cell_type": "markdown",
   "metadata": {},
   "source": [
    "The 3WToolkit provides three ready-to-use visualization modules that make it easy to explore time series data:\n",
    "\n",
    "- **`DataVisualization`**: plots a single time series in a clear and straightforward way.  \n",
    "- **`PlotMultipleSeries`**: allows plotting several series together for comparison.  \n",
    "- **`PlotCorrelationHeatmap`**: generates a correlation heatmap, helping to identify relationships between multiple features.\n",
    "\n",
    "In the next sections we will show quick examples of how to use each of these modules.\n"
   ]
  },
  {
   "cell_type": "markdown",
   "metadata": {},
   "source": [
    "#### Selecting an event to plot"
   ]
  },
  {
   "cell_type": "code",
   "execution_count": 43,
   "metadata": {},
   "outputs": [],
   "source": [
    "sig = raw_dataset[123][\"signal\"].copy()"
   ]
  },
  {
   "cell_type": "markdown",
   "metadata": {},
   "source": [
    "#### Single Series Example\n",
    "\n",
    "With `DataVisualization.plot_series` you can quickly visualize one feature over time.  \n",
    "This is useful to understand the overall trend, variation, and gaps (missing values) in a single signal.\n"
   ]
  },
  {
   "cell_type": "code",
   "execution_count": 44,
   "metadata": {},
   "outputs": [
    {
     "name": "stdout",
     "output_type": "stream",
     "text": [
      "DataVisualization: Chart saved to 'D:\\Git\\3WToolkit\\output\\3w_plots\\p-tpt.png'\n"
     ]
    },
    {
     "data": {
      "image/png": "[encoded data removed]",
      "text/plain": [
       "<Figure size 1200x600 with 1 Axes>"
      ]
     },
     "metadata": {},
     "output_type": "display_data"
    }
   ],
   "source": [
    "series = sig[\"P-TPT\"]\n",
    "fig, path = DataVisualization.plot_series(\n",
    "    series=series,\n",
    "    title=\"P-TPT\",\n",
    "    xlabel=\"Timestamp\",\n",
    "    ylabel=\"P-TPT\",\n",
    "    overlay_events=False,\n",
    "    color=\"green\",\n",
    ")\n",
    "\n",
    "plt.show()"
   ]
  },
  {
   "cell_type": "markdown",
   "metadata": {},
   "source": [
    "#### Multiple Series Example\n",
    "\n",
    "With `PlotMultipleSeries.plot_multiple_series` you can display several features on the same plot.  \n",
    "This is helpful when you want to compare signals directly and observe how they evolve together.\n"
   ]
  },
  {
   "cell_type": "code",
   "execution_count": 45,
   "metadata": {},
   "outputs": [
    {
     "name": "stdout",
     "output_type": "stream",
     "text": [
      "DataVisualization: Chart saved to 'D:\\Git\\3WToolkit\\output\\3w_plots\\p-mon-ckp_p-tpt.png'\n"
     ]
    },
    {
     "data": {
      "image/png": "[encoded data removed]",
      "text/plain": [
       "<Figure size 1200x600 with 1 Axes>"
      ]
     },
     "metadata": {},
     "output_type": "display_data"
    }
   ],
   "source": [
    "features = [\"P-MON-CKP\", \"P-TPT\"]\n",
    "series_list = [sig[features[0]], sig[features[1]]]\n",
    "\n",
    "fig = DataVisualization.plot_multiple_series(\n",
    "    series_list=series_list,\n",
    "    labels=features,\n",
    "    title=\"'P-MON-CKP', 'P-TPT'\",\n",
    "    xlabel=\"Timestamp\",\n",
    "    ylabel=\"Value\",\n",
    ")\n",
    "\n",
    "plt.show()"
   ]
  },
  {
   "cell_type": "markdown",
   "metadata": {},
   "source": [
    "#### Correlation Heatmap Example\n",
    "\n",
    "Finally, `PlotCorrelationHeatmap.correlation_heatmap` creates a heatmap of pairwise correlations.  \n",
    "This is a quick way to check which features are strongly related to each other.\n"
   ]
  },
  {
   "cell_type": "code",
   "execution_count": 46,
   "metadata": {},
   "outputs": [
    {
     "name": "stdout",
     "output_type": "stream",
     "text": [
      "DataVisualization: Chart saved to 'D:\\Git\\3WToolkit\\output\\3w_plots\\correlation_heatmap_of_selected_features.png'\n"
     ]
    },
    {
     "data": {
      "image/png": "[encoded data removed]",
      "text/plain": [
       "<Figure size 1000x800 with 2 Axes>"
      ]
     },
     "metadata": {},
     "output_type": "display_data"
    }
   ],
   "source": [
    "features = [\"P-ANULAR\", \"P-JUS-CKGL\", \"P-MON-CKP\", \"P-TPT\", \"T-JUS-CKP\", \"T-TPT\"]\n",
    "subset = sig[features]\n",
    "\n",
    "fig = DataVisualization.correlation_heatmap(\n",
    "    df_of_series=subset, title=\"Correlation Heatmap of Selected Features\"\n",
    ")\n",
    "\n",
    "plt.show()"
   ]
  },
  {
   "cell_type": "markdown",
   "metadata": {},
   "source": [
    "------"
   ]
  },
  {
   "cell_type": "markdown",
   "metadata": {},
   "source": [
    "## 6.  🤖 Model Training and Evaluation"
   ]
  },
  {
   "cell_type": "markdown",
   "metadata": {},
   "source": [
    "## Introduction to Model Training with 3WToolkit\n",
    "\n",
    "In this section, we introduce the process of training models using 3WToolkit, with the 3W dataset. \n",
    "\n",
    "The goal is to demonstrate how to transform raw time series into datasets suitable for supervised trainining, leveraging the toolkit's automation and reproducibility features.\n",
    "\n",
    "The pipeline includes the following main steps:\n",
    "- Loading the 3W dataset.\n",
    "- Segmenting the signals into windows, allowing each window to be treated as an independent sample for the model.\n",
    "- Training the model, using the windows as inputs and the corresponding labels as target.\n",
    "- Evaluating the model performance, by computing quantitative metrics (e.g., Accuracy, Recall, F1-score, etc.) and generating visualizations of predictions versus ground truth."
   ]
  },
  {
   "cell_type": "markdown",
   "metadata": {},
   "source": [
    "First we import the relevant modules and initialize a ParquetDataset instance, defining the target classes 0, 1 and 2. "
   ]
  },
  {
   "cell_type": "code",
   "execution_count": 47,
   "metadata": {},
   "outputs": [],
   "source": [
    "import numpy as np\n",
    "import pandas as pd\n",
    "import matplotlib.pyplot as plt\n",
    "import torch\n",
    "\n",
    "from tqdm import tqdm\n",
    "from pathlib import Path\n",
    "\n",
    "from ThreeWToolkit.preprocessing import Windowing\n",
    "from ThreeWToolkit.trainer.trainer import ModelTrainer, TrainerConfig\n",
    "from ThreeWToolkit.models.mlp import MLPConfig\n",
    "from ThreeWToolkit.dataset import ParquetDataset\n",
    "from ThreeWToolkit.core.base_dataset import ParquetDatasetConfig\n",
    "from ThreeWToolkit.core.base_assessment import ModelAssessmentConfig\n",
    "from ThreeWToolkit.assessment.model_assess import ModelAssessment\n",
    "from ThreeWToolkit.core.enums import TaskType"
   ]
  },
  {
   "cell_type": "markdown",
   "metadata": {},
   "source": [
    "**I. Create a ParquetDataset that loads cleaned data with target classes 0, 1, and 2**"
   ]
  },
  {
   "cell_type": "code",
   "execution_count": 48,
   "metadata": {},
   "outputs": [
    {
     "data": {
      "text/plain": [
       "{'signal':                      ABER-CKGL  ABER-CKP  ESTADO-DHSV  ESTADO-M1  ESTADO-M2  \\\n",
       " timestamp                                                                     \n",
       " 2017-04-24 22:01:56        0.0       0.0     0.867921   0.414652  -0.681653   \n",
       " 2017-04-24 22:01:57        0.0       0.0     0.867921   0.414652  -0.681653   \n",
       " 2017-04-24 22:01:58        0.0       0.0     0.867921   0.414652  -0.681653   \n",
       " 2017-04-24 22:01:59        0.0       0.0     0.867921   0.414652  -0.681653   \n",
       " 2017-04-24 22:02:00        0.0       0.0     0.867921   0.414652  -0.681653   \n",
       " ...                        ...       ...          ...        ...        ...   \n",
       " 2017-04-25 03:59:56        0.0       0.0     0.867921   0.414652  -0.681653   \n",
       " 2017-04-25 03:59:57        0.0       0.0     0.867921   0.414652  -0.681653   \n",
       " 2017-04-25 03:59:58        0.0       0.0     0.867921   0.414652  -0.681653   \n",
       " 2017-04-25 03:59:59        0.0       0.0     0.867921   0.414652  -0.681653   \n",
       " 2017-04-25 04:00:00        0.0       0.0     0.867921   0.414652  -0.681653   \n",
       " \n",
       "                      ESTADO-PXO  ESTADO-SDV-GL  ESTADO-SDV-P  ESTADO-W1  \\\n",
       " timestamp                                                                 \n",
       " 2017-04-24 22:01:56   -0.094347      -1.094009      0.312558   0.650525   \n",
       " 2017-04-24 22:01:57   -0.094347      -1.094009      0.312558   0.650525   \n",
       " 2017-04-24 22:01:58   -0.094347      -1.094009      0.312558   0.650525   \n",
       " 2017-04-24 22:01:59   -0.094347      -1.094009      0.312558   0.650525   \n",
       " 2017-04-24 22:02:00   -0.094347      -1.094009      0.312558   0.650525   \n",
       " ...                         ...            ...           ...        ...   \n",
       " 2017-04-25 03:59:56   -0.094347      -1.094009      0.312558   0.650525   \n",
       " 2017-04-25 03:59:57   -0.094347      -1.094009      0.312558   0.650525   \n",
       " 2017-04-25 03:59:58   -0.094347      -1.094009      0.312558   0.650525   \n",
       " 2017-04-25 03:59:59   -0.094347      -1.094009      0.312558   0.650525   \n",
       " 2017-04-25 04:00:00   -0.094347      -1.094009      0.312558   0.650525   \n",
       " \n",
       "                      ESTADO-W2  ...  P-JUS-CKGL  P-JUS-CKP  P-MON-CKP  P-PDG  \\\n",
       " timestamp                       ...                                            \n",
       " 2017-04-24 22:01:56  -0.563169  ...   -1.049031        0.0   0.844549    0.0   \n",
       " 2017-04-24 22:01:57  -0.563169  ...   -1.049031        0.0   0.844502    0.0   \n",
       " 2017-04-24 22:01:58  -0.563169  ...   -1.049031        0.0   0.844455    0.0   \n",
       " 2017-04-24 22:01:59  -0.563169  ...   -1.049031        0.0   0.844409    0.0   \n",
       " 2017-04-24 22:02:00  -0.563169  ...   -1.049031        0.0   0.844362    0.0   \n",
       " ...                        ...  ...         ...        ...        ...    ...   \n",
       " 2017-04-25 03:59:56  -0.563169  ...   -1.048619        0.0   0.845790    0.0   \n",
       " 2017-04-25 03:59:57  -0.563169  ...   -1.048619        0.0   0.845843    0.0   \n",
       " 2017-04-25 03:59:58  -0.563169  ...   -1.048619        0.0   0.845895    0.0   \n",
       " 2017-04-25 03:59:59  -0.563169  ...   -1.048619        0.0   0.845947    0.0   \n",
       " 2017-04-25 04:00:00  -0.563169  ...   -1.048619        0.0   0.845999    0.0   \n",
       " \n",
       "                         P-TPT       QGL  T-JUS-CKP  T-MON-CKP  T-PDG     T-TPT  \n",
       " timestamp                                                                       \n",
       " 2017-04-24 22:01:56  0.042271 -0.846093  -0.010565        0.0    0.0  0.645029  \n",
       " 2017-04-24 22:01:57  0.042262 -0.846093  -0.010550        0.0    0.0  0.645029  \n",
       " 2017-04-24 22:01:58  0.042254 -0.846093  -0.010533        0.0    0.0  0.645029  \n",
       " 2017-04-24 22:01:59  0.042247 -0.846093  -0.010517        0.0    0.0  0.645029  \n",
       " 2017-04-24 22:02:00  0.042238 -0.846093  -0.010501        0.0    0.0  0.645029  \n",
       " ...                       ...       ...        ...        ...    ...       ...  \n",
       " 2017-04-25 03:59:56  0.036765 -0.846093   0.004607        0.0    0.0  0.641446  \n",
       " 2017-04-25 03:59:57  0.036746 -0.846093   0.004455        0.0    0.0  0.641446  \n",
       " 2017-04-25 03:59:58  0.036729 -0.846093   0.004303        0.0    0.0  0.641443  \n",
       " 2017-04-25 03:59:59  0.036710 -0.846093   0.004150        0.0    0.0  0.641439  \n",
       " 2017-04-25 04:00:00  0.036693 -0.846093   0.003998        0.0    0.0  0.641436  \n",
       " \n",
       " [21485 rows x 22 columns],\n",
       " 'label':                      class\n",
       " timestamp                 \n",
       " 2017-04-24 22:01:56      0\n",
       " 2017-04-24 22:01:57      0\n",
       " 2017-04-24 22:01:58      0\n",
       " 2017-04-24 22:01:59      0\n",
       " 2017-04-24 22:02:00      0\n",
       " ...                    ...\n",
       " 2017-04-25 03:59:56      0\n",
       " 2017-04-25 03:59:57      0\n",
       " 2017-04-25 03:59:58      0\n",
       " 2017-04-25 03:59:59      0\n",
       " 2017-04-25 04:00:00      0\n",
       " \n",
       " [21485 rows x 1 columns],\n",
       " 'file_name': WindowsPath('0/WELL-00001_20170424220156.parquet')}"
      ]
     },
     "execution_count": 48,
     "metadata": {},
     "output_type": "execute_result"
    }
   ],
   "source": [
    "ds_config = ParquetDatasetConfig(\n",
    "    path=dataset_path, clean_data=True, download=False, target_class=[0, 1, 2]\n",
    ")\n",
    "ds = ParquetDataset(ds_config)\n",
    "ds[19]"
   ]
  },
  {
   "cell_type": "markdown",
   "metadata": {},
   "source": [
    "**II. Instantiating configuration classes for the MLP model, Training parameters, and Evaluation parameters.**"
   ]
  },
  {
   "cell_type": "markdown",
   "metadata": {},
   "source": [
    "With the ParquetDataset instance defined, we can set the parameters for the MLP model using the MLPConfig object. These parameters will be combined with the TrainerConfig and managed through the ModelTrainer, which encapsulates the training workflow.\n",
    "\n",
    "The defined worflow control most relevant parameters that will be used for training of a model. \n",
    "\n",
    "Finally, the ModelTrainer is instantiated with the training configuration, while the ModelAssessment object prepares the evaluation pipeline. The model architecture can be visualized by printing the `trainer.model`."
   ]
  },
  {
   "cell_type": "code",
   "execution_count": 49,
   "metadata": {},
   "outputs": [
    {
     "name": "stdout",
     "output_type": "stream",
     "text": [
      "MLP(\n",
      "  (activation_func): ReLU()\n",
      "  (model): Sequential(\n",
      "    (0): Linear(in_features=100, out_features=32, bias=True)\n",
      "    (1): ReLU()\n",
      "    (2): Linear(in_features=32, out_features=16, bias=True)\n",
      "    (3): ReLU()\n",
      "    (4): Linear(in_features=16, out_features=3, bias=True)\n",
      "  )\n",
      ")\n"
     ]
    }
   ],
   "source": [
    "window_size = 100\n",
    "mlp_config = MLPConfig(\n",
    "    input_size=window_size,\n",
    "    hidden_sizes=(32, 16),\n",
    "    output_size=3,\n",
    "    random_seed=11,\n",
    "    activation_function=\"relu\",\n",
    "    regularization=None,\n",
    ")\n",
    "\n",
    "trainer_config = TrainerConfig(\n",
    "    optimizer=\"adam\",\n",
    "    criterion=\"cross_entropy\",\n",
    "    batch_size=32,\n",
    "    epochs=20,\n",
    "    seed=11,\n",
    "    config_model=mlp_config,\n",
    "    learning_rate=0.001,\n",
    "    device=\"cuda\" if torch.cuda.is_available() else \"cpu\",\n",
    "    cross_validation=False,\n",
    "    shuffle_train=True,\n",
    ")\n",
    "\n",
    "assessment_config = ModelAssessmentConfig(\n",
    "    metrics=[\"balanced_accuracy\", \"precision\", \"recall\", \"f1\"],\n",
    "    task_type=TaskType.CLASSIFICATION,\n",
    "    class_names=[\"Class_A\", \"Class_B\", \"Class_C\"],\n",
    "    export_results=True,\n",
    "    generate_report=False,\n",
    ")\n",
    "\n",
    "trainer = ModelTrainer(trainer_config)\n",
    "assessor = ModelAssessment(assessment_config)\n",
    "print(trainer.model)\n"
   ]
  },
  {
   "cell_type": "markdown",
   "metadata": {},
   "source": [
    "**III. Preprocessing the data**"
   ]
  },
  {
   "cell_type": "markdown",
   "metadata": {},
   "source": [
    "The next step is to iterate over a dataset of time series events, applying a windowing function to a selected signal column, in this case \"T-TPT\".\n",
    "\n",
    " All windowed segments from all events are then concatenated into a single DataFrame (dfs_final). This prepares the data for supervised training, where each row represents a windowed segment with its corresponding class label."
   ]
  },
  {
   "cell_type": "code",
   "execution_count": 50,
   "metadata": {},
   "outputs": [
    {
     "name": "stderr",
     "output_type": "stream",
     "text": [
      "100%|██████████| 760/760 [00:36<00:00, 20.81it/s]\n"
     ]
    }
   ],
   "source": [
    "# Select target columns and prepare training data with windowing\n",
    "selected_col = \"T-TPT\"\n",
    "x_train = []\n",
    "y_train = []\n",
    "dfs = []\n",
    "\n",
    "wind = Windowing(WindowingConfig(window=\"hann\",\n",
    "        window_size=window_size,\n",
    "        overlap=0.5,\n",
    "        pad_last_window=True))\n",
    "\n",
    "for event in tqdm(ds):\n",
    "    windowed_signal = wind(\n",
    "        event[\"signal\"][selected_col]\n",
    "    )\n",
    "    windowed_signal.drop(columns=[\"win\"], inplace=True)\n",
    "    windowed_signal[\"label\"] = np.unique(event[\"label\"][\"class\"])[0]\n",
    "    dfs.append(windowed_signal)\n",
    "dfs_final = pd.concat(dfs, ignore_index=True, axis=0)"
   ]
  },
  {
   "cell_type": "markdown",
   "metadata": {},
   "source": [
    "**IV. Training**"
   ]
  },
  {
   "cell_type": "markdown",
   "metadata": {},
   "source": [
    "Finally we can call the train function using the trainer object. "
   ]
  },
  {
   "cell_type": "code",
   "execution_count": 51,
   "metadata": {},
   "outputs": [
    {
     "data": {
      "application/vnd.jupyter.widget-view+json": {
       "model_id": "4b1ab2938e5d4664a6467d4362cf1b94",
       "version_major": 2,
       "version_minor": 0
      },
      "text/plain": [
       "[Pipeline] Training:   0%|          | 0/20 [00:00<?, ?epoch/s]"
      ]
     },
     "metadata": {},
     "output_type": "display_data"
    }
   ],
   "source": [
    "# Train the MLP model using the ModelTrainer interface\n",
    "trainer.train(x_train=dfs_final.iloc[:, :-1], y_train=dfs_final[\"label\"].astype(int))"
   ]
  },
  {
   "cell_type": "markdown",
   "metadata": {},
   "source": [
    "**V. Assessment**"
   ]
  },
  {
   "cell_type": "markdown",
   "metadata": {},
   "source": [
    "The trainer class allows direct evaluation of the trained model using the `assess` method, which returns a dictionary containing performance metrics and evaluation parameters."
   ]
  },
  {
   "cell_type": "code",
   "execution_count": 52,
   "metadata": {},
   "outputs": [
    {
     "name": "stdout",
     "output_type": "stream",
     "text": [
      "Results exported to D:\\Git\\3WToolkit\\output\n",
      "Model Assessment Summary\n",
      "========================\n",
      "Model: MLP\n",
      "Task Type: classification\n",
      "Timestamp: 2025-09-30T20:35:19.212517\n",
      "\n",
      "Metrics:\n",
      "  balanced_accuracy: 0.9449\n",
      "  precision: 0.9689\n",
      "  recall: 0.9679\n",
      "  f1: 0.9677\n"
     ]
    },
    {
     "data": {
      "text/plain": [
       "{'model_name': 'MLP',\n",
       " 'task_type': <TaskType.CLASSIFICATION: 'classification'>,\n",
       " 'predictions': array([0, 0, 0, ..., 2, 2, 2], dtype=int64),\n",
       " 'true_values': array([0, 0, 0, ..., 2, 2, 2]),\n",
       " 'X_test': array([[ 0.        ,  0.00071654,  0.00286333, ...,  0.00643203,\n",
       "          0.00286339,  0.00071655],\n",
       "        [ 0.        ,  0.00071655,  0.00286336, ...,  0.00643208,\n",
       "          0.00286341,  0.00071656],\n",
       "        [ 0.        ,  0.00071655,  0.00286339, ...,  0.00643214,\n",
       "          0.00286345,  0.00071657],\n",
       "        ...,\n",
       "        [-0.        , -0.00285468, -0.01140765, ..., -0.02565491,\n",
       "         -0.01142114, -0.00285815],\n",
       "        [-0.        , -0.00285712, -0.01141741, ...,  0.        ,\n",
       "          0.        ,  0.        ],\n",
       "        [-0.        , -0.00285824, -0.01142185, ...,  0.        ,\n",
       "          0.        ,  0.        ]]),\n",
       " 'metrics': {'balanced_accuracy': 0.9448748031054208,\n",
       "  'precision': 0.9688708007867499,\n",
       "  'recall': 0.9678646367938668,\n",
       "  'f1': 0.9676737822550645},\n",
       " 'config': {'metrics': ['balanced_accuracy', 'precision', 'recall', 'f1'],\n",
       "  'output_dir': WindowsPath('D:/Git/3WToolkit/output'),\n",
       "  'export_results': True,\n",
       "  'generate_report': False,\n",
       "  'task_type': <TaskType.CLASSIFICATION: 'classification'>,\n",
       "  'batch_size': 64,\n",
       "  'device': 'cuda',\n",
       "  'report_title': None,\n",
       "  'report_author': '3W Toolkit Report'},\n",
       " 'timestamp': '2025-09-30T20:35:19.212517'}"
      ]
     },
     "execution_count": 52,
     "metadata": {},
     "output_type": "execute_result"
    }
   ],
   "source": [
    "trainer.assess(\n",
    "    dfs_final.iloc[:, :-1], dfs_final[\"label\"].astype(int), assessment_config\n",
    ")"
   ]
  },
  {
   "cell_type": "markdown",
   "metadata": {},
   "source": [
    "**Another option, and the most recommended one, is to use the `ModelAssessment` class to perform the evaluation of the results.**"
   ]
  },
  {
   "cell_type": "code",
   "execution_count": 53,
   "metadata": {},
   "outputs": [
    {
     "name": "stdout",
     "output_type": "stream",
     "text": [
      "Results exported to D:\\Git\\3WToolkit\\output\n",
      "Model Assessment Summary\n",
      "========================\n",
      "Model: MLP\n",
      "Task Type: classification\n",
      "Timestamp: 2025-09-30T20:35:29.645738\n",
      "\n",
      "Metrics:\n",
      "  balanced_accuracy: 0.9449\n",
      "  precision: 0.9689\n",
      "  recall: 0.9679\n",
      "  f1: 0.9677\n"
     ]
    },
    {
     "data": {
      "text/plain": [
       "{'model_name': 'MLP',\n",
       " 'task_type': <TaskType.CLASSIFICATION: 'classification'>,\n",
       " 'predictions': array([0, 0, 0, ..., 2, 2, 2], dtype=int64),\n",
       " 'true_values': array([0, 0, 0, ..., 2, 2, 2]),\n",
       " 'X_test': array([[ 0.        ,  0.00071654,  0.00286333, ...,  0.00643203,\n",
       "          0.00286339,  0.00071655],\n",
       "        [ 0.        ,  0.00071655,  0.00286336, ...,  0.00643208,\n",
       "          0.00286341,  0.00071656],\n",
       "        [ 0.        ,  0.00071655,  0.00286339, ...,  0.00643214,\n",
       "          0.00286345,  0.00071657],\n",
       "        ...,\n",
       "        [-0.        , -0.00285468, -0.01140765, ..., -0.02565491,\n",
       "         -0.01142114, -0.00285815],\n",
       "        [-0.        , -0.00285712, -0.01141741, ...,  0.        ,\n",
       "          0.        ,  0.        ],\n",
       "        [-0.        , -0.00285824, -0.01142185, ...,  0.        ,\n",
       "          0.        ,  0.        ]]),\n",
       " 'metrics': {'balanced_accuracy': 0.9448748031054208,\n",
       "  'precision': 0.9688708007867499,\n",
       "  'recall': 0.9678646367938668,\n",
       "  'f1': 0.9676737822550645},\n",
       " 'config': {'metrics': ['balanced_accuracy', 'precision', 'recall', 'f1'],\n",
       "  'output_dir': WindowsPath('D:/Git/3WToolkit/output'),\n",
       "  'export_results': True,\n",
       "  'generate_report': False,\n",
       "  'task_type': <TaskType.CLASSIFICATION: 'classification'>,\n",
       "  'batch_size': 64,\n",
       "  'device': 'cuda',\n",
       "  'report_title': None,\n",
       "  'report_author': '3W Toolkit Report'},\n",
       " 'timestamp': '2025-09-30T20:35:29.645738'}"
      ]
     },
     "execution_count": 53,
     "metadata": {},
     "output_type": "execute_result"
    }
   ],
   "source": [
    "assessor.evaluate(trainer.model, dfs_final.iloc[:, :-1], dfs_final[\"label\"].astype(int))"
   ]
  },
  {
   "cell_type": "markdown",
   "metadata": {},
   "source": [
    "Retrieving aggregated metrics"
   ]
  },
  {
   "cell_type": "code",
   "execution_count": 54,
   "metadata": {},
   "outputs": [
    {
     "name": "stdout",
     "output_type": "stream",
     "text": [
      "Model Assessment Summary\n",
      "========================\n",
      "Model: MLP\n",
      "Task Type: classification\n",
      "Timestamp: 2025-09-30T20:35:29.645738\n",
      "\n",
      "Metrics:\n",
      "  balanced_accuracy: 0.9449\n",
      "  precision: 0.9689\n",
      "  recall: 0.9679\n",
      "  f1: 0.9677\n"
     ]
    }
   ],
   "source": [
    "print(assessor.summary())"
   ]
  },
  {
   "cell_type": "markdown",
   "metadata": {},
   "source": [
    "The trainer object also collects a history of validation and training loss that can be visualized after the training is completed. "
   ]
  },
  {
   "cell_type": "code",
   "execution_count": 55,
   "metadata": {},
   "outputs": [
    {
     "data": {
      "image/png": "[encoded data removed]",
      "text/plain": [
       "<Figure size 1000x500 with 1 Axes>"
      ]
     },
     "metadata": {},
     "output_type": "display_data"
    }
   ],
   "source": [
    "# Visualize training history\n",
    "plt.figure(figsize=(10, 5))\n",
    "plt.plot(trainer.history[0][\"val_loss\"], label=\"Val Loss\")\n",
    "plt.plot(trainer.history[0][\"train_loss\"], label=\"Train Loss\")\n",
    "\n",
    "plt.title(\"Training and Validation Loss\")\n",
    "plt.xlabel(\"Epoch\")\n",
    "plt.ylabel(\"Loss\")\n",
    "plt.legend()\n",
    "\n",
    "plt.show()"
   ]
  },
  {
   "cell_type": "markdown",
   "metadata": {},
   "source": [
    "## 7. 🔗 Pipeline Integration"
   ]
  },
  {
   "cell_type": "markdown",
   "metadata": {},
   "source": [
    "The ``Pipeline`` class provides a powerful way to chain together all the steps of your machine learning workflow in a single, cohesive structure. This approach ensures reproducibility, reduces boilerplate code, and makes it easier to experiment with different configurations.\n",
    "\n",
    "The Pipeline in 3WToolkit v2.0.0 follows a sequential execution model where each step processes the data and passes it to the next stage. The pipeline automatically handles data transformations between steps, ensuring compatibility and proper data flow."
   ]
  },
  {
   "cell_type": "markdown",
   "metadata": {},
   "source": [
    "________"
   ]
  },
  {
   "cell_type": "markdown",
   "metadata": {},
   "source": [
    "**Pipeline Execution Flow:**"
   ]
  },
  {
   "cell_type": "markdown",
   "metadata": {},
   "source": [
    "```markdown\n",
    "Dataset Loading → Preprocessing → Feature Extraction → Model Training → Model Assessment\n",
    "```"
   ]
  },
  {
   "cell_type": "markdown",
   "metadata": {},
   "source": [
    "Each component in the pipeline is configured using its respective configuration class, which encapsulates all the parameters needed for that specific step."
   ]
  },
  {
   "cell_type": "markdown",
   "metadata": {},
   "source": [
    "______"
   ]
  },
  {
   "cell_type": "markdown",
   "metadata": {},
   "source": [
    "### 7.1. Creating a Basic Pipeline"
   ]
  },
  {
   "cell_type": "markdown",
   "metadata": {},
   "source": [
    "To create a pipeline, you'll need to import the necessary configuration classes and the `Pipeline` class itself:"
   ]
  },
  {
   "cell_type": "code",
   "execution_count": 56,
   "metadata": {},
   "outputs": [],
   "source": [
    "import matplotlib.pyplot as plt\n",
    "\n",
    "from ThreeWToolkit.pipeline import Pipeline\n",
    "from ThreeWToolkit.core.base_dataset import ParquetDatasetConfig\n",
    "from ThreeWToolkit.core.base_preprocessing import (\n",
    "    ImputeMissingConfig,\n",
    "    NormalizeConfig,\n",
    "    WindowingConfig,\n",
    ")\n",
    "from ThreeWToolkit.core.base_feature_extractor import (\n",
    "    StatisticalConfig,\n",
    "    WaveletConfig,\n",
    "    EWStatisticalConfig,\n",
    ")\n",
    "from ThreeWToolkit.core.base_assessment import ModelAssessmentConfig\n",
    "from ThreeWToolkit.core.enums import TaskType\n",
    "from ThreeWToolkit.models.mlp import MLPConfig\n",
    "from ThreeWToolkit.trainer.trainer import TrainerConfig"
   ]
  },
  {
   "cell_type": "markdown",
   "metadata": {},
   "source": [
    "Now let's create a simple pipeline:"
   ]
  },
  {
   "cell_type": "code",
   "execution_count": 57,
   "metadata": {},
   "outputs": [
    {
     "name": "stdout",
     "output_type": "stream",
     "text": [
      ">> ['T-JUS-CKP', 'T-MON-CKP']\n"
     ]
    },
    {
     "data": {
      "application/vnd.jupyter.widget-view+json": {
       "model_id": "277dd62801df4bd89f4b08c084c1b8d3",
       "version_major": 2,
       "version_minor": 0
      },
      "text/plain": [
       "[Pipeline] Processing batches:   0%|          | 0/722 [00:00<?, ?file/s]"
      ]
     },
     "metadata": {},
     "output_type": "display_data"
    },
    {
     "data": {
      "application/vnd.jupyter.widget-view+json": {
       "model_id": "4ee95b3a0ab54398afb987d038489481",
       "version_major": 2,
       "version_minor": 0
      },
      "text/plain": [
       "[Pipeline] Preprocessing steps:   0%|          | 0/3 [00:00<?, ?step/s]"
      ]
     },
     "metadata": {},
     "output_type": "display_data"
    },
    {
     "data": {
      "application/vnd.jupyter.widget-view+json": {
       "model_id": "2ab106c4fd3a4712b0d1459c7dd2d611",
       "version_major": 2,
       "version_minor": 0
      },
      "text/plain": [
       "[Pipeline] Preprocessing steps:   0%|          | 0/3 [00:00<?, ?step/s]"
      ]
     },
     "metadata": {},
     "output_type": "display_data"
    },
    {
     "data": {
      "application/vnd.jupyter.widget-view+json": {
       "model_id": "17f7a4e14ce543daa81d23fa88789af4",
       "version_major": 2,
       "version_minor": 0
      },
      "text/plain": [
       "[Pipeline] Preprocessing steps:   0%|          | 0/3 [00:00<?, ?step/s]"
      ]
     },
     "metadata": {},
     "output_type": "display_data"
    },
    {
     "data": {
      "application/vnd.jupyter.widget-view+json": {
       "model_id": "4f1c29d4ca094a559d7ff59534f7d8be",
       "version_major": 2,
       "version_minor": 0
      },
      "text/plain": [
       "[Pipeline] Preprocessing steps:   0%|          | 0/3 [00:00<?, ?step/s]"
      ]
     },
     "metadata": {},
     "output_type": "display_data"
    },
    {
     "data": {
      "application/vnd.jupyter.widget-view+json": {
       "model_id": "3c47f6f4ddbc4cf387aa46f9b4f09c45",
       "version_major": 2,
       "version_minor": 0
      },
      "text/plain": [
       "[Pipeline] Preprocessing steps:   0%|          | 0/3 [00:00<?, ?step/s]"
      ]
     },
     "metadata": {},
     "output_type": "display_data"
    },
    {
     "data": {
      "application/vnd.jupyter.widget-view+json": {
       "model_id": "802ed0ae98f3454783293934613e014f",
       "version_major": 2,
       "version_minor": 0
      },
      "text/plain": [
       "[Pipeline] Preprocessing steps:   0%|          | 0/3 [00:00<?, ?step/s]"
      ]
     },
     "metadata": {},
     "output_type": "display_data"
    },
    {
     "data": {
      "application/vnd.jupyter.widget-view+json": {
       "model_id": "ebf69de6186a462b9b36a62feab0dbc6",
       "version_major": 2,
       "version_minor": 0
      },
      "text/plain": [
       "[Pipeline] Preprocessing steps:   0%|          | 0/3 [00:00<?, ?step/s]"
      ]
     },
     "metadata": {},
     "output_type": "display_data"
    },
    {
     "data": {
      "application/vnd.jupyter.widget-view+json": {
       "model_id": "52cfd9eb9271495bbe53e8407ac831bd",
       "version_major": 2,
       "version_minor": 0
      },
      "text/plain": [
       "[Pipeline] Preprocessing steps:   0%|          | 0/3 [00:00<?, ?step/s]"
      ]
     },
     "metadata": {},
     "output_type": "display_data"
    },
    {
     "data": {
      "application/vnd.jupyter.widget-view+json": {
       "model_id": "d878aae093b949d38dfafaaf74f9b35a",
       "version_major": 2,
       "version_minor": 0
      },
      "text/plain": [
       "[Pipeline] Preprocessing steps:   0%|          | 0/3 [00:00<?, ?step/s]"
      ]
     },
     "metadata": {},
     "output_type": "display_data"
    },
    {
     "data": {
      "application/vnd.jupyter.widget-view+json": {
       "model_id": "69ad8128c3a74ffeb1a76377a0e0d403",
       "version_major": 2,
       "version_minor": 0
      },
      "text/plain": [
       "[Pipeline] Preprocessing steps:   0%|          | 0/3 [00:00<?, ?step/s]"
      ]
     },
     "metadata": {},
     "output_type": "display_data"
    },
    {
     "data": {
      "application/vnd.jupyter.widget-view+json": {
       "model_id": "ee1fa0704a6241c3a5e237df1d11c62a",
       "version_major": 2,
       "version_minor": 0
      },
      "text/plain": [
       "[Pipeline] Preprocessing steps:   0%|          | 0/3 [00:00<?, ?step/s]"
      ]
     },
     "metadata": {},
     "output_type": "display_data"
    },
    {
     "data": {
      "application/vnd.jupyter.widget-view+json": {
       "model_id": "2e82098c279b41159371e030e93fea4d",
       "version_major": 2,
       "version_minor": 0
      },
      "text/plain": [
       "[Pipeline] Preprocessing steps:   0%|          | 0/3 [00:00<?, ?step/s]"
      ]
     },
     "metadata": {},
     "output_type": "display_data"
    },
    {
     "data": {
      "application/vnd.jupyter.widget-view+json": {
       "model_id": "569841b560f7488687b83d75530c2b08",
       "version_major": 2,
       "version_minor": 0
      },
      "text/plain": [
       "[Pipeline] Preprocessing steps:   0%|          | 0/3 [00:00<?, ?step/s]"
      ]
     },
     "metadata": {},
     "output_type": "display_data"
    },
    {
     "data": {
      "application/vnd.jupyter.widget-view+json": {
       "model_id": "084bd50a89d449cba425849102f6219b",
       "version_major": 2,
       "version_minor": 0
      },
      "text/plain": [
       "[Pipeline] Preprocessing steps:   0%|          | 0/3 [00:00<?, ?step/s]"
      ]
     },
     "metadata": {},
     "output_type": "display_data"
    },
    {
     "data": {
      "application/vnd.jupyter.widget-view+json": {
       "model_id": "cb91a47f4ea2424da16861973b292ea1",
       "version_major": 2,
       "version_minor": 0
      },
      "text/plain": [
       "[Pipeline] Preprocessing steps:   0%|          | 0/3 [00:00<?, ?step/s]"
      ]
     },
     "metadata": {},
     "output_type": "display_data"
    },
    {
     "data": {
      "application/vnd.jupyter.widget-view+json": {
       "model_id": "301ae1b834a4449fb7aeb9d3cc5d8f55",
       "version_major": 2,
       "version_minor": 0
      },
      "text/plain": [
       "[Pipeline] Preprocessing steps:   0%|          | 0/3 [00:00<?, ?step/s]"
      ]
     },
     "metadata": {},
     "output_type": "display_data"
    },
    {
     "data": {
      "application/vnd.jupyter.widget-view+json": {
       "model_id": "3c6d5b5e0bf5464783e50ed26b46a94d",
       "version_major": 2,
       "version_minor": 0
      },
      "text/plain": [
       "[Pipeline] Preprocessing steps:   0%|          | 0/3 [00:00<?, ?step/s]"
      ]
     },
     "metadata": {},
     "output_type": "display_data"
    },
    {
     "data": {
      "application/vnd.jupyter.widget-view+json": {
       "model_id": "a60045d78111481b9dea637082897da1",
       "version_major": 2,
       "version_minor": 0
      },
      "text/plain": [
       "[Pipeline] Preprocessing steps:   0%|          | 0/3 [00:00<?, ?step/s]"
      ]
     },
     "metadata": {},
     "output_type": "display_data"
    },
    {
     "data": {
      "application/vnd.jupyter.widget-view+json": {
       "model_id": "dd4b7623c0414cf599d8098ec2d34709",
       "version_major": 2,
       "version_minor": 0
      },
      "text/plain": [
       "[Pipeline] Preprocessing steps:   0%|          | 0/3 [00:00<?, ?step/s]"
      ]
     },
     "metadata": {},
     "output_type": "display_data"
    },
    {
     "data": {
      "application/vnd.jupyter.widget-view+json": {
       "model_id": "ed87f47b50294394963a1faa6542be52",
       "version_major": 2,
       "version_minor": 0
      },
      "text/plain": [
       "[Pipeline] Preprocessing steps:   0%|          | 0/3 [00:00<?, ?step/s]"
      ]
     },
     "metadata": {},
     "output_type": "display_data"
    },
    {
     "data": {
      "application/vnd.jupyter.widget-view+json": {
       "model_id": "600fa6deaab344458326ba5f1bb52624",
       "version_major": 2,
       "version_minor": 0
      },
      "text/plain": [
       "[Pipeline] Preprocessing steps:   0%|          | 0/3 [00:00<?, ?step/s]"
      ]
     },
     "metadata": {},
     "output_type": "display_data"
    },
    {
     "data": {
      "application/vnd.jupyter.widget-view+json": {
       "model_id": "a8f6a96993da440b86ce839ccaeed7da",
       "version_major": 2,
       "version_minor": 0
      },
      "text/plain": [
       "[Pipeline] Preprocessing steps:   0%|          | 0/3 [00:00<?, ?step/s]"
      ]
     },
     "metadata": {},
     "output_type": "display_data"
    },
    {
     "data": {
      "application/vnd.jupyter.widget-view+json": {
       "model_id": "e66005af80a0456fb9f0d43ea1ab85e5",
       "version_major": 2,
       "version_minor": 0
      },
      "text/plain": [
       "[Pipeline] Preprocessing steps:   0%|          | 0/3 [00:00<?, ?step/s]"
      ]
     },
     "metadata": {},
     "output_type": "display_data"
    },
    {
     "data": {
      "application/vnd.jupyter.widget-view+json": {
       "model_id": "ea233b19105d4915a2c7c9c4d1bee2e7",
       "version_major": 2,
       "version_minor": 0
      },
      "text/plain": [
       "[Pipeline] Preprocessing steps:   0%|          | 0/3 [00:00<?, ?step/s]"
      ]
     },
     "metadata": {},
     "output_type": "display_data"
    },
    {
     "data": {
      "application/vnd.jupyter.widget-view+json": {
       "model_id": "2a46d9de27314b4db75c002dce19bbf1",
       "version_major": 2,
       "version_minor": 0
      },
      "text/plain": [
       "[Pipeline] Preprocessing steps:   0%|          | 0/3 [00:00<?, ?step/s]"
      ]
     },
     "metadata": {},
     "output_type": "display_data"
    },
    {
     "data": {
      "application/vnd.jupyter.widget-view+json": {
       "model_id": "c493e424b394479095f4465a57d7d7d0",
       "version_major": 2,
       "version_minor": 0
      },
      "text/plain": [
       "[Pipeline] Preprocessing steps:   0%|          | 0/3 [00:00<?, ?step/s]"
      ]
     },
     "metadata": {},
     "output_type": "display_data"
    },
    {
     "data": {
      "application/vnd.jupyter.widget-view+json": {
       "model_id": "18fe467e8c3e425fa685c0a81bc5269c",
       "version_major": 2,
       "version_minor": 0
      },
      "text/plain": [
       "[Pipeline] Preprocessing steps:   0%|          | 0/3 [00:00<?, ?step/s]"
      ]
     },
     "metadata": {},
     "output_type": "display_data"
    },
    {
     "data": {
      "application/vnd.jupyter.widget-view+json": {
       "model_id": "c6af6743052647a78fa659a0252ed3ee",
       "version_major": 2,
       "version_minor": 0
      },
      "text/plain": [
       "[Pipeline] Preprocessing steps:   0%|          | 0/3 [00:00<?, ?step/s]"
      ]
     },
     "metadata": {},
     "output_type": "display_data"
    },
    {
     "data": {
      "application/vnd.jupyter.widget-view+json": {
       "model_id": "06ca0fb016964e2aa484a745078c531a",
       "version_major": 2,
       "version_minor": 0
      },
      "text/plain": [
       "[Pipeline] Preprocessing steps:   0%|          | 0/3 [00:00<?, ?step/s]"
      ]
     },
     "metadata": {},
     "output_type": "display_data"
    },
    {
     "data": {
      "application/vnd.jupyter.widget-view+json": {
       "model_id": "d9e546c5a8c94f06b95a257876ab770d",
       "version_major": 2,
       "version_minor": 0
      },
      "text/plain": [
       "[Pipeline] Preprocessing steps:   0%|          | 0/3 [00:00<?, ?step/s]"
      ]
     },
     "metadata": {},
     "output_type": "display_data"
    },
    {
     "data": {
      "application/vnd.jupyter.widget-view+json": {
       "model_id": "529f87999a6a4e3391e9ad7633c0a9df",
       "version_major": 2,
       "version_minor": 0
      },
      "text/plain": [
       "[Pipeline] Preprocessing steps:   0%|          | 0/3 [00:00<?, ?step/s]"
      ]
     },
     "metadata": {},
     "output_type": "display_data"
    },
    {
     "data": {
      "application/vnd.jupyter.widget-view+json": {
       "model_id": "578a23aa7c3f46b5ad60d1085b143644",
       "version_major": 2,
       "version_minor": 0
      },
      "text/plain": [
       "[Pipeline] Preprocessing steps:   0%|          | 0/3 [00:00<?, ?step/s]"
      ]
     },
     "metadata": {},
     "output_type": "display_data"
    },
    {
     "data": {
      "application/vnd.jupyter.widget-view+json": {
       "model_id": "6c2819df755f4ad09432f997fdeec4fa",
       "version_major": 2,
       "version_minor": 0
      },
      "text/plain": [
       "[Pipeline] Preprocessing steps:   0%|          | 0/3 [00:00<?, ?step/s]"
      ]
     },
     "metadata": {},
     "output_type": "display_data"
    },
    {
     "data": {
      "application/vnd.jupyter.widget-view+json": {
       "model_id": "64a23d5f8c9d40288e718c2537016919",
       "version_major": 2,
       "version_minor": 0
      },
      "text/plain": [
       "[Pipeline] Preprocessing steps:   0%|          | 0/3 [00:00<?, ?step/s]"
      ]
     },
     "metadata": {},
     "output_type": "display_data"
    },
    {
     "data": {
      "application/vnd.jupyter.widget-view+json": {
       "model_id": "07a73547812347a1aaa31b84dd382e0a",
       "version_major": 2,
       "version_minor": 0
      },
      "text/plain": [
       "[Pipeline] Preprocessing steps:   0%|          | 0/3 [00:00<?, ?step/s]"
      ]
     },
     "metadata": {},
     "output_type": "display_data"
    },
    {
     "data": {
      "application/vnd.jupyter.widget-view+json": {
       "model_id": "fd2a3b9c001a446f99f070438562427a",
       "version_major": 2,
       "version_minor": 0
      },
      "text/plain": [
       "[Pipeline] Preprocessing steps:   0%|          | 0/3 [00:00<?, ?step/s]"
      ]
     },
     "metadata": {},
     "output_type": "display_data"
    },
    {
     "data": {
      "application/vnd.jupyter.widget-view+json": {
       "model_id": "c3ca596966884c7797c4bceaeaaa0a3f",
       "version_major": 2,
       "version_minor": 0
      },
      "text/plain": [
       "[Pipeline] Preprocessing steps:   0%|          | 0/3 [00:00<?, ?step/s]"
      ]
     },
     "metadata": {},
     "output_type": "display_data"
    },
    {
     "data": {
      "application/vnd.jupyter.widget-view+json": {
       "model_id": "e585a3ab5a67469c80e627f766bf8c52",
       "version_major": 2,
       "version_minor": 0
      },
      "text/plain": [
       "[Pipeline] Preprocessing steps:   0%|          | 0/3 [00:00<?, ?step/s]"
      ]
     },
     "metadata": {},
     "output_type": "display_data"
    },
    {
     "data": {
      "application/vnd.jupyter.widget-view+json": {
       "model_id": "0b7c206270d34e2cbc1d3f06bbe9f49f",
       "version_major": 2,
       "version_minor": 0
      },
      "text/plain": [
       "[Pipeline] Preprocessing steps:   0%|          | 0/3 [00:00<?, ?step/s]"
      ]
     },
     "metadata": {},
     "output_type": "display_data"
    },
    {
     "data": {
      "application/vnd.jupyter.widget-view+json": {
       "model_id": "8dff398120f8434b84e561bca58ca27d",
       "version_major": 2,
       "version_minor": 0
      },
      "text/plain": [
       "[Pipeline] Preprocessing steps:   0%|          | 0/3 [00:00<?, ?step/s]"
      ]
     },
     "metadata": {},
     "output_type": "display_data"
    },
    {
     "data": {
      "application/vnd.jupyter.widget-view+json": {
       "model_id": "603d8ea5b6b44e7e866ead90932371c6",
       "version_major": 2,
       "version_minor": 0
      },
      "text/plain": [
       "[Pipeline] Preprocessing steps:   0%|          | 0/3 [00:00<?, ?step/s]"
      ]
     },
     "metadata": {},
     "output_type": "display_data"
    },
    {
     "data": {
      "application/vnd.jupyter.widget-view+json": {
       "model_id": "93de7606b0ea4166aaca9e49c09b46dd",
       "version_major": 2,
       "version_minor": 0
      },
      "text/plain": [
       "[Pipeline] Preprocessing steps:   0%|          | 0/3 [00:00<?, ?step/s]"
      ]
     },
     "metadata": {},
     "output_type": "display_data"
    },
    {
     "data": {
      "application/vnd.jupyter.widget-view+json": {
       "model_id": "92f739b4a8474e959797a0dc041b12d3",
       "version_major": 2,
       "version_minor": 0
      },
      "text/plain": [
       "[Pipeline] Preprocessing steps:   0%|          | 0/3 [00:00<?, ?step/s]"
      ]
     },
     "metadata": {},
     "output_type": "display_data"
    },
    {
     "data": {
      "application/vnd.jupyter.widget-view+json": {
       "model_id": "8841092724eb41a59ba728c9e29159f1",
       "version_major": 2,
       "version_minor": 0
      },
      "text/plain": [
       "[Pipeline] Preprocessing steps:   0%|          | 0/3 [00:00<?, ?step/s]"
      ]
     },
     "metadata": {},
     "output_type": "display_data"
    },
    {
     "data": {
      "application/vnd.jupyter.widget-view+json": {
       "model_id": "1a9b575ae1b94da3970d822004bd2608",
       "version_major": 2,
       "version_minor": 0
      },
      "text/plain": [
       "[Pipeline] Preprocessing steps:   0%|          | 0/3 [00:00<?, ?step/s]"
      ]
     },
     "metadata": {},
     "output_type": "display_data"
    },
    {
     "data": {
      "application/vnd.jupyter.widget-view+json": {
       "model_id": "7a94a69c94d24c1e9467726e602f0f8e",
       "version_major": 2,
       "version_minor": 0
      },
      "text/plain": [
       "[Pipeline] Preprocessing steps:   0%|          | 0/3 [00:00<?, ?step/s]"
      ]
     },
     "metadata": {},
     "output_type": "display_data"
    },
    {
     "data": {
      "application/vnd.jupyter.widget-view+json": {
       "model_id": "1344ea9e1e724d5f997cb9054268b857",
       "version_major": 2,
       "version_minor": 0
      },
      "text/plain": [
       "[Pipeline] Preprocessing steps:   0%|          | 0/3 [00:00<?, ?step/s]"
      ]
     },
     "metadata": {},
     "output_type": "display_data"
    },
    {
     "data": {
      "application/vnd.jupyter.widget-view+json": {
       "model_id": "44d9b263d7a340809d3507df91b83543",
       "version_major": 2,
       "version_minor": 0
      },
      "text/plain": [
       "[Pipeline] Preprocessing steps:   0%|          | 0/3 [00:00<?, ?step/s]"
      ]
     },
     "metadata": {},
     "output_type": "display_data"
    },
    {
     "data": {
      "application/vnd.jupyter.widget-view+json": {
       "model_id": "156267518299494e8c8852817c61edcd",
       "version_major": 2,
       "version_minor": 0
      },
      "text/plain": [
       "[Pipeline] Preprocessing steps:   0%|          | 0/3 [00:00<?, ?step/s]"
      ]
     },
     "metadata": {},
     "output_type": "display_data"
    },
    {
     "data": {
      "application/vnd.jupyter.widget-view+json": {
       "model_id": "bf2138fbdc35411aa122cf5cd47650d1",
       "version_major": 2,
       "version_minor": 0
      },
      "text/plain": [
       "[Pipeline] Preprocessing steps:   0%|          | 0/3 [00:00<?, ?step/s]"
      ]
     },
     "metadata": {},
     "output_type": "display_data"
    },
    {
     "data": {
      "application/vnd.jupyter.widget-view+json": {
       "model_id": "0fdb1ee968f84cf5a6964e7a8619aa6c",
       "version_major": 2,
       "version_minor": 0
      },
      "text/plain": [
       "[Pipeline] Preprocessing steps:   0%|          | 0/3 [00:00<?, ?step/s]"
      ]
     },
     "metadata": {},
     "output_type": "display_data"
    },
    {
     "data": {
      "application/vnd.jupyter.widget-view+json": {
       "model_id": "e89c2fd4865e4cf7b3ecbf816c80ef04",
       "version_major": 2,
       "version_minor": 0
      },
      "text/plain": [
       "[Pipeline] Preprocessing steps:   0%|          | 0/3 [00:00<?, ?step/s]"
      ]
     },
     "metadata": {},
     "output_type": "display_data"
    },
    {
     "data": {
      "application/vnd.jupyter.widget-view+json": {
       "model_id": "96ac65130f4b449d9c4708f2e367b2a2",
       "version_major": 2,
       "version_minor": 0
      },
      "text/plain": [
       "[Pipeline] Preprocessing steps:   0%|          | 0/3 [00:00<?, ?step/s]"
      ]
     },
     "metadata": {},
     "output_type": "display_data"
    },
    {
     "data": {
      "application/vnd.jupyter.widget-view+json": {
       "model_id": "44b0455436c2407288525d8409b330f3",
       "version_major": 2,
       "version_minor": 0
      },
      "text/plain": [
       "[Pipeline] Preprocessing steps:   0%|          | 0/3 [00:00<?, ?step/s]"
      ]
     },
     "metadata": {},
     "output_type": "display_data"
    },
    {
     "data": {
      "application/vnd.jupyter.widget-view+json": {
       "model_id": "2c2d90839803473186f20e473445baed",
       "version_major": 2,
       "version_minor": 0
      },
      "text/plain": [
       "[Pipeline] Preprocessing steps:   0%|          | 0/3 [00:00<?, ?step/s]"
      ]
     },
     "metadata": {},
     "output_type": "display_data"
    },
    {
     "data": {
      "application/vnd.jupyter.widget-view+json": {
       "model_id": "03e8e072f12c41aea1f5be2025055ee7",
       "version_major": 2,
       "version_minor": 0
      },
      "text/plain": [
       "[Pipeline] Preprocessing steps:   0%|          | 0/3 [00:00<?, ?step/s]"
      ]
     },
     "metadata": {},
     "output_type": "display_data"
    },
    {
     "data": {
      "application/vnd.jupyter.widget-view+json": {
       "model_id": "4e935733412c49279dbacf08538633ea",
       "version_major": 2,
       "version_minor": 0
      },
      "text/plain": [
       "[Pipeline] Preprocessing steps:   0%|          | 0/3 [00:00<?, ?step/s]"
      ]
     },
     "metadata": {},
     "output_type": "display_data"
    },
    {
     "data": {
      "application/vnd.jupyter.widget-view+json": {
       "model_id": "11ab14579f4f4543ac9cbb462bccfbd5",
       "version_major": 2,
       "version_minor": 0
      },
      "text/plain": [
       "[Pipeline] Preprocessing steps:   0%|          | 0/3 [00:00<?, ?step/s]"
      ]
     },
     "metadata": {},
     "output_type": "display_data"
    },
    {
     "data": {
      "application/vnd.jupyter.widget-view+json": {
       "model_id": "7a0360ef10ce4953b16b1915e66adbf9",
       "version_major": 2,
       "version_minor": 0
      },
      "text/plain": [
       "[Pipeline] Preprocessing steps:   0%|          | 0/3 [00:00<?, ?step/s]"
      ]
     },
     "metadata": {},
     "output_type": "display_data"
    },
    {
     "data": {
      "application/vnd.jupyter.widget-view+json": {
       "model_id": "617bdc712c4142b78cb039025bad5c28",
       "version_major": 2,
       "version_minor": 0
      },
      "text/plain": [
       "[Pipeline] Preprocessing steps:   0%|          | 0/3 [00:00<?, ?step/s]"
      ]
     },
     "metadata": {},
     "output_type": "display_data"
    },
    {
     "data": {
      "application/vnd.jupyter.widget-view+json": {
       "model_id": "b8bcbc7eb1c54e39a820dbd9c340b12f",
       "version_major": 2,
       "version_minor": 0
      },
      "text/plain": [
       "[Pipeline] Preprocessing steps:   0%|          | 0/3 [00:00<?, ?step/s]"
      ]
     },
     "metadata": {},
     "output_type": "display_data"
    },
    {
     "data": {
      "application/vnd.jupyter.widget-view+json": {
       "model_id": "e5973edff522443d87a55cb97b9cb85e",
       "version_major": 2,
       "version_minor": 0
      },
      "text/plain": [
       "[Pipeline] Preprocessing steps:   0%|          | 0/3 [00:00<?, ?step/s]"
      ]
     },
     "metadata": {},
     "output_type": "display_data"
    },
    {
     "data": {
      "application/vnd.jupyter.widget-view+json": {
       "model_id": "8a9f4e1579b74d76bc3acd9ad024103f",
       "version_major": 2,
       "version_minor": 0
      },
      "text/plain": [
       "[Pipeline] Preprocessing steps:   0%|          | 0/3 [00:00<?, ?step/s]"
      ]
     },
     "metadata": {},
     "output_type": "display_data"
    },
    {
     "data": {
      "application/vnd.jupyter.widget-view+json": {
       "model_id": "a1b036f88f2f41ccb306270388aaf326",
       "version_major": 2,
       "version_minor": 0
      },
      "text/plain": [
       "[Pipeline] Preprocessing steps:   0%|          | 0/3 [00:00<?, ?step/s]"
      ]
     },
     "metadata": {},
     "output_type": "display_data"
    },
    {
     "data": {
      "application/vnd.jupyter.widget-view+json": {
       "model_id": "55762f1407c5442d953f0ca254ab1b12",
       "version_major": 2,
       "version_minor": 0
      },
      "text/plain": [
       "[Pipeline] Preprocessing steps:   0%|          | 0/3 [00:00<?, ?step/s]"
      ]
     },
     "metadata": {},
     "output_type": "display_data"
    },
    {
     "data": {
      "application/vnd.jupyter.widget-view+json": {
       "model_id": "f316b0746f5f487ab03cb5e79e510c95",
       "version_major": 2,
       "version_minor": 0
      },
      "text/plain": [
       "[Pipeline] Preprocessing steps:   0%|          | 0/3 [00:00<?, ?step/s]"
      ]
     },
     "metadata": {},
     "output_type": "display_data"
    },
    {
     "data": {
      "application/vnd.jupyter.widget-view+json": {
       "model_id": "f6d05815160e457ca7a742b49350fde0",
       "version_major": 2,
       "version_minor": 0
      },
      "text/plain": [
       "[Pipeline] Preprocessing steps:   0%|          | 0/3 [00:00<?, ?step/s]"
      ]
     },
     "metadata": {},
     "output_type": "display_data"
    },
    {
     "data": {
      "application/vnd.jupyter.widget-view+json": {
       "model_id": "f1f2a3debd7e48229f828a24ba6de57b",
       "version_major": 2,
       "version_minor": 0
      },
      "text/plain": [
       "[Pipeline] Preprocessing steps:   0%|          | 0/3 [00:00<?, ?step/s]"
      ]
     },
     "metadata": {},
     "output_type": "display_data"
    },
    {
     "data": {
      "application/vnd.jupyter.widget-view+json": {
       "model_id": "bfac09b56a0e4043bd95dfa51341cf04",
       "version_major": 2,
       "version_minor": 0
      },
      "text/plain": [
       "[Pipeline] Preprocessing steps:   0%|          | 0/3 [00:00<?, ?step/s]"
      ]
     },
     "metadata": {},
     "output_type": "display_data"
    },
    {
     "data": {
      "application/vnd.jupyter.widget-view+json": {
       "model_id": "340679afe2c8431485576465903e309f",
       "version_major": 2,
       "version_minor": 0
      },
      "text/plain": [
       "[Pipeline] Preprocessing steps:   0%|          | 0/3 [00:00<?, ?step/s]"
      ]
     },
     "metadata": {},
     "output_type": "display_data"
    },
    {
     "data": {
      "application/vnd.jupyter.widget-view+json": {
       "model_id": "d8051859889d431fbaa526a4a9dd6a3e",
       "version_major": 2,
       "version_minor": 0
      },
      "text/plain": [
       "[Pipeline] Preprocessing steps:   0%|          | 0/3 [00:00<?, ?step/s]"
      ]
     },
     "metadata": {},
     "output_type": "display_data"
    },
    {
     "data": {
      "application/vnd.jupyter.widget-view+json": {
       "model_id": "e83a67b8fee94bfb99d2a88dd55772e0",
       "version_major": 2,
       "version_minor": 0
      },
      "text/plain": [
       "[Pipeline] Preprocessing steps:   0%|          | 0/3 [00:00<?, ?step/s]"
      ]
     },
     "metadata": {},
     "output_type": "display_data"
    },
    {
     "data": {
      "application/vnd.jupyter.widget-view+json": {
       "model_id": "cbf635a792de4e8b94cc004c534e5c3c",
       "version_major": 2,
       "version_minor": 0
      },
      "text/plain": [
       "[Pipeline] Preprocessing steps:   0%|          | 0/3 [00:00<?, ?step/s]"
      ]
     },
     "metadata": {},
     "output_type": "display_data"
    },
    {
     "data": {
      "application/vnd.jupyter.widget-view+json": {
       "model_id": "4140272382dc4af6ae825852458164af",
       "version_major": 2,
       "version_minor": 0
      },
      "text/plain": [
       "[Pipeline] Training:   0%|          | 0/20 [00:00<?, ?epoch/s]"
      ]
     },
     "metadata": {},
     "output_type": "display_data"
    },
    {
     "name": "stdout",
     "output_type": "stream",
     "text": [
      "Results exported to D:\\Git\\3WToolkit\\output\n",
      "Model Assessment Summary\n",
      "========================\n",
      "Model: MLP\n",
      "Task Type: classification\n",
      "Timestamp: 2025-09-30T20:40:01.980437\n",
      "\n",
      "Metrics:\n",
      "  balanced_accuracy: 0.8797\n",
      "  precision: 0.8819\n",
      "  recall: 0.8723\n",
      "  f1: 0.8730\n"
     ]
    }
   ],
   "source": [
    "# Define the model configuration\n",
    "config_model = MLPConfig(\n",
    "    hidden_sizes=(64, 32),\n",
    "    output_size=2,\n",
    "    random_seed=42,\n",
    "    activation_function=\"relu\",\n",
    "    regularization=None,\n",
    ")\n",
    "\n",
    "# Create the pipeline with sequential steps\n",
    "pipeline = Pipeline(\n",
    "    [\n",
    "        # Step 1: Load Dataset\n",
    "        ParquetDatasetConfig(\n",
    "            path=\"../../data/raw\",\n",
    "            split=None,\n",
    "            download=False,\n",
    "            columns=[\"T-JUS-CKP\", \"T-MON-CKP\"],\n",
    "            target_column=\"class\",\n",
    "            target_class=[0, 1],\n",
    "        ),\n",
    "        # Step 2: Preprocessing\n",
    "        ImputeMissingConfig(strategy=\"median\", columns=[\"T-JUS-CKP\"]),\n",
    "        NormalizeConfig(norm=\"l2\"),\n",
    "        WindowingConfig(window_size=100),\n",
    "        # Step 3: Model Training\n",
    "        TrainerConfig(\n",
    "            optimizer=\"adam\",\n",
    "            criterion=\"cross_entropy\",\n",
    "            batch_size=32,\n",
    "            epochs=20,\n",
    "            seed=42,\n",
    "            config_model=config_model,\n",
    "            learning_rate=0.001,\n",
    "            cross_validation=False,\n",
    "            shuffle_train=True,\n",
    "        ),\n",
    "        # Step 4: Model Assessment\n",
    "        ModelAssessmentConfig(\n",
    "            metrics=[\"balanced_accuracy\", \"precision\", \"recall\", \"f1\"],\n",
    "            task_type=TaskType.CLASSIFICATION,\n",
    "            export_results=True,\n",
    "            generate_report=False,\n",
    "        ),\n",
    "    ]\n",
    ")\n",
    "\n",
    "# Execute the entire pipeline\n",
    "pipeline.run()"
   ]
  },
  {
   "cell_type": "code",
   "execution_count": 58,
   "metadata": {},
   "outputs": [
    {
     "data": {
      "text/plain": [
       "<matplotlib.legend.Legend at 0x229ae3a2380>"
      ]
     },
     "execution_count": 58,
     "metadata": {},
     "output_type": "execute_result"
    },
    {
     "data": {
      "image/png": "[encoded data removed]",
      "text/plain": [
       "<Figure size 1000x500 with 1 Axes>"
      ]
     },
     "metadata": {},
     "output_type": "display_data"
    }
   ],
   "source": [
    "hist = pipeline.step_model_training.history[0]\n",
    "\n",
    "plt.figure(figsize=(10, 5))\n",
    "plt.plot(hist[\"val_loss\"], label=\"Val Loss\")\n",
    "plt.plot(hist[\"train_loss\"], label=\"Train Loss\")\n",
    "plt.title(\"Training and Validation Loss\")\n",
    "plt.xlabel(\"Epoch\")\n",
    "plt.ylabel(\"Loss\")\n",
    "plt.legend()"
   ]
  },
  {
   "cell_type": "markdown",
   "metadata": {},
   "source": [
    "### 7.2. Pipeline Components in Detail"
   ]
  },
  {
   "cell_type": "markdown",
   "metadata": {},
   "source": [
    "**Dataset Configuration**"
   ]
  },
  {
   "cell_type": "markdown",
   "metadata": {},
   "source": [
    "The `ParquetDatasetConfig` is always the first step in your pipeline. It defines how to load and filter your data:"
   ]
  },
  {
   "cell_type": "markdown",
   "metadata": {},
   "source": [
    "<div style=\"font-size:15px\">\n",
    "\n",
    "```python\n",
    "ParquetDatasetConfig(\n",
    "    path=\"./data/raw\",                      # Path to your parquet files\n",
    "    split=None,                             # Train/test split ratio (e.g., 0.8 for 80/20)\n",
    "    download=False,                         # Whether to download the dataset\n",
    "    columns=[\"T-JUS-CKP\", \"T-MON-CKP\"],     # Features to use\n",
    "    target_column=\"class\",                  # Target variable column name\n",
    "    target_class=[0, 1],                    # Classes to include (for binary classification)\n",
    ")"
   ]
  },
  {
   "cell_type": "markdown",
   "metadata": {},
   "source": [
    "**Preprocessing Steps**"
   ]
  },
  {
   "cell_type": "markdown",
   "metadata": {},
   "source": [
    "You can chain multiple preprocessing steps. They will be executed in the order they appear:"
   ]
  },
  {
   "cell_type": "markdown",
   "metadata": {},
   "source": [
    "<div style=\"font-size:15px\">\n",
    "\n",
    "```python\n",
    "# Handle missing values\n",
    "(\n",
    "    ImputeMissingConfig(\n",
    "        strategy=\"median\",  # Options: \"mean\", \"median\", \"forward\", \"backward\"\n",
    "        columns=[\"T-JUS-CKP\"],  # Specific columns to impute\n",
    "    ),\n",
    ")\n",
    "\n",
    "# Normalize the data\n",
    "(\n",
    "    NormalizeConfig(\n",
    "        norm=\"l2\"  # Options: \"l1\", \"l2\", \"max\", \"standard\"\n",
    "    ),\n",
    ")\n",
    "\n",
    "# Create time windows\n",
    "(\n",
    "    WindowingConfig(\n",
    "        window_size=100  # Number of time steps per window\n",
    "    ),\n",
    ")"
   ]
  },
  {
   "cell_type": "markdown",
   "metadata": {},
   "source": [
    "**Feature Extraction (Optional)**"
   ]
  },
  {
   "cell_type": "markdown",
   "metadata": {},
   "source": [
    "**Important:** Only one feature extraction method can be used at a time. Choose the one that best fits your problem:"
   ]
  },
  {
   "cell_type": "markdown",
   "metadata": {},
   "source": [
    "**Option A: Statistical Features**"
   ]
  },
  {
   "cell_type": "markdown",
   "metadata": {},
   "source": [
    "Extracts basic statistical features like mean, standard deviation, min, max, etc.:"
   ]
  },
  {
   "cell_type": "markdown",
   "metadata": {
    "vscode": {
     "languageId": "html"
    }
   },
   "source": [
    "<div style=\"font-size:15px\">\n",
    "\n",
    "```python\n",
    "StatisticalConfig()"
   ]
  },
  {
   "cell_type": "markdown",
   "metadata": {},
   "source": [
    "**Option B: Exponentially Weighted Statistical Features**"
   ]
  },
  {
   "cell_type": "markdown",
   "metadata": {},
   "source": [
    "Extracts statistical features with exponential weighting, giving more importance to recent values:"
   ]
  },
  {
   "cell_type": "markdown",
   "metadata": {},
   "source": [
    "<div style=\"font-size:15px\">\n",
    "\n",
    "```python\n",
    "EWStatisticalConfig(\n",
    "    selected_features=[\"ew_mean\", \"ew_std\", \"ew_skew\"],         # Features to extract\n",
    "    overlap=0.5,                                                # Window overlap (0.5 = 50% overlap)\n",
    "    offset=0,                                                   # Starting offset\n",
    "    decay=0.9,                                                  # Exponential decay factor (higher = more weight on recent values)\n",
    "eps=1e-8,                                                       # Small constant for numerical stability\n",
    ")\n"
   ]
  },
  {
   "cell_type": "markdown",
   "metadata": {},
   "source": [
    "**Option C: Wavelet Features**"
   ]
  },
  {
   "cell_type": "markdown",
   "metadata": {},
   "source": [
    "Extracts features using wavelet decomposition:"
   ]
  },
  {
   "cell_type": "markdown",
   "metadata": {},
   "source": [
    "<div style=\"font-size:15px\">\n",
    "\n",
    "```python\n",
    "WaveletConfig(\n",
    "    level=3,                # Decomposition level\n",
    "    overlap=0.5,            # Window overlap\n",
    "    offset=0,               # Starting offset\n",
    "    wavelet=\"haar\",         # Wavelet type: \"haar\", \"db4\", \"sym4\", etc.\n",
    ")"
   ]
  },
  {
   "cell_type": "markdown",
   "metadata": {},
   "source": [
    "**Model Training**"
   ]
  },
  {
   "cell_type": "markdown",
   "metadata": {},
   "source": [
    "Configure how your model will be trained:"
   ]
  },
  {
   "cell_type": "markdown",
   "metadata": {},
   "source": [
    "<div style=\"font-size:15px\">\n",
    "\n",
    "```python\n",
    "TrainerConfig(\n",
    "    optimizer=\"adam\",                       # Options: \"adam\", \"sgd\", \"rmsprop\"\n",
    "    criterion=\"cross_entropy\",              # Loss function\n",
    "    batch_size=32,                          # Number of samples per batch\n",
    "    epochs=20,                              # Number of training epochs\n",
    "    seed=42,                                # Random seed for reproducibility\n",
    "    config_model=config_model,              # Model architecture configuration\n",
    "    learning_rate=0.001,                    # Learning rate\n",
    "    cross_validation=False,                 # Whether to use cross-validation\n",
    "    shuffle_train=True,                     # Whether to shuffle training data\n",
    ")"
   ]
  },
  {
   "cell_type": "markdown",
   "metadata": {},
   "source": [
    "**Model Assessment**"
   ]
  },
  {
   "cell_type": "markdown",
   "metadata": {},
   "source": [
    "Define how to evaluate your model:"
   ]
  },
  {
   "cell_type": "markdown",
   "metadata": {},
   "source": [
    "<div style=\"font-size:15px\">\n",
    "\n",
    "```python\n",
    "ModelAssessmentConfig(\n",
    "    metrics=[\"balanced_accuracy\", \"precision\", \"recall\", \"f1\"],\n",
    "    task_type=TaskType.CLASSIFICATION,                                  # Or TaskType.REGRESSION\n",
    "    export_results=True,                                                # Save results to file\n",
    "    generate_report=False,                                              # Generate detailed HTML report\n",
    ")"
   ]
  },
  {
   "cell_type": "markdown",
   "metadata": {},
   "source": [
    "### 7.3. Complete Pipeline Examples"
   ]
  },
  {
   "cell_type": "markdown",
   "metadata": {},
   "source": [
    "**Example 1: Pipeline with Statistical Features**"
   ]
  },
  {
   "cell_type": "markdown",
   "metadata": {},
   "source": [
    "<div style=\"font-size:15px\">\n",
    "\n",
    "```python\n",
    "config_model = MLPConfig(\n",
    "    hidden_sizes=(128, 64, 32),\n",
    "    output_size=3,\n",
    "    random_seed=42,\n",
    "    activation_function=\"relu\",\n",
    "    regularization=None,\n",
    ")\n",
    "\n",
    "pipeline = Pipeline(\n",
    "    [\n",
    "        ParquetDatasetConfig(\n",
    "            path=\"./data/raw\",\n",
    "            split=0.8,\n",
    "            download=False,\n",
    "            columns=[\"T-JUS-CKP\", \"T-MON-CKP\", \"P-PDG\"],\n",
    "            target_column=\"class\",\n",
    "            target_class=[0, 1, 2],\n",
    "        ),\n",
    "        ImputeMissingConfig(strategy=\"mean\", columns=None),  # Impute all columns\n",
    "        NormalizeConfig(norm=\"standard\"),\n",
    "        WindowingConfig(window_size=150),\n",
    "        StatisticalConfig(),  # Extract statistical features\n",
    "        TrainerConfig(\n",
    "            optimizer=\"adam\",\n",
    "            criterion=\"cross_entropy\",\n",
    "            batch_size=64,\n",
    "            epochs=50,\n",
    "            seed=42,\n",
    "            config_model=config_model,\n",
    "            learning_rate=0.0005,\n",
    "            cross_validation=True,\n",
    "            shuffle_train=True,\n",
    "        ),\n",
    "        ModelAssessmentConfig(\n",
    "            metrics=[\"balanced_accuracy\", \"precision\", \"recall\", \"f1\"],\n",
    "            task_type=TaskType.CLASSIFICATION,\n",
    "            export_results=True,\n",
    "            generate_report=True,\n",
    "        ),\n",
    "    ]\n",
    ")\n",
    "\n",
    "pipeline.run()"
   ]
  },
  {
   "cell_type": "markdown",
   "metadata": {},
   "source": [
    "**Example 2: Pipeline with Wavelet Features**"
   ]
  },
  {
   "cell_type": "markdown",
   "metadata": {},
   "source": [
    "<div style=\"font-size:15px\">\n",
    "\n",
    "```python\n",
    "config_model = MLPConfig(\n",
    "    hidden_sizes=(64, 32),\n",
    "    output_size=2,\n",
    "    random_seed=11,\n",
    "    activation_function=\"tanh\",\n",
    "    regularization=\"l2\",\n",
    ")\n",
    "\n",
    "pipeline = Pipeline(\n",
    "    [\n",
    "        ParquetDatasetConfig(\n",
    "            path=\"../../data/raw\",\n",
    "            split=0.7,\n",
    "            download=False,\n",
    "            columns=[\"T-JUS-CKP\", \"T-MON-CKP\"],\n",
    "            target_column=\"class\",\n",
    "            target_class=[0, 1],\n",
    "        ),\n",
    "        ImputeMissingConfig(strategy=\"forward\", columns=[\"T-JUS-CKP\", \"T-MON-CKP\"]),\n",
    "        NormalizeConfig(norm=\"l2\"),\n",
    "        WindowingConfig(window_size=200),\n",
    "        WaveletConfig(\n",
    "            level=4,\n",
    "            overlap=0.5,\n",
    "            offset=0,\n",
    "            wavelet=\"db4\",  # Daubechies wavelet\n",
    "        ),\n",
    "        TrainerConfig(\n",
    "            optimizer=\"sgd\",\n",
    "            criterion=\"cross_entropy\",\n",
    "            batch_size=16,\n",
    "            epochs=30,\n",
    "            seed=11,\n",
    "            config_model=config_model,\n",
    "            learning_rate=0.01,\n",
    "            cross_validation=False,\n",
    "            shuffle_train=True,\n",
    "        ),\n",
    "        ModelAssessmentConfig(\n",
    "            metrics=[\"balanced_accuracy\", \"f1\"],\n",
    "            task_type=TaskType.CLASSIFICATION,\n",
    "            export_results=True,\n",
    "            generate_report=False,\n",
    "        ),\n",
    "    ]\n",
    ")\n",
    "\n",
    "pipeline.run()"
   ]
  },
  {
   "cell_type": "markdown",
   "metadata": {},
   "source": [
    "**Example 3: Minimal Pipeline**"
   ]
  },
  {
   "cell_type": "markdown",
   "metadata": {},
   "source": [
    "<div style=\"font-size:15px\">\n",
    "\n",
    "```python\n",
    "config_model = MLPConfig(\n",
    "    hidden_sizes=(32, 16),\n",
    "    output_size=3,\n",
    "    random_seed=42,\n",
    "    activation_function=\"relu\",\n",
    "    regularization=None,\n",
    ")\n",
    "\n",
    "pipeline = Pipeline(\n",
    "    [\n",
    "        ParquetDatasetConfig(\n",
    "            path=\"./data/raw\",\n",
    "            split=None,\n",
    "            download=False,\n",
    "            columns=[\"T-JUS-CKP\", \"T-MON-CKP\"],\n",
    "            target_column=\"class\",\n",
    "            target_class=[0, 1, 2],\n",
    "        ),\n",
    "        TrainerConfig(\n",
    "            optimizer=\"adam\",\n",
    "            criterion=\"cross_entropy\",\n",
    "            batch_size=32,\n",
    "            epochs=20,\n",
    "            seed=42,\n",
    "            config_model=config_model,\n",
    "            learning_rate=0.001,\n",
    "            cross_validation=False,\n",
    "            shuffle_train=True,\n",
    "        ),\n",
    "        ModelAssessmentConfig(\n",
    "            metrics=[\"balanced_accuracy\", \"precision\", \"recall\", \"f1\"],\n",
    "            task_type=TaskType.CLASSIFICATION,\n",
    "            export_results=True,\n",
    "            generate_report=False,\n",
    "        ),\n",
    "    ]\n",
    ")\n",
    "\n",
    "pipeline.run()"
   ]
  },
  {
   "cell_type": "markdown",
   "metadata": {},
   "source": [
    "### 7.4. Best Practices"
   ]
  },
  {
   "cell_type": "markdown",
   "metadata": {},
   "source": [
    "**Choosing Feature Extraction Methods**\n",
    "\n",
    "- **No Feature Extraction:** Use raw windowed data when you have enough data and computational resources. Best for deep learning models.\n",
    "- **Statistical Features:** Fast and interpretable. Good baseline for most problems.\n",
    "- **Exponentially Weighted Statistical Features:** When recent observations are more important than older ones (e.g., trending patterns).\n",
    "- **Wavelet Features:** When you need to capture both time and frequency domain information. Good for signal processing tasks."
   ]
  },
  {
   "cell_type": "markdown",
   "metadata": {},
   "source": [
    "**Reproducibility**\n",
    "\n",
    "Always set random seeds for reproducibility:"
   ]
  },
  {
   "cell_type": "markdown",
   "metadata": {},
   "source": [
    "<div style=\"font-size:15px\">\n",
    "\n",
    "```python\n",
    "config_model = MLPConfig(random_seed=42, ...)\n",
    "TrainerConfig(seed=42, ...)"
   ]
  },
  {
   "cell_type": "markdown",
   "metadata": {},
   "source": [
    "**Experiment Tracking**\n",
    "\n",
    "Enable result export to keep track of your experiments:"
   ]
  },
  {
   "cell_type": "markdown",
   "metadata": {},
   "source": [
    "<div style=\"font-size:15px\">\n",
    "\n",
    "```python\n",
    "ModelAssessmentConfig(\n",
    "    export_results=True,\n",
    "    generate_report=True  # For detailed analysis\n",
    ")"
   ]
  },
  {
   "cell_type": "markdown",
   "metadata": {},
   "source": [
    "**Pipeline Debugging**"
   ]
  },
  {
   "cell_type": "markdown",
   "metadata": {},
   "source": [
    "If your pipeline fails, check each component individually. You can comment out steps to isolate issues:"
   ]
  },
  {
   "cell_type": "markdown",
   "metadata": {},
   "source": [
    "<div style=\"font-size:15px\">\n",
    "\n",
    "```python\n",
    "pipeline = Pipeline([\n",
    "    ParquetDatasetConfig(...),\n",
    "    ImputeMissingConfig(...),\n",
    "    # NormalizeConfig(...),  # Temporarily disabled for debugging\n",
    "    WindowingConfig(...),\n",
    "    # ... rest of the pipeline\n",
    "])"
   ]
  },
  {
   "cell_type": "markdown",
   "metadata": {},
   "source": [
    "After running your pipeline, proceed to analyze the results and iterate on your configuration to improve model performance. Consider experimenting with different feature extraction methods, hyperparameters, and preprocessing strategies."
   ]
  },
  {
   "cell_type": "markdown",
   "metadata": {},
   "source": [
    "__________"
   ]
  },
  {
   "cell_type": "markdown",
   "metadata": {},
   "source": [
    "END"
   ]
  }
 ],
 "metadata": {
  "kernelspec": {
   "display_name": "3w",
   "language": "python",
   "name": "python3"
  },
  "language_info": {
   "codemirror_mode": {
    "name": "ipython",
    "version": 3
   },
   "file_extension": ".py",
   "mimetype": "text/x-python",
   "name": "python",
   "nbconvert_exporter": "python",
   "pygments_lexer": "ipython3",
   "version": "3.10.11"
  }
 },
 "nbformat": 4,
 "nbformat_minor": 2
}
