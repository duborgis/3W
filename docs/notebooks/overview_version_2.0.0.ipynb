{
 "cells": [
  {
   "cell_type": "markdown",
   "metadata": {},
   "source": [
    "# 3W Toolkit"
   ]
  },
  {
   "cell_type": "markdown",
   "metadata": {},
   "source": [
    "**Versão:** 2.0.0  \n",
    "**Autores:** Bruno Coelho Martins, Carla Pagliari, Eduardo A. B. Silva, Eduardo Henrique, Fernanda Duarte Vilela Reis de Oliveira, Gabriel Henrique Braga Lisboa, Luiza Helena de Andrade Leite, Marcello Campos, Matheus Ferreira Espirito Santo, Matheus Ramos Parracho, Natanael Moura Junior, Pedro Braga Lisboa, Rafael Padilla, Sergio Lima Netto, Thadeu Luiz Barbosa Dias, Umberto Augusto.  \n",
    "**Descrição:** Notebook demonstrativo com as principais funcionalidades do *3W Toolkit*.\n"
   ]
  },
  {
   "cell_type": "markdown",
   "metadata": {},
   "source": [
    "----"
   ]
  },
  {
   "cell_type": "markdown",
   "metadata": {},
   "source": [
    "## Table of Contents 📑\n",
    "\n",
    "1. 🚀 Introduction to 3WToolkit v2.0.0  \n",
    "   1.1. Installing with `pip install`  \n",
    "   1.2. Cloning & Installing  \n",
    "   1.3. Forking & Installing  \n",
    "   1.4. Using Anaconda Navigator  \n",
    "   1.5. Using `conda`  \n",
    "   1.6. Installing with `poetry`  \n",
    "\n",
    "2. 📂 Dataset 3W   \n",
    "   2.1. Downloading the Dataset    \n",
    "   2.2. Filtering & Exploring the Data   \n",
    "   2.3 Transforming the dataset   \n",
    "\n",
    "3. ⚙️ Preprocessing   \n",
    "   3.1 Handling missing values (Imputation)  \n",
    "   3.2 Normalization  \n",
    "   3.3 Windowing  \n",
    "   3.4 Renaming columns  \n",
    "\n",
    "4. 🔎 Feature Extraction  \n",
    "   4.1 Statistical Feature Extraction  \n",
    "   4.2 Wavelet Feature Extraction  \n",
    "   4.3 Exponentially Weighted Statistical Feature Extraction  \n",
    "\n",
    "5. 📊 Exploratory Analysis  \n",
    "   5.1. Visualizing Time Series  \n",
    "\n",
    "6. 🤖 Model Training & Evaluation  \n",
    "\n",
    "7. 📝 Generating Reports  \n",
    "\n",
    "8. 🔄 Using the Automated Pipeline  \n",
    "   8.1. Pipeline Structure  \n",
    "   8.2. Configuring the Pipeline *(Explanation of BaseStep Config classes)*  \n",
    "   8.3. Running & Evaluating Reports  \n"
   ]
  },
  {
   "cell_type": "markdown",
   "metadata": {},
   "source": [
    "----"
   ]
  },
  {
   "cell_type": "markdown",
   "metadata": {},
   "source": [
    "## 🚀 1. Introduction to 3WToolkit Version 2.0.0\n",
    "\n",
    "The **3WToolkit version 2.0.0** is a **modular** and **open-source Artificial Intelligence (AI) toolkit** for **time series processing**, designed for **fault detection and classification** in the operation of **oil wells**.\n",
    "\n",
    "Based on the experience with the original **3W Toolkit** system and using the [**3W dataset from Petrobras**](https://github.com/petrobras/3W/), the 3W Toolkit version 2.0.0 offers enhanced features such as:\n",
    "\n",
    "- **Advanced data imputation**\n",
    "- **Deep feature extraction**\n",
    "- **Synthetic data augmentation**\n",
    "- **High-performance computing capabilities** for model training"
   ]
  },
  {
   "cell_type": "markdown",
   "metadata": {},
   "source": [
    "Please find bellow different ways to install the **3WToolkit** project hosted on GitHub: https://github.com/petrobras/3W."
   ]
  },
  {
   "cell_type": "markdown",
   "metadata": {},
   "source": [
    "------"
   ]
  },
  {
   "cell_type": "markdown",
   "metadata": {},
   "source": [
    "### 1.1 Installation with `pip install`\n",
    "\n",
    "```bash\n",
    "pip install git+https://github.com/petrobras/3W.git\n",
    "```"
   ]
  },
  {
   "cell_type": "markdown",
   "metadata": {},
   "source": [
    "------"
   ]
  },
  {
   "cell_type": "markdown",
   "metadata": {},
   "source": [
    "### 1.2. Cloning and installing\n",
    "\n",
    "\n",
    "```bash\n",
    "git clone https://github.com/petrobras/3W.git\n",
    "cd 3WToolkit\n",
    "pip install .\n",
    "```\n",
    "\n",
    "For editable/development install (`-e` installs it in editable/development mode, useful for contributing back to the original project via pull requests)"
   ]
  },
  {
   "cell_type": "markdown",
   "metadata": {},
   "source": [
    "O 3W toolkit v.2.0.0 pode ser baixado ou clonado atraves do repositório oficial [https://github.com/petrobras/3W](https://github.com/petrobras/3W) ou pode ser instalado via `pip install ThreeWtoolkit`"
   ]
  },
  {
   "cell_type": "markdown",
   "metadata": {},
   "source": [
    "------"
   ]
  },
  {
   "cell_type": "markdown",
   "metadata": {},
   "source": [
    "### 1.3. Forking and installing \n",
    "\n",
    "\n",
    "1. Fork the repository on GitHub https://github.com/petrobras/3W (button **Fork**).\n",
    "2. Clone **your fork**:\n",
    "\n",
    "```bash\n",
    "git clone https://github.com/your-username/3W.git\n",
    "cd 3WToolkit\n",
    "pip install -e .\n",
    "```\n"
   ]
  },
  {
   "cell_type": "markdown",
   "metadata": {},
   "source": [
    "------"
   ]
  },
  {
   "cell_type": "markdown",
   "metadata": {},
   "source": [
    "\n",
    "### 1.4 Using **Anaconda Navigator**\n",
    "\n",
    "1. Open **Anaconda Navigator**.  \n",
    "2. Go to **Environments → Create → New environment**.  \n",
    "3. Open a terminal inside that environment.  \n",
    "4. Install from GitHub with `pip`:\n",
    "\n",
    "```bash\n",
    "pip install git+https://github.com/Mathtzt/3WToolkit.git\n",
    "```"
   ]
  },
  {
   "cell_type": "markdown",
   "metadata": {},
   "source": [
    "------"
   ]
  },
  {
   "cell_type": "markdown",
   "metadata": {},
   "source": [
    "\n",
    "### 1.5. Using `conda`\n",
    "\n",
    "\n",
    "If there is an environment.yml file:\n",
    "\n",
    "```bash\n",
    "git clone https://github.com/petrobras/3W.git\n",
    "cd 3WToolkit\n",
    "conda env create -f environment.yml\n",
    "conda activate 3WToolkit\n",
    "```\n",
    "\n",
    "If not, you can still use `pip` inside a conda environment:\n",
    "\n",
    "```bash\n",
    "conda create -n myenv python=3.10\n",
    "conda activate myenv\n",
    "pip install git+https://github.com/petrobras/3W.git\n",
    "```"
   ]
  },
  {
   "cell_type": "markdown",
   "metadata": {},
   "source": [
    "------"
   ]
  },
  {
   "cell_type": "markdown",
   "metadata": {},
   "source": [
    "### 1.6 Installing with `poetry`\n",
    "\n",
    "Add directly from GitHub: demands file `pyproject.toml` and Poetry:\n",
    "```bash\n",
    "poetry add git+https://github.com/petrobras/3W.git\n",
    "```\n",
    "\n",
    "For local development:\n",
    "```bash\n",
    "poetry add ./local/path/to/3W\n",
    "```\n",
    "\n",
    "Using clone:\n",
    "```bash\n",
    "git clone https://github.com/petrobras/3W.git\n",
    "cd 3W\n",
    "poetry install\n",
    "```"
   ]
  },
  {
   "cell_type": "markdown",
   "metadata": {},
   "source": [
    "-----"
   ]
  },
  {
   "cell_type": "markdown",
   "metadata": {},
   "source": [
    "## 📂 2. Dataset 3W\n",
    "\n",
    "* **Format**: Tabular, split into files in parquet format\n",
    "* **Hosted** on: 3W Dataset 2.0.0 - Figshare\n",
    "* **Size**: 1.67 GB\n",
    "* **Splits**: 10 folders with parquet files, one folder for each event.\n",
    "* **License** & Usage: Apache 2.0"
   ]
  },
  {
   "cell_type": "markdown",
   "metadata": {},
   "source": [
    "### 2.1 Downloading the Dataset"
   ]
  },
  {
   "cell_type": "markdown",
   "metadata": {},
   "source": [
    "Let’s download the dataset using the 3W library:"
   ]
  },
  {
   "cell_type": "code",
   "execution_count": 19,
   "metadata": {},
   "outputs": [
    {
     "data": {
      "text/plain": [
       "2228"
      ]
     },
     "execution_count": 19,
     "metadata": {},
     "output_type": "execute_result"
    }
   ],
   "source": [
    "# Importing ParquetDataset to download and load dataset\n",
    "from ThreeWToolkit.dataset import ParquetDataset, DatasetConfig\n",
    "from ThreeWToolkit.core.enums import EventPrefixEnum\n",
    "from ThreeWToolkit.utils.data_utils import default_data_cleanup, default_data_normalization, default_data_processing\n",
    "\n",
    "from pathlib import Path\n",
    "\n",
    "# define path\n",
    "dataset_path = Path(\"./dataset\")\n",
    "\n",
    "# create and load\n",
    "ds_config = DatasetConfig(path=dataset_path, download=True)\n",
    "ds = ParquetDataset(ds_config)\n",
    "len(ds)"
   ]
  },
  {
   "cell_type": "markdown",
   "metadata": {},
   "source": [
    "### 2.2 Filtering & Exploring the Data"
   ]
  },
  {
   "cell_type": "code",
   "execution_count": 20,
   "metadata": {},
   "outputs": [
    {
     "data": {
      "text/plain": [
       "2228"
      ]
     },
     "execution_count": 20,
     "metadata": {},
     "output_type": "execute_result"
    }
   ],
   "source": [
    "# Count events\n",
    "total_events = len(ds)\n",
    "total_events"
   ]
  },
  {
   "cell_type": "markdown",
   "metadata": {},
   "source": [
    "Each event is a dict containing: \"signal\" and \"label\""
   ]
  },
  {
   "cell_type": "code",
   "execution_count": 27,
   "metadata": {},
   "outputs": [
    {
     "data": {
      "text/plain": [
       "dict"
      ]
     },
     "execution_count": 27,
     "metadata": {},
     "output_type": "execute_result"
    }
   ],
   "source": [
    "event_id = 0\n",
    "type(ds[event_id])"
   ]
  },
  {
   "cell_type": "code",
   "execution_count": 22,
   "metadata": {},
   "outputs": [
    {
     "data": {
      "text/plain": [
       "dict_keys(['signal', 'label'])"
      ]
     },
     "execution_count": 22,
     "metadata": {},
     "output_type": "execute_result"
    }
   ],
   "source": [
    "ds[event_id].keys()"
   ]
  },
  {
   "cell_type": "markdown",
   "metadata": {},
   "source": [
    "Lets check the \"signal\":"
   ]
  },
  {
   "cell_type": "code",
   "execution_count": 23,
   "metadata": {},
   "outputs": [
    {
     "data": {
      "text/html": [
       "<div>\n",
       "<style scoped>\n",
       "    .dataframe tbody tr th:only-of-type {\n",
       "        vertical-align: middle;\n",
       "    }\n",
       "\n",
       "    .dataframe tbody tr th {\n",
       "        vertical-align: top;\n",
       "    }\n",
       "\n",
       "    .dataframe thead th {\n",
       "        text-align: right;\n",
       "    }\n",
       "</style>\n",
       "<table border=\"1\" class=\"dataframe\">\n",
       "  <thead>\n",
       "    <tr style=\"text-align: right;\">\n",
       "      <th></th>\n",
       "      <th>ABER-CKGL</th>\n",
       "      <th>ABER-CKP</th>\n",
       "      <th>ESTADO-DHSV</th>\n",
       "      <th>ESTADO-M1</th>\n",
       "      <th>ESTADO-M2</th>\n",
       "      <th>ESTADO-PXO</th>\n",
       "      <th>ESTADO-SDV-GL</th>\n",
       "      <th>ESTADO-SDV-P</th>\n",
       "      <th>ESTADO-W1</th>\n",
       "      <th>ESTADO-W2</th>\n",
       "      <th>...</th>\n",
       "      <th>P-PDG</th>\n",
       "      <th>PT-P</th>\n",
       "      <th>P-TPT</th>\n",
       "      <th>QBS</th>\n",
       "      <th>QGL</th>\n",
       "      <th>T-JUS-CKP</th>\n",
       "      <th>T-MON-CKP</th>\n",
       "      <th>T-PDG</th>\n",
       "      <th>T-TPT</th>\n",
       "      <th>state</th>\n",
       "    </tr>\n",
       "    <tr>\n",
       "      <th>timestamp</th>\n",
       "      <th></th>\n",
       "      <th></th>\n",
       "      <th></th>\n",
       "      <th></th>\n",
       "      <th></th>\n",
       "      <th></th>\n",
       "      <th></th>\n",
       "      <th></th>\n",
       "      <th></th>\n",
       "      <th></th>\n",
       "      <th></th>\n",
       "      <th></th>\n",
       "      <th></th>\n",
       "      <th></th>\n",
       "      <th></th>\n",
       "      <th></th>\n",
       "      <th></th>\n",
       "      <th></th>\n",
       "      <th></th>\n",
       "      <th></th>\n",
       "      <th></th>\n",
       "    </tr>\n",
       "  </thead>\n",
       "  <tbody>\n",
       "    <tr>\n",
       "      <th>2016-07-04 18:00:00</th>\n",
       "      <td>NaN</td>\n",
       "      <td>NaN</td>\n",
       "      <td>NaN</td>\n",
       "      <td>NaN</td>\n",
       "      <td>NaN</td>\n",
       "      <td>NaN</td>\n",
       "      <td>1.0</td>\n",
       "      <td>1.0</td>\n",
       "      <td>NaN</td>\n",
       "      <td>NaN</td>\n",
       "      <td>...</td>\n",
       "      <td>0.0</td>\n",
       "      <td>NaN</td>\n",
       "      <td>-17129300.0</td>\n",
       "      <td>NaN</td>\n",
       "      <td>2.030010</td>\n",
       "      <td>55.14078</td>\n",
       "      <td>NaN</td>\n",
       "      <td>0.0</td>\n",
       "      <td>95.97056</td>\n",
       "      <td>&lt;NA&gt;</td>\n",
       "    </tr>\n",
       "    <tr>\n",
       "      <th>2016-07-04 18:00:01</th>\n",
       "      <td>NaN</td>\n",
       "      <td>NaN</td>\n",
       "      <td>NaN</td>\n",
       "      <td>NaN</td>\n",
       "      <td>NaN</td>\n",
       "      <td>NaN</td>\n",
       "      <td>1.0</td>\n",
       "      <td>1.0</td>\n",
       "      <td>NaN</td>\n",
       "      <td>NaN</td>\n",
       "      <td>...</td>\n",
       "      <td>0.0</td>\n",
       "      <td>NaN</td>\n",
       "      <td>-17129300.0</td>\n",
       "      <td>NaN</td>\n",
       "      <td>2.028295</td>\n",
       "      <td>55.14299</td>\n",
       "      <td>NaN</td>\n",
       "      <td>0.0</td>\n",
       "      <td>95.96629</td>\n",
       "      <td>&lt;NA&gt;</td>\n",
       "    </tr>\n",
       "    <tr>\n",
       "      <th>2016-07-04 18:00:02</th>\n",
       "      <td>NaN</td>\n",
       "      <td>NaN</td>\n",
       "      <td>NaN</td>\n",
       "      <td>NaN</td>\n",
       "      <td>NaN</td>\n",
       "      <td>NaN</td>\n",
       "      <td>1.0</td>\n",
       "      <td>1.0</td>\n",
       "      <td>NaN</td>\n",
       "      <td>NaN</td>\n",
       "      <td>...</td>\n",
       "      <td>0.0</td>\n",
       "      <td>NaN</td>\n",
       "      <td>-17129300.0</td>\n",
       "      <td>NaN</td>\n",
       "      <td>2.026579</td>\n",
       "      <td>55.14520</td>\n",
       "      <td>NaN</td>\n",
       "      <td>0.0</td>\n",
       "      <td>95.96203</td>\n",
       "      <td>&lt;NA&gt;</td>\n",
       "    </tr>\n",
       "    <tr>\n",
       "      <th>2016-07-04 18:00:03</th>\n",
       "      <td>NaN</td>\n",
       "      <td>NaN</td>\n",
       "      <td>NaN</td>\n",
       "      <td>NaN</td>\n",
       "      <td>NaN</td>\n",
       "      <td>NaN</td>\n",
       "      <td>1.0</td>\n",
       "      <td>1.0</td>\n",
       "      <td>NaN</td>\n",
       "      <td>NaN</td>\n",
       "      <td>...</td>\n",
       "      <td>0.0</td>\n",
       "      <td>NaN</td>\n",
       "      <td>-17129300.0</td>\n",
       "      <td>NaN</td>\n",
       "      <td>2.024863</td>\n",
       "      <td>55.14741</td>\n",
       "      <td>NaN</td>\n",
       "      <td>0.0</td>\n",
       "      <td>95.95777</td>\n",
       "      <td>&lt;NA&gt;</td>\n",
       "    </tr>\n",
       "    <tr>\n",
       "      <th>2016-07-04 18:00:04</th>\n",
       "      <td>NaN</td>\n",
       "      <td>NaN</td>\n",
       "      <td>NaN</td>\n",
       "      <td>NaN</td>\n",
       "      <td>NaN</td>\n",
       "      <td>NaN</td>\n",
       "      <td>1.0</td>\n",
       "      <td>1.0</td>\n",
       "      <td>NaN</td>\n",
       "      <td>NaN</td>\n",
       "      <td>...</td>\n",
       "      <td>0.0</td>\n",
       "      <td>NaN</td>\n",
       "      <td>-17129300.0</td>\n",
       "      <td>NaN</td>\n",
       "      <td>2.024550</td>\n",
       "      <td>55.14962</td>\n",
       "      <td>NaN</td>\n",
       "      <td>0.0</td>\n",
       "      <td>95.95351</td>\n",
       "      <td>&lt;NA&gt;</td>\n",
       "    </tr>\n",
       "    <tr>\n",
       "      <th>...</th>\n",
       "      <td>...</td>\n",
       "      <td>...</td>\n",
       "      <td>...</td>\n",
       "      <td>...</td>\n",
       "      <td>...</td>\n",
       "      <td>...</td>\n",
       "      <td>...</td>\n",
       "      <td>...</td>\n",
       "      <td>...</td>\n",
       "      <td>...</td>\n",
       "      <td>...</td>\n",
       "      <td>...</td>\n",
       "      <td>...</td>\n",
       "      <td>...</td>\n",
       "      <td>...</td>\n",
       "      <td>...</td>\n",
       "      <td>...</td>\n",
       "      <td>...</td>\n",
       "      <td>...</td>\n",
       "      <td>...</td>\n",
       "      <td>...</td>\n",
       "    </tr>\n",
       "    <tr>\n",
       "      <th>2016-07-06 12:59:56</th>\n",
       "      <td>NaN</td>\n",
       "      <td>NaN</td>\n",
       "      <td>NaN</td>\n",
       "      <td>NaN</td>\n",
       "      <td>NaN</td>\n",
       "      <td>NaN</td>\n",
       "      <td>1.0</td>\n",
       "      <td>1.0</td>\n",
       "      <td>NaN</td>\n",
       "      <td>NaN</td>\n",
       "      <td>...</td>\n",
       "      <td>0.0</td>\n",
       "      <td>NaN</td>\n",
       "      <td>-17129300.0</td>\n",
       "      <td>NaN</td>\n",
       "      <td>2.017727</td>\n",
       "      <td>52.31438</td>\n",
       "      <td>NaN</td>\n",
       "      <td>0.0</td>\n",
       "      <td>96.69060</td>\n",
       "      <td>0</td>\n",
       "    </tr>\n",
       "    <tr>\n",
       "      <th>2016-07-06 12:59:57</th>\n",
       "      <td>NaN</td>\n",
       "      <td>NaN</td>\n",
       "      <td>NaN</td>\n",
       "      <td>NaN</td>\n",
       "      <td>NaN</td>\n",
       "      <td>NaN</td>\n",
       "      <td>1.0</td>\n",
       "      <td>1.0</td>\n",
       "      <td>NaN</td>\n",
       "      <td>NaN</td>\n",
       "      <td>...</td>\n",
       "      <td>0.0</td>\n",
       "      <td>NaN</td>\n",
       "      <td>-17129300.0</td>\n",
       "      <td>NaN</td>\n",
       "      <td>2.017647</td>\n",
       "      <td>52.31354</td>\n",
       "      <td>NaN</td>\n",
       "      <td>0.0</td>\n",
       "      <td>96.68634</td>\n",
       "      <td>0</td>\n",
       "    </tr>\n",
       "    <tr>\n",
       "      <th>2016-07-06 12:59:58</th>\n",
       "      <td>NaN</td>\n",
       "      <td>NaN</td>\n",
       "      <td>NaN</td>\n",
       "      <td>NaN</td>\n",
       "      <td>NaN</td>\n",
       "      <td>NaN</td>\n",
       "      <td>1.0</td>\n",
       "      <td>1.0</td>\n",
       "      <td>NaN</td>\n",
       "      <td>NaN</td>\n",
       "      <td>...</td>\n",
       "      <td>0.0</td>\n",
       "      <td>NaN</td>\n",
       "      <td>-17129300.0</td>\n",
       "      <td>NaN</td>\n",
       "      <td>2.017568</td>\n",
       "      <td>52.31269</td>\n",
       "      <td>NaN</td>\n",
       "      <td>0.0</td>\n",
       "      <td>96.68634</td>\n",
       "      <td>0</td>\n",
       "    </tr>\n",
       "    <tr>\n",
       "      <th>2016-07-06 12:59:59</th>\n",
       "      <td>NaN</td>\n",
       "      <td>NaN</td>\n",
       "      <td>NaN</td>\n",
       "      <td>NaN</td>\n",
       "      <td>NaN</td>\n",
       "      <td>NaN</td>\n",
       "      <td>1.0</td>\n",
       "      <td>1.0</td>\n",
       "      <td>NaN</td>\n",
       "      <td>NaN</td>\n",
       "      <td>...</td>\n",
       "      <td>0.0</td>\n",
       "      <td>NaN</td>\n",
       "      <td>-17129300.0</td>\n",
       "      <td>NaN</td>\n",
       "      <td>2.017489</td>\n",
       "      <td>52.31185</td>\n",
       "      <td>NaN</td>\n",
       "      <td>0.0</td>\n",
       "      <td>96.68634</td>\n",
       "      <td>0</td>\n",
       "    </tr>\n",
       "    <tr>\n",
       "      <th>2016-07-06 13:00:00</th>\n",
       "      <td>NaN</td>\n",
       "      <td>NaN</td>\n",
       "      <td>NaN</td>\n",
       "      <td>NaN</td>\n",
       "      <td>NaN</td>\n",
       "      <td>NaN</td>\n",
       "      <td>1.0</td>\n",
       "      <td>1.0</td>\n",
       "      <td>NaN</td>\n",
       "      <td>NaN</td>\n",
       "      <td>...</td>\n",
       "      <td>0.0</td>\n",
       "      <td>NaN</td>\n",
       "      <td>-17129300.0</td>\n",
       "      <td>NaN</td>\n",
       "      <td>2.017409</td>\n",
       "      <td>52.31100</td>\n",
       "      <td>NaN</td>\n",
       "      <td>0.0</td>\n",
       "      <td>96.68634</td>\n",
       "      <td>0</td>\n",
       "    </tr>\n",
       "  </tbody>\n",
       "</table>\n",
       "<p>154801 rows × 28 columns</p>\n",
       "</div>"
      ],
      "text/plain": [
       "                     ABER-CKGL  ABER-CKP  ESTADO-DHSV  ESTADO-M1  ESTADO-M2  \\\n",
       "timestamp                                                                     \n",
       "2016-07-04 18:00:00        NaN       NaN          NaN        NaN        NaN   \n",
       "2016-07-04 18:00:01        NaN       NaN          NaN        NaN        NaN   \n",
       "2016-07-04 18:00:02        NaN       NaN          NaN        NaN        NaN   \n",
       "2016-07-04 18:00:03        NaN       NaN          NaN        NaN        NaN   \n",
       "2016-07-04 18:00:04        NaN       NaN          NaN        NaN        NaN   \n",
       "...                        ...       ...          ...        ...        ...   \n",
       "2016-07-06 12:59:56        NaN       NaN          NaN        NaN        NaN   \n",
       "2016-07-06 12:59:57        NaN       NaN          NaN        NaN        NaN   \n",
       "2016-07-06 12:59:58        NaN       NaN          NaN        NaN        NaN   \n",
       "2016-07-06 12:59:59        NaN       NaN          NaN        NaN        NaN   \n",
       "2016-07-06 13:00:00        NaN       NaN          NaN        NaN        NaN   \n",
       "\n",
       "                     ESTADO-PXO  ESTADO-SDV-GL  ESTADO-SDV-P  ESTADO-W1  \\\n",
       "timestamp                                                                 \n",
       "2016-07-04 18:00:00         NaN            1.0           1.0        NaN   \n",
       "2016-07-04 18:00:01         NaN            1.0           1.0        NaN   \n",
       "2016-07-04 18:00:02         NaN            1.0           1.0        NaN   \n",
       "2016-07-04 18:00:03         NaN            1.0           1.0        NaN   \n",
       "2016-07-04 18:00:04         NaN            1.0           1.0        NaN   \n",
       "...                         ...            ...           ...        ...   \n",
       "2016-07-06 12:59:56         NaN            1.0           1.0        NaN   \n",
       "2016-07-06 12:59:57         NaN            1.0           1.0        NaN   \n",
       "2016-07-06 12:59:58         NaN            1.0           1.0        NaN   \n",
       "2016-07-06 12:59:59         NaN            1.0           1.0        NaN   \n",
       "2016-07-06 13:00:00         NaN            1.0           1.0        NaN   \n",
       "\n",
       "                     ESTADO-W2  ...  P-PDG  PT-P       P-TPT  QBS       QGL  \\\n",
       "timestamp                       ...                                           \n",
       "2016-07-04 18:00:00        NaN  ...    0.0   NaN -17129300.0  NaN  2.030010   \n",
       "2016-07-04 18:00:01        NaN  ...    0.0   NaN -17129300.0  NaN  2.028295   \n",
       "2016-07-04 18:00:02        NaN  ...    0.0   NaN -17129300.0  NaN  2.026579   \n",
       "2016-07-04 18:00:03        NaN  ...    0.0   NaN -17129300.0  NaN  2.024863   \n",
       "2016-07-04 18:00:04        NaN  ...    0.0   NaN -17129300.0  NaN  2.024550   \n",
       "...                        ...  ...    ...   ...         ...  ...       ...   \n",
       "2016-07-06 12:59:56        NaN  ...    0.0   NaN -17129300.0  NaN  2.017727   \n",
       "2016-07-06 12:59:57        NaN  ...    0.0   NaN -17129300.0  NaN  2.017647   \n",
       "2016-07-06 12:59:58        NaN  ...    0.0   NaN -17129300.0  NaN  2.017568   \n",
       "2016-07-06 12:59:59        NaN  ...    0.0   NaN -17129300.0  NaN  2.017489   \n",
       "2016-07-06 13:00:00        NaN  ...    0.0   NaN -17129300.0  NaN  2.017409   \n",
       "\n",
       "                     T-JUS-CKP  T-MON-CKP  T-PDG     T-TPT  state  \n",
       "timestamp                                                          \n",
       "2016-07-04 18:00:00   55.14078        NaN    0.0  95.97056   <NA>  \n",
       "2016-07-04 18:00:01   55.14299        NaN    0.0  95.96629   <NA>  \n",
       "2016-07-04 18:00:02   55.14520        NaN    0.0  95.96203   <NA>  \n",
       "2016-07-04 18:00:03   55.14741        NaN    0.0  95.95777   <NA>  \n",
       "2016-07-04 18:00:04   55.14962        NaN    0.0  95.95351   <NA>  \n",
       "...                        ...        ...    ...       ...    ...  \n",
       "2016-07-06 12:59:56   52.31438        NaN    0.0  96.69060      0  \n",
       "2016-07-06 12:59:57   52.31354        NaN    0.0  96.68634      0  \n",
       "2016-07-06 12:59:58   52.31269        NaN    0.0  96.68634      0  \n",
       "2016-07-06 12:59:59   52.31185        NaN    0.0  96.68634      0  \n",
       "2016-07-06 13:00:00   52.31100        NaN    0.0  96.68634      0  \n",
       "\n",
       "[154801 rows x 28 columns]"
      ]
     },
     "execution_count": 23,
     "metadata": {},
     "output_type": "execute_result"
    }
   ],
   "source": [
    "ds[event_id][\"signal\"]"
   ]
  },
  {
   "cell_type": "markdown",
   "metadata": {},
   "source": [
    "Let's also check the unique values in \"label\" "
   ]
  },
  {
   "cell_type": "code",
   "execution_count": 21,
   "metadata": {},
   "outputs": [
    {
     "data": {
      "text/plain": [
       "array([  0., 107.,  nan])"
      ]
     },
     "execution_count": 21,
     "metadata": {},
     "output_type": "execute_result"
    }
   ],
   "source": [
    "import numpy as np\n",
    "np.unique(ds[0][\"label\"])\n",
    "     "
   ]
  },
  {
   "cell_type": "code",
   "execution_count": 22,
   "metadata": {},
   "outputs": [
    {
     "data": {
      "text/html": [
       "<div>\n",
       "<style scoped>\n",
       "    .dataframe tbody tr th:only-of-type {\n",
       "        vertical-align: middle;\n",
       "    }\n",
       "\n",
       "    .dataframe tbody tr th {\n",
       "        vertical-align: top;\n",
       "    }\n",
       "\n",
       "    .dataframe thead th {\n",
       "        text-align: right;\n",
       "    }\n",
       "</style>\n",
       "<table border=\"1\" class=\"dataframe\">\n",
       "  <thead>\n",
       "    <tr style=\"text-align: right;\">\n",
       "      <th></th>\n",
       "      <th>class</th>\n",
       "    </tr>\n",
       "    <tr>\n",
       "      <th>timestamp</th>\n",
       "      <th></th>\n",
       "    </tr>\n",
       "  </thead>\n",
       "  <tbody>\n",
       "    <tr>\n",
       "      <th>2016-07-04 18:00:00</th>\n",
       "      <td>&lt;NA&gt;</td>\n",
       "    </tr>\n",
       "    <tr>\n",
       "      <th>2016-07-04 18:00:01</th>\n",
       "      <td>&lt;NA&gt;</td>\n",
       "    </tr>\n",
       "    <tr>\n",
       "      <th>2016-07-04 18:00:02</th>\n",
       "      <td>&lt;NA&gt;</td>\n",
       "    </tr>\n",
       "    <tr>\n",
       "      <th>2016-07-04 18:00:03</th>\n",
       "      <td>&lt;NA&gt;</td>\n",
       "    </tr>\n",
       "    <tr>\n",
       "      <th>2016-07-04 18:00:04</th>\n",
       "      <td>&lt;NA&gt;</td>\n",
       "    </tr>\n",
       "    <tr>\n",
       "      <th>...</th>\n",
       "      <td>...</td>\n",
       "    </tr>\n",
       "    <tr>\n",
       "      <th>2016-07-06 12:59:56</th>\n",
       "      <td>107</td>\n",
       "    </tr>\n",
       "    <tr>\n",
       "      <th>2016-07-06 12:59:57</th>\n",
       "      <td>107</td>\n",
       "    </tr>\n",
       "    <tr>\n",
       "      <th>2016-07-06 12:59:58</th>\n",
       "      <td>107</td>\n",
       "    </tr>\n",
       "    <tr>\n",
       "      <th>2016-07-06 12:59:59</th>\n",
       "      <td>107</td>\n",
       "    </tr>\n",
       "    <tr>\n",
       "      <th>2016-07-06 13:00:00</th>\n",
       "      <td>107</td>\n",
       "    </tr>\n",
       "  </tbody>\n",
       "</table>\n",
       "<p>154801 rows × 1 columns</p>\n",
       "</div>"
      ],
      "text/plain": [
       "                     class\n",
       "timestamp                 \n",
       "2016-07-04 18:00:00   <NA>\n",
       "2016-07-04 18:00:01   <NA>\n",
       "2016-07-04 18:00:02   <NA>\n",
       "2016-07-04 18:00:03   <NA>\n",
       "2016-07-04 18:00:04   <NA>\n",
       "...                    ...\n",
       "2016-07-06 12:59:56    107\n",
       "2016-07-06 12:59:57    107\n",
       "2016-07-06 12:59:58    107\n",
       "2016-07-06 12:59:59    107\n",
       "2016-07-06 13:00:00    107\n",
       "\n",
       "[154801 rows x 1 columns]"
      ]
     },
     "execution_count": 22,
     "metadata": {},
     "output_type": "execute_result"
    }
   ],
   "source": [
    "ds[0][\"label\"]"
   ]
  },
  {
   "cell_type": "markdown",
   "metadata": {},
   "source": [
    "Its also possible to filter/split the dataset using different methods:"
   ]
  },
  {
   "cell_type": "markdown",
   "metadata": {},
   "source": [
    "#### Split by event type:"
   ]
  },
  {
   "cell_type": "markdown",
   "metadata": {},
   "source": [
    "Lets, as an example select only DRAWN and SIMULATED event types:"
   ]
  },
  {
   "cell_type": "code",
   "execution_count": 23,
   "metadata": {},
   "outputs": [
    {
     "data": {
      "text/plain": [
       "1109"
      ]
     },
     "execution_count": 23,
     "metadata": {},
     "output_type": "execute_result"
    }
   ],
   "source": [
    "event_types = [EventPrefixEnum.DRAWN, EventPrefixEnum.SIMULATED]\n",
    "ds_config = DatasetConfig(path=dataset_path, event_type=event_types) # get drawn and simulated\n",
    "ds = ParquetDataset(ds_config,)\n",
    "len(ds) # should be much smaller"
   ]
  },
  {
   "cell_type": "markdown",
   "metadata": {},
   "source": [
    "And of REAL only:"
   ]
  },
  {
   "cell_type": "code",
   "execution_count": 24,
   "metadata": {},
   "outputs": [
    {
     "data": {
      "text/plain": [
       "1119"
      ]
     },
     "execution_count": 24,
     "metadata": {},
     "output_type": "execute_result"
    }
   ],
   "source": [
    "\n",
    "event_types = [EventPrefixEnum.REAL,]\n",
    "ds_config = DatasetConfig(path=dataset_path, event_type=event_types) # get only real\n",
    "ds = ParquetDataset(ds_config,)\n",
    "len(ds)"
   ]
  },
  {
   "cell_type": "markdown",
   "metadata": {},
   "source": [
    "Any combination of REAL, DRAWN and SIMULATED is also supported."
   ]
  },
  {
   "cell_type": "markdown",
   "metadata": {},
   "source": [
    "#### Split by event class"
   ]
  },
  {
   "cell_type": "markdown",
   "metadata": {},
   "source": [
    "We may also filter by event classes. To select only events from class 0 we would do:"
   ]
  },
  {
   "cell_type": "code",
   "execution_count": 25,
   "metadata": {},
   "outputs": [
    {
     "data": {
      "text/plain": [
       "594"
      ]
     },
     "execution_count": 25,
     "metadata": {},
     "output_type": "execute_result"
    }
   ],
   "source": [
    "target_class = [0]\n",
    "ds_config = DatasetConfig(path=dataset_path, target_class=target_class)\n",
    "ds = ParquetDataset(ds_config,)\n",
    "len(ds)"
   ]
  },
  {
   "cell_type": "code",
   "execution_count": 28,
   "metadata": {},
   "outputs": [
    {
     "data": {
      "text/plain": [
       "array([ 0., nan])"
      ]
     },
     "execution_count": 28,
     "metadata": {},
     "output_type": "execute_result"
    }
   ],
   "source": [
    "np.unique(ds[event_id][\"label\"])"
   ]
  },
  {
   "cell_type": "markdown",
   "metadata": {},
   "source": [
    "And only for class 2:"
   ]
  },
  {
   "cell_type": "code",
   "execution_count": 29,
   "metadata": {},
   "outputs": [
    {
     "data": {
      "text/plain": [
       "38"
      ]
     },
     "execution_count": 29,
     "metadata": {},
     "output_type": "execute_result"
    }
   ],
   "source": [
    "target_class = [2]\n",
    "ds_config = DatasetConfig(path=dataset_path, target_class=target_class)\n",
    "ds = ParquetDataset(ds_config,)\n",
    "len(ds)"
   ]
  },
  {
   "cell_type": "code",
   "execution_count": 30,
   "metadata": {},
   "outputs": [
    {
     "data": {
      "text/plain": [
       "array([  0., 102.,  nan])"
      ]
     },
     "execution_count": 30,
     "metadata": {},
     "output_type": "execute_result"
    }
   ],
   "source": [
    "np.unique(ds[event_id][\"label\"])"
   ]
  },
  {
   "cell_type": "markdown",
   "metadata": {},
   "source": [
    "And we may select multiple classes:"
   ]
  },
  {
   "cell_type": "code",
   "execution_count": 31,
   "metadata": {},
   "outputs": [
    {
     "data": {
      "text/plain": [
       "632"
      ]
     },
     "execution_count": 31,
     "metadata": {},
     "output_type": "execute_result"
    }
   ],
   "source": [
    "target_class = [0, 2]\n",
    "ds_config = DatasetConfig(path=dataset_path, target_class=target_class)\n",
    "ds = ParquetDataset(ds_config, download=False)\n",
    "len(ds)"
   ]
  },
  {
   "cell_type": "markdown",
   "metadata": {},
   "source": [
    "We may combine type and class filters as well. For REAL class 2 events:"
   ]
  },
  {
   "cell_type": "code",
   "execution_count": 32,
   "metadata": {},
   "outputs": [
    {
     "data": {
      "text/plain": [
       "22"
      ]
     },
     "execution_count": 32,
     "metadata": {},
     "output_type": "execute_result"
    }
   ],
   "source": [
    "event_types = [EventPrefixEnum.REAL,]\n",
    "target_class = [2,]\n",
    "ds_config = DatasetConfig(path=dataset_path, event_type=event_types, target_class=target_class)\n",
    "ds = ParquetDataset(ds_config,)\n",
    "len(ds)"
   ]
  },
  {
   "cell_type": "markdown",
   "metadata": {},
   "source": [
    "### Split through file list"
   ]
  },
  {
   "cell_type": "markdown",
   "metadata": {},
   "source": [
    "It is also possible to filter the desired events through a list of event names.\n",
    "\n",
    "This is particularly useful to define train/test splits as the user may desire.\n",
    "\n",
    "Given a list of event names (relative to the dataset root):"
   ]
  },
  {
   "cell_type": "code",
   "execution_count": 33,
   "metadata": {},
   "outputs": [
    {
     "data": {
      "text/plain": [
       "20"
      ]
     },
     "execution_count": 33,
     "metadata": {},
     "output_type": "execute_result"
    }
   ],
   "source": [
    "my_split = [\n",
    "    \"./0/WELL-00008_20170817140222.parquet\",\n",
    "    \"./3/SIMULATED_00061.parquet\",\n",
    "    \"./4/WELL-00004_20140806090103.parquet\",\n",
    "    \"./6/SIMULATED_00117.parquet\",\n",
    "    \"./0/WELL-00001_20170201110124.parquet\",\n",
    "    \"./5/SIMULATED_00138.parquet\",\n",
    "    \"./4/WELL-00005_20170624070158.parquet\",\n",
    "    \"./8/SIMULATED_00044.parquet\",\n",
    "    \"./5/SIMULATED_00303.parquet\",\n",
    "    \"./9/SIMULATED_00028.parquet\",\n",
    "    \"./8/SIMULATED_00072.parquet\",\n",
    "    \"./7/WELL-00022_20180802233838.parquet\",\n",
    "    \"./0/WELL-00003_20170812110000.parquet\",\n",
    "    \"./9/SIMULATED_00115.parquet\",\n",
    "    \"./1/SIMULATED_00025.parquet\",\n",
    "    \"./9/SIMULATED_00065.parquet\",\n",
    "    \"./6/SIMULATED_00041.parquet\",\n",
    "    \"./5/SIMULATED_00329.parquet\",\n",
    "    \"./4/WELL-00004_20141118160016.parquet\",\n",
    "    \"./6/SIMULATED_00095.parquet\"] # can be stored in a my_split.txt file, for instance.\n",
    "\n",
    "len(my_split)"
   ]
  },
  {
   "cell_type": "code",
   "execution_count": 34,
   "metadata": {},
   "outputs": [
    {
     "data": {
      "text/plain": [
       "20"
      ]
     },
     "execution_count": 34,
     "metadata": {},
     "output_type": "execute_result"
    }
   ],
   "source": [
    "ds_config = DatasetConfig(path=dataset_path, split=\"list\", file_list=my_split) # get only files in split\n",
    "ds = ParquetDataset(ds_config)\n",
    "len(ds)"
   ]
  },
  {
   "cell_type": "code",
   "execution_count": 35,
   "metadata": {},
   "outputs": [
    {
     "data": {
      "text/html": [
       "<div>\n",
       "<style scoped>\n",
       "    .dataframe tbody tr th:only-of-type {\n",
       "        vertical-align: middle;\n",
       "    }\n",
       "\n",
       "    .dataframe tbody tr th {\n",
       "        vertical-align: top;\n",
       "    }\n",
       "\n",
       "    .dataframe thead th {\n",
       "        text-align: right;\n",
       "    }\n",
       "</style>\n",
       "<table border=\"1\" class=\"dataframe\">\n",
       "  <thead>\n",
       "    <tr style=\"text-align: right;\">\n",
       "      <th></th>\n",
       "      <th>class</th>\n",
       "    </tr>\n",
       "    <tr>\n",
       "      <th>timestamp</th>\n",
       "      <th></th>\n",
       "    </tr>\n",
       "  </thead>\n",
       "  <tbody>\n",
       "    <tr>\n",
       "      <th>2014-08-06 09:01:03</th>\n",
       "      <td>&lt;NA&gt;</td>\n",
       "    </tr>\n",
       "    <tr>\n",
       "      <th>2014-08-06 09:01:04</th>\n",
       "      <td>&lt;NA&gt;</td>\n",
       "    </tr>\n",
       "    <tr>\n",
       "      <th>2014-08-06 09:01:05</th>\n",
       "      <td>&lt;NA&gt;</td>\n",
       "    </tr>\n",
       "    <tr>\n",
       "      <th>2014-08-06 09:01:06</th>\n",
       "      <td>&lt;NA&gt;</td>\n",
       "    </tr>\n",
       "    <tr>\n",
       "      <th>2014-08-06 09:01:07</th>\n",
       "      <td>&lt;NA&gt;</td>\n",
       "    </tr>\n",
       "    <tr>\n",
       "      <th>...</th>\n",
       "      <td>...</td>\n",
       "    </tr>\n",
       "    <tr>\n",
       "      <th>2014-08-06 11:59:56</th>\n",
       "      <td>4</td>\n",
       "    </tr>\n",
       "    <tr>\n",
       "      <th>2014-08-06 11:59:57</th>\n",
       "      <td>4</td>\n",
       "    </tr>\n",
       "    <tr>\n",
       "      <th>2014-08-06 11:59:58</th>\n",
       "      <td>4</td>\n",
       "    </tr>\n",
       "    <tr>\n",
       "      <th>2014-08-06 11:59:59</th>\n",
       "      <td>4</td>\n",
       "    </tr>\n",
       "    <tr>\n",
       "      <th>2014-08-06 12:00:00</th>\n",
       "      <td>4</td>\n",
       "    </tr>\n",
       "  </tbody>\n",
       "</table>\n",
       "<p>10738 rows × 1 columns</p>\n",
       "</div>"
      ],
      "text/plain": [
       "                     class\n",
       "timestamp                 \n",
       "2014-08-06 09:01:03   <NA>\n",
       "2014-08-06 09:01:04   <NA>\n",
       "2014-08-06 09:01:05   <NA>\n",
       "2014-08-06 09:01:06   <NA>\n",
       "2014-08-06 09:01:07   <NA>\n",
       "...                    ...\n",
       "2014-08-06 11:59:56      4\n",
       "2014-08-06 11:59:57      4\n",
       "2014-08-06 11:59:58      4\n",
       "2014-08-06 11:59:59      4\n",
       "2014-08-06 12:00:00      4\n",
       "\n",
       "[10738 rows x 1 columns]"
      ]
     },
     "execution_count": 35,
     "metadata": {},
     "output_type": "execute_result"
    }
   ],
   "source": [
    "ds[2]['label']"
   ]
  },
  {
   "cell_type": "markdown",
   "metadata": {},
   "source": [
    "### 2.3 Transforming the dataset"
   ]
  },
  {
   "cell_type": "markdown",
   "metadata": {},
   "source": [
    "It is possible to lazily apply transformations on the dataset.\n",
    "\n",
    "Suppose we would like to multiply all signals through some factor. This can be accomplished through the transform method."
   ]
  },
  {
   "cell_type": "code",
   "execution_count": 36,
   "metadata": {},
   "outputs": [
    {
     "data": {
      "text/plain": [
       "2228"
      ]
     },
     "execution_count": 36,
     "metadata": {},
     "output_type": "execute_result"
    }
   ],
   "source": [
    "ds_config = DatasetConfig(path=dataset_path,)\n",
    "raw_dataset = ParquetDataset(ds_config,)\n",
    "len(raw_dataset)"
   ]
  },
  {
   "cell_type": "markdown",
   "metadata": {},
   "source": [
    "We define a function with a named argument \"signal\", and create a proxy through `.transform`"
   ]
  },
  {
   "cell_type": "code",
   "execution_count": 37,
   "metadata": {},
   "outputs": [
    {
     "data": {
      "text/plain": [
       "2228"
      ]
     },
     "execution_count": 37,
     "metadata": {},
     "output_type": "execute_result"
    }
   ],
   "source": [
    "def scale_up(signal, *args, **kwargs):\n",
    "    return signal*5\n",
    "\n",
    "scaled_dataset = raw_dataset.transform({\"signal\": scale_up}) # signal becomes the output of scale_up.\n",
    "len(scaled_dataset)"
   ]
  },
  {
   "cell_type": "code",
   "execution_count": 38,
   "metadata": {},
   "outputs": [
    {
     "data": {
      "text/plain": [
       "timestamp\n",
       "2018-09-29 22:28:43    80.948930\n",
       "2018-09-29 22:28:44    80.948975\n",
       "2018-09-29 22:28:45    80.948910\n",
       "2018-09-29 22:28:46    80.948948\n",
       "2018-09-29 22:28:47    80.948880\n",
       "                         ...    \n",
       "2018-09-30 07:08:37    25.032530\n",
       "2018-09-30 07:08:38    25.032520\n",
       "2018-09-30 07:08:39    25.032520\n",
       "2018-09-30 07:08:40    25.032520\n",
       "2018-09-30 07:08:41    25.032520\n",
       "Name: T-JUS-CKP, Length: 31199, dtype: float64"
      ]
     },
     "execution_count": 38,
     "metadata": {},
     "output_type": "execute_result"
    }
   ],
   "source": [
    "raw_dataset[100][\"signal\"][\"T-JUS-CKP\"]"
   ]
  },
  {
   "cell_type": "markdown",
   "metadata": {},
   "source": [
    "In this case, only \"signal\" was modified."
   ]
  },
  {
   "cell_type": "code",
   "execution_count": 39,
   "metadata": {},
   "outputs": [
    {
     "data": {
      "text/plain": [
       "timestamp\n",
       "2018-09-29 22:28:43    404.744650\n",
       "2018-09-29 22:28:44    404.744875\n",
       "2018-09-29 22:28:45    404.744550\n",
       "2018-09-29 22:28:46    404.744738\n",
       "2018-09-29 22:28:47    404.744400\n",
       "                          ...    \n",
       "2018-09-30 07:08:37    125.162650\n",
       "2018-09-30 07:08:38    125.162600\n",
       "2018-09-30 07:08:39    125.162600\n",
       "2018-09-30 07:08:40    125.162600\n",
       "2018-09-30 07:08:41    125.162600\n",
       "Name: T-JUS-CKP, Length: 31199, dtype: float64"
      ]
     },
     "execution_count": 39,
     "metadata": {},
     "output_type": "execute_result"
    }
   ],
   "source": [
    "scaled_dataset[100][\"signal\"][\"T-JUS-CKP\"]"
   ]
  },
  {
   "cell_type": "markdown",
   "metadata": {},
   "source": [
    "### Basic cleanup"
   ]
  },
  {
   "cell_type": "markdown",
   "metadata": {},
   "source": [
    "Some dataset tags are mostly non present.\n",
    "\n",
    "We provide some functions for data cleaning/normalization tailored for the 2.0.0 version.\n",
    "\n",
    "The function `default_data_cleanup` performs the following steps:\n",
    "* Removal of unused tags\n",
    "* Identification and removal of invalid sensor readings (outside a predefined range)\n",
    "* Identification and removal of frozen sensor readings\n"
   ]
  },
  {
   "cell_type": "markdown",
   "metadata": {},
   "source": [
    "Faulty sensor readings are replaced with `<NA>`."
   ]
  },
  {
   "cell_type": "code",
   "execution_count": 40,
   "metadata": {},
   "outputs": [],
   "source": [
    "ds_config = DatasetConfig(path=dataset_path,)\n",
    "raw_dataset = ParquetDataset(ds_config,)\n",
    "cleaned_dataset = raw_dataset.transform({\"signal\": default_data_cleanup})"
   ]
  },
  {
   "cell_type": "code",
   "execution_count": 41,
   "metadata": {},
   "outputs": [
    {
     "name": "stdout",
     "output_type": "stream",
     "text": [
      "['ABER-CKGL', 'ABER-CKP', 'ESTADO-DHSV', 'ESTADO-M1', 'ESTADO-M2', 'ESTADO-PXO', 'ESTADO-SDV-GL', 'ESTADO-SDV-P', 'ESTADO-W1', 'ESTADO-W2', 'ESTADO-XO', 'P-ANULAR', 'P-JUS-BS', 'P-JUS-CKGL', 'P-JUS-CKP', 'P-MON-CKGL', 'P-MON-CKP', 'P-MON-SDV-P', 'P-PDG', 'PT-P', 'P-TPT', 'QBS', 'QGL', 'T-JUS-CKP', 'T-MON-CKP', 'T-PDG', 'T-TPT', 'state']\n"
     ]
    }
   ],
   "source": [
    "print(list(raw_dataset[0][\"signal\"].columns))"
   ]
  },
  {
   "cell_type": "code",
   "execution_count": 42,
   "metadata": {},
   "outputs": [
    {
     "name": "stdout",
     "output_type": "stream",
     "text": [
      "['ABER-CKGL', 'ABER-CKP', 'ESTADO-DHSV', 'ESTADO-M1', 'ESTADO-M2', 'ESTADO-PXO', 'ESTADO-SDV-GL', 'ESTADO-SDV-P', 'ESTADO-W1', 'ESTADO-W2', 'ESTADO-XO', 'P-ANULAR', 'P-JUS-CKGL', 'P-JUS-CKP', 'P-MON-CKP', 'P-PDG', 'P-TPT', 'QGL', 'T-JUS-CKP', 'T-MON-CKP', 'T-PDG', 'T-TPT']\n"
     ]
    }
   ],
   "source": [
    "print(list(cleaned_dataset[0][\"signal\"].columns))"
   ]
  },
  {
   "cell_type": "markdown",
   "metadata": {},
   "source": [
    "### Normalization"
   ]
  },
  {
   "cell_type": "markdown",
   "metadata": {},
   "source": [
    "From a cleaned dataset, we may compute valid statistics.\n",
    "\n",
    "We provide the `default_data_normalization`, that recenters and rescales valid data from pre-computed values:\n"
   ]
  },
  {
   "cell_type": "code",
   "execution_count": 43,
   "metadata": {},
   "outputs": [],
   "source": [
    "normalized_dataset = cleaned_dataset.transform({\"signal\": default_data_normalization}) # note transformation is chained from cleaning"
   ]
  },
  {
   "cell_type": "code",
   "execution_count": 44,
   "metadata": {},
   "outputs": [
    {
     "data": {
      "text/plain": [
       "timestamp\n",
       "2016-07-04 18:00:00   NaN\n",
       "2016-07-04 18:00:01   NaN\n",
       "2016-07-04 18:00:02   NaN\n",
       "2016-07-04 18:00:03   NaN\n",
       "2016-07-04 18:00:04   NaN\n",
       "                       ..\n",
       "2016-07-06 12:59:56   NaN\n",
       "2016-07-06 12:59:57   NaN\n",
       "2016-07-06 12:59:58   NaN\n",
       "2016-07-06 12:59:59   NaN\n",
       "2016-07-06 13:00:00   NaN\n",
       "Name: P-TPT, Length: 154801, dtype: float64"
      ]
     },
     "execution_count": 44,
     "metadata": {},
     "output_type": "execute_result"
    }
   ],
   "source": [
    "normalized_dataset[0][\"signal\"][\"P-TPT\"] # normalized values"
   ]
  },
  {
   "cell_type": "markdown",
   "metadata": {},
   "source": [
    "### Default preprocessing\n"
   ]
  },
  {
   "cell_type": "markdown",
   "metadata": {},
   "source": [
    "Considering that a good starting point includes cleaning/normalizing and imputing missing data, we provide the `default_data_processing` function, that performs the following transformation steps:\n",
    "* applies `default_data_cleanup`\n",
    "* applies `default_data_normalization`\n",
    "* replaces `\\<NA\\>` by 0 (the post-normalization average)\n"
   ]
  },
  {
   "cell_type": "markdown",
   "metadata": {},
   "source": [
    "This way, in a few lines we have a decent preprocessed baseline data:"
   ]
  },
  {
   "cell_type": "code",
   "execution_count": 45,
   "metadata": {},
   "outputs": [
    {
     "data": {
      "text/html": [
       "<div>\n",
       "<style scoped>\n",
       "    .dataframe tbody tr th:only-of-type {\n",
       "        vertical-align: middle;\n",
       "    }\n",
       "\n",
       "    .dataframe tbody tr th {\n",
       "        vertical-align: top;\n",
       "    }\n",
       "\n",
       "    .dataframe thead th {\n",
       "        text-align: right;\n",
       "    }\n",
       "</style>\n",
       "<table border=\"1\" class=\"dataframe\">\n",
       "  <thead>\n",
       "    <tr style=\"text-align: right;\">\n",
       "      <th></th>\n",
       "      <th>ABER-CKGL</th>\n",
       "      <th>ABER-CKP</th>\n",
       "      <th>ESTADO-DHSV</th>\n",
       "      <th>ESTADO-M1</th>\n",
       "      <th>ESTADO-M2</th>\n",
       "      <th>ESTADO-PXO</th>\n",
       "      <th>ESTADO-SDV-GL</th>\n",
       "      <th>ESTADO-SDV-P</th>\n",
       "      <th>ESTADO-W1</th>\n",
       "      <th>ESTADO-W2</th>\n",
       "      <th>...</th>\n",
       "      <th>P-JUS-CKGL</th>\n",
       "      <th>P-JUS-CKP</th>\n",
       "      <th>P-MON-CKP</th>\n",
       "      <th>P-PDG</th>\n",
       "      <th>P-TPT</th>\n",
       "      <th>QGL</th>\n",
       "      <th>T-JUS-CKP</th>\n",
       "      <th>T-MON-CKP</th>\n",
       "      <th>T-PDG</th>\n",
       "      <th>T-TPT</th>\n",
       "    </tr>\n",
       "    <tr>\n",
       "      <th>timestamp</th>\n",
       "      <th></th>\n",
       "      <th></th>\n",
       "      <th></th>\n",
       "      <th></th>\n",
       "      <th></th>\n",
       "      <th></th>\n",
       "      <th></th>\n",
       "      <th></th>\n",
       "      <th></th>\n",
       "      <th></th>\n",
       "      <th></th>\n",
       "      <th></th>\n",
       "      <th></th>\n",
       "      <th></th>\n",
       "      <th></th>\n",
       "      <th></th>\n",
       "      <th></th>\n",
       "      <th></th>\n",
       "      <th></th>\n",
       "      <th></th>\n",
       "      <th></th>\n",
       "    </tr>\n",
       "  </thead>\n",
       "  <tbody>\n",
       "    <tr>\n",
       "      <th>2018-10-06 11:10:47</th>\n",
       "      <td>0.0</td>\n",
       "      <td>0.0</td>\n",
       "      <td>0.0</td>\n",
       "      <td>0.0</td>\n",
       "      <td>0.0</td>\n",
       "      <td>0.0</td>\n",
       "      <td>0.0</td>\n",
       "      <td>0.0</td>\n",
       "      <td>0.0</td>\n",
       "      <td>0.0</td>\n",
       "      <td>...</td>\n",
       "      <td>0.0</td>\n",
       "      <td>0.0</td>\n",
       "      <td>-0.089532</td>\n",
       "      <td>-0.137420</td>\n",
       "      <td>-0.168300</td>\n",
       "      <td>0.0</td>\n",
       "      <td>0.277090</td>\n",
       "      <td>0.0</td>\n",
       "      <td>0.0</td>\n",
       "      <td>-0.064378</td>\n",
       "    </tr>\n",
       "    <tr>\n",
       "      <th>2018-10-06 11:10:48</th>\n",
       "      <td>0.0</td>\n",
       "      <td>0.0</td>\n",
       "      <td>0.0</td>\n",
       "      <td>0.0</td>\n",
       "      <td>0.0</td>\n",
       "      <td>0.0</td>\n",
       "      <td>0.0</td>\n",
       "      <td>0.0</td>\n",
       "      <td>0.0</td>\n",
       "      <td>0.0</td>\n",
       "      <td>...</td>\n",
       "      <td>0.0</td>\n",
       "      <td>0.0</td>\n",
       "      <td>-0.089532</td>\n",
       "      <td>-0.137420</td>\n",
       "      <td>-0.168293</td>\n",
       "      <td>0.0</td>\n",
       "      <td>0.277092</td>\n",
       "      <td>0.0</td>\n",
       "      <td>0.0</td>\n",
       "      <td>-0.064377</td>\n",
       "    </tr>\n",
       "    <tr>\n",
       "      <th>2018-10-06 11:10:49</th>\n",
       "      <td>0.0</td>\n",
       "      <td>0.0</td>\n",
       "      <td>0.0</td>\n",
       "      <td>0.0</td>\n",
       "      <td>0.0</td>\n",
       "      <td>0.0</td>\n",
       "      <td>0.0</td>\n",
       "      <td>0.0</td>\n",
       "      <td>0.0</td>\n",
       "      <td>0.0</td>\n",
       "      <td>...</td>\n",
       "      <td>0.0</td>\n",
       "      <td>0.0</td>\n",
       "      <td>-0.089532</td>\n",
       "      <td>-0.137421</td>\n",
       "      <td>-0.168287</td>\n",
       "      <td>0.0</td>\n",
       "      <td>0.277094</td>\n",
       "      <td>0.0</td>\n",
       "      <td>0.0</td>\n",
       "      <td>-0.064375</td>\n",
       "    </tr>\n",
       "    <tr>\n",
       "      <th>2018-10-06 11:10:50</th>\n",
       "      <td>0.0</td>\n",
       "      <td>0.0</td>\n",
       "      <td>0.0</td>\n",
       "      <td>0.0</td>\n",
       "      <td>0.0</td>\n",
       "      <td>0.0</td>\n",
       "      <td>0.0</td>\n",
       "      <td>0.0</td>\n",
       "      <td>0.0</td>\n",
       "      <td>0.0</td>\n",
       "      <td>...</td>\n",
       "      <td>0.0</td>\n",
       "      <td>0.0</td>\n",
       "      <td>-0.089532</td>\n",
       "      <td>-0.137421</td>\n",
       "      <td>-0.168299</td>\n",
       "      <td>0.0</td>\n",
       "      <td>0.277096</td>\n",
       "      <td>0.0</td>\n",
       "      <td>0.0</td>\n",
       "      <td>-0.064377</td>\n",
       "    </tr>\n",
       "    <tr>\n",
       "      <th>2018-10-06 11:10:51</th>\n",
       "      <td>0.0</td>\n",
       "      <td>0.0</td>\n",
       "      <td>0.0</td>\n",
       "      <td>0.0</td>\n",
       "      <td>0.0</td>\n",
       "      <td>0.0</td>\n",
       "      <td>0.0</td>\n",
       "      <td>0.0</td>\n",
       "      <td>0.0</td>\n",
       "      <td>0.0</td>\n",
       "      <td>...</td>\n",
       "      <td>0.0</td>\n",
       "      <td>0.0</td>\n",
       "      <td>-0.089532</td>\n",
       "      <td>-0.137423</td>\n",
       "      <td>-0.168308</td>\n",
       "      <td>0.0</td>\n",
       "      <td>0.277098</td>\n",
       "      <td>0.0</td>\n",
       "      <td>0.0</td>\n",
       "      <td>-0.064378</td>\n",
       "    </tr>\n",
       "    <tr>\n",
       "      <th>...</th>\n",
       "      <td>...</td>\n",
       "      <td>...</td>\n",
       "      <td>...</td>\n",
       "      <td>...</td>\n",
       "      <td>...</td>\n",
       "      <td>...</td>\n",
       "      <td>...</td>\n",
       "      <td>...</td>\n",
       "      <td>...</td>\n",
       "      <td>...</td>\n",
       "      <td>...</td>\n",
       "      <td>...</td>\n",
       "      <td>...</td>\n",
       "      <td>...</td>\n",
       "      <td>...</td>\n",
       "      <td>...</td>\n",
       "      <td>...</td>\n",
       "      <td>...</td>\n",
       "      <td>...</td>\n",
       "      <td>...</td>\n",
       "      <td>...</td>\n",
       "    </tr>\n",
       "    <tr>\n",
       "      <th>2018-10-07 11:50:42</th>\n",
       "      <td>0.0</td>\n",
       "      <td>0.0</td>\n",
       "      <td>0.0</td>\n",
       "      <td>0.0</td>\n",
       "      <td>0.0</td>\n",
       "      <td>0.0</td>\n",
       "      <td>0.0</td>\n",
       "      <td>0.0</td>\n",
       "      <td>0.0</td>\n",
       "      <td>0.0</td>\n",
       "      <td>...</td>\n",
       "      <td>0.0</td>\n",
       "      <td>0.0</td>\n",
       "      <td>-0.102207</td>\n",
       "      <td>0.232046</td>\n",
       "      <td>0.104662</td>\n",
       "      <td>0.0</td>\n",
       "      <td>0.364458</td>\n",
       "      <td>0.0</td>\n",
       "      <td>0.0</td>\n",
       "      <td>-0.005665</td>\n",
       "    </tr>\n",
       "    <tr>\n",
       "      <th>2018-10-07 11:50:43</th>\n",
       "      <td>0.0</td>\n",
       "      <td>0.0</td>\n",
       "      <td>0.0</td>\n",
       "      <td>0.0</td>\n",
       "      <td>0.0</td>\n",
       "      <td>0.0</td>\n",
       "      <td>0.0</td>\n",
       "      <td>0.0</td>\n",
       "      <td>0.0</td>\n",
       "      <td>0.0</td>\n",
       "      <td>...</td>\n",
       "      <td>0.0</td>\n",
       "      <td>0.0</td>\n",
       "      <td>-0.102207</td>\n",
       "      <td>0.232032</td>\n",
       "      <td>0.104637</td>\n",
       "      <td>0.0</td>\n",
       "      <td>0.364457</td>\n",
       "      <td>0.0</td>\n",
       "      <td>0.0</td>\n",
       "      <td>-0.005664</td>\n",
       "    </tr>\n",
       "    <tr>\n",
       "      <th>2018-10-07 11:50:44</th>\n",
       "      <td>0.0</td>\n",
       "      <td>0.0</td>\n",
       "      <td>0.0</td>\n",
       "      <td>0.0</td>\n",
       "      <td>0.0</td>\n",
       "      <td>0.0</td>\n",
       "      <td>0.0</td>\n",
       "      <td>0.0</td>\n",
       "      <td>0.0</td>\n",
       "      <td>0.0</td>\n",
       "      <td>...</td>\n",
       "      <td>0.0</td>\n",
       "      <td>0.0</td>\n",
       "      <td>-0.102208</td>\n",
       "      <td>0.232015</td>\n",
       "      <td>0.104611</td>\n",
       "      <td>0.0</td>\n",
       "      <td>0.364456</td>\n",
       "      <td>0.0</td>\n",
       "      <td>0.0</td>\n",
       "      <td>-0.005663</td>\n",
       "    </tr>\n",
       "    <tr>\n",
       "      <th>2018-10-07 11:50:45</th>\n",
       "      <td>0.0</td>\n",
       "      <td>0.0</td>\n",
       "      <td>0.0</td>\n",
       "      <td>0.0</td>\n",
       "      <td>0.0</td>\n",
       "      <td>0.0</td>\n",
       "      <td>0.0</td>\n",
       "      <td>0.0</td>\n",
       "      <td>0.0</td>\n",
       "      <td>0.0</td>\n",
       "      <td>...</td>\n",
       "      <td>0.0</td>\n",
       "      <td>0.0</td>\n",
       "      <td>-0.102208</td>\n",
       "      <td>0.232000</td>\n",
       "      <td>0.104587</td>\n",
       "      <td>0.0</td>\n",
       "      <td>0.364455</td>\n",
       "      <td>0.0</td>\n",
       "      <td>0.0</td>\n",
       "      <td>-0.005662</td>\n",
       "    </tr>\n",
       "    <tr>\n",
       "      <th>2018-10-07 11:50:46</th>\n",
       "      <td>0.0</td>\n",
       "      <td>0.0</td>\n",
       "      <td>0.0</td>\n",
       "      <td>0.0</td>\n",
       "      <td>0.0</td>\n",
       "      <td>0.0</td>\n",
       "      <td>0.0</td>\n",
       "      <td>0.0</td>\n",
       "      <td>0.0</td>\n",
       "      <td>0.0</td>\n",
       "      <td>...</td>\n",
       "      <td>0.0</td>\n",
       "      <td>0.0</td>\n",
       "      <td>-0.102208</td>\n",
       "      <td>0.231984</td>\n",
       "      <td>0.104562</td>\n",
       "      <td>0.0</td>\n",
       "      <td>0.364454</td>\n",
       "      <td>0.0</td>\n",
       "      <td>0.0</td>\n",
       "      <td>-0.005662</td>\n",
       "    </tr>\n",
       "  </tbody>\n",
       "</table>\n",
       "<p>88800 rows × 22 columns</p>\n",
       "</div>"
      ],
      "text/plain": [
       "                     ABER-CKGL  ABER-CKP  ESTADO-DHSV  ESTADO-M1  ESTADO-M2  \\\n",
       "timestamp                                                                     \n",
       "2018-10-06 11:10:47        0.0       0.0          0.0        0.0        0.0   \n",
       "2018-10-06 11:10:48        0.0       0.0          0.0        0.0        0.0   \n",
       "2018-10-06 11:10:49        0.0       0.0          0.0        0.0        0.0   \n",
       "2018-10-06 11:10:50        0.0       0.0          0.0        0.0        0.0   \n",
       "2018-10-06 11:10:51        0.0       0.0          0.0        0.0        0.0   \n",
       "...                        ...       ...          ...        ...        ...   \n",
       "2018-10-07 11:50:42        0.0       0.0          0.0        0.0        0.0   \n",
       "2018-10-07 11:50:43        0.0       0.0          0.0        0.0        0.0   \n",
       "2018-10-07 11:50:44        0.0       0.0          0.0        0.0        0.0   \n",
       "2018-10-07 11:50:45        0.0       0.0          0.0        0.0        0.0   \n",
       "2018-10-07 11:50:46        0.0       0.0          0.0        0.0        0.0   \n",
       "\n",
       "                     ESTADO-PXO  ESTADO-SDV-GL  ESTADO-SDV-P  ESTADO-W1  \\\n",
       "timestamp                                                                 \n",
       "2018-10-06 11:10:47         0.0            0.0           0.0        0.0   \n",
       "2018-10-06 11:10:48         0.0            0.0           0.0        0.0   \n",
       "2018-10-06 11:10:49         0.0            0.0           0.0        0.0   \n",
       "2018-10-06 11:10:50         0.0            0.0           0.0        0.0   \n",
       "2018-10-06 11:10:51         0.0            0.0           0.0        0.0   \n",
       "...                         ...            ...           ...        ...   \n",
       "2018-10-07 11:50:42         0.0            0.0           0.0        0.0   \n",
       "2018-10-07 11:50:43         0.0            0.0           0.0        0.0   \n",
       "2018-10-07 11:50:44         0.0            0.0           0.0        0.0   \n",
       "2018-10-07 11:50:45         0.0            0.0           0.0        0.0   \n",
       "2018-10-07 11:50:46         0.0            0.0           0.0        0.0   \n",
       "\n",
       "                     ESTADO-W2  ...  P-JUS-CKGL  P-JUS-CKP  P-MON-CKP  \\\n",
       "timestamp                       ...                                     \n",
       "2018-10-06 11:10:47        0.0  ...         0.0        0.0  -0.089532   \n",
       "2018-10-06 11:10:48        0.0  ...         0.0        0.0  -0.089532   \n",
       "2018-10-06 11:10:49        0.0  ...         0.0        0.0  -0.089532   \n",
       "2018-10-06 11:10:50        0.0  ...         0.0        0.0  -0.089532   \n",
       "2018-10-06 11:10:51        0.0  ...         0.0        0.0  -0.089532   \n",
       "...                        ...  ...         ...        ...        ...   \n",
       "2018-10-07 11:50:42        0.0  ...         0.0        0.0  -0.102207   \n",
       "2018-10-07 11:50:43        0.0  ...         0.0        0.0  -0.102207   \n",
       "2018-10-07 11:50:44        0.0  ...         0.0        0.0  -0.102208   \n",
       "2018-10-07 11:50:45        0.0  ...         0.0        0.0  -0.102208   \n",
       "2018-10-07 11:50:46        0.0  ...         0.0        0.0  -0.102208   \n",
       "\n",
       "                        P-PDG     P-TPT  QGL  T-JUS-CKP  T-MON-CKP  T-PDG  \\\n",
       "timestamp                                                                   \n",
       "2018-10-06 11:10:47 -0.137420 -0.168300  0.0   0.277090        0.0    0.0   \n",
       "2018-10-06 11:10:48 -0.137420 -0.168293  0.0   0.277092        0.0    0.0   \n",
       "2018-10-06 11:10:49 -0.137421 -0.168287  0.0   0.277094        0.0    0.0   \n",
       "2018-10-06 11:10:50 -0.137421 -0.168299  0.0   0.277096        0.0    0.0   \n",
       "2018-10-06 11:10:51 -0.137423 -0.168308  0.0   0.277098        0.0    0.0   \n",
       "...                       ...       ...  ...        ...        ...    ...   \n",
       "2018-10-07 11:50:42  0.232046  0.104662  0.0   0.364458        0.0    0.0   \n",
       "2018-10-07 11:50:43  0.232032  0.104637  0.0   0.364457        0.0    0.0   \n",
       "2018-10-07 11:50:44  0.232015  0.104611  0.0   0.364456        0.0    0.0   \n",
       "2018-10-07 11:50:45  0.232000  0.104587  0.0   0.364455        0.0    0.0   \n",
       "2018-10-07 11:50:46  0.231984  0.104562  0.0   0.364454        0.0    0.0   \n",
       "\n",
       "                        T-TPT  \n",
       "timestamp                      \n",
       "2018-10-06 11:10:47 -0.064378  \n",
       "2018-10-06 11:10:48 -0.064377  \n",
       "2018-10-06 11:10:49 -0.064375  \n",
       "2018-10-06 11:10:50 -0.064377  \n",
       "2018-10-06 11:10:51 -0.064378  \n",
       "...                       ...  \n",
       "2018-10-07 11:50:42 -0.005665  \n",
       "2018-10-07 11:50:43 -0.005664  \n",
       "2018-10-07 11:50:44 -0.005663  \n",
       "2018-10-07 11:50:45 -0.005662  \n",
       "2018-10-07 11:50:46 -0.005662  \n",
       "\n",
       "[88800 rows x 22 columns]"
      ]
     },
     "execution_count": 45,
     "metadata": {},
     "output_type": "execute_result"
    }
   ],
   "source": [
    "ds_config = DatasetConfig(path=dataset_path,)\n",
    "raw_dataset = ParquetDataset(ds_config,)\n",
    "cleaned_dataset = raw_dataset.transform({\"signal\": default_data_processing}) # directly from raw\n",
    "\n",
    "cleaned_dataset[1000][\"signal\"] # Cleaned, normalized and imputed.\n"
   ]
  },
  {
   "cell_type": "markdown",
   "metadata": {},
   "source": [
    "--------"
   ]
  },
  {
   "cell_type": "markdown",
   "metadata": {},
   "source": [
    "## 3. ⚙️ Preprocessing"
   ]
  },
  {
   "cell_type": "markdown",
   "metadata": {},
   "source": [
    "Pre-processing is an essential step to prepare the dataset before training or evaluating models.\n",
    "The 3W Toolkit provides utility functions to handle missing values, normalize data, segment time series into windows, and rename columns.\n",
    "\n",
    "In this section, we demonstrate the usage of:\n",
    "\n",
    "- `impute_missing_data` → Fill missing values with mean, median, or constant.\n",
    "- `normalize` → Apply L1, L2, or max normalization.\n",
    "- `windowing` → Segment a time series into overlapping windows with a chosen window function.\n",
    "- `rename_columns` → Rename DataFrame columns using a mapping dictionary.\n"
   ]
  },
  {
   "cell_type": "code",
   "execution_count": 4,
   "metadata": {},
   "outputs": [
    {
     "data": {
      "text/plain": [
       "2228"
      ]
     },
     "execution_count": 4,
     "metadata": {},
     "output_type": "execute_result"
    }
   ],
   "source": [
    "# TODO: REMOVE THIS CELL\n",
    "from pathlib import Path\n",
    "from ThreeWToolkit.dataset import ParquetDataset, DatasetConfig\n",
    "\n",
    "dataset_path = Path(\"/data/3w_dataset/\")\n",
    "ds_config = DatasetConfig(path=dataset_path, split=None, file_type=\"parquet\") # load all files, target defaults to 'class'\n",
    "ds = ParquetDataset(ds_config, download=False) # download\n",
    "len(ds)\n"
   ]
  },
  {
   "cell_type": "markdown",
   "metadata": {},
   "source": [
    "First, we select a single event from the dataset and convert its signal to a pandas DataFrame.  \n",
    "Any columns with `Period` dtype are converted to `datetime` to ensure compatibility with subsequent processing steps.  \n",
    "Finally, we display the first rows of the signal to inspect the data.\n",
    "\n"
   ]
  },
  {
   "cell_type": "code",
   "execution_count": 5,
   "metadata": {},
   "outputs": [
    {
     "data": {
      "text/html": [
       "<div>\n",
       "<style scoped>\n",
       "    .dataframe tbody tr th:only-of-type {\n",
       "        vertical-align: middle;\n",
       "    }\n",
       "\n",
       "    .dataframe tbody tr th {\n",
       "        vertical-align: top;\n",
       "    }\n",
       "\n",
       "    .dataframe thead th {\n",
       "        text-align: right;\n",
       "    }\n",
       "</style>\n",
       "<table border=\"1\" class=\"dataframe\">\n",
       "  <thead>\n",
       "    <tr style=\"text-align: right;\">\n",
       "      <th></th>\n",
       "      <th>ABER-CKGL</th>\n",
       "      <th>ABER-CKP</th>\n",
       "      <th>ESTADO-DHSV</th>\n",
       "      <th>ESTADO-M1</th>\n",
       "      <th>ESTADO-M2</th>\n",
       "      <th>ESTADO-PXO</th>\n",
       "      <th>ESTADO-SDV-GL</th>\n",
       "      <th>ESTADO-SDV-P</th>\n",
       "      <th>ESTADO-W1</th>\n",
       "      <th>ESTADO-W2</th>\n",
       "      <th>...</th>\n",
       "      <th>P-PDG</th>\n",
       "      <th>PT-P</th>\n",
       "      <th>P-TPT</th>\n",
       "      <th>QBS</th>\n",
       "      <th>QGL</th>\n",
       "      <th>T-JUS-CKP</th>\n",
       "      <th>T-MON-CKP</th>\n",
       "      <th>T-PDG</th>\n",
       "      <th>T-TPT</th>\n",
       "      <th>state</th>\n",
       "    </tr>\n",
       "    <tr>\n",
       "      <th>timestamp</th>\n",
       "      <th></th>\n",
       "      <th></th>\n",
       "      <th></th>\n",
       "      <th></th>\n",
       "      <th></th>\n",
       "      <th></th>\n",
       "      <th></th>\n",
       "      <th></th>\n",
       "      <th></th>\n",
       "      <th></th>\n",
       "      <th></th>\n",
       "      <th></th>\n",
       "      <th></th>\n",
       "      <th></th>\n",
       "      <th></th>\n",
       "      <th></th>\n",
       "      <th></th>\n",
       "      <th></th>\n",
       "      <th></th>\n",
       "      <th></th>\n",
       "      <th></th>\n",
       "    </tr>\n",
       "  </thead>\n",
       "  <tbody>\n",
       "    <tr>\n",
       "      <th>2018-09-05 20:44:36</th>\n",
       "      <td>NaN</td>\n",
       "      <td>NaN</td>\n",
       "      <td>NaN</td>\n",
       "      <td>NaN</td>\n",
       "      <td>NaN</td>\n",
       "      <td>NaN</td>\n",
       "      <td>NaN</td>\n",
       "      <td>NaN</td>\n",
       "      <td>NaN</td>\n",
       "      <td>NaN</td>\n",
       "      <td>...</td>\n",
       "      <td>420.2314</td>\n",
       "      <td>NaN</td>\n",
       "      <td>175.3406</td>\n",
       "      <td>NaN</td>\n",
       "      <td>NaN</td>\n",
       "      <td>66.7545</td>\n",
       "      <td>NaN</td>\n",
       "      <td>NaN</td>\n",
       "      <td>114.8907</td>\n",
       "      <td>0</td>\n",
       "    </tr>\n",
       "    <tr>\n",
       "      <th>2018-09-05 20:44:37</th>\n",
       "      <td>NaN</td>\n",
       "      <td>NaN</td>\n",
       "      <td>NaN</td>\n",
       "      <td>NaN</td>\n",
       "      <td>NaN</td>\n",
       "      <td>NaN</td>\n",
       "      <td>NaN</td>\n",
       "      <td>NaN</td>\n",
       "      <td>NaN</td>\n",
       "      <td>NaN</td>\n",
       "      <td>...</td>\n",
       "      <td>420.2314</td>\n",
       "      <td>NaN</td>\n",
       "      <td>175.3406</td>\n",
       "      <td>NaN</td>\n",
       "      <td>NaN</td>\n",
       "      <td>66.7545</td>\n",
       "      <td>NaN</td>\n",
       "      <td>NaN</td>\n",
       "      <td>114.8907</td>\n",
       "      <td>0</td>\n",
       "    </tr>\n",
       "    <tr>\n",
       "      <th>2018-09-05 20:44:38</th>\n",
       "      <td>NaN</td>\n",
       "      <td>NaN</td>\n",
       "      <td>NaN</td>\n",
       "      <td>NaN</td>\n",
       "      <td>NaN</td>\n",
       "      <td>NaN</td>\n",
       "      <td>NaN</td>\n",
       "      <td>NaN</td>\n",
       "      <td>NaN</td>\n",
       "      <td>NaN</td>\n",
       "      <td>...</td>\n",
       "      <td>420.2314</td>\n",
       "      <td>NaN</td>\n",
       "      <td>175.3406</td>\n",
       "      <td>NaN</td>\n",
       "      <td>NaN</td>\n",
       "      <td>66.7545</td>\n",
       "      <td>NaN</td>\n",
       "      <td>NaN</td>\n",
       "      <td>114.8907</td>\n",
       "      <td>0</td>\n",
       "    </tr>\n",
       "    <tr>\n",
       "      <th>2018-09-05 20:44:39</th>\n",
       "      <td>NaN</td>\n",
       "      <td>NaN</td>\n",
       "      <td>NaN</td>\n",
       "      <td>NaN</td>\n",
       "      <td>NaN</td>\n",
       "      <td>NaN</td>\n",
       "      <td>NaN</td>\n",
       "      <td>NaN</td>\n",
       "      <td>NaN</td>\n",
       "      <td>NaN</td>\n",
       "      <td>...</td>\n",
       "      <td>420.2314</td>\n",
       "      <td>NaN</td>\n",
       "      <td>175.3406</td>\n",
       "      <td>NaN</td>\n",
       "      <td>NaN</td>\n",
       "      <td>66.7545</td>\n",
       "      <td>NaN</td>\n",
       "      <td>NaN</td>\n",
       "      <td>114.8907</td>\n",
       "      <td>0</td>\n",
       "    </tr>\n",
       "    <tr>\n",
       "      <th>2018-09-05 20:44:40</th>\n",
       "      <td>NaN</td>\n",
       "      <td>NaN</td>\n",
       "      <td>NaN</td>\n",
       "      <td>NaN</td>\n",
       "      <td>NaN</td>\n",
       "      <td>NaN</td>\n",
       "      <td>NaN</td>\n",
       "      <td>NaN</td>\n",
       "      <td>NaN</td>\n",
       "      <td>NaN</td>\n",
       "      <td>...</td>\n",
       "      <td>420.2314</td>\n",
       "      <td>NaN</td>\n",
       "      <td>175.3406</td>\n",
       "      <td>NaN</td>\n",
       "      <td>NaN</td>\n",
       "      <td>66.7545</td>\n",
       "      <td>NaN</td>\n",
       "      <td>NaN</td>\n",
       "      <td>114.8907</td>\n",
       "      <td>0</td>\n",
       "    </tr>\n",
       "  </tbody>\n",
       "</table>\n",
       "<p>5 rows × 28 columns</p>\n",
       "</div>"
      ],
      "text/plain": [
       "                     ABER-CKGL  ABER-CKP  ESTADO-DHSV  ESTADO-M1  ESTADO-M2  \\\n",
       "timestamp                                                                     \n",
       "2018-09-05 20:44:36        NaN       NaN          NaN        NaN        NaN   \n",
       "2018-09-05 20:44:37        NaN       NaN          NaN        NaN        NaN   \n",
       "2018-09-05 20:44:38        NaN       NaN          NaN        NaN        NaN   \n",
       "2018-09-05 20:44:39        NaN       NaN          NaN        NaN        NaN   \n",
       "2018-09-05 20:44:40        NaN       NaN          NaN        NaN        NaN   \n",
       "\n",
       "                     ESTADO-PXO  ESTADO-SDV-GL  ESTADO-SDV-P  ESTADO-W1  \\\n",
       "timestamp                                                                 \n",
       "2018-09-05 20:44:36         NaN            NaN           NaN        NaN   \n",
       "2018-09-05 20:44:37         NaN            NaN           NaN        NaN   \n",
       "2018-09-05 20:44:38         NaN            NaN           NaN        NaN   \n",
       "2018-09-05 20:44:39         NaN            NaN           NaN        NaN   \n",
       "2018-09-05 20:44:40         NaN            NaN           NaN        NaN   \n",
       "\n",
       "                     ESTADO-W2  ...     P-PDG  PT-P     P-TPT  QBS  QGL  \\\n",
       "timestamp                       ...                                       \n",
       "2018-09-05 20:44:36        NaN  ...  420.2314   NaN  175.3406  NaN  NaN   \n",
       "2018-09-05 20:44:37        NaN  ...  420.2314   NaN  175.3406  NaN  NaN   \n",
       "2018-09-05 20:44:38        NaN  ...  420.2314   NaN  175.3406  NaN  NaN   \n",
       "2018-09-05 20:44:39        NaN  ...  420.2314   NaN  175.3406  NaN  NaN   \n",
       "2018-09-05 20:44:40        NaN  ...  420.2314   NaN  175.3406  NaN  NaN   \n",
       "\n",
       "                     T-JUS-CKP  T-MON-CKP  T-PDG     T-TPT  state  \n",
       "timestamp                                                          \n",
       "2018-09-05 20:44:36    66.7545        NaN    NaN  114.8907      0  \n",
       "2018-09-05 20:44:37    66.7545        NaN    NaN  114.8907      0  \n",
       "2018-09-05 20:44:38    66.7545        NaN    NaN  114.8907      0  \n",
       "2018-09-05 20:44:39    66.7545        NaN    NaN  114.8907      0  \n",
       "2018-09-05 20:44:40    66.7545        NaN    NaN  114.8907      0  \n",
       "\n",
       "[5 rows x 28 columns]"
      ]
     },
     "execution_count": 5,
     "metadata": {},
     "output_type": "execute_result"
    }
   ],
   "source": [
    "import pandas as pd\n",
    "\n",
    "# Select a single event from the dataset\n",
    "event_id = 0\n",
    "event = ds[event_id]\n",
    "\n",
    "# Convert the 'signal' to a pandas DataFrame\n",
    "signal = pd.DataFrame(event[\"signal\"])\n",
    "\n",
    "# Convert Period columns to datetime for compatibility\n",
    "for col in signal.columns:\n",
    "    if isinstance(signal[col].dtype, pd.PeriodDtype):\n",
    "        signal[col] = signal[col].dt.to_timestamp()\n",
    "\n",
    "# Display the first rows to inspect the signal\n",
    "signal.head()\n"
   ]
  },
  {
   "cell_type": "markdown",
   "metadata": {},
   "source": [
    "### 3.1 Handling missing values (Imputation)"
   ]
  },
  {
   "cell_type": "markdown",
   "metadata": {},
   "source": [
    "The function `impute_missing_data` fills `NaN` values in numeric columns.\n",
    "It supports three strategies:\n",
    "\n",
    "- mean → Replace NaN with the column mean.\n",
    "- median → Replace NaN with the column median.\n",
    "- constant → Replace NaN with a fixed value (`fill_value`).\n",
    "\n",
    "The column \"T-TPT\" will be used to demonstrate this functionality.\n",
    "\n"
   ]
  },
  {
   "cell_type": "markdown",
   "metadata": {},
   "source": [
    "First, we'll select 5 index values:\n"
   ]
  },
  {
   "cell_type": "code",
   "execution_count": 6,
   "metadata": {},
   "outputs": [
    {
     "name": "stdout",
     "output_type": "stream",
     "text": [
      "Original values at selected indices:\n",
      "timestamp\n",
      "2018-09-05 20:44:36    114.8907\n",
      "2018-09-05 20:44:37    114.8907\n",
      "2018-09-05 20:44:38    114.8907\n",
      "2018-09-05 20:44:39    114.8907\n",
      "2018-09-05 20:44:40    114.8907\n",
      "Name: T-TPT, dtype: float64\n"
     ]
    }
   ],
   "source": [
    "col = \"T-TPT\"\n",
    "indices_to_nan = signal.index[:5]\n",
    "print(\"Original values at selected indices:\")\n",
    "print(signal.loc[indices_to_nan, col])\n"
   ]
  },
  {
   "cell_type": "markdown",
   "metadata": {},
   "source": [
    "Overriding their values with `NaN`:"
   ]
  },
  {
   "cell_type": "code",
   "execution_count": 7,
   "metadata": {},
   "outputs": [
    {
     "name": "stdout",
     "output_type": "stream",
     "text": [
      "\n",
      "Values after introducing NaN:\n",
      "timestamp\n",
      "2018-09-05 20:44:36   NaN\n",
      "2018-09-05 20:44:37   NaN\n",
      "2018-09-05 20:44:38   NaN\n",
      "2018-09-05 20:44:39   NaN\n",
      "2018-09-05 20:44:40   NaN\n",
      "Name: T-TPT, dtype: float64\n"
     ]
    }
   ],
   "source": [
    "# Introduce NaN\n",
    "signal.loc[indices_to_nan, col] = pd.NA\n",
    "\n",
    "print(\"\\nValues after introducing NaN:\")\n",
    "print(signal.loc[indices_to_nan, col])\n"
   ]
  },
  {
   "cell_type": "markdown",
   "metadata": {},
   "source": [
    "Finally, applying mean imputation and verifying the results:\n"
   ]
  },
  {
   "cell_type": "code",
   "execution_count": 8,
   "metadata": {},
   "outputs": [
    {
     "name": "stdout",
     "output_type": "stream",
     "text": [
      "\n",
      "Values after mean imputation:\n",
      "timestamp\n",
      "2018-09-05 20:44:36    111.943034\n",
      "2018-09-05 20:44:37    111.943034\n",
      "2018-09-05 20:44:38    111.943034\n",
      "2018-09-05 20:44:39    111.943034\n",
      "2018-09-05 20:44:40    111.943034\n",
      "Name: T-TPT, dtype: float64\n"
     ]
    }
   ],
   "source": [
    "from ThreeWToolkit.preprocessing import impute_missing_data\n",
    "\n",
    "# Apply mean imputation\n",
    "signal = impute_missing_data(signal, strategy=\"mean\")\n",
    "\n",
    "print(\"\\nValues after mean imputation:\")\n",
    "print(signal.loc[indices_to_nan, col])\n"
   ]
  },
  {
   "cell_type": "markdown",
   "metadata": {},
   "source": [
    "### 3.2 Normalization"
   ]
  },
  {
   "cell_type": "markdown",
   "metadata": {},
   "source": [
    "The function normalize rescales data using one of the following norms:\n",
    "\n",
    "- `l1` → Normalize by sum of absolute values.  \n",
    "- `l2` → Normalize by Euclidean norm.  \n",
    "- `max` → Normalize by maximum absolute value.  \n",
    "\n",
    "The column \"P-PDG\" will be used to demonstrate this functionality.  \n",
    "\n"
   ]
  },
  {
   "cell_type": "markdown",
   "metadata": {},
   "source": [
    "Checking column before normalization:"
   ]
  },
  {
   "cell_type": "code",
   "execution_count": 9,
   "metadata": {},
   "outputs": [
    {
     "data": {
      "text/plain": [
       "timestamp\n",
       "2018-09-05 20:44:36    111.943034\n",
       "2018-09-05 20:44:37    111.943034\n",
       "2018-09-05 20:44:38    111.943034\n",
       "2018-09-05 20:44:39    111.943034\n",
       "2018-09-05 20:44:40    111.943034\n",
       "2018-09-05 20:44:41    114.890700\n",
       "2018-09-05 20:44:42    114.890700\n",
       "2018-09-05 20:44:43    114.890700\n",
       "2018-09-05 20:44:44    114.890700\n",
       "2018-09-05 20:44:45    114.890700\n",
       "Name: T-TPT, dtype: float64"
      ]
     },
     "execution_count": 9,
     "metadata": {},
     "output_type": "execute_result"
    }
   ],
   "source": [
    "col = \"T-TPT\"\n",
    "signal[col].head(10)\n"
   ]
  },
  {
   "cell_type": "markdown",
   "metadata": {},
   "source": [
    "Applying the normalization and checking results:"
   ]
  },
  {
   "cell_type": "code",
   "execution_count": 10,
   "metadata": {},
   "outputs": [
    {
     "data": {
      "text/plain": [
       "timestamp\n",
       "2018-09-05 20:44:36    0.002366\n",
       "2018-09-05 20:44:37    0.002366\n",
       "2018-09-05 20:44:38    0.002366\n",
       "2018-09-05 20:44:39    0.002366\n",
       "2018-09-05 20:44:40    0.002366\n",
       "2018-09-05 20:44:41    0.002428\n",
       "2018-09-05 20:44:42    0.002428\n",
       "2018-09-05 20:44:43    0.002428\n",
       "2018-09-05 20:44:44    0.002428\n",
       "2018-09-05 20:44:45    0.002428\n",
       "Name: T-TPT, dtype: float64"
      ]
     },
     "execution_count": 10,
     "metadata": {},
     "output_type": "execute_result"
    }
   ],
   "source": [
    "from ThreeWToolkit.preprocessing import normalize\n",
    "\n",
    "# Apply L2 normalization row-wise\n",
    "signal[col] = normalize(signal[col], norm=\"l2\", axis=0)\n",
    "signal[col].head(10)\n"
   ]
  },
  {
   "cell_type": "markdown",
   "metadata": {},
   "source": [
    "### 3.3 Windowing"
   ]
  },
  {
   "cell_type": "markdown",
   "metadata": {},
   "source": [
    "The function `windowing` divides a 1D time series into overlapping windows.\n",
    "Each window can be weighted with a function (e.g., Hann, Hamming) and optionally padded.\n",
    "\n",
    "The column \"P-TPT\" will be used to demonstrate this functionality.\n",
    "\n"
   ]
  },
  {
   "cell_type": "markdown",
   "metadata": {},
   "source": [
    "Checking column before windowing:"
   ]
  },
  {
   "cell_type": "code",
   "execution_count": 11,
   "metadata": {},
   "outputs": [
    {
     "data": {
      "text/plain": [
       "timestamp\n",
       "2018-09-05 20:44:36    175.3406\n",
       "2018-09-05 20:44:37    175.3406\n",
       "2018-09-05 20:44:38    175.3406\n",
       "2018-09-05 20:44:39    175.3406\n",
       "2018-09-05 20:44:40    175.3406\n",
       "2018-09-05 20:44:41    175.3406\n",
       "2018-09-05 20:44:42    175.3406\n",
       "2018-09-05 20:44:43    175.3406\n",
       "2018-09-05 20:44:44    175.3406\n",
       "2018-09-05 20:44:45    175.3406\n",
       "Name: P-TPT, dtype: float64"
      ]
     },
     "execution_count": 11,
     "metadata": {},
     "output_type": "execute_result"
    }
   ],
   "source": [
    "col = \"P-TPT\"\n",
    "signal[col].head(10)\n"
   ]
  },
  {
   "cell_type": "markdown",
   "metadata": {},
   "source": [
    "Applying windowing (Hann window, window size 4, 50% overlap, and pad the last window) and checking results:\n"
   ]
  },
  {
   "cell_type": "code",
   "execution_count": 12,
   "metadata": {},
   "outputs": [
    {
     "name": "stdout",
     "output_type": "stream",
     "text": [
      "\n",
      "After windowing (first 5 windows):\n"
     ]
    },
    {
     "data": {
      "text/html": [
       "<div>\n",
       "<style scoped>\n",
       "    .dataframe tbody tr th:only-of-type {\n",
       "        vertical-align: middle;\n",
       "    }\n",
       "\n",
       "    .dataframe tbody tr th {\n",
       "        vertical-align: top;\n",
       "    }\n",
       "\n",
       "    .dataframe thead th {\n",
       "        text-align: right;\n",
       "    }\n",
       "</style>\n",
       "<table border=\"1\" class=\"dataframe\">\n",
       "  <thead>\n",
       "    <tr style=\"text-align: right;\">\n",
       "      <th></th>\n",
       "      <th>val_1</th>\n",
       "      <th>val_2</th>\n",
       "      <th>val_3</th>\n",
       "      <th>val_4</th>\n",
       "      <th>win</th>\n",
       "    </tr>\n",
       "  </thead>\n",
       "  <tbody>\n",
       "    <tr>\n",
       "      <th>0</th>\n",
       "      <td>0.0</td>\n",
       "      <td>87.6703</td>\n",
       "      <td>175.3406</td>\n",
       "      <td>87.6703</td>\n",
       "      <td>1</td>\n",
       "    </tr>\n",
       "    <tr>\n",
       "      <th>1</th>\n",
       "      <td>0.0</td>\n",
       "      <td>87.6703</td>\n",
       "      <td>175.3406</td>\n",
       "      <td>87.6703</td>\n",
       "      <td>2</td>\n",
       "    </tr>\n",
       "    <tr>\n",
       "      <th>2</th>\n",
       "      <td>0.0</td>\n",
       "      <td>87.6703</td>\n",
       "      <td>175.3406</td>\n",
       "      <td>87.6703</td>\n",
       "      <td>3</td>\n",
       "    </tr>\n",
       "    <tr>\n",
       "      <th>3</th>\n",
       "      <td>0.0</td>\n",
       "      <td>87.6703</td>\n",
       "      <td>175.3406</td>\n",
       "      <td>87.6703</td>\n",
       "      <td>4</td>\n",
       "    </tr>\n",
       "    <tr>\n",
       "      <th>4</th>\n",
       "      <td>0.0</td>\n",
       "      <td>87.6703</td>\n",
       "      <td>175.3406</td>\n",
       "      <td>87.6703</td>\n",
       "      <td>5</td>\n",
       "    </tr>\n",
       "  </tbody>\n",
       "</table>\n",
       "</div>"
      ],
      "text/plain": [
       "   val_1    val_2     val_3    val_4  win\n",
       "0    0.0  87.6703  175.3406  87.6703    1\n",
       "1    0.0  87.6703  175.3406  87.6703    2\n",
       "2    0.0  87.6703  175.3406  87.6703    3\n",
       "3    0.0  87.6703  175.3406  87.6703    4\n",
       "4    0.0  87.6703  175.3406  87.6703    5"
      ]
     },
     "metadata": {},
     "output_type": "display_data"
    }
   ],
   "source": [
    "from ThreeWToolkit.preprocessing import windowing\n",
    "\n",
    "windowed_df = windowing(\n",
    "    signal[col],\n",
    "    window=\"hann\",\n",
    "    window_size=4,\n",
    "    overlap=0.5,\n",
    "    pad_last_window=True\n",
    ")\n",
    "\n",
    "print(\"\\nAfter windowing (first 5 windows):\")\n",
    "display(windowed_df.head())\n"
   ]
  },
  {
   "cell_type": "markdown",
   "metadata": {},
   "source": [
    "### 3.4 Renaming columns"
   ]
  },
  {
   "cell_type": "markdown",
   "metadata": {},
   "source": [
    "The function `rename_columns` allows renaming DataFrame columns using a mapping dictionary.\n",
    "\n",
    "In this example, we rename the columns \"ABER-CKGL\" and \"ABER-CKP\" to \"sensor_A\" and \"sensor_B\", respectively.\n",
    "\n"
   ]
  },
  {
   "cell_type": "markdown",
   "metadata": {},
   "source": [
    "Checking row names before renaming:"
   ]
  },
  {
   "cell_type": "code",
   "execution_count": 13,
   "metadata": {},
   "outputs": [
    {
     "data": {
      "text/html": [
       "<div>\n",
       "<style scoped>\n",
       "    .dataframe tbody tr th:only-of-type {\n",
       "        vertical-align: middle;\n",
       "    }\n",
       "\n",
       "    .dataframe tbody tr th {\n",
       "        vertical-align: top;\n",
       "    }\n",
       "\n",
       "    .dataframe thead th {\n",
       "        text-align: right;\n",
       "    }\n",
       "</style>\n",
       "<table border=\"1\" class=\"dataframe\">\n",
       "  <thead>\n",
       "    <tr style=\"text-align: right;\">\n",
       "      <th></th>\n",
       "      <th>ABER-CKGL</th>\n",
       "      <th>ABER-CKP</th>\n",
       "      <th>ESTADO-DHSV</th>\n",
       "      <th>ESTADO-M1</th>\n",
       "      <th>ESTADO-M2</th>\n",
       "      <th>ESTADO-PXO</th>\n",
       "      <th>ESTADO-SDV-GL</th>\n",
       "      <th>ESTADO-SDV-P</th>\n",
       "      <th>ESTADO-W1</th>\n",
       "      <th>ESTADO-W2</th>\n",
       "      <th>...</th>\n",
       "      <th>P-PDG</th>\n",
       "      <th>PT-P</th>\n",
       "      <th>P-TPT</th>\n",
       "      <th>QBS</th>\n",
       "      <th>QGL</th>\n",
       "      <th>T-JUS-CKP</th>\n",
       "      <th>T-MON-CKP</th>\n",
       "      <th>T-PDG</th>\n",
       "      <th>T-TPT</th>\n",
       "      <th>state</th>\n",
       "    </tr>\n",
       "    <tr>\n",
       "      <th>timestamp</th>\n",
       "      <th></th>\n",
       "      <th></th>\n",
       "      <th></th>\n",
       "      <th></th>\n",
       "      <th></th>\n",
       "      <th></th>\n",
       "      <th></th>\n",
       "      <th></th>\n",
       "      <th></th>\n",
       "      <th></th>\n",
       "      <th></th>\n",
       "      <th></th>\n",
       "      <th></th>\n",
       "      <th></th>\n",
       "      <th></th>\n",
       "      <th></th>\n",
       "      <th></th>\n",
       "      <th></th>\n",
       "      <th></th>\n",
       "      <th></th>\n",
       "      <th></th>\n",
       "    </tr>\n",
       "  </thead>\n",
       "  <tbody>\n",
       "    <tr>\n",
       "      <th>2018-09-05 20:44:36</th>\n",
       "      <td>NaN</td>\n",
       "      <td>NaN</td>\n",
       "      <td>NaN</td>\n",
       "      <td>NaN</td>\n",
       "      <td>NaN</td>\n",
       "      <td>NaN</td>\n",
       "      <td>NaN</td>\n",
       "      <td>NaN</td>\n",
       "      <td>NaN</td>\n",
       "      <td>NaN</td>\n",
       "      <td>...</td>\n",
       "      <td>420.2314</td>\n",
       "      <td>NaN</td>\n",
       "      <td>175.3406</td>\n",
       "      <td>NaN</td>\n",
       "      <td>NaN</td>\n",
       "      <td>66.7545</td>\n",
       "      <td>NaN</td>\n",
       "      <td>NaN</td>\n",
       "      <td>0.002366</td>\n",
       "      <td>0</td>\n",
       "    </tr>\n",
       "    <tr>\n",
       "      <th>2018-09-05 20:44:37</th>\n",
       "      <td>NaN</td>\n",
       "      <td>NaN</td>\n",
       "      <td>NaN</td>\n",
       "      <td>NaN</td>\n",
       "      <td>NaN</td>\n",
       "      <td>NaN</td>\n",
       "      <td>NaN</td>\n",
       "      <td>NaN</td>\n",
       "      <td>NaN</td>\n",
       "      <td>NaN</td>\n",
       "      <td>...</td>\n",
       "      <td>420.2314</td>\n",
       "      <td>NaN</td>\n",
       "      <td>175.3406</td>\n",
       "      <td>NaN</td>\n",
       "      <td>NaN</td>\n",
       "      <td>66.7545</td>\n",
       "      <td>NaN</td>\n",
       "      <td>NaN</td>\n",
       "      <td>0.002366</td>\n",
       "      <td>0</td>\n",
       "    </tr>\n",
       "    <tr>\n",
       "      <th>2018-09-05 20:44:38</th>\n",
       "      <td>NaN</td>\n",
       "      <td>NaN</td>\n",
       "      <td>NaN</td>\n",
       "      <td>NaN</td>\n",
       "      <td>NaN</td>\n",
       "      <td>NaN</td>\n",
       "      <td>NaN</td>\n",
       "      <td>NaN</td>\n",
       "      <td>NaN</td>\n",
       "      <td>NaN</td>\n",
       "      <td>...</td>\n",
       "      <td>420.2314</td>\n",
       "      <td>NaN</td>\n",
       "      <td>175.3406</td>\n",
       "      <td>NaN</td>\n",
       "      <td>NaN</td>\n",
       "      <td>66.7545</td>\n",
       "      <td>NaN</td>\n",
       "      <td>NaN</td>\n",
       "      <td>0.002366</td>\n",
       "      <td>0</td>\n",
       "    </tr>\n",
       "    <tr>\n",
       "      <th>2018-09-05 20:44:39</th>\n",
       "      <td>NaN</td>\n",
       "      <td>NaN</td>\n",
       "      <td>NaN</td>\n",
       "      <td>NaN</td>\n",
       "      <td>NaN</td>\n",
       "      <td>NaN</td>\n",
       "      <td>NaN</td>\n",
       "      <td>NaN</td>\n",
       "      <td>NaN</td>\n",
       "      <td>NaN</td>\n",
       "      <td>...</td>\n",
       "      <td>420.2314</td>\n",
       "      <td>NaN</td>\n",
       "      <td>175.3406</td>\n",
       "      <td>NaN</td>\n",
       "      <td>NaN</td>\n",
       "      <td>66.7545</td>\n",
       "      <td>NaN</td>\n",
       "      <td>NaN</td>\n",
       "      <td>0.002366</td>\n",
       "      <td>0</td>\n",
       "    </tr>\n",
       "    <tr>\n",
       "      <th>2018-09-05 20:44:40</th>\n",
       "      <td>NaN</td>\n",
       "      <td>NaN</td>\n",
       "      <td>NaN</td>\n",
       "      <td>NaN</td>\n",
       "      <td>NaN</td>\n",
       "      <td>NaN</td>\n",
       "      <td>NaN</td>\n",
       "      <td>NaN</td>\n",
       "      <td>NaN</td>\n",
       "      <td>NaN</td>\n",
       "      <td>...</td>\n",
       "      <td>420.2314</td>\n",
       "      <td>NaN</td>\n",
       "      <td>175.3406</td>\n",
       "      <td>NaN</td>\n",
       "      <td>NaN</td>\n",
       "      <td>66.7545</td>\n",
       "      <td>NaN</td>\n",
       "      <td>NaN</td>\n",
       "      <td>0.002366</td>\n",
       "      <td>0</td>\n",
       "    </tr>\n",
       "  </tbody>\n",
       "</table>\n",
       "<p>5 rows × 28 columns</p>\n",
       "</div>"
      ],
      "text/plain": [
       "                     ABER-CKGL  ABER-CKP  ESTADO-DHSV  ESTADO-M1  ESTADO-M2  \\\n",
       "timestamp                                                                     \n",
       "2018-09-05 20:44:36        NaN       NaN          NaN        NaN        NaN   \n",
       "2018-09-05 20:44:37        NaN       NaN          NaN        NaN        NaN   \n",
       "2018-09-05 20:44:38        NaN       NaN          NaN        NaN        NaN   \n",
       "2018-09-05 20:44:39        NaN       NaN          NaN        NaN        NaN   \n",
       "2018-09-05 20:44:40        NaN       NaN          NaN        NaN        NaN   \n",
       "\n",
       "                     ESTADO-PXO  ESTADO-SDV-GL  ESTADO-SDV-P  ESTADO-W1  \\\n",
       "timestamp                                                                 \n",
       "2018-09-05 20:44:36         NaN            NaN           NaN        NaN   \n",
       "2018-09-05 20:44:37         NaN            NaN           NaN        NaN   \n",
       "2018-09-05 20:44:38         NaN            NaN           NaN        NaN   \n",
       "2018-09-05 20:44:39         NaN            NaN           NaN        NaN   \n",
       "2018-09-05 20:44:40         NaN            NaN           NaN        NaN   \n",
       "\n",
       "                     ESTADO-W2  ...     P-PDG  PT-P     P-TPT  QBS  QGL  \\\n",
       "timestamp                       ...                                       \n",
       "2018-09-05 20:44:36        NaN  ...  420.2314   NaN  175.3406  NaN  NaN   \n",
       "2018-09-05 20:44:37        NaN  ...  420.2314   NaN  175.3406  NaN  NaN   \n",
       "2018-09-05 20:44:38        NaN  ...  420.2314   NaN  175.3406  NaN  NaN   \n",
       "2018-09-05 20:44:39        NaN  ...  420.2314   NaN  175.3406  NaN  NaN   \n",
       "2018-09-05 20:44:40        NaN  ...  420.2314   NaN  175.3406  NaN  NaN   \n",
       "\n",
       "                     T-JUS-CKP  T-MON-CKP  T-PDG     T-TPT  state  \n",
       "timestamp                                                          \n",
       "2018-09-05 20:44:36    66.7545        NaN    NaN  0.002366      0  \n",
       "2018-09-05 20:44:37    66.7545        NaN    NaN  0.002366      0  \n",
       "2018-09-05 20:44:38    66.7545        NaN    NaN  0.002366      0  \n",
       "2018-09-05 20:44:39    66.7545        NaN    NaN  0.002366      0  \n",
       "2018-09-05 20:44:40    66.7545        NaN    NaN  0.002366      0  \n",
       "\n",
       "[5 rows x 28 columns]"
      ]
     },
     "execution_count": 13,
     "metadata": {},
     "output_type": "execute_result"
    }
   ],
   "source": [
    "signal.head()\n"
   ]
  },
  {
   "cell_type": "markdown",
   "metadata": {},
   "source": [
    "Now, renaming and checking the changes:"
   ]
  },
  {
   "cell_type": "code",
   "execution_count": 15,
   "metadata": {},
   "outputs": [
    {
     "data": {
      "text/html": [
       "<div>\n",
       "<style scoped>\n",
       "    .dataframe tbody tr th:only-of-type {\n",
       "        vertical-align: middle;\n",
       "    }\n",
       "\n",
       "    .dataframe tbody tr th {\n",
       "        vertical-align: top;\n",
       "    }\n",
       "\n",
       "    .dataframe thead th {\n",
       "        text-align: right;\n",
       "    }\n",
       "</style>\n",
       "<table border=\"1\" class=\"dataframe\">\n",
       "  <thead>\n",
       "    <tr style=\"text-align: right;\">\n",
       "      <th></th>\n",
       "      <th>sensor_A</th>\n",
       "      <th>sensor_B</th>\n",
       "      <th>ESTADO-DHSV</th>\n",
       "      <th>ESTADO-M1</th>\n",
       "      <th>ESTADO-M2</th>\n",
       "      <th>ESTADO-PXO</th>\n",
       "      <th>ESTADO-SDV-GL</th>\n",
       "      <th>ESTADO-SDV-P</th>\n",
       "      <th>ESTADO-W1</th>\n",
       "      <th>ESTADO-W2</th>\n",
       "      <th>...</th>\n",
       "      <th>P-PDG</th>\n",
       "      <th>PT-P</th>\n",
       "      <th>P-TPT</th>\n",
       "      <th>QBS</th>\n",
       "      <th>QGL</th>\n",
       "      <th>T-JUS-CKP</th>\n",
       "      <th>T-MON-CKP</th>\n",
       "      <th>T-PDG</th>\n",
       "      <th>T-TPT</th>\n",
       "      <th>state</th>\n",
       "    </tr>\n",
       "    <tr>\n",
       "      <th>timestamp</th>\n",
       "      <th></th>\n",
       "      <th></th>\n",
       "      <th></th>\n",
       "      <th></th>\n",
       "      <th></th>\n",
       "      <th></th>\n",
       "      <th></th>\n",
       "      <th></th>\n",
       "      <th></th>\n",
       "      <th></th>\n",
       "      <th></th>\n",
       "      <th></th>\n",
       "      <th></th>\n",
       "      <th></th>\n",
       "      <th></th>\n",
       "      <th></th>\n",
       "      <th></th>\n",
       "      <th></th>\n",
       "      <th></th>\n",
       "      <th></th>\n",
       "      <th></th>\n",
       "    </tr>\n",
       "  </thead>\n",
       "  <tbody>\n",
       "    <tr>\n",
       "      <th>2018-09-05 20:44:36</th>\n",
       "      <td>NaN</td>\n",
       "      <td>NaN</td>\n",
       "      <td>NaN</td>\n",
       "      <td>NaN</td>\n",
       "      <td>NaN</td>\n",
       "      <td>NaN</td>\n",
       "      <td>NaN</td>\n",
       "      <td>NaN</td>\n",
       "      <td>NaN</td>\n",
       "      <td>NaN</td>\n",
       "      <td>...</td>\n",
       "      <td>420.2314</td>\n",
       "      <td>NaN</td>\n",
       "      <td>175.3406</td>\n",
       "      <td>NaN</td>\n",
       "      <td>NaN</td>\n",
       "      <td>66.7545</td>\n",
       "      <td>NaN</td>\n",
       "      <td>NaN</td>\n",
       "      <td>0.002366</td>\n",
       "      <td>0</td>\n",
       "    </tr>\n",
       "    <tr>\n",
       "      <th>2018-09-05 20:44:37</th>\n",
       "      <td>NaN</td>\n",
       "      <td>NaN</td>\n",
       "      <td>NaN</td>\n",
       "      <td>NaN</td>\n",
       "      <td>NaN</td>\n",
       "      <td>NaN</td>\n",
       "      <td>NaN</td>\n",
       "      <td>NaN</td>\n",
       "      <td>NaN</td>\n",
       "      <td>NaN</td>\n",
       "      <td>...</td>\n",
       "      <td>420.2314</td>\n",
       "      <td>NaN</td>\n",
       "      <td>175.3406</td>\n",
       "      <td>NaN</td>\n",
       "      <td>NaN</td>\n",
       "      <td>66.7545</td>\n",
       "      <td>NaN</td>\n",
       "      <td>NaN</td>\n",
       "      <td>0.002366</td>\n",
       "      <td>0</td>\n",
       "    </tr>\n",
       "    <tr>\n",
       "      <th>2018-09-05 20:44:38</th>\n",
       "      <td>NaN</td>\n",
       "      <td>NaN</td>\n",
       "      <td>NaN</td>\n",
       "      <td>NaN</td>\n",
       "      <td>NaN</td>\n",
       "      <td>NaN</td>\n",
       "      <td>NaN</td>\n",
       "      <td>NaN</td>\n",
       "      <td>NaN</td>\n",
       "      <td>NaN</td>\n",
       "      <td>...</td>\n",
       "      <td>420.2314</td>\n",
       "      <td>NaN</td>\n",
       "      <td>175.3406</td>\n",
       "      <td>NaN</td>\n",
       "      <td>NaN</td>\n",
       "      <td>66.7545</td>\n",
       "      <td>NaN</td>\n",
       "      <td>NaN</td>\n",
       "      <td>0.002366</td>\n",
       "      <td>0</td>\n",
       "    </tr>\n",
       "    <tr>\n",
       "      <th>2018-09-05 20:44:39</th>\n",
       "      <td>NaN</td>\n",
       "      <td>NaN</td>\n",
       "      <td>NaN</td>\n",
       "      <td>NaN</td>\n",
       "      <td>NaN</td>\n",
       "      <td>NaN</td>\n",
       "      <td>NaN</td>\n",
       "      <td>NaN</td>\n",
       "      <td>NaN</td>\n",
       "      <td>NaN</td>\n",
       "      <td>...</td>\n",
       "      <td>420.2314</td>\n",
       "      <td>NaN</td>\n",
       "      <td>175.3406</td>\n",
       "      <td>NaN</td>\n",
       "      <td>NaN</td>\n",
       "      <td>66.7545</td>\n",
       "      <td>NaN</td>\n",
       "      <td>NaN</td>\n",
       "      <td>0.002366</td>\n",
       "      <td>0</td>\n",
       "    </tr>\n",
       "    <tr>\n",
       "      <th>2018-09-05 20:44:40</th>\n",
       "      <td>NaN</td>\n",
       "      <td>NaN</td>\n",
       "      <td>NaN</td>\n",
       "      <td>NaN</td>\n",
       "      <td>NaN</td>\n",
       "      <td>NaN</td>\n",
       "      <td>NaN</td>\n",
       "      <td>NaN</td>\n",
       "      <td>NaN</td>\n",
       "      <td>NaN</td>\n",
       "      <td>...</td>\n",
       "      <td>420.2314</td>\n",
       "      <td>NaN</td>\n",
       "      <td>175.3406</td>\n",
       "      <td>NaN</td>\n",
       "      <td>NaN</td>\n",
       "      <td>66.7545</td>\n",
       "      <td>NaN</td>\n",
       "      <td>NaN</td>\n",
       "      <td>0.002366</td>\n",
       "      <td>0</td>\n",
       "    </tr>\n",
       "  </tbody>\n",
       "</table>\n",
       "<p>5 rows × 28 columns</p>\n",
       "</div>"
      ],
      "text/plain": [
       "                     sensor_A  sensor_B  ESTADO-DHSV  ESTADO-M1  ESTADO-M2  \\\n",
       "timestamp                                                                    \n",
       "2018-09-05 20:44:36       NaN       NaN          NaN        NaN        NaN   \n",
       "2018-09-05 20:44:37       NaN       NaN          NaN        NaN        NaN   \n",
       "2018-09-05 20:44:38       NaN       NaN          NaN        NaN        NaN   \n",
       "2018-09-05 20:44:39       NaN       NaN          NaN        NaN        NaN   \n",
       "2018-09-05 20:44:40       NaN       NaN          NaN        NaN        NaN   \n",
       "\n",
       "                     ESTADO-PXO  ESTADO-SDV-GL  ESTADO-SDV-P  ESTADO-W1  \\\n",
       "timestamp                                                                 \n",
       "2018-09-05 20:44:36         NaN            NaN           NaN        NaN   \n",
       "2018-09-05 20:44:37         NaN            NaN           NaN        NaN   \n",
       "2018-09-05 20:44:38         NaN            NaN           NaN        NaN   \n",
       "2018-09-05 20:44:39         NaN            NaN           NaN        NaN   \n",
       "2018-09-05 20:44:40         NaN            NaN           NaN        NaN   \n",
       "\n",
       "                     ESTADO-W2  ...     P-PDG  PT-P     P-TPT  QBS  QGL  \\\n",
       "timestamp                       ...                                       \n",
       "2018-09-05 20:44:36        NaN  ...  420.2314   NaN  175.3406  NaN  NaN   \n",
       "2018-09-05 20:44:37        NaN  ...  420.2314   NaN  175.3406  NaN  NaN   \n",
       "2018-09-05 20:44:38        NaN  ...  420.2314   NaN  175.3406  NaN  NaN   \n",
       "2018-09-05 20:44:39        NaN  ...  420.2314   NaN  175.3406  NaN  NaN   \n",
       "2018-09-05 20:44:40        NaN  ...  420.2314   NaN  175.3406  NaN  NaN   \n",
       "\n",
       "                     T-JUS-CKP  T-MON-CKP  T-PDG     T-TPT  state  \n",
       "timestamp                                                          \n",
       "2018-09-05 20:44:36    66.7545        NaN    NaN  0.002366      0  \n",
       "2018-09-05 20:44:37    66.7545        NaN    NaN  0.002366      0  \n",
       "2018-09-05 20:44:38    66.7545        NaN    NaN  0.002366      0  \n",
       "2018-09-05 20:44:39    66.7545        NaN    NaN  0.002366      0  \n",
       "2018-09-05 20:44:40    66.7545        NaN    NaN  0.002366      0  \n",
       "\n",
       "[5 rows x 28 columns]"
      ]
     },
     "execution_count": 15,
     "metadata": {},
     "output_type": "execute_result"
    }
   ],
   "source": [
    "from ThreeWToolkit.preprocessing import rename_columns\n",
    "\n",
    "columns_map = {\n",
    "    \"ABER-CKGL\": \"sensor_A\",\n",
    "    \"ABER-CKP\": \"sensor_B\"\n",
    "}\n",
    "signal_renamed = rename_columns(signal, columns_map)\n",
    "signal_renamed.head()"
   ]
  },
  {
   "cell_type": "markdown",
   "metadata": {},
   "source": [
    "------"
   ]
  },
  {
   "cell_type": "markdown",
   "metadata": {},
   "source": [
    "## 4.  🔎 Feature Extraction\n"
   ]
  },
  {
   "cell_type": "markdown",
   "metadata": {},
   "source": [
    "In most time-series machine learning tasks, raw signal data is not used directly to train models. Instead, we use feature extraction to transform segments, or windows, of the time-series into a set of features that better represent the underlying patterns. This process converts a sequence of data points into a single row of features that a model can learn from.\n",
    "\n",
    "An important part of this process is aligning the extracted features (X) with their corresponding labels (y). Each of our feature extractors is designed to take both X and y as input and return the transformed features and their corectly aligned labels, ready for the modeling stage.\n",
    "\n",
    "In this section, we will demonstrate the three primary feature extraction methods available in the toolkit:\n",
    "\n",
    "* `ExtractStatisticalFeatures`: Captures the statistical properties of the data within each window (e.g. mean, std, skewness, kurtosis).\n",
    "* `ExtractWaveletFeatures`: Decomposes the signal within each window into it's frequency components. It generates approximation (low-frequency representation) and detail coefficients (high-frequency representation).\n",
    "* `ExtractEWStatisticalFeatures`: Exponentially Weighted statistical features. Similar to the standard statistical features, but give progressively more weight to more recent data points within a window. This is particularly useful when the most recent behavior in a window is more important than older behavior.\n"
   ]
  },
  {
   "cell_type": "code",
   "execution_count": 5,
   "metadata": {},
   "outputs": [],
   "source": [
    "from ThreeWToolkit.feature_extraction import (\n",
    "        extract_wavelet_features,\n",
    "        extract_statistical_features,\n",
    "        extract_exponential_statistics_features)"
   ]
  },
  {
   "cell_type": "markdown",
   "metadata": {},
   "source": [
    "First, we select the data for feature extraction using the functionalities presented in section 2"
   ]
  },
  {
   "cell_type": "code",
   "execution_count": 7,
   "metadata": {},
   "outputs": [
    {
     "data": {
      "text/plain": [
       "1119"
      ]
     },
     "execution_count": 7,
     "metadata": {},
     "output_type": "execute_result"
    }
   ],
   "source": [
    "from ThreeWToolkit.core.enums import EventPrefixEnum\n",
    "from ThreeWToolkit.dataset import ParquetDataset, DatasetConfig\n",
    "from pathlib import Path\n",
    "\n",
    "dataset_path = Path(\"/data/3w_dataset\")\n",
    "event_types = [EventPrefixEnum.REAL,]\n",
    "ds_config = DatasetConfig(path=dataset_path, split=None, file_type=\"parquet\", event_type=event_types)\n",
    "ds = ParquetDataset(ds_config, download=False)\n",
    "len(ds)"
   ]
  },
  {
   "cell_type": "code",
   "execution_count": 8,
   "metadata": {},
   "outputs": [],
   "source": [
    "X = ds[0]['signal']\n",
    "y = ds[0]['label']\n",
    "\n",
    "# Filling NaN values with 0 for demonstration purposes \n",
    "X = X.fillna(0)\n",
    "y = y.fillna(0)"
   ]
  },
  {
   "cell_type": "markdown",
   "metadata": {},
   "source": [
    "### 4.1 Statistical Feature Extraction\n"
   ]
  },
  {
   "cell_type": "markdown",
   "metadata": {},
   "source": [
    "In class `9`, the following statistical features are extracted:\n",
    "\n",
    "* `Mean`, `Standard Deviation`: Describe the central tendency and dispersion (volatility) of the signal in the window.\n",
    "* `Skewness`, `Kurtosis`: Describe the shape of the distribution. Skewness measures its asymmetry, while kurtosis measures how much the data is concentrated on the tail versus the center of the distribution.\n",
    "* `Minimum`, `1st Quartile`, `Median`, `3rd Quartile`, `Maximum`: Provide a summary of the statistical distribution through quartiles.\n",
    "\n"
   ]
  },
  {
   "cell_type": "code",
   "execution_count": 9,
   "metadata": {},
   "outputs": [],
   "source": [
    "# Configure the statistical extractor\n",
    "config_stats = extract_statistical_features.StatisticalConfig(window_size=20, overlap=0.75)\n",
    "\n",
    "# Instantiate the extractor\n",
    "statistical_extractor = extract_statistical_features.ExtractStatisticalFeatures(config_stats)\n",
    "\n",
    "# Apply it to the same sample data\n",
    "X_stats, y_stats = statistical_extractor(X, y)"
   ]
  },
  {
   "cell_type": "code",
   "execution_count": 10,
   "metadata": {},
   "outputs": [
    {
     "name": "stdout",
     "output_type": "stream",
     "text": [
      "Shape of the extracted statistical features: (12410, 252)\n",
      "Shape of the corresponding labels: (12410, 1)\n",
      "\n",
      "The columns contain the 9 statistical features extracted for each sensor.\n"
     ]
    },
    {
     "data": {
      "text/html": [
       "<div>\n",
       "<style scoped>\n",
       "    .dataframe tbody tr th:only-of-type {\n",
       "        vertical-align: middle;\n",
       "    }\n",
       "\n",
       "    .dataframe tbody tr th {\n",
       "        vertical-align: top;\n",
       "    }\n",
       "\n",
       "    .dataframe thead th {\n",
       "        text-align: right;\n",
       "    }\n",
       "</style>\n",
       "<table border=\"1\" class=\"dataframe\">\n",
       "  <thead>\n",
       "    <tr style=\"text-align: right;\">\n",
       "      <th></th>\n",
       "      <th>ABER-CKGL_mean</th>\n",
       "      <th>ABER-CKP_mean</th>\n",
       "      <th>ESTADO-DHSV_mean</th>\n",
       "      <th>ESTADO-M1_mean</th>\n",
       "      <th>ESTADO-M2_mean</th>\n",
       "      <th>ESTADO-PXO_mean</th>\n",
       "      <th>ESTADO-SDV-GL_mean</th>\n",
       "      <th>ESTADO-SDV-P_mean</th>\n",
       "      <th>ESTADO-W1_mean</th>\n",
       "      <th>ESTADO-W2_mean</th>\n",
       "      <th>...</th>\n",
       "      <th>P-PDG_max</th>\n",
       "      <th>PT-P_max</th>\n",
       "      <th>P-TPT_max</th>\n",
       "      <th>QBS_max</th>\n",
       "      <th>QGL_max</th>\n",
       "      <th>T-JUS-CKP_max</th>\n",
       "      <th>T-MON-CKP_max</th>\n",
       "      <th>T-PDG_max</th>\n",
       "      <th>T-TPT_max</th>\n",
       "      <th>state_max</th>\n",
       "    </tr>\n",
       "    <tr>\n",
       "      <th>timestamp</th>\n",
       "      <th></th>\n",
       "      <th></th>\n",
       "      <th></th>\n",
       "      <th></th>\n",
       "      <th></th>\n",
       "      <th></th>\n",
       "      <th></th>\n",
       "      <th></th>\n",
       "      <th></th>\n",
       "      <th></th>\n",
       "      <th></th>\n",
       "      <th></th>\n",
       "      <th></th>\n",
       "      <th></th>\n",
       "      <th></th>\n",
       "      <th></th>\n",
       "      <th></th>\n",
       "      <th></th>\n",
       "      <th></th>\n",
       "      <th></th>\n",
       "      <th></th>\n",
       "    </tr>\n",
       "  </thead>\n",
       "  <tbody>\n",
       "    <tr>\n",
       "      <th>2014-01-24 08:33:22</th>\n",
       "      <td>0.0</td>\n",
       "      <td>0.0</td>\n",
       "      <td>1.0</td>\n",
       "      <td>1.0</td>\n",
       "      <td>0.0</td>\n",
       "      <td>0.0</td>\n",
       "      <td>0.0</td>\n",
       "      <td>1.0</td>\n",
       "      <td>1.0</td>\n",
       "      <td>0.0</td>\n",
       "      <td>...</td>\n",
       "      <td>0.0</td>\n",
       "      <td>0.0</td>\n",
       "      <td>18433410.0</td>\n",
       "      <td>0.0</td>\n",
       "      <td>0.0</td>\n",
       "      <td>74.802208</td>\n",
       "      <td>0.0</td>\n",
       "      <td>0.0</td>\n",
       "      <td>116.886803</td>\n",
       "      <td>0.0</td>\n",
       "    </tr>\n",
       "    <tr>\n",
       "      <th>2014-01-24 08:33:27</th>\n",
       "      <td>0.0</td>\n",
       "      <td>0.0</td>\n",
       "      <td>1.0</td>\n",
       "      <td>1.0</td>\n",
       "      <td>0.0</td>\n",
       "      <td>0.0</td>\n",
       "      <td>0.0</td>\n",
       "      <td>1.0</td>\n",
       "      <td>1.0</td>\n",
       "      <td>0.0</td>\n",
       "      <td>...</td>\n",
       "      <td>0.0</td>\n",
       "      <td>0.0</td>\n",
       "      <td>18433410.0</td>\n",
       "      <td>0.0</td>\n",
       "      <td>0.0</td>\n",
       "      <td>74.802208</td>\n",
       "      <td>0.0</td>\n",
       "      <td>0.0</td>\n",
       "      <td>116.890099</td>\n",
       "      <td>0.0</td>\n",
       "    </tr>\n",
       "    <tr>\n",
       "      <th>2014-01-24 08:33:32</th>\n",
       "      <td>0.0</td>\n",
       "      <td>0.0</td>\n",
       "      <td>1.0</td>\n",
       "      <td>1.0</td>\n",
       "      <td>0.0</td>\n",
       "      <td>0.0</td>\n",
       "      <td>0.0</td>\n",
       "      <td>1.0</td>\n",
       "      <td>1.0</td>\n",
       "      <td>0.0</td>\n",
       "      <td>...</td>\n",
       "      <td>0.0</td>\n",
       "      <td>0.0</td>\n",
       "      <td>18433410.0</td>\n",
       "      <td>0.0</td>\n",
       "      <td>0.0</td>\n",
       "      <td>74.802208</td>\n",
       "      <td>0.0</td>\n",
       "      <td>0.0</td>\n",
       "      <td>116.893303</td>\n",
       "      <td>0.0</td>\n",
       "    </tr>\n",
       "    <tr>\n",
       "      <th>2014-01-24 08:33:37</th>\n",
       "      <td>0.0</td>\n",
       "      <td>0.0</td>\n",
       "      <td>1.0</td>\n",
       "      <td>1.0</td>\n",
       "      <td>0.0</td>\n",
       "      <td>0.0</td>\n",
       "      <td>0.0</td>\n",
       "      <td>1.0</td>\n",
       "      <td>1.0</td>\n",
       "      <td>0.0</td>\n",
       "      <td>...</td>\n",
       "      <td>0.0</td>\n",
       "      <td>0.0</td>\n",
       "      <td>18433410.0</td>\n",
       "      <td>0.0</td>\n",
       "      <td>0.0</td>\n",
       "      <td>74.802200</td>\n",
       "      <td>0.0</td>\n",
       "      <td>0.0</td>\n",
       "      <td>116.896599</td>\n",
       "      <td>0.0</td>\n",
       "    </tr>\n",
       "    <tr>\n",
       "      <th>2014-01-24 08:33:42</th>\n",
       "      <td>0.0</td>\n",
       "      <td>0.0</td>\n",
       "      <td>1.0</td>\n",
       "      <td>1.0</td>\n",
       "      <td>0.0</td>\n",
       "      <td>0.0</td>\n",
       "      <td>0.0</td>\n",
       "      <td>1.0</td>\n",
       "      <td>1.0</td>\n",
       "      <td>0.0</td>\n",
       "      <td>...</td>\n",
       "      <td>0.0</td>\n",
       "      <td>0.0</td>\n",
       "      <td>18433410.0</td>\n",
       "      <td>0.0</td>\n",
       "      <td>0.0</td>\n",
       "      <td>74.802200</td>\n",
       "      <td>0.0</td>\n",
       "      <td>0.0</td>\n",
       "      <td>116.899803</td>\n",
       "      <td>0.0</td>\n",
       "    </tr>\n",
       "  </tbody>\n",
       "</table>\n",
       "<p>5 rows × 252 columns</p>\n",
       "</div>"
      ],
      "text/plain": [
       "                     ABER-CKGL_mean  ABER-CKP_mean  ESTADO-DHSV_mean  \\\n",
       "timestamp                                                              \n",
       "2014-01-24 08:33:22             0.0            0.0               1.0   \n",
       "2014-01-24 08:33:27             0.0            0.0               1.0   \n",
       "2014-01-24 08:33:32             0.0            0.0               1.0   \n",
       "2014-01-24 08:33:37             0.0            0.0               1.0   \n",
       "2014-01-24 08:33:42             0.0            0.0               1.0   \n",
       "\n",
       "                     ESTADO-M1_mean  ESTADO-M2_mean  ESTADO-PXO_mean  \\\n",
       "timestamp                                                              \n",
       "2014-01-24 08:33:22             1.0             0.0              0.0   \n",
       "2014-01-24 08:33:27             1.0             0.0              0.0   \n",
       "2014-01-24 08:33:32             1.0             0.0              0.0   \n",
       "2014-01-24 08:33:37             1.0             0.0              0.0   \n",
       "2014-01-24 08:33:42             1.0             0.0              0.0   \n",
       "\n",
       "                     ESTADO-SDV-GL_mean  ESTADO-SDV-P_mean  ESTADO-W1_mean  \\\n",
       "timestamp                                                                    \n",
       "2014-01-24 08:33:22                 0.0                1.0             1.0   \n",
       "2014-01-24 08:33:27                 0.0                1.0             1.0   \n",
       "2014-01-24 08:33:32                 0.0                1.0             1.0   \n",
       "2014-01-24 08:33:37                 0.0                1.0             1.0   \n",
       "2014-01-24 08:33:42                 0.0                1.0             1.0   \n",
       "\n",
       "                     ESTADO-W2_mean  ...  P-PDG_max  PT-P_max   P-TPT_max  \\\n",
       "timestamp                            ...                                    \n",
       "2014-01-24 08:33:22             0.0  ...        0.0       0.0  18433410.0   \n",
       "2014-01-24 08:33:27             0.0  ...        0.0       0.0  18433410.0   \n",
       "2014-01-24 08:33:32             0.0  ...        0.0       0.0  18433410.0   \n",
       "2014-01-24 08:33:37             0.0  ...        0.0       0.0  18433410.0   \n",
       "2014-01-24 08:33:42             0.0  ...        0.0       0.0  18433410.0   \n",
       "\n",
       "                     QBS_max  QGL_max  T-JUS-CKP_max  T-MON-CKP_max  \\\n",
       "timestamp                                                             \n",
       "2014-01-24 08:33:22      0.0      0.0      74.802208            0.0   \n",
       "2014-01-24 08:33:27      0.0      0.0      74.802208            0.0   \n",
       "2014-01-24 08:33:32      0.0      0.0      74.802208            0.0   \n",
       "2014-01-24 08:33:37      0.0      0.0      74.802200            0.0   \n",
       "2014-01-24 08:33:42      0.0      0.0      74.802200            0.0   \n",
       "\n",
       "                     T-PDG_max   T-TPT_max  state_max  \n",
       "timestamp                                              \n",
       "2014-01-24 08:33:22        0.0  116.886803        0.0  \n",
       "2014-01-24 08:33:27        0.0  116.890099        0.0  \n",
       "2014-01-24 08:33:32        0.0  116.893303        0.0  \n",
       "2014-01-24 08:33:37        0.0  116.896599        0.0  \n",
       "2014-01-24 08:33:42        0.0  116.899803        0.0  \n",
       "\n",
       "[5 rows x 252 columns]"
      ]
     },
     "execution_count": 10,
     "metadata": {},
     "output_type": "execute_result"
    }
   ],
   "source": [
    "# Display the first few rows of the result\n",
    "print(f\"Shape of the extracted statistical features: {X_stats.shape}\")\n",
    "print(f\"Shape of the corresponding labels: {y_stats.shape}\")\n",
    "print(\"\\nThe columns contain the 9 statistical features extracted for each sensor.\")\n",
    "\n",
    "X_stats.head()\n"
   ]
  },
  {
   "cell_type": "markdown",
   "metadata": {},
   "source": [
    "### 4.2 Wavelet Feature Extraction"
   ]
  },
  {
   "cell_type": "markdown",
   "metadata": {},
   "source": [
    "The Wavelet Feature Extractor uses the Stationary Wavelet Transform (SWT). This method decomposes the signal within each window into different frequency components, which can often capture patterns that are invisible to standard statistical measures.\n",
    "\n",
    "For each level of decomposition, two sets of coefficients are generated:\n",
    "\n",
    "* `Approximation Coefficients (A)`: These capture the low-frequency, underlying trend of the signal. Think of it as a smoothed or downsampled version of the signal within the window.\n",
    "* `Detail Coefficients (D)`: These capture the high-frequency components, representing noise, spikes, and other abrupt changes.\n",
    "\n"
   ]
  },
  {
   "cell_type": "code",
   "execution_count": 11,
   "metadata": {},
   "outputs": [],
   "source": [
    "# Configure the extractor\n",
    "config_wavelets = extract_wavelet_features.WaveletConfig(level=3, overlap=0.875, offset=0)\n",
    "\n",
    "# Instantiate the extractor\n",
    "wavelet_extractor = extract_wavelet_features.ExtractWaveletFeatures(config_wavelets)\n",
    "\n",
    "# Apply it to our data\n",
    "X_wav, y_wav = wavelet_extractor(X, y)"
   ]
  },
  {
   "cell_type": "code",
   "execution_count": 12,
   "metadata": {},
   "outputs": [
    {
     "name": "stdout",
     "output_type": "stream",
     "text": [
      "Shape of the extracted features: (62061, 196)\n",
      "Shape of the corresponding labels: (62061, 1)\n",
      "\n",
      "Columns are named as <sensor_name>_<feature>_<level>.\n",
      "Ex: sensor_1_A3 is the level 3 approximation coefficient for sensor 1.\n"
     ]
    },
    {
     "data": {
      "text/html": [
       "<div>\n",
       "<style scoped>\n",
       "    .dataframe tbody tr th:only-of-type {\n",
       "        vertical-align: middle;\n",
       "    }\n",
       "\n",
       "    .dataframe tbody tr th {\n",
       "        vertical-align: top;\n",
       "    }\n",
       "\n",
       "    .dataframe thead th {\n",
       "        text-align: right;\n",
       "    }\n",
       "</style>\n",
       "<table border=\"1\" class=\"dataframe\">\n",
       "  <thead>\n",
       "    <tr style=\"text-align: right;\">\n",
       "      <th></th>\n",
       "      <th>ABER-CKGL_A3</th>\n",
       "      <th>ABER-CKP_A3</th>\n",
       "      <th>ESTADO-DHSV_A3</th>\n",
       "      <th>ESTADO-M1_A3</th>\n",
       "      <th>ESTADO-M2_A3</th>\n",
       "      <th>ESTADO-PXO_A3</th>\n",
       "      <th>ESTADO-SDV-GL_A3</th>\n",
       "      <th>ESTADO-SDV-P_A3</th>\n",
       "      <th>ESTADO-W1_A3</th>\n",
       "      <th>ESTADO-W2_A3</th>\n",
       "      <th>...</th>\n",
       "      <th>P-PDG_A0</th>\n",
       "      <th>PT-P_A0</th>\n",
       "      <th>P-TPT_A0</th>\n",
       "      <th>QBS_A0</th>\n",
       "      <th>QGL_A0</th>\n",
       "      <th>T-JUS-CKP_A0</th>\n",
       "      <th>T-MON-CKP_A0</th>\n",
       "      <th>T-PDG_A0</th>\n",
       "      <th>T-TPT_A0</th>\n",
       "      <th>state_A0</th>\n",
       "    </tr>\n",
       "    <tr>\n",
       "      <th>timestamp</th>\n",
       "      <th></th>\n",
       "      <th></th>\n",
       "      <th></th>\n",
       "      <th></th>\n",
       "      <th></th>\n",
       "      <th></th>\n",
       "      <th></th>\n",
       "      <th></th>\n",
       "      <th></th>\n",
       "      <th></th>\n",
       "      <th></th>\n",
       "      <th></th>\n",
       "      <th></th>\n",
       "      <th></th>\n",
       "      <th></th>\n",
       "      <th></th>\n",
       "      <th></th>\n",
       "      <th></th>\n",
       "      <th></th>\n",
       "      <th></th>\n",
       "      <th></th>\n",
       "    </tr>\n",
       "  </thead>\n",
       "  <tbody>\n",
       "    <tr>\n",
       "      <th>2014-01-24 08:33:10</th>\n",
       "      <td>0.0</td>\n",
       "      <td>0.0</td>\n",
       "      <td>2.828427</td>\n",
       "      <td>2.828427</td>\n",
       "      <td>0.0</td>\n",
       "      <td>0.0</td>\n",
       "      <td>0.0</td>\n",
       "      <td>2.828427</td>\n",
       "      <td>2.828427</td>\n",
       "      <td>0.0</td>\n",
       "      <td>...</td>\n",
       "      <td>0.0</td>\n",
       "      <td>0.0</td>\n",
       "      <td>18433410.0</td>\n",
       "      <td>0.0</td>\n",
       "      <td>0.0</td>\n",
       "      <td>74.80221</td>\n",
       "      <td>0.0</td>\n",
       "      <td>0.0</td>\n",
       "      <td>116.8790</td>\n",
       "      <td>0.0</td>\n",
       "    </tr>\n",
       "    <tr>\n",
       "      <th>2014-01-24 08:33:11</th>\n",
       "      <td>0.0</td>\n",
       "      <td>0.0</td>\n",
       "      <td>2.828427</td>\n",
       "      <td>2.828427</td>\n",
       "      <td>0.0</td>\n",
       "      <td>0.0</td>\n",
       "      <td>0.0</td>\n",
       "      <td>2.828427</td>\n",
       "      <td>2.828427</td>\n",
       "      <td>0.0</td>\n",
       "      <td>...</td>\n",
       "      <td>0.0</td>\n",
       "      <td>0.0</td>\n",
       "      <td>18433410.0</td>\n",
       "      <td>0.0</td>\n",
       "      <td>0.0</td>\n",
       "      <td>74.80221</td>\n",
       "      <td>0.0</td>\n",
       "      <td>0.0</td>\n",
       "      <td>116.8796</td>\n",
       "      <td>0.0</td>\n",
       "    </tr>\n",
       "    <tr>\n",
       "      <th>2014-01-24 08:33:12</th>\n",
       "      <td>0.0</td>\n",
       "      <td>0.0</td>\n",
       "      <td>2.828427</td>\n",
       "      <td>2.828427</td>\n",
       "      <td>0.0</td>\n",
       "      <td>0.0</td>\n",
       "      <td>0.0</td>\n",
       "      <td>2.828427</td>\n",
       "      <td>2.828427</td>\n",
       "      <td>0.0</td>\n",
       "      <td>...</td>\n",
       "      <td>0.0</td>\n",
       "      <td>0.0</td>\n",
       "      <td>18433410.0</td>\n",
       "      <td>0.0</td>\n",
       "      <td>0.0</td>\n",
       "      <td>74.80221</td>\n",
       "      <td>0.0</td>\n",
       "      <td>0.0</td>\n",
       "      <td>116.8803</td>\n",
       "      <td>0.0</td>\n",
       "    </tr>\n",
       "    <tr>\n",
       "      <th>2014-01-24 08:33:13</th>\n",
       "      <td>0.0</td>\n",
       "      <td>0.0</td>\n",
       "      <td>2.828427</td>\n",
       "      <td>2.828427</td>\n",
       "      <td>0.0</td>\n",
       "      <td>0.0</td>\n",
       "      <td>0.0</td>\n",
       "      <td>2.828427</td>\n",
       "      <td>2.828427</td>\n",
       "      <td>0.0</td>\n",
       "      <td>...</td>\n",
       "      <td>0.0</td>\n",
       "      <td>0.0</td>\n",
       "      <td>18433410.0</td>\n",
       "      <td>0.0</td>\n",
       "      <td>0.0</td>\n",
       "      <td>74.80221</td>\n",
       "      <td>0.0</td>\n",
       "      <td>0.0</td>\n",
       "      <td>116.8809</td>\n",
       "      <td>0.0</td>\n",
       "    </tr>\n",
       "    <tr>\n",
       "      <th>2014-01-24 08:33:14</th>\n",
       "      <td>0.0</td>\n",
       "      <td>0.0</td>\n",
       "      <td>2.828427</td>\n",
       "      <td>2.828427</td>\n",
       "      <td>0.0</td>\n",
       "      <td>0.0</td>\n",
       "      <td>0.0</td>\n",
       "      <td>2.828427</td>\n",
       "      <td>2.828427</td>\n",
       "      <td>0.0</td>\n",
       "      <td>...</td>\n",
       "      <td>0.0</td>\n",
       "      <td>0.0</td>\n",
       "      <td>18433410.0</td>\n",
       "      <td>0.0</td>\n",
       "      <td>0.0</td>\n",
       "      <td>74.80220</td>\n",
       "      <td>0.0</td>\n",
       "      <td>0.0</td>\n",
       "      <td>116.8816</td>\n",
       "      <td>0.0</td>\n",
       "    </tr>\n",
       "  </tbody>\n",
       "</table>\n",
       "<p>5 rows × 196 columns</p>\n",
       "</div>"
      ],
      "text/plain": [
       "                     ABER-CKGL_A3  ABER-CKP_A3  ESTADO-DHSV_A3  ESTADO-M1_A3  \\\n",
       "timestamp                                                                      \n",
       "2014-01-24 08:33:10           0.0          0.0        2.828427      2.828427   \n",
       "2014-01-24 08:33:11           0.0          0.0        2.828427      2.828427   \n",
       "2014-01-24 08:33:12           0.0          0.0        2.828427      2.828427   \n",
       "2014-01-24 08:33:13           0.0          0.0        2.828427      2.828427   \n",
       "2014-01-24 08:33:14           0.0          0.0        2.828427      2.828427   \n",
       "\n",
       "                     ESTADO-M2_A3  ESTADO-PXO_A3  ESTADO-SDV-GL_A3  \\\n",
       "timestamp                                                            \n",
       "2014-01-24 08:33:10           0.0            0.0               0.0   \n",
       "2014-01-24 08:33:11           0.0            0.0               0.0   \n",
       "2014-01-24 08:33:12           0.0            0.0               0.0   \n",
       "2014-01-24 08:33:13           0.0            0.0               0.0   \n",
       "2014-01-24 08:33:14           0.0            0.0               0.0   \n",
       "\n",
       "                     ESTADO-SDV-P_A3  ESTADO-W1_A3  ESTADO-W2_A3  ...  \\\n",
       "timestamp                                                         ...   \n",
       "2014-01-24 08:33:10         2.828427      2.828427           0.0  ...   \n",
       "2014-01-24 08:33:11         2.828427      2.828427           0.0  ...   \n",
       "2014-01-24 08:33:12         2.828427      2.828427           0.0  ...   \n",
       "2014-01-24 08:33:13         2.828427      2.828427           0.0  ...   \n",
       "2014-01-24 08:33:14         2.828427      2.828427           0.0  ...   \n",
       "\n",
       "                     P-PDG_A0  PT-P_A0    P-TPT_A0  QBS_A0  QGL_A0  \\\n",
       "timestamp                                                            \n",
       "2014-01-24 08:33:10       0.0      0.0  18433410.0     0.0     0.0   \n",
       "2014-01-24 08:33:11       0.0      0.0  18433410.0     0.0     0.0   \n",
       "2014-01-24 08:33:12       0.0      0.0  18433410.0     0.0     0.0   \n",
       "2014-01-24 08:33:13       0.0      0.0  18433410.0     0.0     0.0   \n",
       "2014-01-24 08:33:14       0.0      0.0  18433410.0     0.0     0.0   \n",
       "\n",
       "                     T-JUS-CKP_A0  T-MON-CKP_A0  T-PDG_A0  T-TPT_A0  state_A0  \n",
       "timestamp                                                                      \n",
       "2014-01-24 08:33:10      74.80221           0.0       0.0  116.8790       0.0  \n",
       "2014-01-24 08:33:11      74.80221           0.0       0.0  116.8796       0.0  \n",
       "2014-01-24 08:33:12      74.80221           0.0       0.0  116.8803       0.0  \n",
       "2014-01-24 08:33:13      74.80221           0.0       0.0  116.8809       0.0  \n",
       "2014-01-24 08:33:14      74.80220           0.0       0.0  116.8816       0.0  \n",
       "\n",
       "[5 rows x 196 columns]"
      ]
     },
     "execution_count": 12,
     "metadata": {},
     "output_type": "execute_result"
    }
   ],
   "source": [
    "# Display the first few rows of the result\n",
    "print(f\"Shape of the extracted features: {X_wav.shape}\")\n",
    "print(f\"Shape of the corresponding labels: {y_wav.shape}\")\n",
    "print(\"\\nColumns are named as <sensor_name>_<feature>_<level>.\")\n",
    "print(\"Ex: sensor_1_A3 is the level 3 approximation coefficient for sensor 1.\")\n",
    "\n",
    "X_wav.head()"
   ]
  },
  {
   "cell_type": "code",
   "execution_count": 13,
   "metadata": {},
   "outputs": [],
   "source": [
    "# Configure with an offset\n",
    "config_offset = extract_wavelet_features.WaveletConfig(level=3, overlap=0.875, offset=20)\n",
    "extractor_offset = extract_wavelet_features.ExtractWaveletFeatures(config_offset)\n",
    "X_off, y_off = extractor_offset(X, y)\n"
   ]
  },
  {
   "cell_type": "code",
   "execution_count": 14,
   "metadata": {},
   "outputs": [
    {
     "name": "stdout",
     "output_type": "stream",
     "text": [
      "--- No offset ---\n",
      "Start index: 2014-01-24 08:33:10\n",
      "\n",
      "--- Using offset=20 ---\n",
      "Start index with offset: 2014-01-24 08:33:30\n",
      "Extraction began 20 points later, so the first timestamp is delayed.\n"
     ]
    },
    {
     "data": {
      "text/html": [
       "<div>\n",
       "<style scoped>\n",
       "    .dataframe tbody tr th:only-of-type {\n",
       "        vertical-align: middle;\n",
       "    }\n",
       "\n",
       "    .dataframe tbody tr th {\n",
       "        vertical-align: top;\n",
       "    }\n",
       "\n",
       "    .dataframe thead th {\n",
       "        text-align: right;\n",
       "    }\n",
       "</style>\n",
       "<table border=\"1\" class=\"dataframe\">\n",
       "  <thead>\n",
       "    <tr style=\"text-align: right;\">\n",
       "      <th></th>\n",
       "      <th>ABER-CKGL_A3</th>\n",
       "      <th>ABER-CKP_A3</th>\n",
       "      <th>ESTADO-DHSV_A3</th>\n",
       "      <th>ESTADO-M1_A3</th>\n",
       "      <th>ESTADO-M2_A3</th>\n",
       "      <th>ESTADO-PXO_A3</th>\n",
       "      <th>ESTADO-SDV-GL_A3</th>\n",
       "      <th>ESTADO-SDV-P_A3</th>\n",
       "      <th>ESTADO-W1_A3</th>\n",
       "      <th>ESTADO-W2_A3</th>\n",
       "      <th>...</th>\n",
       "      <th>P-PDG_A0</th>\n",
       "      <th>PT-P_A0</th>\n",
       "      <th>P-TPT_A0</th>\n",
       "      <th>QBS_A0</th>\n",
       "      <th>QGL_A0</th>\n",
       "      <th>T-JUS-CKP_A0</th>\n",
       "      <th>T-MON-CKP_A0</th>\n",
       "      <th>T-PDG_A0</th>\n",
       "      <th>T-TPT_A0</th>\n",
       "      <th>state_A0</th>\n",
       "    </tr>\n",
       "    <tr>\n",
       "      <th>timestamp</th>\n",
       "      <th></th>\n",
       "      <th></th>\n",
       "      <th></th>\n",
       "      <th></th>\n",
       "      <th></th>\n",
       "      <th></th>\n",
       "      <th></th>\n",
       "      <th></th>\n",
       "      <th></th>\n",
       "      <th></th>\n",
       "      <th></th>\n",
       "      <th></th>\n",
       "      <th></th>\n",
       "      <th></th>\n",
       "      <th></th>\n",
       "      <th></th>\n",
       "      <th></th>\n",
       "      <th></th>\n",
       "      <th></th>\n",
       "      <th></th>\n",
       "      <th></th>\n",
       "    </tr>\n",
       "  </thead>\n",
       "  <tbody>\n",
       "    <tr>\n",
       "      <th>2014-01-24 08:33:30</th>\n",
       "      <td>0.0</td>\n",
       "      <td>0.0</td>\n",
       "      <td>2.828427</td>\n",
       "      <td>2.828427</td>\n",
       "      <td>0.0</td>\n",
       "      <td>0.0</td>\n",
       "      <td>0.0</td>\n",
       "      <td>2.828427</td>\n",
       "      <td>2.828427</td>\n",
       "      <td>0.0</td>\n",
       "      <td>...</td>\n",
       "      <td>0.0</td>\n",
       "      <td>0.0</td>\n",
       "      <td>18433410.0</td>\n",
       "      <td>0.0</td>\n",
       "      <td>0.0</td>\n",
       "      <td>74.80219</td>\n",
       "      <td>0.0</td>\n",
       "      <td>0.0</td>\n",
       "      <td>116.8920</td>\n",
       "      <td>0.0</td>\n",
       "    </tr>\n",
       "    <tr>\n",
       "      <th>2014-01-24 08:33:31</th>\n",
       "      <td>0.0</td>\n",
       "      <td>0.0</td>\n",
       "      <td>2.828427</td>\n",
       "      <td>2.828427</td>\n",
       "      <td>0.0</td>\n",
       "      <td>0.0</td>\n",
       "      <td>0.0</td>\n",
       "      <td>2.828427</td>\n",
       "      <td>2.828427</td>\n",
       "      <td>0.0</td>\n",
       "      <td>...</td>\n",
       "      <td>0.0</td>\n",
       "      <td>0.0</td>\n",
       "      <td>18433410.0</td>\n",
       "      <td>0.0</td>\n",
       "      <td>0.0</td>\n",
       "      <td>74.80219</td>\n",
       "      <td>0.0</td>\n",
       "      <td>0.0</td>\n",
       "      <td>116.8927</td>\n",
       "      <td>0.0</td>\n",
       "    </tr>\n",
       "    <tr>\n",
       "      <th>2014-01-24 08:33:32</th>\n",
       "      <td>0.0</td>\n",
       "      <td>0.0</td>\n",
       "      <td>2.828427</td>\n",
       "      <td>2.828427</td>\n",
       "      <td>0.0</td>\n",
       "      <td>0.0</td>\n",
       "      <td>0.0</td>\n",
       "      <td>2.828427</td>\n",
       "      <td>2.828427</td>\n",
       "      <td>0.0</td>\n",
       "      <td>...</td>\n",
       "      <td>0.0</td>\n",
       "      <td>0.0</td>\n",
       "      <td>18433410.0</td>\n",
       "      <td>0.0</td>\n",
       "      <td>0.0</td>\n",
       "      <td>74.80219</td>\n",
       "      <td>0.0</td>\n",
       "      <td>0.0</td>\n",
       "      <td>116.8933</td>\n",
       "      <td>0.0</td>\n",
       "    </tr>\n",
       "    <tr>\n",
       "      <th>2014-01-24 08:33:33</th>\n",
       "      <td>0.0</td>\n",
       "      <td>0.0</td>\n",
       "      <td>2.828427</td>\n",
       "      <td>2.828427</td>\n",
       "      <td>0.0</td>\n",
       "      <td>0.0</td>\n",
       "      <td>0.0</td>\n",
       "      <td>2.828427</td>\n",
       "      <td>2.828427</td>\n",
       "      <td>0.0</td>\n",
       "      <td>...</td>\n",
       "      <td>0.0</td>\n",
       "      <td>0.0</td>\n",
       "      <td>18433410.0</td>\n",
       "      <td>0.0</td>\n",
       "      <td>0.0</td>\n",
       "      <td>74.80219</td>\n",
       "      <td>0.0</td>\n",
       "      <td>0.0</td>\n",
       "      <td>116.8940</td>\n",
       "      <td>0.0</td>\n",
       "    </tr>\n",
       "    <tr>\n",
       "      <th>2014-01-24 08:33:34</th>\n",
       "      <td>0.0</td>\n",
       "      <td>0.0</td>\n",
       "      <td>2.828427</td>\n",
       "      <td>2.828427</td>\n",
       "      <td>0.0</td>\n",
       "      <td>0.0</td>\n",
       "      <td>0.0</td>\n",
       "      <td>2.828427</td>\n",
       "      <td>2.828427</td>\n",
       "      <td>0.0</td>\n",
       "      <td>...</td>\n",
       "      <td>0.0</td>\n",
       "      <td>0.0</td>\n",
       "      <td>18433410.0</td>\n",
       "      <td>0.0</td>\n",
       "      <td>0.0</td>\n",
       "      <td>74.80219</td>\n",
       "      <td>0.0</td>\n",
       "      <td>0.0</td>\n",
       "      <td>116.8946</td>\n",
       "      <td>0.0</td>\n",
       "    </tr>\n",
       "  </tbody>\n",
       "</table>\n",
       "<p>5 rows × 196 columns</p>\n",
       "</div>"
      ],
      "text/plain": [
       "                     ABER-CKGL_A3  ABER-CKP_A3  ESTADO-DHSV_A3  ESTADO-M1_A3  \\\n",
       "timestamp                                                                      \n",
       "2014-01-24 08:33:30           0.0          0.0        2.828427      2.828427   \n",
       "2014-01-24 08:33:31           0.0          0.0        2.828427      2.828427   \n",
       "2014-01-24 08:33:32           0.0          0.0        2.828427      2.828427   \n",
       "2014-01-24 08:33:33           0.0          0.0        2.828427      2.828427   \n",
       "2014-01-24 08:33:34           0.0          0.0        2.828427      2.828427   \n",
       "\n",
       "                     ESTADO-M2_A3  ESTADO-PXO_A3  ESTADO-SDV-GL_A3  \\\n",
       "timestamp                                                            \n",
       "2014-01-24 08:33:30           0.0            0.0               0.0   \n",
       "2014-01-24 08:33:31           0.0            0.0               0.0   \n",
       "2014-01-24 08:33:32           0.0            0.0               0.0   \n",
       "2014-01-24 08:33:33           0.0            0.0               0.0   \n",
       "2014-01-24 08:33:34           0.0            0.0               0.0   \n",
       "\n",
       "                     ESTADO-SDV-P_A3  ESTADO-W1_A3  ESTADO-W2_A3  ...  \\\n",
       "timestamp                                                         ...   \n",
       "2014-01-24 08:33:30         2.828427      2.828427           0.0  ...   \n",
       "2014-01-24 08:33:31         2.828427      2.828427           0.0  ...   \n",
       "2014-01-24 08:33:32         2.828427      2.828427           0.0  ...   \n",
       "2014-01-24 08:33:33         2.828427      2.828427           0.0  ...   \n",
       "2014-01-24 08:33:34         2.828427      2.828427           0.0  ...   \n",
       "\n",
       "                     P-PDG_A0  PT-P_A0    P-TPT_A0  QBS_A0  QGL_A0  \\\n",
       "timestamp                                                            \n",
       "2014-01-24 08:33:30       0.0      0.0  18433410.0     0.0     0.0   \n",
       "2014-01-24 08:33:31       0.0      0.0  18433410.0     0.0     0.0   \n",
       "2014-01-24 08:33:32       0.0      0.0  18433410.0     0.0     0.0   \n",
       "2014-01-24 08:33:33       0.0      0.0  18433410.0     0.0     0.0   \n",
       "2014-01-24 08:33:34       0.0      0.0  18433410.0     0.0     0.0   \n",
       "\n",
       "                     T-JUS-CKP_A0  T-MON-CKP_A0  T-PDG_A0  T-TPT_A0  state_A0  \n",
       "timestamp                                                                      \n",
       "2014-01-24 08:33:30      74.80219           0.0       0.0  116.8920       0.0  \n",
       "2014-01-24 08:33:31      74.80219           0.0       0.0  116.8927       0.0  \n",
       "2014-01-24 08:33:32      74.80219           0.0       0.0  116.8933       0.0  \n",
       "2014-01-24 08:33:33      74.80219           0.0       0.0  116.8940       0.0  \n",
       "2014-01-24 08:33:34      74.80219           0.0       0.0  116.8946       0.0  \n",
       "\n",
       "[5 rows x 196 columns]"
      ]
     },
     "execution_count": 14,
     "metadata": {},
     "output_type": "execute_result"
    }
   ],
   "source": [
    "print(\"--- No offset ---\")\n",
    "print(\"Start index:\", X_wav.index[0])\n",
    "\n",
    "print(\"\\n--- Using offset=20 ---\")\n",
    "print(\"Start index with offset:\", X_off.index[0])\n",
    "print(\"Extraction began 20 points later, so the first timestamp is delayed.\")\n",
    "\n",
    "X_off.head()"
   ]
  },
  {
   "cell_type": "markdown",
   "metadata": {},
   "source": [
    "### 4.3 Exponentially Weighted Statistical Feature Extraction"
   ]
  },
  {
   "cell_type": "markdown",
   "metadata": {},
   "source": [
    "Provides a specialized version of the standard statistical features. The \"EW\" stands for **Exponentially Weighted**.\n",
    "\n",
    "In this method, not all data points in a window are treated equally. Instead, more recent data points are given progressively higher weight than older points. The rate at which the importance of older data decays is controlled by the decay parameter.\n",
    "\n",
    "This is particularly useful in scenarios where the most recent behavior within a window is more predictive of the outcome than the behavior at the beginning of the window. It creates features that are more sensitive to the latest changes in the signal.\n",
    "\n"
   ]
  },
  {
   "cell_type": "code",
   "execution_count": 15,
   "metadata": {},
   "outputs": [],
   "source": [
    "# Configuring the EW statistical extractor\n",
    "# decay: A value between 0 and 1. A higher value gives more weight to more recent points.\n",
    "# A decay of 0.9 means each data point has 90% of the weight of the next point in the window.\n",
    "config_ew = extract_exponential_statistics_features.EWStatisticalConfig(window_size=20, overlap=0.75, decay=0.9)\n",
    "\n",
    "ew_extractor = extract_exponential_statistics_features.ExtractEWStatisticalFeatures(config_ew)\n",
    "\n",
    "X_ew, y_ew = ew_extractor(X, y)"
   ]
  },
  {
   "cell_type": "code",
   "execution_count": 17,
   "metadata": {},
   "outputs": [
    {
     "name": "stdout",
     "output_type": "stream",
     "text": [
      "Shape of the extracted EW Statistical features: (12410, 252)\n",
      "Shape of the corresponding labels: (12410, 1)\n"
     ]
    },
    {
     "data": {
      "text/html": [
       "<div>\n",
       "<style scoped>\n",
       "    .dataframe tbody tr th:only-of-type {\n",
       "        vertical-align: middle;\n",
       "    }\n",
       "\n",
       "    .dataframe tbody tr th {\n",
       "        vertical-align: top;\n",
       "    }\n",
       "\n",
       "    .dataframe thead th {\n",
       "        text-align: right;\n",
       "    }\n",
       "</style>\n",
       "<table border=\"1\" class=\"dataframe\">\n",
       "  <thead>\n",
       "    <tr style=\"text-align: right;\">\n",
       "      <th></th>\n",
       "      <th>ABER-CKGL_ew_mean</th>\n",
       "      <th>ABER-CKP_ew_mean</th>\n",
       "      <th>ESTADO-DHSV_ew_mean</th>\n",
       "      <th>ESTADO-M1_ew_mean</th>\n",
       "      <th>ESTADO-M2_ew_mean</th>\n",
       "      <th>ESTADO-PXO_ew_mean</th>\n",
       "      <th>ESTADO-SDV-GL_ew_mean</th>\n",
       "      <th>ESTADO-SDV-P_ew_mean</th>\n",
       "      <th>ESTADO-W1_ew_mean</th>\n",
       "      <th>ESTADO-W2_ew_mean</th>\n",
       "      <th>...</th>\n",
       "      <th>P-PDG_ew_max</th>\n",
       "      <th>PT-P_ew_max</th>\n",
       "      <th>P-TPT_ew_max</th>\n",
       "      <th>QBS_ew_max</th>\n",
       "      <th>QGL_ew_max</th>\n",
       "      <th>T-JUS-CKP_ew_max</th>\n",
       "      <th>T-MON-CKP_ew_max</th>\n",
       "      <th>T-PDG_ew_max</th>\n",
       "      <th>T-TPT_ew_max</th>\n",
       "      <th>state_ew_max</th>\n",
       "    </tr>\n",
       "    <tr>\n",
       "      <th>timestamp</th>\n",
       "      <th></th>\n",
       "      <th></th>\n",
       "      <th></th>\n",
       "      <th></th>\n",
       "      <th></th>\n",
       "      <th></th>\n",
       "      <th></th>\n",
       "      <th></th>\n",
       "      <th></th>\n",
       "      <th></th>\n",
       "      <th></th>\n",
       "      <th></th>\n",
       "      <th></th>\n",
       "      <th></th>\n",
       "      <th></th>\n",
       "      <th></th>\n",
       "      <th></th>\n",
       "      <th></th>\n",
       "      <th></th>\n",
       "      <th></th>\n",
       "      <th></th>\n",
       "    </tr>\n",
       "  </thead>\n",
       "  <tbody>\n",
       "    <tr>\n",
       "      <th>2014-01-24 08:33:22</th>\n",
       "      <td>0.0</td>\n",
       "      <td>0.0</td>\n",
       "      <td>1.0</td>\n",
       "      <td>1.0</td>\n",
       "      <td>0.0</td>\n",
       "      <td>0.0</td>\n",
       "      <td>0.0</td>\n",
       "      <td>1.0</td>\n",
       "      <td>1.0</td>\n",
       "      <td>0.0</td>\n",
       "      <td>...</td>\n",
       "      <td>0.0</td>\n",
       "      <td>0.0</td>\n",
       "      <td>1.0</td>\n",
       "      <td>0.0</td>\n",
       "      <td>0.0</td>\n",
       "      <td>1.426925</td>\n",
       "      <td>0.0</td>\n",
       "      <td>0.0</td>\n",
       "      <td>1.209990</td>\n",
       "      <td>0.0</td>\n",
       "    </tr>\n",
       "    <tr>\n",
       "      <th>2014-01-24 08:33:27</th>\n",
       "      <td>0.0</td>\n",
       "      <td>0.0</td>\n",
       "      <td>1.0</td>\n",
       "      <td>1.0</td>\n",
       "      <td>0.0</td>\n",
       "      <td>0.0</td>\n",
       "      <td>0.0</td>\n",
       "      <td>1.0</td>\n",
       "      <td>1.0</td>\n",
       "      <td>0.0</td>\n",
       "      <td>...</td>\n",
       "      <td>0.0</td>\n",
       "      <td>0.0</td>\n",
       "      <td>1.0</td>\n",
       "      <td>0.0</td>\n",
       "      <td>0.0</td>\n",
       "      <td>1.656527</td>\n",
       "      <td>0.0</td>\n",
       "      <td>0.0</td>\n",
       "      <td>1.215621</td>\n",
       "      <td>0.0</td>\n",
       "    </tr>\n",
       "    <tr>\n",
       "      <th>2014-01-24 08:33:32</th>\n",
       "      <td>0.0</td>\n",
       "      <td>0.0</td>\n",
       "      <td>1.0</td>\n",
       "      <td>1.0</td>\n",
       "      <td>0.0</td>\n",
       "      <td>0.0</td>\n",
       "      <td>0.0</td>\n",
       "      <td>1.0</td>\n",
       "      <td>1.0</td>\n",
       "      <td>0.0</td>\n",
       "      <td>...</td>\n",
       "      <td>0.0</td>\n",
       "      <td>0.0</td>\n",
       "      <td>1.0</td>\n",
       "      <td>0.0</td>\n",
       "      <td>0.0</td>\n",
       "      <td>1.972501</td>\n",
       "      <td>0.0</td>\n",
       "      <td>0.0</td>\n",
       "      <td>1.195985</td>\n",
       "      <td>0.0</td>\n",
       "    </tr>\n",
       "    <tr>\n",
       "      <th>2014-01-24 08:33:37</th>\n",
       "      <td>0.0</td>\n",
       "      <td>0.0</td>\n",
       "      <td>1.0</td>\n",
       "      <td>1.0</td>\n",
       "      <td>0.0</td>\n",
       "      <td>0.0</td>\n",
       "      <td>0.0</td>\n",
       "      <td>1.0</td>\n",
       "      <td>1.0</td>\n",
       "      <td>0.0</td>\n",
       "      <td>...</td>\n",
       "      <td>0.0</td>\n",
       "      <td>0.0</td>\n",
       "      <td>1.0</td>\n",
       "      <td>0.0</td>\n",
       "      <td>0.0</td>\n",
       "      <td>1.426925</td>\n",
       "      <td>0.0</td>\n",
       "      <td>0.0</td>\n",
       "      <td>1.207987</td>\n",
       "      <td>0.0</td>\n",
       "    </tr>\n",
       "    <tr>\n",
       "      <th>2014-01-24 08:33:42</th>\n",
       "      <td>0.0</td>\n",
       "      <td>0.0</td>\n",
       "      <td>1.0</td>\n",
       "      <td>1.0</td>\n",
       "      <td>0.0</td>\n",
       "      <td>0.0</td>\n",
       "      <td>0.0</td>\n",
       "      <td>1.0</td>\n",
       "      <td>1.0</td>\n",
       "      <td>0.0</td>\n",
       "      <td>...</td>\n",
       "      <td>0.0</td>\n",
       "      <td>0.0</td>\n",
       "      <td>1.0</td>\n",
       "      <td>0.0</td>\n",
       "      <td>0.0</td>\n",
       "      <td>1.656527</td>\n",
       "      <td>0.0</td>\n",
       "      <td>0.0</td>\n",
       "      <td>1.196838</td>\n",
       "      <td>0.0</td>\n",
       "    </tr>\n",
       "  </tbody>\n",
       "</table>\n",
       "<p>5 rows × 252 columns</p>\n",
       "</div>"
      ],
      "text/plain": [
       "                     ABER-CKGL_ew_mean  ABER-CKP_ew_mean  ESTADO-DHSV_ew_mean  \\\n",
       "timestamp                                                                       \n",
       "2014-01-24 08:33:22                0.0               0.0                  1.0   \n",
       "2014-01-24 08:33:27                0.0               0.0                  1.0   \n",
       "2014-01-24 08:33:32                0.0               0.0                  1.0   \n",
       "2014-01-24 08:33:37                0.0               0.0                  1.0   \n",
       "2014-01-24 08:33:42                0.0               0.0                  1.0   \n",
       "\n",
       "                     ESTADO-M1_ew_mean  ESTADO-M2_ew_mean  ESTADO-PXO_ew_mean  \\\n",
       "timestamp                                                                       \n",
       "2014-01-24 08:33:22                1.0                0.0                 0.0   \n",
       "2014-01-24 08:33:27                1.0                0.0                 0.0   \n",
       "2014-01-24 08:33:32                1.0                0.0                 0.0   \n",
       "2014-01-24 08:33:37                1.0                0.0                 0.0   \n",
       "2014-01-24 08:33:42                1.0                0.0                 0.0   \n",
       "\n",
       "                     ESTADO-SDV-GL_ew_mean  ESTADO-SDV-P_ew_mean  \\\n",
       "timestamp                                                          \n",
       "2014-01-24 08:33:22                    0.0                   1.0   \n",
       "2014-01-24 08:33:27                    0.0                   1.0   \n",
       "2014-01-24 08:33:32                    0.0                   1.0   \n",
       "2014-01-24 08:33:37                    0.0                   1.0   \n",
       "2014-01-24 08:33:42                    0.0                   1.0   \n",
       "\n",
       "                     ESTADO-W1_ew_mean  ESTADO-W2_ew_mean  ...  P-PDG_ew_max  \\\n",
       "timestamp                                                  ...                 \n",
       "2014-01-24 08:33:22                1.0                0.0  ...           0.0   \n",
       "2014-01-24 08:33:27                1.0                0.0  ...           0.0   \n",
       "2014-01-24 08:33:32                1.0                0.0  ...           0.0   \n",
       "2014-01-24 08:33:37                1.0                0.0  ...           0.0   \n",
       "2014-01-24 08:33:42                1.0                0.0  ...           0.0   \n",
       "\n",
       "                     PT-P_ew_max  P-TPT_ew_max  QBS_ew_max  QGL_ew_max  \\\n",
       "timestamp                                                                \n",
       "2014-01-24 08:33:22          0.0           1.0         0.0         0.0   \n",
       "2014-01-24 08:33:27          0.0           1.0         0.0         0.0   \n",
       "2014-01-24 08:33:32          0.0           1.0         0.0         0.0   \n",
       "2014-01-24 08:33:37          0.0           1.0         0.0         0.0   \n",
       "2014-01-24 08:33:42          0.0           1.0         0.0         0.0   \n",
       "\n",
       "                     T-JUS-CKP_ew_max  T-MON-CKP_ew_max  T-PDG_ew_max  \\\n",
       "timestamp                                                               \n",
       "2014-01-24 08:33:22          1.426925               0.0           0.0   \n",
       "2014-01-24 08:33:27          1.656527               0.0           0.0   \n",
       "2014-01-24 08:33:32          1.972501               0.0           0.0   \n",
       "2014-01-24 08:33:37          1.426925               0.0           0.0   \n",
       "2014-01-24 08:33:42          1.656527               0.0           0.0   \n",
       "\n",
       "                     T-TPT_ew_max  state_ew_max  \n",
       "timestamp                                        \n",
       "2014-01-24 08:33:22      1.209990           0.0  \n",
       "2014-01-24 08:33:27      1.215621           0.0  \n",
       "2014-01-24 08:33:32      1.195985           0.0  \n",
       "2014-01-24 08:33:37      1.207987           0.0  \n",
       "2014-01-24 08:33:42      1.196838           0.0  \n",
       "\n",
       "[5 rows x 252 columns]"
      ]
     },
     "execution_count": 17,
     "metadata": {},
     "output_type": "execute_result"
    }
   ],
   "source": [
    "# Display the first few rows of the result\n",
    "print(f\"Shape of the extracted EW Statistical features: {X_ew.shape}\")\n",
    "print(f\"Shape of the corresponding labels: {y_ew.shape}\")\n",
    "X_ew.head()"
   ]
  },
  {
   "cell_type": "markdown",
   "metadata": {},
   "source": [
    "----"
   ]
  },
  {
   "cell_type": "markdown",
   "metadata": {},
   "source": [
    "## 5.  📊 Exploratory Analysis\n"
   ]
  },
  {
   "cell_type": "markdown",
   "metadata": {},
   "source": [
    "In this section we will explore and visualize some signals from the dataset."
   ]
  },
  {
   "cell_type": "markdown",
   "metadata": {},
   "source": [
    "### 5.1. Visualization Tools Overview"
   ]
  },
  {
   "cell_type": "markdown",
   "metadata": {},
   "source": [
    "The 3WToolkit provides three ready-to-use visualization modules that make it easy to explore time series data:\n",
    "\n",
    "- **`DataVisualization`**: plots a single time series in a clear and straightforward way.  \n",
    "- **`PlotMultipleSeries`**: allows plotting several series together for comparison.  \n",
    "- **`PlotCorrelationHeatmap`**: generates a correlation heatmap, helping to identify relationships between multiple features.\n",
    "\n",
    "In the next sections we will show quick examples of how to use each of these modules.\n"
   ]
  },
  {
   "cell_type": "code",
   "execution_count": 11,
   "metadata": {},
   "outputs": [
    {
     "data": {
      "text/plain": [
       "2228"
      ]
     },
     "execution_count": 11,
     "metadata": {},
     "output_type": "execute_result"
    }
   ],
   "source": [
    "# TODO: REMOVE THIS CELL\n",
    "from pathlib import Path\n",
    "from ThreeWToolkit.dataset import ParquetDataset, DatasetConfig\n",
    "\n",
    "dataset_path = Path(\"/data/3w_dataset\")\n",
    "ds_config = DatasetConfig(path=dataset_path, split=None, file_type=\"parquet\") # load all files, target defaults to 'class'\n",
    "ds = ParquetDataset(ds_config)\n",
    "len(ds)"
   ]
  },
  {
   "cell_type": "markdown",
   "metadata": {},
   "source": [
    "#### Importing the dependencies"
   ]
  },
  {
   "cell_type": "code",
   "execution_count": 4,
   "metadata": {},
   "outputs": [],
   "source": [
    "import numpy as np\n",
    "from ThreeWToolkit.data_visualization import DataVisualization, PlotMultipleSeries, PlotCorrelationHeatmap"
   ]
  },
  {
   "cell_type": "markdown",
   "metadata": {},
   "source": [
    "#### Selecting an event to plot"
   ]
  },
  {
   "cell_type": "code",
   "execution_count": 14,
   "metadata": {},
   "outputs": [],
   "source": [
    "sig = ds[123][\"signal\"].copy()"
   ]
  },
  {
   "cell_type": "markdown",
   "metadata": {},
   "source": [
    "#### Single Series Example\n",
    "\n",
    "With `DataVisualization.plot_series` you can quickly visualize one feature over time.  \n",
    "This is useful to understand the overall trend, variation, and gaps (missing values) in a single signal.\n"
   ]
  },
  {
   "cell_type": "code",
   "execution_count": 15,
   "metadata": {},
   "outputs": [
    {
     "name": "stderr",
     "output_type": "stream",
     "text": [
      "/tmp/ipykernel_74535/3637753279.py:10: UserWarning: FigureCanvasAgg is non-interactive, and thus cannot be shown\n",
      "  fig.show()\n"
     ]
    },
    {
     "data": {
      "image/png": "[encoded data removed]",
      "text/plain": [
       "<Figure size 1200x600 with 1 Axes>"
      ]
     },
     "metadata": {},
     "output_type": "display_data"
    }
   ],
   "source": [
    "series = sig[\"P-TPT\"]\n",
    "fig = DataVisualization.plot_series(\n",
    "    series=series,\n",
    "    title=\"P-TPT\",\n",
    "    xlabel=\"Timestamp\",\n",
    "    ylabel=\"P-TPT\",\n",
    "    overlay_events=False,\n",
    "    color=\"green\"\n",
    ")\n",
    "fig.show()\n"
   ]
  },
  {
   "cell_type": "markdown",
   "metadata": {},
   "source": [
    "#### Multiple Series Example\n",
    "\n",
    "With `PlotMultipleSeries.plot_multiple_series` you can display several features on the same plot.  \n",
    "This is helpful when you want to compare signals directly and observe how they evolve together.\n"
   ]
  },
  {
   "cell_type": "code",
   "execution_count": 16,
   "metadata": {},
   "outputs": [
    {
     "name": "stderr",
     "output_type": "stream",
     "text": [
      "/tmp/ipykernel_74535/613254614.py:11: UserWarning: FigureCanvasAgg is non-interactive, and thus cannot be shown\n",
      "  fig.show()\n"
     ]
    },
    {
     "data": {
      "image/png": "[encoded data removed]",
      "text/plain": [
       "<Figure size 1200x600 with 1 Axes>"
      ]
     },
     "metadata": {},
     "output_type": "display_data"
    }
   ],
   "source": [
    "features = ['P-MON-CKP', 'P-TPT']\n",
    "series_list = [sig[features]]\n",
    "\n",
    "fig = PlotMultipleSeries.plot_multiple_series(\n",
    "    series_list=series_list,\n",
    "    labels=features,\n",
    "    title=\"'P-MON-CKP', 'P-TPT'\",\n",
    "    xlabel=\"Timestamp\",\n",
    "    ylabel=\"Value\"\n",
    ")\n",
    "fig.show()\n"
   ]
  },
  {
   "cell_type": "markdown",
   "metadata": {},
   "source": [
    "#### Correlation Heatmap Example\n",
    "\n",
    "Finally, `PlotCorrelationHeatmap.correlation_heatmap` creates a heatmap of pairwise correlations.  \n",
    "This is a quick way to check which features are strongly related to each other.\n"
   ]
  },
  {
   "cell_type": "code",
   "execution_count": 17,
   "metadata": {},
   "outputs": [
    {
     "name": "stderr",
     "output_type": "stream",
     "text": [
      "/tmp/ipykernel_74535/3210434829.py:8: UserWarning: FigureCanvasAgg is non-interactive, and thus cannot be shown\n",
      "  fig.show()\n"
     ]
    },
    {
     "data": {
      "image/png": "[encoded data removed]",
      "text/plain": [
       "<Figure size 1000x800 with 2 Axes>"
      ]
     },
     "metadata": {},
     "output_type": "display_data"
    }
   ],
   "source": [
    "features = ['P-ANULAR', 'P-JUS-CKGL', 'P-MON-CKP', 'P-TPT', 'T-JUS-CKP', 'T-TPT']\n",
    "subset = sig[features]\n",
    "\n",
    "fig = PlotCorrelationHeatmap.correlation_heatmap(\n",
    "    df_of_series=subset,\n",
    "    title=\"Correlation Heatmap of Selected Features\"\n",
    ")\n",
    "fig.show()\n"
   ]
  },
  {
   "cell_type": "markdown",
   "metadata": {},
   "source": [
    "------"
   ]
  },
  {
   "cell_type": "markdown",
   "metadata": {},
   "source": [
    "## 6.  🤖 Model Training & Evaluation"
   ]
  },
  {
   "cell_type": "markdown",
   "metadata": {},
   "source": []
  },
  {
   "cell_type": "markdown",
   "metadata": {},
   "source": [
    "TODO"
   ]
  },
  {
   "cell_type": "markdown",
   "metadata": {},
   "source": [
    "-------"
   ]
  },
  {
   "cell_type": "markdown",
   "metadata": {},
   "source": [
    "## 7. 📝 Generating Reports  "
   ]
  },
  {
   "cell_type": "markdown",
   "metadata": {},
   "source": [
    "TODO"
   ]
  },
  {
   "cell_type": "markdown",
   "metadata": {},
   "source": [
    "-----"
   ]
  },
  {
   "cell_type": "markdown",
   "metadata": {},
   "source": [
    "## 8.  🔄 Using the Automated Pipeline  \n"
   ]
  },
  {
   "cell_type": "markdown",
   "metadata": {},
   "source": [
    "O 3W Toolkit possui uma estrutura de pipeline pronta para você usar.\n",
    "\n",
    "O `Pipeline` é formado por componentes prontos ou customizáveis, que você poderá usar para montar sua estrutura de dados."
   ]
  },
  {
   "cell_type": "markdown",
   "metadata": {},
   "source": [
    "### 8.1. Estrutura\n"
   ]
  },
  {
   "cell_type": "markdown",
   "metadata": {},
   "source": [
    "# TODO: Colocar figura exemplificando os blocos do pipeline"
   ]
  },
  {
   "cell_type": "markdown",
   "metadata": {},
   "source": [
    "### 8.2. Configurando o Pipeline\n"
   ]
  },
  {
   "cell_type": "markdown",
   "metadata": {},
   "source": [
    "Um pipeline é formado por blocos do tipo `BaseStep`. Alguns destes blocos ja estao prontos para serem usados:\n",
    "\n",
    "* DataLoader  \n",
    "`step_data_loader = DataLoader(...)`  \n",
    "\n",
    "* Data processing com ImputeMissingConfig  \n",
    "`step_imput_missing = ImputeMissingConfig(...)`  \n",
    "\n",
    "* Data processing com  NormalizeConfig  \n",
    "`step_normalization = NormalizeConfig(...)`  \n",
    "\n",
    "* Data processing com RenameColumnsConfig  \n",
    "`step_rename_columns = RenameColumnsConfig(...)`  \n",
    "\n",
    "* Data processing com WindowingConfig  \n",
    "`step_windowing = WindowingConfig(...)`  \n",
    "\n",
    "  \n",
    "* TODO: Falta colocar o Trainer + Metrics + Report"
   ]
  },
  {
   "cell_type": "markdown",
   "metadata": {},
   "source": [
    "TODO: Falta colocar exemplos dos steps e explicação das classes Config do tipo `BaseStep`.\n"
   ]
  },
  {
   "cell_type": "markdown",
   "metadata": {},
   "source": [
    "Vamos entao criar um pipeline completo:"
   ]
  },
  {
   "cell_type": "markdown",
   "metadata": {},
   "source": [
    "TODO: Colocar aqui um exemplo de pipeline completo!\n"
   ]
  },
  {
   "cell_type": "markdown",
   "metadata": {},
   "source": [
    "Vamos executar o pipeline:"
   ]
  },
  {
   "cell_type": "code",
   "execution_count": 41,
   "metadata": {},
   "outputs": [],
   "source": [
    "# TODO:\n",
    "# pipeline.run()"
   ]
  },
  {
   "cell_type": "markdown",
   "metadata": {},
   "source": [
    "### 8.3 Executando e avaliando relatório"
   ]
  },
  {
   "cell_type": "markdown",
   "metadata": {},
   "source": [
    "Agora vamos abrir o report com as métricas obtidas pelo nosso pipeline:"
   ]
  },
  {
   "cell_type": "code",
   "execution_count": 42,
   "metadata": {},
   "outputs": [],
   "source": [
    "# TODO\n",
    "# pipeline.report()"
   ]
  }
 ],
 "metadata": {
  "kernelspec": {
   "display_name": "3w",
   "language": "python",
   "name": "python3"
  },
  "language_info": {
   "codemirror_mode": {
    "name": "ipython",
    "version": 3
   },
   "file_extension": ".py",
   "mimetype": "text/x-python",
   "name": "python",
   "nbconvert_exporter": "python",
   "pygments_lexer": "ipython3",
   "version": "3.10.11"
  }
 },
 "nbformat": 4,
 "nbformat_minor": 2
}
