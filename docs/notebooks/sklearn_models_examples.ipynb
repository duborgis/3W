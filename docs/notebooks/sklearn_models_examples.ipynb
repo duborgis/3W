{
    "cells": [
        {
            "cell_type": "code",
            "execution_count": 1,
            "id": "05fd8afa",
            "metadata": {
                "vscode": {
                    "languageId": "plaintext"
                }
            },
            "outputs": [],
            "source": [
                "import joblib\n",
                "import pandas as pd\n",
                "from typing import Dict, Any\n",
                "from pydantic import BaseModel, Field\n",
                "import numpy as np\n",
                "from enum import Enum\n",
                "from abc import ABC, abstractmethod\n",
                "import sys\n",
                "import os\n",
                "\n",
                "# Scikit-learn model and metrics imports\n",
                "from sklearn.preprocessing import MinMaxScaler\n",
                "from sklearn.linear_model import LogisticRegression\n",
                "from sklearn.tree import DecisionTreeClassifier\n",
                "from sklearn.ensemble import RandomForestClassifier, GradientBoostingClassifier\n",
                "from sklearn.svm import SVC\n",
                "from sklearn.neighbors import KNeighborsClassifier\n",
                "from sklearn.naive_bayes import ComplementNB\n",
                "from sklearn.metrics import accuracy_score, precision_score, recall_score, f1_score\n",
                "from sklearn.datasets import make_classification\n",
                "from sklearn.model_selection import train_test_split\n",
                "\n",
                "sys.path.append(os.path.abspath(os.path.join(os.getcwd(), '../../')))\n",
                "from ThreeWToolkit.core.enums import ModelTypeEnum\n",
                "from ThreeWToolkit.models import sklearn_models\n",
                "from ThreeWToolkit.metrics import _classification"
            ]
        },
        {
            "cell_type": "code",
            "execution_count": 2,
            "id": "1c9a5ddf-9930-4c39-a3a2-fa10324daf7e",
            "metadata": {},
            "outputs": [
                {
                    "name": "stdout",
                    "output_type": "stream",
                    "text": [
                        "Training data shape: (700, 20)\n",
                        "Testing data shape: (300, 20)\n"
                    ]
                }
            ],
            "source": [
                "# Create a synthetic dataset\n",
                "X, y = make_classification(\n",
                "    n_samples=1000,\n",
                "    n_features=20,\n",
                "    n_informative=10,\n",
                "    n_redundant=5,\n",
                "    n_classes=2,\n",
                "    random_state=42\n",
                ")\n",
                "\n",
                "X_train, X_test, y_train, y_test = train_test_split(X, y, test_size=0.3, random_state=42)\n",
                "\n",
                "scaler = MinMaxScaler()\n",
                "X_train = scaler.fit_transform(X_train)\n",
                "X_test = scaler.transform(X_test)\n",
                "\n",
                "print(f\"Training data shape: {X_train.shape}\")\n",
                "print(f\"Testing data shape: {X_test.shape}\")"
            ]
        },
        {
            "cell_type": "code",
            "execution_count": 6,
            "id": "69ae3e43-e5d1-4236-b5c8-31b1fa7ef00a",
            "metadata": {},
            "outputs": [
                {
                    "name": "stdout",
                    "output_type": "stream",
                    "text": [
                        "--- Training LOGISTIC_REGRESSION ---\n",
                        "Accuracy: 0.8133\n",
                        "\n",
                        "--- Training DECISION_TREE ---\n",
                        "Accuracy: 0.8333\n",
                        "\n",
                        "--- Training RANDOM_FOREST ---\n",
                        "Accuracy: 0.8900\n",
                        "\n",
                        "--- Training SVM ---\n",
                        "Accuracy: 0.9500\n",
                        "\n",
                        "--- Training KNN ---\n",
                        "Accuracy: 0.9100\n",
                        "\n",
                        "--- Training NAIVE_BAYES ---\n",
                        "Accuracy: 0.7533\n",
                        "\n",
                        "--- Training GRADIENT_BOOSTING ---\n",
                        "Accuracy: 0.9067\n",
                        "\n",
                        "--- Evaluation Summary ---\n",
                        "                     accuracy_score  balanced_accuracy_score  f1_score  \\\n",
                        "LOGISTIC_REGRESSION        0.813333                 0.815179  0.808219   \n",
                        "DECISION_TREE              0.833333                 0.835714  0.829932   \n",
                        "RANDOM_FOREST              0.890000                 0.892411  0.887372   \n",
                        "SVM                        0.950000                 0.950446  0.946996   \n",
                        "KNN                        0.910000                 0.910268  0.904594   \n",
                        "NAIVE_BAYES                0.753333                 0.751339  0.731884   \n",
                        "GRADIENT_BOOSTING          0.906667                 0.908482  0.903448   \n",
                        "\n",
                        "                     roc_auc_score  \n",
                        "LOGISTIC_REGRESSION       0.899286  \n",
                        "DECISION_TREE             0.846808  \n",
                        "RANDOM_FOREST             0.967143  \n",
                        "SVM                            NaN  \n",
                        "KNN                       0.973125  \n",
                        "NAIVE_BAYES               0.837545  \n",
                        "GRADIENT_BOOSTING         0.979152  \n"
                    ]
                }
            ],
            "source": [
                "# Define a list of configs, one for each model type\n",
                "model_configs = [\n",
                "    sklearn_models.TrainerSklearnModelsConfig(model_type=ModelTypeEnum.LOGISTIC_REGRESSION),\n",
                "    sklearn_models.TrainerSklearnModelsConfig(model_type=ModelTypeEnum.DECISION_TREE, model_params={\"max_depth\": 5}),\n",
                "    sklearn_models.TrainerSklearnModelsConfig(model_type=ModelTypeEnum.RANDOM_FOREST, model_params={\"n_estimators\": 100, \"max_depth\": 5}),\n",
                "    sklearn_models.TrainerSklearnModelsConfig(model_type=ModelTypeEnum.SVM, model_params={\"kernel\": \"rbf\", \"C\": 1.0}),\n",
                "    sklearn_models.TrainerSklearnModelsConfig(model_type=ModelTypeEnum.KNN, model_params={\"n_neighbors\": 5}),\n",
                "    sklearn_models.TrainerSklearnModelsConfig(model_type=ModelTypeEnum.NAIVE_BAYES),\n",
                "    sklearn_models.TrainerSklearnModelsConfig(model_type=ModelTypeEnum.GRADIENT_BOOSTING, \n",
                "                                       model_params={\"n_estimators\": 100, \"learning_rate\": 0.1})\n",
                "]\n",
                "\n",
                "metrics_to_calculate = [\n",
                "    _classification.accuracy_score,\n",
                "    _classification.balanced_accuracy_score,\n",
                "    _classification.f1_score,\n",
                "    _classification.roc_auc_score # This will be skipped for SVM\n",
                "]\n",
                "\n",
                "# Loop through the configs to train and evaluate each model\n",
                "results = {}\n",
                "for config in model_configs:\n",
                "    model_name = config.model_type.name\n",
                "    print(f\"--- Training {model_name} ---\")\n",
                "    \n",
                "    model = sklearn_models.SklearnModels(config)\n",
                "    model.train(x=X_train, y=y_train)\n",
                "    \n",
                "    metrics = model.evaluate(x=X_test, y=y_test, metrics=metrics_to_calculate)\n",
                "    results[model_name] = metrics\n",
                "    print(f\"Accuracy: {metrics.get('accuracy_score', 'N/A'):.4f}\\n\")\n",
                "\n",
                "# Display a summary of all results\n",
                "print(\"--- Evaluation Summary ---\")\n",
                "results_df = pd.DataFrame(results).T\n",
                "print(results_df)"
            ]
        },
        {
            "cell_type": "code",
            "execution_count": 10,
            "id": "a55e1332-af4b-4d31-b81b-47953d363934",
            "metadata": {},
            "outputs": [
                {
                    "name": "stdout",
                    "output_type": "stream",
                    "text": [
                        "Loaded Random Forest model accuracy: 0.9167\n"
                    ]
                }
            ],
            "source": [
                "# To demonstrate saving, let's train one model again\n",
                "rf_config = sklearn_models.TrainerSklearnModelsConfig(model_type=ModelTypeEnum.RANDOM_FOREST)\n",
                "rf_model = sklearn_models.SklearnModels(rf_config)\n",
                "rf_model.train(x=X_train, y=y_train)\n",
                "\n",
                "model_filepath = \"random_forest_model.pkl\"\n",
                "rf_model.save(model_filepath)\n",
                "\n",
                "# Load it back from the file\n",
                "loaded_rf_model = sklearn_models.SklearnModels.load(model_filepath, rf_config)\n",
                "\n",
                "# Verify the loaded model works by evaluating it\n",
                "loaded_metrics = loaded_rf_model.evaluate(\n",
                "    x=X_test, y=y_test, metrics=[_classification.accuracy_score]\n",
                ")\n",
                "loaded_accuracy = loaded_metrics[\"accuracy_score\"]\n",
                "\n",
                "print(f\"Loaded Random Forest model accuracy: {loaded_accuracy:.4f}\")"
            ]
        }
    ],
    "metadata": {
        "kernelspec": {
            "display_name": "Python 3 (ipykernel)",
            "language": "python",
            "name": "python3"
        },
        "language_info": {
            "codemirror_mode": {
                "name": "ipython",
                "version": 3
            },
            "file_extension": ".py",
            "mimetype": "text/x-python",
            "name": "python",
            "nbconvert_exporter": "python",
            "pygments_lexer": "ipython3",
            "version": "3.10.11"
        }
    },
    "nbformat": 4,
    "nbformat_minor": 5
}