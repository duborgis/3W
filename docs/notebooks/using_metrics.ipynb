{
 "cells": [
  {
   "cell_type": "markdown",
   "id": "bd6b1b4f",
   "metadata": {},
   "source": [
    "### Motivation"
   ]
  },
  {
   "cell_type": "markdown",
   "id": "b05433e5",
   "metadata": {},
   "source": [
    "This notebook provides a practical demonstration of how to use the performance metrics available in the `ThreeWToolkit` to evaluate machine learning models. It covers both classification and regression tasks, illustrating the process from data loading and model training to performance evaluation.\n",
    "\n",
    "### What you will learn:\n",
    "- **Classification Model Evaluation**:\n",
    "    - How to train a classifier on the 3W dataset.\n",
    "    - How to use and interpret the following metrics:\n",
    "        - `accuracy_score`\n",
    "        - `balanced_accuracy_score`\n",
    "        - `average_precision_score`\n",
    "        - `precision_score`\n",
    "        - `recall_score`\n",
    "        - `f1_score`\n",
    "        - `roc_auc_score`\n",
    "\n",
    "- **Regression Model Evaluation**:\n",
    "    - How to set up and train a regression model.\n",
    "    - How to apply and understand the `explained_variance_score`."
   ]
  },
  {
   "cell_type": "markdown",
   "id": "e10ff779",
   "metadata": {},
   "source": [
    "### Imports"
   ]
  },
  {
   "cell_type": "markdown",
   "id": "32f41cd2",
   "metadata": {},
   "source": [
    "**Adaptation to recognize the project root. For demonstration purposes only.**"
   ]
  },
  {
   "cell_type": "code",
   "execution_count": 1,
   "id": "331c7718",
   "metadata": {},
   "outputs": [],
   "source": [
    "import sys\n",
    "import os\n",
    "import numpy as np\n",
    "\n",
    "# Adiciona o diretório raiz ao sys.path\n",
    "sys.path.append(os.path.abspath(os.path.join(os.getcwd(), '../../')))"
   ]
  },
  {
   "cell_type": "markdown",
   "id": "b14b2266",
   "metadata": {},
   "source": [
    "**Required**"
   ]
  },
  {
   "cell_type": "code",
   "execution_count": 2,
   "id": "cc0e88cf",
   "metadata": {},
   "outputs": [],
   "source": [
    "from ThreeWToolkit.metrics import (\n",
    "    accuracy_score,\n",
    "    balanced_accuracy_score,\n",
    "    average_precision_score,\n",
    "    precision_score,\n",
    "    recall_score,\n",
    "    f1_score,\n",
    "    roc_auc_score,\n",
    "    explained_variance_score\n",
    ")\n",
    "from ThreeWToolkit.core.base_preprocessing import WindowingConfig\n",
    "from ThreeWToolkit.preprocessing import Windowing\n",
    "from ThreeWToolkit.trainer.trainer import ModelTrainer, TrainerConfig\n",
    "from ThreeWToolkit.models.mlp import MLPConfig\n",
    "from ThreeWToolkit.dataset import ParquetDataset\n",
    "from ThreeWToolkit.core.base_dataset import ParquetDatasetConfig\n",
    "\n",
    "from pathlib import Path\n",
    "import torch\n",
    "from tqdm import tqdm\n",
    "import pandas as pd"
   ]
  },
  {
   "cell_type": "markdown",
   "id": "23b05008",
   "metadata": {},
   "source": [
    "### How to use metrics for classification tasks"
   ]
  },
  {
   "cell_type": "markdown",
   "id": "b314e430",
   "metadata": {},
   "source": [
    "#### Loading 3W Dataset"
   ]
  },
  {
   "cell_type": "code",
   "execution_count": 3,
   "id": "47373422",
   "metadata": {},
   "outputs": [
    {
     "name": "stdout",
     "output_type": "stream",
     "text": [
      "[ParquetDataset] Dataset found at ../../data/raw\n",
      "[ParquetDataset] Validating dataset integrity...\n",
      "[ParquetDataset] Dataset integrity check passed!\n"
     ]
    },
    {
     "data": {
      "text/plain": [
       "{'signal':                      ABER-CKGL  ABER-CKP  ESTADO-DHSV  ESTADO-M1  ESTADO-M2  \\\n",
       " timestamp                                                                     \n",
       " 2017-05-25 13:00:00        0.0       0.0     0.867921   0.414652  -0.681653   \n",
       " 2017-05-25 13:00:01        0.0       0.0     0.867921   0.414652  -0.681653   \n",
       " 2017-05-25 13:00:02        0.0       0.0     0.867921   0.414652  -0.681653   \n",
       " 2017-05-25 13:00:03        0.0       0.0     0.867921   0.414652  -0.681653   \n",
       " 2017-05-25 13:00:04        0.0       0.0     0.867921   0.414652  -0.681653   \n",
       " ...                        ...       ...          ...        ...        ...   \n",
       " 2017-05-25 18:59:04        0.0       0.0     0.867921   0.414652  -0.681653   \n",
       " 2017-05-25 18:59:05        0.0       0.0     0.867921   0.414652  -0.681653   \n",
       " 2017-05-25 18:59:06        0.0       0.0     0.867921   0.414652  -0.681653   \n",
       " 2017-05-25 18:59:07        0.0       0.0     0.867921   0.414652  -0.681653   \n",
       " 2017-05-25 18:59:08        0.0       0.0     0.867921   0.414652  -0.681653   \n",
       " \n",
       "                      ESTADO-PXO  ESTADO-SDV-GL  ESTADO-SDV-P  ESTADO-W1  \\\n",
       " timestamp                                                                 \n",
       " 2017-05-25 13:00:00   -0.094347      -1.094009      0.312558   0.650525   \n",
       " 2017-05-25 13:00:01   -0.094347      -1.094009      0.312558   0.650525   \n",
       " 2017-05-25 13:00:02   -0.094347      -1.094009      0.312558   0.650525   \n",
       " 2017-05-25 13:00:03   -0.094347      -1.094009      0.312558   0.650525   \n",
       " 2017-05-25 13:00:04   -0.094347      -1.094009      0.312558   0.650525   \n",
       " ...                         ...            ...           ...        ...   \n",
       " 2017-05-25 18:59:04   -0.094347      -1.094009      0.312558   0.650525   \n",
       " 2017-05-25 18:59:05   -0.094347      -1.094009      0.312558   0.650525   \n",
       " 2017-05-25 18:59:06   -0.094347      -1.094009      0.312558   0.650525   \n",
       " 2017-05-25 18:59:07   -0.094347      -1.094009      0.312558   0.650525   \n",
       " 2017-05-25 18:59:08   -0.094347      -1.094009      0.312558   0.650525   \n",
       " \n",
       "                      ESTADO-W2  ...  P-JUS-CKGL  P-JUS-CKP  P-MON-CKP  P-PDG  \\\n",
       " timestamp                       ...                                            \n",
       " 2017-05-25 13:00:00  -0.563169  ...   -1.080958        0.0   0.837468    0.0   \n",
       " 2017-05-25 13:00:01  -0.563169  ...   -1.080958        0.0   0.837528    0.0   \n",
       " 2017-05-25 13:00:02  -0.563169  ...   -1.080958        0.0   0.837588    0.0   \n",
       " 2017-05-25 13:00:03  -0.563169  ...   -1.080958        0.0   0.837647    0.0   \n",
       " 2017-05-25 13:00:04  -0.563169  ...   -1.080958        0.0   0.837707    0.0   \n",
       " ...                        ...  ...         ...        ...        ...    ...   \n",
       " 2017-05-25 18:59:04  -0.563169  ...   -1.081649        0.0   0.867735    0.0   \n",
       " 2017-05-25 18:59:05  -0.563169  ...   -1.081649        0.0   0.867843    0.0   \n",
       " 2017-05-25 18:59:06  -0.563169  ...   -1.081649        0.0   0.867952    0.0   \n",
       " 2017-05-25 18:59:07  -0.563169  ...   -1.081649        0.0   0.868060    0.0   \n",
       " 2017-05-25 18:59:08  -0.563169  ...   -1.081649        0.0   0.868168    0.0   \n",
       " \n",
       "                         P-TPT       QGL  T-JUS-CKP  T-MON-CKP  T-PDG     T-TPT  \n",
       " timestamp                                                                       \n",
       " 2017-05-25 13:00:00  0.005239 -0.846093  -0.020130        0.0    0.0  0.651517  \n",
       " 2017-05-25 13:00:01  0.005248 -0.846093  -0.020070        0.0    0.0  0.651521  \n",
       " 2017-05-25 13:00:02  0.005258 -0.846093  -0.020010        0.0    0.0  0.651527  \n",
       " 2017-05-25 13:00:03  0.005267 -0.846093  -0.019951        0.0    0.0  0.651530  \n",
       " 2017-05-25 13:00:04  0.005277 -0.846093  -0.019890        0.0    0.0  0.651534  \n",
       " ...                       ...       ...        ...        ...    ...       ...  \n",
       " 2017-05-25 18:59:04  0.042529 -0.846093   0.013888        0.0    0.0  0.651426  \n",
       " 2017-05-25 18:59:05  0.042585 -0.846093   0.013861        0.0    0.0  0.651426  \n",
       " 2017-05-25 18:59:06  0.042641 -0.846093   0.013835        0.0    0.0  0.651426  \n",
       " 2017-05-25 18:59:07  0.042699 -0.846093   0.013808        0.0    0.0  0.651426  \n",
       " 2017-05-25 18:59:08  0.042755 -0.846093   0.013782        0.0    0.0  0.651426  \n",
       " \n",
       " [21549 rows x 22 columns],\n",
       " 'label':                      class\n",
       " timestamp                 \n",
       " 2017-05-25 13:00:00      0\n",
       " 2017-05-25 13:00:01      0\n",
       " 2017-05-25 13:00:02      0\n",
       " 2017-05-25 13:00:03      0\n",
       " 2017-05-25 13:00:04      0\n",
       " ...                    ...\n",
       " 2017-05-25 18:59:04      0\n",
       " 2017-05-25 18:59:05      0\n",
       " 2017-05-25 18:59:06      0\n",
       " 2017-05-25 18:59:07      0\n",
       " 2017-05-25 18:59:08      0\n",
       " \n",
       " [21549 rows x 1 columns],\n",
       " 'file_name': PosixPath('0/WELL-00001_20170525130000.parquet')}"
      ]
     },
     "execution_count": 3,
     "metadata": {},
     "output_type": "execute_result"
    }
   ],
   "source": [
    "dataset_path = Path(\"../../data/raw/\")\n",
    "ds_config = ParquetDatasetConfig(\n",
    "    path=dataset_path, clean_data=True, download=False, target_class=[0, 1, 2]\n",
    ")\n",
    "ds = ParquetDataset(ds_config)\n",
    "ds[19]\n",
    "\n",
    "\n"
   ]
  },
  {
   "cell_type": "markdown",
   "id": "204855dc",
   "metadata": {},
   "source": [
    "### Setting up model "
   ]
  },
  {
   "cell_type": "code",
   "execution_count": 4,
   "id": "766d8f9f",
   "metadata": {},
   "outputs": [
    {
     "name": "stdout",
     "output_type": "stream",
     "text": [
      "MLP(\n",
      "  (activation_func): ReLU()\n",
      "  (model): Sequential(\n",
      "    (0): Linear(in_features=1000, out_features=32, bias=True)\n",
      "    (1): ReLU()\n",
      "    (2): Linear(in_features=32, out_features=16, bias=True)\n",
      "    (3): ReLU()\n",
      "    (4): Linear(in_features=16, out_features=3, bias=True)\n",
      "  )\n",
      ")\n"
     ]
    }
   ],
   "source": [
    "device = \"cuda\" if torch.cuda.is_available() else \"cpu\"\n",
    "\n",
    "window_size = 1000\n",
    "mlp_config = MLPConfig(\n",
    "    input_size=window_size,\n",
    "    hidden_sizes=(32, 16),\n",
    "    output_size=3,\n",
    "    random_seed=11,\n",
    "    activation_function=\"relu\",\n",
    "    regularization=None,\n",
    ")\n",
    "\n",
    "trainer_config = TrainerConfig(\n",
    "    optimizer=\"adam\",\n",
    "    criterion=\"cross_entropy\",\n",
    "    batch_size=32,\n",
    "    epochs=20,\n",
    "    seed=11,\n",
    "    config_model=mlp_config,\n",
    "    learning_rate=0.001,\n",
    "    device=device,\n",
    "    cross_validation=False,\n",
    "    shuffle_train=True\n",
    ")\n",
    "\n",
    "trainer = ModelTrainer(trainer_config)\n",
    "print(trainer.model)"
   ]
  },
  {
   "cell_type": "code",
   "execution_count": 5,
   "id": "25b89185",
   "metadata": {},
   "outputs": [
    {
     "name": "stderr",
     "output_type": "stream",
     "text": [
      "100%|██████████| 760/760 [00:23<00:00, 32.79it/s]\n"
     ]
    }
   ],
   "source": [
    "# Select target columns and prepare training data with windowing\n",
    "selected_col = \"T-TPT\"\n",
    "x_train = []\n",
    "y_train = []\n",
    "dfs = []\n",
    "\n",
    "wind = Windowing(WindowingConfig(window=\"hann\",\n",
    "        window_size=window_size,\n",
    "        overlap=0.5,\n",
    "        pad_last_window=True))\n",
    "\n",
    "for event in tqdm(ds):\n",
    "    windowed_signal = wind(\n",
    "        event[\"signal\"][selected_col]\n",
    "    )\n",
    "    windowed_signal.drop(columns=[\"win\"], inplace=True)\n",
    "    windowed_signal[\"label\"] = np.unique(event[\"label\"][\"class\"])[0]\n",
    "    dfs.append(windowed_signal)\n",
    "dfs_final = pd.concat(dfs, ignore_index=True, axis=0)"
   ]
  },
  {
   "cell_type": "markdown",
   "id": "06a1a814",
   "metadata": {},
   "source": [
    "### Model Validation"
   ]
  },
  {
   "cell_type": "code",
   "execution_count": 6,
   "id": "60065e6b",
   "metadata": {},
   "outputs": [
    {
     "name": "stdout",
     "output_type": "stream",
     "text": [
      "X_train shape: (35516, 1000)\n",
      "X_test shape: (8879, 1000)\n",
      "y_train shape: (35516,)\n",
      "y_test shape: (8879,)\n",
      "-------------------------\n",
      "Train occurrences by class:\n",
      "label\n",
      "0    19706\n",
      "1    14614\n",
      "2     1196\n",
      "Name: count, dtype: int64\n",
      "\n",
      "Test occurrences by class:\n",
      "label\n",
      "0    4927\n",
      "1    3653\n",
      "2     299\n",
      "Name: count, dtype: int64\n"
     ]
    }
   ],
   "source": [
    "from sklearn.model_selection import train_test_split\n",
    "\n",
    "# Separate features (X) and target (y) from the final dataframe\n",
    "X = dfs_final.iloc[:, :-1]\n",
    "y = dfs_final['label']\n",
    "\n",
    "# Perform a stratified train-test split\n",
    "X_train, X_test, y_train, y_test = train_test_split(\n",
    "    X, y, test_size=0.2, random_state=42, stratify=y\n",
    ")\n",
    "\n",
    "# Print the shapes of the resulting datasets\n",
    "print(f\"X_train shape: {X_train.shape}\")\n",
    "print(f\"X_test shape: {X_test.shape}\")\n",
    "print(f\"y_train shape: {y_train.shape}\")\n",
    "print(f\"y_test shape: {y_test.shape}\")\n",
    "print(\"-\" * 25)\n",
    "\n",
    "# Show the class distribution in the training and testing sets\n",
    "print(\"Train occurrences by class:\")\n",
    "print(y_train.value_counts())\n",
    "print(\"\\nTest occurrences by class:\")\n",
    "print(y_test.value_counts())\n"
   ]
  },
  {
   "cell_type": "code",
   "execution_count": 7,
   "id": "676aabbd",
   "metadata": {},
   "outputs": [
    {
     "data": {
      "application/vnd.jupyter.widget-view+json": {
       "model_id": "aec5e2daa8364afe8b0b60dbb8395c97",
       "version_major": 2,
       "version_minor": 0
      },
      "text/plain": [
       "[Pipeline] Training:   0%|          | 0/20 [00:00<?, ?epoch/s]"
      ]
     },
     "metadata": {},
     "output_type": "display_data"
    }
   ],
   "source": [
    "# Train the MLP model using the new ModelTrainer interface\n",
    "trainer.train(x_train=X_train, y_train=y_train)"
   ]
  },
  {
   "cell_type": "code",
   "execution_count": 8,
   "id": "eb1f3463",
   "metadata": {},
   "outputs": [],
   "source": [
    "X_test = torch.Tensor(X_test.to_numpy()).to(device)\n",
    "y_pred = trainer.model(X_test).detach().cpu().numpy().argmax(axis=1)\n",
    "y_true = y_test.to_numpy()"
   ]
  },
  {
   "cell_type": "markdown",
   "id": "1ad2f342",
   "metadata": {},
   "source": [
    "### Evaluating the Classification Model\n",
    "\n",
    "With the model trained and predictions made on the test set, we can now evaluate its performance. The following cells demonstrate how to use the various classification metrics imported from `ThreeWToolkit.metrics`. We will use `y_true` (the actual labels) and `y_pred` (the model's predicted labels) to calculate these scores."
   ]
  },
  {
   "cell_type": "markdown",
   "id": "ae7e338f",
   "metadata": {},
   "source": [
    "**Accuracy Score**"
   ]
  },
  {
   "cell_type": "markdown",
   "id": "83f6e881",
   "metadata": {},
   "source": [
    "Basic usage"
   ]
  },
  {
   "cell_type": "code",
   "execution_count": 9,
   "id": "170a50b7",
   "metadata": {},
   "outputs": [
    {
     "name": "stdout",
     "output_type": "stream",
     "text": [
      "The accuracy is 95.0%.\n"
     ]
    }
   ],
   "source": [
    "acc = accuracy_score(y_true = y_true,\n",
    "                     y_pred = y_pred)\n",
    "\n",
    "print(f\"The accuracy is {(acc * 100):.3}%.\")"
   ]
  },
  {
   "cell_type": "markdown",
   "id": "ab531d5b",
   "metadata": {},
   "source": [
    "Using sample weight"
   ]
  },
  {
   "cell_type": "code",
   "execution_count": 10,
   "id": "9f986bc6",
   "metadata": {},
   "outputs": [
    {
     "name": "stdout",
     "output_type": "stream",
     "text": [
      "The accuracy is 94.9%.\n"
     ]
    }
   ],
   "source": [
    "sample_weight = np.random.rand(len(y_true))\n",
    "\n",
    "acc = accuracy_score(y_true = y_true,\n",
    "                     y_pred = y_pred,\n",
    "                     sample_weight = sample_weight)\n",
    "\n",
    "print(f\"The accuracy is {(acc * 100):.3}%.\")"
   ]
  },
  {
   "cell_type": "markdown",
   "id": "6aca9f60",
   "metadata": {},
   "source": [
    "_________"
   ]
  },
  {
   "cell_type": "markdown",
   "id": "6addcc41",
   "metadata": {},
   "source": [
    "**Balanced Accuracy Score**"
   ]
  },
  {
   "cell_type": "markdown",
   "id": "ecff9990",
   "metadata": {},
   "source": [
    "Basic usage"
   ]
  },
  {
   "cell_type": "code",
   "execution_count": 11,
   "id": "f48e0775",
   "metadata": {},
   "outputs": [
    {
     "name": "stdout",
     "output_type": "stream",
     "text": [
      "The balanced accuracy is 86.7%.\n"
     ]
    }
   ],
   "source": [
    "balanced_acc = balanced_accuracy_score(y_true = y_true,\n",
    "                                       y_pred = y_pred)\n",
    "\n",
    "print(f\"The balanced accuracy is {(balanced_acc * 100):.3}%.\")"
   ]
  },
  {
   "cell_type": "markdown",
   "id": "9f62dc2a",
   "metadata": {},
   "source": [
    "Using sample weight"
   ]
  },
  {
   "cell_type": "code",
   "execution_count": 12,
   "id": "5cff67e5",
   "metadata": {},
   "outputs": [
    {
     "name": "stdout",
     "output_type": "stream",
     "text": [
      "The balanced accuracy is 87.5%.\n"
     ]
    }
   ],
   "source": [
    "sample_weight = np.random.rand(len(y_true))\n",
    "\n",
    "balanced_acc = balanced_accuracy_score(y_true = y_true,\n",
    "                                       y_pred = y_pred,\n",
    "                                       sample_weight = sample_weight)\n",
    "\n",
    "print(f\"The balanced accuracy is {(balanced_acc * 100):.3}%.\")"
   ]
  },
  {
   "cell_type": "markdown",
   "id": "dce9d265",
   "metadata": {},
   "source": [
    "______"
   ]
  },
  {
   "cell_type": "markdown",
   "id": "08841e56",
   "metadata": {},
   "source": [
    "**Average Precision Score**"
   ]
  },
  {
   "cell_type": "markdown",
   "id": "c3636225",
   "metadata": {},
   "source": [
    "Basic usage"
   ]
  },
  {
   "cell_type": "code",
   "execution_count": 13,
   "id": "266adcac",
   "metadata": {},
   "outputs": [
    {
     "name": "stdout",
     "output_type": "stream",
     "text": [
      "The average precision is 92.0%.\n"
     ]
    }
   ],
   "source": [
    "y_pred = trainer.model(X_test).detach().cpu().numpy() # needs pseudoprobabilities\n",
    "\n",
    "ap = average_precision_score(y_true = y_true, y_pred = y_pred, average = 'weighted')\n",
    "\n",
    "print(f\"The average precision is {(ap * 100):.3}%.\")"
   ]
  },
  {
   "cell_type": "markdown",
   "id": "cf7fbec1",
   "metadata": {},
   "source": [
    "Using sample weight"
   ]
  },
  {
   "cell_type": "code",
   "execution_count": 14,
   "id": "0937a49b",
   "metadata": {},
   "outputs": [
    {
     "name": "stdout",
     "output_type": "stream",
     "text": [
      "The average precision is 86.9%.\n"
     ]
    }
   ],
   "source": [
    "sample_weight = np.random.rand(len(y_true))\n",
    "\n",
    "ap = average_precision_score(y_true = y_true,\n",
    "                             y_pred = y_pred,\n",
    "                             sample_weight = sample_weight)\n",
    "\n",
    "print(f\"The average precision is {(ap * 100):.3}%.\")"
   ]
  },
  {
   "cell_type": "markdown",
   "id": "0233077d",
   "metadata": {},
   "source": [
    "___________"
   ]
  },
  {
   "cell_type": "markdown",
   "id": "f99918f2",
   "metadata": {},
   "source": [
    "**Precision Score**"
   ]
  },
  {
   "cell_type": "markdown",
   "id": "abaaf295",
   "metadata": {},
   "source": [
    "Basic usage"
   ]
  },
  {
   "cell_type": "code",
   "execution_count": 15,
   "id": "219043ef",
   "metadata": {},
   "outputs": [
    {
     "name": "stdout",
     "output_type": "stream",
     "text": [
      "The precision for class 0 is 92.209%.\n",
      "The precision for class 1 is 99.310%.\n",
      "The precision for class 2 is 95.434%.\n",
      "\n",
      "The weighted average precision is 95.239%.\n"
     ]
    }
   ],
   "source": [
    "y_pred = trainer.model(X_test).detach().cpu().numpy().argmax(axis=1)\n",
    "\n",
    "# Calculate precision for each class (one-vs-rest)\n",
    "precision = precision_score(y_true=y_true, y_pred=y_pred, average=None)\n",
    "\n",
    "# Print precision for each class\n",
    "for i, p in enumerate(precision):\n",
    "    print(f\"The precision for class {i} is {(p * 100):.3f}%.\")\n",
    "\n",
    "# Calculate weighted average precision\n",
    "precision_weighted = precision_score(y_true=y_true, y_pred=y_pred, average='weighted')\n",
    "print(f\"\\nThe weighted average precision is {(precision_weighted * 100):.3f}%.\")"
   ]
  },
  {
   "cell_type": "markdown",
   "id": "965855e4",
   "metadata": {},
   "source": [
    "Using sample weight"
   ]
  },
  {
   "cell_type": "code",
   "execution_count": 16,
   "id": "e4cb1142",
   "metadata": {},
   "outputs": [
    {
     "name": "stdout",
     "output_type": "stream",
     "text": [
      "The precision for class 0 is 92.209%.\n",
      "The precision for class 1 is 99.282%.\n",
      "The precision for class 2 is 94.686%.\n",
      "\n",
      "The weighted average precision is 95.239%.\n"
     ]
    }
   ],
   "source": [
    "sample_weight = np.random.rand(len(y_true))\n",
    "y_pred = trainer.model(X_test).detach().cpu().numpy().argmax(axis=1)\n",
    "\n",
    "# Calculate precision for each class (one-vs-rest)\n",
    "precision = precision_score(y_true=y_true, y_pred=y_pred, average=None, sample_weight=sample_weight)\n",
    "\n",
    "# Print precision for each class\n",
    "for i, p in enumerate(precision):\n",
    "    print(f\"The precision for class {i} is {(p * 100):.3f}%.\")\n",
    "\n",
    "# Calculate weighted average precision\n",
    "precision_weighted = precision_score(y_true=y_true, y_pred=y_pred, average='weighted')\n",
    "print(f\"\\nThe weighted average precision is {(precision_weighted * 100):.3f}%.\")"
   ]
  },
  {
   "cell_type": "markdown",
   "id": "b36134b1",
   "metadata": {},
   "source": [
    "Using different average options"
   ]
  },
  {
   "cell_type": "code",
   "execution_count": 17,
   "id": "d4c92b50",
   "metadata": {},
   "outputs": [
    {
     "name": "stdout",
     "output_type": "stream",
     "text": [
      "The precision [macro] is 95.7%.\n",
      "The precision [micro] is 95.0%.\n",
      "The precision [weighted] is 95.2%.\n"
     ]
    }
   ],
   "source": [
    "precision = precision_score(y_true = y_true, y_pred = y_pred, average = \"macro\")\n",
    "\n",
    "print(f\"The precision [macro] is {(precision * 100):.3}%.\")\n",
    "\n",
    "####\n",
    "precision = precision_score(y_true = y_true, y_pred = y_pred, average = \"micro\")\n",
    "\n",
    "print(f\"The precision [micro] is {(precision * 100):.3}%.\")\n",
    "\n",
    "####\n",
    "precision = precision_score(y_true = y_true, y_pred = y_pred, average = \"weighted\")\n",
    "\n",
    "print(f\"The precision [weighted] is {(precision * 100):.3}%.\")"
   ]
  },
  {
   "cell_type": "markdown",
   "id": "ed8ff910",
   "metadata": {},
   "source": [
    "__________"
   ]
  },
  {
   "cell_type": "markdown",
   "id": "a8f8dcf4",
   "metadata": {},
   "source": [
    "**Recall Score**"
   ]
  },
  {
   "cell_type": "markdown",
   "id": "a60bb529",
   "metadata": {},
   "source": [
    "Basic usage"
   ]
  },
  {
   "cell_type": "code",
   "execution_count": 18,
   "id": "9afdbeed",
   "metadata": {},
   "outputs": [
    {
     "name": "stdout",
     "output_type": "stream",
     "text": [
      "The recall for class 0 is 99.696%.\n",
      "The recall for class 1 is 90.610%.\n",
      "The recall for class 2 is 69.900%.\n",
      "\n",
      "The weighted average recall is 94.954%.\n"
     ]
    }
   ],
   "source": [
    "y_pred = trainer.model(X_test).detach().cpu().numpy().argmax(axis=1)\n",
    "\n",
    "# Calculate precision for each class (one-vs-rest)\n",
    "recall = recall_score(y_true=y_true, y_pred=y_pred, average=None)\n",
    "\n",
    "# Print recall for each class\n",
    "for i, p in enumerate(recall):\n",
    "    print(f\"The recall for class {i} is {(p * 100):.3f}%.\")\n",
    "\n",
    "# Calculate weighted average recall\n",
    "recall_weighted = recall_score(y_true=y_true, y_pred=y_pred, average='weighted')\n",
    "print(f\"\\nThe weighted average recall is {(recall_weighted * 100):.3f}%.\")"
   ]
  },
  {
   "cell_type": "markdown",
   "id": "926d1bf3",
   "metadata": {},
   "source": [
    "Using sample weight"
   ]
  },
  {
   "cell_type": "code",
   "execution_count": 19,
   "id": "0ac37cfe",
   "metadata": {},
   "outputs": [
    {
     "name": "stdout",
     "output_type": "stream",
     "text": [
      "The recall for class 0 is 99.741%.\n",
      "The recall for class 1 is 90.480%.\n",
      "The recall for class 2 is 69.223%.\n",
      "\n",
      "The weighted average recall is 94.954%.\n"
     ]
    }
   ],
   "source": [
    "sample_weight = np.random.rand(len(y_true))\n",
    "y_pred = trainer.model(X_test).detach().cpu().numpy().argmax(axis=1)\n",
    "\n",
    "# Calculate recall for each class (one-vs-rest)\n",
    "precision = recall_score(y_true=y_true, y_pred=y_pred, average=None, sample_weight=sample_weight)\n",
    "\n",
    "# Print recall for each class\n",
    "for i, p in enumerate(precision):\n",
    "    print(f\"The recall for class {i} is {(p * 100):.3f}%.\")\n",
    "\n",
    "# Calculate weighted average recall\n",
    "precision_weighted = recall_score(y_true=y_true, y_pred=y_pred, average='weighted')\n",
    "print(f\"\\nThe weighted average recall is {(precision_weighted * 100):.3f}%.\")"
   ]
  },
  {
   "cell_type": "markdown",
   "id": "d92f02d5",
   "metadata": {},
   "source": [
    "Using different average options"
   ]
  },
  {
   "cell_type": "code",
   "execution_count": 20,
   "id": "4a001620",
   "metadata": {},
   "outputs": [
    {
     "name": "stdout",
     "output_type": "stream",
     "text": [
      "The recall [macro] is 86.7%.\n",
      "The recall [micro] is 95.0%.\n",
      "The recall [weighted] is 95.0%.\n"
     ]
    }
   ],
   "source": [
    "recall = recall_score(y_true = y_true, y_pred = y_pred, average = \"macro\")\n",
    "\n",
    "print(f\"The recall [macro] is {(recall * 100):.3}%.\")\n",
    "\n",
    "####\n",
    "recall = recall_score(y_true = y_true, y_pred = y_pred, average = \"micro\")\n",
    "\n",
    "print(f\"The recall [micro] is {(recall * 100):.3}%.\")\n",
    "\n",
    "####\n",
    "recall = recall_score(y_true = y_true, y_pred = y_pred, average = \"weighted\")\n",
    "\n",
    "print(f\"The recall [weighted] is {(recall * 100):.3}%.\")"
   ]
  },
  {
   "cell_type": "markdown",
   "id": "f0366437",
   "metadata": {},
   "source": [
    "_______"
   ]
  },
  {
   "cell_type": "markdown",
   "id": "cb5ce1e9",
   "metadata": {},
   "source": [
    "**F1 Score**"
   ]
  },
  {
   "cell_type": "markdown",
   "id": "30016650",
   "metadata": {},
   "source": [
    "Basic usage"
   ]
  },
  {
   "cell_type": "code",
   "execution_count": 21,
   "id": "927c37ba",
   "metadata": {},
   "outputs": [
    {
     "name": "stdout",
     "output_type": "stream",
     "text": [
      "The f1 for class 0 against the rest is 95.688%.\n",
      "The f1 for class 1 against the rest is 94.744%.\n",
      "The f1 for class 2 against the rest is 80.969%.\n",
      "\n",
      "The weighted average f1 is 94.867%.\n"
     ]
    }
   ],
   "source": [
    "y_pred = trainer.model(X_test).detach().cpu().numpy().argmax(axis=1)\n",
    "\n",
    "# Calculate precision for each class (one-vs-rest)\n",
    "precision = f1_score(y_true=y_true, y_pred=y_pred, average=None, sample_weight=sample_weight)\n",
    "\n",
    "# Print f1 for each class\n",
    "for i, p in enumerate(precision):\n",
    "    print(f\"The f1 for class {i} against the rest is {(p * 100):.3f}%.\")\n",
    "\n",
    "# Calculate weighted average f1\n",
    "precision_weighted = f1_score(y_true=y_true, y_pred=y_pred, average='weighted')\n",
    "print(f\"\\nThe weighted average f1 is {(precision_weighted * 100):.3f}%.\")"
   ]
  },
  {
   "cell_type": "markdown",
   "id": "5eadfa65",
   "metadata": {},
   "source": [
    "Using sample weight"
   ]
  },
  {
   "cell_type": "code",
   "execution_count": 22,
   "id": "f936642d",
   "metadata": {},
   "outputs": [
    {
     "name": "stdout",
     "output_type": "stream",
     "text": [
      "The f1_score [macro] is 90.4%.\n",
      "The f1_score [micro] is 95.0%.\n",
      "The f1_score [weighted] is 94.9%.\n"
     ]
    }
   ],
   "source": [
    "recall = f1_score(y_true = y_true, y_pred = y_pred, average = \"macro\")\n",
    "\n",
    "print(f\"The f1_score [macro] is {(recall * 100):.3}%.\")\n",
    "\n",
    "####\n",
    "recall = f1_score(y_true = y_true, y_pred = y_pred, average = \"micro\")\n",
    "\n",
    "print(f\"The f1_score [micro] is {(recall * 100):.3}%.\")\n",
    "\n",
    "####\n",
    "recall = f1_score(y_true = y_true, y_pred = y_pred, average = \"weighted\")\n",
    "\n",
    "print(f\"The f1_score [weighted] is {(recall * 100):.3}%.\")"
   ]
  },
  {
   "cell_type": "markdown",
   "id": "cb8ba889",
   "metadata": {},
   "source": [
    "_____________"
   ]
  },
  {
   "cell_type": "markdown",
   "id": "429d35d4",
   "metadata": {},
   "source": [
    "**ROC AUC Score**"
   ]
  },
  {
   "cell_type": "markdown",
   "id": "f5671ffa",
   "metadata": {},
   "source": [
    "Basic usage"
   ]
  },
  {
   "cell_type": "code",
   "execution_count": 23,
   "id": "90d74636",
   "metadata": {},
   "outputs": [
    {
     "name": "stdout",
     "output_type": "stream",
     "text": [
      "ROC AUC for each class (One-vs-Rest):\n",
      "The ROC AUC for class 0 is 94.889%.\n",
      "The ROC AUC for class 1 is 96.151%.\n",
      "The ROC AUC for class 2 is 90.482%.\n",
      "\n",
      "Using multi_class options:\n",
      "The ROC AUC (OVR, macro) is 93.841%.\n",
      "The ROC AUC (OVR, weighted) is 95.260%.\n",
      "The ROC AUC (OVO, macro) is 92.335%.\n",
      "The roc_auc is 92.7%.\n"
     ]
    }
   ],
   "source": [
    "y_pred = torch.softmax(trainer.model(X_test), dim=1).detach().cpu().numpy()\n",
    "\n",
    "# Calculate ROC AUC for each class (One-vs-Rest)\n",
    "print(\"ROC AUC for each class (One-vs-Rest):\")\n",
    "for i in range(y_pred.shape[1]):\n",
    "    y_true_class = (y_true == i).astype(int)\n",
    "    y_pred_class = y_pred[:, i]\n",
    "    roc_auc = roc_auc_score(y_true=y_true_class, y_pred=y_pred_class)\n",
    "    print(f\"The ROC AUC for class {i} is {(roc_auc * 100):.3f}%.\")\n",
    "\n",
    "print(\"\\nUsing multi_class options:\")\n",
    "# Calculate ROC AUC using One-vs-Rest (ovr) strategy with macro averaging\n",
    "roc_auc_ovr_macro = roc_auc_score(y_true=y_true, y_pred=y_pred, multi_class='ovr', average='macro')\n",
    "print(f\"The ROC AUC (OVR, macro) is {(roc_auc_ovr_macro * 100):.3f}%.\")\n",
    "\n",
    "# Calculate ROC AUC using One-vs-Rest (ovr) strategy with weighted averaging\n",
    "roc_auc_ovr_weighted = roc_auc_score(y_true=y_true, y_pred=y_pred, multi_class='ovr', average='weighted')\n",
    "print(f\"The ROC AUC (OVR, weighted) is {(roc_auc_ovr_weighted * 100):.3f}%.\")\n",
    "\n",
    "# Calculate ROC AUC using One-vs-One (ovo) strategy with macro averaging\n",
    "roc_auc_ovo_macro = roc_auc_score(y_true=y_true, y_pred=y_pred, multi_class='ovo', average='macro')\n",
    "print(f\"The ROC AUC (OVO, macro) is {(roc_auc_ovo_macro * 100):.3f}%.\")\n",
    "\n",
    "# Calculate ROC AUC using One-vs-One (ovo) strategy with weighted averaging\n",
    "roc_auc = roc_auc_score(y_true=y_true, y_pred=y_pred, multi_class='ovo', average='weighted')\n",
    "\n",
    "print(f\"The roc_auc is {(roc_auc * 100):.3}%.\")"
   ]
  },
  {
   "cell_type": "markdown",
   "id": "c076d124",
   "metadata": {},
   "source": [
    "_____"
   ]
  },
  {
   "cell_type": "code",
   "execution_count": 24,
   "id": "b36927e6",
   "metadata": {},
   "outputs": [
    {
     "name": "stdout",
     "output_type": "stream",
     "text": [
      "[ParquetDataset] Dataset found at ../../data/raw\n",
      "[ParquetDataset] Validating dataset integrity...\n",
      "[ParquetDataset] Dataset integrity check passed!\n"
     ]
    },
    {
     "name": "stdout",
     "output_type": "stream",
     "text": [
      ">> ['P-TPT', 'P-PDG', 'T-TPT', 'P-MON-CKP', 'T-JUS-CKP', 'P-JUS-CKGL']\n",
      "X_train shape: (27839, 6)\n",
      "X_test shape: (6960, 6)\n",
      "y_train shape: (27839,)\n",
      "y_test shape: (6960,)\n",
      "-------------------------\n"
     ]
    }
   ],
   "source": [
    "\n",
    "\n",
    "from ThreeWToolkit.core.base_preprocessing import ImputeMissingConfig\n",
    "from ThreeWToolkit.preprocessing._data_processing import ImputeMissing\n",
    "\n",
    "x_columns = [\"P-TPT\", \"P-PDG\", \"T-TPT\", \"P-MON-CKP\", \"T-JUS-CKP\", \"P-JUS-CKGL\"]\n",
    "\n",
    "ds_config = ParquetDatasetConfig(\n",
    "    columns=x_columns,\n",
    "    target_column=\"QGL\",\n",
    "    path=dataset_path, \n",
    "    clean_data=True\n",
    ")\n",
    "cleaned_dataset = ParquetDataset(ds_config)\n",
    "\n",
    "# Add some noise to the signal for demonstration purposes\n",
    "X = cleaned_dataset[20]['signal'] + np.random.normal(0, 0.01, cleaned_dataset[20]['signal'].shape)\n",
    "y = cleaned_dataset[20]['label']['QGL'] + np.random.normal(0, 1, cleaned_dataset[20]['label']['QGL'].shape)\n",
    "\n",
    "# Perform a stratified train-test split\n",
    "X_train, X_test, y_train, y_test = train_test_split(\n",
    "    X, y, test_size=0.2, random_state=42\n",
    ")\n",
    "\n",
    "# Print the shapes of the resulting datasets\n",
    "print(f\"X_train shape: {X_train.shape}\")\n",
    "print(f\"X_test shape: {X_test.shape}\")\n",
    "print(f\"y_train shape: {y_train.shape}\")\n",
    "print(f\"y_test shape: {y_test.shape}\")\n",
    "print(\"-\" * 25)"
   ]
  },
  {
   "cell_type": "markdown",
   "id": "94975e6b",
   "metadata": {},
   "source": [
    "### How to use metrics for regression tasks\n",
    "\n",
    "Now, let's explore how to evaluate a model on a regression task. We will set up a new MLP model configured for regression (predicting a continuous value) and then use appropriate metrics to assess its performance.\n",
    "\n",
    "### Setting up model"
   ]
  },
  {
   "cell_type": "code",
   "execution_count": 25,
   "id": "afae7f4b",
   "metadata": {},
   "outputs": [
    {
     "data": {
      "application/vnd.jupyter.widget-view+json": {
       "model_id": "e900f8d9332942ecb7b1aa1b4ff57c02",
       "version_major": 2,
       "version_minor": 0
      },
      "text/plain": [
       "[Pipeline] Training:   0%|          | 0/20 [00:00<?, ?epoch/s]"
      ]
     },
     "metadata": {},
     "output_type": "display_data"
    }
   ],
   "source": [
    "\n",
    "mlp_config = MLPConfig(\n",
    "    input_size=len(x_columns),\n",
    "    hidden_sizes=(32, 16),\n",
    "    output_size=1,\n",
    "    random_seed=11,\n",
    "    activation_function=\"relu\",\n",
    "    regularization=None,\n",
    ")\n",
    "\n",
    "trainer_config = TrainerConfig(\n",
    "    optimizer=\"adam\",\n",
    "    criterion=\"mse\",\n",
    "    batch_size=32,\n",
    "    epochs=20,\n",
    "    seed=42,\n",
    "    config_model=mlp_config,\n",
    "    learning_rate=0.001,\n",
    "    device=device,\n",
    "    cross_validation=False,\n",
    "    shuffle_train=True\n",
    ")\n",
    "trainer = ModelTrainer(trainer_config) \n",
    "\n",
    "trainer.train(x_train=X_train, y_train=y_train)\n"
   ]
  },
  {
   "cell_type": "code",
   "execution_count": 26,
   "id": "5da042ed",
   "metadata": {},
   "outputs": [],
   "source": [
    "X_test = torch.Tensor(X_test.to_numpy()).to(device)\n",
    "y_pred = trainer.model(X_test).detach().cpu().numpy()\n",
    "y_true = y_test.to_numpy()"
   ]
  },
  {
   "cell_type": "markdown",
   "id": "b36337ba",
   "metadata": {},
   "source": [
    "**Explained Variance Score**"
   ]
  },
  {
   "cell_type": "markdown",
   "id": "0e05b8de",
   "metadata": {},
   "source": [
    "Basic usage"
   ]
  },
  {
   "cell_type": "code",
   "execution_count": 28,
   "id": "238e3f02",
   "metadata": {},
   "outputs": [
    {
     "name": "stdout",
     "output_type": "stream",
     "text": [
      "The explained_variance_score is 91.0%.\n"
     ]
    }
   ],
   "source": [
    "evscore = explained_variance_score(y_true = y_true, y_pred = y_pred)\n",
    "\n",
    "print(f\"The explained_variance_score is {(evscore * 100):.3}%.\")"
   ]
  },
  {
   "cell_type": "markdown",
   "id": "a8e46e94",
   "metadata": {},
   "source": [
    "Using sample weight"
   ]
  },
  {
   "cell_type": "code",
   "execution_count": 29,
   "id": "91f101ce",
   "metadata": {},
   "outputs": [
    {
     "name": "stdout",
     "output_type": "stream",
     "text": [
      "The explained_variance_score is 91.0%.\n"
     ]
    }
   ],
   "source": [
    "weights = np.random.rand(len(y_true))\n",
    "\n",
    "evscore = explained_variance_score(y_true = y_true, y_pred = y_pred, sample_weight = weights)\n",
    "\n",
    "print(f\"The explained_variance_score is {(evscore * 100):.3}%.\")"
   ]
  },
  {
   "cell_type": "markdown",
   "id": "9567b340",
   "metadata": {},
   "source": [
    "Using different average options"
   ]
  },
  {
   "cell_type": "code",
   "execution_count": 30,
   "id": "22f3a3b9",
   "metadata": {},
   "outputs": [
    {
     "name": "stdout",
     "output_type": "stream",
     "text": [
      "The explained_variance [uniform_average] is 91.03%.\n",
      "The explained_variance [raw_values] is [0.91030194].\n",
      "The explained_variance [variance_weighted] is 91.03%.\n"
     ]
    }
   ],
   "source": [
    "# uniform_average (default)\n",
    "evscore = explained_variance_score(y_true, y_pred, multioutput = 'uniform_average')\n",
    "print(f\"The explained_variance [uniform_average] is {(evscore * 100):.2f}%.\")\n",
    "\n",
    "# raw_values: retorna um valor por saída\n",
    "evscore = explained_variance_score(y_true, y_pred, multioutput = 'raw_values')\n",
    "print(f\"The explained_variance [raw_values] is {evscore}.\")\n",
    "\n",
    "# variance_weighted\n",
    "evscore = explained_variance_score(y_true, y_pred, multioutput = 'variance_weighted')\n",
    "print(f\"The explained_variance [variance_weighted] is {(evscore * 100):.2f}%.\")"
   ]
  },
  {
   "cell_type": "markdown",
   "id": "bdde36bb",
   "metadata": {},
   "source": [
    "____________"
   ]
  }
 ],
 "metadata": {
  "kernelspec": {
   "display_name": "three_w",
   "language": "python",
   "name": "python3"
  },
  "language_info": {
   "codemirror_mode": {
    "name": "ipython",
    "version": 3
   },
   "file_extension": ".py",
   "mimetype": "text/x-python",
   "name": "python",
   "nbconvert_exporter": "python",
   "pygments_lexer": "ipython3",
   "version": "3.10.11"
  }
 },
 "nbformat": 4,
 "nbformat_minor": 5
}
