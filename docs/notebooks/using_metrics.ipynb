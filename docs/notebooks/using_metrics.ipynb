{
 "cells": [
  {
   "cell_type": "markdown",
   "id": "bd6b1b4f",
   "metadata": {},
   "source": [
    "### Motivation"
   ]
  },
  {
   "cell_type": "markdown",
   "id": "b05433e5",
   "metadata": {},
   "source": [
    "Notebook dedicated to demonstrating how to use performance metrics to evaluate various trained models."
   ]
  },
  {
   "cell_type": "markdown",
   "id": "e10ff779",
   "metadata": {},
   "source": [
    "### Imports"
   ]
  },
  {
   "cell_type": "markdown",
   "id": "32f41cd2",
   "metadata": {},
   "source": [
    "**Adaptation to recognize the project root. For demonstration purposes only.**"
   ]
  },
  {
   "cell_type": "code",
   "execution_count": 1,
   "id": "331c7718",
   "metadata": {},
   "outputs": [],
   "source": [
    "import sys\n",
    "import os\n",
    "\n",
    "# Adiciona o diretório raiz ao sys.path\n",
    "sys.path.append(os.path.abspath(os.path.join(os.getcwd(), '../../')))"
   ]
  },
  {
   "cell_type": "markdown",
   "id": "b14b2266",
   "metadata": {},
   "source": [
    "**Required**"
   ]
  },
  {
   "cell_type": "code",
   "execution_count": 2,
   "id": "cc0e88cf",
   "metadata": {},
   "outputs": [],
   "source": [
    "from ThreeWToolkit.metrics import (\n",
    "    accuracy_score,\n",
    "    balanced_accuracy_score\n",
    ")"
   ]
  },
  {
   "cell_type": "markdown",
   "id": "23b05008",
   "metadata": {},
   "source": [
    "### How to"
   ]
  },
  {
   "cell_type": "markdown",
   "id": "3df46a6d",
   "metadata": {},
   "source": [
    "#### Use metrics for classification tasks"
   ]
  },
  {
   "cell_type": "markdown",
   "id": "ae7e338f",
   "metadata": {},
   "source": [
    "**Accuracy Score**"
   ]
  },
  {
   "cell_type": "markdown",
   "id": "83f6e881",
   "metadata": {},
   "source": [
    "Basic usage"
   ]
  },
  {
   "cell_type": "code",
   "execution_count": 3,
   "id": "170a50b7",
   "metadata": {},
   "outputs": [
    {
     "name": "stdout",
     "output_type": "stream",
     "text": [
      "The accuracy is 75.0%.\n"
     ]
    }
   ],
   "source": [
    "y_true = [1, 0, 1, 1]\n",
    "y_pred = [1, 0, 0, 1]\n",
    "\n",
    "acc = accuracy_score(y_true = y_true,\n",
    "                     y_pred = y_pred)\n",
    "\n",
    "print(f\"The accuracy is {(acc * 100):.3}%.\")"
   ]
  },
  {
   "cell_type": "markdown",
   "id": "ab531d5b",
   "metadata": {},
   "source": [
    "Using sample weight"
   ]
  },
  {
   "cell_type": "code",
   "execution_count": 4,
   "id": "9f986bc6",
   "metadata": {},
   "outputs": [
    {
     "name": "stdout",
     "output_type": "stream",
     "text": [
      "The accuracy is 90.0%.\n"
     ]
    }
   ],
   "source": [
    "y_true = [1, 0, 1, 1]\n",
    "y_pred = [1, 0, 0, 1]\n",
    "sample_weight = [0.5, 0.2, 0.1, 0.2]\n",
    "\n",
    "acc = accuracy_score(y_true = y_true,\n",
    "                     y_pred = y_pred,\n",
    "                     sample_weight = sample_weight)\n",
    "\n",
    "print(f\"The accuracy is {(acc * 100):.3}%.\")"
   ]
  },
  {
   "cell_type": "markdown",
   "id": "6aca9f60",
   "metadata": {},
   "source": [
    "_________"
   ]
  },
  {
   "cell_type": "markdown",
   "id": "6addcc41",
   "metadata": {},
   "source": [
    "**Balanced Accuracy Score**"
   ]
  },
  {
   "cell_type": "markdown",
   "id": "ecff9990",
   "metadata": {},
   "source": [
    "Basic usage"
   ]
  },
  {
   "cell_type": "code",
   "execution_count": 5,
   "id": "f48e0775",
   "metadata": {},
   "outputs": [
    {
     "name": "stdout",
     "output_type": "stream",
     "text": [
      "The balanced accuracy is 83.3%.\n"
     ]
    }
   ],
   "source": [
    "y_true = [1, 0, 1, 1]\n",
    "y_pred = [1, 0, 0, 1]\n",
    "\n",
    "balanced_acc = balanced_accuracy_score(y_true = y_true,\n",
    "                                       y_pred = y_pred)\n",
    "\n",
    "print(f\"The balanced accuracy is {(balanced_acc * 100):.3}%.\")"
   ]
  },
  {
   "cell_type": "markdown",
   "id": "9f62dc2a",
   "metadata": {},
   "source": [
    "Using sample weight"
   ]
  },
  {
   "cell_type": "code",
   "execution_count": 6,
   "id": "5cff67e5",
   "metadata": {},
   "outputs": [
    {
     "name": "stdout",
     "output_type": "stream",
     "text": [
      "The balanced accuracy is 75.0%.\n"
     ]
    }
   ],
   "source": [
    "y_true = [1, 0, 1, 1]\n",
    "y_pred = [1, 0, 0, 1]\n",
    "sample_weight = [1.0, 1.0, 2.0, 1.0]\n",
    "\n",
    "balanced_acc = balanced_accuracy_score(y_true = y_true,\n",
    "                                       y_pred = y_pred,\n",
    "                                       sample_weight = sample_weight)\n",
    "\n",
    "print(f\"The balanced accuracy is {(balanced_acc * 100):.3}%.\")"
   ]
  },
  {
   "cell_type": "markdown",
   "id": "dce9d265",
   "metadata": {},
   "source": [
    "______"
   ]
  }
 ],
 "metadata": {
  "kernelspec": {
   "display_name": "Python 3",
   "language": "python",
   "name": "python3"
  },
  "language_info": {
   "codemirror_mode": {
    "name": "ipython",
    "version": 3
   },
   "file_extension": ".py",
   "mimetype": "text/x-python",
   "name": "python",
   "nbconvert_exporter": "python",
   "pygments_lexer": "ipython3",
   "version": "3.10.11"
  }
 },
 "nbformat": 4,
 "nbformat_minor": 5
}
