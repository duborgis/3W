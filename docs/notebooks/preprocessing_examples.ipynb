{
 "cells": [
  {
   "cell_type": "markdown",
   "id": "56c7567e",
   "metadata": {},
   "source": [
    "### Motivation"
   ]
  },
  {
   "cell_type": "markdown",
   "id": "bf72c488",
   "metadata": {},
   "source": [
    "Notebook dedicated to demonstrating how pre-processing techniques are used to process data."
   ]
  },
  {
   "cell_type": "markdown",
   "id": "9c6ad32a",
   "metadata": {},
   "source": [
    "### Imports"
   ]
  },
  {
   "cell_type": "markdown",
   "id": "c0149486",
   "metadata": {},
   "source": [
    "**Adaptation to recognize the project root. For demonstration purposes only.**"
   ]
  },
  {
   "cell_type": "code",
   "execution_count": 1,
   "id": "b641ef22",
   "metadata": {},
   "outputs": [],
   "source": [
    "import sys\n",
    "import os\n",
    "import pandas as pd\n",
    "import numpy as np\n",
    "\n",
    "# Adiciona o diretório raiz ao sys.path\n",
    "sys.path.append(os.path.abspath(os.path.join(os.getcwd(), '../../')))"
   ]
  },
  {
   "cell_type": "markdown",
   "id": "23f764a0",
   "metadata": {},
   "source": [
    "**Required**"
   ]
  },
  {
   "cell_type": "code",
   "execution_count": 2,
   "id": "58689c4c",
   "metadata": {},
   "outputs": [],
   "source": [
    "from ThreeWToolkit.preprocessing import (\n",
    "    impute_target_data\n",
    ")"
   ]
  },
  {
   "cell_type": "markdown",
   "id": "c040dd56",
   "metadata": {},
   "source": [
    "### How to"
   ]
  },
  {
   "cell_type": "markdown",
   "id": "15f27aae",
   "metadata": {},
   "source": [
    "##### Impute target data"
   ]
  },
  {
   "cell_type": "markdown",
   "id": "1e2cdab5",
   "metadata": {},
   "source": [
    "Basic usage using mean value"
   ]
  },
  {
   "cell_type": "code",
   "execution_count": 3,
   "id": "a3c41bf1",
   "metadata": {},
   "outputs": [
    {
     "data": {
      "text/html": [
       "<div>\n",
       "<style scoped>\n",
       "    .dataframe tbody tr th:only-of-type {\n",
       "        vertical-align: middle;\n",
       "    }\n",
       "\n",
       "    .dataframe tbody tr th {\n",
       "        vertical-align: top;\n",
       "    }\n",
       "\n",
       "    .dataframe thead th {\n",
       "        text-align: right;\n",
       "    }\n",
       "</style>\n",
       "<table border=\"1\" class=\"dataframe\">\n",
       "  <thead>\n",
       "    <tr style=\"text-align: right;\">\n",
       "      <th></th>\n",
       "      <th>a</th>\n",
       "      <th>b</th>\n",
       "      <th>c</th>\n",
       "    </tr>\n",
       "  </thead>\n",
       "  <tbody>\n",
       "    <tr>\n",
       "      <th>0</th>\n",
       "      <td>1.0</td>\n",
       "      <td>2.0</td>\n",
       "      <td>x</td>\n",
       "    </tr>\n",
       "    <tr>\n",
       "      <th>1</th>\n",
       "      <td>2.0</td>\n",
       "      <td>2.0</td>\n",
       "      <td>y</td>\n",
       "    </tr>\n",
       "    <tr>\n",
       "      <th>2</th>\n",
       "      <td>3.0</td>\n",
       "      <td>2.0</td>\n",
       "      <td>z</td>\n",
       "    </tr>\n",
       "  </tbody>\n",
       "</table>\n",
       "</div>"
      ],
      "text/plain": [
       "     a    b  c\n",
       "0  1.0  2.0  x\n",
       "1  2.0  2.0  y\n",
       "2  3.0  2.0  z"
      ]
     },
     "execution_count": 3,
     "metadata": {},
     "output_type": "execute_result"
    }
   ],
   "source": [
    "df = pd.DataFrame({\n",
    "    \"a\": [1.0, np.nan, 3.0],\n",
    "    \"b\": [np.nan, 2.0, 2.0],\n",
    "    \"c\": [\"x\", \"y\", \"z\"]\n",
    "})\n",
    "\n",
    "imputed_df = impute_target_data(data = df, strategy = \"mean\", columns = [\"a\", \"b\"])\n",
    "\n",
    "imputed_df.head(5)"
   ]
  },
  {
   "cell_type": "markdown",
   "id": "6f1c1f45",
   "metadata": {},
   "source": [
    "Basic usage using median value"
   ]
  },
  {
   "cell_type": "code",
   "execution_count": 5,
   "id": "9f9f2a60",
   "metadata": {},
   "outputs": [
    {
     "data": {
      "text/html": [
       "<div>\n",
       "<style scoped>\n",
       "    .dataframe tbody tr th:only-of-type {\n",
       "        vertical-align: middle;\n",
       "    }\n",
       "\n",
       "    .dataframe tbody tr th {\n",
       "        vertical-align: top;\n",
       "    }\n",
       "\n",
       "    .dataframe thead th {\n",
       "        text-align: right;\n",
       "    }\n",
       "</style>\n",
       "<table border=\"1\" class=\"dataframe\">\n",
       "  <thead>\n",
       "    <tr style=\"text-align: right;\">\n",
       "      <th></th>\n",
       "      <th>a</th>\n",
       "      <th>b</th>\n",
       "      <th>c</th>\n",
       "    </tr>\n",
       "  </thead>\n",
       "  <tbody>\n",
       "    <tr>\n",
       "      <th>0</th>\n",
       "      <td>1.0</td>\n",
       "      <td>3.0</td>\n",
       "      <td>x</td>\n",
       "    </tr>\n",
       "    <tr>\n",
       "      <th>1</th>\n",
       "      <td>2.0</td>\n",
       "      <td>2.0</td>\n",
       "      <td>y</td>\n",
       "    </tr>\n",
       "    <tr>\n",
       "      <th>2</th>\n",
       "      <td>3.0</td>\n",
       "      <td>4.0</td>\n",
       "      <td>z</td>\n",
       "    </tr>\n",
       "  </tbody>\n",
       "</table>\n",
       "</div>"
      ],
      "text/plain": [
       "     a    b  c\n",
       "0  1.0  3.0  x\n",
       "1  2.0  2.0  y\n",
       "2  3.0  4.0  z"
      ]
     },
     "execution_count": 5,
     "metadata": {},
     "output_type": "execute_result"
    }
   ],
   "source": [
    "df = pd.DataFrame({\n",
    "    \"a\": [1.0, np.nan, 3.0],\n",
    "    \"b\": [np.nan, 2.0, 4.0],\n",
    "    \"c\": [\"x\", \"y\", \"z\"]\n",
    "})\n",
    "\n",
    "imputed_df = impute_target_data(data = df, strategy = \"median\", columns = [\"a\", \"b\"])\n",
    "\n",
    "imputed_df.head(5)"
   ]
  },
  {
   "cell_type": "markdown",
   "id": "6bc5474c",
   "metadata": {},
   "source": [
    "Basic usage using constant value"
   ]
  },
  {
   "cell_type": "code",
   "execution_count": 6,
   "id": "f5662dc3",
   "metadata": {},
   "outputs": [
    {
     "data": {
      "text/html": [
       "<div>\n",
       "<style scoped>\n",
       "    .dataframe tbody tr th:only-of-type {\n",
       "        vertical-align: middle;\n",
       "    }\n",
       "\n",
       "    .dataframe tbody tr th {\n",
       "        vertical-align: top;\n",
       "    }\n",
       "\n",
       "    .dataframe thead th {\n",
       "        text-align: right;\n",
       "    }\n",
       "</style>\n",
       "<table border=\"1\" class=\"dataframe\">\n",
       "  <thead>\n",
       "    <tr style=\"text-align: right;\">\n",
       "      <th></th>\n",
       "      <th>a</th>\n",
       "      <th>b</th>\n",
       "      <th>c</th>\n",
       "    </tr>\n",
       "  </thead>\n",
       "  <tbody>\n",
       "    <tr>\n",
       "      <th>0</th>\n",
       "      <td>1.0</td>\n",
       "      <td>-1.0</td>\n",
       "      <td>x</td>\n",
       "    </tr>\n",
       "    <tr>\n",
       "      <th>1</th>\n",
       "      <td>-1.0</td>\n",
       "      <td>2.0</td>\n",
       "      <td>y</td>\n",
       "    </tr>\n",
       "    <tr>\n",
       "      <th>2</th>\n",
       "      <td>3.0</td>\n",
       "      <td>4.0</td>\n",
       "      <td>z</td>\n",
       "    </tr>\n",
       "  </tbody>\n",
       "</table>\n",
       "</div>"
      ],
      "text/plain": [
       "     a    b  c\n",
       "0  1.0 -1.0  x\n",
       "1 -1.0  2.0  y\n",
       "2  3.0  4.0  z"
      ]
     },
     "execution_count": 6,
     "metadata": {},
     "output_type": "execute_result"
    }
   ],
   "source": [
    "df = pd.DataFrame({\n",
    "    \"a\": [1.0, np.nan, 3.0],\n",
    "    \"b\": [np.nan, 2.0, 4.0],\n",
    "    \"c\": [\"x\", \"y\", \"z\"]\n",
    "})\n",
    "\n",
    "imputed_df = impute_target_data(data = df, strategy = \"constant\", columns = [\"a\", \"b\"], fill_value = -1.0)\n",
    "\n",
    "imputed_df.head(5)"
   ]
  },
  {
   "cell_type": "markdown",
   "id": "4d408e4d",
   "metadata": {},
   "source": [
    "________"
   ]
  }
 ],
 "metadata": {
  "kernelspec": {
   "display_name": "Python 3",
   "language": "python",
   "name": "python3"
  },
  "language_info": {
   "codemirror_mode": {
    "name": "ipython",
    "version": 3
   },
   "file_extension": ".py",
   "mimetype": "text/x-python",
   "name": "python",
   "nbconvert_exporter": "python",
   "pygments_lexer": "ipython3",
   "version": "3.10.11"
  }
 },
 "nbformat": 4,
 "nbformat_minor": 5
}
