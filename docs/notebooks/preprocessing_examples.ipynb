{
 "cells": [
  {
   "cell_type": "markdown",
   "id": "56c7567e",
   "metadata": {},
   "source": [
    "### Motivation"
   ]
  },
  {
   "cell_type": "markdown",
   "id": "bf72c488",
   "metadata": {},
   "source": [
    "Notebook dedicated to demonstrating how pre-processing techniques are used to process data."
   ]
  },
  {
   "cell_type": "markdown",
   "id": "9c6ad32a",
   "metadata": {},
   "source": [
    "### Imports"
   ]
  },
  {
   "cell_type": "markdown",
   "id": "c0149486",
   "metadata": {},
   "source": [
    "**Adaptation to recognize the project root. For demonstration purposes only.**"
   ]
  },
  {
   "cell_type": "code",
   "execution_count": null,
   "id": "b641ef22",
   "metadata": {},
   "outputs": [],
   "source": [
    "import sys\n",
    "import os\n",
    "import pandas as pd\n",
    "import numpy as np\n",
    "\n",
    "# Adiciona o diretório raiz ao sys.path\n",
    "sys.path.append(os.path.abspath(os.path.join(os.getcwd(), '../../')))"
   ]
  },
  {
   "cell_type": "markdown",
   "id": "23f764a0",
   "metadata": {},
   "source": [
    "**Required**"
   ]
  },
  {
   "cell_type": "code",
   "execution_count": null,
   "id": "58689c4c",
   "metadata": {},
   "outputs": [],
   "source": [
    "from ThreeWToolkit.preprocessing import (\n",
    "    impute_missing_data,\n",
    "    normalize\n",
    ")"
   ]
  },
  {
   "cell_type": "markdown",
   "id": "c040dd56",
   "metadata": {},
   "source": [
    "### How to"
   ]
  },
  {
   "cell_type": "markdown",
   "id": "15f27aae",
   "metadata": {},
   "source": [
    "##### Impute missing data"
   ]
  },
  {
   "cell_type": "markdown",
   "id": "1e2cdab5",
   "metadata": {},
   "source": [
    "Basic usage using mean value"
   ]
  },
  {
   "cell_type": "code",
   "execution_count": null,
   "id": "a3c41bf1",
   "metadata": {},
   "outputs": [
    {
     "data": {
      "text/html": [
       "<div>\n",
       "<style scoped>\n",
       "    .dataframe tbody tr th:only-of-type {\n",
       "        vertical-align: middle;\n",
       "    }\n",
       "\n",
       "    .dataframe tbody tr th {\n",
       "        vertical-align: top;\n",
       "    }\n",
       "\n",
       "    .dataframe thead th {\n",
       "        text-align: right;\n",
       "    }\n",
       "</style>\n",
       "<table border=\"1\" class=\"dataframe\">\n",
       "  <thead>\n",
       "    <tr style=\"text-align: right;\">\n",
       "      <th></th>\n",
       "      <th>a</th>\n",
       "      <th>b</th>\n",
       "      <th>c</th>\n",
       "    </tr>\n",
       "  </thead>\n",
       "  <tbody>\n",
       "    <tr>\n",
       "      <th>0</th>\n",
       "      <td>1.0</td>\n",
       "      <td>2.0</td>\n",
       "      <td>x</td>\n",
       "    </tr>\n",
       "    <tr>\n",
       "      <th>1</th>\n",
       "      <td>2.0</td>\n",
       "      <td>2.0</td>\n",
       "      <td>y</td>\n",
       "    </tr>\n",
       "    <tr>\n",
       "      <th>2</th>\n",
       "      <td>3.0</td>\n",
       "      <td>2.0</td>\n",
       "      <td>z</td>\n",
       "    </tr>\n",
       "  </tbody>\n",
       "</table>\n",
       "</div>"
      ],
      "text/plain": [
       "     a    b  c\n",
       "0  1.0  2.0  x\n",
       "1  2.0  2.0  y\n",
       "2  3.0  2.0  z"
      ]
     },
     "execution_count": 3,
     "metadata": {},
     "output_type": "execute_result"
    }
   ],
   "source": [
    "df = pd.DataFrame({\n",
    "    \"a\": [1.0, np.nan, 3.0],\n",
    "    \"b\": [np.nan, 2.0, 2.0],\n",
    "    \"c\": [\"x\", \"y\", \"z\"]\n",
    "})\n",
    "\n",
    "imputed_df = impute_missing_data(data = df, strategy = \"mean\", columns = [\"a\", \"b\"])\n",
    "\n",
    "imputed_df.head(5)"
   ]
  },
  {
   "cell_type": "markdown",
   "id": "6f1c1f45",
   "metadata": {},
   "source": [
    "Basic usage using median value"
   ]
  },
  {
   "cell_type": "code",
   "execution_count": null,
   "id": "9f9f2a60",
   "metadata": {},
   "outputs": [
    {
     "data": {
      "text/html": [
       "<div>\n",
       "<style scoped>\n",
       "    .dataframe tbody tr th:only-of-type {\n",
       "        vertical-align: middle;\n",
       "    }\n",
       "\n",
       "    .dataframe tbody tr th {\n",
       "        vertical-align: top;\n",
       "    }\n",
       "\n",
       "    .dataframe thead th {\n",
       "        text-align: right;\n",
       "    }\n",
       "</style>\n",
       "<table border=\"1\" class=\"dataframe\">\n",
       "  <thead>\n",
       "    <tr style=\"text-align: right;\">\n",
       "      <th></th>\n",
       "      <th>a</th>\n",
       "      <th>b</th>\n",
       "      <th>c</th>\n",
       "    </tr>\n",
       "  </thead>\n",
       "  <tbody>\n",
       "    <tr>\n",
       "      <th>0</th>\n",
       "      <td>1.0</td>\n",
       "      <td>3.0</td>\n",
       "      <td>x</td>\n",
       "    </tr>\n",
       "    <tr>\n",
       "      <th>1</th>\n",
       "      <td>2.0</td>\n",
       "      <td>2.0</td>\n",
       "      <td>y</td>\n",
       "    </tr>\n",
       "    <tr>\n",
       "      <th>2</th>\n",
       "      <td>3.0</td>\n",
       "      <td>4.0</td>\n",
       "      <td>z</td>\n",
       "    </tr>\n",
       "  </tbody>\n",
       "</table>\n",
       "</div>"
      ],
      "text/plain": [
       "     a    b  c\n",
       "0  1.0  3.0  x\n",
       "1  2.0  2.0  y\n",
       "2  3.0  4.0  z"
      ]
     },
     "execution_count": 5,
     "metadata": {},
     "output_type": "execute_result"
    }
   ],
   "source": [
    "df = pd.DataFrame({\n",
    "    \"a\": [1.0, np.nan, 3.0],\n",
    "    \"b\": [np.nan, 2.0, 4.0],\n",
    "    \"c\": [\"x\", \"y\", \"z\"]\n",
    "})\n",
    "\n",
    "imputed_df = impute_missing_data(data = df, strategy = \"median\", columns = [\"a\", \"b\"])\n",
    "\n",
    "imputed_df.head(5)"
   ]
  },
  {
   "cell_type": "markdown",
   "id": "6bc5474c",
   "metadata": {},
   "source": [
    "Basic usage using constant value"
   ]
  },
  {
   "cell_type": "code",
   "execution_count": null,
   "id": "f5662dc3",
   "metadata": {},
   "outputs": [
    {
     "data": {
      "text/html": [
       "<div>\n",
       "<style scoped>\n",
       "    .dataframe tbody tr th:only-of-type {\n",
       "        vertical-align: middle;\n",
       "    }\n",
       "\n",
       "    .dataframe tbody tr th {\n",
       "        vertical-align: top;\n",
       "    }\n",
       "\n",
       "    .dataframe thead th {\n",
       "        text-align: right;\n",
       "    }\n",
       "</style>\n",
       "<table border=\"1\" class=\"dataframe\">\n",
       "  <thead>\n",
       "    <tr style=\"text-align: right;\">\n",
       "      <th></th>\n",
       "      <th>a</th>\n",
       "      <th>b</th>\n",
       "      <th>c</th>\n",
       "    </tr>\n",
       "  </thead>\n",
       "  <tbody>\n",
       "    <tr>\n",
       "      <th>0</th>\n",
       "      <td>1.0</td>\n",
       "      <td>-1.0</td>\n",
       "      <td>x</td>\n",
       "    </tr>\n",
       "    <tr>\n",
       "      <th>1</th>\n",
       "      <td>-1.0</td>\n",
       "      <td>2.0</td>\n",
       "      <td>y</td>\n",
       "    </tr>\n",
       "    <tr>\n",
       "      <th>2</th>\n",
       "      <td>3.0</td>\n",
       "      <td>4.0</td>\n",
       "      <td>z</td>\n",
       "    </tr>\n",
       "  </tbody>\n",
       "</table>\n",
       "</div>"
      ],
      "text/plain": [
       "     a    b  c\n",
       "0  1.0 -1.0  x\n",
       "1 -1.0  2.0  y\n",
       "2  3.0  4.0  z"
      ]
     },
     "execution_count": 6,
     "metadata": {},
     "output_type": "execute_result"
    }
   ],
   "source": [
    "df = pd.DataFrame({\n",
    "    \"a\": [1.0, np.nan, 3.0],\n",
    "    \"b\": [np.nan, 2.0, 4.0],\n",
    "    \"c\": [\"x\", \"y\", \"z\"]\n",
    "})\n",
    "\n",
    "imputed_df = impute_missing_data(data = df, strategy = \"constant\", columns = [\"a\", \"b\"], fill_value = -1.0)\n",
    "\n",
    "imputed_df.head(5)"
   ]
  },
  {
   "cell_type": "markdown",
   "id": "4d408e4d",
   "metadata": {},
   "source": [
    "________"
   ]
  },
  {
   "cell_type": "markdown",
   "id": "1c274623",
   "metadata": {},
   "source": [
    "##### Normalize"
   ]
  },
  {
   "cell_type": "markdown",
   "id": "2237f1bc",
   "metadata": {},
   "source": [
    "Basic usage with DataFrame"
   ]
  },
  {
   "cell_type": "code",
   "execution_count": null,
   "id": "b8fbaeb5",
   "metadata": {},
   "outputs": [],
   "source": [
    "df = pd.DataFrame({\"x\": [3, 4], \"y\": [0, 0]})\n",
    "\n",
    "normed = normalize(X = df, norm = \"l2\", axis = 1)\n",
    "\n",
    "normed"
   ]
  },
  {
   "cell_type": "markdown",
   "id": "bed01f5c",
   "metadata": {},
   "source": [
    "Basic usage with Series (Pandas)"
   ]
  },
  {
   "cell_type": "code",
   "execution_count": null,
   "id": "dea5374e",
   "metadata": {},
   "outputs": [],
   "source": [
    "s = pd.Series([3.0, 4.0], name = \"s\")\n",
    "\n",
    "normed = normalize(X = s, norm = \"l2\", axis = 0)\n",
    "\n",
    "normed"
   ]
  },
  {
   "cell_type": "markdown",
   "id": "ec2aa0a4",
   "metadata": {},
   "source": [
    "________"
   ]
  }
 ],
 "metadata": {
  "kernelspec": {
   "display_name": "Julia 1.6.3",
   "language": "julia",
   "name": "julia-1.6"
  },
  "language_info": {
   "file_extension": ".jl",
   "mimetype": "application/julia",
   "name": "julia",
   "version": "1.9.3"
  }
 },
 "nbformat": 4,
 "nbformat_minor": 5
}
