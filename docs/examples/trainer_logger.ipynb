{
 "cells": [
  {
   "cell_type": "markdown",
   "id": "caffe76e",
   "metadata": {},
   "source": [
    "# TrainerLogger usage example\n",
    "\n",
    "In this example, we demonstrate how to use the `TrainerLogger` class to save optimization progress logs in JSON and Pickle formats."
   ]
  },
  {
   "cell_type": "code",
   "execution_count": 1,
   "id": "65d8d0e2",
   "metadata": {},
   "outputs": [],
   "source": [
    "# Import required libraries\n",
    "\n",
    "import os\n",
    "import sys\n",
    "from datetime import datetime\n",
    "\n",
    "from ThreeWToolkit.utils.trainer_logger import TrainerLogger"
   ]
  },
  {
   "cell_type": "markdown",
   "id": "c3ac1f47",
   "metadata": {},
   "source": [
    "### Defining progress data\n",
    "\n",
    "We create a dictionary `progress_data` representing a sample log of the optimization progress for a `RandomForestClassifier` model.  \n",
    "It includes:\n",
    "- Model name\n",
    "- Hyperparameter search space\n",
    "- Best parameters found\n",
    "- Score achieved\n",
    "- Current timestamp in ISO format\n"
   ]
  },
  {
   "cell_type": "code",
   "execution_count": 2,
   "id": "e81932b3",
   "metadata": {},
   "outputs": [],
   "source": [
    "# Example progress data dictionary\n",
    "\n",
    "progress_data = {\n",
    "    \"model\": \"RandomForestClassifier\",\n",
    "    \"search_space\": {\n",
    "        \"n_estimators\": [100, 200],\n",
    "        \"max_depth\": [10, None]\n",
    "    },\n",
    "    \"best_params\": {\n",
    "        \"n_estimators\": 100,\n",
    "        \"max_depth\": 10\n",
    "    },\n",
    "    \"score\": 0.91,\n",
    "    \"timestamp\": datetime.now().isoformat()\n",
    "}"
   ]
  },
  {
   "cell_type": "markdown",
   "id": "c8f31aee",
   "metadata": {},
   "source": [
    "### Saving the log as JSON\n",
    "\n",
    "Here, we use the static method `log_optimization_progress` from the `TrainerLogger` class to save the log in JSON format.  \n",
    "We specify the directory `example_logs` where the file will be saved.\n"
   ]
  },
  {
   "cell_type": "code",
   "execution_count": null,
   "id": "76c6cb7a",
   "metadata": {},
   "outputs": [],
   "source": [
    "# Save data as a JSON file\n",
    "\n",
    "json_path = TrainerLogger.log_optimization_progress(\n",
    "    progress_data, log_dir=\"example_logs\", file_format=\"json\"\n",
    ")\n",
    "print(f\"Saved JSON log at: {json_path}\")"
   ]
  },
  {
   "cell_type": "markdown",
   "id": "fbf989cb",
   "metadata": {},
   "source": [
    "### Saving the log as Pickle\n",
    "\n",
    "Similarly, we save the same log in Pickle format using the same method.  \n",
    "This format is useful for efficient loading of data later in Python.\n"
   ]
  },
  {
   "cell_type": "code",
   "execution_count": null,
   "id": "ff32e99c",
   "metadata": {},
   "outputs": [],
   "source": [
    "# Save data as a Pickle file\n",
    "\n",
    "pickle_path = TrainerLogger.log_optimization_progress(\n",
    "    progress_data, log_dir=\"example_logs\", file_format=\"pickle\"\n",
    ")\n",
    "print(f\"Saved Pickle log at: {pickle_path}\")"
   ]
  }
 ],
 "metadata": {
  "kernelspec": {
   "display_name": "threeW",
   "language": "python",
   "name": "python3"
  },
  "language_info": {
   "codemirror_mode": {
    "name": "ipython",
    "version": 3
   },
   "file_extension": ".py",
   "mimetype": "text/x-python",
   "name": "python",
   "nbconvert_exporter": "python",
   "pygments_lexer": "ipython3",
   "version": "3.10.11"
  }
 },
 "nbformat": 4,
 "nbformat_minor": 5
}
