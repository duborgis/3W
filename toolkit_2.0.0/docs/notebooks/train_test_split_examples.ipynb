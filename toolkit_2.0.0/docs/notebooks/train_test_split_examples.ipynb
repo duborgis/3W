{
 "cells": [
  {
   "cell_type": "markdown",
   "id": "2f613a21",
   "metadata": {},
   "source": [
    "# TimeSeriesHoldout Example\n",
    "\n",
    "This notebook demonstrates how to use the `TimeSeriesHoldout` class to split time series data into train and test sets, preserving time order."
   ]
  },
  {
   "cell_type": "code",
   "execution_count": 1,
   "id": "7b7f7a46",
   "metadata": {},
   "outputs": [
    {
     "data": {
      "text/html": [
       "<div>\n",
       "<style scoped>\n",
       "    .dataframe tbody tr th:only-of-type {\n",
       "        vertical-align: middle;\n",
       "    }\n",
       "\n",
       "    .dataframe tbody tr th {\n",
       "        vertical-align: top;\n",
       "    }\n",
       "\n",
       "    .dataframe thead th {\n",
       "        text-align: right;\n",
       "    }\n",
       "</style>\n",
       "<table border=\"1\" class=\"dataframe\">\n",
       "  <thead>\n",
       "    <tr style=\"text-align: right;\">\n",
       "      <th></th>\n",
       "      <th>date</th>\n",
       "      <th>sensor1</th>\n",
       "      <th>sensor2</th>\n",
       "    </tr>\n",
       "  </thead>\n",
       "  <tbody>\n",
       "    <tr>\n",
       "      <th>0</th>\n",
       "      <td>2024-01-01</td>\n",
       "      <td>10</td>\n",
       "      <td>100</td>\n",
       "    </tr>\n",
       "    <tr>\n",
       "      <th>1</th>\n",
       "      <td>2024-01-02</td>\n",
       "      <td>20</td>\n",
       "      <td>90</td>\n",
       "    </tr>\n",
       "    <tr>\n",
       "      <th>2</th>\n",
       "      <td>2024-01-03</td>\n",
       "      <td>30</td>\n",
       "      <td>80</td>\n",
       "    </tr>\n",
       "    <tr>\n",
       "      <th>3</th>\n",
       "      <td>2024-01-04</td>\n",
       "      <td>40</td>\n",
       "      <td>70</td>\n",
       "    </tr>\n",
       "    <tr>\n",
       "      <th>4</th>\n",
       "      <td>2024-01-05</td>\n",
       "      <td>50</td>\n",
       "      <td>60</td>\n",
       "    </tr>\n",
       "  </tbody>\n",
       "</table>\n",
       "</div>"
      ],
      "text/plain": [
       "        date  sensor1  sensor2\n",
       "0 2024-01-01       10      100\n",
       "1 2024-01-02       20       90\n",
       "2 2024-01-03       30       80\n",
       "3 2024-01-04       40       70\n",
       "4 2024-01-05       50       60"
      ]
     },
     "execution_count": 1,
     "metadata": {},
     "output_type": "execute_result"
    }
   ],
   "source": [
    "import pandas as pd\n",
    "from ThreeWToolkit.holdout import TimeSeriesHoldout\n",
    "\n",
    "df = pd.DataFrame({\n",
    "    \"date\": pd.date_range(\"2024-01-01\", periods=5, freq=\"D\"),\n",
    "    \"sensor1\": [10, 20, 30, 40, 50],\n",
    "    \"sensor2\": [100, 90, 80, 70, 60]\n",
    "})\n",
    "\n",
    "df\n"
   ]
  },
  {
   "cell_type": "code",
   "execution_count": 2,
   "id": "ad2ab813",
   "metadata": {},
   "outputs": [],
   "source": [
    "config = {}\n",
    "\n",
    "ts_holdout = TimeSeriesHoldout(data=df, pip_config=config)\n"
   ]
  },
  {
   "cell_type": "markdown",
   "id": "a8ef0b72",
   "metadata": {},
   "source": [
    "### Split the data using default behavior (e.g., test_size=0.3)"
   ]
  },
  {
   "cell_type": "code",
   "execution_count": 17,
   "id": "dca086bd",
   "metadata": {},
   "outputs": [
    {
     "name": "stdout",
     "output_type": "stream",
     "text": [
      "Train Set:\n"
     ]
    },
    {
     "data": {
      "text/html": [
       "<div>\n",
       "<style scoped>\n",
       "    .dataframe tbody tr th:only-of-type {\n",
       "        vertical-align: middle;\n",
       "    }\n",
       "\n",
       "    .dataframe tbody tr th {\n",
       "        vertical-align: top;\n",
       "    }\n",
       "\n",
       "    .dataframe thead th {\n",
       "        text-align: right;\n",
       "    }\n",
       "</style>\n",
       "<table border=\"1\" class=\"dataframe\">\n",
       "  <thead>\n",
       "    <tr style=\"text-align: right;\">\n",
       "      <th></th>\n",
       "      <th>date</th>\n",
       "      <th>sensor1</th>\n",
       "      <th>sensor2</th>\n",
       "    </tr>\n",
       "  </thead>\n",
       "  <tbody>\n",
       "    <tr>\n",
       "      <th>0</th>\n",
       "      <td>2024-01-01</td>\n",
       "      <td>10</td>\n",
       "      <td>100</td>\n",
       "    </tr>\n",
       "    <tr>\n",
       "      <th>1</th>\n",
       "      <td>2024-01-02</td>\n",
       "      <td>20</td>\n",
       "      <td>90</td>\n",
       "    </tr>\n",
       "    <tr>\n",
       "      <th>2</th>\n",
       "      <td>2024-01-03</td>\n",
       "      <td>30</td>\n",
       "      <td>80</td>\n",
       "    </tr>\n",
       "  </tbody>\n",
       "</table>\n",
       "</div>"
      ],
      "text/plain": [
       "        date  sensor1  sensor2\n",
       "0 2024-01-01       10      100\n",
       "1 2024-01-02       20       90\n",
       "2 2024-01-03       30       80"
      ]
     },
     "metadata": {},
     "output_type": "display_data"
    },
    {
     "name": "stdout",
     "output_type": "stream",
     "text": [
      "Test Set:\n"
     ]
    },
    {
     "data": {
      "text/html": [
       "<div>\n",
       "<style scoped>\n",
       "    .dataframe tbody tr th:only-of-type {\n",
       "        vertical-align: middle;\n",
       "    }\n",
       "\n",
       "    .dataframe tbody tr th {\n",
       "        vertical-align: top;\n",
       "    }\n",
       "\n",
       "    .dataframe thead th {\n",
       "        text-align: right;\n",
       "    }\n",
       "</style>\n",
       "<table border=\"1\" class=\"dataframe\">\n",
       "  <thead>\n",
       "    <tr style=\"text-align: right;\">\n",
       "      <th></th>\n",
       "      <th>date</th>\n",
       "      <th>sensor1</th>\n",
       "      <th>sensor2</th>\n",
       "    </tr>\n",
       "  </thead>\n",
       "  <tbody>\n",
       "    <tr>\n",
       "      <th>3</th>\n",
       "      <td>2024-01-04</td>\n",
       "      <td>40</td>\n",
       "      <td>70</td>\n",
       "    </tr>\n",
       "    <tr>\n",
       "      <th>4</th>\n",
       "      <td>2024-01-05</td>\n",
       "      <td>50</td>\n",
       "      <td>60</td>\n",
       "    </tr>\n",
       "  </tbody>\n",
       "</table>\n",
       "</div>"
      ],
      "text/plain": [
       "        date  sensor1  sensor2\n",
       "3 2024-01-04       40       70\n",
       "4 2024-01-05       50       60"
      ]
     },
     "metadata": {},
     "output_type": "display_data"
    }
   ],
   "source": [
    "\n",
    "train_df, test_df = ts_holdout.train_test_split(test_size=0.3)\n",
    "\n",
    "print(\"Train Set:\")\n",
    "display(train_df)\n",
    "\n",
    "print(\"Test Set:\")\n",
    "display(test_df)\n"
   ]
  },
  {
   "cell_type": "markdown",
   "id": "f0f3a505",
   "metadata": {},
   "source": [
    "### Shuffle example"
   ]
  },
  {
   "cell_type": "code",
   "execution_count": 18,
   "id": "2a277d58",
   "metadata": {},
   "outputs": [
    {
     "name": "stdout",
     "output_type": "stream",
     "text": [
      "Train Set:\n"
     ]
    },
    {
     "data": {
      "text/html": [
       "<div>\n",
       "<style scoped>\n",
       "    .dataframe tbody tr th:only-of-type {\n",
       "        vertical-align: middle;\n",
       "    }\n",
       "\n",
       "    .dataframe tbody tr th {\n",
       "        vertical-align: top;\n",
       "    }\n",
       "\n",
       "    .dataframe thead th {\n",
       "        text-align: right;\n",
       "    }\n",
       "</style>\n",
       "<table border=\"1\" class=\"dataframe\">\n",
       "  <thead>\n",
       "    <tr style=\"text-align: right;\">\n",
       "      <th></th>\n",
       "      <th>date</th>\n",
       "      <th>sensor1</th>\n",
       "      <th>sensor2</th>\n",
       "    </tr>\n",
       "  </thead>\n",
       "  <tbody>\n",
       "    <tr>\n",
       "      <th>2</th>\n",
       "      <td>2024-01-03</td>\n",
       "      <td>30</td>\n",
       "      <td>80</td>\n",
       "    </tr>\n",
       "    <tr>\n",
       "      <th>0</th>\n",
       "      <td>2024-01-01</td>\n",
       "      <td>10</td>\n",
       "      <td>100</td>\n",
       "    </tr>\n",
       "    <tr>\n",
       "      <th>4</th>\n",
       "      <td>2024-01-05</td>\n",
       "      <td>50</td>\n",
       "      <td>60</td>\n",
       "    </tr>\n",
       "  </tbody>\n",
       "</table>\n",
       "</div>"
      ],
      "text/plain": [
       "        date  sensor1  sensor2\n",
       "2 2024-01-03       30       80\n",
       "0 2024-01-01       10      100\n",
       "4 2024-01-05       50       60"
      ]
     },
     "metadata": {},
     "output_type": "display_data"
    },
    {
     "name": "stdout",
     "output_type": "stream",
     "text": [
      "Test Set:\n"
     ]
    },
    {
     "data": {
      "text/html": [
       "<div>\n",
       "<style scoped>\n",
       "    .dataframe tbody tr th:only-of-type {\n",
       "        vertical-align: middle;\n",
       "    }\n",
       "\n",
       "    .dataframe tbody tr th {\n",
       "        vertical-align: top;\n",
       "    }\n",
       "\n",
       "    .dataframe thead th {\n",
       "        text-align: right;\n",
       "    }\n",
       "</style>\n",
       "<table border=\"1\" class=\"dataframe\">\n",
       "  <thead>\n",
       "    <tr style=\"text-align: right;\">\n",
       "      <th></th>\n",
       "      <th>date</th>\n",
       "      <th>sensor1</th>\n",
       "      <th>sensor2</th>\n",
       "    </tr>\n",
       "  </thead>\n",
       "  <tbody>\n",
       "    <tr>\n",
       "      <th>1</th>\n",
       "      <td>2024-01-02</td>\n",
       "      <td>20</td>\n",
       "      <td>90</td>\n",
       "    </tr>\n",
       "    <tr>\n",
       "      <th>3</th>\n",
       "      <td>2024-01-04</td>\n",
       "      <td>40</td>\n",
       "      <td>70</td>\n",
       "    </tr>\n",
       "  </tbody>\n",
       "</table>\n",
       "</div>"
      ],
      "text/plain": [
       "        date  sensor1  sensor2\n",
       "1 2024-01-02       20       90\n",
       "3 2024-01-04       40       70"
      ]
     },
     "metadata": {},
     "output_type": "display_data"
    }
   ],
   "source": [
    "\n",
    "train_df, test_df = ts_holdout.train_test_split(test_size=0.3, shuffle=True)\n",
    "\n",
    "print(\"Train Set:\")\n",
    "display(train_df)\n",
    "\n",
    "print(\"Test Set:\")\n",
    "display(test_df)\n"
   ]
  },
  {
   "cell_type": "markdown",
   "id": "6fd61d67",
   "metadata": {},
   "source": [
    "### Use only the 'value' column explicitly"
   ]
  },
  {
   "cell_type": "code",
   "execution_count": 8,
   "id": "730894c0",
   "metadata": {},
   "outputs": [
    {
     "name": "stdout",
     "output_type": "stream",
     "text": [
      "Train Series:\n"
     ]
    },
    {
     "data": {
      "text/plain": [
       "0    10\n",
       "1    20\n",
       "2    30\n",
       "Name: sensor1, dtype: int64"
      ]
     },
     "metadata": {},
     "output_type": "display_data"
    },
    {
     "name": "stdout",
     "output_type": "stream",
     "text": [
      "Test Series:\n"
     ]
    },
    {
     "data": {
      "text/plain": [
       "3    40\n",
       "4    50\n",
       "Name: sensor1, dtype: int64"
      ]
     },
     "metadata": {},
     "output_type": "display_data"
    }
   ],
   "source": [
    "train_series, test_series = ts_holdout.train_test_split(df[\"sensor1\"], test_size=0.4)\n",
    "\n",
    "print(\"Train Series:\")\n",
    "display(train_series)\n",
    "\n",
    "print(\"Test Series:\")\n",
    "display(test_series)\n"
   ]
  },
  {
   "cell_type": "markdown",
   "id": "f54e0326",
   "metadata": {},
   "source": [
    "### Demonstrate stratify function"
   ]
  },
  {
   "cell_type": "markdown",
   "id": "e8f74cbb",
   "metadata": {},
   "source": [
    "Both train and test must maintain the same proportion"
   ]
  },
  {
   "cell_type": "code",
   "execution_count": 4,
   "id": "53c005ca",
   "metadata": {},
   "outputs": [],
   "source": [
    "df = pd.DataFrame({\n",
    "    'feature': range(100),\n",
    "    'label': [0]*65 + [1]*35\n",
    "})\n",
    "\n",
    "config = {\n",
    "    'test_size': 0.2,\n",
    "    'shuffle': True,\n",
    "    'random_state': 42,\n",
    "    'stratify': df['label']\n",
    "}\n",
    "\n",
    "splitter = TimeSeriesHoldout(data=df, pip_config=config)\n",
    "train_df, test_df = splitter.train_test_split(df)"
   ]
  },
  {
   "cell_type": "code",
   "execution_count": 7,
   "id": "adcc727e",
   "metadata": {},
   "outputs": [
    {
     "name": "stdout",
     "output_type": "stream",
     "text": [
      "\n",
      "Original:\n",
      "Class 0: 65.00%\n",
      "Class 1: 35.00%\n",
      "\n",
      "Train:\n",
      "Class 0: 65.00%\n",
      "Class 1: 35.00%\n",
      "\n",
      "Test:\n",
      "Class 0: 65.00%\n",
      "Class 1: 35.00%\n"
     ]
    }
   ],
   "source": [
    "def print_label_percentages(data, title):\n",
    "    total = len(data)\n",
    "    percentages = data['label'].value_counts(normalize=True).sort_index() * 100\n",
    "    print(f'\\n{title}:')\n",
    "    for label, pct in percentages.items():\n",
    "        print(f'Class {label}: {pct:.2f}%')\n",
    "\n",
    "print_label_percentages(df, 'Original')\n",
    "print_label_percentages(train_df, 'Train')\n",
    "print_label_percentages(test_df, 'Test')\n"
   ]
  },
  {
   "cell_type": "code",
   "execution_count": null,
   "id": "906125ca",
   "metadata": {},
   "outputs": [],
   "source": []
  }
 ],
 "metadata": {
  "kernelspec": {
   "display_name": "threewtoolkit",
   "language": "python",
   "name": "python3"
  },
  "language_info": {
   "codemirror_mode": {
    "name": "ipython",
    "version": 3
   },
   "file_extension": ".py",
   "mimetype": "text/x-python",
   "name": "python",
   "nbconvert_exporter": "python",
   "pygments_lexer": "ipython3",
   "version": "3.10.11"
  }
 },
 "nbformat": 4,
 "nbformat_minor": 5
}
